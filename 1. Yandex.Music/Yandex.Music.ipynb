{
 "cells": [
  {
   "cell_type": "code",
   "execution_count": 2,
   "id": "73232948",
   "metadata": {},
   "outputs": [
    {
     "name": "stdout",
     "output_type": "stream",
     "text": [
      "   country capital\n",
      "0  Франция   Париж\n",
      "1   Россия  Москва\n",
      "2    Китай   Пекин\n",
      "3  Мексика  Мехико\n",
      "4   Египет    Каир\n"
     ]
    }
   ],
   "source": [
    "import pandas as pd\n",
    "\n",
    "# подготавливаем данные и названия столбцов \n",
    "\n",
    "atlas = [\n",
    "    ['Франция','Париж'],\n",
    "    ['Россия','Москва'],\n",
    "    ['Китай','Пекин'],\n",
    "    ['Мексика','Мехико'],\n",
    "    ['Египет','Каир'],\n",
    "]\n",
    "geography = ['country', 'capital']\n",
    "\n",
    "# создаём таблицу\n",
    "\n",
    "world_map = pd.DataFrame(data=atlas , columns=geography) # создаём таблицу и сохраняем её в переменную world_map\n",
    "\n",
    "print(world_map) # выводим таблицу на экран \n"
   ]
  },
  {
   "cell_type": "code",
   "execution_count": 8,
   "id": "b98d67a2",
   "metadata": {},
   "outputs": [
    {
     "name": "stdout",
     "output_type": "stream",
     "text": [
      "<class 'pandas.core.frame.DataFrame'>\n",
      "RangeIndex: 67963 entries, 0 to 67962\n",
      "Data columns (total 5 columns):\n",
      " #   Column      Non-Null Count  Dtype  \n",
      "---  ------      --------------  -----  \n",
      " 0     user_id   67963 non-null  object \n",
      " 1   total play  67399 non-null  float64\n",
      " 2   Artist      59647 non-null  object \n",
      " 3   genre       64661 non-null  object \n",
      " 4   track       64804 non-null  object \n",
      "dtypes: float64(1), object(4)\n",
      "memory usage: 2.6+ MB\n",
      "None\n"
     ]
    }
   ],
   "source": [
    "df = pd.read_csv('/Users/danil/Downloads/1/[SLIV.ONE] 03 Базовый Python/[SLIV.ONE] 09 Библиотека pandas/05 Яндекс Музыка обзор данных Work/music_log.csv')\n",
    "\n",
    "shape_table = df.shape\n",
    "\n",
    "observations_info_table = df.info()\n",
    "\n",
    "print(observations_info_table)"
   ]
  },
  {
   "cell_type": "code",
   "execution_count": 28,
   "id": "19357cbe",
   "metadata": {},
   "outputs": [
    {
     "name": "stdout",
     "output_type": "stream",
     "text": [
      "Поп-музыку слушают больше.\n"
     ]
    }
   ],
   "source": [
    "genre_fight = df.loc[:, ['genre', 'Artist']]\n",
    "\n",
    "genre_pop = df[df['genre'] == 'pop']['genre'].count()\n",
    "genre_rock = df[df['genre'] == 'rock']['genre'].count()\n",
    "\n",
    "if genre_pop > genre_rock:\n",
    "    print('Поп-музыку слушают больше.')\n",
    "else:\n",
    "    print('Рок слушают больше.')"
   ]
  },
  {
   "cell_type": "code",
   "execution_count": 46,
   "id": "f0e810a5",
   "metadata": {},
   "outputs": [
    {
     "name": "stdout",
     "output_type": "stream",
     "text": [
      "0.33357803553075904\n",
      "0.345854169089429\n"
     ]
    }
   ],
   "source": [
    "rock = df[df['genre'] == 'rock']\n",
    "rock_time = rock['total play']\n",
    "rock_haters = rock_time[rock_time <= 5].count()\n",
    "\n",
    "pop = df[df['genre'] == 'pop']\n",
    "pop_time = pop['total play']\n",
    "pop_haters = pop_time[pop_time <= 5].count()\n",
    "\n",
    "rock_skip = rock_haters / rock.shape[0]\n",
    "pop_skip = pop_haters / pop.shape[0]\n",
    "\n",
    "print(rock_skip)\n",
    "print(pop_skip)"
   ]
  },
  {
   "cell_type": "code",
   "execution_count": 50,
   "id": "c93c19ed",
   "metadata": {},
   "outputs": [
    {
     "data": {
      "text/plain": [
       "1    1\n",
       "2    1\n",
       "3    1\n",
       "Name: B, dtype: int64"
      ]
     },
     "execution_count": 50,
     "metadata": {},
     "output_type": "execute_result"
    }
   ],
   "source": [
    "board_df = pd.read_csv('/Users/danil/Desktop/Data Science/ЯП Data Science/1/[SLIV.ONE] 03 Базовый Python/[SLIV.ONE] 09 Библиотека pandas/10 work/game_board.csv')\n",
    "\n",
    "board_df.loc[1:3, 'B']"
   ]
  },
  {
   "cell_type": "code",
   "execution_count": null,
   "id": "9427c5be",
   "metadata": {},
   "outputs": [],
   "source": []
  },
  {
   "cell_type": "code",
   "execution_count": 65,
   "id": "597d454f",
   "metadata": {},
   "outputs": [
    {
     "name": "stdout",
     "output_type": "stream",
     "text": [
      "<class 'pandas.core.frame.DataFrame'>\n",
      "RangeIndex: 61212 entries, 0 to 61211\n",
      "Data columns (total 5 columns):\n",
      " #   Column              Non-Null Count  Dtype  \n",
      "---  ------              --------------  -----  \n",
      " 0   user_id             61212 non-null  object \n",
      " 1   total_play_seconds  61212 non-null  float64\n",
      " 2   artist_name         61212 non-null  object \n",
      " 3   genre_name          61212 non-null  object \n",
      " 4   track_name          61212 non-null  object \n",
      "dtypes: float64(1), object(4)\n",
      "memory usage: 2.3+ MB\n"
     ]
    }
   ],
   "source": [
    "df = pd.read_csv('/Users/danil/Desktop/Data Science/ЯП Data Science/1/[SLIV.ONE] 03 Базовый Python/[SLIV.ONE] 10 Предобработка данных/music_log_upd.csv')\n",
    "\n",
    "# print(df.isna().sum()) \n",
    "df.info()"
   ]
  },
  {
   "cell_type": "code",
   "execution_count": null,
   "id": "4cc9e6d3",
   "metadata": {},
   "outputs": [],
   "source": [
    "df = df.rename(columns={'user_id': 'user_id', 'total_play_seconds': 'total_play', 'artist_name': 'artist'}) \n",
    "\n",
    "columns_to_replace = ['track', 'artist', 'genre']\n",
    "for column in columns_to_replace:\n",
    "    df[column] = df[column].fillna('unknown') \n",
    "\n",
    "df = df.drop_duplicates().reset_index() \n",
    "df.head(20)"
   ]
  },
  {
   "cell_type": "code",
   "execution_count": 62,
   "id": "5041042a",
   "metadata": {},
   "outputs": [
    {
     "name": "stdout",
     "output_type": "stream",
     "text": [
      "['pop' 'ambient' 'dance' 'jazz' 'classicmetal' 'electronic' 'indie'\n",
      " 'hiphop' 'spoken' 'new' 'latin' 'extrememetal' 'instrumental' 'classical'\n",
      " 'alternative' 'rock' 'german' 'french' 'soundtrack' 'metal' 'dubstep'\n",
      " 'house' 'miscellaneous' 'rap' 'world' 'country' 'punk' 'rusrap' 'rnb'\n",
      " 'beats' 'ukrrock' 'inspiritual' 'ruspop' 'caucasian' 'rusrock' 'dub'\n",
      " 'folk' 'shanson' 'fairytail' 'hard-n-heavy' 'romance' 'religious'\n",
      " 'hardcore' 'orchestral' 'minimal' 'film' 'spiritual' 'melodic' 'trance'\n",
      " 'comedy' 'reggae' 'deep' 'mpb' 'techno' 'reggaeton' 'singer' 'karaoke'\n",
      " 'children' 'adult' 'western' 'psychedelic' 'grime' 'christian' 'holiday'\n",
      " 'argentinetango' 'disco' 'lounge' 'urban' 'local' 'progressive' 'other'\n",
      " 'funk' 'blues' 'easy' 'dancehall' 'tatar' 'conjazz' 'drum' 'chill' 'jpop'\n",
      " 'fitness' 'gospel' 'brazilian' 'vocal' 'chanson' 'gothic' 'irish' 'k-pop'\n",
      " 'acoustic' 'industrial' 'numetal' 'soul' 'experimental' 'relax' 'mexican'\n",
      " 'videogame' 'glitch' 'worldmusic' 'postrock' 'folkmetal' 'bossa' 'black'\n",
      " 'tech' 'schlager' 'chinese' 'educational' 'russian' 'international'\n",
      " \"hard'n'heavy\" 'animated' 'americana' 'mass' 'downtempo' 'club' 'prog'\n",
      " 'bigroom' 'avantgarde' 'tropical' 'samba' 'jewish' 'epicmetal'\n",
      " 'halloween' 'middle' 'old' 'downbeat' 'gangsta' 'broadway' 'european'\n",
      " 'modern' 'opera' 'türkçe' 'estrada' 'deutschrock' 'posthardcore'\n",
      " 'progmetal' 'axé' 'sport' 'art' 'indian' 'future' 'ska' 'grunge' 'salsa'\n",
      " 'dark' 'synthrock' 'ethnic' 'folkrock' 'trip' 'asiapop' 'speech'\n",
      " 'bassline' 'funky' 'bluegrass' 'fusion' 'chillhouse' 'breaks' 'death'\n",
      " 'thrash' 'power' 'variété' 'post' 'celtic' 'rnr' 'self' 'nu' 'caribbean'\n",
      " 'balkan' 'cantopop' 'breakbeat' 'indonesia' 'regional' 'piano'\n",
      " 'inspirational' 'southern' 'traditional' 'mood' 'rockabilly' 'action'\n",
      " 'uzbek' 'contemporary' 'christmas' 'fado' 'solo' 'handsup' 'electropop'\n",
      " 'canzone' 'lecture' 'bollywood' 'dancepop' 'anime' 'korean' 'eurofolk'\n",
      " 'audiobook' 'garage' 'smooth' 'newage' 'top' 'rancheras' 'native'\n",
      " 'tradjazz' 'cuba' 'arabesk' 'synthpop' 'boleros' 'rhythm' 'swing'\n",
      " 'african' 'folklore' 'colombian' 'stonerrock' 'jam' 'specialty'\n",
      " 'quebecois' 'i̇slami' 'wort' 'afro' 'sertanejo' 'afrikaans' 'baile'\n",
      " 'eastern' 'synthi' 'surf' 'gabba' 'italo' 'tango' 'französisch' 'muslim'\n",
      " 'электроника' 'symphonic' 'dnb' 'japanese' 'cuban' 'acid' 'cantautori'\n",
      " 'idm' 'general' 'devotional' 'skarock' 'yoga' 'mandopop' 'bass'\n",
      " 'flamenco' 'türk' 'jiddisch' 'punjabi' 'symphony' 'entehno' 'latino'\n",
      " 'swingbeat' 'leftfield' 'rhythmic' 'hardstyle' 'crunk' 'hardtrance'\n",
      " 'goth' 'newwave' 'concerto' 'musique' 'meditative' 'bacheta' 'requiem'\n",
      " 'metalcore' 'freestyle' 'standards' 'emo' 'choral' 'drone' 'nujazz'\n",
      " 'roots' 'jumpstyle' 'merengue' 'chamber' 'dirty' 'kürtçe' 'oceania'\n",
      " 'soulful' 'gypsy' 'afrika' 'indipop' 'hymn' 'cajun' 'turbo' 'psychobilly'\n",
      " 'trumpet' 'broken' 'kayokyoku' 'doom' 'polka' 'blip' 'orgel' 'ranchera'\n",
      " 'deutscherock' 'retro' 'oratorio' 'alternativepunk' 'ukr' 'bolero' 'dj'\n",
      " 'acapella' 'djent' 'independent' 'şiir' 'shoegazing' 'rave']\n"
     ]
    }
   ],
   "source": [
    "df.shape\n",
    "df.duplicated().sum()\n",
    "df = df.drop_duplicates().reset_index(drop=True) \n",
    "print(df['genre_name'].unique()) "
   ]
  },
  {
   "cell_type": "code",
   "execution_count": null,
   "id": "3a259dcd",
   "metadata": {},
   "outputs": [],
   "source": []
  },
  {
   "cell_type": "code",
   "execution_count": 68,
   "id": "14c251b7",
   "metadata": {},
   "outputs": [
    {
     "name": "stdout",
     "output_type": "stream",
     "text": [
      "     user_id  total_play_seconds                             artist_name  \\\n",
      "0   BF6EA5AF           92.851388                              Marina Rei   \n",
      "1   FB1E568E          282.981000                            Stive Morgan   \n",
      "2   EF15C7BA            8.966000                                 unknown   \n",
      "3   82F52E69          193.776327                                  Rixton   \n",
      "4   4166D680            3.007000  Henry Hall & His Gleneagles Hotel Band   \n",
      "5    F4F5677            0.100000                                 unknown   \n",
      "6   386FE1ED          211.880000                                 unknown   \n",
      "7   A5E0D927            3.161000                   Andrew Paul Woodworth   \n",
      "8   E9E8A0CA          274.390000                            Pillar Point   \n",
      "9   D3DD8D00            8.836000                          Steve Campbell   \n",
      "10  596A4517            0.000000                            David Civera   \n",
      "11  2E50EDF9          245.040000                            Lumipa Beats   \n",
      "12  79D2876C            2.000000                         Henning Wehland   \n",
      "13  96DA13A1            0.000000                            Пётр Каледин   \n",
      "14  4023830D           46.885000                                ChinKong   \n",
      "\n",
      "      genre_name                            track_name  \n",
      "0            pop                                Musica  \n",
      "1        ambient                           Love Planet  \n",
      "2          dance                   Loving Every Minute  \n",
      "3            pop                Me And My Broken Heart  \n",
      "4           jazz                                  Home  \n",
      "5   classicmetal                               unknown  \n",
      "6     electronic                               Riviera  \n",
      "7            pop  The Name of This Next Song Is Called  \n",
      "8          indie                                  Dove  \n",
      "9           jazz                           Morning Dew  \n",
      "10           pop                               Bye Bye  \n",
      "11        hiphop                                 Cludo  \n",
      "12           pop                    Räuber und Gendarm  \n",
      "13        spoken         Пойти и не вернуться. Глава 1  \n",
      "14         dance                             Live Life  \n"
     ]
    }
   ],
   "source": [
    "df = pd.read_csv('/Users/danil/Desktop/Data Science/ЯП Data Science/1/[SLIV.ONE] 03 Базовый Python/[SLIV.ONE] 11 Анализ данных и оформление результатов/music_log_upd.csv')\n",
    "\n",
    "print(df.head(15)) "
   ]
  },
  {
   "cell_type": "code",
   "execution_count": 69,
   "id": "a3a463ba",
   "metadata": {},
   "outputs": [
    {
     "name": "stdout",
     "output_type": "stream",
     "text": [
      "user_id               0\n",
      "total_play_seconds    0\n",
      "artist_name           0\n",
      "genre_name            0\n",
      "track_name            0\n",
      "dtype: int64\n"
     ]
    }
   ],
   "source": [
    "print(df.isna().sum()) "
   ]
  },
  {
   "cell_type": "code",
   "execution_count": 70,
   "id": "4f96d73d",
   "metadata": {},
   "outputs": [
    {
     "name": "stdout",
     "output_type": "stream",
     "text": [
      "0\n"
     ]
    }
   ],
   "source": [
    "print(df.duplicated().sum()) "
   ]
  },
  {
   "cell_type": "code",
   "execution_count": 71,
   "id": "1e302138",
   "metadata": {},
   "outputs": [
    {
     "data": {
      "text/plain": [
       "Index(['user_id', 'total_play_seconds', 'artist_name', 'genre_name',\n",
       "       'track_name'],\n",
       "      dtype='object')"
      ]
     },
     "execution_count": 71,
     "metadata": {},
     "output_type": "execute_result"
    }
   ],
   "source": [
    "df.columns"
   ]
  },
  {
   "cell_type": "code",
   "execution_count": 72,
   "id": "6b986dcf",
   "metadata": {},
   "outputs": [],
   "source": [
    "na_number = df.isna().sum()"
   ]
  },
  {
   "cell_type": "code",
   "execution_count": 74,
   "id": "393619a7",
   "metadata": {},
   "outputs": [],
   "source": [
    "duplicated_number = df.duplicated().sum()"
   ]
  },
  {
   "cell_type": "code",
   "execution_count": null,
   "id": "ba19b6c7",
   "metadata": {},
   "outputs": [],
   "source": []
  },
  {
   "cell_type": "code",
   "execution_count": 103,
   "id": "61066451",
   "metadata": {},
   "outputs": [
    {
     "name": "stdout",
     "output_type": "stream",
     "text": [
      "0            pop\n",
      "1        ambient\n",
      "2          dance\n",
      "3            pop\n",
      "4           jazz\n",
      "          ...   \n",
      "61207     reggae\n",
      "61208        pop\n",
      "61209      dance\n",
      "61210      metal\n",
      "61211        pop\n",
      "Name: genre_name, Length: 59843, dtype: object\n"
     ]
    }
   ],
   "source": [
    "genre_grouping = df.groupby('user_id')['genre_name']\n",
    "print(genre_grouping.head(10))"
   ]
  },
  {
   "cell_type": "code",
   "execution_count": 104,
   "id": "19a9d4a6",
   "metadata": {},
   "outputs": [],
   "source": [
    "def user_genres(group):\n",
    "    for i in group:\n",
    "        if len(i[1]) > 50:\n",
    "            return i[0]"
   ]
  },
  {
   "cell_type": "code",
   "execution_count": 105,
   "id": "22ce9c9f",
   "metadata": {},
   "outputs": [],
   "source": [
    "search_id = user_genres(genre_grouping)"
   ]
  },
  {
   "cell_type": "code",
   "execution_count": 106,
   "id": "5cb190b7",
   "metadata": {},
   "outputs": [
    {
     "data": {
      "text/plain": [
       "'174C0ED6'"
      ]
     },
     "execution_count": 106,
     "metadata": {},
     "output_type": "execute_result"
    }
   ],
   "source": [
    "search_id"
   ]
  },
  {
   "cell_type": "code",
   "execution_count": 121,
   "id": "c7d411ec",
   "metadata": {},
   "outputs": [],
   "source": [
    "music_user = df[df['user_id'] == search_id]\n",
    "music_user = music_user[music_user['total_play_seconds'] > 0]\n",
    "sum_music_user = music_user.groupby('genre_name')['total_play_seconds'].sum()"
   ]
  },
  {
   "cell_type": "code",
   "execution_count": 124,
   "id": "51e1c502",
   "metadata": {},
   "outputs": [
    {
     "data": {
      "text/plain": [
       "genre_name\n",
       "alternative      1\n",
       "bacheta          1\n",
       "boleros          1\n",
       "children         1\n",
       "dance            2\n",
       "easy             5\n",
       "electronic       5\n",
       "folk             1\n",
       "hiphop           3\n",
       "instrumental     1\n",
       "jazz             6\n",
       "latin            4\n",
       "pop             30\n",
       "rap              1\n",
       "rock             4\n",
       "soundtrack       1\n",
       "spiritual        1\n",
       "top              1\n",
       "urban            1\n",
       "world            1\n",
       "Name: genre_name, dtype: int64"
      ]
     },
     "execution_count": 124,
     "metadata": {},
     "output_type": "execute_result"
    }
   ],
   "source": [
    "count_music_user = music_user.groupby('genre_name')['genre_name'].count()\n",
    "count_music_user"
   ]
  },
  {
   "cell_type": "code",
   "execution_count": 126,
   "id": "e40c0e48",
   "metadata": {},
   "outputs": [
    {
     "data": {
      "text/plain": [
       "genre_name\n",
       "pop             480.814559\n",
       "jazz             95.539506\n",
       "electronic       95.148723\n",
       "rock             70.778604\n",
       "easy             60.838524\n",
       "latin            32.562321\n",
       "instrumental     28.233265\n",
       "bacheta          24.841131\n",
       "hiphop           20.595967\n",
       "dance            17.060924\n",
       "boleros          12.525643\n",
       "spiritual        11.078248\n",
       "world            10.194734\n",
       "top               9.345213\n",
       "soundtrack        7.230859\n",
       "alternative       6.011604\n",
       "folk              5.753263\n",
       "urban             5.746300\n",
       "children          5.345668\n",
       "rap               3.980564\n",
       "Name: total_play_seconds, dtype: float64"
      ]
     },
     "execution_count": 126,
     "metadata": {},
     "output_type": "execute_result"
    }
   ],
   "source": [
    "final_sum = sum_music_user.sort_values(ascending=False)\n",
    "final_sum"
   ]
  },
  {
   "cell_type": "code",
   "execution_count": 127,
   "id": "d74d45c5",
   "metadata": {},
   "outputs": [
    {
     "data": {
      "text/plain": [
       "genre_name\n",
       "pop             30\n",
       "jazz             6\n",
       "easy             5\n",
       "electronic       5\n",
       "rock             4\n",
       "latin            4\n",
       "hiphop           3\n",
       "dance            2\n",
       "rap              1\n",
       "urban            1\n",
       "top              1\n",
       "spiritual        1\n",
       "soundtrack       1\n",
       "alternative      1\n",
       "bacheta          1\n",
       "instrumental     1\n",
       "folk             1\n",
       "children         1\n",
       "boleros          1\n",
       "world            1\n",
       "Name: genre_name, dtype: int64"
      ]
     },
     "execution_count": 127,
     "metadata": {},
     "output_type": "execute_result"
    }
   ],
   "source": [
    "final_count = count_music_user.sort_values(ascending=False)\n",
    "final_count"
   ]
  },
  {
   "cell_type": "code",
   "execution_count": 143,
   "id": "f21f059f",
   "metadata": {},
   "outputs": [
    {
     "data": {
      "text/html": [
       "<div>\n",
       "<style scoped>\n",
       "    .dataframe tbody tr th:only-of-type {\n",
       "        vertical-align: middle;\n",
       "    }\n",
       "\n",
       "    .dataframe tbody tr th {\n",
       "        vertical-align: top;\n",
       "    }\n",
       "\n",
       "    .dataframe thead th {\n",
       "        text-align: right;\n",
       "    }\n",
       "</style>\n",
       "<table border=\"1\" class=\"dataframe\">\n",
       "  <thead>\n",
       "    <tr style=\"text-align: right;\">\n",
       "      <th></th>\n",
       "      <th>user_id</th>\n",
       "      <th>total_play_seconds</th>\n",
       "      <th>artist_name</th>\n",
       "      <th>genre_name</th>\n",
       "      <th>track_name</th>\n",
       "    </tr>\n",
       "  </thead>\n",
       "  <tbody>\n",
       "    <tr>\n",
       "      <th>58075</th>\n",
       "      <td>FF13D5C6</td>\n",
       "      <td>1158.028045</td>\n",
       "      <td>Cinders</td>\n",
       "      <td>pop</td>\n",
       "      <td>Sleep Walking</td>\n",
       "    </tr>\n",
       "  </tbody>\n",
       "</table>\n",
       "</div>"
      ],
      "text/plain": [
       "        user_id  total_play_seconds artist_name genre_name     track_name\n",
       "58075  FF13D5C6         1158.028045     Cinders        pop  Sleep Walking"
      ]
     },
     "execution_count": 143,
     "metadata": {},
     "output_type": "execute_result"
    }
   ],
   "source": [
    "pop_music = df[df['genre_name'] == 'pop'] \n",
    "pop_music = pop_music[pop_music['total_play_seconds'] != 0] \n",
    "pop_music_max_total_play = pop_music['total_play_seconds'].max()\n",
    "pop_music_max_info = pop_music[pop_music['total_play_seconds'] == pop_music['total_play_seconds'].max()]\n",
    "pop_music_max_info"
   ]
  },
  {
   "cell_type": "code",
   "execution_count": 148,
   "id": "ea6c86a7",
   "metadata": {},
   "outputs": [
    {
     "data": {
      "text/plain": [
       "98.37319899786907"
      ]
     },
     "execution_count": 148,
     "metadata": {},
     "output_type": "execute_result"
    }
   ],
   "source": [
    "pop_music = pop_music[pop_music['total_play_seconds'] != 0] \n",
    "pop_music_min_total_play = pop_music['total_play_seconds'].min()\n",
    "pop_music_median = pop_music['total_play_seconds'].median()\n",
    "pop_music_mean = pop_music['total_play_seconds'].mean()\n",
    "pop_music_mean"
   ]
  },
  {
   "cell_type": "code",
   "execution_count": 151,
   "id": "4bc5d55a",
   "metadata": {},
   "outputs": [
    {
     "name": "stderr",
     "output_type": "stream",
     "text": [
      "/var/folders/r8/f9pnzbcd4rq_1f11k5rtm6w40000gn/T/ipykernel_59424/2131402257.py:1: FutureWarning: The default value of numeric_only in DataFrameGroupBy.sum is deprecated. In a future version, numeric_only will default to False. Either specify numeric_only or select only columns which should be valid for the function.\n",
      "  current_engagement = df.groupby('user_id').sum().median()\n"
     ]
    },
    {
     "data": {
      "text/plain": [
       "total_play_seconds    62.344431\n",
       "dtype: float64"
      ]
     },
     "execution_count": 151,
     "metadata": {},
     "output_type": "execute_result"
    }
   ],
   "source": [
    "current_engagement = df.groupby('user_id').sum().median()\n",
    "current_engagement"
   ]
  },
  {
   "cell_type": "code",
   "execution_count": 158,
   "id": "95cf4173",
   "metadata": {},
   "outputs": [
    {
     "data": {
      "text/plain": [
       "0.0"
      ]
     },
     "execution_count": 158,
     "metadata": {},
     "output_type": "execute_result"
    }
   ],
   "source": [
    "genre_rock = df[df['genre_name'] == 'rock'] \n",
    "genre_rock = genre_rock[genre_rock['genre_name'] != 0] \n",
    "genre_rock_max = genre_rock['total_play_seconds'].max()\n",
    "genre_rock_min = genre_rock['total_play_seconds'].min()\n",
    "genre_rock_min"
   ]
  },
  {
   "cell_type": "code",
   "execution_count": 159,
   "id": "8d82d7d7",
   "metadata": {},
   "outputs": [
    {
     "data": {
      "text/html": [
       "<div>\n",
       "<style scoped>\n",
       "    .dataframe tbody tr th:only-of-type {\n",
       "        vertical-align: middle;\n",
       "    }\n",
       "\n",
       "    .dataframe tbody tr th {\n",
       "        vertical-align: top;\n",
       "    }\n",
       "\n",
       "    .dataframe thead th {\n",
       "        text-align: right;\n",
       "    }\n",
       "</style>\n",
       "<table border=\"1\" class=\"dataframe\">\n",
       "  <thead>\n",
       "    <tr style=\"text-align: right;\">\n",
       "      <th></th>\n",
       "      <th>genre_name</th>\n",
       "      <th>total_track</th>\n",
       "      <th>skip_track</th>\n",
       "      <th>max_total_time</th>\n",
       "      <th>min_total_time</th>\n",
       "    </tr>\n",
       "  </thead>\n",
       "  <tbody>\n",
       "    <tr>\n",
       "      <th>0</th>\n",
       "      <td>pop</td>\n",
       "      <td>8663</td>\n",
       "      <td>34.6</td>\n",
       "      <td>1158.03000</td>\n",
       "      <td>0.000794</td>\n",
       "    </tr>\n",
       "    <tr>\n",
       "      <th>1</th>\n",
       "      <td>rock</td>\n",
       "      <td>6828</td>\n",
       "      <td>33.3</td>\n",
       "      <td>1699.14882</td>\n",
       "      <td>0.014183</td>\n",
       "    </tr>\n",
       "  </tbody>\n",
       "</table>\n",
       "</div>"
      ],
      "text/plain": [
       "  genre_name  total_track  skip_track  max_total_time  min_total_time\n",
       "0        pop         8663        34.6      1158.03000        0.000794\n",
       "1       rock         6828        33.3      1699.14882        0.014183"
      ]
     },
     "execution_count": 159,
     "metadata": {},
     "output_type": "execute_result"
    }
   ],
   "source": [
    "data = [['pop', 8663, 34.6, 1158.03, 0.000794],\n",
    "        ['rock', 6828, 33.3, 1699.14882, 0.014183]]\n",
    "columns = ['genre_name','total_track','skip_track','max_total_time','min_total_time']\n",
    "\n",
    "research_genres_result = pd.DataFrame(data=data, columns=columns)\n",
    "research_genres_result"
   ]
  },
  {
   "cell_type": "code",
   "execution_count": null,
   "id": "12c01009",
   "metadata": {},
   "outputs": [],
   "source": []
  },
  {
   "cell_type": "code",
   "execution_count": null,
   "id": "87c20478",
   "metadata": {},
   "outputs": [],
   "source": []
  },
  {
   "cell_type": "code",
   "execution_count": null,
   "id": "46a643f8",
   "metadata": {},
   "outputs": [],
   "source": []
  },
  {
   "cell_type": "code",
   "execution_count": null,
   "id": "5e55cf53",
   "metadata": {},
   "outputs": [],
   "source": []
  },
  {
   "cell_type": "code",
   "execution_count": null,
   "id": "effd04d5",
   "metadata": {},
   "outputs": [],
   "source": []
  },
  {
   "cell_type": "code",
   "execution_count": null,
   "id": "5cda7443",
   "metadata": {},
   "outputs": [],
   "source": []
  },
  {
   "cell_type": "code",
   "execution_count": null,
   "id": "d77110a9",
   "metadata": {},
   "outputs": [],
   "source": []
  },
  {
   "cell_type": "code",
   "execution_count": null,
   "id": "37ec53f0",
   "metadata": {},
   "outputs": [],
   "source": []
  },
  {
   "cell_type": "code",
   "execution_count": null,
   "id": "8950f3bc",
   "metadata": {},
   "outputs": [],
   "source": []
  },
  {
   "cell_type": "code",
   "execution_count": 174,
   "id": "5f55f958",
   "metadata": {},
   "outputs": [],
   "source": [
    "df = pd.read_csv('/Users/danil/Downloads/yandex_music_project.csv')"
   ]
  },
  {
   "cell_type": "code",
   "execution_count": 176,
   "id": "77b3476b",
   "metadata": {},
   "outputs": [
    {
     "data": {
      "text/html": [
       "<div>\n",
       "<style scoped>\n",
       "    .dataframe tbody tr th:only-of-type {\n",
       "        vertical-align: middle;\n",
       "    }\n",
       "\n",
       "    .dataframe tbody tr th {\n",
       "        vertical-align: top;\n",
       "    }\n",
       "\n",
       "    .dataframe thead th {\n",
       "        text-align: right;\n",
       "    }\n",
       "</style>\n",
       "<table border=\"1\" class=\"dataframe\">\n",
       "  <thead>\n",
       "    <tr style=\"text-align: right;\">\n",
       "      <th></th>\n",
       "      <th>userID</th>\n",
       "      <th>Track</th>\n",
       "      <th>artist</th>\n",
       "      <th>genre</th>\n",
       "      <th>City</th>\n",
       "      <th>time</th>\n",
       "      <th>Day</th>\n",
       "    </tr>\n",
       "  </thead>\n",
       "  <tbody>\n",
       "    <tr>\n",
       "      <th>0</th>\n",
       "      <td>FFB692EC</td>\n",
       "      <td>Kamigata To Boots</td>\n",
       "      <td>The Mass Missile</td>\n",
       "      <td>rock</td>\n",
       "      <td>Saint-Petersburg</td>\n",
       "      <td>20:28:33</td>\n",
       "      <td>Wednesday</td>\n",
       "    </tr>\n",
       "    <tr>\n",
       "      <th>1</th>\n",
       "      <td>55204538</td>\n",
       "      <td>Delayed Because of Accident</td>\n",
       "      <td>Andreas Rönnberg</td>\n",
       "      <td>rock</td>\n",
       "      <td>Moscow</td>\n",
       "      <td>14:07:09</td>\n",
       "      <td>Friday</td>\n",
       "    </tr>\n",
       "    <tr>\n",
       "      <th>2</th>\n",
       "      <td>20EC38</td>\n",
       "      <td>Funiculì funiculà</td>\n",
       "      <td>Mario Lanza</td>\n",
       "      <td>pop</td>\n",
       "      <td>Saint-Petersburg</td>\n",
       "      <td>20:58:07</td>\n",
       "      <td>Wednesday</td>\n",
       "    </tr>\n",
       "    <tr>\n",
       "      <th>3</th>\n",
       "      <td>A3DD03C9</td>\n",
       "      <td>Dragons in the Sunset</td>\n",
       "      <td>Fire + Ice</td>\n",
       "      <td>folk</td>\n",
       "      <td>Saint-Petersburg</td>\n",
       "      <td>08:37:09</td>\n",
       "      <td>Monday</td>\n",
       "    </tr>\n",
       "    <tr>\n",
       "      <th>4</th>\n",
       "      <td>E2DC1FAE</td>\n",
       "      <td>Soul People</td>\n",
       "      <td>Space Echo</td>\n",
       "      <td>dance</td>\n",
       "      <td>Moscow</td>\n",
       "      <td>08:34:34</td>\n",
       "      <td>Monday</td>\n",
       "    </tr>\n",
       "    <tr>\n",
       "      <th>...</th>\n",
       "      <td>...</td>\n",
       "      <td>...</td>\n",
       "      <td>...</td>\n",
       "      <td>...</td>\n",
       "      <td>...</td>\n",
       "      <td>...</td>\n",
       "      <td>...</td>\n",
       "    </tr>\n",
       "    <tr>\n",
       "      <th>65074</th>\n",
       "      <td>729CBB09</td>\n",
       "      <td>My Name</td>\n",
       "      <td>McLean</td>\n",
       "      <td>rnb</td>\n",
       "      <td>Moscow</td>\n",
       "      <td>13:32:28</td>\n",
       "      <td>Wednesday</td>\n",
       "    </tr>\n",
       "    <tr>\n",
       "      <th>65075</th>\n",
       "      <td>D08D4A55</td>\n",
       "      <td>Maybe One Day (feat. Black Spade)</td>\n",
       "      <td>Blu &amp; Exile</td>\n",
       "      <td>hip</td>\n",
       "      <td>Saint-Petersburg</td>\n",
       "      <td>10:00:00</td>\n",
       "      <td>Monday</td>\n",
       "    </tr>\n",
       "    <tr>\n",
       "      <th>65076</th>\n",
       "      <td>C5E3A0D5</td>\n",
       "      <td>Jalopiina</td>\n",
       "      <td>NaN</td>\n",
       "      <td>industrial</td>\n",
       "      <td>Moscow</td>\n",
       "      <td>20:09:26</td>\n",
       "      <td>Friday</td>\n",
       "    </tr>\n",
       "    <tr>\n",
       "      <th>65077</th>\n",
       "      <td>321D0506</td>\n",
       "      <td>Freight Train</td>\n",
       "      <td>Chas McDevitt</td>\n",
       "      <td>rock</td>\n",
       "      <td>Moscow</td>\n",
       "      <td>21:43:59</td>\n",
       "      <td>Friday</td>\n",
       "    </tr>\n",
       "    <tr>\n",
       "      <th>65078</th>\n",
       "      <td>3A64EF84</td>\n",
       "      <td>Tell Me Sweet Little Lies</td>\n",
       "      <td>Monica Lopez</td>\n",
       "      <td>country</td>\n",
       "      <td>Moscow</td>\n",
       "      <td>21:59:46</td>\n",
       "      <td>Friday</td>\n",
       "    </tr>\n",
       "  </tbody>\n",
       "</table>\n",
       "<p>65079 rows × 7 columns</p>\n",
       "</div>"
      ],
      "text/plain": [
       "         userID                              Track            artist  \\\n",
       "0      FFB692EC                  Kamigata To Boots  The Mass Missile   \n",
       "1      55204538        Delayed Because of Accident  Andreas Rönnberg   \n",
       "2        20EC38                  Funiculì funiculà       Mario Lanza   \n",
       "3      A3DD03C9              Dragons in the Sunset        Fire + Ice   \n",
       "4      E2DC1FAE                        Soul People        Space Echo   \n",
       "...         ...                                ...               ...   \n",
       "65074  729CBB09                            My Name            McLean   \n",
       "65075  D08D4A55  Maybe One Day (feat. Black Spade)       Blu & Exile   \n",
       "65076  C5E3A0D5                          Jalopiina               NaN   \n",
       "65077  321D0506                      Freight Train     Chas McDevitt   \n",
       "65078  3A64EF84          Tell Me Sweet Little Lies      Monica Lopez   \n",
       "\n",
       "            genre            City        time        Day  \n",
       "0            rock  Saint-Petersburg  20:28:33  Wednesday  \n",
       "1            rock            Moscow  14:07:09     Friday  \n",
       "2             pop  Saint-Petersburg  20:58:07  Wednesday  \n",
       "3            folk  Saint-Petersburg  08:37:09     Monday  \n",
       "4           dance            Moscow  08:34:34     Monday  \n",
       "...           ...               ...       ...        ...  \n",
       "65074         rnb            Moscow  13:32:28  Wednesday  \n",
       "65075         hip  Saint-Petersburg  10:00:00     Monday  \n",
       "65076  industrial            Moscow  20:09:26     Friday  \n",
       "65077        rock            Moscow  21:43:59     Friday  \n",
       "65078     country            Moscow  21:59:46     Friday  \n",
       "\n",
       "[65079 rows x 7 columns]"
      ]
     },
     "execution_count": 176,
     "metadata": {},
     "output_type": "execute_result"
    }
   ],
   "source": [
    "df"
   ]
  },
  {
   "cell_type": "code",
   "execution_count": 179,
   "id": "919685fe",
   "metadata": {},
   "outputs": [
    {
     "data": {
      "text/plain": [
       "Index(['  userID', 'Track', 'artist', 'genre', '  City  ', 'time', 'Day'], dtype='object')"
      ]
     },
     "execution_count": 179,
     "metadata": {},
     "output_type": "execute_result"
    }
   ],
   "source": [
    "grouped = df.columns\n",
    "grouped"
   ]
  },
  {
   "cell_type": "code",
   "execution_count": 172,
   "id": "7736dc6a",
   "metadata": {},
   "outputs": [
    {
     "ename": "KeyError",
     "evalue": "'City'",
     "output_type": "error",
     "traceback": [
      "\u001b[0;31m---------------------------------------------------------------------------\u001b[0m",
      "\u001b[0;31mKeyError\u001b[0m                                  Traceback (most recent call last)",
      "Cell \u001b[0;32mIn [172], line 2\u001b[0m\n\u001b[1;32m      1\u001b[0m \u001b[38;5;66;03m# хорошо\u001b[39;00m\n\u001b[0;32m----> 2\u001b[0m df\u001b[38;5;241m.\u001b[39mgroupby(by\u001b[38;5;241m=\u001b[39m\u001b[38;5;124m'\u001b[39m\u001b[38;5;124mCity\u001b[39m\u001b[38;5;124m'\u001b[39m)[\u001b[38;5;124m'\u001b[39m\u001b[38;5;124mgenre\u001b[39m\u001b[38;5;124m'\u001b[39m]\u001b[38;5;241m.\u001b[39mcount()\n",
      "File \u001b[0;32m/Library/Frameworks/Python.framework/Versions/3.8/lib/python3.8/site-packages/pandas/core/frame.py:8392\u001b[0m, in \u001b[0;36mDataFrame.groupby\u001b[0;34m(self, by, axis, level, as_index, sort, group_keys, squeeze, observed, dropna)\u001b[0m\n\u001b[1;32m   8389\u001b[0m     \u001b[38;5;28;01mraise\u001b[39;00m \u001b[38;5;167;01mTypeError\u001b[39;00m(\u001b[38;5;124m\"\u001b[39m\u001b[38;5;124mYou have to supply one of \u001b[39m\u001b[38;5;124m'\u001b[39m\u001b[38;5;124mby\u001b[39m\u001b[38;5;124m'\u001b[39m\u001b[38;5;124m and \u001b[39m\u001b[38;5;124m'\u001b[39m\u001b[38;5;124mlevel\u001b[39m\u001b[38;5;124m'\u001b[39m\u001b[38;5;124m\"\u001b[39m)\n\u001b[1;32m   8390\u001b[0m axis \u001b[38;5;241m=\u001b[39m \u001b[38;5;28mself\u001b[39m\u001b[38;5;241m.\u001b[39m_get_axis_number(axis)\n\u001b[0;32m-> 8392\u001b[0m \u001b[38;5;28;01mreturn\u001b[39;00m \u001b[43mDataFrameGroupBy\u001b[49m\u001b[43m(\u001b[49m\n\u001b[1;32m   8393\u001b[0m \u001b[43m    \u001b[49m\u001b[43mobj\u001b[49m\u001b[38;5;241;43m=\u001b[39;49m\u001b[38;5;28;43mself\u001b[39;49m\u001b[43m,\u001b[49m\n\u001b[1;32m   8394\u001b[0m \u001b[43m    \u001b[49m\u001b[43mkeys\u001b[49m\u001b[38;5;241;43m=\u001b[39;49m\u001b[43mby\u001b[49m\u001b[43m,\u001b[49m\n\u001b[1;32m   8395\u001b[0m \u001b[43m    \u001b[49m\u001b[43maxis\u001b[49m\u001b[38;5;241;43m=\u001b[39;49m\u001b[43maxis\u001b[49m\u001b[43m,\u001b[49m\n\u001b[1;32m   8396\u001b[0m \u001b[43m    \u001b[49m\u001b[43mlevel\u001b[49m\u001b[38;5;241;43m=\u001b[39;49m\u001b[43mlevel\u001b[49m\u001b[43m,\u001b[49m\n\u001b[1;32m   8397\u001b[0m \u001b[43m    \u001b[49m\u001b[43mas_index\u001b[49m\u001b[38;5;241;43m=\u001b[39;49m\u001b[43mas_index\u001b[49m\u001b[43m,\u001b[49m\n\u001b[1;32m   8398\u001b[0m \u001b[43m    \u001b[49m\u001b[43msort\u001b[49m\u001b[38;5;241;43m=\u001b[39;49m\u001b[43msort\u001b[49m\u001b[43m,\u001b[49m\n\u001b[1;32m   8399\u001b[0m \u001b[43m    \u001b[49m\u001b[43mgroup_keys\u001b[49m\u001b[38;5;241;43m=\u001b[39;49m\u001b[43mgroup_keys\u001b[49m\u001b[43m,\u001b[49m\n\u001b[1;32m   8400\u001b[0m \u001b[43m    \u001b[49m\u001b[43msqueeze\u001b[49m\u001b[38;5;241;43m=\u001b[39;49m\u001b[43msqueeze\u001b[49m\u001b[43m,\u001b[49m\n\u001b[1;32m   8401\u001b[0m \u001b[43m    \u001b[49m\u001b[43mobserved\u001b[49m\u001b[38;5;241;43m=\u001b[39;49m\u001b[43mobserved\u001b[49m\u001b[43m,\u001b[49m\n\u001b[1;32m   8402\u001b[0m \u001b[43m    \u001b[49m\u001b[43mdropna\u001b[49m\u001b[38;5;241;43m=\u001b[39;49m\u001b[43mdropna\u001b[49m\u001b[43m,\u001b[49m\n\u001b[1;32m   8403\u001b[0m \u001b[43m\u001b[49m\u001b[43m)\u001b[49m\n",
      "File \u001b[0;32m/Library/Frameworks/Python.framework/Versions/3.8/lib/python3.8/site-packages/pandas/core/groupby/groupby.py:959\u001b[0m, in \u001b[0;36mGroupBy.__init__\u001b[0;34m(self, obj, keys, axis, level, grouper, exclusions, selection, as_index, sort, group_keys, squeeze, observed, mutated, dropna)\u001b[0m\n\u001b[1;32m    956\u001b[0m \u001b[38;5;28;01mif\u001b[39;00m grouper \u001b[38;5;129;01mis\u001b[39;00m \u001b[38;5;28;01mNone\u001b[39;00m:\n\u001b[1;32m    957\u001b[0m     \u001b[38;5;28;01mfrom\u001b[39;00m \u001b[38;5;21;01mpandas\u001b[39;00m\u001b[38;5;21;01m.\u001b[39;00m\u001b[38;5;21;01mcore\u001b[39;00m\u001b[38;5;21;01m.\u001b[39;00m\u001b[38;5;21;01mgroupby\u001b[39;00m\u001b[38;5;21;01m.\u001b[39;00m\u001b[38;5;21;01mgrouper\u001b[39;00m \u001b[38;5;28;01mimport\u001b[39;00m get_grouper\n\u001b[0;32m--> 959\u001b[0m     grouper, exclusions, obj \u001b[38;5;241m=\u001b[39m \u001b[43mget_grouper\u001b[49m\u001b[43m(\u001b[49m\n\u001b[1;32m    960\u001b[0m \u001b[43m        \u001b[49m\u001b[43mobj\u001b[49m\u001b[43m,\u001b[49m\n\u001b[1;32m    961\u001b[0m \u001b[43m        \u001b[49m\u001b[43mkeys\u001b[49m\u001b[43m,\u001b[49m\n\u001b[1;32m    962\u001b[0m \u001b[43m        \u001b[49m\u001b[43maxis\u001b[49m\u001b[38;5;241;43m=\u001b[39;49m\u001b[43maxis\u001b[49m\u001b[43m,\u001b[49m\n\u001b[1;32m    963\u001b[0m \u001b[43m        \u001b[49m\u001b[43mlevel\u001b[49m\u001b[38;5;241;43m=\u001b[39;49m\u001b[43mlevel\u001b[49m\u001b[43m,\u001b[49m\n\u001b[1;32m    964\u001b[0m \u001b[43m        \u001b[49m\u001b[43msort\u001b[49m\u001b[38;5;241;43m=\u001b[39;49m\u001b[43msort\u001b[49m\u001b[43m,\u001b[49m\n\u001b[1;32m    965\u001b[0m \u001b[43m        \u001b[49m\u001b[43mobserved\u001b[49m\u001b[38;5;241;43m=\u001b[39;49m\u001b[43mobserved\u001b[49m\u001b[43m,\u001b[49m\n\u001b[1;32m    966\u001b[0m \u001b[43m        \u001b[49m\u001b[43mmutated\u001b[49m\u001b[38;5;241;43m=\u001b[39;49m\u001b[38;5;28;43mself\u001b[39;49m\u001b[38;5;241;43m.\u001b[39;49m\u001b[43mmutated\u001b[49m\u001b[43m,\u001b[49m\n\u001b[1;32m    967\u001b[0m \u001b[43m        \u001b[49m\u001b[43mdropna\u001b[49m\u001b[38;5;241;43m=\u001b[39;49m\u001b[38;5;28;43mself\u001b[39;49m\u001b[38;5;241;43m.\u001b[39;49m\u001b[43mdropna\u001b[49m\u001b[43m,\u001b[49m\n\u001b[1;32m    968\u001b[0m \u001b[43m    \u001b[49m\u001b[43m)\u001b[49m\n\u001b[1;32m    970\u001b[0m \u001b[38;5;28mself\u001b[39m\u001b[38;5;241m.\u001b[39mobj \u001b[38;5;241m=\u001b[39m obj\n\u001b[1;32m    971\u001b[0m \u001b[38;5;28mself\u001b[39m\u001b[38;5;241m.\u001b[39maxis \u001b[38;5;241m=\u001b[39m obj\u001b[38;5;241m.\u001b[39m_get_axis_number(axis)\n",
      "File \u001b[0;32m/Library/Frameworks/Python.framework/Versions/3.8/lib/python3.8/site-packages/pandas/core/groupby/grouper.py:889\u001b[0m, in \u001b[0;36mget_grouper\u001b[0;34m(obj, key, axis, level, sort, observed, mutated, validate, dropna)\u001b[0m\n\u001b[1;32m    887\u001b[0m         in_axis, level, gpr \u001b[38;5;241m=\u001b[39m \u001b[38;5;28;01mFalse\u001b[39;00m, gpr, \u001b[38;5;28;01mNone\u001b[39;00m\n\u001b[1;32m    888\u001b[0m     \u001b[38;5;28;01melse\u001b[39;00m:\n\u001b[0;32m--> 889\u001b[0m         \u001b[38;5;28;01mraise\u001b[39;00m \u001b[38;5;167;01mKeyError\u001b[39;00m(gpr)\n\u001b[1;32m    890\u001b[0m \u001b[38;5;28;01melif\u001b[39;00m \u001b[38;5;28misinstance\u001b[39m(gpr, Grouper) \u001b[38;5;129;01mand\u001b[39;00m gpr\u001b[38;5;241m.\u001b[39mkey \u001b[38;5;129;01mis\u001b[39;00m \u001b[38;5;129;01mnot\u001b[39;00m \u001b[38;5;28;01mNone\u001b[39;00m:\n\u001b[1;32m    891\u001b[0m     \u001b[38;5;66;03m# Add key to exclusions\u001b[39;00m\n\u001b[1;32m    892\u001b[0m     exclusions\u001b[38;5;241m.\u001b[39madd(gpr\u001b[38;5;241m.\u001b[39mkey)\n",
      "\u001b[0;31mKeyError\u001b[0m: 'City'"
     ]
    }
   ],
   "source": [
    "# хорошо\n",
    "df.groupby('City')['genre'].count()\n",
    "# df[df['City'] == 'Moscow']['user_id'].count()\n",
    "\n",
    "# # хуже\n",
    "# df.groupby('сity').count()\n",
    "# df[df['city'] == 'Moscow'].count() "
   ]
  },
  {
   "cell_type": "code",
   "execution_count": null,
   "id": "d6a811c2",
   "metadata": {},
   "outputs": [],
   "source": []
  },
  {
   "cell_type": "code",
   "execution_count": null,
   "id": "f39fcfd4",
   "metadata": {},
   "outputs": [],
   "source": []
  },
  {
   "cell_type": "code",
   "execution_count": null,
   "id": "a97614ba",
   "metadata": {},
   "outputs": [],
   "source": []
  },
  {
   "cell_type": "code",
   "execution_count": null,
   "id": "2c8ba899",
   "metadata": {},
   "outputs": [],
   "source": []
  },
  {
   "cell_type": "code",
   "execution_count": null,
   "id": "eb5ee15c",
   "metadata": {},
   "outputs": [],
   "source": []
  },
  {
   "cell_type": "code",
   "execution_count": null,
   "id": "bcc37a0c",
   "metadata": {},
   "outputs": [],
   "source": []
  },
  {
   "cell_type": "code",
   "execution_count": null,
   "id": "aa573211",
   "metadata": {},
   "outputs": [],
   "source": []
  },
  {
   "cell_type": "code",
   "execution_count": null,
   "id": "94ffac42",
   "metadata": {},
   "outputs": [],
   "source": []
  },
  {
   "cell_type": "code",
   "execution_count": null,
   "id": "1bafec4f",
   "metadata": {},
   "outputs": [],
   "source": []
  },
  {
   "cell_type": "code",
   "execution_count": null,
   "id": "3fa57b1b",
   "metadata": {},
   "outputs": [],
   "source": []
  }
 ],
 "metadata": {
  "kernelspec": {
   "display_name": "Python 3 (ipykernel)",
   "language": "python",
   "name": "python3"
  },
  "language_info": {
   "codemirror_mode": {
    "name": "ipython",
    "version": 3
   },
   "file_extension": ".py",
   "mimetype": "text/x-python",
   "name": "python",
   "nbconvert_exporter": "python",
   "pygments_lexer": "ipython3",
   "version": "3.8.8"
  }
 },
 "nbformat": 4,
 "nbformat_minor": 5
}
