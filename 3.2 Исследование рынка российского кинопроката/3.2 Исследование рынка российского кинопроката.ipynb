{
 "cells": [
  {
   "cell_type": "markdown",
   "metadata": {
    "id": "sIfNaMOxgFyK"
   },
   "source": [
    "## Исследование данных о российском кинопрокате\n",
    "\n"
   ]
  },
  {
   "cell_type": "markdown",
   "metadata": {
    "id": "3bSlkCsbgFyL"
   },
   "source": [
    "### Шаг 1. Откройте файлы с данными и объедините их в один датафрейм. \n",
    "\n",
    "Объедините данные таким образом, чтобы все объекты из датасета `mkrf_movies` обязательно вошли в получившийся датафрейм. \n",
    "\n",
    "<div id=\"accordion\">\n",
    "    <div class=\"card\">\n",
    "        <div class=\"card-header\" id=\"headingThree\">\n",
    "            <button class=\"btn btn-link collapsed\" data-toggle=\"collapse\" data-target=\"#collapseHint_0\" aria-expanded=\"false\" aria-controls=\"collapseHint_0\">Подсказка</button>\n",
    "        </div>\n",
    "        <div id=\"collapseHint_0\" class=\"collapse\" aria-labelledby=\"headingThree\" data-parent=\"#accordion\">\n",
    "            <div class=\"card-body\">\n",
    "Обратите внимание на тип данных столбца, по которому будете соединять датафреймы. Тип данных этих столбцов должен быть одинаковым в обоих датафреймах.\n",
    "            </div>\n",
    "        </div>\n",
    "    </div>\n",
    "</div>"
   ]
  },
  {
   "cell_type": "code",
   "execution_count": 680,
   "metadata": {},
   "outputs": [],
   "source": [
    "# Импортируем библиотеку pyplot\n",
    "\n",
    "import matplotlib.pyplot as plt"
   ]
  },
  {
   "cell_type": "code",
   "execution_count": 681,
   "metadata": {
    "id": "dw87FlzMgFyM"
   },
   "outputs": [
    {
     "name": "stdout",
     "output_type": "stream",
     "text": [
      "<class 'pandas.core.frame.DataFrame'>\n",
      "RangeIndex: 7486 entries, 0 to 7485\n",
      "Data columns (total 15 columns):\n",
      " #   Column                 Non-Null Count  Dtype  \n",
      "---  ------                 --------------  -----  \n",
      " 0   title                  7486 non-null   object \n",
      " 1   puNumber               7486 non-null   object \n",
      " 2   show_start_date        7486 non-null   object \n",
      " 3   type                   7486 non-null   object \n",
      " 4   film_studio            7468 non-null   object \n",
      " 5   production_country     7484 non-null   object \n",
      " 6   director               7477 non-null   object \n",
      " 7   producer               6918 non-null   object \n",
      " 8   age_restriction        7486 non-null   object \n",
      " 9   refundable_support     332 non-null    float64\n",
      " 10  nonrefundable_support  332 non-null    float64\n",
      " 11  budget                 332 non-null    float64\n",
      " 12  financing_source       332 non-null    object \n",
      " 13  ratings                6519 non-null   object \n",
      " 14  genres                 6510 non-null   object \n",
      "dtypes: float64(3), object(12)\n",
      "memory usage: 877.4+ KB\n"
     ]
    },
    {
     "data": {
      "text/plain": [
       "None"
      ]
     },
     "metadata": {},
     "output_type": "display_data"
    },
    {
     "name": "stdout",
     "output_type": "stream",
     "text": [
      "<class 'pandas.core.frame.DataFrame'>\n",
      "RangeIndex: 3158 entries, 0 to 3157\n",
      "Data columns (total 2 columns):\n",
      " #   Column      Non-Null Count  Dtype  \n",
      "---  ------      --------------  -----  \n",
      " 0   puNumber    3158 non-null   int64  \n",
      " 1   box_office  3158 non-null   float64\n",
      "dtypes: float64(1), int64(1)\n",
      "memory usage: 49.5 KB\n"
     ]
    },
    {
     "data": {
      "text/plain": [
       "None"
      ]
     },
     "metadata": {},
     "output_type": "display_data"
    }
   ],
   "source": [
    "# Импортируем библиотеку pandas\n",
    "# Читаем файлы csv\n",
    "\n",
    "import pandas as pd\n",
    "\n",
    "df_movies = pd.read_csv('/Users/danil/Desktop/Data Science/Яндекс Практикум Data Science/3/02 Сборный проект - 1/03 Проектная работа/mkrf_movies.csv')\n",
    "display(df_movies.info())\n",
    "\n",
    "df_shows = pd.read_csv('/Users/danil/Desktop/Data Science/Яндекс Практикум Data Science/3/02 Сборный проект - 1/03 Проектная работа/mkrf_shows.csv')\n",
    "display(df_shows.info())"
   ]
  },
  {
   "cell_type": "code",
   "execution_count": 682,
   "metadata": {},
   "outputs": [],
   "source": [
    "df_movies['puNumber'] = df_movies['puNumber'].replace('нет', 0)"
   ]
  },
  {
   "cell_type": "code",
   "execution_count": 683,
   "metadata": {},
   "outputs": [],
   "source": [
    "# Меняем тип данных столбца, чтобы соеденить таблицы\n",
    "# Соеденяем при помощи merge\n",
    "\n",
    "df_movies['puNumber'] = df_movies['puNumber'].astype(int, errors='raise')\n",
    "df = df_movies.merge(df_shows, on='puNumber', how='left')"
   ]
  },
  {
   "cell_type": "code",
   "execution_count": 684,
   "metadata": {},
   "outputs": [
    {
     "data": {
      "text/html": [
       "<div>\n",
       "<style scoped>\n",
       "    .dataframe tbody tr th:only-of-type {\n",
       "        vertical-align: middle;\n",
       "    }\n",
       "\n",
       "    .dataframe tbody tr th {\n",
       "        vertical-align: top;\n",
       "    }\n",
       "\n",
       "    .dataframe thead th {\n",
       "        text-align: right;\n",
       "    }\n",
       "</style>\n",
       "<table border=\"1\" class=\"dataframe\">\n",
       "  <thead>\n",
       "    <tr style=\"text-align: right;\">\n",
       "      <th></th>\n",
       "      <th>title</th>\n",
       "      <th>puNumber</th>\n",
       "      <th>show_start_date</th>\n",
       "      <th>type</th>\n",
       "      <th>film_studio</th>\n",
       "      <th>production_country</th>\n",
       "      <th>director</th>\n",
       "      <th>producer</th>\n",
       "      <th>age_restriction</th>\n",
       "      <th>refundable_support</th>\n",
       "      <th>nonrefundable_support</th>\n",
       "      <th>budget</th>\n",
       "      <th>financing_source</th>\n",
       "      <th>ratings</th>\n",
       "      <th>genres</th>\n",
       "      <th>box_office</th>\n",
       "    </tr>\n",
       "  </thead>\n",
       "  <tbody>\n",
       "    <tr>\n",
       "      <th>0</th>\n",
       "      <td>Открытый простор</td>\n",
       "      <td>221048915</td>\n",
       "      <td>2015-11-27T12:00:00.000Z</td>\n",
       "      <td>Художественный</td>\n",
       "      <td>Тачстоун Пикчерз, Кобальт Пикчерз, Бикон Пикче...</td>\n",
       "      <td>США</td>\n",
       "      <td>Кевин Костнер</td>\n",
       "      <td>Дэвид Валдес, Кевин Костнер, Джейк Эбертс</td>\n",
       "      <td>«18+» - запрещено для детей</td>\n",
       "      <td>NaN</td>\n",
       "      <td>NaN</td>\n",
       "      <td>NaN</td>\n",
       "      <td>NaN</td>\n",
       "      <td>7.2</td>\n",
       "      <td>боевик,драма,мелодрама</td>\n",
       "      <td>NaN</td>\n",
       "    </tr>\n",
       "    <tr>\n",
       "      <th>1</th>\n",
       "      <td>Особо важное задание</td>\n",
       "      <td>111013716</td>\n",
       "      <td>2016-09-13T12:00:00.000Z</td>\n",
       "      <td>Художественный</td>\n",
       "      <td>Киностудия \"Мосфильм\"</td>\n",
       "      <td>СССР</td>\n",
       "      <td>Е.Матвеев</td>\n",
       "      <td>NaN</td>\n",
       "      <td>«6+» - для детей старше 6 лет</td>\n",
       "      <td>NaN</td>\n",
       "      <td>NaN</td>\n",
       "      <td>NaN</td>\n",
       "      <td>NaN</td>\n",
       "      <td>6.6</td>\n",
       "      <td>драма,военный</td>\n",
       "      <td>NaN</td>\n",
       "    </tr>\n",
       "    <tr>\n",
       "      <th>2</th>\n",
       "      <td>Особо опасен</td>\n",
       "      <td>221038416</td>\n",
       "      <td>2016-10-10T12:00:00.000Z</td>\n",
       "      <td>Художественный</td>\n",
       "      <td>Юниверсал Пикчерз, Кикстарт Продакшнз, Марк Пл...</td>\n",
       "      <td>США</td>\n",
       "      <td>Тимур Бекмамбетов</td>\n",
       "      <td>Джим Лемли, Джейсон Нетер, Марк Е.Платт, Яйн Смит</td>\n",
       "      <td>«18+» - запрещено для детей</td>\n",
       "      <td>NaN</td>\n",
       "      <td>NaN</td>\n",
       "      <td>NaN</td>\n",
       "      <td>NaN</td>\n",
       "      <td>6.8</td>\n",
       "      <td>фантастика,боевик,триллер</td>\n",
       "      <td>NaN</td>\n",
       "    </tr>\n",
       "    <tr>\n",
       "      <th>3</th>\n",
       "      <td>Особо опасен</td>\n",
       "      <td>221026916</td>\n",
       "      <td>2016-06-10T12:00:00.000Z</td>\n",
       "      <td>Художественный</td>\n",
       "      <td>Юниверсал Пикчерз, Кикстарт Продакшнз, Марк Пл...</td>\n",
       "      <td>США</td>\n",
       "      <td>Тимур Бекмамбетов</td>\n",
       "      <td>Джим Лемли, Джейсон Нетер, Марк Е.Платт, Яйн Смит</td>\n",
       "      <td>«18+» - запрещено для детей</td>\n",
       "      <td>NaN</td>\n",
       "      <td>NaN</td>\n",
       "      <td>NaN</td>\n",
       "      <td>NaN</td>\n",
       "      <td>6.8</td>\n",
       "      <td>фантастика,боевик,триллер</td>\n",
       "      <td>NaN</td>\n",
       "    </tr>\n",
       "    <tr>\n",
       "      <th>4</th>\n",
       "      <td>Особо опасен</td>\n",
       "      <td>221030815</td>\n",
       "      <td>2015-07-29T12:00:00.000Z</td>\n",
       "      <td>Художественный</td>\n",
       "      <td>Юниверсал Пикчерз, Кикстарт Продакшнз, Марк Пл...</td>\n",
       "      <td>США</td>\n",
       "      <td>Тимур Бекмамбетов</td>\n",
       "      <td>Джим Лемли, Джейсон Нетер, Марк Е.Платт, Яйн Смит</td>\n",
       "      <td>«18+» - запрещено для детей</td>\n",
       "      <td>NaN</td>\n",
       "      <td>NaN</td>\n",
       "      <td>NaN</td>\n",
       "      <td>NaN</td>\n",
       "      <td>6.8</td>\n",
       "      <td>фантастика,боевик,триллер</td>\n",
       "      <td>NaN</td>\n",
       "    </tr>\n",
       "  </tbody>\n",
       "</table>\n",
       "</div>"
      ],
      "text/plain": [
       "                  title   puNumber           show_start_date            type  \\\n",
       "0      Открытый простор  221048915  2015-11-27T12:00:00.000Z  Художественный   \n",
       "1  Особо важное задание  111013716  2016-09-13T12:00:00.000Z  Художественный   \n",
       "2          Особо опасен  221038416  2016-10-10T12:00:00.000Z  Художественный   \n",
       "3          Особо опасен  221026916  2016-06-10T12:00:00.000Z  Художественный   \n",
       "4          Особо опасен  221030815  2015-07-29T12:00:00.000Z  Художественный   \n",
       "\n",
       "                                         film_studio production_country  \\\n",
       "0  Тачстоун Пикчерз, Кобальт Пикчерз, Бикон Пикче...                США   \n",
       "1                              Киностудия \"Мосфильм\"               СССР   \n",
       "2  Юниверсал Пикчерз, Кикстарт Продакшнз, Марк Пл...                США   \n",
       "3  Юниверсал Пикчерз, Кикстарт Продакшнз, Марк Пл...                США   \n",
       "4  Юниверсал Пикчерз, Кикстарт Продакшнз, Марк Пл...                США   \n",
       "\n",
       "            director                                           producer  \\\n",
       "0      Кевин Костнер          Дэвид Валдес, Кевин Костнер, Джейк Эбертс   \n",
       "1          Е.Матвеев                                                NaN   \n",
       "2  Тимур Бекмамбетов  Джим Лемли, Джейсон Нетер, Марк Е.Платт, Яйн Смит   \n",
       "3  Тимур Бекмамбетов  Джим Лемли, Джейсон Нетер, Марк Е.Платт, Яйн Смит   \n",
       "4  Тимур Бекмамбетов  Джим Лемли, Джейсон Нетер, Марк Е.Платт, Яйн Смит   \n",
       "\n",
       "                 age_restriction  refundable_support  nonrefundable_support  \\\n",
       "0    «18+» - запрещено для детей                 NaN                    NaN   \n",
       "1  «6+» - для детей старше 6 лет                 NaN                    NaN   \n",
       "2    «18+» - запрещено для детей                 NaN                    NaN   \n",
       "3    «18+» - запрещено для детей                 NaN                    NaN   \n",
       "4    «18+» - запрещено для детей                 NaN                    NaN   \n",
       "\n",
       "   budget financing_source ratings                     genres  box_office  \n",
       "0     NaN              NaN     7.2     боевик,драма,мелодрама         NaN  \n",
       "1     NaN              NaN     6.6              драма,военный         NaN  \n",
       "2     NaN              NaN     6.8  фантастика,боевик,триллер         NaN  \n",
       "3     NaN              NaN     6.8  фантастика,боевик,триллер         NaN  \n",
       "4     NaN              NaN     6.8  фантастика,боевик,триллер         NaN  "
      ]
     },
     "execution_count": 684,
     "metadata": {},
     "output_type": "execute_result"
    }
   ],
   "source": [
    "# Выводим первые 5 строк совместной таблици\n",
    "\n",
    "df.head()"
   ]
  },
  {
   "cell_type": "code",
   "execution_count": 685,
   "metadata": {},
   "outputs": [
    {
     "name": "stdout",
     "output_type": "stream",
     "text": [
      "<class 'pandas.core.frame.DataFrame'>\n",
      "Int64Index: 7486 entries, 0 to 7485\n",
      "Data columns (total 16 columns):\n",
      " #   Column                 Non-Null Count  Dtype  \n",
      "---  ------                 --------------  -----  \n",
      " 0   title                  7486 non-null   object \n",
      " 1   puNumber               7486 non-null   int64  \n",
      " 2   show_start_date        7486 non-null   object \n",
      " 3   type                   7486 non-null   object \n",
      " 4   film_studio            7468 non-null   object \n",
      " 5   production_country     7484 non-null   object \n",
      " 6   director               7477 non-null   object \n",
      " 7   producer               6918 non-null   object \n",
      " 8   age_restriction        7486 non-null   object \n",
      " 9   refundable_support     332 non-null    float64\n",
      " 10  nonrefundable_support  332 non-null    float64\n",
      " 11  budget                 332 non-null    float64\n",
      " 12  financing_source       332 non-null    object \n",
      " 13  ratings                6519 non-null   object \n",
      " 14  genres                 6510 non-null   object \n",
      " 15  box_office             3158 non-null   float64\n",
      "dtypes: float64(4), int64(1), object(11)\n",
      "memory usage: 994.2+ KB\n"
     ]
    }
   ],
   "source": [
    "# Смотрим информацию\n",
    "\n",
    "df.info()"
   ]
  },
  {
   "cell_type": "code",
   "execution_count": 686,
   "metadata": {},
   "outputs": [
    {
     "data": {
      "text/plain": [
       "title                       0\n",
       "puNumber                    0\n",
       "show_start_date             0\n",
       "type                        0\n",
       "film_studio                18\n",
       "production_country          2\n",
       "director                    9\n",
       "producer                  568\n",
       "age_restriction             0\n",
       "refundable_support       7154\n",
       "nonrefundable_support    7154\n",
       "budget                   7154\n",
       "financing_source         7154\n",
       "ratings                   967\n",
       "genres                    976\n",
       "box_office               4328\n",
       "dtype: int64"
      ]
     },
     "execution_count": 686,
     "metadata": {},
     "output_type": "execute_result"
    }
   ],
   "source": [
    "# Смотрим колличество пропущенных значений в столбцах\n",
    "\n",
    "df.isna().sum()"
   ]
  },
  {
   "cell_type": "code",
   "execution_count": 687,
   "metadata": {},
   "outputs": [
    {
     "data": {
      "text/plain": [
       "0"
      ]
     },
     "execution_count": 687,
     "metadata": {},
     "output_type": "execute_result"
    }
   ],
   "source": [
    "# Смотрим колличество дубликатов\n",
    "\n",
    "df.duplicated().sum()"
   ]
  },
  {
   "cell_type": "markdown",
   "metadata": {
    "id": "KLDGpPG0gFyM"
   },
   "source": [
    "### Шаг 2. Предобработка данных"
   ]
  },
  {
   "cell_type": "markdown",
   "metadata": {
    "id": "ssWwKXsxgFyO"
   },
   "source": [
    "#### Шаг 2.1. Проверьте типы данных\n",
    "\n",
    "- Проверьте типы данных в датафрейме и преобразуйте их там, где это необходимо."
   ]
  },
  {
   "cell_type": "code",
   "execution_count": 688,
   "metadata": {
    "id": "kVGSplJOgFyO"
   },
   "outputs": [
    {
     "name": "stdout",
     "output_type": "stream",
     "text": [
      "<class 'pandas.core.frame.DataFrame'>\n",
      "Int64Index: 7486 entries, 0 to 7485\n",
      "Data columns (total 16 columns):\n",
      " #   Column                 Non-Null Count  Dtype  \n",
      "---  ------                 --------------  -----  \n",
      " 0   title                  7486 non-null   object \n",
      " 1   puNumber               7486 non-null   int64  \n",
      " 2   show_start_date        7486 non-null   object \n",
      " 3   type                   7486 non-null   object \n",
      " 4   film_studio            7468 non-null   object \n",
      " 5   production_country     7484 non-null   object \n",
      " 6   director               7477 non-null   object \n",
      " 7   producer               6918 non-null   object \n",
      " 8   age_restriction        7486 non-null   object \n",
      " 9   refundable_support     332 non-null    float64\n",
      " 10  nonrefundable_support  332 non-null    float64\n",
      " 11  budget                 332 non-null    float64\n",
      " 12  financing_source       332 non-null    object \n",
      " 13  ratings                6519 non-null   object \n",
      " 14  genres                 6510 non-null   object \n",
      " 15  box_office             3158 non-null   float64\n",
      "dtypes: float64(4), int64(1), object(11)\n",
      "memory usage: 994.2+ KB\n"
     ]
    }
   ],
   "source": [
    "# Проверяем типы данных\n",
    "\n",
    "df.info()"
   ]
  },
  {
   "cell_type": "markdown",
   "metadata": {},
   "source": [
    "<div class=\"alert alert-block alert-info\">\n",
    "    <ul type='circle'>\n",
    "\n",
    "Есть столбцы с неправильными типами данных, которые изменили:\n",
    "\n",
    "1. show_start_date: object → datetime – столбец дат \n",
    "2. refundable_support: object → float64 – числовое занчение\n",
    "3. nonrefundable_support: object → float64 – числовое занчение\n",
    "4. budget: object → float64 – числовое занчение    \n",
    "5. ratings: object → float64 – числовое занчение с десятичной дробью"
   ]
  },
  {
   "cell_type": "code",
   "execution_count": 689,
   "metadata": {},
   "outputs": [
    {
     "data": {
      "text/plain": [
       "array(['7.2', '6.6', '6.8', '7.7', '8.3', '8.0', '7.8', '8.1', '7.1',\n",
       "       '6.0', '7.4', '5.8', '8.7', '6.3', '6.9', '5.0', '4.3', '7.3',\n",
       "       '7.0', '6.4', nan, '8.2', '7.5', '6.7', '7.9', '5.9', '6.2', '5.6',\n",
       "       '6.5', '2.4', '7.6', '6.1', '8.6', '8.5', '8.8', '5.5', '5.1',\n",
       "       '5.7', '5.4', '99%', '4.4', '4.5', '5.3', '4.1', '8.4', '2.6',\n",
       "       '3.8', '4.6', '4.8', '4.0', '3.0', '1.6', '4.2', '5.2', '4.7',\n",
       "       '4.9', '3.9', '2.7', '3.3', '2.9', '28%', '3.7', '1.4', '3.1',\n",
       "       '97%', '3.5', '3.2', '2.8', '1.5', '2.1', '2.5', '9.2', '3.4',\n",
       "       '1.1', '3.6', '83%', '64%', '91%', '94%', '62%', '79%', '90%',\n",
       "       '19%', '88%', '1.0', '89%', '1.3', '1.9', '1.8', '1.2', '1.7',\n",
       "       '9.0', '98%', '8.9', '9.1'], dtype=object)"
      ]
     },
     "execution_count": 689,
     "metadata": {},
     "output_type": "execute_result"
    }
   ],
   "source": [
    "# В столбце ratings есть разные форматы значений \n",
    "# которые нужно привести к одному\n",
    "\n",
    "df['ratings'].unique()"
   ]
  },
  {
   "cell_type": "code",
   "execution_count": 690,
   "metadata": {},
   "outputs": [
    {
     "name": "stderr",
     "output_type": "stream",
     "text": [
      "/var/folders/r8/f9pnzbcd4rq_1f11k5rtm6w40000gn/T/ipykernel_9532/1431833209.py:6: SettingWithCopyWarning: \n",
      "A value is trying to be set on a copy of a slice from a DataFrame\n",
      "\n",
      "See the caveats in the documentation: https://pandas.pydata.org/pandas-docs/stable/user_guide/indexing.html#returning-a-view-versus-a-copy\n",
      "  df['ratings'][idx] = i[:1] + '.' + i[1:2]\n"
     ]
    }
   ],
   "source": [
    "# Меняем проценты на десятичную дробь\n",
    "\n",
    "for idx, i in enumerate(df['ratings']):\n",
    "    if '%' in str(i):\n",
    "        if len(i) == 3:\n",
    "            df['ratings'][idx] = i[:1] + '.' + i[1:2]"
   ]
  },
  {
   "cell_type": "code",
   "execution_count": 691,
   "metadata": {},
   "outputs": [],
   "source": [
    "# Изменяем неправильные типы данных в коллонках:\n",
    "\n",
    "df['ratings'] = df['ratings'].astype(float)\n",
    "df['show_start_date'] = pd.to_datetime(df['show_start_date'], format='%Y-%m-%d')\n",
    "\n",
    "to_int = [\n",
    "    'refundable_support', 'nonrefundable_support', 'budget'\n",
    "]\n",
    "\n",
    "for column in to_int:\n",
    "    df[column] = df[column].astype(float)"
   ]
  },
  {
   "cell_type": "markdown",
   "metadata": {
    "id": "i0MOLbF-gFyP"
   },
   "source": [
    "#### Шаг 2.2. Изучите пропуски в датафрейме\n",
    "\n",
    "- Объясните, почему заполнили пропуски определённым образом или почему не стали этого делать."
   ]
  },
  {
   "cell_type": "code",
   "execution_count": 692,
   "metadata": {
    "id": "8MJD_lkngFyP"
   },
   "outputs": [
    {
     "data": {
      "text/plain": [
       "title                       0\n",
       "puNumber                    0\n",
       "show_start_date             0\n",
       "type                        0\n",
       "film_studio                18\n",
       "production_country          2\n",
       "director                    9\n",
       "producer                  568\n",
       "age_restriction             0\n",
       "refundable_support       7154\n",
       "nonrefundable_support    7154\n",
       "budget                   7154\n",
       "financing_source         7154\n",
       "ratings                   967\n",
       "genres                    976\n",
       "box_office               4328\n",
       "dtype: int64"
      ]
     },
     "execution_count": 692,
     "metadata": {},
     "output_type": "execute_result"
    }
   ],
   "source": [
    "df.isna().sum()"
   ]
  },
  {
   "cell_type": "markdown",
   "metadata": {},
   "source": [
    "<div class=\"alert alert-block alert-info\">\n",
    "    <ul type='circle'>\n",
    "\n",
    "Заменим пропуски не получится. Например нули в гос поддержке собьют статистику, когда будем считать сколько в среднем госудраство выделает на кино."
   ]
  },
  {
   "cell_type": "markdown",
   "metadata": {
    "id": "4c6k1t9ygFyQ"
   },
   "source": [
    "#### Шаг 2.3. Изучите дубликаты в датафрейме\n",
    "- Проверьте, есть ли в данных дубликаты. Опишите причины, которые могли повлиять на появление дублей."
   ]
  },
  {
   "cell_type": "code",
   "execution_count": 693,
   "metadata": {},
   "outputs": [
    {
     "data": {
      "text/plain": [
       "0"
      ]
     },
     "execution_count": 693,
     "metadata": {},
     "output_type": "execute_result"
    }
   ],
   "source": [
    "df.duplicated().sum()"
   ]
  },
  {
   "cell_type": "markdown",
   "metadata": {},
   "source": [
    "<div class=\"alert alert-block alert-info\">\n",
    "    <ul type='circle'>\n",
    "\n",
    "Дубликаты есть. Один и тот же фильм в таблице может иметь несколько прокатных удостоверений, поэтому мы не сможем найти их с помощью функции duplicated(). \n",
    "        \n",
    "Новое удостоверение выдают, если в фильме были изменения. Тем не менее фильм остается тот же, и нам не нужны его дубли."
   ]
  },
  {
   "cell_type": "code",
   "execution_count": 694,
   "metadata": {},
   "outputs": [],
   "source": [
    "# Удаляем дубликаты по называнию фильмов в столбце title\n",
    "\n",
    "df = df.drop_duplicates(subset='title', keep=\"first\").reset_index(drop=True)"
   ]
  },
  {
   "cell_type": "markdown",
   "metadata": {
    "id": "52fOPrEBgFyQ"
   },
   "source": [
    "#### Шаг 2.4. Изучите категориальные значения\n",
    "\n",
    "- Посмотрите, какая общая проблема встречается почти во всех категориальных столбцах;\n",
    "- Исправьте проблемные значения в поле `type`.\n",
    "\n",
    "<div id=\"accordion\">\n",
    "    <div class=\"card\">\n",
    "        <div class=\"card-header\" id=\"headingThree\">\n",
    "            <button class=\"btn btn-link collapsed\" data-toggle=\"collapse\" data-target=\"#collapseHint_1\" aria-expanded=\"false\" aria-controls=\"collapseHint_1\">Подсказка</button>\n",
    "        </div>\n",
    "        <div id=\"collapseHint_1\" class=\"collapse\" aria-labelledby=\"headingThree\" data-parent=\"#accordion\">\n",
    "            <div class=\"card-body\">\n",
    "В поле <code>type</code> есть несколько значений, у которых появился пробел в начале строки. Самый простой способ их «починить» -- использовать метод <a href=\"https://pandas.pydata.org/docs/reference/api/pandas.Series.str.strip.html#pandas.Series.str.strip\">.str.strip</a>. Этот метод удаляет все пробелы, которые встречаются в начале и в конце строки. Применяют его таким образом:<br>\n",
    "<code>df['type'].str.strip()</code>\n",
    "            </div>\n",
    "        </div>\n",
    "    </div>\n",
    "</div>"
   ]
  },
  {
   "cell_type": "code",
   "execution_count": 695,
   "metadata": {},
   "outputs": [
    {
     "data": {
      "text/plain": [
       "[' Я ПРЕПОД',\n",
       " '\"SOS\" над тайгой',\n",
       " '\"V\" значит вендетта',\n",
       " '\"АРТиШОК\" анимационный альманах авторских фильмов',\n",
       " '\"Бежин луг\" Сергея Эйзенштейна',\n",
       " '\"Державная\" Размышления 100 лет спустя',\n",
       " '\"Зеленое яблоко\" анимационный альманах выпуск № 7',\n",
       " '\"Машины песенки\". Серия \"Опять Новый Год!\"',\n",
       " '\"Море\"',\n",
       " '\"Сезон дождей\", \"Диета Матроскина\", \"Шарик хочет телефон\" из анимационного сериала \"Простоквашино\"',\n",
       " '\"Старый\" Новый год',\n",
       " '\"Уорнер Бразерс Пикчерз\" и \"Леджендари Пикчерз\": Тихоокеанский рубеж',\n",
       " '\"Фееринки\". Серия \"Фантик спешит на помощь\"',\n",
       " '\"Хороший день\", \"Бог из машины/Deus EX\", \"Голод\", \"Психотроника\", \"Темная ночь\"',\n",
       " '\"Чудовище из Простоквашино\", \"Ген героя\", \"Ненастоящий детектив\", \"Мама и Тама\", \"Как бы не стало зимы\" из анимационного сериала \"Простоквашино\"',\n",
       " '#ВСЁ_ИСПРАВИТЬ!?!',\n",
       " '#Москва-Руаян',\n",
       " '#ЯВОЛОНТЕР Истории неравнодушных',\n",
       " '(Не)жданный принц',\n",
       " '(Не)идеальный мужчина',\n",
       " '... в стиле JAZZ',\n",
       " '... и я там был',\n",
       " '... имени Сергея Герасимова',\n",
       " '007 Координаты Скайфолл',\n",
       " '007: Спектр',\n",
       " '1+1',\n",
       " '1+1. Нарушая правила',\n",
       " '1+1: Голливудская история',\n",
       " '10 000 км.: Любовь на расстоянии',\n",
       " '10 000 лет до н.э.',\n",
       " '10 лет спустя',\n",
       " '10 лет спустя.',\n",
       " '10 мгновений судьбы',\n",
       " '100 вещей и ничего лишнего',\n",
       " '100 лет Чувашской автономии',\n",
       " '100 лет дизайна',\n",
       " '100 миллионов евро',\n",
       " '1001 рецепт влюбленного кулинара',\n",
       " '11 минут',\n",
       " '11-11-11',\n",
       " '118 секунд, до... и после',\n",
       " '12 лет рабства',\n",
       " '12 мелодий любви',\n",
       " '12 месяцев',\n",
       " '12 месяцев. Новая сказка',\n",
       " '120/80',\n",
       " '127 часов',\n",
       " '128 ударов сердца в минуту',\n",
       " '13 грехов',\n",
       " '13 убийц',\n",
       " '13 часов: Тайные солдаты Бенгази',\n",
       " '13-й район: Кирпичные особняки',\n",
       " '13.',\n",
       " '14+',\n",
       " '1408 /По рассказу Стивена Кинга/',\n",
       " '1812: Уланская баллада',\n",
       " '1915',\n",
       " '1937. Время смерти (\"Судоходное кладбище\", \"Трагедия праздника\")',\n",
       " '2 + 2',\n",
       " '2 спальни, 1 ванная',\n",
       " '2+1',\n",
       " '20 000 дней на Земле',\n",
       " '2001 год: Космическая одиссея',\n",
       " '2012',\n",
       " '2016: Конец ночи',\n",
       " '20:17',\n",
       " '21 и больше',\n",
       " '21 и больше (в переводе Гоблина)',\n",
       " '21 мост',\n",
       " '22 мили',\n",
       " '22 минуты',\n",
       " '22 пули: Бессмертный',\n",
       " '22 ярда',\n",
       " '24 снега',\n",
       " '24 часа на жизнь',\n",
       " '28 Панфиловцев',\n",
       " '28 спален',\n",
       " '2:22 (2017)',\n",
       " '2рас: Легенда',\n",
       " '3 дня с Роми Шнайдер',\n",
       " '3 идиота',\n",
       " '3 сердца',\n",
       " '3 счастливых поросёнка',\n",
       " '30 безумных желаний',\n",
       " '30 свиданий',\n",
       " '300 спартанцев /По роману-комиксу Фрэнка Миллера и Линн Варли/',\n",
       " '300 спартанцев: Расцвет империи /По произведению Фрэнка Миллера \"Ксеркс\"/',\n",
       " '300 спартанцев: Расцвет империи /По произведению Фрэнка Миллера \"Ксеркс\"/ (на английском языке)',\n",
       " '300 спартанцев: Расцвет империи /По произведению Фрэнка Миллера \"Ксеркс\"/.',\n",
       " '302 БИС',\n",
       " '31: Праздник смерти',\n",
       " '321-я Сибирская, фильм первый \"Братья\"',\n",
       " '34 - й скорый',\n",
       " '36, Набережная Орфевр',\n",
       " '38-я параллель',\n",
       " '4 ДНЯ В МАЕ',\n",
       " '4.3.2.1.',\n",
       " '44 котёнка',\n",
       " '45 лет',\n",
       " '47 ронинов',\n",
       " '4:44. Последний день на Земле',\n",
       " '5 000 раз вокруг света',\n",
       " '5-я волна',\n",
       " '50 весенних дней',\n",
       " '50 первых поцелуев',\n",
       " '500 дней лета',\n",
       " '6 дней ',\n",
       " '695',\n",
       " '7 главных желаний',\n",
       " '7 дней и ночей с Мэрилин',\n",
       " '7 социопатов',\n",
       " '7 ящиков',\n",
       " '7-ой гном 3D',\n",
       " '72 метра (3 серии)',\n",
       " '72 часа',\n",
       " '8 1/2 (Восемь с половиной)',\n",
       " '8 лучших свиданий',\n",
       " '8 новых свиданий',\n",
       " '8 первых свиданий',\n",
       " '8 подруг Оушена',\n",
       " '9 месяцев строгого режима',\n",
       " '9/11',\n",
       " '901 километр',\n",
       " '999',\n",
       " 'All inclusive или Все Включено',\n",
       " 'Angry Birds 2 в кино',\n",
       " 'Angry Birds в кино',\n",
       " 'Aroused: Откровения лучших порномоделей',\n",
       " 'BEEF: РУССКИЙ ХИП-ХОП',\n",
       " 'BEST OF shnit 2017',\n",
       " 'BTS: Открой свою душу. Фильм',\n",
       " 'Best Erotic Shorts. Альманах',\n",
       " 'Best Of Shnit 2015. Лучшее Шнит 2015',\n",
       " 'Bjork. Biophilia Live',\n",
       " 'Blood-C: Последний темный',\n",
       " 'Bon Jovi. The Circle Tour',\n",
       " 'Cirque du Soleil: Сказочный мир в 3D',\n",
       " 'CitizenFour. Правда Сноудена',\n",
       " 'Coldplay: A Head Full Of Dreams',\n",
       " 'DED_005',\n",
       " 'Def Leppard. Viva Hysteria',\n",
       " 'Die erste liebe (Первая любовь)',\n",
       " 'Dream Theatre. Live At Luna Park',\n",
       " 'Duran Duran. Unstaged',\n",
       " 'Elton John. The Million Dollar Piano',\n",
       " 'Everybody In The Place: Рейв как забастовка',\n",
       " 'Fair play (Честная игра)',\n",
       " 'Ford против Ferrari',\n",
       " 'G.I.Joe: Бросок кобры 2',\n",
       " 'Generation П',\n",
       " 'George Michael: Live In London',\n",
       " 'Gimme Danger. История Игги и The Stooges',\n",
       " \"Guns N'Roses. 2012 Tour\",\n",
       " 'Italian Best Shorts 3: Итальянские фантазии (Лучшие итальянские короткометражки 3: Итальянские фантазии)',\n",
       " 'Italian best shorts 2: Любовь в Вечном городе (Лучшие итальянские короткометражки - 2: Любовь в Вечном городе',\n",
       " 'KISS Rocks Vegas',\n",
       " 'Kinematic Shorts: Lucly Seven. Программа короткометражного кино',\n",
       " 'Kinematic Shorts: Spring. Shorts. Fun. Программа короткометражного кино',\n",
       " 'Kingsman: Золотое кольцо',\n",
       " 'Kingsman: Секретная служба',\n",
       " 'LIAF-2014. Программа Лондонского международного анимационного фестиваля',\n",
       " 'Led Zeppelin. Celebration Day',\n",
       " 'Lil Peep: всё для всех',\n",
       " 'MAMMA MIA! 2',\n",
       " 'Magnetisme animal/Магнетизм',\n",
       " 'Metallica: Сквозь невозможное',\n",
       " 'Muse. Live at Rome',\n",
       " 'My Little Pony в кино',\n",
       " 'Mylene Farmer. Timeless 2013 the Movie',\n",
       " 'Need for Speed: Жажда скорости',\n",
       " 'No comment (Нет комментариев)',\n",
       " 'One Direction: Where We Are',\n",
       " 'One Direction: Это мы',\n",
       " 'Oscar Shorts - 2014. Фильмы',\n",
       " 'Oscar Shorts - Анимация',\n",
       " 'Oscar Shorts - Фильмы',\n",
       " 'P.S. Я люблю тебя /По одноименному произведению Сесилии Ахерн/',\n",
       " 'PRO КИНО',\n",
       " 'Paul McCartney. Rockshow',\n",
       " 'Prada и чувства',\n",
       " 'Pro любовь',\n",
       " 'Queen. Live in Bohemia',\n",
       " 'Queen. Live in Budapest 1986',\n",
       " 'Queen. Rock Montreal',\n",
       " 'SHNIT SHORTS 2019. Анимационная программа',\n",
       " 'SHNIT SHORTS 2019. Игровое кино',\n",
       " 'SLOVE. Прямо в сердце',\n",
       " 'SOS, ДЕД МОРОЗ ИЛИ ВСЁ СБУДЕТСЯ!',\n",
       " 'SaLsa Belly Dance - часть 1 и 2',\n",
       " 'Sex Doll / Влюбленные одиночки',\n",
       " 'Stars in Shorts',\n",
       " 'Starперцы',\n",
       " 'SuperАлиби',\n",
       " 'SuperЗять',\n",
       " 'Superнянь',\n",
       " 'Superнянь 2',\n",
       " \"The Chemical Brothers - Don't Think (Не думай)\",\n",
       " \"The Doors - Live At the Bowl'68. Концерт\",\n",
       " \"The Doors. When You' re Strange\",\n",
       " \"The Prodigy - World's On Fire (Продиджи. Миры в огне). Фильм-концерт\",\n",
       " 'Tomb Raider: Лара Крофт',\n",
       " 'Turbo (Турбо)',\n",
       " 'U2 3D.',\n",
       " 'UglyDolls. Куклы с характером',\n",
       " 'Update/Delete (Апдейт/Делит)',\n",
       " 'Va-Банк',\n",
       " 'WINX Club 3D: Волшебное приключение',\n",
       " 'WTF! Какого черта?',\n",
       " 'Weekend  (Уик-энд)',\n",
       " 'Weekend  (Уик-энд).',\n",
       " 'Whisky с молоком',\n",
       " 'Winx Club: Спасаем животных!',\n",
       " 'Winx Club: Спасаем океан',\n",
       " 'Yesterday (Вчера)',\n",
       " 'Zолушка',\n",
       " 'Zомбилэнд: Контрольный выстрел',\n",
       " 'g (джи)',\n",
       " 'Ёлки',\n",
       " 'Ёлки - 2',\n",
       " 'Ёлки 1914',\n",
       " 'Ёлки 3',\n",
       " 'Ёлки 5',\n",
       " 'Ёлки Новые',\n",
       " 'Ёлки Последние',\n",
       " 'А был ли Каротин?',\n",
       " 'А вот и она',\n",
       " 'А если это любовь?',\n",
       " 'А зори здесь тихие..._',\n",
       " 'А мама лучше! (рабочее название \"Вся прелесть любви\")',\n",
       " 'А.Адан. Жизель. Хореография Матса Эка',\n",
       " 'А.К.А',\n",
       " 'А.С.Пушкин \"Сказка о Царе Салтане\"',\n",
       " 'АБ ОВО',\n",
       " 'АНАТОМИЯ ИЗМЕНЫ',\n",
       " 'АРИФМЕТИКА СВОБОДЫ',\n",
       " 'АРМЕН и Я',\n",
       " 'АТАКА ТИТАНОВ. ФИЛЬМ ПЕРВЫЙ. ЖЕСТОКИЙ МИР',\n",
       " 'АТОМНЫЙ ИВАН',\n",
       " 'Абатуар. Лабиринт страха',\n",
       " 'Аббатство Даунтон',\n",
       " 'Абсолютная власть',\n",
       " 'Аванпост',\n",
       " 'Авантюристы.',\n",
       " 'Аварийное состояние',\n",
       " 'Авария - дочь мента',\n",
       " 'Аватар. Специальная версия',\n",
       " 'Аватар_',\n",
       " 'Август /По пьесе Трэйси Леттс/',\n",
       " 'Август. Восьмого',\n",
       " 'Автобан',\n",
       " 'Автобиография лжеца 3D',\n",
       " 'Автомобиль, скрипка и собака Клякса',\n",
       " 'Автостопом по Галактике',\n",
       " 'Агасфер',\n",
       " 'Агент 044: Операция Гегард',\n",
       " 'Агент 117: Миссия в Рио',\n",
       " 'Агент Джонни Инглиш 2: Перезагрузка',\n",
       " 'Агент Джонни Инглиш 3.0',\n",
       " 'Агент Джонни Инглиш: Перезагрузка',\n",
       " 'Агент Мамбо',\n",
       " 'Агент Эмерсон',\n",
       " 'Агент под прикрытием',\n",
       " 'Агенты А.Н.К.Л',\n",
       " 'Агитатор',\n",
       " 'Агора',\n",
       " 'Агорафобия',\n",
       " 'Адвокат Дьявола /По роману Эндрю Нейдермана/',\n",
       " 'Аджами',\n",
       " 'Адмирал Ушаков',\n",
       " 'Адмиралъ',\n",
       " 'Адольф Адан. Жизель /По мотивам легенды, пересказанной Генрихом Гейне/. Постановка Royal Opera House',\n",
       " 'Адольф Адан. Жизель в 3D. Постановка Мариинского театра. Хореография Жана Коралли, Жюля Перро, Мариуса Петипа',\n",
       " 'Адский бункер: Черное Солнце',\n",
       " 'Адъютант его превосходительства',\n",
       " 'Адъютант его превосходительства.',\n",
       " 'Азартные игры',\n",
       " 'Азбука смерти',\n",
       " 'Азор (Azor)',\n",
       " 'Аисты',\n",
       " 'Ай Вэйвэй: Никогда не извиняйся',\n",
       " 'Айболит - 66',\n",
       " 'Айка',\n",
       " 'Айрис',\n",
       " 'Айсылу. Фильм',\n",
       " 'Академия вампиров',\n",
       " 'Аквамен',\n",
       " 'Акварель',\n",
       " 'Аквариум.',\n",
       " 'Акрам Хан: Родом из Карри Хауса',\n",
       " 'Аксель',\n",
       " 'Акт убийства',\n",
       " 'Акулы',\n",
       " 'Акулы 3D',\n",
       " 'Акция',\n",
       " 'Аладдин',\n",
       " 'Албазинские скаски',\n",
       " 'Алекс и Эмма',\n",
       " 'Александр Буйнов \"Юбилейный концерт в Кремле. LIVE.\"',\n",
       " 'Александр Калягин и Et Cetera',\n",
       " 'Александр Невский (восстановленная версия)',\n",
       " 'Александр и ужасный, кошмарный, нехороший, очень плохой день',\n",
       " 'Алешкина любовь',\n",
       " 'Али, рули!',\n",
       " 'Алиби',\n",
       " 'Алиса в Зазеркалье (2016)',\n",
       " 'Алиса в стране чудес /По книгам Льюиса Кэрролла \"Алиса в стране чудес\" и \"Алиса в Зазеркалье\"/',\n",
       " 'Алиса в стране чудес /По одноименному произведению Льюиса Кэрола/',\n",
       " 'Алиса знает, что делать! Зеленая месть',\n",
       " 'Алиса знает, что делать! Серии \"Подмена растронаса\", \"Старики-разбойники\"',\n",
       " 'Алиса знает, что делать! Серии \"Энергия прошлого\", \"Устаревшие модели\", \"Долой креатив!\"',\n",
       " 'Алиса знает, что делать! Серия \"Гуманитарная помощь\"',\n",
       " 'Алиса знает, что делать! Серия \"Зеленая месть\"',\n",
       " 'Алита: Боевой ангел',\n",
       " 'Алла Пугачёва. Тот самый концерт',\n",
       " 'Алмазы для Марии',\n",
       " 'Алоис Небель и его призраки',\n",
       " 'Алые паруса',\n",
       " 'Альберт ГОГУАДЗЕ. ПЭРИ-ПЭРТАН',\n",
       " 'Альдабра: Путешествие по таинственному острову',\n",
       " 'Альфа',\n",
       " 'Альфа и Омега',\n",
       " 'АльфаГо',\n",
       " 'Амазония: Инструкция по выживанию',\n",
       " 'Амаль',\n",
       " 'Амальгама',\n",
       " 'Амбивалентность',\n",
       " 'Амели',\n",
       " 'Амелия',\n",
       " 'Америка',\n",
       " 'Американец (по роману Мартина Бута \"Очень скрытный джентльмен\")',\n",
       " 'Американская дочь',\n",
       " 'Американская пастораль',\n",
       " 'Американский грайдхаус',\n",
       " 'Американский пирог: Все в сборе',\n",
       " 'Амилькаре Понкьелли. Джоконда /По пьесе Виктора Гюго \"Анджело, тиран Падуанский\"/. Постановка Парижской национальной оперы',\n",
       " 'Амун',\n",
       " 'Амундсен',\n",
       " 'Анаболики. Реальная история',\n",
       " 'Анализируй то!',\n",
       " 'Анализируй это!',\n",
       " 'Ананас',\n",
       " 'Анархисты',\n",
       " 'Анархия в Жирмунае',\n",
       " 'Анатолий Крупнов. Он был',\n",
       " 'Анатомия любви /По произведению Скотта Спенсера/',\n",
       " 'Ангел',\n",
       " 'Ангел _',\n",
       " 'Ангел мой',\n",
       " 'Ангел-хранитель.',\n",
       " 'Ангел-хранитель._',\n",
       " 'Ангелы Революции',\n",
       " 'Ангелы Чарли',\n",
       " 'Ангельское личико',\n",
       " 'Андердог',\n",
       " 'Андре Рьё. Концерт в Маастрихте',\n",
       " 'Андреа Бочелли: Любовь в Портофино',\n",
       " 'Андрей Рублев.',\n",
       " 'Андроид',\n",
       " 'Анжелика, маркиза ангелов',\n",
       " 'Аниматор',\n",
       " 'Анимационный альманах \"Ладушки\" (ф. \"Дрип-Дроп\")',\n",
       " 'Анимационный альманах \"Ладушки\" (ф. \"Ладушки\")',\n",
       " 'Анимационный альманах \"Ладушки\" (ф. \"Про бабу, которая хотела улететь\")',\n",
       " 'Анимационный сериал \"Котяткины истории-2\"',\n",
       " 'Анимационный сериал \"Лунтик и его друзья\" (490-502 серии)',\n",
       " 'Анимационный фильм \"Динозавр Рики\", серия \"Пылесос\"',\n",
       " 'Анимационный фильм \"Динозавр Рики\", серия \"Ремонт\"',\n",
       " 'Анимационный фильм \"Динозавр Рики\", серия \"Спорт\"',\n",
       " 'Анимационный фильм \"Динозавр Рики\", серия \"Темные силы\"',\n",
       " 'Анимационный фильм \"Малышарики 3\", серия \"Брызгалки\"',\n",
       " 'Анимационный фильм \"Малышарики 3\", серия \"Дом для рыбки\"',\n",
       " 'Анимационный фильм \"Малышарики 3\", серия \"Нужная вещь\"',\n",
       " 'Анимационный фильм \"Малышарики 3\", серия \"Подарок\"',\n",
       " 'Анимационный фильм \"Малышарики 3\", серия \"Слон\"',\n",
       " 'Анимационный фильм \"Пинкод. Гуманитарные технологии 3\", серия \"Собратья по разуму. Часть 3\"',\n",
       " 'Анимационный фильм \"Пинкод. Гуманитарные технологии\", серии \"Бортовой дневник 4\", \"Игры с памятью\"',\n",
       " 'Анимационный фильм \"Сказки полуночи\"',\n",
       " 'Анимационный фильм \"Смешарики 7\", серия \"Красная книга\"',\n",
       " 'Анимационный фильм \"Смешарики 7\", серия \"Слишком фигурное катание\"',\n",
       " 'Анимационный фильм \"Смешарики. Начало\"',\n",
       " 'Анимационный фильм \"Смешарики. Спорт 2\", серия \"Эксклюзивное интервью/Таланты и поклонница\"',\n",
       " 'Анимированная жизнь',\n",
       " 'Анина: История самого необычного наказания /По произведению Сергио Лопеса Суареса/',\n",
       " 'Анкор, ещё анкор!',\n",
       " 'Анна',\n",
       " 'Анна Каренина /По одноименному роману Л.Н.Толстого/.',\n",
       " 'Анна Каренина. Интимный дневник',\n",
       " 'Анна Каренина. История Вронского',\n",
       " 'Анна Каренина. Мюзикл',\n",
       " 'Анна Павлова',\n",
       " 'Аннушка',\n",
       " 'Аномалия',\n",
       " 'Аномия',\n",
       " 'Анон',\n",
       " 'Аноним',\n",
       " 'Анонимные романтики',\n",
       " 'Антиганг',\n",
       " 'Антикиллер - 2.',\n",
       " 'Антон Чехов',\n",
       " 'Антон Чехов и Исаак Левитан: двойной портрет в интерьере эпохи',\n",
       " 'Антропоид',\n",
       " 'Антураж',\n",
       " 'Апартаменты 1303 3D',\n",
       " 'Апгрейд',\n",
       " 'Апокалипсис сегодня. Расширенная версия',\n",
       " 'Аполлон 18',\n",
       " 'Аполлон-11',\n",
       " 'Апостасия',\n",
       " 'Апостол Камчатки',\n",
       " 'Апофеоз',\n",
       " 'Аптекарь.',\n",
       " 'Арахисовый сокол',\n",
       " 'Арбузные корки',\n",
       " 'Арвентур. Тайна морского пейзажа',\n",
       " 'Аргентина',\n",
       " 'Арена смелых',\n",
       " 'Арестант no name',\n",
       " 'Арестуйте меня',\n",
       " 'Ариран',\n",
       " 'Ариэтти из страны лилипутов',\n",
       " 'Арктика 3D',\n",
       " 'Арло: говорящий поросенок',\n",
       " 'Армагеддец',\n",
       " 'Армия машин',\n",
       " 'Арриго Бойто. Мефистофель /По произведению Гёте/. Постановка оперного театра Сан-Франциско',\n",
       " 'Артемизия',\n",
       " 'Артист.',\n",
       " 'Артур Сеймур Салливан. Микадо. Постановка Sydney Opera House',\n",
       " 'Артур Чилингаров. Монологи',\n",
       " 'Артур и война двух миров',\n",
       " 'Аршалуйс',\n",
       " 'Асса',\n",
       " 'Астерикс и Обеликс в Британии 3D',\n",
       " 'Астерикс и тайное зелье',\n",
       " 'Астерикс: Земля Богов',\n",
       " 'Астрал',\n",
       " 'Астрал 3',\n",
       " 'Астрал 4: Последний ключ ',\n",
       " 'Астрал на улице Арлетт',\n",
       " 'Астрал. Глава 2',\n",
       " 'Астрал. Глава вторая',\n",
       " 'Астрал: Новое измерение',\n",
       " 'Ася_',\n",
       " 'Атака на Перл-Харбор',\n",
       " 'Атака пауков',\n",
       " 'Атака титанов. Фильм второй: Конец света',\n",
       " 'Атаман_',\n",
       " 'Атлантида',\n",
       " 'Атлантида: Затерянный мир',\n",
       " 'Атлантида: затерянный мир',\n",
       " 'Атлантика',\n",
       " 'Аттестат зрелости',\n",
       " 'Аустерлиц (2016)',\n",
       " 'Аутло/Outlaw',\n",
       " 'Афганский алфавит',\n",
       " 'Афера доктора Нока',\n",
       " 'Афера по-американски',\n",
       " 'Афера по-английски',\n",
       " 'Афера под прикрытием',\n",
       " 'Аферисты поневоле',\n",
       " 'Афтершок',\n",
       " 'Аэлита, не приставай к мужчинам',\n",
       " 'Аэронавты',\n",
       " 'Аэросмит. Рок для восходящего солнца',\n",
       " 'Аэротачки',\n",
       " 'БЕЛАЯ МАМА/WHITE МАМА',\n",
       " 'БЕЛЫЙ ЯГЕЛЬ',\n",
       " 'БЕРЦЫ',\n",
       " 'БИРМИНГЕМСКИЙ ОРНАМЕНТ',\n",
       " 'БИРМИНГЕМСКИЙ ОРНАМЕНТ. Часть 2',\n",
       " 'БЛИЖЕ, ЧЕМ КАЖЕТСЯ.',\n",
       " 'БОГАТЫРЯТА',\n",
       " 'БОЛЕРО17',\n",
       " 'БОЛЬШОЙ',\n",
       " 'БОРИС ГОДУНОВ',\n",
       " 'БУНКЕР-42. КАПСУЛА ВРЕМЕНИ',\n",
       " 'БЫК',\n",
       " 'Баария',\n",
       " 'Баба Яга',\n",
       " 'Бабадук',\n",
       " 'Бабай',\n",
       " 'Бабич',\n",
       " 'Бабло',\n",
       " 'Бабоньки',\n",
       " 'Бабочки',\n",
       " 'Бабочки (2016)',\n",
       " 'Бабушка легкого поведения',\n",
       " 'Бабушка лёгкого поведения 2',\n",
       " 'Бабье царство_',\n",
       " 'Баги',\n",
       " 'Багровая мята',\n",
       " 'Багровый пик',\n",
       " 'БайБайМэн',\n",
       " 'Байгал',\n",
       " 'Байкал - Сердце мира 3D',\n",
       " 'Байкал. Магия воды',\n",
       " 'Байкеры-3',\n",
       " 'Байконур. Падение \"Сатаны\"',\n",
       " 'Бал (2016)',\n",
       " 'Балбесы /По книге \"Вселенная Баллинга и Баха\"/',\n",
       " 'Балерина',\n",
       " 'Балет сегодня',\n",
       " 'Балканский рубеж',\n",
       " 'Балкон Европы',\n",
       " 'Баллада о доблестном рыцаре Айвенго',\n",
       " 'Баллистика: Экс против Сивер.',\n",
       " 'Бальные танцы',\n",
       " 'Бамблби',\n",
       " 'Банда Котиков',\n",
       " 'Банда Ольсена: рок-звезды зажигают',\n",
       " 'Бандитки.',\n",
       " 'Бандиты',\n",
       " 'Банды Индостана',\n",
       " 'Банкомат',\n",
       " 'Банщик Президента, или Пасечники Вселенной',\n",
       " 'Бар \"Гадкий койот\"',\n",
       " 'Барашек Шон.',\n",
       " 'Барбара.',\n",
       " 'Бармен.',\n",
       " 'Бархатный сезон',\n",
       " 'Баския: Взрыв реальности',\n",
       " 'Басни И.А.Крылова',\n",
       " 'Бассейн',\n",
       " 'Батальонъ',\n",
       " 'Бахубали: Рождение легенды',\n",
       " 'Бачата на 33-м километре',\n",
       " 'Бег иноходца',\n",
       " 'Беги без оглядки',\n",
       " 'Беги.',\n",
       " 'Беглец (2015)',\n",
       " 'Беглецы',\n",
       " 'Беглецы -',\n",
       " 'Бегство рогатых викингов или пять дней из джизни Джонни Воробьёва',\n",
       " 'Бегущая от реальности',\n",
       " 'Бегущий в лабиринте /По произведению Джеймса Дашнера/',\n",
       " 'Бегущий в лабиринте: Испытание огнем /По произведению Джеймса Дашнера/',\n",
       " 'Бегущий в лабиринте: Лекарство от смерти',\n",
       " 'Бегущий по лезвию 2049',\n",
       " 'Бедная богатая девочка',\n",
       " 'Бедуин',\n",
       " 'Без вины виноватые',\n",
       " 'Без границ',\n",
       " 'Без грома пушек',\n",
       " 'Без истерики!',\n",
       " 'Без компромиссов_',\n",
       " 'Без меня',\n",
       " 'Без мужчин',\n",
       " 'Без права на ошибку .',\n",
       " 'Без свидетелей',\n",
       " 'Без солнца',\n",
       " 'Без срока давности.',\n",
       " 'Без тормозов (2016)',\n",
       " 'Без ума от Тиффани',\n",
       " 'Безбашенные',\n",
       " 'Безбрачная неделя',\n",
       " 'Безопасность не гарантируется',\n",
       " 'Безответная любовь_',\n",
       " 'Безотцовщина',\n",
       " 'Безумная свадьба',\n",
       " 'Безумное свидание',\n",
       " 'Безумные преподы',\n",
       " 'Безумные соседи',\n",
       " 'Безумный Макс 2: Воин дороги',\n",
       " 'Безумный Макс: Дорога ярости',\n",
       " 'Безумцы',\n",
       " 'Безупречная жизнь',\n",
       " 'Белая белая ночь',\n",
       " 'Белая графиня',\n",
       " 'Белая лента',\n",
       " 'Белая мгла /По комиксу Грега Рукка и Стива Либера/',\n",
       " 'Белка и Стрелка. Звездные собаки',\n",
       " 'Белка и Стрелка. Лунные приключения',\n",
       " 'Белка и Стрелка. Тайны космоса (1-5 серии)',\n",
       " 'Белки в деле',\n",
       " 'Белль и Себастьян',\n",
       " 'Белль и Себастьян: Приключения продолжаются',\n",
       " 'Белль и Себастьян: друзья навек',\n",
       " 'Белое вино из Баббудойу',\n",
       " 'Белоснежка (Snow White; Blancanieves)',\n",
       " 'Белоснежка и Охотник 2',\n",
       " 'Белоснежка и охотник',\n",
       " 'Белоснежка. Сказка для взрослых',\n",
       " 'Белоснежка: Месть гномов',\n",
       " 'Белые ночи (2017)',\n",
       " 'Белые ночи почтальона Алексея Тряпицына',\n",
       " 'Белые ночи.',\n",
       " 'Белый Параллелепипед',\n",
       " 'Белый Тигр',\n",
       " 'Белый бог',\n",
       " 'Белый лебедь',\n",
       " 'Белый парень Рик',\n",
       " 'Белый песок',\n",
       " 'Бельканто',\n",
       " 'Бемоль',\n",
       " 'Бен-Гур (2016)',\n",
       " 'Бенджамин Бриттен. Питер Граймс /По поэме Джорджа Крэбба \"Городок\"/. Постановка English National Opera',\n",
       " 'Беовульф',\n",
       " 'Бергдорф Гудман: Больше века на вершине модного Олимпа',\n",
       " 'Бергман',\n",
       " 'Берег.',\n",
       " 'Берегись автомобиля (цветная версия)',\n",
       " 'Берегите мужчин!',\n",
       " 'Березовский - это кто?',\n",
       " 'Беременный',\n",
       " 'Берлин, я люблю тебя',\n",
       " 'Берлинале шортс: Чудо; Майк; Темная комната; Три камня для Жана Жене; Титьки; Любовные игры; Оптический звук.',\n",
       " 'Берлинский синдром',\n",
       " 'Берлинский фейсконтрольщик',\n",
       " 'Бернини',\n",
       " 'Берсерк: Золотой век. Фильм I: бехерит Властителя',\n",
       " 'Берсерк: Золотой век. Фильм II: Битва за Долдрей',\n",
       " 'Берсерк: Золотой век. Фильм III: Сошествие',\n",
       " 'Беспредел (Outrage; Autoreiji)',\n",
       " 'Беспредел _',\n",
       " 'Бесславные придурки',\n",
       " 'Бесславные ублюдки',\n",
       " 'Бессмертный гарнизон',\n",
       " 'Бессонная ночь',\n",
       " 'Бестолковая защита',\n",
       " 'Бесшабашное ограбление',\n",
       " 'Бесы.',\n",
       " 'Бешеное золото',\n",
       " 'Бешеные деньги.',\n",
       " 'Бибинур',\n",
       " 'Библиотекарь.',\n",
       " 'Бивень',\n",
       " 'Бизнесмены',\n",
       " 'Билет на Вегас',\n",
       " 'Битва',\n",
       " 'Битва в пути',\n",
       " 'Битва за Землю',\n",
       " 'Битва за Москву',\n",
       " 'Битва за Севастополь',\n",
       " 'Битва полов',\n",
       " 'Битва с экстрасенсами',\n",
       " 'Битва титанов.',\n",
       " 'Битва у Красной скалы',\n",
       " 'Бладрейн',\n",
       " 'Бладфест',\n",
       " 'Блеф .',\n",
       " 'Ближе, чем кажется',\n",
       " 'Ближе, чем кажется (2017)',\n",
       " 'Близкий враг',\n",
       " 'Близнецы',\n",
       " 'Близнецы-убийцы',\n",
       " 'Близнецы_',\n",
       " 'Блокада. День 901-й',\n",
       " 'Блокада. Искупление',\n",
       " 'Блокбастер',\n",
       " 'Блокбастер 3D',\n",
       " 'Блондинка в эфире',\n",
       " 'Блондинка и блондинка',\n",
       " 'Блондинка и разбойницы',\n",
       " 'Блуждание ягнят',\n",
       " 'Блэйд - 2',\n",
       " 'Блэйд. Троица',\n",
       " 'Блэйд: Троица',\n",
       " 'Блэки летит на Луну',\n",
       " 'Боб Марли',\n",
       " 'Бобби Фишер против всего мира',\n",
       " 'Бобр добр (серии: \"Соседи\", \"Пришельцы\", \"Поход\", \"Батут\", \"Зависть погубила\", \"Горки\", \"Симулянт\", \"Вой в лесу\", \"На испуг\", \"Подмена\", \"Ку-ку\", \"Помощники\", \"Клад\")',\n",
       " 'Бобро поржаловать!',\n",
       " 'Бобёр',\n",
       " 'Богатырша',\n",
       " 'Богемская рапсодия',\n",
       " 'Боги Египта',\n",
       " 'Богиня',\n",
       " 'Боевая кукла',\n",
       " 'Боевой конь',\n",
       " 'Боец',\n",
       " 'Боже мой!',\n",
       " 'Боже, благослови Америку',\n",
       " 'Боже, храни мой каблук',\n",
       " 'Божественная любовь',\n",
       " 'Бои без правил',\n",
       " 'Бой',\n",
       " 'Бой без правил',\n",
       " 'Бой после победы',\n",
       " 'Бой с тенью-3: последний раунд',\n",
       " 'Бойся своих желаний',\n",
       " 'Бойфренд из будущего',\n",
       " 'Бойцовая воля',\n",
       " 'Бойцовский клуб',\n",
       " 'Болевой порог',\n",
       " 'Болливуд: величайшая история любви',\n",
       " 'Болотные солдаты',\n",
       " 'Болт и Блип спешат на помощь',\n",
       " 'Боль и слава',\n",
       " 'Большая Ржака',\n",
       " 'Большая афера',\n",
       " 'Большая афера в маленьком городе',\n",
       " 'Большая вечеринка',\n",
       " 'Большая игра',\n",
       " 'Большая игра / Big Game',\n",
       " 'Большая поэзия',\n",
       " 'Большая свадьба',\n",
       " 'Больше - Меньше',\n",
       " 'Больше чем секс',\n",
       " 'Больше, чем друг',\n",
       " 'Больше, чем любовь \"Любимая женщина режиссера Тодоровского\"',\n",
       " 'Больше, чем любовь.',\n",
       " 'Больше, чем любовь_',\n",
       " 'Большие \"мамочки\": сын как отец',\n",
       " 'Большие глаза',\n",
       " 'Большие надежды /По роману Чарльза Диккенса/',\n",
       " 'Большое путешествие',\n",
       " 'Большое путешествие вглубь океанов 3D: Возвращение',\n",
       " 'Большой Вавилон',\n",
       " 'Большой Лебовски.',\n",
       " 'Большой Фитиль',\n",
       " 'Большой аттракцион',\n",
       " 'Большой белый танец',\n",
       " 'Большой всплеск',\n",
       " 'Большой злой лис и другие сказки',\n",
       " 'Большой и добрый великан',\n",
       " 'Большой и маленький',\n",
       " 'Большой кошачий побег',\n",
       " 'Большой собачий побег',\n",
       " 'Большой солдат',\n",
       " 'Бомж с дробовиком',\n",
       " 'Бомж.',\n",
       " 'Борг\\\\Макинрой',\n",
       " 'Борец и клоун',\n",
       " 'Борис Годунов',\n",
       " 'Борцу не больно',\n",
       " 'Босиком по городу',\n",
       " 'Босиком по мостовой',\n",
       " 'Босс-Молокосос',\n",
       " 'Брак за решеткой',\n",
       " 'Брандо без купюр',\n",
       " 'Братва из джунглей',\n",
       " 'Братец медвежонок /По одноименному произведению Лорны Кемерун/',\n",
       " 'Братство',\n",
       " 'Братц',\n",
       " 'Братья      .',\n",
       " 'Братья Гримм',\n",
       " 'Братья Карамазовы',\n",
       " 'Братья Медведи: Тайна трёх миров',\n",
       " 'Братья Систерс',\n",
       " 'Братья Ч',\n",
       " 'Братья из Гримсби',\n",
       " 'Бременские разбойники',\n",
       " 'Брестская крепость.',\n",
       " 'Бригада. Наследник',\n",
       " 'Бриджит Джонс 3',\n",
       " 'Брови',\n",
       " 'Бросок кобры',\n",
       " 'Бруклин',\n",
       " 'Брюс Ли: Рождение Дракона',\n",
       " 'Бугай',\n",
       " 'Буги-вуги.',\n",
       " 'Буду помнить',\n",
       " 'Будущее.',\n",
       " 'Будь что будет',\n",
       " 'Будьте моим мужем',\n",
       " 'Букашки 2',\n",
       " 'Букашки 3D',\n",
       " 'Букашки. Приключение в Долине Муравьев',\n",
       " 'Буквоежка',\n",
       " 'Букшоп',\n",
       " 'Бульвар страха',\n",
       " 'Бумажные города /По произведению Джона Грина/',\n",
       " 'Бункер_',\n",
       " 'Бунт ушастых',\n",
       " 'Бунтари без стыда',\n",
       " 'Бунюэль в лабиринте черепах',\n",
       " 'Бурлеск',\n",
       " 'Буря /По одноименной пьесе У.Шекспира/',\n",
       " 'Было. Есть. Будет',\n",
       " 'Быстрее, чем кролики',\n",
       " 'Быть Астрид Линдгрен',\n",
       " 'Быть Харви Вайнштейном',\n",
       " 'Быть или не быть_',\n",
       " 'Бьютифул',\n",
       " 'Бэйбэрикээн',\n",
       " 'Бэст Сай-Фай (Best Sci-Fi)',\n",
       " 'Бэтмен против Супермена: На заре справедливости',\n",
       " 'Бэтмэн и Робин /По мотивам комиксов Боба Кейна/',\n",
       " 'Бэтмэн: Начало',\n",
       " 'Бёрдмэн',\n",
       " 'В Кейптаунском порту...',\n",
       " 'В России идет снег',\n",
       " 'В Сочи всегда солнечно',\n",
       " 'В активном поиске (2016)',\n",
       " 'В белом плену',\n",
       " 'В гостях у Элис',\n",
       " 'В двух шагах от Славы.',\n",
       " 'В доме',\n",
       " 'В доме отца',\n",
       " 'В другой стране',\n",
       " 'В квадрате 45',\n",
       " 'В краю крови и меда',\n",
       " 'В маленьком городе...',\n",
       " 'В метре друг от друга',\n",
       " 'В небо... за мечтой',\n",
       " 'В объятиях лжи',\n",
       " 'В одной упряжке.',\n",
       " 'В одну сторону (2006)',\n",
       " 'В ожидании Шарлотты Корде',\n",
       " 'В ожидании молнии',\n",
       " 'В ожидании моря',\n",
       " 'В окружении',\n",
       " 'В первый раз.',\n",
       " 'В плену города грёз',\n",
       " 'В погоне за ветром',\n",
       " 'В погоне за счастьем .',\n",
       " 'В поисках Дори.     Песочник',\n",
       " 'В поисках Евы',\n",
       " 'В поисках Истины',\n",
       " 'В поисках Немо.',\n",
       " 'В поисках Немо_',\n",
       " 'В поисках йети',\n",
       " 'В поисках света',\n",
       " 'В постели с Викторией',\n",
       " 'В ритме сердца',\n",
       " 'В сердце моря',\n",
       " 'В следующий раз я буду стрелять в сердце /По роману Ивана Стефановича \"Убийца вне подозрений\"/',\n",
       " 'В спорте только девушки',\n",
       " 'В стране без женщин',\n",
       " 'В субботу',\n",
       " 'В тихом омуте',\n",
       " 'В тумане /По одноименной повести Василя Быкова/',\n",
       " 'В фокусе',\n",
       " 'В центре внимания',\n",
       " 'В четверг и больше никогда',\n",
       " 'В шесть часов вечера после войны',\n",
       " 'ВЕЗУХА! (11)',\n",
       " 'ВЕРКА-ФУЭТЕ',\n",
       " 'ВЕСУРИ',\n",
       " 'ВИЙ 3D',\n",
       " 'ВМаяковский',\n",
       " 'ВОДЯНАЯ',\n",
       " 'ВОИН.com',\n",
       " 'ВОСХОД ЗАКАТ',\n",
       " 'ВОСЬМЕРКА',\n",
       " 'ВРОНГ',\n",
       " 'ВСЕ И СРАЗУ',\n",
       " 'ВСТАВАЙ И БЕЙСЯ',\n",
       " 'ВСЯ НАША НАДЕЖДА...',\n",
       " 'ВЫЖИТЬ И ПОБЕДИТЬ',\n",
       " 'ВЫХОД',\n",
       " 'ВЫШЕ НА ЭТАЖ',\n",
       " 'Вавилон',\n",
       " 'Вайолет Эвергарден: вечность и призрак пера',\n",
       " 'Вакансия',\n",
       " 'Вакантна жизнь шеф-повара',\n",
       " 'Валентин и Валентина',\n",
       " 'Валентина',\n",
       " 'Валериан и город тысячи планет',\n",
       " 'Вальгалла: Рагнарек',\n",
       " 'Вальс для Моники',\n",
       " 'Вам и не снилось',\n",
       " 'Вампирский засос',\n",
       " 'Вампирша против Франкенштейнш',\n",
       " 'Ван Гог. На пороге вечности',\n",
       " 'Ван Гог. С любовью, Винсент',\n",
       " 'Ван Гог: Золото и лазурь',\n",
       " 'Ван Гоги',\n",
       " 'Ванька Тепляшин',\n",
       " 'Варда глазами Аньес',\n",
       " 'Варенье из сакуры.',\n",
       " 'Варкрафт',\n",
       " 'Вас ожидает гражданка Никанорова',\n",
       " 'Василиса',\n",
       " 'Васса',\n",
       " 'Вася',\n",
       " 'Ватерлоо',\n",
       " 'Ватиканские записи',\n",
       " 'Ваш репетитор',\n",
       " 'Ваша честь',\n",
       " 'Вверх',\n",
       " 'Вдали от обезумевшей толпы /По одноименному произведению Томаса Харди/',\n",
       " 'Вдвоем на льдине.',\n",
       " 'Вдовы',\n",
       " 'Вдохновенный свидетель Истины',\n",
       " 'Вдребезги_',\n",
       " 'Ведьма',\n",
       " 'Ведьма .',\n",
       " 'Ведьма войны',\n",
       " 'Ведьма из Блэр: Новая глава',\n",
       " 'Ведьмин ключ',\n",
       " 'Ведьмина гора',\n",
       " 'Ведьмы',\n",
       " 'Ведьмы из Сугаррамурди',\n",
       " 'Везучая.',\n",
       " 'Везучий случай',\n",
       " 'Век Адалин',\n",
       " 'Великая красота',\n",
       " 'Великая мистификация хип-хопа',\n",
       " 'Великая стена',\n",
       " 'Великие битвы России',\n",
       " 'Великий Гэтсби /По одноименному роману Фрэнсиса Скотта Фицджеральда/',\n",
       " 'Великий Северный Путь',\n",
       " 'Великий воин Албании Скандербег',\n",
       " 'Великий диктатор',\n",
       " 'Великий мастер',\n",
       " 'Великий уравнитель',\n",
       " 'Великий уравнитель 2',\n",
       " 'Великолепная',\n",
       " 'Великолепная афера /По роману Эрика Гарсии/',\n",
       " 'Великолепная семерка (2016)',\n",
       " 'Величайший кутюрье',\n",
       " 'Величайший шоумен',\n",
       " 'Велкам Хом',\n",
       " 'Велотачки',\n",
       " 'Вельзевул',\n",
       " 'Венера в мехах',\n",
       " 'Венецианские львы',\n",
       " 'Венецианский детектив',\n",
       " 'Венеция зовет',\n",
       " 'Веном',\n",
       " 'Вера (2016)',\n",
       " 'Верность',\n",
       " 'Вернуть Бена',\n",
       " 'Вероника решает умереть',\n",
       " 'Вероника решает умереть (2009)',\n",
       " 'Вертолёты',\n",
       " 'Вес воды',\n",
       " 'Веселые каникулы',\n",
       " 'Весенние надежды',\n",
       " 'Весна',\n",
       " 'Вествуд: панк, икона, активист',\n",
       " 'Весь Этот Джем',\n",
       " 'Весь этот мир',\n",
       " 'Весёлая карусель №49',\n",
       " 'Весёлая ферма',\n",
       " 'Весёлые ребята ;)',\n",
       " 'Ветер крепчает',\n",
       " 'Ветреная река',\n",
       " 'Вечер с Беверли Лафф Линн',\n",
       " 'Вечеринка',\n",
       " 'Вечеринка .',\n",
       " 'Вечерний лабиринт',\n",
       " 'Вечерняя школа',\n",
       " 'Вечная жизнь Александра Христофорова',\n",
       " 'Вечно молодой/ Все будет рок-н-ролл',\n",
       " 'Вечное возвращение.',\n",
       " 'Вечность (2016)',\n",
       " 'Вечный зов.',\n",
       " 'Вечный холод',\n",
       " 'Взломать блогеров',\n",
       " 'Взорвать Гитлера',\n",
       " 'Взрослая дочь или тест на ...',\n",
       " 'Взрослые дети.',\n",
       " 'Взрослые игры',\n",
       " 'Взрывная блондинка',\n",
       " 'Видели ночь',\n",
       " 'Виджай и Я',\n",
       " 'Видно будет',\n",
       " 'Видок: Охотник на призраков',\n",
       " 'Вижу лишь тебя',\n",
       " 'Византия',\n",
       " 'Визит',\n",
       " 'Визит (2015)',\n",
       " 'Викинг .',\n",
       " 'Викинг 18+',\n",
       " 'Викинги',\n",
       " 'Викинги. Британский музей',\n",
       " 'Виктор',\n",
       " 'Виктор Франкенштейн',\n",
       " 'Виктория и Абдул',\n",
       " 'Виктория: История любви /По роману Кнута Гамсуна/',\n",
       " 'Виктория_',\n",
       " 'Вилли и крутые тачки',\n",
       " 'Виноваты звезды /По произведению Д.Грина/',\n",
       " 'Винченцо Беллини. Норма /По произведению Александра Суме \"Норма или Детоубийство\"/. Постановка Театро Комунале (Болонья)',\n",
       " 'Винченцо Беллини. Пуритане. Постановка Театро Комунале (Болонья)',\n",
       " 'Винчестер. Дом, который построили призраки',\n",
       " 'Виолет и Дейзи',\n",
       " 'Вирус (2016)',\n",
       " 'Вирус любви',\n",
       " 'Виселица',\n",
       " 'Високосный год',\n",
       " 'Вита и Вирджиния',\n",
       " 'Витя Глушаков - друг апачей',\n",
       " 'Вишенка на новогоднем торте',\n",
       " 'Вкус Америки',\n",
       " 'Вкус Средиземного моря',\n",
       " 'Вкус жизни',\n",
       " 'Владение 18',\n",
       " 'Владимир Маканин. Цена личного голоса',\n",
       " 'Владыка времени',\n",
       " 'Властелин колец: Братство кольца /По произведению Джона Рональда Руэла Толкиена \"Властелин колец: Хранители\"/',\n",
       " 'Властелин колец: Возвращение короля /По произведению Джона Рональда Руэла Толкиена \"Властелин колец: Возвращение государя\"/',\n",
       " 'Властелин колец: Две крепости /По произведению Джона Рональда Руэла Толкиена \"Властелин колец: Две твердыни\"/',\n",
       " 'Властелин любви',\n",
       " 'Властелин разметки',\n",
       " 'Властелин танца 3D',\n",
       " 'Власть',\n",
       " 'Власть убеждений',\n",
       " 'Влечение .',\n",
       " 'Влюбленные_',\n",
       " 'Влюбленный скорпион /По роману Карлоса Бардема/',\n",
       " 'Вне Игры (серии 1-12)',\n",
       " 'Вне времени (2014)',\n",
       " 'Вне поля зрения /По роману Элмора Леонарда/',\n",
       " 'Вне/себя',\n",
       " 'Внеклассные занятия в 3D (Монстры из бездны; Язык насекомых; Как устроена клетка; Путешествие к солнцу)',\n",
       " 'Внимание, черепаха!',\n",
       " 'Внутри Льюина Дэвиса',\n",
       " ...]"
      ]
     },
     "execution_count": 695,
     "metadata": {},
     "output_type": "execute_result"
    }
   ],
   "source": [
    "# Смотрим категории в столбце title\n",
    "\n",
    "df['title'].sort_values().unique().tolist()"
   ]
  },
  {
   "cell_type": "code",
   "execution_count": 696,
   "metadata": {},
   "outputs": [
    {
     "data": {
      "text/plain": [
       "[' Анимационный',\n",
       " ' Художественный',\n",
       " 'Анимационный',\n",
       " 'Документальный',\n",
       " 'Музыкально-развлекательный',\n",
       " 'Научно-популярный',\n",
       " 'Прочие',\n",
       " 'Художественный']"
      ]
     },
     "execution_count": 696,
     "metadata": {},
     "output_type": "execute_result"
    }
   ],
   "source": [
    "# Смотрим категории в столбце type\n",
    "\n",
    "df['type'].sort_values().unique().tolist()"
   ]
  },
  {
   "cell_type": "code",
   "execution_count": 697,
   "metadata": {},
   "outputs": [
    {
     "data": {
      "text/plain": [
       "[' АНО \"Кинофорум\"',\n",
       " ' Ауматик Интертейнмент, Блюмхаус Продакшнз и др.',\n",
       " ' ЗАО \"Кинокомпания ФаворитФильм\" по заказу ООО \"ФАВОРИТ МЕДИА\"',\n",
       " ' Константин Фильм, А Эр Ди Дегето Фильм, Дюне Филис, Икури Филмз, Медуза Фильм, У Эф А Интернэшнл Филм энд Ти Ви Продуцион, Юниверсум Филм ',\n",
       " ' ООО \"АВАТАРА\"',\n",
       " ' ООО \"КОСТАФИЛЬМ\"',\n",
       " ' ООО \"КиноФирма\"',\n",
       " ' ООО \"Кинокомпания \"Студия ПРЕССИНГ\"',\n",
       " ' ООО \"Магнум-фильм\"',\n",
       " ' ООО \"Продюсерская фирма Игоря Толстунова\"',\n",
       " ' ООО \"Студия \"Рой\"',\n",
       " ' ООО \"Студия 25\", ООО \"Медиа Арт Студио\", ООО \"Продюсерский центр \"Синема Продакшн\" ',\n",
       " ' ООО \"Студия МЕТРАФИЛЬМС\", Компания \"TASSE film\", Компания \"SIRENA film\"',\n",
       " ' ООО \"ТаББаК\"',\n",
       " ' ООО \"ТаББаК\", ООО \"Анимационная студия \"Москва\"',\n",
       " ' ООО \"ТаББаК\", ООО \"Весёлая Компания\"',\n",
       " ' ООО \"Форс Медиа\"',\n",
       " ' ООО \"Хардкор\", ООО \"Патриот продакшнс\"',\n",
       " ' ООО \"Энджой мувиз\"',\n",
       " ' ООО \"Энджой мувиз\", ООО \"Эмоушен Пикчерз\", ООО \"РЕНОВАЦИО интертейнмент\"',\n",
       " ' ООО Продюсерский центр \"Фёдор Добронравов\"',\n",
       " ' Юниверсал Пикчерз',\n",
       " '\"Дино де Лаурентиис\" (Италия) при участии Киностудии \"Мосфильм\"',\n",
       " '\"Союздетфильм\", \"Мосфильм\", \"Москинокомбинат\"',\n",
       " '\"Студия \"Птица Феникс\" Татьяны Новиковой',\n",
       " '\"Эскиз и Каргин Студио\"',\n",
       " '02 Филмз, Ромбэс Медиа',\n",
       " '100 Барес, 369 Продюксьонес, Антен 3 Фильм, Катманду Брендид Интертейнмент, Плюраль - Джемпса, Прана Анимейшн Студиос, Телевизион Федераль',\n",
       " '100 Барес, Институто Националь де Сине и Артс Аудивизуалес, Институто де ла Синематографиа и де ла Артс Аудивизуалес, Министеро де Култура, Телевизион Федераль, Торнасол Фильм   ',\n",
       " '100 Барс, Канал + Испания, Хаддок Фильм, Институто Националь Сине Арте Аудивизуаль, Институто де Кредито Офисиаль, Телевидение Испании, Федеральное Телевидение, Торнасол Филмз ',\n",
       " '1000 Айз, Брон Криэйтив Студиос, Нью Лайн Синема',\n",
       " '1212 Интертейнмент, Си Би Эс Филмз, Ди Ди Уай, Интертейнмент Уан, Шон Дэниэл Компани',\n",
       " '1492 Пиксерз, Коламбиа Пикчерз, Хэппи Медисон Пикчерз',\n",
       " '1492 Пикчерз, Фокс 2000 Пикчерз, Импринт Интертейнмент, ХХ век Фокс',\n",
       " '16:14 Интертейнмент, Алкон Интертейнмент, Коламбиа Пикчерз, Скотт Фри Продакшнз, Тандерберд Интертейнмент, Торридон Филмз, Уорнер Бразерс',\n",
       " '1821 Пикчерз',\n",
       " '1984 Прайвет Дефенс Контракторс, Кросс Крик Пикчерз, Да Винчи Медиа Венчурс, Дубль Фьючер Филмз, Эксклюзив Медиа Групп, Фри Стейт Пикчерз, Джерси Филмз, Трэвелинг Пикчерз Шоу Компани',\n",
       " '1984 Приват Дефенс Контракторс, Менделей Вижн, Студио Бабелсберг, Вертиго Интертейнмент',\n",
       " '2 ДиЭс Продакшнз',\n",
       " '2.0 Интертейнмент, Браунстоун Продакшнз, Коламбия Пикчерс, Сони Пикчерс Интертейнмент',\n",
       " '2.0 Интертейнмент, Энимал Лоджик Интертейнмент, Энимал Лоджик, Коламбиа Пикчерз, Олив Бридж Интертейнмент, Скрин Австралиа, Сони Пикчерз Анимейшн, Сони Пикчерз Интертейнмент',\n",
       " '2.4.7. Фильм, Марс Фильм, Панаш Продюксьон, Компани Синематографик, Радио Телевизьон Бельж Франкофон, Оранж Синема, Сине +, Банк Посталь Имаж 8, Софисинема 11, Фильм Дистрибусьон, Индефилм 3  ',\n",
       " '2.4.7.Фильм, Франс 2 Синема, Студио Канал, Сине, Банк Посталь Имаж 4, Палатен Этуаль 8, Панаш Продюксьон, Компани Синематографик Эуропенн, Канал +',\n",
       " '20 Сенчюри Фокс де Архентина, Чемо, ЭйчБи Филмз, АйЭнСиЭйЭй',\n",
       " '2003 Продюксьон, Уорнер Бразерс, Тапиока Продюксьон, ТФ1 Фильм Продюксьон, Канал +, Центр Националь де ля Синематографи',\n",
       " '21 Лапс Интертейнмент, ХХ век Фокс',\n",
       " '21 Лэпс Интертейнмент, Медиа Мэджик Интертейнмент, ХХ век Фокс',\n",
       " '21 Лэпс Интертейнмент, ФилмНэйшн Интертейнмент, Лава Беар Филмз',\n",
       " '21 Лэпс Интертейнмент, ХХ век Фокс',\n",
       " '224 Интертейнмент, Интринсик Вэльюи Филмз',\n",
       " '24 Каре Филм',\n",
       " '24 Май Продюксьон, Франс 2 Синема',\n",
       " '26 Филмз, Канзамэн Продакшнз, Плэйтон Продакшнз',\n",
       " '2929 Продакшнз, Индастри Интертейнмент',\n",
       " '2929 Продакшнз, Коста Филмз, Паркес/МакДоналд Продакшнз',\n",
       " '2929 Продакшнз, Чокстоун Пикчерз, Ник Векслер Продакшнз, СтудиоКаналь',\n",
       " '2929 Продакшнс,Эндинет филмс, Экстеншион 765',\n",
       " '2Дэ3Дэ Анимейшн, Комета Фильм, Ирис Продакшнз, Валкинг зе Дог ',\n",
       " '2С Филм',\n",
       " '3 Алити Диджитал',\n",
       " '3 Артс Интертейнмент, Дабл Фичер Филмз, ПиПай Филмз',\n",
       " '3 Артс Интертейнмент, Джоли Пас, Леджендари Пикчерз, Юниверсал Пикчерз',\n",
       " '3 Артс Интертейнмент, Крейзи Хорз Эффектс,Флэшпойнт Интертейнмент, Фокс 2000 Пикчерз',\n",
       " '3 Артс Интертейнмент, Лайкли Стори, Текс Кредит Финанс, Уайлд Банч',\n",
       " '3 Ди Интертейнмент',\n",
       " '300Уэст, Аутоматик',\n",
       " '308 Интертейнмент, И Эл Эф А У Ппродакшнз',\n",
       " '33 Эпо 2 Ти Ви, Фиренце Продуциони, Баббудою Корпорейшн',\n",
       " '3D Интертейнмент, Гевин МакКинней Андероутер Продакшнз, Оушен Фьютче Сосьете, Падис Прожект Эуэй, Риф Чек У Эс Эл А, Юнайтед Нэшнл',\n",
       " '3D Продуциони, Нексо Диджитал',\n",
       " '3БлэкДот, Федерал Филмз, Мейкреди, Пиктчери Кампани, Снупскуиррэл, Уорнер Бразерс',\n",
       " '3Д Интертейнмент',\n",
       " '3Д Сафари, Уалд Эйс Продакшнз, Диджитал Революшн Студиос',\n",
       " '3Ку Медиа, Синесите Анимейшн, Сторископик Фильм, Трабл',\n",
       " '3нэт Студиос и Перколейт Диджитал',\n",
       " '4 1/2 Филм, Хелгеланд Филм, Норведжиан Филм Институт, Зентропа Интертейнментс, Зентропа Интернэшнл Свиден',\n",
       " '4 Кэтс Пикчерз, Генералитат дэ Каталуниа Департамент дэ Культура, Гри Продактс, Икиру Фильм, Институт Катала дэ лэ Эмпресэс Культураль, Институто Синематографиа Арт Аудиовизуалес, Лайтбокс Интертейнмент, Медиасет Эспаньа, Мовистар +, Телесинко Синема ',\n",
       " '40 Акрс энд А Мьюл Филмворкс, Блюмхаус Продакшнс, Леджендари Интертейнмент',\n",
       " '40 Эйкерс энд Мьюл Филмворкс, Вертиго Интертейнмент, Гуд юниверс, Оу Би Продакшнз',\n",
       " '42, Ай Эм Глобал, Импостор Пикчерз',\n",
       " '42, Аутоматик Интертейнмент, Ди-Эм-Джи Интертейнмент, Хэндс-Он Продьюсерс, Ай-Эм Глобал Филм Фанд, Силвер Пикчерз',\n",
       " '42, Крити Продакшнз, ХХ век Фокс',\n",
       " '435 Филмз, Балтик Филм Продакшн, Эго Медиа, Саксониа Интертейнмент, Вертов Студио',\n",
       " '52 Филмз, Е Тэ А',\n",
       " '5656 Филмз, Инферно Пикчерз, Локал Пикчерз, Марс Филмз',\n",
       " '8383 Продакшнз, Блуди Дисгастинг, Коллектив ',\n",
       " '87 Элевен, Компани Филмз, Дефинит Филмз, Хай Бразерс Медиа, Рокет Сайнс, Фанде Роад, Тандер Роад Пикчерз',\n",
       " '87 Эллевн Лансгейт Фандер Роуд Пикчерз',\n",
       " '87Элевен, Клозет он Мондэйс Интертейнмент, Дэнвер энд Дэлила Продакшнз, Филм и Васт, Фокус Фьючерс, Сиерра/Аффинити, Ти Джи Ай Эм Филмз ',\n",
       " '9.Док',\n",
       " 'Cнут Интертейнмент',\n",
       " 'IMAX',\n",
       " 'Life is Short, Pin-Up Production, DPG, Отдел 13',\n",
       " 'MED-EL Elektromedizinische Gerate GmbH',\n",
       " 'UV Studio, LLC',\n",
       " 'А Бэнд Апарт, Родригес Интернэшнл Пикчерз, Трублемейкер Студиос, Дименшн Филмз, Вайнштейн Компани',\n",
       " 'А Ди Ви Филмз, КоМикс Вейв Филмз',\n",
       " 'А Дэ Ка, Аой, Бандай Вижуал Компани, Тоэй Компани, Броадкастинг Систем Оф Ниигата, Броадмедиа Студиос, Ди Комплекс, Дестини, Иннет, Фут Дисковери, Киношита Комутен, Котобуки Спиритс, Ниигата Ниппо, Телевижн Ниигата Неутворк, Йомиури Шимбан, Ти Ви Асахи',\n",
       " 'А Дэ Продюксьон',\n",
       " 'А Е Электра Продакшнз, Авалон Пикчерз, Фокс Серчлайт Пикчерз',\n",
       " 'А Же О Зэ Фильм, Эль Же Эм Синема, Сине Тэ Вэ, Франс 3 Синема, Эль Гэ Эм Продюксьон, Радио Телевизьон Бельж Франкофон, Сага Фильм',\n",
       " 'А ЭМ Джи Продакшнз, Ноординари Филмз, Джей Икс Интертейнмент, Алив Пикчерз, Крафтед Филмз, Фуртин Филмз, Джи Эль И Групп, Арчстоун Дистрибьюшн  ',\n",
       " 'А Эр Пэ Селекцион, Карамель Фильм, Дьяболо Фильм, Энтр Шьен э Лу, Кэбу Продюксьон, Ля Пти Рьен',\n",
       " 'А Эр Пэ Селекцион, Тэ Эф 1 Фильм Продюксьон, Канал +, Иль-де-Франс, Оранж Синема, Национальный центр киматографии, Пуассон Руж Пикчерз',\n",
       " 'А Эр Филмз, Алдамиза Интертейнмент, Медиа Талент Груп',\n",
       " 'А Эс И Интертейнмент, Боилинг Поинт Медиа',\n",
       " 'А энд Е Инди Филмз, Мотто Пикчерз, Роджер Росс Вильямс Продакшнз',\n",
       " 'А энд И ИндеФилмз, Алтиметр Филмз, Пассен Пикчерз',\n",
       " 'А-Филм Бенилюкс, Магнет Рилизинг',\n",
       " 'А.Дамскер',\n",
       " 'А.С.Колчина',\n",
       " 'А24, УайПоинт Интертейнмент',\n",
       " 'АГ Студиос, Денвер энд Дилален Продакшнз, Гуд Юниверз, Поинт Грей Пикчерз',\n",
       " 'АМБИ Групп, Арктик Джастис Муви, Ассемблейдж Интертейнмент',\n",
       " 'АНО \"Золотой Орел\"',\n",
       " 'АНО \"Золотой Орёл\"',\n",
       " 'АНО \"Золотой Орёл\", ООО \"Студия \"ТРИТЭ\" Никиты Михалкова\"',\n",
       " 'АНО \"Интерфест\", ООО \"Пропеллер Продакшн\"',\n",
       " 'АНО \"Кинематографист\"',\n",
       " 'АНО \"КиноДело продакшн\"',\n",
       " 'АНО \"Киностудия \"Гранат\"',\n",
       " 'АНО \"Киностудия Хакасфильм\"',\n",
       " 'АНО \"Кинофорум\"',\n",
       " 'АНО \"Просвещение\"',\n",
       " 'АНО \"РИД \"Новая газета\"',\n",
       " 'АНО \"Сибирская студия независимого кино\"',\n",
       " 'АНО \"Студия \"Позитив-фильм\"',\n",
       " 'АНО \"ТВ-Новости\"',\n",
       " 'АНО \"Творческая студия \"СТЕЛЛА\"',\n",
       " 'АНО \"Творческая студия \"Стелла\"',\n",
       " 'АНО \"Творческое объединение \"ДУЭТ\"',\n",
       " 'АНО \"Телешкола Ирины Долгушиной\"',\n",
       " 'АНО ВО ГИТР',\n",
       " 'АНО Продюсерская киностудия \"12 А\" (Россия), Киностудия \"Czolowka\" (Польша)',\n",
       " 'АНО Студия \"Остров\"',\n",
       " 'АНО Школа-Студия анимационного кино \"ШАР\"',\n",
       " 'АНО Школа-студия анимационного кино \"ШАР\"',\n",
       " 'АНО Школа-студия анимационного кино \"Шар\"',\n",
       " 'АНО содействия развитию кинематографии \"Ангел-Фильм\", ООО \"Кинокомпания Отражение\"',\n",
       " 'АО \"АМАЛЬГАМА СТУДИЯ\"',\n",
       " 'АО \"Аэроплан\"',\n",
       " 'АО \"ВайТ Медиа\"',\n",
       " 'АО \"ВайТ Медиа\", ООО \"Арт Пикчерс Студия\"',\n",
       " 'АО \"ВайТ Медиа\", ООО \"Централ Партнершип\"',\n",
       " 'АО \"Казахфильм\" им.Ш.Айманова, ТОО РПО НПЦ \"Байтерек\", ООО \"ПС ТиВиСи\" Киностудия\"',\n",
       " 'АО \"Казахфильм\" имени Шакена Айманова',\n",
       " 'АО \"Караван\", Компания \"Америкен Дистрибьюшн\", Роскомкино, киностудия \"Курьер\" киноконцерна \"Мосфильм\"',\n",
       " 'АО \"Ленфильм\"',\n",
       " 'АО \"Планетарий\"',\n",
       " 'АО \"ТЕЛЕКОМПАНИЯ\"',\n",
       " 'АО \"ТНТ-Телесеть\", ООО \"ЛЕГИО ФЕЛИКС\", ООО \"1-2-3 Продакшн\"',\n",
       " 'АО \"ТНТ-Телесеть\", ООО \"Продюсерская компания \"Среда\", ООО \"Ника ТВ\"',\n",
       " 'АО \"ТНТ-Телесеть\", ООО Продюсерская компания \"Среда\", ООО \"Ника ТВ\"',\n",
       " 'АО \"ТНТ-Телесеть, ООО \"1-2-3 Продакшн\"',\n",
       " 'АО \"ТПО \"Киностудия им. М.Горького\"',\n",
       " 'АО \"ТПО \"Киностудия им.М.Горького\"',\n",
       " 'АО \"ТПО \"Киностудия им.М.Горького\", ООО \"ЭЙРФИЛЬМ\"',\n",
       " 'АО \"ТПО \"СДФ\"',\n",
       " 'АО \"ТПО \"СДФ\", ИП Миронова Ю.А., Коппер Вьюс Б.В., Иллюме ОЮ',\n",
       " 'АО \"ТПО \"Санкт-Петербургская студия документальных фильмов\"',\n",
       " 'АРД Декадо фильм, Белга фильм, Канал+',\n",
       " 'АУ РС(Я) ГНК \"Сахафильм\"',\n",
       " 'Ааму Фильмкомпани, Ван Ту Филмз, Три Ваннер Продуктион, Елокуюаютио Ою Ааму, Филм И Васт',\n",
       " 'Аардам Анимейшн, Студио Канал',\n",
       " 'Аардман Анимейшн, Сони Пикчерз Анимейшн',\n",
       " 'Аардман Анимейшнз, Сони Пикчерз Анимейшн',\n",
       " 'Абано Продуционес, Анера Филмз, Континентал Продуционес, Ля Тропа дэ Трапо, Райз Продуционес Синематографикас',\n",
       " 'Абдулкадыров Магомед Арипович',\n",
       " 'Аби Шуи, Хакайдо Медиа Партнерс, Джи Дрим, Робот Коммьюникейшнз, Широгами, Шогокухан, Ти Ви Ассаи, Такара Томи, Тохо Компани, Йахо Япон',\n",
       " 'Абидова Аниса Сабировна',\n",
       " 'Абра Продакшнз, Диджитал Дримз Фильм',\n",
       " 'Абрахам Продакшнз, Базелевс Продакшн, Тим Бертон Продакшнз, ХХ век Фокс',\n",
       " 'Авалон, Гомон, Канал +, Сине +, Вин-до Хор Вин-до, Журор Дистрибусьон, А Плюс Имаж 4, Аквитан, Миди-Пирине, Нациоанльцый центр кинематографии ',\n",
       " 'Авалон, Кактус Флоэр, Динамо, Фокс Интернэшнл Продакшнз',\n",
       " 'Авалон, Эскандало Филмз, Эс и Эс Продакшнз, Айворкс Филм и Ти Ви Драма',\n",
       " 'Аватар Медиа',\n",
       " 'Авер Медиа, Экосси Филмз, Филм 4, Норс Вест Вижин, ЮКей Филм Каунсил',\n",
       " 'Автервардз Продакшнз, Аккорд Филм, Канал +, Кристал Филмз, Фиделите Фильм, М6 Фильм, Мистер Мадд, Ти Пи Эс Стар, Уалд Банч',\n",
       " 'Автоматик Интертейнмент, Блумхаус Продакшнз, Интертейнмент Ван',\n",
       " 'Автономная некоммерческая организация \"Творческая студия \"Стелла\"',\n",
       " 'Автономная некоммерческая организация неигрового кино \"Точка зрения\"',\n",
       " 'Автономная некоммерческая организация по развитию и поддержке молодежных театральных и кинопостановок \"СКАУТ\"',\n",
       " 'Автономное учреждение Республики Саха (Якутия) \"Государственная национальная компания \"Сахафильм\"',\n",
       " 'Автономное учреждение Республики Саха (Якутия) ГНК \"Сахафильм\"',\n",
       " 'Агама Фильм, Ларанио Энтерпразис Лтд',\n",
       " 'Агама Фильм, Ларанио Энтерпрайзис Лтд',\n",
       " 'Агат Филмз энд Си/Экс Нило, Элви Продюксьон, Синематографи Эровнули Сентри, Нике Студио',\n",
       " 'Агат Фильм / Си, Ареми Продюксьон, Шелтер Прод., Национальный центр кинематографии, Ля Банк Посталь Имаж',\n",
       " 'Агат Фильм и Си, Артеми Продюксьон, Франс 3 Синема, Радио Телевизьон Бельж Франкофон, Бельгаком, Канал +, Сине +, Франс Телевизьон ',\n",
       " 'Агиле Филмз, Бэ Эф И, Фильм Фонд, Филм Фо, Стрей Бир Продакшнз',\n",
       " 'Агнес Валли/Эммануэль Барро, 31 Юн Филм, Скоуп Пикчерз',\n",
       " 'Адам Шредер Продакшнз, Дэвис Интертейнмент',\n",
       " 'Адвенчур Пикчерз, Оксвик Медиа',\n",
       " 'Азари Медиа, Таба Медиа',\n",
       " 'Аи Филм, Арчер Грей Продакшнз, Си Сау Филмз, ФилмНэшн Интертейнмент, Би-Би-Си',\n",
       " 'Аирбон Продакшнз, Айкон Продакшнз',\n",
       " 'Ай Ди Ти Ви Филм, Кул Бинс, Комет Филм, Спайер Филмз, Риба Филм Интернэшнл, Эн Ти Эр, Нидерландс ФондсВур де Филм, КоБо Фондс',\n",
       " 'Ай Лид Пикчерз, Хау Ту Продакшнз',\n",
       " 'Ай Ремембер Пикчерз, Ньюмаркет, Саммит Интертейнмент, Тим Тодд Продакшн',\n",
       " 'Ай Стил Филм',\n",
       " 'Ай Эм Би Ай Груп, Блэк Спэрроу Филмз, Дарк Рэббит Продакшнз, Премьер Пикчер',\n",
       " 'Ай Эм Глобал',\n",
       " 'Ай Эм Глобал, Блумхауз Продакшнз, Дип Андерграунд Филмз',\n",
       " 'Ай Эм Глобал, Глориа Санчез Продакшнз, Сидни Киммел Интертейнмент',\n",
       " 'Ай Эм Глобал, Лайонсгейт Филмз, Шубокс Филмз ',\n",
       " 'Ай Эм Глобал, Сэмтекс Филмз',\n",
       " 'АйМ Глобал, Ориджинал Филм, Фрикенси Филмз',\n",
       " 'АйЭм Глобал, Шубокс Филмз',\n",
       " 'Айван энд Элайза Пикчерз',\n",
       " 'Айвокс Эгмонд, Моушн Инвестмен Групп, Душка дэ Филм, ТВИНДИ',\n",
       " 'Айворкс, Нордикс Фильм',\n",
       " 'Айдентити Студиос, Херолд Студиос, ЭарКанди',\n",
       " 'Айкон Интертейнмент Интернэшнл',\n",
       " 'Айкон Интертейнмент Интернэшнл, Просперо Пикчерз, Роскет Пикчерз, Скион Филмз',\n",
       " 'Айкон Продакшнз, Собини Филмз',\n",
       " 'Айконокласт, Энонимус Контент, Грисби Продюксьон, ЭсПиКей Пикчерз, Вайс Филмз, Риверстоун Пикчерз',\n",
       " 'Айм Глобал, Автоматик Интертейнмент, Битвин, Скотт Фри Продакшнз, Ворлдвайд Интертейнмент',\n",
       " 'Айм Глобал, Уайн Брозерс Интертейнмент',\n",
       " 'Аймакс Корпорейшн, Локхид Мартин, НАСА, Аймакс Спейс ЛТД',\n",
       " 'Аймакс Корпорейшн, Уорнер Бразерс',\n",
       " 'Аймакс Корпорэйшн',\n",
       " 'Аймакс Корпорэйшн, Локхид Мартин',\n",
       " 'Аймакс Корпорэйшн, Мандэлэй Медиа Артс',\n",
       " 'Аймакс Корпорэйшн, Уорнер Бразерс',\n",
       " 'Аймакс Спейс, Уорнер Бразерс',\n",
       " 'Аймакс, Уорнер Бразерс',\n",
       " 'Айрис Продакшнз, Юрикан Фильм, СеллОут Пикчерз, Британский институт кино',\n",
       " 'Айриш Филм Боад, Аполло Медиа, Фёрндейл Филмз',\n",
       " 'Айриш Филм Боард, Релативити Медиа',\n",
       " 'Айриш Фильм Боард, Липсинк Продакшнз, Октагон Филмз, Реписал Филмз, Фокс Сёрчлайт Пикчерз',\n",
       " 'Айрон Хорз Интертейнмент, Уорнер Бразерс',\n",
       " 'Айронворкс Продакшнз',\n",
       " 'Айсикл Студиос, Скайлэнд Филмс, Виртуала Студиа, Томас Граскур, Бэк ин Таун, Бамф Продукционес, Мордиско Филмс',\n",
       " 'Айтем 7',\n",
       " 'Айтем 7, Бельга Продакшн',\n",
       " 'Айтем 7, Шен Студио',\n",
       " 'Айтыш фильм, Киргизфильм',\n",
       " 'Айэм Глобал, Лоу Спарк Филмз, Аутоматик Энтертейнмент',\n",
       " 'Академия кинематографического и театрального искусства Н.С.Михалкова',\n",
       " 'Акациа Филмд Интертейнмент, Денвер энд Делайла Продакшнз, Камала Филмз, Сэвви Медиа Холдингс, Сандэ Роад',\n",
       " 'Аквариуз Филмз, Дэ Дэ Пэ Студиоз Мельбурн, Интертейнмент Уан, Фильм Виктория, Фулкрум Медиа Финанс, Мементо Фильм Интернэшнл, Скрин Аустралиа',\n",
       " 'Аквариус Фильм',\n",
       " 'Аккорд Филм Продуцион, Вирджин Лэндс Аниматед Пикчерз, Норддойчер Роунфанк, Судвестдойчер Роундфанк',\n",
       " 'Аккорд Филм Продуцион, Вирджин Лэндс Аниматед Пикчерз, Норддойчер Роунфанк, Судвестойчер Роундфанк',\n",
       " 'Аккорд Фильм Продакшн ГмбХ, Студио 88',\n",
       " 'Аконите Продакшнз, Бэ Эф И Филм Фонд, Дэниш Документари Продакшн, Лувертюр Филмз, Партисипант Медиа',\n",
       " 'Акросс Таун Продакшнз, И Эф Ка Филмз, Тен Акр Филмз, Артс + Лабор, Силвер Сэл Интертейнмент, Вэ Эм И Ворлдвайд',\n",
       " 'Аксель Фильм, Баф Продюксьон, Эм6 Фильм, Сони Пикчерз Интертейнмент, Канал +, Сине +',\n",
       " 'Аксель Фильм, Мадам Фильм, Синефранс 1888, Гуд Лэп Продюксьон, Ля Банк Посталь Имаж 7, Юниверсал Пикчерз',\n",
       " 'Аксель Фильм, Филм Фэктори',\n",
       " 'Аксман Продакшнз, Киси Продакшн, Солар Филмз',\n",
       " 'Аксэль Фильм',\n",
       " 'Акционерное общество \"Киностудия \"Ленфильм\"',\n",
       " 'Акционерное общество \"ТЕЛЕКОМПАНИЯ\"',\n",
       " 'Акьюпэнт Интертейнмент, Альтус Продакшнз, Айджис Филм Фонд, Илинг Метро Интернэшнл',\n",
       " 'Ал Филм, Филм Нэйшн Интертейнмент',\n",
       " 'Алакран Пикчерз, Торнасол Фильм, Антре Шьен э Луп, УкбарФилм, Эль Омбр Кю Мато а Дон Кихот, Кариско Продюсьонес, Кинолоджи  ',\n",
       " 'Алаф Медиа, Институто Насьональ де Сине и Арте Аудиовизуэль, Телевизион Абиерта',\n",
       " 'Албукерк Студиос, Дримуоркс Студиос, Гаэта/Розенцвайг Филмз, Майкл Де Лука Продакшнз, Рилаэнс Биг Интертейнмент',\n",
       " 'Алдамиса Интертейнмент, 1821 Пикчерз, Куик Драу Продакшнз, Демарест Филмз, Овернайт Филмз',\n",
       " 'Алдамиса Интертейнмент, Демарест Филмз, Мирамакс, Квик Дроу Продакшнз, Солипсист Филм, Трублемейкер Студиос',\n",
       " 'Алебридже Сине Видео, Фулано, Менгано Асасиадос',\n",
       " 'Александрос Филм, Стелла Студио',\n",
       " 'Алиафорте Лимитед, Майндворкс Продакшнс Лимитед, Спектр Продукцион',\n",
       " 'Алина Мария Вадимовна',\n",
       " 'Алков Интертейнмент, Аттеркоп Продакшнз, Бритиш Филм Институт, Филм Фо',\n",
       " 'Алкон Интертейнмент, 8:38 Продакшнз, Мэдхаус Интертейнмент',\n",
       " 'Алкон Интертейнмент, Блек Лейбл Медиа, Джерри Бруххаймер Филмз, ЛайонсГейт, Торридон Филмз',\n",
       " 'Алкон Интертейнмент, Дэ Эм Же Интертейнмент, Стрэйгт Ап Филмз, Синкопи',\n",
       " 'Алкон Интертейнмент, Уорнер Бразерс',\n",
       " 'Алкуни, Мибакт',\n",
       " 'Аллегро Филм, Икс Филме Креатив Пул',\n",
       " 'Аллегро Фильм',\n",
       " 'Алмаз Филм Продакшн, Паник Продюксьон, Уанбросс Продюксьон, Центропа Реал',\n",
       " 'Алор Продюксьон, Канал Джимми, Сине +, Космодиджитал, Гаранс Капитал, Ля Клэрье Продюксьон, Май Продюксьон, Резина Продюксьон ',\n",
       " 'Алоэ Интертейнмент, Дабл Ю Уай Эс Джей Медиа, Коасталь Филм Студио, Эм Джи Эм Ти Интертейнмент, Пол Шифф Продакшнз, Пеа Дистрибьюшн Пикчерз ',\n",
       " 'Алтайское краевое отделение общероссийской общественной организации \"Союз кинематографистов Российской Федерации\"',\n",
       " 'Алфа Кор, Коламбиа Пикчерз, ЛСтар Кэпитал, Медиа Райтс Кэпитал, Оллин Студио, Саймон Кинберг Продакшнз, Сони Пикчерз Интертейнмент',\n",
       " 'Алфевилл Филмз, Парамаунт Пикчерз',\n",
       " 'Алфреско Интерпрайзис, Тривизион, Ля Ферме Продюксьон, Дубль Никель Интертейнмент',\n",
       " 'Аль Браво Филмз, Чемикал Майнд Студиос',\n",
       " 'Альберта Филмуоркс Инк., Фокус Фичерз, Гуд Мэшин, Парамаунт Пикчерз, Ривер Роад Интертейнмент',\n",
       " 'Альдамиса Интертейнмент',\n",
       " 'Алькатрас Филм, Уалд Банч, Франс Синема, Пандора Филмпродукцион, Палатин Этуаль 10, Софисинема 9, Индифильм, Канал +, Сине +, Зэ Дэ Эф/Арт, Иль де Франс, Сентр Насьональ дю Синема и де Лимаж Аниме',\n",
       " 'Алькатрац Фильм, Арт Франс Синема, Бэ Эф И Фильм Фонд, Канал +, Сине +, Мадант, Пандора Филмпродуцион, Польски Институт Штуки Фильмови, Цвайтес Дойче Ферншейн, Эндрю Лорен Продакшнз',\n",
       " 'Альтайв Медиа',\n",
       " 'Альтер Фильм, Студио Канал, Франс 2 Синема, Канал +, Сине +, Франс Телевизьон',\n",
       " 'Альфа Филмз, Ченнел Фор Филмс, Делюкс Продакшнз, Касандер энд Вигман Продакшнз,  Ле Студио Канал',\n",
       " 'АльфаВиль Пикчерз Копенгаген, Нордиск Филм Продакшн',\n",
       " 'Альфама Филмс',\n",
       " 'Альфама Фильм, Франс 3 Синема, Леопардо Фильм, Канал +, Франс Телевизьон, Камара Мунисипаль де Лисбоа, Национальный центр кинематографии',\n",
       " 'Альянс Филмз',\n",
       " 'Альянс Филмз, Айтоматик Интертейнмент, Блюмхаус Продакшнз, Хантед Мувиз, Ай Эм Глобал',\n",
       " 'Альянс Филмз, Аутоматик Интертейнмент, Дак Аттак Филмз, Айм Глобал',\n",
       " 'Альянс Филмз, Блюмхауз Продакшнз, Дименшн Филмз',\n",
       " 'Амадеус Пикчерз',\n",
       " 'Амазиа Интертейнмент, 3311 Продакшнз, Сёкл оф Конфьюжн',\n",
       " 'Амазон Прайм Инстант Видео, Антон Кэпитал Интертейнмент, Канал +, Хейдей Филмз, Мармалад Филмз',\n",
       " 'Амазон Студиоз, Блю-Танг Филмз, Дэнвер энд Делайла Продакшнз, Пикроу',\n",
       " 'Амазон Студиос',\n",
       " 'Амазон Студиос, Анонимус Контент, Биг Индие Пикчерз, Иконокласт',\n",
       " 'Амазон Студиос, Ка Период Медиа, Перл Стрит Филмз, Медиа Фарм, Аффлек/Миддлетон Прожект, Би Стори, Биг Инди Пикчерз, Эс Эм Пэ',\n",
       " 'Амазон Студиос, Мандевилль Филмз, Уан Шоу Филмз, Попкорн Сторм',\n",
       " 'Амазон Студиос, Энимал Кингдом, Инкджет Продакшн, Ка 5 Филм, Лё Пакт',\n",
       " 'Амазон Студия, Биг Инди Пикчерз, План Б Интертейнмент',\n",
       " 'Амбер Интертейнмент, Индиана Продакшн Компани, Сваровски Интертейнмент, Эхо Лэйк Продакшнз',\n",
       " 'Амбер Интертейнмент, Хаксан Филмз',\n",
       " 'Амби Пикчерз, Батлеплан Продакшнз, Компадре Интертейнмент, Пэредокс Стьюдиос',\n",
       " 'Амби Пикчерз, БондИт, Танго Пикчерз',\n",
       " 'Амби Пикчерз, Хамертон Продакшнз',\n",
       " 'Амбиент Интертейнмент ГмбХ, Юнайтед Интертейнмент, Маск Медиа, Таймлесс Филмз, Роткирш Картон Филм',\n",
       " 'Амблин Интертейнмент, Дримуоркс Пикчерз, Перфект Ворлд Пикчерз, Темпл Хилл Интертейнмент, Юниверсал Пикчерз',\n",
       " 'Амблин Интертейнмент, Мифолоджи Интертейнмент',\n",
       " 'Амблин Интертейнмент, Эпейчс Интертейнмент, Леджендари Интертейнмент, Перфект Ворлд Пикчерз, Юниверсал Пикчерз',\n",
       " 'Амейша Интертейнмент, Тройка Пикчерз, Куп ди Этат Филмз',\n",
       " 'Американ Зоутроуп',\n",
       " 'Американ Зоэтроп совместно с Мюз Продакшнз Итернити Пикчерз',\n",
       " 'Американ Зоэтроп, Ансгар Медиа, Инфинити Филмз, Мириад Пикчерз, Картел, Вилладж Студиоз',\n",
       " 'Американ Зоэтроп, Эф Эр Продакшнз',\n",
       " 'Американ Зоэтроуп, Элементал Филмс, Тохокашинша Филм Компани Лтд.',\n",
       " 'Американ Филм Институт, Либра Филмз',\n",
       " 'Американ Филм Компани, Вайлвуд Интертейнмент',\n",
       " 'Американ Филм Компани, Эксклюзив Медиа Групп, Плэйтоун',\n",
       " 'Американский музей естествознания, Отдел гелиофизики Директората научных миссий НАСА',\n",
       " 'Америкен Зоэтроп, А24, Директорс Бюро',\n",
       " 'Америкен Зоэтроп, Эсперейшн Медиа, Дивижн Филмз, Айронвуд Интертейнмент, Мокинбёрд Пикчерз',\n",
       " 'Америкэн Зоетроуп',\n",
       " 'Америкэн Зоетроуп, БИМ Дистрибуционе, Торнасол Фильм, Зоетропа',\n",
       " 'Америкэн Зоэтроп, Патэ Дистрибусьон, Студио Канал, Тобис, Тохокушинша Филм',\n",
       " 'Амигетес Интертэйнмент',\n",
       " 'Амрион, Исти Телевизиун',\n",
       " 'Амьюз, Ансэр Стьюдио, Комикс Вэйв Филмз, Ист Джэпэн Маркетинг энд Коммьюникейшнз, Кадокава, Лоусон Эйч Эм Ви Интертейнмент, Тохо Компани, Вог Тин',\n",
       " 'Амьюс, Фуджи И Гэ Лаборатори фор Муви, Фуджи Телевижн Нетуорк, Гага, Уайлд Банч',\n",
       " 'Амюсмент Парк Филмз, Фокс Сёрчлайт Пикчерз, Скотт Фри Продакшнз ',\n",
       " 'Ан Олив Брэнш Продакшнз',\n",
       " 'Анаграм Продакшн, Филм И Васт, Хельсинки Фильм Ой, Ириш Филм Боард, Риппл Ворлд Пикчерз, Еллоу Эффеа',\n",
       " 'Анапурна Пикчерз, Коламбиа Пикчерз, Нитроген Студиос Канада, Пойнт Грей Пикчерз',\n",
       " 'Анафродизиак, Преферред Контент',\n",
       " 'Анахак Филмз, Анимекс Студиос, Олмос Продакшнз, Фил Роман Интертейнмент',\n",
       " 'Ангелюс Силесиус',\n",
       " 'Андреа Леоне Фильм, Бастед Шарк Продакщнз, Фиа оф Год Филмз, Вольтаж Пикчерз',\n",
       " 'Андрианова Татьяна Викторовна',\n",
       " 'Анима Вита, Синемакер Илюссес, А. Филм, Магма Филмз',\n",
       " 'Анима Вита, Синемакер Илюссес, А. Филм, Магма Филмз, Анимейкер',\n",
       " 'Анима Эстудиос, Дискрит Артс Продакшнз',\n",
       " 'Анима Эстудиос, Дискрит Артс Продакшнз, Итака Филмс, Ло Колоко Филмс',\n",
       " 'Анима Эстудиос, Дискрит Артс Продакшнз, Эфисайн',\n",
       " 'Анима Эстудиос, Прайм Фокус Ворлд',\n",
       " 'Анимаград Аниматион Студио, Юкрайниан Филм Скулл, Юкрайниан Стайт Филм Агенс',\n",
       " 'Анимаккорд Лтд',\n",
       " 'Анимаккорд Лтд, ООО Студия \"АНИМАККОРД\"',\n",
       " 'Анимаккорд Лтд, ООО Студия \"Анимаккорд\"',\n",
       " 'Анимаккорд Лтд.',\n",
       " 'Анимаккорд Лтд., ООО Студия \"АНИМАККОРД\"',\n",
       " 'Анимал Киндом, Филм и Васт',\n",
       " 'Анималь Логик, Би-Би-Си, Эвергрин Филмз, Релианс Биг Интертейнмент, ХХ век Фокс',\n",
       " 'Анимандо, Квистен Анимэйшн, Стимхидс Студиос',\n",
       " 'Анимация Студио, Янг Джамп Энимейшн Студио',\n",
       " 'Анимейшн Пикче Компани, Диджиарт Продакшнз, Лотте Интертейнмент',\n",
       " 'Анимейшн Фабрик, Ред Кит Анимейшнс, Студио',\n",
       " 'Анимэйшн Байкс',\n",
       " 'Аниплекс, Бандай, Дэнтцу, Шуейша, Студия Пьеротт, Ти Ви Токио',\n",
       " 'Аниплекс, Дентсу, Данго, Кадокава Шотен Паблишинг, Мениши Броадкастинг Систем, Продакшн Ай Джи, Шочику Компани',\n",
       " 'Анна Сандерс Филмз, Эдди Саета С.А., Фонд Сюд Синема',\n",
       " 'Аннапурна Интернэшнл, Киллер Филмз',\n",
       " 'Аннапурна Пикчерз',\n",
       " 'Аннапурна Пикчерз, Глориа Санчез Продакшнз, Эс Ти Инс Филмз',\n",
       " 'Аннапурна Пикчерз, Голарди Филм Компани, Ванштейн Компани',\n",
       " 'Аннапурна Пикчерз, Гэри Санчез Продакшнз, Плэн Би Интертейнмент, Фёрд Флор',\n",
       " 'Аннапурна Пикчерз, Детур Филмпродакшн',\n",
       " 'Аннапурна Пикчерз, Дэвис Интертейнмент, Фокс 2000',\n",
       " 'Аннапурна Пикчерз, Колор Форс',\n",
       " 'Аннапурна Пикчерз, Лайкли Стори, Медиа Райтс Кэпитал',\n",
       " 'Аннапурна Пикчерз, Менакоз Филмз, Майкл Де Лука Продакшнз, Мобра Филмз, Пэйдж 114, Вай Нот Продакшнз, Франс 2 Синема, Франс 3 Синема, Апаш Филмз, Канал +, Франс Телевизьон, Мовистар +, Ле Фильм дю Флёв',\n",
       " 'Аннапурна Пикчерс, Фокус Фьючерс',\n",
       " 'Аннико Филмз, Флайн Мун Филм Продукцион, Клепацкий Продакшнз, Тау Пикчерз',\n",
       " 'Аннико фильм, ООО \"АВТОБАНИНВЕСТ-Центр\"',\n",
       " 'Анонимус Контент, Блю Тонк Филмз, Фокус Фьючерс, Перфект Уорлд Пикчерз',\n",
       " 'Анонимус Контент, Бэ Эр Кэпитал Групп, Мерсед Медиа Партнерс, ПалмСтар Интертейнмент, ПенЛайв Медиа, Сирен Диджитал - Холливуд, Солюшн Интертейнмент Групп',\n",
       " 'Анонимус Контент, Дарк Касл Интертейнмент, Воестенвис',\n",
       " 'Анонимус Контент, Имейджинейшн Абу Даби ФЗ, Патиципант Медиа, Саммит Интертейнмент',\n",
       " 'Анонимус Контент, Уинтерс Бон Продакшнз',\n",
       " 'Анонимус Контент, Филм и Васт, Мета Филм, Силвер Рил, Спак Филм ТиВи, Темпо Продакшнз Лтд',\n",
       " 'Анонимус Контент, Фёст Лук Медиа, Партисипэнт Медиа, Роклин/Фауст',\n",
       " 'Анстопэбл Интертейнмент, Ретро-джус Продакшнз, Атлантик Свис Продакшнз, Венерэйшн Мьюзик, Юниверсал Пикчерз',\n",
       " 'Антена 3 Фильм, Зета Аудиовижуал',\n",
       " 'Антенн 3 Фильм, Зета Синема',\n",
       " 'Антенн 3 Фильм, Омбра Филмз, Роксбари Пикчерз, Сафран Компани, Студио Каналь',\n",
       " 'Антиплекс, Дэнтцу, Шуейша, Студио Пьеротт Ко, Тохо Компани, Ти Ви Токио',\n",
       " 'Антолд Креатив, Лайф Ис Май Муви Интертейнмент Компани',\n",
       " 'Антон Кэпитал Интертейнмент, Майк Зосс Продакшнз, Скотт Рудин Продакшнз, Студио Канал',\n",
       " 'Антон Кэпитол Интертейнмент, ЭнВейв Пикчерз, Студио Канал Интернэшнл, ЮМедиа',\n",
       " 'Антр Шьен э Люп, Ля Пти Рейн',\n",
       " 'Антре Шьен э Лу, Футурикон, Нозон',\n",
       " 'Аншутц Интертейнмент Групп',\n",
       " 'Апартмент Стори, Джун Пикчерз',\n",
       " 'Апатов Продакшнз, Мозаик Медиа Групп, Рилетивити Медиа, Коламбиа Пикчерз, Сони Пикчерз, Буэна Виста Интернэшенел',\n",
       " 'Апатоу Продакшнз, Фоти Продакшнз',\n",
       " 'Апатоу Продакшнз, Юниверсал Пикчерз',\n",
       " 'Апачез Интертейнмент, Кактус Фиове Продюсьонес, Динамо, Фаст Продюсьонес, Имаджинатьон Абу Даби, Партисипент Медиа, Икс И Зед Филмз',\n",
       " 'Апачес Интертейнмент, Ла Трини, Партисипиант Медиа, Ривер Роад Интертейнмент',\n",
       " 'Апачес Интертейнмент, Телекино Синема, Медиасет Испания, Канал+ Испания, Генералитет Валенсиана',\n",
       " 'Апачес Интертейнмент, Уалд Банч, Атресмедиа Сине, Ла Панда, Сайака Продюксионес Аудиовисуалес, СпектрВижн ',\n",
       " 'Апачес Интертейнмент, Экспедиенте Ла Пеликула, Фильм Фэктори',\n",
       " 'Апертура Медиа Партнерс, Кепэсити Пикчерз, Гольфстрим Пикчерз, ПалмСтар Пикчерз, Райс Филмз',\n",
       " 'Аполло 18 Продакшнз, Бекмамбетов Проджектс',\n",
       " 'Аполло Диджитал Интертейнмент, Э Блинк Ти Ви, Ди энд Ди Арт Продакшнз',\n",
       " 'Аполло Медиа, Эйч Пи Йоркшир, Мэйпл Лиф Филмз, Скрин Йоркшир, Вэндэл Интертейнмент',\n",
       " 'Аппиан Вэй, Блюмхаус Интернэшнл',\n",
       " 'Аппиан Вэй, Дубль Фьючерз Филмз, Нью Ридженси Пикчерз, Парагон Студиос, Стоун Вилладж Пикчерз, ХХ век Фокс',\n",
       " 'Аппиан Вэй, ИМДЖАГ Продакшнс, Ред Грэнайт Пикчерз, Сикелиа Продакшнс',\n",
       " 'Аппиан Вэй, Лайонс Гейт, Пиксолоид Студиос, СефХауз Пикчерз, Фандер Роуд Пикчерз',\n",
       " 'Аппиан Вэй, Рэндом Филмз, Уорнер Бразерс',\n",
       " 'Апрэ ле Делюж, Климакс Филм, Саваж Филм, Терра Инкогнита Филм, Сентр дю Синема э де ляудивизюэль де ля Федерасьон Валони-Брюсель, Элль Драйвер',\n",
       " 'Апулиа Филм Комиссион, Каттлеа, Эуропиан Юнион, Эр А И Радиотелевизиона Итальана, Регион Пуглиа',\n",
       " 'Апулиа Фильм, Банка Пополар ди Сондрио, Дюкати Энежиа, Эррелль Инвест, Фондо Еуропео ди Свилуппо Региональ, Лазио Фондо Региональ, Маш 1, Пикомедиа, Трентино Фильм, Уорнер Бразерс Италиа',\n",
       " 'Ар Кей Оу Пикчерз, Хопскотч Пикчерз, Мэин Стрит Филмз, Рэт Интертейнмент, Виндоусит Филмз',\n",
       " 'Арад Продакшнз, ДримУоркс, Гросвенор Парк Продакшнз, Парамаунт Пикчерз, Релианс Интертейнмент, Сисайд Интертейнмент, Стивен Пол Продакшнз',\n",
       " 'Арад Продакшнз, Широгуми, Тои Анимэйшн',\n",
       " 'Аргентина Соно Филм, Филмз дель Плата, Телефе, Гэ Ка Продюксьонес, Институто Националь де Сине и Арте Аудивизуалес',\n",
       " 'Ардастри Интертейнмент, Марти Аделстейн Продакшнз',\n",
       " 'Ардман Анимейшн, Антон Кэпитал Интертейнмент, Студио Канал',\n",
       " 'Ардман Анимейшнз, Дримуоркс Анимейшн',\n",
       " 'Арена Медиа, Скрин Аустралиа',\n",
       " 'Арена Продюксьон, Гомон, Франс Синема, Рон-Альп Синема, Вега Филм, Радио Телевизьон Сьюис, Энтр Шьен э Лу, Молливуд, Национальный центр кинематографии, Лёфис Федераль де ля Культур, Канал +, Оранж Синема, Арте Франс, Кофинова 9, Индефильм 2  ',\n",
       " 'Ариэл Филмз, Арсам Интернэшнл, Артэ Франс, Израэль Филм Фонд, Метро Коммьюникейшнз, Паралит Продакшнз',\n",
       " 'Арка Медиаворкс',\n",
       " 'Аркадиа Моушн Пикчерз, Артэ Франс Синема, Канал + Эспаньа, Институто де ла Смнематографиа и ву ла Арт Ауди, Мама Фильм, Моушн Инвестмент Групп, Никс Фильм, Нудлс Продюксьон, Сисифо Фильм, Телевизио Каталуньа, Тхекракен Фильм, ЮФильм',\n",
       " 'Аркана Студио',\n",
       " 'Аркана Студио, Фрещ Бейкед Филмз, Эс и Эс Филмз Интернэшнл',\n",
       " 'Арклайт Филмз Интернэшнл',\n",
       " 'Арко Либре, Телевизьон Абьерта, Магма Сине, А Контракорриенте Филм, Алеф Медиа',\n",
       " 'Арко Либре, Хей Фильме, АйЭнСиЭйЭй',\n",
       " 'Аркола Интертейнмент, Арис Пикчерз, Буффало Гал Пикчерз, Фортитьюд Интернэшнл, Палмстар Медиа',\n",
       " 'Аркэйд Пикчерз, Страйк Интертейнмент, Студио Канал ',\n",
       " 'Армори Филмз, Ориэшфе Интертейнмент, Тибет Вон Пикчерз, Винтаж Интертейнмент',\n",
       " 'Армори Филмз, Пегасус Пикчерз, Юнион Интертейнмент Груп',\n",
       " 'Армори Фильмс, 1993, Лаки Трихаус, Нат Бакет Фильмс, Тваком Фильм энд ТиВи',\n",
       " 'Аронакс анимейшн студиос',\n",
       " 'Арсам Интернэшнл, Дибона Филмз, Энтр Шьен э Лу, Нациоанльный центр кинематографии Франции, Каза Кафка Пикчерз Муви Тэк Шелтер Эмпауред би Дексиа, Центр дю Синема э де Лауидивизуэль де ля Коммунете Франсез де Бельжик, Брюссель Кэпитель, Канал +, СинеСинема',\n",
       " 'Арсенико П.С., Саяка Продуксьон',\n",
       " 'Арт Альянс Медиа',\n",
       " 'Арт Альянс Медиа, Иэмай Мьюзик, Парлофон, Скай 3D, Блинк ТиВи Продакшн',\n",
       " 'Арт Франс Синема, Си Джи Синема, Детайл Фильм, Пуасон Руж Пикчерз, Скоп Пикчерз, Сирена Фильм, Вортекс Сутра',\n",
       " 'Арт Франс Синема, Эс Бэ Эс Фильм, Пи Фильм, Лёдо Синема дю Монд, Национальный центр кинематографии, Институт Франсе, Эф Эф А',\n",
       " 'Арт Франс, Артлайн Филмз, Коэн Медиа Групп',\n",
       " 'Арт Франс, Байришер Рудфунк, Осторайхише Филминститут, Канал +, Сине, Национальный центр кинематографии, Евримаж, Фильмфордерунгсанштальт, Фильмфондс Виен, Франс 3 Синема, Франс Телевизьон, Ле Фильм дю Лозань, Вега Фильм, О Эр Эф Филм, Вестдойчер Рудфунк',\n",
       " 'Арт Франс, Идеаль Аудиенс, Маха Продюксьон, Одеон Театр де ЛЕроп ',\n",
       " 'Арте Франс Симнема, Ректагл Продакшнз, Вайс Филмз, Вайлд Банч',\n",
       " 'Арте Франс Синема, Бавария Филм Интернэшнл, Байришер Рундфунк, Канал+, Ле Фильм Ален Сард, МК2 Продуксьон, Вега Филм, Осторайхишер Рундфунк',\n",
       " 'Арте, Гема Филмз, Лемминг Филм, Ма Яа Дэ Филмпродуцион, Эн Аш Ка, Продюсьонес Аплаплак, Вризиннг Протестанс Радио Омроуп, Вестдойчер Рандфанк,  Цвейтес Дойче Ферншен ',\n",
       " 'Арте, Евроуайд Филм Продакшн, Вендерс Имеджес',\n",
       " 'Арте, кооп99 фильмпродукцион, Эссеншиал Фильмпродукцион, Паризьен де Продюксьон, Термидор Фильмпродукцион',\n",
       " 'Арте-Кофинова 15, Каналь+, СиЭнСи, Сине, Синефил 4, Синемаж 12 Девелопмент',\n",
       " 'Артеми Продюксьон, Самса Филм, Лесон Синематографик, Норд Квест Филм, Минд Мет, Радио Телевизьон Бельж Франкофон, Белгаком, Сентр дю Синемаэ де лаудивизуэль де ля Федерасьон Валони-Брюссель, Еуроимаж, Кофинова 8, Сине +, Канал +, Текс Шелтер Филм Фондинг',\n",
       " 'Артеми, Норд Квест Продюксьон',\n",
       " 'Артемиз Продакшнз, Претти Пикчерз, Уоркинг Тайтл Филмз',\n",
       " 'Артизм, Гемини, Оллфилм, Георгиан Националь Филм Сентр',\n",
       " 'Артина Филмз, Дерс оф Филд, Фейд ту Блек Продакшнз',\n",
       " 'Артс Алианс Дистрибьюшн',\n",
       " 'Артс Алианс Медиа',\n",
       " 'Артс Алльянс Медиа',\n",
       " 'Артс Альянс Дистрибьюшн',\n",
       " 'Артс Альянс Медиа',\n",
       " 'Артфаэ Филмз, Айм Глобал Октане, Инишиал Интертейнмент, Севен Фло ',\n",
       " 'Артэ Франс Синема, Доха Фильм',\n",
       " 'Артэ Франсе Синема, Ля Компани де Индес',\n",
       " 'Артэ, Квай, Скай, Вайлдсайд Медиа',\n",
       " 'Архангельская Региональная молодежная общественная организация \"Школа кино \"ИнФильм\", ООО \"Продюсерский дом Марины Макаровой\"',\n",
       " 'Архимед, Ле Пакт, Раи Чинема, ХэнВэй Филмз, Нью Спарта Филмз',\n",
       " 'Архимед, Лё Пакт, Рай Синема ',\n",
       " 'Арч Стоун, Джеми Кеннеди Интертейнмент, Левайн Пикчерз ',\n",
       " 'Арч Стоун, Логолайт Интертейнмент, Соффер, Имаджинейтинг Пикчерз',\n",
       " 'Арч Стоун, Холливуд Продакшнз, Ассоцинейшн Медиа, Фильмд Имаджинейшн',\n",
       " 'Арчер Стрит Продакшнз, Лэтитъюд Медиа, Лайонсгейт, Таи Оксидентал Продакшнз',\n",
       " 'Арчстоун Пикчерз, 424 Пост, И Эс Эс Проп Хауз, Майкл Слифкин Продакшнз, Рогу Стат ',\n",
       " 'Аршипель 35, СтудиоКаналь, Франс 3 Синема, Ле Фильм дю Флёв, Канал +, Сине +, Франс Телевизьон, Национальный центр кинематографии, Кофинова 14, Индефильм 6, Синемаж 12, Кофимаж 29, Банк Посталь Имаж 11 ',\n",
       " 'Асап Фильм, Аутономус, Студио Май, Рейзор Филм Продуцион, Мэнз Филмз, Арт/Попкорн, СинеПродюксьон',\n",
       " 'Асилум',\n",
       " 'Асиммертикал Продакшнз, Имеджин Телевижн, Зе Пикчер Фэктори, Тачстоун Телевижн, Ле Фильм Ален Сард при участии Канала +',\n",
       " 'Ассоциация \"Особые люди\"',\n",
       " 'Ассоциация НП \"КОТ\"',\n",
       " 'Ассоциация киностудия \"Новый курс\"',\n",
       " 'Ассочиак, 8 Продакшен, Талея фильм, 11 Марцо фильм, СиЭсСи Продакшен, Редиджитал Студио, Маэстро Продакшен',\n",
       " 'Астана Филм Фонд, Сатаифилм',\n",
       " 'Ателье де Продюксьон, Арт Франс Синема, Нексус Фэктори, Юмедиа, ЮФонд, Гариди Фильм, Синема 13, Национальный центр кинематографии, Канал +',\n",
       " 'Атипика Филмз, Мод Продюсьонес, Антена 3 Филмз, Атресмедиа Сине',\n",
       " 'Атипика Фильм, Аудиовизуал Авал, Эй Икс Эн, Канал Сюр Телеаизьон, Канал + Эспаньа, Институто Кредито Официал, Институто де ла Синематографиа и ву ла Артес Ауди, Хунта Андалусиа, Ла Занфона Продюсьонес, Сакромонте Фильм, Телевизьон Эспаньола',\n",
       " 'Атлантик Пикчерз, Ландри Филмз, Нозерн Лайтс Филмз, Медиа Венчерс, Куин Нефертари Продакшнз, Секонет Кэпитал Партнерс, Юнион Интертейнмент Групп',\n",
       " 'Атлантик Продакшнз',\n",
       " 'Атлас Интертеймент, Леджендари Пикчерз, Близзард Интертейнмент, Юниверсал Пик черз ',\n",
       " 'Атлас Интертейнмент, Аннапурна Пикчерз',\n",
       " 'Атлас Интертейнмент, Ди Си Интертейнмент, Дюн Интертейнмент, Лайн Пикчерз, Уорнер Бразерс',\n",
       " 'Атлас Интертейнмент, Круэль энд Унусуаль Филмз, Ди Си Интертейнмент, Дане Интертейнмент, Тенсент Пикчерз, Ванда Пикчерз, Уорнер Бразерс',\n",
       " 'Атлас Интертейнмент, Релативити Медиа',\n",
       " 'Атмо Продакшн',\n",
       " 'Атмосфер Интертейнмент ММ, Чако Филм Компани, Дименшн Филмз, Интеллектуал Пропертис Ворлдвайд, Уинштейн Компани',\n",
       " 'Атомик Монстр / Питер Сафран, Нью Лайн Синема ',\n",
       " 'Атомик Монстр, Грей Маттер Продакшнз, Нью Лайн Синема, Уорнер Бразерс',\n",
       " 'Атомик Монстр, Нью Лайн Синема, Атлас Интертейнмент, Уорнер Бразерс',\n",
       " 'Атомик Монстр/Эмиль Глэдстоун, Нью Лайн Синема, Уорнер Бразерс ',\n",
       " 'Атомик Монстэ, Нью Лайн Синема, Сафран Компани',\n",
       " 'Атомик Фичерс, Грин-лайт Интернэшнл, Гриндстон Интертейнмент, Скульптор Медиа, Тайкор Интернэшнл Фильм Компани',\n",
       " 'Атресмедиа Сайн, Фернандо Труэба Продюксьонес Синематографикас',\n",
       " 'Аугустусколор',\n",
       " 'Аудивизуаль Авал, Канал + Испания, Каталан Филм энд Телевизьон, Катала де Финансес, Импоссибль Фильм, Катала де ле Эмпрайз Культураль, Де Кредито Офисьаль, Де ля Синематография и де ля Арт Аудивизуаль, Телевизио де Каталуниа, Телевизьон Эспаньола ',\n",
       " 'Аудиовизуаль Аваль, Канал + Испания, Сьедад де ла Лус, Эль Вирхили Фильм, Хенералитат де Каталунья, Институто де Кредито Офисьаль, Институто де ла Синематографиа и де лас Артес Аудивизуалес, Ла Каника  Фильм, Мальваросса Медиа, Телевизьон Испаньола   ',\n",
       " 'Аур Хаус Фильмз, Хэд Джер Фильмз, Метрол Текнолоджи',\n",
       " 'Аурора Эллиенс Филмз, Хамилтон Интертейнмент, Кунгфумэн Калча Медиа, ЭсСи Филмз Таиланд Ко',\n",
       " 'Аутоматик Интертейнмент, Айм Глобал Октане, Вайанс Браверз Интертейнмент',\n",
       " 'Аутоматик Интертейнмент, Блюмхауз Продакшнз, Поссессед Пикчерз',\n",
       " 'Аутоматик Интертейнмент, Каррент Интертейнмент, Ай Эм Глобал, Лоуренс Бендер Продакшнз, Триггер Стрит Продакшз',\n",
       " 'Аутоматик Интертейнмент, Миллар Гоф Инк, Силвер Риил',\n",
       " 'Аутоматик Интертейнмент, Моушн Пикчер Кэпитал, Оддфеллоуз Интертейнмент',\n",
       " 'Аутоматик, Бланк Тэйп, Хэд Джиар Фильмс, Интерскоп Фильмс, Метрол Текнолоджи',\n",
       " 'Аутономус, Колорфрейм, Констанс Медиа, Файерфлай, Эс Филмз, Уоркс Интернэшнл, Мьюз Продакшнз',\n",
       " 'Аутор де Минут Продюксьон, Литтл Минк Фильм, Гуд Райд Мэшн, Хэйдэй Индепендент, Филм Фо, Мирадж ИЭнтерпрайзис, Топкакпи Фильмс, Фильм Академи Баден Вюртемберг, Лемминг Фильм, Эн Пэ Эс',\n",
       " 'Аутор де Минут, Мюрель Дансембург, Дэйм Продакшн, Кристоф Барал, Эс Эн Дэ Филмз, Иконокласт, Литиум Студио',\n",
       " 'Ауэрбах Татьяна Николаевна',\n",
       " 'Афродита Аудивизуаль, Алеа Док Фильм, Баусан Фильм, Канал+ Испания, Конселль де Майорка, Институто де ля Синематография де ла Арт Аудивизуаль, Майорка ФильмКомиссион, Телевизио де Каталания, Телевизион Эспаньола, Текракен Фильм',\n",
       " 'Афтер Дарк Филмз',\n",
       " 'Аш Би О Документари Филмз, Фазе 4 Филмз, Импакт Партнерс, Три Три Три',\n",
       " 'Ашент Фильм, Эр А И Чинема, Трентино Фильм Коммисион, Министеро Пер э ле Аттивита Културали',\n",
       " 'Аэджис Филм Фанд, Иолинг Студиос, Фрэджил Филмз, Пресайнс',\n",
       " 'БУ \"ГОСКИНОСТУДИЯ \"ЧУВАШКИНО\" И АРХИВ ЭЛЕКТРОННОЙ ДОКУМЕНТАЦИИ\" МИНКУЛЬТУРЫ ЧУВАШИИ',\n",
       " 'Баббер Филмз, Катинг Эдж Груп, Скрин Австралиа, Скрин Квинслэнд',\n",
       " 'Бабел Фильм, Дама Фильм',\n",
       " 'Бабелзберг Филм',\n",
       " 'Бабиека, Канзман, Инк Коннекшн, Понтас Филм, Литерари Эдженси',\n",
       " 'Бабикова Мария Станиславовна',\n",
       " 'Бавариа Пикчерз, Колониа Медиа Фильмпродукцион ГмбХ, Херб Филм ГмбХ, Ли Продукцион ГмбХ и Ко, Литтл Шарк Интертейнмент, Пиррол Фильм, Вестдойчер, Байришер, Дегето Фильм, Арте, Бэ Эс И Интернэшнл Инвест ГмбХ и Ко, Биплекс Филм, Райнер Винхагер Филм',\n",
       " 'Бавариа Пикчерз, Синемендо, Гранд Пикчерз, Пикча Сёкл, Трикстер',\n",
       " 'Бавария Пикчерз, Дор Филм Продукционгесселшафт',\n",
       " 'Багдасариан Продакшнз, Фокс 2000 Пикчерз, Ридженси Энтерпрайзис, Тэ Эс Эф Ванкувер Продакшнз',\n",
       " 'Багдасарян Продакшнз, Ридженси Энтерпрайзис, ХХ век Фокс',\n",
       " 'Баго Фильм, Фиделите Фильм, Уалд Банч, ТФ1 Фильм Продюксьон, Франс 2 Синема, Оранж Синема Сериес, Франс Телевизьон, Ланкедок/Руссийон, Национальный центр кинематографии, Консьель Женераль де От/Пиринее',\n",
       " 'Базелевс Интертейнмент, Базелевс Продакшн',\n",
       " 'Базелевс Продакшн, Блумхауз Продакшнз, Оффлайн Продакшн, Юниверсал Студиос',\n",
       " 'Базелевс Продакшн, Итака Филмз, Лимон Студиос, Ла Бода Продакшнз',\n",
       " 'Базелевс Продакшн, Филм Райтес, Лантерн Интертейнмент',\n",
       " 'Базмарк Филмз, Рэд Вагон Продакшнз, Виллидж Роадшоу Пикчерз, Уорнер Бразерс',\n",
       " 'Бай Хиа Пэй Хиа Интертейнмент, Слэм Продакшнз, Палм Драйв Продакшнз, Винсон Филмз',\n",
       " 'Байрефут Филмз, Ифтел Филм, Индиго Пикчерз, Манифесто Интертейнмент, Юниверсал Пикчерз, Свисс Националь Телевизьон, Реинголд Филмз',\n",
       " 'Байришер Рандфанк, Рухр Триеннале, Живаго Филм',\n",
       " 'Бак Филмз, Тилтед Пикчерз, Саваж Продакшнз',\n",
       " 'Бак Фильм, Канал +, Национальный центр кинематографии, Сине, Кофимаж 29, Ля Банк Посталь Имаж 11, Плэйтайм Продюксьон, Просиреп, Ангикоа, Иль де Франс, Зе Филм',\n",
       " 'Бакаро Интертейнмент, Хост Хауз ПИкчерз, Мандат Пикчерз',\n",
       " 'Бакару Интертейнмент, Майкл Де Лука Продакшнз, Скрин Гемс, Старс Роуд Интертейнмент, Токиопоп',\n",
       " 'Баки Пикчерз, Фильм Нейшн Интертейнмент, Вейпоинт Интертейнмент',\n",
       " 'Бакинская киностудия',\n",
       " 'Баладжи Моушн Пикчерз, Притиш Нанди Коммьюникейшнз',\n",
       " 'Балеуко, Люмик Студиос, АртМелл, Талапе, Филм Инвестмент Пьедмонт',\n",
       " 'Балл Продакшнз, Дубль Дар Ю, Фокс Сёрчлайт',\n",
       " 'Балланди АртсНексо Диджитал',\n",
       " 'Бальбоа Продакшнз, Кэмпбелл Гробман Филмз, Лионсгейт, Миллениум Филмз, Эн И Эл Эй',\n",
       " 'Бамбу Аудиовижуал, Ла Панда',\n",
       " 'Бандай Вижуал, Сигеймс, Хакуходо ДИ мьюзик энд пикчерз, лантис, П.А. Воркс',\n",
       " 'Бандай Визуал Компани, Офис Китано, Омнибус Япан, Ти Ви Токио, Токио Эф Эм Броадкастинг Ко',\n",
       " 'Бандай, Фукуока Броадкастинг Систем, Хакайдо Дэ И Медиа Партнерс, Хирошима Телекастинг, Хорипро, Хулу, Кадокава, Ниппон Телевижн Нэтворк, Саппоро Телевижн, Шизуока Дайши Телевижн, Сигнал, Видео Аудио Прожект, Уорнер Бразерс, Йомиури Телекастинг ',\n",
       " 'Бандито Бразерс',\n",
       " 'Баобаб Студиос',\n",
       " 'Барабум Студиос, ХХ век Фокс',\n",
       " 'Баракасин Продюсьонес, Институто Националь де Сине и Арт Аудиовизуалес, Телевизьон Эспаньола, Зебра Продюсьонес',\n",
       " 'Барбариан Филмз, Магнет Медиа Групп, Морабито Пикчер Компани, Намбер 13, Океана Медиа Файненс, Овернайт Филмз, Ред Драгон Продакшн, Такс Кредит Файненс',\n",
       " 'Барбосса Ассошиэйтед С.А., МируМир',\n",
       " 'Барринсон Е энд А, Си Джи Интертейнмент, Тэ Эм Эс Интертейнмент',\n",
       " 'Барселона Интертейнмент, Севен Хиллз Продуцион',\n",
       " 'Барунсон, Си Джей Интертейнмент',\n",
       " 'Бастер Китон Продакшнз',\n",
       " 'Бат Рейботс, Парамаунт Пикчерз',\n",
       " 'Батисфир Продакшнс, Национальный центр кинематографии, Артэ Франс, Просиреп, Ангоа',\n",
       " 'Баумгартен Менеджемент энд Продакшнз, Форсайт Анлимитед, Сигнатюр Пикчерз',\n",
       " 'Бедбаг Фильм',\n",
       " 'Бейджин Руи Ксинксин Филм Инвестмент, Инлайт Пикчерз',\n",
       " 'Бейджинг Лианджи Групп, Бейджинг Поли-бона Филм Паблишинг Компани, Бона Интернэшнл Филм Групп, Чайна Филм Групп, Филм Воркшоп, Шанда Пикчерз, Шинешоу',\n",
       " 'Бейджинг Нью Пикчерз Филм, АйДиДжи Чайна Медиа, Нью Классикал Интертейнмент',\n",
       " 'Бейджинг Филм Академи, Тьянджин Филм Студио',\n",
       " 'Бейджинг Фильм Студио, Чайна Фильм Групп, Лион Рок Продакшнз, Шанхай Фильм Групп, Чайна Муви Ченнел, Бейджинг Поли-бона Фильм Павблишинг, Бейджинг Форбидден Сити Фильм, Шенду Медиа Групп, Шентиан Интертейнмент, Зоки Центури Интернэшнл Культур Медиа',\n",
       " 'Бела Жарзик Продуцион, Сат 1 Уорнер Бразерс, Байрефут Филм',\n",
       " 'Белга Продакшнз, ЕвропаКорп., Си Би Филмз, Канал +, Ди Си Эс, Студио Бабельсберг',\n",
       " 'Белга Продюксьон, ЭнВэйв Пикчерз',\n",
       " 'Белевью Продакшнз, Мосаик',\n",
       " 'Белладонна Продакшн',\n",
       " 'Беллатрикс Филмс ЭС.Эл',\n",
       " 'Белль Медиа, Театрикаль Документер Программ, Е Он, Телефильм Канада, Роджер Групп оф Фонд, 7 Продюксьон, Скрин Медиа Филмз ',\n",
       " 'Бельведер Пикчерз',\n",
       " 'Бельга Продюксьон, Виа Ест',\n",
       " 'Бемибаби Филмз',\n",
       " 'Бен Гез, Миша Маклэрд',\n",
       " 'Бенаройа Пикчерз, Жанр Компани, Карго Интертейнмент',\n",
       " 'Бенаройа Пикчерз, Мискеланиос Интертейнмент, ПалСтар Интертейнмент, Траверс Медиа ',\n",
       " 'Бендер Спинк, Грин Хэт Филмз, Ледженари Пикчерз, Уорнер Бразерс',\n",
       " 'БендерСпинк, Кэмпбелл Гробмэн Филмз, Лайонсгейт, Миллениум Филмз',\n",
       " 'Бендерспинк Афтер Дарк Филменджин',\n",
       " 'Беофильм, Фильм и Васт',\n",
       " 'Бергман Ластиг Продакшн, Дрэгон Пикчерз, Гэллери Моушн Пикчерз, Мунстоун Интертейнмент',\n",
       " 'Берденников Алексей Андреевич',\n",
       " 'Берланти Продакшнз, Рэтпэк - Дьюн Интертейнмент, Уорнер Бразерс',\n",
       " 'Берни Филмз, Кихотик Эндвордс',\n",
       " 'Бесс Муви',\n",
       " 'Бест Эф Икс, Клозер Продакшнз, Визит Филмз',\n",
       " 'Бета Синема',\n",
       " 'Бета Фильм, Калигари Филм, Вега Фильм',\n",
       " 'Бетсабе Мучо, Патэ, ТФ1 Фильм Продюксьон, Умедиа, Юниверсал Мьюзик Паблишинг, Эр А И Синема, Ле Продюксьон Орландо, УФонд, Урор Продюксьон, Канал +, Оранж Синема, Иль-де-Франс, Уайлдсайд ',\n",
       " 'Бефо Зе Дор Пикчерз, Вашингтон Скваэр Филмз, Трихоус Пикчерз',\n",
       " 'Бефор де Дор Пикчерз, Фаворит Фильм, Санчэйсер Интертейнмент',\n",
       " 'Би 24, Коламбиа Пикчерз, Данджак, Эон Продакшнз, Метро Голдвин Майер',\n",
       " 'Би Би Си, Ди Си Эм Продакшнз, Финола Двайер Продакшнз, Хедлайн Пикчерз',\n",
       " 'Би Би Си, Магнолия Маэ Филмз, Металворк Пикчерз, Монтебелло Продакшнз, Ворк ин Прогресс',\n",
       " 'Би Ди Сине, Институто Националь де Сине и Арт Аудивизуалес, Телевизион Федераль, Тоталь Интертейнмент',\n",
       " 'Би Рил Филмз, Мэтч Фэктори',\n",
       " 'Би Си Ди Эф Пикчерз, Биг Инди Пикчерз',\n",
       " 'Би Фи Ай, Блайндер Филмз, Филм4, Ириш Филм Боард, Пи Гид Продакшнз, Рокс Нест Интертейнмент ',\n",
       " 'Би Холдэр Продакшнз, Ред Скай Студиос',\n",
       " 'Би Эйч 5, Пургаторио, Собрас Интернэшнл Пикчерз',\n",
       " 'Би Эн Филмз, Пинбол Лондон',\n",
       " 'Би Эф Эм И Продакшнз',\n",
       " 'Би энд Ти Филм, Филмкамератен, Мисо филм, Роенбергфилм',\n",
       " 'Би-Би-Си',\n",
       " 'Би-Би-Си Скотланд, И Эм Медиа, Глиммер Филмз, Мэт Филм Продакшн',\n",
       " 'Би-Би-Си Филмз, Фокус Фьючерз. Руби Филмз',\n",
       " 'Би-Би-Си, Ай Эм Глобал, Магик Лайт Пикчерз ',\n",
       " 'Би-Би-Си, Айдал Партнерс Филм Фонд, Липсинк Продакшнз, Намбер 9 Филмз, Юнисон Филмз',\n",
       " 'Би-Би-Си, Бейби Коу Филмз, Магнолиа Мае Филмз, Стик Фигур Продакшнз',\n",
       " 'Би-Би-Си, Билл Кенврайт Филмз, Куба Пикчерз',\n",
       " 'Би-Би-Си, Бэби Коу Продакшнз, Бритиш Филм Институт, Магнолиа Мэй Филмз, Патэ',\n",
       " 'Би-Би-Си, Голдкрест Филмз',\n",
       " 'Би-Би-Си, Джода Продактионс, Куду Фильмс, Тема Продактион',\n",
       " 'Би-Би-Си, Дэ Эн А Филмз, Скотт Рудин Продакшнз, Ю Ка Филм Каунсил, ХХ век Фокс',\n",
       " 'Би-Би-Си, Дэ Эн А Филмз, Фокс Серчлайт Пикчерз',\n",
       " 'Би-Би-Си, Каттлеа, Мультитрейд, Революшн Филмз, Ведетт Файненс, Ипсилон Филмз',\n",
       " 'Би-Би-Си, Креатив Шотланд, ЛипСинк Продакшнз, Ориджин Пикчерз, Шоттиш Скрин, Эль Пикчерз, Студио Канал',\n",
       " 'Би-Би-Си, Кросс Стрит Филмз, Перфект Ворлд Пикчерз',\n",
       " 'Би-Би-Си, Уайлдгейз Филмз, Финола Дуайер Продакшнз, Эндгейм Интертейнмент',\n",
       " 'Би-Би-Си, ХейДэй Филмз',\n",
       " 'Би-Би-Си, Эс Бэ Эс',\n",
       " 'Би-Би-Си, ЮКейФилм, ОЭрЭф, Унисон Филмз, Гравити Интертейнмент, Хиро Интертейнмент, Прескиенс, ЭйДиСи, Уалд Банч, Локейшн Аустриа, Остерришес Филминститут, Виена Филм, Революшн Филмз, Дор Филм, Фиделите, О2 Филмз, Мьюз Продакшнз    ',\n",
       " 'Би-Риил Филмз, Партс энд Лэйбор',\n",
       " 'Би-Твин, Капара Пикчерс',\n",
       " 'БиБиСи Филмз, Вайнштейн Компани, Трэйдмарк Филмз, ЮКей Филм Каунсил',\n",
       " 'БиБиСи Филмз, Кэлэмити Филмз, Патэ ЮКей, Твентиз Сенчери Фокс',\n",
       " 'БиБиСи Филмз, Намбэ Найн Филмз, Уайлдгейз Филмз',\n",
       " 'БиБиСи Филмз, Фьючер Филмз, Хейман-Хоскинс Продакшнз, Микро Фьюжн, Патэ Пикчерз Интернэшнл',\n",
       " 'БиБиСи Филмз, ЮКей Филм Кансил, Лаймлайт Коммьюникейшн, КонтентФилм, Касандер Филм Компани',\n",
       " 'БиСиДиЭф Пикчерз',\n",
       " 'БиЭйч Тилт, Бламхаус Продакшнс, Итака Филмз, Метро-Голдвин-Майер, Орион Пикчерз, Зе Сафран Компани',\n",
       " 'БиЭфАй Филм, Алтитьюд Филм Сэйлз, Пойсон Чиф',\n",
       " 'Биар ин Майнд Филмз (ИП Хвостов А.А.)',\n",
       " 'Биг Бич Филмз, Дюпласс Бразерс Продакшнз',\n",
       " 'Биг Бич Филмз, Лоу Спаркс Филмз',\n",
       " 'Биг Вейв Продакшнз, Аллегро Филм, Ерадевинд Пикчерз, Астриан Бродкастинг Корпорейшн, Астриан Филм Институт, Филм энд Мьюзик Интертейнмент, Филмститунг Нордрейн - Вестфален, Сола Медиа, Остеррейшишер Рандфанк',\n",
       " 'Биг Инди Пикчерз, Шиванз Пикчерз',\n",
       " 'Биг Праймейт Пикчерз, Юниверсал Пикчерз, ВингНат Филмз',\n",
       " 'Биг Сити Пикчерз, Гранада Интертейнмент, Гранд Арми Интертейнмент, Лайтспид Медиа, Эм Мани, Эм Дубль Вэ Пи Продакшнз, Миллениум Филмз, Овертюр Филмз, Суингин Продакшнз, Нью Имейдж, Эллайнз Филмз',\n",
       " 'Биг Талк Продакшнз',\n",
       " 'Биг Талк Продакшнз, СтудиоКанал, Филм 4, Рок Филмз, Протагонист Пикчерз',\n",
       " 'Биг Ток Продакшнз, Рилятивити Медиа, Уоркинг Тайтл Филмз',\n",
       " 'Биг Ток Продакшнз, Студио Канал, Релейтивити Медиа, Уоркинг Тайтл Филмз',\n",
       " 'Биг Толк Продакшнз, Коламбиа Пикчерз, Фор бай Ту Филмз, ЭлСтар Кэпитал, Сони Пикчерз Интертейнмент, Виллэдж Роудшоу Пикчерз, Уоркинг Тайтл Филмз',\n",
       " 'Биг Фарм, Картун Салун, Диджитал Графикс, Ириш Филм Боард, Магеллан Филмз, Мелюзин Продюксьон, Ноэрлюм  Студиос, Студио 352, Супер Продакшнз, Вестенд Филмз',\n",
       " 'Биг Хит Интертейнмент',\n",
       " 'Биггер Боат, Серендипити Продакшнз, Твистед Пикчерз',\n",
       " 'Бигер Бот, Бовери Хилз Интертейнмент, Ланчпад Продакшнз, Эр Си Эн Филмз энд е-новва ',\n",
       " 'Бигл Паг Филмз, Хэссел Фри Продакшнз, Хайглэнд Филм Груп, ЛакиЧап Интертейнмент, Мицелэниос Интертейнмент, Протон Синема, РуИ Медиа, Суботика Интертейнмент',\n",
       " 'Бигскоуп Филмз',\n",
       " 'Бидибул Продакшнз, Ле Фильм дю Пойссон, Версус Продакшн',\n",
       " 'Бидибул Продюксьон, Оникс Филмз',\n",
       " 'Бийонд зе Мазершип, Хед Джиар Филмз, Инфинит Фреймворкс, Метрол Текнолоджи, Норс Холливуд Филмз',\n",
       " 'Бикини Вокс',\n",
       " 'Били Медиа Берлин, Рейнгольд Фильм, Уолк он Уотер Филмпродукцион, Гетэвей Пикчерз, Эве Соу Клоуз',\n",
       " 'Билл Кенрайт Филмз,  ЭмЭмСи Индепендент, Релайант Пикчерз',\n",
       " 'Билл Плимтон Студиос',\n",
       " 'Билл энд Бен Продакшнз, ДжиЭфЭм Филмз ',\n",
       " 'Билл энд Бэн Продакшнз',\n",
       " 'Билоба, Джулиан Филмз, Ансьен Министерио да Культура, Фундо Сеториаль до Аудиовизуаль, Банко да Амазониа, Си Эн Си - Нувель Технолоджи ан Продюксьон, Канал +, Финеп Министерио да Сиенсиа, Технологиа э Иновасо, Франс 2 Синема, Гэ Дэ Эф Сьюз, Телесине ',\n",
       " 'Бифрост Пикчерз, Бридж Файненс Компани, У2Би Кэпитал, Эйч3 Филмз, Марк Плэтт Продакшнз, ПалмСтар Медиа',\n",
       " 'Бладвайн Медиа, Сэнтисаунд, Строгмен',\n",
       " 'Блайбэг Интертеймент, Нексес Моушн Пикче Компани, Туби Филмз, Браэ Роуз Продакшнз',\n",
       " 'Блайдинг Эйдж Пикчерз, Блюмхаус Продакшнз',\n",
       " 'Блайндинг Эдж Пикчерз, Кеннеди/Маршалл Компани, Парамаунт Пикчерз, Найклоден Мувес',\n",
       " 'Блайндинг Эйдж Пикчерз, Блюмхаус Продакшнз',\n",
       " 'Бламхаус Продакшнз, Чапте Уан Филм, Лайонс Гэйт, Мозаик Медиа Групп',\n",
       " 'Блейберг Интертейнмент, ДиПиАй, Юнайтед Кинг Филмз, Кирот зе Филм лимитед Партнершип',\n",
       " 'Блек Лэйбл Медиа, Вэст Мэдисон Интертейнмент',\n",
       " 'Бленхейм Филмз',\n",
       " 'Блиндинг Эдж Пикчерз, Блюмхауз Продакшнз',\n",
       " 'Блисс Медиа',\n",
       " 'Блисс, Нордиск Фильм',\n",
       " 'Блок 2 Пикчерз, Бона Интернэшнл Филм Груп, Жет Тоун Продакшн, Сил-Метропоул Организейшн, Аннапурна Пикчерз',\n",
       " 'Блок Интертейнмент, Роберт Симондс Компани, Эс Ти Икс Интертейнмент',\n",
       " 'Блокэйд Интертейнмент, Си Эн Аш Ка Медиа, Инсомник Гэймз, Реинмэйкер Интертейнмент, Сони Компьютер Интертейнмент Америка',\n",
       " 'Блуди Дигустинг, Коллектив',\n",
       " 'Блуди Дисгастинг, Коллектив, 8383 Продакшнз, Снут Интертейнмент',\n",
       " 'Блум, Чех Англо Продакшнз, Ди Бонавентура Пикчерз, Липсинк Продакшнз, Силвер Рид, Анлокд Дистрибьюшн',\n",
       " 'Блумхауз Интертейнмент, Болд Филмз, Райт оф Вэй Филмз',\n",
       " 'Блумхауз Продакшнз, Менеджемент 360, Тремендюм Пикчерз, Уорнер Бразерс',\n",
       " 'Блумхауз Продакшнз, Юниверсал Пикчерз',\n",
       " 'Блумхаус Продакшнз, Интертейнмент Ван, ФилмДистрикт, Ай Эм Глобал, Рум 101',\n",
       " 'Блумхаус Продакшнз, Интертейнмент Уан, ЭльСтар Кэпитал, Стейдж 6 Филмз ',\n",
       " 'Блумхаус Продакшнз, Платинум Данс, Юниверсал Пикчерз ',\n",
       " 'Блумхаус Продакшнз, Платинум Данс, Юниверсал Пикчерз, Уайт Нот Продакшнз ',\n",
       " 'Блумхаус Продакшнз, Хайд Парк Интертейнмент, Тремендам Пикчерз',\n",
       " 'Блупринт Пикчерз, Би-Би-Си, Бэст Филм, Импульс Пикчерз, Шоу Организейшн, Сплендид Филм, СтудиоКанал',\n",
       " 'Блупринт Пикчерз, Канал +, Сине +, Мазур / Каплан Компани, Студио Каналь, Амазон Прайм Видео ',\n",
       " 'Блэк Байсикл Интертейнмент',\n",
       " 'Блэк Беа Пикчерз, 30Вест, Калэ Форс',\n",
       " 'Блэк Беа Пикчерз, Дак Касл Интертейнмент, Хуахуа Медиа, Силвер Пикчерз, Смоукхаух Пикчерз',\n",
       " 'Блэк Беар Пикчерз, Си Чендж Медиа',\n",
       " 'Блэк Беар Пикчерс, Хенсон Альтернатив, Хуайи Бразерз Медиа, Он Зе Дэй Продакшнз, ЭсТиИкс Энтертейнмент, Зе Джим Хенсон Компани',\n",
       " 'Блэк Беар Студиос, Филм Хауз, Спрокфеллер Пикчерз, Сансет Пикчерз, Тандер Студиос, Витамин А Филмз, Найн Элевен Муви, 13 Филмз ',\n",
       " 'Блэк Биар Пикчерз, Бристол Аутомоутив',\n",
       " 'Блэк Биар Пикчерз, Бристол Аутомутив',\n",
       " 'Блэк Бир Пикчерз, Кэмп Грэй, Драгонфай Интертейнмент, Элевэйтэд Филмз, Собрас Интернэшнл Пикчерз',\n",
       " 'Блэк Бир Пикчерз, Эйч Дабл Ю Игрек 61, Ливинг Филмз',\n",
       " 'Блэк Комеди Шортс',\n",
       " 'Блэк Лейбл Медиа',\n",
       " 'Блэк Лейбл Медиа, Мистер Мудд, Райт оф Вэй Филмз, Сидни Киммел Интертейнмент',\n",
       " 'Блэк Лейбл Медиа, Эр А И Синема, Сандер Роуд Пикчерз',\n",
       " 'Блэк Лэйбл Медиа, Гилберт Филмз, Импостор Пикчерз, Марк Платт Продакшнз',\n",
       " 'Блэк Лэйбл Медиа, Кондэ Наст Интертейнмент',\n",
       " 'Блэк Манди Филм Сервисез, Хайдраулкс, Релетивити Медиа',\n",
       " 'Блэк Робб, Капитал Маркет Филмз',\n",
       " 'Блэк Фиш Филмз, Кэмпбелл Гробман Филмз, Джефф Райс Филмз, Викариос Интертейнмент                    ',\n",
       " 'Блэк Форест Филмз, Севен Пикчерз',\n",
       " 'Блэкберд, Колд Айрон Пикчерз, Тадмор',\n",
       " 'Блэкберд, Колд Айрон Пикчерз, Тадмор, Гравьер Продакшнз, Пердидо Продакшнз',\n",
       " 'Блэклаб Интертейнмент, Имаджинейшн Дизайн Воркс',\n",
       " 'Блэкмаркт Инкорпорэйтед, Европикчерз, ГринЛайт Интернэшнл, Скалптор Медиа',\n",
       " 'Блэнк Тэйп, Брайтлайт Пикчерз, Файэр Экс Пикчерз, Мирамакс ',\n",
       " 'Блю Айз Фикшн, Вундерверк, Юниверсум Филм, Цвейтес Дойче Фернштейн',\n",
       " 'Блю Аскью, Вью Аскью Продакшнз, Ванштейн Компани',\n",
       " 'Блю Лэйк Медиа Фанд, Бона Фиде Продакшнз, Эхо Лэйк Продакшнз',\n",
       " 'Блю Мондьё Продюксьон, Национальный центр кинематографии, Арт, Кофинова 12, Синемаж 11',\n",
       " 'Блю Скай Студиос, Дэвис Интертейнмент, ХХ век Фокс',\n",
       " 'Блю Скай Студиос, ХХ век Фокс',\n",
       " 'Блю Скай Студиос, ХХ век Фокс Анимейшн',\n",
       " 'Блю Спирит Анимасьон, Канал +, Эс Эн Эс, Сине, Департамент де ла Шаренте, Еуримаж, Франс 3 Синема, Франс телевизион, Гебека Фильм, Элиум Фильм, Инди Инвест, Лотери Сьюз Романд, Офис Федераль де ла Культур,  Радио Телевизион, Рита Продюксьон',\n",
       " 'Блю Стар Пикчерз, Ай Хэйт Вдэй Продакшнз, Ай Си Би ИНтертейнмент Финанс, Мэй Бэнч Продакшнз',\n",
       " 'Блю Фильм, Шутинг Хоуп Продакшнз',\n",
       " 'Блю-Танг Филмз, Блюмхаус Продакнз',\n",
       " 'Блюграс Филмз, Комбайн',\n",
       " 'Блюгрэс Филмз, Фаззи Доор Продакшн, Медиа Райтс Кэпитал, Эр Джи Би Медиа ',\n",
       " 'Блюмхауз Продакшнз, Бастед Шарк Продакшнз, Хаптер Он Филмз, Дименшн Филмз, Ай Эм Глобал, Мирамакс',\n",
       " 'Блюмхауз Продакшнз, Диджитал Рает Медиа, Визувиуз Продакшнз',\n",
       " 'Блюмхауз Продакшнз, Дименшн Филмз, Мирамакс, Пэник Венчерс',\n",
       " 'Блюмхауз Продакшнз, Кью Си Интертейнмент',\n",
       " 'Блюмхаус Продакшн, Перфект Ворлд Пикчерз, Платинум Дюнс',\n",
       " 'Блюмхаус Продакшнз, Диджитал Райот Медиа',\n",
       " 'Блюмхаус Продакшнз, Мирамакс, Руш Хаус Пикчерз, Транкас Интернэшнл Филмз, Юниверсал Пикчерз',\n",
       " 'Блюмхаус Продакшнз, Сафран Компани, Темпл Хил Интертейнмент',\n",
       " 'Блюмхаус Продюксьон, Голпост Пикчерс',\n",
       " 'Блюмхаус продакшнз',\n",
       " 'Блюпринт Пикчерз',\n",
       " 'Блюпринт Пикчерз, Липсинк Продакшнз, Би-Би-Си, Ю Кей Фильм Каунсил, Голдкрест Пикчерз',\n",
       " 'Блюпринт Пикчерз, Фокс Сёрчлайт',\n",
       " 'Бляйберг Интертейнмент, Миллениум Филмз, Ню Имаджес',\n",
       " 'Бо Фильмс, Энтер Чиен эт Лоуп, Топкапи Филмз, Арт Фест ',\n",
       " 'Боберст Продюксьон, Нексус Фэктори, Програм Стор, Юниимедиа, ЮФонд',\n",
       " 'Бов энд Эрров Интертейнмент, Брон Кэпитал Партнерс, Филм Тим, Хепп Филм, Скоуп Пикчерз, Анонимус Интертейнмент ',\n",
       " 'Бов энд Эрров Интертейнмент, Палм-Стар Интертейнмент, Протагонист Пикчерз, Спектакль Интертейнмент, Спокшоу Интертейнмент, Винди Хилл Пикчерз',\n",
       " 'БодеЛайн Филмз, Мементо Филмз, Парадизе Сити ',\n",
       " 'Боз Продакшнз, Хельсинг Релизинг, Инсайт Продакшнз',\n",
       " 'Боиз/Шиллер Филм Групп, Ригли Пикчерз ',\n",
       " 'Бой Бук Продуцион, Лотус Филм, А Компани Филмпродуционсгесселшафт',\n",
       " 'Болд Филмз',\n",
       " 'Болд Филмз, БиндерСпинк, Зэ Хол',\n",
       " 'Болд Филмз, Бразерс Давдл Продакшнз, Ливинг Фильм',\n",
       " 'Болд Филмз, Марк Платт Продакшнз',\n",
       " 'Болд Филмз, Марк Платт Продакшнз, Фантазма',\n",
       " 'Болд Филмз, Партисепэнт Медиа, Релативити Студиоз',\n",
       " 'Болд Филмз, Сиерра/Аффинити',\n",
       " 'БолдерЛайт Пикчерз',\n",
       " 'БолдерЛайт Пикчерз, Саузерн Фрайед Филмз',\n",
       " 'Болл Кей Джи Продакшнз, Герольд Продакшнз, Питчблэк Пикчерз',\n",
       " 'Бомберо Интернэшнл, М\\\\этч Фэктори, Уорнер Бразерс Филм Продуцион Германи, Патэ',\n",
       " 'Бомберо Интернэшнл, Макассар Продюксьон',\n",
       " 'Бомберо Интернэшнл, Пираммид Продакшнз, Коразон Интернэшнл, Дор Филм, Интернэшнл Традерс, Жордан Филмз, Касбах-Филм Тангер, Марс Медиа Энтертейнмент, Пандора Филм      ',\n",
       " 'Бон Пьош, Франс 3 Синема, Рон-Альп Синема, Валд-Туш                                          ',\n",
       " 'Бон Файд Прдакшнз, Мандат Пикчерз',\n",
       " 'Бона Филм Груп, Хейдей Филмз, Сони Пикчерз Интертейнмент, Визиона Романтика',\n",
       " 'Бона Фильм Груп, Коламбиа Пикчерз, Париа',\n",
       " 'Бондлт, Фред Филмз, Неад Гиа Филмз, Метрол Техноледжи, Вэггинг Тэл Продакшнз',\n",
       " 'Боо Продакшнз',\n",
       " 'Борд Кадре Филмз, Мэтч Фэктори',\n",
       " 'Борд Кадре Филмс',\n",
       " 'Борд Кадре Фильмс',\n",
       " 'Бореаль, Ле Зарматер, Нэкс Фэктори, Прана Анимасьон Студиос, ЮМедиа',\n",
       " 'Борк Продакшнз, Янг Филмз',\n",
       " 'Босс Медиа, Прайд оф Джипсис',\n",
       " 'Брайан/Бэретт Пикчерз',\n",
       " 'Брайн Студиос, Детентион Филмз',\n",
       " 'Брайн Фарм Диджитал Синема, Ред Булл Медиа Хауз',\n",
       " 'Брайт Мун Интертейнмент, Дивайд/Конка, Минд Хайв Филмз, Блумхаус Продакшнз',\n",
       " 'Брайтлайт Пикчерс, ДНА Пикчерс, Хейи Кэпитал, Оффспринг Энтертейнмент',\n",
       " 'Браунстоун Продакшнз, Голд Секл Филмз',\n",
       " 'Браунстоун Продакшнз, Голд Секл Филмз, Юниверсал Пикчерз',\n",
       " 'Брейвен, Прайд оф Джиспис, Хасселль Фри Продакшн, Инжениус Медиа, Тинке Продюксьон ',\n",
       " 'Брейктру Филмз, Эс Эм Бэ Инвестментс',\n",
       " 'Брейн Академи, Фильм и Васт, Нордиск Фильм, Нордсвенск Фильмундерхалнинг, ТВ4, Умедиа',\n",
       " 'Брендивайн Продакшнз, Дюн Интертейнмент, Скотт Фри Продакшнз, ХХ век Фокс',\n",
       " 'Брехт Ван Эльсланд, Берт Лесаффер, Гейла Гел, Расс Нейберт, Эми Ши, Карим Реллам, Андреа Уолфейл, Эн Лоу, Флориан Браух, Матье Пухоль, Ким Тэйлхэдс, Йохан Тиро, Ромен Тирион, Гарет Оуен, Питер Пик, Хьюго Витес Каамано',\n",
       " 'Бридж Файнэнс Компани, Скоти Вуп Элит, Миднайт Продакшн',\n",
       " 'Бриджгейт Филмз',\n",
       " 'Бриджит Фольман Фильм Ганг, Пандора Филмпродуцион, Опус Фильм, Пол Тилгес Дистрибусьон, Энтр Шьен э Лу, Ливерпул ',\n",
       " 'Брик Даст Продакшнз, Дэниэл Бобкер Продакшнз, Дабл Фичер Филмз, Юниверсал Пикчерз',\n",
       " 'Брик Мэншэнс Продакшнз,Синэ+ Канал+, Д8, Европа Корп.',\n",
       " 'Бриллиант Скрин Студиос, Грит Филм Воркс, Коэд Филмз',\n",
       " 'Бриллиант Филмз, Фред Филмз',\n",
       " 'Брио Фильм, Литл Ред Фильм',\n",
       " 'Брио Фильм, Студио Канал, Скоуп Пикчерз, Франс 2 Синема, Эродиад, Радио телевизьон Бельж Франкофон, Белгаком, Синемаж 6 и 7, Франс Телевизьон, Ля Банк Посталь Имаж 5, Софика Манон 2, Антон Капитал Интертейнмент, Сине +, Сэ Эн Сэ, Еуроимаж, Просиреп',\n",
       " 'Бристол Бэй Продакшнз, Парамаунт Пикчерз, Болдуин Интертейнмент, Канзаман Эс А',\n",
       " 'Британский музей',\n",
       " 'Британский музей, ЭнЭйчКей, Мор2Скрин',\n",
       " 'Броад Грин Пикчерз, Бастид Шак Продакшн, Орион Пикчерз',\n",
       " 'Броад Грин Пикчерз, Инджиниэс Медиа, Мирамакс',\n",
       " 'Броад Грин Пикчерз, Индюренс Медиа, Интертейнмент Уан, Гербер Пикчерз, Рил Шефс Кейтеринг',\n",
       " 'Бродвэй Видео, Майкэлс - Голдвин, Релативити Медиа',\n",
       " 'Брокен Роуд Продакшнз, Коламбиа Пикчерз, Хэппи Медисон Продакшнз, Хей Эдди, Сони Пикчерз Интертейнмент',\n",
       " 'Брокен Роуд Продакшнз, Скрин Гемс',\n",
       " 'Брон Студиоз, Райт Вэй Продакшнз, Денвер и Делайла Продакшнз, Криэйтив Велф Медиа Файнэнс',\n",
       " 'Брон Студиос, Ди Си Комикс, Джоинт Эффорт, Виллидж Роадшоу Пикчерз, Уорнер Бразерс',\n",
       " 'Брон Студиос, Филм Фо, Жан Думаньян Продюксьон, Вест Энд Филмз',\n",
       " 'Брон Студиос, ФоксТейл Интертейнмент, Фантом Фо, Креатив Вэлт Медиа Файненс',\n",
       " 'Броневицкая Оксана Григорьевна',\n",
       " 'Бронникова Е.В.',\n",
       " 'Бронте Пикчерз, Лунар Пикчерз, Крео Филмз, Хеад Геар Филмз, Метроль Текнолоджи                                                                                                     ',\n",
       " 'Броукен Роад, Нью Лайн Синема',\n",
       " 'Броукен Роуд Продакшнз, Коламбиа Пикчерз, Хэппи Медисон Продакшнз, Хэй Эдди, Метро Голдвин Майер',\n",
       " 'Броукен Роуд Продакшнз, Хэппи Мэдисон Продакшнз',\n",
       " 'Брукин Роад Продакшнз, Никель Сити Пикчерз, Сьерра/Эффенти',\n",
       " 'Брэд Грей Пикчерз, Дименшн Филмз',\n",
       " 'Брэйварт Филмз',\n",
       " 'Брэк Тру Продакшнз, Трэдмарк Филмз, Силвер Рил, Одра Филм, Центр Текнолоджи Аудивизуальниш',\n",
       " 'Брэндивайн Продакшнз, ХХ век Фокс',\n",
       " 'Брэнскам Интернешнл',\n",
       " 'Бу Пикчерз, Кландестино Филмз, Муз Филмз, Оупен Сити Филмз',\n",
       " 'Буена Виста Интернешнл Фильм Продакшн, Мистер Браун Интертейнмент ',\n",
       " 'Буена Виста Интернэшнл Филм Продакшн, Фильмштифтунг Северный Рейн-Вестфалия, Мистер Браун Интертейнмент, Бэрфут Филмс',\n",
       " 'Буена Виста Интернэшнл, Тачстоун Пикчерз',\n",
       " 'Буена Виста Хоум Интертейнмент, Студио Гибли, Уолт Дисней Компани',\n",
       " 'Булвинкль Студиос, Классик Медиа Продакшнз, Дримуоркс Анимейшн, Пасифик Дата Имаж',\n",
       " 'Буллет Пикчерз, Фабула, Фанни Баллунс, Уайлд банч, Офф Холливуд Пикчерз',\n",
       " 'Буллетпроф Купид, Чемин Интертейнмент, СкоупПикчерз, Санкт Петербург Клеарватер Филм Комишн, Тим Бёртон Продакшнз, ХХ век Фокс',\n",
       " 'Бум Интертейнмент, Эммет/Фурла Филмз, Энвижн Интертейнмент Корпорейшн, Форсайт Анлимитед, Херрик Интертейнмент, Голливуд Студиос Интернэшнл, Марк Платт Продакшнз, Ред Хилл Интертейнмент',\n",
       " 'Бурлов Артем Викторович',\n",
       " 'Буэна Виста Интернэшнл, Рокет Пикчерз, Старз Анимэйшн, Тачстоун Пикчерз, Уолт Дисней Студиос Моушн Пикчерз       ',\n",
       " 'Бэ Бэ 3 Медиа',\n",
       " 'Бэ И Эн Дэ, Остлихт Фильмпродукцион, Вризинниг Протестантсе Радио Омреп',\n",
       " 'Бэ Эс Эм Студио, Бэкап Медиа, Балит Пикчерз, Парадиз Сити',\n",
       " 'Бэ Эс Эф Филм',\n",
       " 'Бэ энд Тэ, Хоезгуоши Энлайт Медиа',\n",
       " 'Бэд Айдиа, Бондит Медиа Кэпитал, Дарк Фэктори Интертейнмент, Экзит Стратеги Продакшнз, Литтл Маниак Энтертейнмент, Партикулар Крауд',\n",
       " 'Бэд Коп, Догфиш Пикчерз, Магнолиа Пикчерз, Мускат Филмд Пропертис',\n",
       " 'Бэд Робот',\n",
       " 'Бэд Робот, Скайдэнс Продакшнз, ТиСи Продакшнз, Парамаунт ',\n",
       " 'Бэд Хэт Нэрри Продакшнз, Касаделик Пикчерз, Джефф Райс Филмз',\n",
       " 'БэеЭнПе Париба Форти Фильм Финанс, Энтр Шьен э Лу, Национальный фонд поддержки аудивизуальной продукции Люксембурга, Ля  Валони, Ле Текс Шелтер, Проксимус, Ред Лион Сарл',\n",
       " 'Бэйджин Вейнгсусидай Калчер энд Медиа, Октобер Анимейшн Студио, Шандонг Филм энд Телевижн Продакшн Сентр',\n",
       " 'Бэкап Медиа, 279 Интертейнмент, Филм и Васт, ФилмВэйв, Иллюзион Филм энд Телевизьон, Пайм Тайм, Икс Филм Креатив Пул',\n",
       " 'Бэкап Медиа, Грин Хамминбёрд Интертейнмент, Лила Найнф Продакшнз, Морена Филмз, Ное Роад Мувиз, ПалмСтар Медиа, Юмедиа, Вотерстоун Интертейнмент',\n",
       " 'Бэкап Медиа, Ма Ма Пеликулас, Морена Филмз, Мовистар +, Тэ Вэ Е',\n",
       " 'Бэкап Студио, Сабан Филмз, Шонн Филм, Зилвермер Продакшнз, Эктон Бранд, Рекалкати Мультимендиа, Лайт Индустри Моушн Пикчерз, Белуга три, Проксимус, Канал +, Сине +, Глобал Роад Интертейнмннт',\n",
       " 'БэндерСпинк/Биг Кид Пикчерз, Дейвид Добкин Продакшнз, Нью Лайн Синема, Уорнер Бразерс ',\n",
       " 'Бэт Робот, Парамаунт Пикчерз, Скайденс Медиа, Ти Эс Продакшн',\n",
       " 'Бэтсабэ Мучо, Патэ, ТФ1 Фильм Продюксьон, Шаокорп Девелопман, Муви Пикчерз, Кофимаж 25, Канал +, Сине + ',\n",
       " 'Бюро',\n",
       " 'Бёрд Скэннон на Эйренн, Элемент Филмс, Филм Каунсил, Моментум Пикчерз, Скоттиш Скрин, Тэмпл Филмз, Пи Фэ Пи Филмз ЛТД',\n",
       " 'ВГИК',\n",
       " 'ВСЕРОССИЙСКИЙ ГОСУДАРСТВЕННЫЙ ИНСТИТУТ КИНЕМАТОГРАФИИ ИМЕНИ С.А. ГЕРАСИМОВА',\n",
       " 'Вай Нот Продакшн, Паж 114, Франс 2 Синема, Канал +, Сине +, Франс Телевизьон, Иль-де-Франс, Синемаж 9, Имаж 5, Палатен Этуаль 12, Индефилм 3, Ля Банк Посталь Имаж 8, Кофинова 11, Софисинема 11, СофиТиВиСине 2',\n",
       " 'Вай Нот Продюксьон',\n",
       " 'Вай Нот Продюксьон, Франс 3 Синема, Лё Пак, Канал +, Франс Телевизьон, Оранж Синема Сери, Бретань, Национальный центр кинематографии Франции',\n",
       " 'Вай Продюксьон, Эр Пэ Продюксьон, Марс Фильм, Франс 2 Синема, Монолит Фильм, Белг Продюксьон, Кофинова 13, Синевентюр 2, Канал +, Сине +, Франс Телевизьон, Полиш Филм Институт',\n",
       " 'Вайдак Продакшнз',\n",
       " 'Вайдеманн, Берг Филмпродакшн',\n",
       " 'Вайлд Банч',\n",
       " 'Вайлд Пикчерз, Дифайнт Пикчерз, Элайнс Синема, Алоэ Интертейнмент, Маунтинтоп Продакшнз',\n",
       " 'Вайлдсайд, Вижен Дистрибьюшн',\n",
       " 'Вайнштейн Компани',\n",
       " 'Вайнштейн Компани, Блю Йондер Филмз, Джон Шестак Продакшнз, Протокол Пикчерз, Ренмайкер Интертейнмент',\n",
       " 'Вайнштейн Компани, Коламбиа Пикчерз, Браун 26 Продакшнз, Дабл Фиче Филмз, Супер Кул Мэн Шу Ту/Чу Ту',\n",
       " 'Вайнштейн Компани, Мираж Интерпрайзис',\n",
       " 'Вайнштейн Компани, Скрин Австралиа, Сии-Со Фильм, Аквариус Фильм, Санстар Интертейнмент, Нарратив Кэпитал',\n",
       " 'Вайс Вижн',\n",
       " 'Вайт Лотус Продакшнз, Рил Эроин, Эмпресс Роуд Пикчерз',\n",
       " 'Вака Фильм, Ля Фабрик 2, Блюр Продюксьон, Фильмакс Интернэшнл, Кастелао Продюксьон',\n",
       " 'Вальдэ, Борсалино Продюксьон, Гомон, Матила Роар Продакшнз, Энтураж Пикчерз, Аскот Элит Хоум Интертейнмент',\n",
       " 'Ван Ворлд Филмс, Студио 37, Франсе 2 Синема, Лилу Филмс, Ксилиам',\n",
       " 'Ванго Филмз',\n",
       " 'Вандом Продюксьон, Франс 2 Синема, Канал +, Палатин Этуаль 9',\n",
       " 'Вантаж  Медиа Интернэшнл',\n",
       " 'Ванштейн Глобал Филм',\n",
       " 'Ванштейн Компани, Блю Йондер Филмз, Джон Шестак Продакшнз, Протокол Пикчерз, Ренмайкер Интертейнмент',\n",
       " 'Варп Филмз, Алтитьюд Филм Интертейнмент, Каталист Глобал Медиа, Лионсгейт',\n",
       " 'Варп Х',\n",
       " 'Варс Студио',\n",
       " 'Варыханова Юлия Витальевна',\n",
       " 'Васильев Сергей Дмитриевич',\n",
       " 'Ватермарк, ХХ век Фокс',\n",
       " 'Вега Фильм, Икс Фильм Креатив Пул, Ле Фильм дю Лозанж, Франс 3 Синема, А Эр Дэ Дегето Филм, Вестдойчер Рундфунк, Байришер Рундфунк, Франс Телевизьон, Канал +, Сине +, О Эр Фэ Филм ',\n",
       " 'Вега Фильм, Суисимаж, Фондасьон Водуаз, Фонд Реджио Фильм, Уайлд Банч',\n",
       " 'Везеринг Виз Ю Филм Партнерс,КоМикс Вейв Филмс, Кадокава, Лоусон Интертейнмент, Тохо ',\n",
       " 'Вейнстейн Компани ',\n",
       " 'Вектис Вижн, Сайклопс Вижн, Эм И Ка Ю',\n",
       " 'Венди Продюксьон, Моана Фильм, Марс Фильм, Ван Вонг Групп, Май Юнити Продюксьон, Канал +, Сине +, Национальный центр кинематографии, Софика Манон 8, Индефильм 6, А Плюс Имаж 8 ',\n",
       " 'Вендиан Интертейнмент, Стэй Голд Фьютчес, Гуд Фиэ Филм + Мэнэджмент, Майкл дэ Люка Продакшнз, Пэстел, Салем Стрит Интертейнмент, Бу Пикчерз',\n",
       " 'Вендом Продюксьон, Юниверсал Пикчерз, Нексус Фэктори, Юмедиа, Юфонд, Юрор Продюксьон, Палатэн Этуаль 14, Ля Банк Посталь Имаж 10 ',\n",
       " 'Верди Продакшнз, Магна Интертейнмент, Брюс Коэн Продакшнз, Сикелиа Продакшнз, Янгер Зен Ю',\n",
       " 'Верди Продакшнз, Магна Интертейнмент, Вудхэвен Продакшн Компани',\n",
       " 'Верк Верк Воркс',\n",
       " 'Вернер Херцог Фильмпродуцион',\n",
       " 'Версатий Фильм',\n",
       " 'Версус Интертейнмент, Сафран Компани, Дарк Трик Филмз, Студио 37',\n",
       " 'Версус Продюксьон, Ле Фильмдю Ворсо, Форум Фильм, Радио Телевизьон Бельж Франкофон, Белгаком, Меркью Интернациональ',\n",
       " 'Версус Продюксьон, От э Кур, Саваж, Вэ О О, Бэ Е ТиВи, Радио Телевизион Бельж Франкофон, Влаам Аудиовизуэль Фондс, Текс Шелтер дю Гувернеман Федерал Бельж, Инвер, Евроимаж, Медиа Программ оф Европен Юнион, Уэллимаж, Брюселль Кэпитал',\n",
       " 'Вертиго Филм, Нувель Интертейнмент Продакшнз, Эджис Филм Фонд, Прескьенс',\n",
       " 'Вертиго Филмз',\n",
       " 'Вертиго Филмз, АйЭм Глобал',\n",
       " 'Вертиго Филмз, Бетвин зе Эйс, Интернэшнл Трейдерс',\n",
       " 'Вертиго Филмз, БиБиСи Филмз',\n",
       " 'Вертиго, Патэ, М6 Филмз, Лоретт Дистрибусьон, Канал +, Сине +',\n",
       " 'ВестЭнд Филмз, Би-Би-Си Филмз, Руби Филмз Продакшн',\n",
       " 'ВестЭнд Филмз, Экосс Филмз, Ноттинг Хилл Филмз, Скоп Инвест/Пикчерз',\n",
       " 'Вестенд Фильм, Ле 13 Фильм, Дэвис-Фильм, Франс 2 Синема, Канал +, Оранж Синема, Франс Телевизьон ',\n",
       " 'Вестерн Эдж Пикчерз, Матадор Пикчерз, Синема Уан, Регент Кэпитал',\n",
       " 'Вестсайд Филмпродуцион ГмбХ, Донар Фильм, Дойч Коламбиа Пикчерз Филм Продуцион, Мистер Браун Интертейнмент',\n",
       " 'Веш Веш Продюксьон, Студио 37, Нексус Фэктори, Блэк Оранж, Канал +, СинеСинема, Юни Этуаль 7, Грек Филм Центр, Файв Ту Уан Продюксьон',\n",
       " 'Ви Продюксьон, Директ Синема, Артеми Продюксьон, Оранж Синема Сери, Директ 8, Юниверсал Пикчерз Интернэшнл, Кофинова 7, Текс Шелтер Филм Фандинг, Ле Текс Шелтер дю Гувернеман Федерал де Бельжик, Регион Бретань, Национальный центр кинематографии Франции',\n",
       " 'ВиАйПи Медиенфондс Фор Продакшн, Райзинг Стар, Силвер Рил, Премьер Пикчер, Уэльс Криатив Ай Пи Фонд, Контент Филм Интернэшнл, Молинэр, Перпетуал Медиа Кэпитал, Мисик Интернэшнл Интертейнмент',\n",
       " 'Видеманн энд Берг Филмпродуцион, Севен Пикчерз, Тэ О Пэ',\n",
       " 'Видеовижн Интертейнмент, Дистант Хоризон, Детэйл Филмз',\n",
       " 'Видерман/Берг Фильмпродукцион',\n",
       " 'Видерманн/Берг Филмпродукцион, Севен Пикчерз, Дойче Коламбиа Пикчерз Филм Продукцион',\n",
       " 'Видивэлл Продакшн, Фастнет Филмз',\n",
       " 'Вижн Филмз, Квартц Филмз, Упс Донатс Продакшнз, Тули Продакшнз, Алекс Продакшнз, Министри оф Контент',\n",
       " 'Визбанг Филмз',\n",
       " 'Визит Филмз, Нортэрн Лайтс Филмз',\n",
       " 'Викариус Интертейнмент',\n",
       " 'Вилдгаз Филмз, Би-Би-Си, Дэ Эс ЭМ Продуцион, Филм Фо',\n",
       " 'ВингНат Филмз, ДримУоркс, Филм 4, Кей Креативз',\n",
       " 'Винод Чопра Филмз',\n",
       " 'Винчестер Филмз, Неверланд Филмз, Е Эс 3 Продакшнз',\n",
       " 'Висеакр Филмз, Архстоун Дистрибьюшн',\n",
       " 'Вито Фильм, Од Шоттс, Тэ Эф 1 Фильм Продюксьон, Канал +, Сине +',\n",
       " 'Внешнеэкономическое объединение \"Совтелеэкспорт\" - филиал ФГУП \"Всероссийская государственная телевизионная и радиовещательная компания\"',\n",
       " 'Вологдин Дмитрий Николаевич',\n",
       " 'Волт Интернешнл Продакшнз',\n",
       " 'Волтадж Пикчерз, КОТА Филмз',\n",
       " 'Волтаж Пикчерз',\n",
       " 'Волтаж Пикчерз, Занук Индепендент, МедиаПро Пикчерз, Зефир Филмз',\n",
       " 'Волтаж Пикчерз, Трус Интертейнмент, Фокус Фьючерз',\n",
       " 'Волтейдж Пикчерз, Хитрекорд Филмз, Рэм Бергман Продакшнз',\n",
       " 'ВолтиджФилмз, Миднайт Китчен Продакшнз',\n",
       " 'Волтэдж Пикчерз, Фэстнет Филмз, 22 Эйч 22, Сканбокс Интертейнмент',\n",
       " 'Волтэйдж Пикчерз, Компани Филмз, Дженерейшен Ум',\n",
       " 'Волтэйдж Пикчерз, Пикчер Перфект, Ворлдвейв Интертейнмент, А Эн А Медиа',\n",
       " 'Вольтаж Пикчерз, Дан Филмз, Собини Филмз',\n",
       " 'Вольтедж Пикчерз',\n",
       " 'ВондерВолд Студиос, Анимэйшн Пикче Компани',\n",
       " 'ВондерВорлд Студиос, Авику Студиос, Анимэйшн Пиктче Компани, Си Джей Интертейнмент, Эмоушн Коллектив Десин, Вестбридж Юниверсити, Вури Инвестмент Клмпани',\n",
       " 'Ворд Вайд Майнд Филмз',\n",
       " 'Воркинг Дог',\n",
       " 'Ворлдвье Интертейнмент, Дабл Фиче Филмз',\n",
       " 'Ворлдвью Интертейнмент, Дрембридж Филмз, Мускат Филмд Пропертис, Руг Хаус',\n",
       " 'Ворлдвью Интертейнмент, Дримбридж Филмз, Мускат Филмд Пропетис, Раф Хаус Пикчерз',\n",
       " 'Ворлдвьё Интертейнмент, Анонимус Контент, МэдРивер Пикчерз',\n",
       " 'Ворлдвьё Интертейнмент, Драгонфлай Пикчерз, Фастнет Филмз',\n",
       " 'Вортекс',\n",
       " 'Всероссийский государственный институт кинематографии им. С.А.Герасимова',\n",
       " 'Всероссийский государственный институт кинематографии им.С.А.Герасимова',\n",
       " 'Вудворкс Филм Компани',\n",
       " 'Вусте Филм, Ирис Продюксьон, Дримаж, Норддойче Раундфанк, Байришер Раундфанк, Арте',\n",
       " 'Вэ И Пэ Медиенфондс 3, Асендант Пикчерз, Сатурн Филмз, Райзинг Стар, Эндгейм Интертейнмент, Интертейнмент Мэньюфэкчуринг Компани, Рилайз Филм',\n",
       " 'Вэнгард Филмз, Американ Зоутроп, МК2 Продюксьон, Канал +, Номадик Пикчерз, Франс 2 Синема, Видеофильм, Джерри Лейдер Компани, Фильм 4, Си Пэ А Ди Филмз, Сине +, Франс Телевизьон',\n",
       " 'Вэнгард Филмз, Одиссей Интертейнмент, Берлин Анимэйшн Филм, Берлинер Филм Компани',\n",
       " 'ГАУ Республики Башкортостан киностудия \"Башкортостан\" имени Амира Абдразакова, ООО \"Живая Лента\"',\n",
       " 'ГАУК РТ \"Набережночелнинский государственный татарский драматический театр\"',\n",
       " 'ГТПО \"Мосфильм\"',\n",
       " 'ГТПО \"Мосфильм\", \"КСТ\"',\n",
       " 'ГУП РБ Киностудия \"Башкортостан\"',\n",
       " 'ГУП Республики Башкортостан Киностудия \"Башкортостан\"',\n",
       " 'Габриэль Польски Продакшнс',\n",
       " 'Гага, Фуджи ТиВи Мувис, Аой Промоушн',\n",
       " 'Гайд Парк Интертейнмент, Каламбиа Пикчерз, Имеджинэйшн Абу Даби, Мэрвил Кнайтс',\n",
       " 'Гайи Фильм',\n",
       " 'Гайнакс',\n",
       " 'Гайссендёрфер Филм - унд Фернзеепродуцион, Лайблингсфилм Гмбх, Мем-фильм Гмбх, Теле-Мюнхен ',\n",
       " 'Галатэ Фильм, Аутсайд Фильм, Фильм Африка Ворлдвайд, Эм Эс Фильм, Студио Каналь',\n",
       " 'Галкина Вероника Львовна',\n",
       " 'Галлен Филмз, Комплайзен Филм, О Сом и э Фуриа, Радиотелевизао Португаеса, Шеллак Студио, Зе Де Эф/Арте',\n",
       " 'Галлопинг Хорс Калче энд Медиа, Чайна Филм Групп, Лион Рок Продакшнз, Йозо Пикчерз, Шейанг Хуас Филм энд Ти Ви',\n",
       " 'Галп Сплэш Продакшнз, Вэнишин Энгл',\n",
       " 'Гамбит Пикчерз, Электрик Шеперд Продакшнз, Медиа Райт Кэпитал, Юниверсал Пикчерз',\n",
       " 'Ганни Интертейнмент',\n",
       " 'Ганнибал Пикчерз, Ю Эс Эс Индианаполис Продакшн',\n",
       " 'Ганхил, Сайборн, Ивес Агеманс',\n",
       " 'Гапиенко Заур Александрович',\n",
       " 'Гапон Юрий Витальевич',\n",
       " 'Гари Санчез Продакшнс',\n",
       " 'Гарифуллин Рамиль Рамзиевич',\n",
       " ...]"
      ]
     },
     "execution_count": 697,
     "metadata": {},
     "output_type": "execute_result"
    }
   ],
   "source": [
    "# Смотрим категории в столбце film_studio\n",
    "\n",
    "df['film_studio'].sort_values().unique().tolist()"
   ]
  },
  {
   "cell_type": "code",
   "execution_count": 698,
   "metadata": {},
   "outputs": [
    {
     "data": {
      "text/plain": [
       "[' СССР',\n",
       " ' СССР ',\n",
       " ' СССР   ',\n",
       " '2019',\n",
       " 'CША',\n",
       " 'Австралия',\n",
       " 'Австралия - Великобритания - Бельгия - Индия',\n",
       " 'Австралия - Германия',\n",
       " 'Австралия - Ирландия',\n",
       " 'Австралия - Колумбия',\n",
       " 'Австралия - США',\n",
       " 'Австралия, Канада',\n",
       " 'Австралия, США',\n",
       " 'Австралия-Великобритания',\n",
       " 'Австралия-Ирландия',\n",
       " 'Австралия-США',\n",
       " 'Австралия-Турция-США',\n",
       " 'Австрия',\n",
       " 'Австрия - Германия',\n",
       " 'Австрия - Германия - Франция',\n",
       " 'Австрия - Люксембург',\n",
       " 'Австрия, Великобритания, Германия',\n",
       " 'Австрия-Германия-Франция',\n",
       " 'Австрия-Франция-Германия',\n",
       " 'Азербайджан-Россия',\n",
       " 'Аргентина',\n",
       " 'Аргентина - Бразилия',\n",
       " 'Аргентина - Испания',\n",
       " 'Аргентина - Испания - Уругвай',\n",
       " 'Аргентина - Мексика - Бразилия - Франция - США',\n",
       " 'Аргентина - Уругвай - Россия - Германия - Франция - Нидерланды',\n",
       " 'Аргентина - Франция - Испания',\n",
       " 'Аргентина, Испания',\n",
       " 'Аргентина-Испания',\n",
       " 'Армения',\n",
       " 'Армения - Германия',\n",
       " 'Армения - Казахстан',\n",
       " 'Армения-Россия',\n",
       " 'Бельгия',\n",
       " 'Бельгия - Германия - Люксембург',\n",
       " 'Бельгия - Германия - Люксембург - Франция',\n",
       " 'Бельгия - Испания - Канада - Нидерланды',\n",
       " 'Бельгия - Италия - Франция ',\n",
       " 'Бельгия - Люксембург',\n",
       " 'Бельгия - Люксембург - Франция - Швейцария',\n",
       " 'Бельгия - Нидерланды - Франция',\n",
       " 'Бельгия - США',\n",
       " 'Бельгия - Франция',\n",
       " 'Бельгия - Франция - Люксембург',\n",
       " 'Бельгия, Великобритания, США',\n",
       " 'Бельгия, Канада',\n",
       " 'Бельгия-Нидерланды',\n",
       " 'Бельгия-Франция',\n",
       " 'Бельгия-Франция-Италия',\n",
       " 'Болгария',\n",
       " 'Болгария - США',\n",
       " 'Болгария - Франция - Изриль',\n",
       " 'Босния и Герцеговина - Франция - Великобритания - Германия - Словения - Бельгия - Сербия',\n",
       " 'Бразилия',\n",
       " 'Бразилия - Германия - Порртугалия - Франция ',\n",
       " 'Бразилия - Испания',\n",
       " 'Бразилия - К;анада',\n",
       " 'Бразилия - Канада - США',\n",
       " 'Бразилия - Португалия - Франция',\n",
       " 'Бразилия - США',\n",
       " 'Бразилия - США - КНР ',\n",
       " 'Бразилия, Уругвай, Дания, Норвегия, Чили, Швеция',\n",
       " 'Великобритания',\n",
       " 'Великобритания ',\n",
       " 'Великобритания - Австралия - США',\n",
       " 'Великобритания - Австрия - Германия',\n",
       " 'Великобритания - Австрия - Франция - США',\n",
       " 'Великобритания - Аргентина - США - Франция - Россия - Испания',\n",
       " 'Великобритания - Германия',\n",
       " 'Великобритания - Германия - Нидерланды - Дания',\n",
       " 'Великобритания - Германия - США',\n",
       " 'Великобритания - Германия - Франция - Кипр - США',\n",
       " 'Великобритания - Гонконг - Венгрия - США - Ирландия',\n",
       " 'Великобритания - Дания',\n",
       " 'Великобритания - Израиль',\n",
       " 'Великобритания - Израиль - Франция - Япония - США',\n",
       " 'Великобритания - Ирландия',\n",
       " 'Великобритания - Ирландия - США',\n",
       " 'Великобритания - Ирландия - США ',\n",
       " 'Великобритания - Исландия - Испания - Швейцария - США',\n",
       " 'Великобритания - Испания',\n",
       " 'Великобритания - Испания - Германия',\n",
       " 'Великобритания - Испания - Италия - Латвия - Франция - Эстония',\n",
       " 'Великобритания - Испания - Непал - Индия - Венгрия - Гонконг - Германия - Дания - Бахрейн',\n",
       " 'Великобритания - Италия',\n",
       " 'Великобритания - Италия - Испания',\n",
       " 'Великобритания - Италия - Швейцария',\n",
       " 'Великобритания - КНР',\n",
       " 'Великобритания - Канада',\n",
       " 'Великобритания - Канада - США',\n",
       " 'Великобритания - Люксембург',\n",
       " 'Великобритания - Мексика - США',\n",
       " 'Великобритания - Нидерланды - Германия - Франция - Бельгия - Австрия ',\n",
       " 'Великобритания - Нидерланды - Франция - США',\n",
       " 'Великобритания - Нидерланды - Франция - Хорватия',\n",
       " 'Великобритания - Новая Зеландия',\n",
       " 'Великобритания - Норвегия - Дания - Германия',\n",
       " 'Великобритания - Норвегия - Кения - Хорватия',\n",
       " 'Великобритания - Польша',\n",
       " 'Великобритания - Польша - КНР - Индия - Норвегия',\n",
       " 'Великобритания - Пуэрто-Рико',\n",
       " 'Великобритания - Россия - КНР',\n",
       " 'Великобритания - Россия - Украина - США',\n",
       " 'Великобритания - Румыния',\n",
       " 'Великобритания - США',\n",
       " 'Великобритания - США - Австралия - Ирландия - Германия - Куба - Канада',\n",
       " 'Великобритания - США - Германия',\n",
       " 'Великобритания - США - Германия - Бельгия',\n",
       " 'Великобритания - США - Германия - Канада - Австралия',\n",
       " 'Великобритания - США - Индия',\n",
       " 'Великобритания - США - Канада',\n",
       " 'Великобритания - США - Канада - Бельгия - Нидерланды - Австрия - Германия',\n",
       " 'Великобритания - США - Канада - Нидерланды - Франция',\n",
       " 'Великобритания - США - Россия',\n",
       " 'Великобритания - США - Франция',\n",
       " 'Великобритания - США - Швейцария',\n",
       " 'Великобритания - Франция',\n",
       " 'Великобритания - Франция - Австрия - Швеция',\n",
       " 'Великобритания - Франция - Бельгия',\n",
       " 'Великобритания - Франция - Бельгия - Италия',\n",
       " 'Великобритания - Франция - Бельгия - США',\n",
       " 'Великобритания - Франция - Венгрия',\n",
       " 'Великобритания - Франция - Германия',\n",
       " 'Великобритания - Франция - Германия - США',\n",
       " 'Великобритания - Франция - Италия',\n",
       " 'Великобритания - Франция - Италия - Индия - Дания - КНР - Бангладеш - Камбоджа - Гаити - Уганда',\n",
       " 'Великобритания - Франция - Италия - США',\n",
       " 'Великобритания - Франция - Республика Кипр - Швейцария - США - Сербия',\n",
       " 'Великобритания - Франция - США',\n",
       " 'Великобритания - Франция - Швеция - Бельгия',\n",
       " 'Великобритания - Чехия - Франция',\n",
       " 'Великобритания - Чехия - Франция - Италия',\n",
       " 'Великобритания - ЮАР',\n",
       " 'Великобритания - Япония - США',\n",
       " 'Великобритания, Австралия',\n",
       " 'Великобритания, Германия, Дания, США',\n",
       " 'Великобритания, Канада',\n",
       " 'Великобритания, Канада, США',\n",
       " 'Великобритания, Нидерланды, Польша, Швейцария, Франция',\n",
       " 'Великобритания, Новая Зеландия',\n",
       " 'Великобритания, США',\n",
       " 'Великобритания, США, Испания',\n",
       " 'Великобритания, Франция',\n",
       " 'Великобритания, Франция, Бельгия',\n",
       " 'Великобритания, Швеция, США',\n",
       " 'Великобритания, Южная Корея, Канада, США, Индия, Китай, Япония',\n",
       " 'Великобритания, Япония, США',\n",
       " 'Великобритания-Австралия - США',\n",
       " 'Великобритания-Венгрия',\n",
       " 'Великобритания-Германия-Канада-ЮАР',\n",
       " 'Великобритания-США',\n",
       " 'Великобритания-США-Германия-КНР',\n",
       " 'Великобритания-США-Франция',\n",
       " 'Великобритания-Франция',\n",
       " 'Великобритания-Франция-Германия',\n",
       " 'Венгрия',\n",
       " 'Венгрия - Германия - Швеция',\n",
       " 'Венесуэла',\n",
       " 'Германия',\n",
       " 'Германия - Австралия',\n",
       " 'Германия - Австрия',\n",
       " 'Германия - Австрия - Ирландия',\n",
       " 'Германия - Австрия - Франция',\n",
       " 'Германия - Аргентина - Нидерланды - Чили',\n",
       " 'Германия - Бельгия',\n",
       " 'Германия - Бельгия - Великобритания',\n",
       " 'Германия - Бельгия - Люксембург - Ирландия',\n",
       " 'Германия - Бельгия - Люксембург - Норвегия',\n",
       " 'Германия - Бельгия - США -Франция',\n",
       " 'Германия - Великобритания',\n",
       " 'Германия - Великобритания - Австрия',\n",
       " 'Германия - Великобритания - Италия - Испания',\n",
       " 'Германия - Великобритания - США',\n",
       " 'Германия - Дания - Испания - Швеция - Канада - Эстония - Франция',\n",
       " 'Германия - Дания - Норвегия',\n",
       " 'Германия - Исландия',\n",
       " 'Германия - Италия',\n",
       " 'Германия - Италия - США',\n",
       " 'Германия - Италия - Франция',\n",
       " 'Германия - Канада',\n",
       " 'Германия - Китай',\n",
       " 'Германия - Люксембург - Бельгия',\n",
       " 'Германия - Люксембург - Дания',\n",
       " 'Германия - Люксембург - Франция',\n",
       " 'Германия - Нидерланды - Беларусь - Россия - Латвия',\n",
       " 'Германия - Нидерланды - ЮАР',\n",
       " 'Германия - Россия',\n",
       " 'Германия - США',\n",
       " 'Германия - США - Великобритания - Израиль',\n",
       " 'Германия - США - Великобритания - Ирландия',\n",
       " 'Германия - США - Франция - Испания',\n",
       " 'Германия - США - Швеция - Франция',\n",
       " 'Германия - Финляндия - Австралия',\n",
       " 'Германия - Франция',\n",
       " 'Германия - Франция -  Польша - Турция - Канада - Италия - Россия ',\n",
       " 'Германия - Франция - Австрия',\n",
       " 'Германия - Франция - Бельгия',\n",
       " 'Германия - Франция - Великобритания - Польша - США',\n",
       " 'Германия - Франция - Канада',\n",
       " 'Германия - Франция - Люксембург',\n",
       " 'Германия - Франция - Польша',\n",
       " 'Германия - Швейцария',\n",
       " 'Германия - Швейцария - Франция - Южная Корея - США',\n",
       " 'Германия, Австралия',\n",
       " 'Германия, Бельгия',\n",
       " 'Германия, Россия',\n",
       " 'Германия, США',\n",
       " 'Германия, Франция',\n",
       " 'Германия, Франция, США',\n",
       " 'Германия-Австрия',\n",
       " 'Германия-Австрия-Франция-Италия',\n",
       " 'Германия-Великобритания',\n",
       " 'Германия-Израиль',\n",
       " 'Германия-Италия- Шри-Ланка',\n",
       " 'Германия-Италия-Швейцария',\n",
       " 'Германия-Канада-Великобритания-Швейцария-Франция',\n",
       " 'Германия-Канада-Франция-Бельгия',\n",
       " 'Германия-Кения',\n",
       " 'Германия-США',\n",
       " 'Германия-Украина-Нидерланды',\n",
       " 'Германия-Франция-Великобритания',\n",
       " 'Германия-Франция-Великобритания-США',\n",
       " 'Германия-Франция-Польша',\n",
       " 'Германия-Швеция',\n",
       " 'Голландия',\n",
       " 'Гонконг',\n",
       " 'Гонконг - КНР',\n",
       " 'Гонконг - Сингапур - Таиланд - Великобритания',\n",
       " 'Гонконг, КНР',\n",
       " 'Греция',\n",
       " 'Греция - Германия - Франция',\n",
       " 'Греция - Россия',\n",
       " 'Грузия',\n",
       " 'Грузия - Россия - Украина - Хорватия - Германия',\n",
       " 'Грузия - Украина',\n",
       " 'Грузия - Франция - Люксембург',\n",
       " 'Грузия-Россия',\n",
       " 'Грузия-Франция',\n",
       " 'Дания',\n",
       " 'Дания - Австрия - Ирландия - Финляндия - Норвегия - Швеция - Нидерланды',\n",
       " 'Дания - Великобритания - ЮАР',\n",
       " 'Дания - Германия',\n",
       " 'Дания - Германия - Швеция',\n",
       " 'Дания - Исландия',\n",
       " 'Дания - Канада - Швеция - Франция - Германия - Великобритания - США',\n",
       " 'Дания - Латвия - Россия - США',\n",
       " 'Дания - Норвегия - Великобритания',\n",
       " 'Дания - США',\n",
       " 'Дания - Франция - Германия - Швеция',\n",
       " 'Дания - Франция - Италия - Бельгия - Нидерланды',\n",
       " 'Дания - Швейцария - Бельгия - Франция',\n",
       " 'Дания - Швеция',\n",
       " 'Дания - Швеция - Великобритания - Франция - Германия - Нидерланды - Норвегия - Финляндия',\n",
       " 'Дания - Швеция - Италия - Франция - Германия',\n",
       " 'Дания, Канада, Норвегия, Австралия, США',\n",
       " 'Дания, Норвегия, Венгрия, Чехия',\n",
       " 'Дания, Норвегия, Швеция, Исландия',\n",
       " 'Дания-Франция-Бельгия-Германия-Великобритания',\n",
       " 'Дания-Швеция-Франция-Германия',\n",
       " 'Израиль',\n",
       " 'Израиль - Германия - Польша - Бельгия - Франция - Люксембург',\n",
       " 'Израиль - Германия - Франция - Швейцария',\n",
       " 'Израиль - Франция',\n",
       " 'Израиль - Франция - Великобритания - Германия',\n",
       " 'Израиль - Франция - Германия - Палестина - США - Австрия - Великобритания',\n",
       " 'Израиль, Украина',\n",
       " 'Израиль-США-Франция',\n",
       " 'Индия',\n",
       " 'Индия - Великобритания',\n",
       " 'Индия - КНР',\n",
       " 'Индия - Мексика',\n",
       " 'Индия - США',\n",
       " 'Индонезия',\n",
       " 'Иран',\n",
       " 'Иран ',\n",
       " 'Иран, Франция',\n",
       " 'Ирландия',\n",
       " 'Ирландия - Великобритания - Канада',\n",
       " 'Ирландия - Великобритания - США',\n",
       " 'Ирландия - Великобритания - Франция - США',\n",
       " 'Ирландия - Великобритания - Франция - США - Германия - Нидерланды',\n",
       " 'Ирландия - Дания - Бельгия - Люксембург - Франция',\n",
       " 'Ирландия - США',\n",
       " 'Ирландия - Финляндия - Бельгия - Великобритания - США - Швейцария',\n",
       " 'Ирландия, Великобритания',\n",
       " 'Ирландия, Канада',\n",
       " 'Ирландия-Великобритания',\n",
       " 'Ирландия-Великобритания-Германия',\n",
       " 'Ирландия-Нидерланды-Франция-США-Великобритания',\n",
       " 'Исландия',\n",
       " 'Исландия - Финляндия',\n",
       " 'Исландия, Бельгия',\n",
       " 'Исландия-Ирландия-Германия',\n",
       " 'Испания',\n",
       " 'Испания - Аргентина',\n",
       " 'Испания - Аргентина - Индия - США',\n",
       " 'Испания - Бельгия - Франция - Португалия - Великобритания',\n",
       " 'Испания - Болгария - США',\n",
       " 'Испания - Великобритания - Франция',\n",
       " 'Испания - Германия - Нидерланды',\n",
       " 'Испания - Италия - Франция',\n",
       " 'Испания - Канада',\n",
       " 'Испания - Канада - Япония',\n",
       " 'Испания - Куба',\n",
       " 'Испания - Мальта',\n",
       " 'Испания - Мексика',\n",
       " 'Испания - США',\n",
       " 'Испания - США - Великобритания - Канада',\n",
       " 'Испания - США - Колумбия',\n",
       " 'Испания - Уругвай - Аргентина',\n",
       " 'Испания - Франция',\n",
       " 'Испания - Франция - Нидерланды - Германия - Бельгия - Великобритания - Канада',\n",
       " 'Испания - Франция - США - Великобритания - Бельгия',\n",
       " 'Испания - Швейцария - Великобритания - Германия - Новая Зеландия - Нидерланды - Канада',\n",
       " 'Испания, Ирландия, Бельгия, Франция',\n",
       " 'Испания, Франция, Великобритания, Дания, Бельгия, Германия',\n",
       " 'Испания, Франция, Италия',\n",
       " 'Испания-Аргентина',\n",
       " 'Испания-Канада',\n",
       " 'Испания-Колумбия',\n",
       " 'Испания-Мексика',\n",
       " 'Испания-Франция-Греция-Индия-США-Россия-Великобритания',\n",
       " 'Италия',\n",
       " 'Италия ',\n",
       " 'Италия - Аргентина - Словения ',\n",
       " 'Италия - Бельгия - Франция',\n",
       " 'Италия - Канада',\n",
       " 'Италия - Россия',\n",
       " 'Италия - США',\n",
       " 'Италия - Франция',\n",
       " 'Италия - Франция - Германия',\n",
       " 'Италия - Франция - Швейцария',\n",
       " 'Италия - Франция - Швейцария - Великобритания',\n",
       " 'Италия - Фрация - Бразилия - Германия',\n",
       " 'Италия - Швейцария - Германия',\n",
       " 'Италия, Германия',\n",
       " 'Италия, Испания',\n",
       " 'Италия, Франция',\n",
       " 'Италия, Франция, Германия',\n",
       " 'Италия-Великобритания',\n",
       " 'Италия-США',\n",
       " 'Италия-Франция',\n",
       " 'Италия-Франция-Великобритания',\n",
       " 'Италия-Швейцария',\n",
       " 'Италия-Швейцария-Франция-Германия ',\n",
       " 'КНР',\n",
       " 'КНР - Гонконг',\n",
       " 'КНР - Гонконг - США',\n",
       " 'КНР - Канада - США',\n",
       " 'КНР - США',\n",
       " 'КНР - США ',\n",
       " 'КНР - Сингапур',\n",
       " 'КНР - Франция',\n",
       " 'КНР, Индия, Гонконг, США',\n",
       " 'КНР, США',\n",
       " 'КНР-США',\n",
       " 'Казахстан',\n",
       " 'Канада',\n",
       " 'Канада - Германия',\n",
       " 'Канада - Испания',\n",
       " 'Канада - Италия',\n",
       " 'Канада - КНР',\n",
       " 'Канада - Мексика',\n",
       " 'Канада - Норвегия',\n",
       " 'Канада - США',\n",
       " 'Канада - США - Германия - Франция',\n",
       " 'Канада - США - Нидерланды - Великобритания - Аргентина',\n",
       " 'Канада - Франция',\n",
       " 'Канада - Франция - Великобритания',\n",
       " 'Канада - Франция - Испания',\n",
       " 'Канада - Франция - США - ОАЭ - Великобритания',\n",
       " 'Канада - Южная Корея',\n",
       " 'Канада, Великобритания',\n",
       " 'Канада, США',\n",
       " 'Канада, США, Каймановы острова',\n",
       " 'Канада, США, Норвегия',\n",
       " 'Канада, Франция, Италия, Швейцария, США',\n",
       " 'Канада- Испания',\n",
       " 'Канада-Бразилия-Япония',\n",
       " 'Канада-Великобритания',\n",
       " 'Канада-Германия',\n",
       " 'Канада-США',\n",
       " 'Канада-Франция',\n",
       " 'Канада-ЮАР',\n",
       " 'Канада-Южная Корея-США',\n",
       " 'Кения, Германия',\n",
       " 'Киргизия',\n",
       " 'Киргизия-Россия',\n",
       " 'Китай',\n",
       " 'Китай - Гонконг',\n",
       " 'Китай, Канада, США',\n",
       " 'Китай, США',\n",
       " 'Китай-Гонконг',\n",
       " 'Китай-Гонконг-США',\n",
       " 'Княжество Андорра - Украина',\n",
       " 'Колумбия',\n",
       " 'Колумбия - США',\n",
       " 'Корея',\n",
       " 'Латвия - Россия',\n",
       " 'Латвия - Франция',\n",
       " 'Ливан-США',\n",
       " 'Литва - Венгрия',\n",
       " 'Литва-Россия-Украина',\n",
       " 'Люксембург - Бельгия - Франция',\n",
       " 'Люксембург - Нидерланды - Испания - Великобритания - США - Италия',\n",
       " 'Македония - Франция - Великобритания',\n",
       " 'Малайзия',\n",
       " 'Малайзия - США',\n",
       " 'Мексика',\n",
       " 'Мексика - Аргентина - Великобритания',\n",
       " 'Мексика - Испания',\n",
       " 'Мексика - Испания - Дания - США',\n",
       " 'Мексика - Нидерланды - Германия - Франция',\n",
       " 'Мексика - США',\n",
       " 'Мексика - Тайвань - США',\n",
       " 'Мексика - Франция',\n",
       " 'Мексика - Франция - Нидерланды - Германия',\n",
       " 'Мексика - Чили',\n",
       " 'Мексика - Эквадор - Канада - США - Франция - Малайзия - Италия - Аргентина - Германия - Индия  ',\n",
       " 'Мексика, Франция, Германия, Дания, Швеция',\n",
       " 'Мексика-Аргентина',\n",
       " 'Монголия',\n",
       " 'Нидерланды',\n",
       " 'Нидерланды - Бельгия - Болгария',\n",
       " 'Нидерланды - Бельгия - Германия - Ирландия',\n",
       " 'Нидерланды - Бельгия - Люксембург',\n",
       " 'Нидерланды - Великобритания - Бельгия',\n",
       " 'Нидерланды - Россия',\n",
       " 'Нидерланды - Россия - Германия',\n",
       " 'Нидерланды - США - Германия - Канада - Франция - Ирландия - Великобритания',\n",
       " 'Нидерланды - Франция - Германия - Бельгия - Швеция - Великобритания',\n",
       " 'Нидерланды, Бельгия',\n",
       " 'Нидерланды, Бельгия, Люксембург',\n",
       " 'Нидерланды-Великобритания-Франция-Италия-Япония',\n",
       " 'Новая Зеландия',\n",
       " 'Новая Зеландия - КНР',\n",
       " 'Новая Зеландия - США',\n",
       " 'Норвегия',\n",
       " 'Норвегия - Азербайджан - Россия - Колумбия - Великобритания - Венгрия - Румыния - Франция - Грузия',\n",
       " 'Норвегия - Дания - Швеция',\n",
       " 'Норвегия - Исландия - США - Великобритания ',\n",
       " 'Норвегия - Нидерланды',\n",
       " 'Норвегия - США',\n",
       " 'Норвегия - Швеция',\n",
       " 'Норвегия - Швеция - Дания - Германия',\n",
       " 'Норвегия - Швеция - Россия',\n",
       " 'Норвегия, Швеция, Дания',\n",
       " 'Норвения',\n",
       " 'ОАЭ - США',\n",
       " 'Пакистан',\n",
       " 'Парагвай',\n",
       " 'Перу',\n",
       " 'Польша',\n",
       " 'Польша - Ирландия',\n",
       " 'Польша - Италия - Россия',\n",
       " 'Польша - Португалия - Франция - Великобритания',\n",
       " 'Польша - Франция',\n",
       " 'Польша - Франция - Великобритания',\n",
       " 'Польша - Франция - Испания - Бразилия - Швеция',\n",
       " 'Португалия',\n",
       " 'Португалия - Франция',\n",
       " 'Португалия, Франция, Польша, США',\n",
       " 'Пуэрто-Рико, Великобритания, США',\n",
       " 'Республика Армения',\n",
       " 'Республика Беларусь',\n",
       " 'Республика Беларусь, Германия, США, Россия',\n",
       " 'Республика Казахстан',\n",
       " 'Республика Кипр',\n",
       " 'Республика Кипр - Россия',\n",
       " 'Республика Кипр, Россия',\n",
       " 'Республика Кипр, США, Россия',\n",
       " 'Республика Кипр-Россия',\n",
       " 'Республика Корея',\n",
       " 'Республика Узбекистан',\n",
       " 'Россия',\n",
       " 'Россия - Азербайджан',\n",
       " 'Россия - Болгария',\n",
       " 'Россия - Германия',\n",
       " 'Россия - Германия - Украина',\n",
       " 'Россия - Германия - Швейцария',\n",
       " 'Россия - Грузия',\n",
       " 'Россия - Италия',\n",
       " 'Россия - Казахстан',\n",
       " 'Россия - Польша',\n",
       " 'Россия - Республика Кипр',\n",
       " 'Россия - США',\n",
       " 'Россия - Франция - Великобритания - Латвия',\n",
       " 'Россия - Эстония - Финляндия - Беларусь',\n",
       " 'Россия,  Испания',\n",
       " 'Россия, Австрия',\n",
       " 'Россия, Армения',\n",
       " 'Россия, Бельгия, Финляндия',\n",
       " 'Россия, Германия',\n",
       " 'Россия, Германия, Великобритания',\n",
       " 'Россия, Германия, Казахстан, Польша, Китай',\n",
       " 'Россия, Германия, Франция, Бельгия',\n",
       " 'Россия, Грузия, Испания',\n",
       " 'Россия, Грузия, Хорватия, Испания',\n",
       " 'Россия, Испания',\n",
       " 'Россия, Италия',\n",
       " 'Россия, Казахстан, США',\n",
       " 'Россия, Латвия, Чешская Республика',\n",
       " 'Россия, Нидерланды, Финляндия',\n",
       " 'Россия, Польша, Финляндия',\n",
       " 'Россия, Республика Беларусь',\n",
       " 'Россия, Республика Кипр',\n",
       " 'Россия, Румыния',\n",
       " 'Россия, Сербия',\n",
       " 'Россия, Таджикистан',\n",
       " 'Россия, Украина',\n",
       " 'Россия, Украина, Польша',\n",
       " 'Россия, Украина, Республика Беларусь, Литва',\n",
       " 'Россия, Франция, Германия, Бельгия',\n",
       " 'Россия, Франция, Латвия',\n",
       " 'Россия-Азербайджан',\n",
       " 'Россия-Беларусь',\n",
       " 'Россия-Белоруссия',\n",
       " 'Россия-Германия',\n",
       " 'Россия-Ирландия',\n",
       " 'Россия-Италия',\n",
       " 'Россия-Казахстан',\n",
       " 'Россия-Кипр',\n",
       " 'Россия-Китай',\n",
       " 'Россия-Польша',\n",
       " 'Россия-Польша-Голландия-Словакия',\n",
       " 'Россия-США',\n",
       " 'Россия-США-Канада-Люксембург',\n",
       " 'Россия-Словакия-Чехия',\n",
       " 'Россия-Украина',\n",
       " 'Россия-Украина-Германия',\n",
       " 'Россия-Франция',\n",
       " 'Румыния',\n",
       " 'Румыния - Франция - Бельгия',\n",
       " 'Румыния, ЮАР, Иран, Франция, Канада, Великобритания',\n",
       " 'Румыния-США',\n",
       " 'СССР',\n",
       " 'СССР ',\n",
       " 'СССР  ',\n",
       " 'СССР   ',\n",
       " 'СССР    ',\n",
       " 'СССР     ',\n",
       " 'СССР - ГДР - Польша - Италия',\n",
       " 'СССР - Италия',\n",
       " 'СССР - Швейцария - Франция',\n",
       " 'СССР, Албания',\n",
       " 'СССР, Афганистан',\n",
       " 'СССР, ВНР',\n",
       " 'СССР, Венгрия',\n",
       " 'СССР, Венгрия, ЧССР, ГДР',\n",
       " 'СССР, ГДР',\n",
       " 'СССР, Италия',\n",
       " 'СССР, Монголия',\n",
       " 'СССР, Польша',\n",
       " 'СССР, Россия',\n",
       " 'СССР, Румыния, Франция',\n",
       " 'СССР, ФРГ',\n",
       " 'СССР, ФРГ, Западный Берлин',\n",
       " 'СССР, Финляндия',\n",
       " 'СССР, Франция, Англия, Куба, ГДР',\n",
       " 'СССР, ЧССР, Западный Берлин, ПНР',\n",
       " 'СССР, Швеция',\n",
       " 'США',\n",
       " 'США ',\n",
       " 'США - Австралия',\n",
       " 'США - Австралия - Дания',\n",
       " 'США - Австралия - Индия',\n",
       " 'США - Австралия - Мексика',\n",
       " 'США - Австралия - Новая Зеландия - Великобритания',\n",
       " 'США - Австралия - Франция',\n",
       " 'США - Бельгия',\n",
       " 'США - Бельгия - Великобритания',\n",
       " 'США - Болгария - Мексика',\n",
       " 'США - Бразилия - Великобритания - Канада',\n",
       " 'США - Бразилия - Франция - Австралия - Великобритания - Германия',\n",
       " 'США - Великобритания',\n",
       " 'США - Великобритания ',\n",
       " 'США - Великобритания - Австралия',\n",
       " 'США - Великобритания - Болгария',\n",
       " 'США - Великобритания - Германия',\n",
       " 'США - Великобритания - Германия - - Швеция - Канада',\n",
       " 'США - Великобритания - Германия - Бельгия - Дания',\n",
       " 'США - Великобритания - Германия - Новая Зеландия - Бельгия - Франция',\n",
       " 'США - Великобритания - Ирландия',\n",
       " 'США - Великобритания - Исландия',\n",
       " 'США - Великобритания - Испания',\n",
       " 'США - Великобритания - Италия - Израиль - Сербия - Индия',\n",
       " 'США - Великобритания - КНР',\n",
       " 'США - Великобритания - Канада',\n",
       " 'США - Великобритания - Канада - КНР',\n",
       " 'США - Великобритания - Канада - Швеция',\n",
       " 'США - Великобритания - Новая Зеландия',\n",
       " 'США - Великобритания - Франция',\n",
       " 'США - Великобритания - Франция - Гонконг',\n",
       " 'США - Великобритания - Чехия',\n",
       " 'США - Великобритания - Швейцария - Франция',\n",
       " 'США - Великобритания - Швеция',\n",
       " 'США - Великобритания - Япония',\n",
       " 'США - Великобритания- Франция - Швеция',\n",
       " 'США - Венгрия - Великобритания',\n",
       " 'США - Вьетнам',\n",
       " 'США - Германия',\n",
       " 'США - Германия - Великобритания',\n",
       " 'США - Германия - Гонконг - Сингапур',\n",
       " 'США - Германия - КНР',\n",
       " 'США - Германия - Канада',\n",
       " 'США - Германия - Нидерланды',\n",
       " 'США - Германия - Франция',\n",
       " 'США - Германия - Франция - Великобритания - Канада ',\n",
       " 'США - Германия - Япония',\n",
       " 'США - Гонконг',\n",
       " 'США - Гонконг - КНР ',\n",
       " 'США - Дания',\n",
       " 'США - Индия',\n",
       " 'США - Индия - ОАЭ',\n",
       " 'США - Ирландия - Великобритания',\n",
       " 'США - Ирландия - Великобритания - Франция',\n",
       " 'США - Испания',\n",
       " 'США - Испания - Болгария',\n",
       " 'США - Испания - Франция',\n",
       " 'США - Испания - Франция - Великобритания',\n",
       " 'США - Италия',\n",
       " 'США - КНР',\n",
       " 'США - КНР - Индия - Ю.Корея',\n",
       " 'США - Канада',\n",
       " 'США - Канада - Аргентина',\n",
       " 'США - Канада - Афганистан - Бельгия - Франция',\n",
       " 'США - Канада - Великобритания',\n",
       " 'США - Канада - Германия',\n",
       " 'США - Канада - Германия - Франция',\n",
       " 'США - Канада - Индонезия',\n",
       " 'США - Канада - КНР',\n",
       " 'США - Канада - Россия - Франция - Чили - Ирландия',\n",
       " 'США - Канада - Франция - Индия',\n",
       " 'США - Канада - Япония - КНР',\n",
       " 'США - Китай',\n",
       " 'США - Колумбия',\n",
       " 'США - Колумбия - Испания',\n",
       " 'США - Мальта',\n",
       " 'США - Мексика',\n",
       " 'США - Нидерланды - Бельгия - Венгрия - Греция - Канада',\n",
       " 'США - Нидерланды - Финляндия - Великобритания - Италия',\n",
       " 'США - Новая Зеландия',\n",
       " 'США - Новая Зеландия - Япония',\n",
       " 'США - Норвегия',\n",
       " 'США - ОАЭ',\n",
       " 'США - Объединенные Арабские Эмираты',\n",
       " 'США - Пуэрто Рико',\n",
       " 'США - Пуэрто-Рико - Франция ',\n",
       " 'США - Россия',\n",
       " 'США - Россия - Польша - Германия - Пуэрто Рико',\n",
       " 'США - Россия - Франция',\n",
       " 'США - Румыния - Великобритания',\n",
       " 'США - Сингапур - Малайзия - Индонезия',\n",
       " 'США - Украина',\n",
       " 'США - Финляндия',\n",
       " 'США - Финляндия - Испания - Великобритания - Франция',\n",
       " 'США - Франция',\n",
       " 'США - Франция - Бельгия - Италия',\n",
       " 'США - Франция - Великобритания',\n",
       " 'США - Франция - Великобритания - Бразилия ',\n",
       " 'США - Франция - Германия',\n",
       " 'США - Франция - Германия - Канада - Австралия ',\n",
       " 'США - Франция - Испания - Великобритания',\n",
       " 'США - Франция - Канада - Великобритания',\n",
       " 'США - Франция - Канада - Германия - Австралия - Индия',\n",
       " 'США - Франция - Турция',\n",
       " 'США - Франция - ЮАР',\n",
       " 'США - Хорватия - Босния-Герцеговина',\n",
       " 'США - Чехия - Франция',\n",
       " 'США - Чили',\n",
       " 'США - Швейцария - Франция',\n",
       " 'США - Швеция',\n",
       " 'США - ЮАР',\n",
       " 'США - ЮАР - Гонконг',\n",
       " 'США - Южная Корея',\n",
       " 'США - Япония',\n",
       " 'США - Япония - Германия',\n",
       " 'США - Япония - Канада - Великобритания - Германия - Франция',\n",
       " 'США - Япония - Франция - Великобритания',\n",
       " 'США -Великобритания - Австралия',\n",
       " 'США -Германия',\n",
       " 'США, Великобритания',\n",
       " 'США, Великобритания, Ирландия, Люксембург',\n",
       " 'США, Великобритания, Люксембург',\n",
       " 'США, Великобритания, Франция',\n",
       " 'США, Гонконг ',\n",
       " 'США, Индия',\n",
       " 'США, Канада',\n",
       " 'США, Россия',\n",
       " 'США, Украина',\n",
       " 'США, Франция',\n",
       " 'США, Франция, Япония',\n",
       " 'США, Япония',\n",
       " 'США- Ю.Корея',\n",
       " 'США-Австралия',\n",
       " 'США-Аргентина',\n",
       " 'США-Бельгия',\n",
       " 'США-Великобритания',\n",
       " 'США-Великобритания-Австралия',\n",
       " 'США-Великобритания-Индия',\n",
       " 'США-Великобритания-Ирландия',\n",
       " 'США-Великобритания-Новая Зеландия',\n",
       " 'США-Великобритания-Франция',\n",
       " 'США-Великобритания-Чехия-Румыния',\n",
       " 'США-Венгрия',\n",
       " 'США-Германия',\n",
       " 'США-Германия-Австралия',\n",
       " 'США-Германия-Великобритания',\n",
       " 'США-Германия-Канада',\n",
       " 'США-Гонконг-Китай',\n",
       " 'США-Индия',\n",
       " 'США-Индонезия',\n",
       " 'США-Ирландия',\n",
       " 'США-Испания',\n",
       " 'США-Италия-Греция',\n",
       " 'США-Италия-Испания',\n",
       " 'США-Италия-Испания-Аргентина',\n",
       " 'США-КНР',\n",
       " 'США-Канада',\n",
       " 'США-Канада-Австралия',\n",
       " 'США-Канада-Бельгия',\n",
       " 'США-Канада-Италия',\n",
       " 'США-Канада-Франция',\n",
       " 'США-Китай',\n",
       " 'США-Колумбия',\n",
       " 'США-Мальта',\n",
       " 'США-Мексика',\n",
       " 'США-Нидерланды',\n",
       " 'США-ОАЭ',\n",
       " 'США-Россия',\n",
       " 'США-ФРГ-Россия',\n",
       " 'США-Франция',\n",
       " 'США-Франция-Великобритания-Австрия',\n",
       " 'США-Франция-Ирландия',\n",
       " 'США-Франция-Испания',\n",
       " 'США-Франция-Канада',\n",
       " 'США-ЮАР',\n",
       " 'США-Южная Корея-Новая Зеландия',\n",
       " 'США-Япония',\n",
       " 'США-Япония-Германия-Великобритания',\n",
       " 'США-Япония-Германия-Великобритания-Нидерланды',\n",
       " 'СЩА',\n",
       " 'Сербия - Великобритания - США',\n",
       " 'Сербия - Германия - Венгрия',\n",
       " 'Сербия - Словения - Хорватия - Черногория - Македония',\n",
       " 'Сингапур - Великобритания - Индонезия - Канада - США',\n",
       " 'Сша, Канада',\n",
       " 'Таиланд',\n",
       " 'Таиланд - КНР - США',\n",
       " 'Таиланд - США',\n",
       " 'Таиланд-Великобритания-Франция-Германия-Испания-Нидерланды',\n",
       " 'Турция',\n",
       " 'Турция - Германя - Франция',\n",
       " 'Турция - США',\n",
       " 'Украина',\n",
       " 'Украина - Германия - Латвия - Эстония',\n",
       " 'Украина - Нидерланды',\n",
       " 'Уругвай - Аргентина - Испания',\n",
       " 'Уругвай - Колумбия',\n",
       " 'Уругвай-Мексика-Германия ',\n",
       " 'Финляндия',\n",
       " 'Финляндия - Австрия - Россия',\n",
       " 'Финляндия - Великобритания - Германия',\n",
       " 'Финляндия - Германия',\n",
       " 'Финляндия - Дания - Германия - Ирландия',\n",
       " 'Финляндия - Исландия - Швеция',\n",
       " 'Финляндия - Канада',\n",
       " 'Финляндия - Польша',\n",
       " 'Финляндия - Франция - Германия',\n",
       " 'Финляндия - Швеция - Германия',\n",
       " 'Финляндия - Швеция - Норвегия',\n",
       " 'Финляндия, Латвия',\n",
       " 'Финляндия-Дания-Германия-Ирландия',\n",
       " 'Франция',\n",
       " 'Франция ',\n",
       " 'Франция -  Бельгия',\n",
       " 'Франция - Австрия',\n",
       " 'Франция - Австрия - Германия - Италия - США',\n",
       " 'Франция - Бельгия',\n",
       " 'Франция - Бельгия - Великобритания - Испания - Германия - США',\n",
       " 'Франция - Бельгия - Великобритания - США - Нидерланды - Канада',\n",
       " 'Франция - Бельгия - Испания',\n",
       " 'Франция - Бельгия - Канада',\n",
       " 'Франция - Бельгия - Люксембург',\n",
       " 'Франция - Бельгия - Чехия',\n",
       " 'Франция - Бельгия - Япония',\n",
       " 'Франция - Бенльгия',\n",
       " 'Франция - Бразилия',\n",
       " 'Франция - Бразилия - Италия',\n",
       " 'Франция - Великобритания',\n",
       " 'Франция - Великобритания - Багамские острова - США',\n",
       " 'Франция - Великобритания - Камбоджа - США - КНР',\n",
       " 'Франция - Великобритания - Нидерланды - Люксембург',\n",
       " 'Франция - Германия',\n",
       " 'Франция - Германия - Австрия',\n",
       " 'Франция - Германия - Бельгия',\n",
       " 'Франция - Германия - Италия',\n",
       " 'Франция - Германия - Литва - Нидерланды - Россия',\n",
       " 'Франция - Германия - Нидерланды',\n",
       " 'Франция - Германия - США',\n",
       " 'Франция - Германия - Турция - Катар',\n",
       " 'Франция - Германия - Швеция - США - Чехия - Словакия - Великобритания - Нидерланды',\n",
       " 'Франция - Греция',\n",
       " 'Франция - Дания',\n",
       " 'Франция - Дания - США',\n",
       " 'Франция - Дания - Швеция - КНР',\n",
       " 'Франция - Израиль - Германия',\n",
       " 'Франция - Ирландия - Швеция',\n",
       " 'Франция - Испания',\n",
       " 'Франция - Испания - Дания - Венгрия - Швейцария',\n",
       " 'Франция - Испания - Румыния - США - Бельгия',\n",
       " 'Франция - Испания - Тайвань',\n",
       " 'Франция - Италия',\n",
       " 'Франция - Италия - Бельгия - КНР',\n",
       " 'Франция - Италия - Бельгия - Люксембург',\n",
       " 'Франция - Италия - Великобритания - США',\n",
       " 'Франция - Италия - Иран',\n",
       " 'Франция - Италия - Швейцария',\n",
       " 'Франция - КНР',\n",
       " 'Франция - Канада',\n",
       " 'Франция - Канада - Бельгия',\n",
       " 'Франция - Канада - Н.Зеландия - США - Нидерланды - Германия - Швеция - Россия',\n",
       " 'Франция - Люксембург',\n",
       " 'Франция - Люксембург - Бельгия',\n",
       " 'Франция - Люксембург - Германия - Бельгия - Швейцария - Великобритания ',\n",
       " 'Франция - Македония',\n",
       " 'Франция - Мексика - США',\n",
       " 'Франция - Монако',\n",
       " 'Франция - Нидерланды',\n",
       " 'Франция - Польша - Бельгия',\n",
       " 'Франция - Португалия',\n",
       " 'Франция - Россия',\n",
       " 'Франция - США',\n",
       " 'Франция - США - Бельгия',\n",
       " 'Франция - США - Великобритания - Колумбия - Бельгия - Россия',\n",
       " 'Франция - США - Норвегия - Дания',\n",
       " 'Франция - Сенегал - Бельгия',\n",
       " 'Франция - Украина - Грузия - Армения',\n",
       " 'Франция - Финляндия',\n",
       " 'Франция - Чехия - Бельгия',\n",
       " 'Франция - Чехия - Великобритания',\n",
       " 'Франция - Чили',\n",
       " 'Франция - Швейцария',\n",
       " 'Франция - Швейцария - Германия',\n",
       " 'Франция - Швеция - Дания - Норвегия',\n",
       " 'Франция -Бельгия',\n",
       " 'Франция, Бельгия',\n",
       " 'Франция, Бельгия, Люксембург',\n",
       " 'Франция, Германия',\n",
       " 'Франция, Люксембург, Бельгия',\n",
       " 'Франция, Новая Зеландия',\n",
       " 'Франция, Норвегия',\n",
       " 'Франция-Австралия',\n",
       " 'Франция-Аргентина',\n",
       " 'Франция-Бельгия',\n",
       " 'Франция-Бельгия-Канада',\n",
       " 'Франция-Великобритания',\n",
       " 'Франция-Великобритания - Германия',\n",
       " 'Франция-Великобритания-Чехия',\n",
       " 'Франция-Германия',\n",
       " 'Франция-Германия-Австрия',\n",
       " 'Франция-Германия-Великобритания',\n",
       " 'Франция-Германия-Италия',\n",
       " 'Франция-Гонконг-Ирландия',\n",
       " 'Франция-Грузия-Германия-Россия-Украина-Бельгия',\n",
       " 'Франция-Индия',\n",
       " 'Франция-Испания',\n",
       " 'Франция-Испания-Бельгия-Панама',\n",
       " 'Франция-Испания-Германия',\n",
       " 'Франция-Испания-Швейцария',\n",
       " 'Франция-Италия',\n",
       " 'Франция-Италия-Испания-Венгрия',\n",
       " 'Франция-КНР',\n",
       " 'Франция-Канада',\n",
       " 'Франция-Китай',\n",
       " 'Франция-Перу',\n",
       " 'Франция-Польша',\n",
       " 'Франция-Россия',\n",
       " 'Франция-Россия-Румыния-Италия-Бельгия',\n",
       " 'Франция-США',\n",
       " 'Франция-Украина',\n",
       " 'Хорватия',\n",
       " 'Чехия',\n",
       " 'Чехия - Германия',\n",
       " 'Чехия - Испания - США',\n",
       " 'Чехия - Словакия - Хорватия',\n",
       " 'Чехия-Великобритания-США',\n",
       " 'Чехословакия',\n",
       " 'Чили',\n",
       " 'Чили - Испания',\n",
       " 'Чили - Франция - США',\n",
       " 'Швейцария',\n",
       " 'Швейцария - Австрия',\n",
       " 'Швейцария - Великобритания',\n",
       " 'Швейцария - Израиль - Франция - Великобритания',\n",
       " 'Швейцария - КНР - США - Россия - Республика Корея - Великобритания',\n",
       " 'Швейцария - Люксембург',\n",
       " 'Швейцария - Франция',\n",
       " 'Швейцария, Великобритания, Франция, США, Ирландия',\n",
       " 'Швейцария-Австрия',\n",
       " 'Швейцария-Германия-ЮАР',\n",
       " 'Швейцария-Франция',\n",
       " 'Швеция',\n",
       " 'Швеция - Германия',\n",
       " 'Швеция - Германия - Дания - Норвегия',\n",
       " 'Швеция - Германия - Франция - Дания',\n",
       " 'Швеция - Германия - Франция - Норвегия',\n",
       " 'Швеция - Дания',\n",
       " 'Швеция - Дания - Финляндия',\n",
       " 'Швеция - Норвегия',\n",
       " 'Швеция - США',\n",
       " 'Швеция - Франция - Норвегия - Дания',\n",
       " 'Швеция, Норвегия, Финляндия, Франция',\n",
       " 'Швеция, Франция, Великобритания',\n",
       " 'Швеция-Куба',\n",
       " 'Швеция-Финляндия-Франция-Норвегия',\n",
       " 'Швеция-Франция',\n",
       " 'Швеция-Франция-Дания',\n",
       " 'Эстония',\n",
       " 'Эстония - Россия',\n",
       " 'ЮАР',\n",
       " 'ЮАР - США',\n",
       " 'Южная Корея',\n",
       " 'Южная Корея - КНР',\n",
       " 'Южная Корея - США',\n",
       " 'Южная Корея - США - Канада',\n",
       " 'Япония',\n",
       " 'Япония - Великобритания - Франция',\n",
       " 'Япония - Великобритания - Швейцария - Ирландия - Дания - Франция - Польша - Австралия - Канада  ',\n",
       " 'Япония - КНР - Южная Корея',\n",
       " 'Япония - Канада',\n",
       " 'Япония - США',\n",
       " 'Япония - Франция - США - Южная Корея - Турция',\n",
       " 'Япония, Великобритания',\n",
       " 'Япония, Великобритания, Австрия, Германия, Ю.Корея',\n",
       " 'Япония, США',\n",
       " 'Япония-Великобритания',\n",
       " 'Япония-США-Франция',\n",
       " nan]"
      ]
     },
     "execution_count": 698,
     "metadata": {},
     "output_type": "execute_result"
    }
   ],
   "source": [
    "# Смотрим категории в столбце production_country\n",
    "\n",
    "df['production_country'].sort_values().unique().tolist()"
   ]
  },
  {
   "cell_type": "code",
   "execution_count": 699,
   "metadata": {},
   "outputs": [
    {
     "data": {
      "text/plain": [
       "[' Йохан Нийенхейс',\n",
       " ' Н.Орлов, Р.Быков',\n",
       " ' Р.Асхаев',\n",
       " ' Т.Саакян',\n",
       " 'Ёлкин Туйчиев',\n",
       " 'Ён Сан-хо',\n",
       " 'А Андрющенко',\n",
       " 'А. Калюжный',\n",
       " 'А. Кутерье',\n",
       " 'А.А.Эшпай',\n",
       " 'А.Аббасов',\n",
       " 'А.Абидова (псевдоним Аниса Сабири)',\n",
       " 'А.Аболс',\n",
       " 'А.Агаджанян',\n",
       " 'А.Адилханян',\n",
       " 'А.Адраникян',\n",
       " 'А.Аксененко',\n",
       " 'А.Аксененко, Э.Никогосян, Д.Дюжев, А.Вакулов (А.Кульбицкий)',\n",
       " 'А.Алов, В.Наумов',\n",
       " 'А.Аманшаев, Г.Шенгелия',\n",
       " 'А.Амбросьев',\n",
       " 'А.Амиров',\n",
       " 'А.Ананикян, В.Рейнгеверц',\n",
       " 'А.Андрианов',\n",
       " 'А.Андризани, А.Бардани, В.Карнелутти, Ф.Коста,  Г.С.Нардис, В.Пальмьери, В.Чеа, А.Юлиано ',\n",
       " 'А.Анненский',\n",
       " 'А.Аравин',\n",
       " 'А.Аравин, А.Прошкин',\n",
       " 'А.Арпеньтеньер, А.Бариларо, М.Бланчес, Р.Валлей, Л.Гранд, Ф.Дион, А.Жасина, Э.Коэтс,  Лу Хаму-Лхад, П.Осборн, Т.Ушев',\n",
       " 'А.Артамонова',\n",
       " 'А.Арутюнов',\n",
       " 'А.Арутюнян, А.Коршунов',\n",
       " 'А.Атанесян',\n",
       " 'А.Бадягина',\n",
       " 'А.Бажанов',\n",
       " 'А.Балабанов',\n",
       " 'А.Балахонов',\n",
       " 'А.Бальчев',\n",
       " 'А.Баранов',\n",
       " 'А.Баршак',\n",
       " 'А.Барщевский, И.Матвеев',\n",
       " 'А.Барыкин',\n",
       " 'А.Басаев',\n",
       " 'А.Басов',\n",
       " 'А.Безрук',\n",
       " 'А.Беляев',\n",
       " 'А.Берденников',\n",
       " 'А.Бзаров',\n",
       " 'А.Бильжо',\n",
       " 'А.Бобров',\n",
       " 'А.Бобровский',\n",
       " 'А.Богатырев',\n",
       " 'А.Богатырев, А.Камачо',\n",
       " 'А.Богданов',\n",
       " 'А.Богуславский',\n",
       " 'А.Богуславский, А.Волгин',\n",
       " 'А.Бойков',\n",
       " 'А.Борматов',\n",
       " 'А.Борматов, Р.Сорокин',\n",
       " 'А.Боровикова, Е.Войтович, З.Джиджилава, А.Тимофеева, А.Духонина, И.Басенко, Ю.Машукова',\n",
       " 'А.Бурцев, С.Снежкин, Е.Аксенов, В.Сорокин, И.Хамраев и др.',\n",
       " 'А.Бушнев',\n",
       " 'А.Вартанов, К.Михановский',\n",
       " 'А.Васильев',\n",
       " 'А.Васин, Г.Параджанов, О.Бородина',\n",
       " 'А.Вейль, Ф.Котларски ',\n",
       " 'А.Велединский',\n",
       " 'А.Верещагин, О.Филипенко, Д.Ушаков',\n",
       " 'А.Виткин, М.Беспалый',\n",
       " 'А.Войтинский',\n",
       " 'А.Войтинский, Д.Киселев',\n",
       " 'А.Волгин',\n",
       " 'А.Габриелян',\n",
       " 'А.Гаврилов',\n",
       " 'А.Галибин',\n",
       " 'А.Геворгян',\n",
       " 'А.Герасимов',\n",
       " 'А.Герман',\n",
       " 'А.Голуб',\n",
       " 'А.Голубовский',\n",
       " 'А.Гончуков',\n",
       " 'А.Горбунов',\n",
       " 'А.Горбунов, Д.Сулейманов',\n",
       " 'А.Гордон',\n",
       " 'А.Горчилин',\n",
       " 'А.Грабарь',\n",
       " 'А.Грачев',\n",
       " 'А.Григорян',\n",
       " 'А.Григорян, М.Мкртчян',\n",
       " 'А.Грицаенко',\n",
       " 'А.Гришаков',\n",
       " 'А.Гутман',\n",
       " 'А.Давыдова',\n",
       " 'А.Дамскер',\n",
       " 'А.Демин, Р.Синкевич, Н.Березовая, О.Ужинов и др.',\n",
       " 'А.Денисова',\n",
       " 'А.Дерошер',\n",
       " 'А.Джазоян',\n",
       " 'А.Джунковский',\n",
       " 'А.Домогаров',\n",
       " 'А.Домогаров (младший), В.Кашляев, А.Волгин, И.Вилкова, И.Волкова',\n",
       " 'А.Драницына',\n",
       " 'А.Егоров',\n",
       " 'А.Емкужев',\n",
       " 'А.Ефремова',\n",
       " 'А.Жакулина',\n",
       " 'А.Журавлева,М.Кузнецова,С.Меринов,А.Дьяков,О.Ужинов,Н.Гребенкина,А.Соколов',\n",
       " 'А.Зайцев',\n",
       " 'А.Залдастанов',\n",
       " 'А.Замыслов',\n",
       " 'А.Занин, М.Архипов, Н.Барабаш, А.Костандакес, Д.Шабаев',\n",
       " 'А.Зархи',\n",
       " 'А.Захаров',\n",
       " 'А.Званцова',\n",
       " 'А.Звягинцев',\n",
       " 'А.Зеленков, Л.Биц, А.Муратов',\n",
       " 'А.Зельдович',\n",
       " 'А.Зенкович',\n",
       " 'А.Зингерман, А.Соколов, И.Евланникова, Д.Червяцов, Е.Салабай, А.Миронов и др.',\n",
       " 'А.Злобин',\n",
       " 'А.Зозуля, М.Елкин',\n",
       " 'А.Золотухин',\n",
       " 'А.Ибрагимов',\n",
       " 'А.Иванов',\n",
       " 'А.Игудин',\n",
       " 'А.Ильин',\n",
       " 'А.Истратов',\n",
       " 'А.Кавун',\n",
       " 'А.Кагадеев',\n",
       " 'А.Кадыкова',\n",
       " 'А.Калинкин',\n",
       " 'А.Кананович',\n",
       " 'А.Карелина, А.Филиппова, Е.Ланских',\n",
       " 'А.Карпиловский',\n",
       " 'А.Карпыков',\n",
       " 'А.Касаткин',\n",
       " 'А.Касаткин, Н.Назарова',\n",
       " 'А.Каурых, С.Охотин',\n",
       " 'А.Кещян',\n",
       " 'А.Кибкало',\n",
       " 'А.Килин,  С.Потапов ',\n",
       " 'А.Килин, С.Потапов',\n",
       " 'А.Ким',\n",
       " 'А.Кириенко',\n",
       " 'А.Кириллов',\n",
       " 'А.Китайцев',\n",
       " 'А.Коваленко',\n",
       " 'А.Козлов',\n",
       " 'А.Колмогоров',\n",
       " 'А.Коломеец',\n",
       " 'А.Колпин, И.Пшонкин, В.Бедошвили',\n",
       " 'А.Колядин, М.Павлов',\n",
       " 'А.Коновальцева (псевдоним Ангелина Подорожная)',\n",
       " 'А.Кончаловский',\n",
       " 'А.Кордон',\n",
       " 'А.Коручеков',\n",
       " 'А.Корытко',\n",
       " 'А.Котт',\n",
       " 'А.Котт, В.Котт, А.Карпиловский, Б.Хлебников',\n",
       " 'А.Котёночкин',\n",
       " 'А.Кравчук',\n",
       " 'А.Краевский',\n",
       " 'А.Красильщиков',\n",
       " 'А.Красовский',\n",
       " 'А.Кретова',\n",
       " 'А.Круглов',\n",
       " 'А.Кузина',\n",
       " 'А.Кузмин-Тарасов, А.Колчина',\n",
       " 'А.Кузьминых',\n",
       " 'А.Куликов',\n",
       " 'А.Кулямин',\n",
       " 'А.Ладынин',\n",
       " 'А.Линич',\n",
       " 'А.Лобанов',\n",
       " 'А.Луканев',\n",
       " 'А.Лукин',\n",
       " 'А.Лукичев',\n",
       " 'А.Лукьянчиков',\n",
       " 'А.Лукьянчиков, С.Ушаков',\n",
       " 'А.Лунгин',\n",
       " 'А.Магомедов',\n",
       " 'А.Майовер, Д.Крылова',\n",
       " 'А.Малюков',\n",
       " 'А.Мамедов',\n",
       " 'А.Манасарова',\n",
       " 'А.Манзуров',\n",
       " 'А.Мармонтов',\n",
       " 'А.Марсакова',\n",
       " 'А.Марутян',\n",
       " 'А.Матисон',\n",
       " 'А.Мачерет',\n",
       " 'А.Мегердичев',\n",
       " 'А.Меликян',\n",
       " 'А.Меликян, П.Руминов, Н.Меркулова, А.Чупов, Е.Шелякин, Р.Гигинеишвили, Н.Сайфуллаева',\n",
       " 'А.Мельник',\n",
       " 'А.Мигачев',\n",
       " 'А.Мизгирев',\n",
       " 'А.Миндадзе',\n",
       " 'А.Миронов, Е.Головин, Е.Савчук, Р.Верещак и др.',\n",
       " 'А.Миронов, Е.Головин, Е.Савчук, Р.Верещак, Е.Салабай, Е.Чернова, А.Бахурин',\n",
       " 'А.Миронов, Е.Головин, Р.Верещак и др.',\n",
       " 'А.Миронов, Е.Головин, Р.Верещак, Е.Салабай, В.Бедошвили, Е. Чернова, А.Бахурин, А.Соколов',\n",
       " 'А.Миронов, К.Кравченко, Е.Головин, Е.Савчук, А.Соколов, Р.Верещак, Е.Салабай',\n",
       " 'А.Миронов, Р.Верещак, А.Грибков, А.Соколов и др.',\n",
       " 'А.Митта',\n",
       " 'А.Митёшин',\n",
       " 'А.Михайлов',\n",
       " 'А.Михалков',\n",
       " 'А.Михалков (псевдоним А.Кончаловский)',\n",
       " 'А.Михалков-Кончаловский',\n",
       " 'А.Мкртчян',\n",
       " 'А.Мкртчян, Л.Попов',\n",
       " 'А.Молочник',\n",
       " 'А.Молочников',\n",
       " 'А.Мурадов',\n",
       " 'А.Муратов',\n",
       " 'А.Мычко',\n",
       " 'А.Мышкин',\n",
       " 'А.Невский',\n",
       " 'А.Незлобин',\n",
       " 'А.Никифоров, В.Шепелев, О.Коронный, В.Кузмина, П.Скворцов',\n",
       " 'А.Новиков (псевдоним - Александр Новиков-Янгинов)',\n",
       " 'А.Новокреповская',\n",
       " 'А.Новоселов',\n",
       " 'А.Нужный',\n",
       " 'А.Оганесян',\n",
       " 'А.Осипова',\n",
       " 'А.Остапенко',\n",
       " 'А.Панкратов',\n",
       " 'А.Панкратов-Черный',\n",
       " 'А.Пармас',\n",
       " 'А.Пармас, Н.Кудряшова, А.Гогленкова, Н.Назарова, О.Бычкова, А.Смирнова, Р.Литвинова',\n",
       " 'А.Пархоменко',\n",
       " 'А.Першин',\n",
       " 'А.Першин (псевдоним Ж.Крыжовников)',\n",
       " 'А.Петрас',\n",
       " 'А.Петров',\n",
       " 'А.Петров, М.Кулагин',\n",
       " 'А.Петрова',\n",
       " 'А.Петрухин',\n",
       " 'А.Пиманов',\n",
       " 'А.Пинхасов',\n",
       " 'А.Писаркин, Э.Мецгер',\n",
       " 'А.Пичужин',\n",
       " 'А.Поженский',\n",
       " 'А.Поздняков',\n",
       " 'А.Поличук',\n",
       " 'А.Полунина',\n",
       " 'А.Попова',\n",
       " 'А.Попогребский',\n",
       " 'А.Почивалов',\n",
       " 'А.Праздников',\n",
       " 'А.Проскура',\n",
       " 'А.Протоковило',\n",
       " 'А.Прошкин',\n",
       " 'А.Птушко',\n",
       " 'А.Пурер (Галин)',\n",
       " \"А.Рожнова (псевдоним Александра Р'ЮЖ)\",\n",
       " 'А.Розенберг',\n",
       " 'А.Розов',\n",
       " 'А.Романец',\n",
       " 'А.Романец, В.Марченко',\n",
       " 'А.Роом',\n",
       " 'А.Рубецкой, Е.Шабанова',\n",
       " 'А.Рубинштейн, А.Ким, М.Воскобоев, Н.Беляускене',\n",
       " 'А.Рудницкая, С.Винокуров',\n",
       " 'А.Руже',\n",
       " 'А.Русланова',\n",
       " 'А.Русланова (псевдоним - Саша Франк)',\n",
       " 'А.Рыбаков',\n",
       " 'А.Рыбников',\n",
       " 'А.Сазонов, Е.Климович, А.Коломеец, С.Черникова, Е.Олейник, А.Ефимова',\n",
       " 'А.Сайфуллина',\n",
       " 'А.Салтыков',\n",
       " 'А.Салтыков, А.Митта',\n",
       " 'А.Самойлов',\n",
       " 'А.Самойлова',\n",
       " 'А.Самохвалов, Б.Ростов',\n",
       " 'А.Сахаров',\n",
       " 'А.Сахелашвили',\n",
       " 'А.Сашнева',\n",
       " 'А.Свирский',\n",
       " 'А.Сеитаблаев',\n",
       " 'А.Селиверстов',\n",
       " 'А.Серый',\n",
       " 'А.Сиверс',\n",
       " 'А.Сидоров',\n",
       " 'А.Сидоров, О.Фомин, Р.Ярославцев',\n",
       " 'А.Силкин',\n",
       " 'А.Сильвестров',\n",
       " 'А.Симакова',\n",
       " 'А.Симонов',\n",
       " 'А.Смирнов',\n",
       " 'А.Смирнов, Л.Шепитько',\n",
       " 'А.Смирнова',\n",
       " 'А.Соболевский',\n",
       " 'А.Созонов',\n",
       " 'А.Соколов',\n",
       " 'А.Соколов-Дворников (псевдоним - Алексей Соколов)',\n",
       " 'А.Соколова',\n",
       " 'А.Соколюк',\n",
       " 'А.Сокуров',\n",
       " 'А.Стемпковский',\n",
       " 'А.Столбов',\n",
       " 'А.Столпер',\n",
       " 'А.Столпер, Б.Иванов',\n",
       " 'А.Стреляная',\n",
       " 'А.Стриженов',\n",
       " 'А.Строев',\n",
       " 'А.Судиловский',\n",
       " 'А.Сурикова',\n",
       " 'А.Сурин',\n",
       " 'А.Сутормин',\n",
       " 'А.Сухарев',\n",
       " 'А.Сухарев, Г.Шенгелия',\n",
       " 'А.Тарковский',\n",
       " 'А.Темников',\n",
       " 'А.Титов',\n",
       " 'А.Титов, Л.Ефимов',\n",
       " 'А.Томашевский',\n",
       " 'А.Турчанинов',\n",
       " 'А.Усаков',\n",
       " 'А.Учитель',\n",
       " 'А.Файнциммер',\n",
       " 'А.Федоров',\n",
       " 'А.Федорченко',\n",
       " 'А.Федосеенко (псевдоним Ангелина Никонова)',\n",
       " 'А.Федотов',\n",
       " 'А.Фенченко',\n",
       " 'А.Фролов',\n",
       " 'А.Х.Песонен, Э.Хафнор, Л.Б.Хансен, Г.Энгер, А.Цварт, Й.Тойвоньеми',\n",
       " 'А.Хаакана',\n",
       " 'А.Хамраев',\n",
       " 'А.Хант',\n",
       " 'А.Хатулик, Г.Ром, К.Мазахери, Ж.Дара, С.Дара, Ф.-Ф.Морен-Варгас, Л.Тейлор, К.Барретт',\n",
       " 'А.Хачатурян',\n",
       " 'А.Хван',\n",
       " 'А.Хвостов',\n",
       " 'А.Хмельницкая',\n",
       " 'А.Храмцов, В.Сотсков, И.Евланникова',\n",
       " 'А.Хржановский',\n",
       " 'А.Цацуев',\n",
       " 'А.Цицилин',\n",
       " 'А.Цицилин, Роберт Ленс',\n",
       " 'А.Цыренжапов, Б.Цыренов, Б.Доржиев, Б.Цыбиков, В.Овчинников',\n",
       " 'А.Цыренов',\n",
       " 'А.Чеботарева',\n",
       " 'А.Чеканов',\n",
       " 'А.Чернакова',\n",
       " 'А.Черномазов (псевдоним Алексей Нужный)',\n",
       " 'А.Черняев, Е.Рустембеков',\n",
       " 'А.Чижиков, И.Чижиков',\n",
       " 'А.Чукарев',\n",
       " 'А.Шабаров, Д.Булин, Н.Михалкова-Кончаловская, Г.Пирогова, Е.Вещева, Т.Федоровская, Е.Абызов',\n",
       " 'А.Шадрина',\n",
       " 'А.Шадров',\n",
       " 'А.Шархун',\n",
       " 'А.Шейн',\n",
       " 'А.Шелехов (псевдоним Александр Шелл)',\n",
       " 'А.Шемес',\n",
       " 'А.Шемятовский, И.Оганесов, К.Гогленкова, А.Смирнов, А. Евсеев (псевдоним - Хант), С.Королева',\n",
       " 'А.Шустикова',\n",
       " 'А.Щербинин',\n",
       " 'А.Щербович-Вечер',\n",
       " 'А.Эфрос',\n",
       " 'А.Эшпай',\n",
       " 'А.Южаков',\n",
       " 'А.Юмагулов',\n",
       " 'А.Ягубец',\n",
       " 'А.Якимчук',\n",
       " 'А.Якимчук, В.Лагунов',\n",
       " 'А.Яхнис, М.Кричман',\n",
       " 'А.фон Боррис',\n",
       " 'Аарон Вудли',\n",
       " 'Аарон Зельцер, Джейсон Фридберг',\n",
       " 'Аарон Кауфман',\n",
       " 'Аарон Кешалес, Навот Папушадо',\n",
       " 'Аарон Соркин',\n",
       " 'Аасне Ваа Грейброкк, Тор Бренн, Исаак Гёртсен, Мария Лойтер, Патрик Эклунд',\n",
       " 'Аббадо Даниэле',\n",
       " 'Аббас Киаростами',\n",
       " 'Абделатиф Кешиш',\n",
       " 'Абделлатиф Кешиш',\n",
       " 'Абе Форсайт',\n",
       " 'Абель Феррара',\n",
       " 'Ава ДюВерней',\n",
       " 'Агнес Мерле',\n",
       " 'Агнешка Войтович-Восло',\n",
       " 'Агустин Диас Янес',\n",
       " 'Адам Вингард',\n",
       " 'Адам Гираш',\n",
       " 'Адам Грин',\n",
       " 'Адам Кук',\n",
       " 'Адам Леон',\n",
       " 'Адам МакКей',\n",
       " 'Адам Макдональд',\n",
       " 'Адам Робител',\n",
       " 'Адам Смит',\n",
       " 'Адам Шенкман',\n",
       " 'Адам Шиндлер',\n",
       " 'Адриан Биньес',\n",
       " 'Адриан Грюнберг',\n",
       " 'Адриан Молина, Ли Ункрич',\n",
       " 'Азиз Джиндани',\n",
       " 'Азиф Кападиа',\n",
       " 'Азия Ардженто',\n",
       " 'Айан Бонхот, Питер Эттедги',\n",
       " 'Айбек Дайырбеков',\n",
       " 'Айван Райтман',\n",
       " 'Айвен Райтман',\n",
       " 'Айзек Флорентайн',\n",
       " 'Айк Кбеян',\n",
       " 'Айке Грамс',\n",
       " 'Айрис Заки',\n",
       " 'Айрон Блейз, Роберт Уокер',\n",
       " 'Акан Сатаев',\n",
       " 'Аки Каурисмяки',\n",
       " 'Акива Голдсман',\n",
       " 'Акива Шаффер',\n",
       " 'Акош Барноцкий',\n",
       " 'Аку Лоухимис',\n",
       " 'Алан Линдсэй',\n",
       " 'Алан Пол',\n",
       " 'Алан Тейлор',\n",
       " 'Алан Тэйлор',\n",
       " 'Алберт Хьюз, Эллен Хьюз',\n",
       " 'Алекс Ван Вармердам',\n",
       " 'Алекс Гибни',\n",
       " 'Алекс Грегори, Питер Хайк',\n",
       " 'Алекс Замм',\n",
       " 'Алекс Колл',\n",
       " 'Алекс Коллс',\n",
       " 'Алекс Куртцман',\n",
       " 'Алекс Олье',\n",
       " 'Алекс Оррель, Эдуардо Шульдт',\n",
       " 'Алекс Оруэлл',\n",
       " 'Алекс Пастор, Давид Пастор',\n",
       " 'Алекс Пастор, Дэвид Пастор',\n",
       " 'Алекс Пройас',\n",
       " 'Алекс Стадерманн',\n",
       " 'Алекс ван Вармердам',\n",
       " 'Алекс де ла Иглесиа',\n",
       " 'Александр Абатуров',\n",
       " 'Александр Ажа',\n",
       " 'Александр Алешечкин, Вячеслав Алешечкин',\n",
       " 'Александр Астье, Луис Клиши',\n",
       " 'Александр Бах',\n",
       " 'Александр Бустильо, Жюльен Мори',\n",
       " 'Александр Высоковский',\n",
       " 'Александр Клименко',\n",
       " 'Александр Коффре',\n",
       " 'Александр Потехин',\n",
       " 'Александр Пэйн',\n",
       " 'Александр Сокуров',\n",
       " 'Алексей Козлов',\n",
       " 'Алексис Михалик',\n",
       " 'Ален Вулф',\n",
       " 'Ален Рене',\n",
       " 'Ален Шаба',\n",
       " 'Алессандро Карлони, Дженнифер Ю',\n",
       " 'Алессандро Сиани',\n",
       " 'Алессандро Сьяни',\n",
       " 'Алехандро Агрести',\n",
       " 'Алехандро Аменабар',\n",
       " 'Алехандро Бругес',\n",
       " 'Алехандро Гонсалес Иньярриту',\n",
       " 'Алехандро Хидальго',\n",
       " 'Алехандро Ходоровский',\n",
       " 'Али Аббаси',\n",
       " 'Али Замади Ахади',\n",
       " 'Али Самади Ахади',\n",
       " 'Алик Моухибян, Герин Хованнисян',\n",
       " 'Алис Винокур',\n",
       " 'Алиса Хазанова',\n",
       " 'Алистер Грирсон',\n",
       " 'Алистер Сиддонс',\n",
       " 'Аличе Рорвахер',\n",
       " 'Алла Ковган',\n",
       " 'Аллан Голдстайн',\n",
       " 'Аллен Колтер',\n",
       " 'Альбер Дюпонтель',\n",
       " 'Альберт Майзелс',\n",
       " 'Альберт Хьюз',\n",
       " 'Альберто Мар',\n",
       " 'Альберто Родригез',\n",
       " 'Альберто Родригес',\n",
       " 'Альфонсо Гомес-Рехон',\n",
       " 'Альфонсо Куарон',\n",
       " 'Альфредо Монтеро',\n",
       " 'Альфредо Содергит',\n",
       " 'Амалия Несби Фика, Юрген Лердам, Филип Эйнштейн Липски',\n",
       " 'Аманда Шарп',\n",
       " 'Аманда Штерс',\n",
       " 'Амат Эскаланте',\n",
       " 'Амели Равалек',\n",
       " 'Амели ван Элбт',\n",
       " 'Амир Надери',\n",
       " 'Ана Урушадзе',\n",
       " 'Ананд Таккер',\n",
       " 'Анастасия Дыро, Андрей Шохан',\n",
       " 'Андерс Вальтер Хансен',\n",
       " 'Анджей Бартковяк',\n",
       " 'Анджей Якимовский',\n",
       " 'Анджелина Джоли',\n",
       " 'Анджелп Беттис, Элен Катте, Кааре Эндрюс',\n",
       " 'Андре Овредал',\n",
       " 'Андре Сингер',\n",
       " 'Андре Тешине',\n",
       " 'Андреа Андерман',\n",
       " 'Андреа Арнольд',\n",
       " 'Андреа Блок, Кристиан Хаас',\n",
       " 'Андреа Брет',\n",
       " 'Андреа Ди Стефано',\n",
       " 'Андреас Дрезен',\n",
       " 'Андреас Прохазка',\n",
       " 'Андрей Беляев',\n",
       " 'Андрей Беляев, Владислав Байрамгулов, Денис Червяцов, Илья Трусов, Ринат Газизов',\n",
       " 'Андрей Гринько, Макс Сирый',\n",
       " 'Андрей Кончаловский',\n",
       " 'Андрей Тарковский',\n",
       " 'Андрей Щербан',\n",
       " 'Андрес Баиз',\n",
       " 'Андрес Кутерье',\n",
       " 'Андрес Мускетти',\n",
       " 'Андрес Пуустусмаа',\n",
       " 'Андрэ Шефер',\n",
       " 'Анжела Робинсон',\n",
       " 'Аниш Чаганти',\n",
       " 'Анн Фонтейн',\n",
       " 'Анн Фонтен',\n",
       " 'Анна Боден, Райан Флек',\n",
       " 'Анна Негри',\n",
       " 'Анна Соловьева',\n",
       " 'Анна Соловьева, Наталья Березовская',\n",
       " 'Анна Ферстер',\n",
       " 'Аннабель Арден',\n",
       " 'Анне Севитски',\n",
       " 'Анно Зауль',\n",
       " 'Антон Азаров',\n",
       " 'Антон Корбайн',\n",
       " 'Антон Корбейн',\n",
       " 'Антони Кордье',\n",
       " 'Антонин Бодри',\n",
       " 'Антонио Капуано',\n",
       " 'Антонио Негрет',\n",
       " 'Антонио Падован',\n",
       " 'Антуан Бардо-Жаке',\n",
       " 'Антуан Блоссье',\n",
       " 'Антуан Томас, Джек Фрост',\n",
       " 'Антуан Фукуа',\n",
       " 'Анубав Синха',\n",
       " 'Анхель Алонсо',\n",
       " 'Анхель Грация',\n",
       " 'Аньес Варда, Дидье Роже',\n",
       " 'Аньес Обадья',\n",
       " 'Апичатпонг Вирасетакул',\n",
       " 'Ара Пайая',\n",
       " 'Арам Раппапорт',\n",
       " 'Ари Астер',\n",
       " 'Ари Сендел',\n",
       " 'Ари Фольман',\n",
       " 'Ариэль Вромен',\n",
       " 'Ариэль Зейтун',\n",
       " 'Аркадий Коган',\n",
       " 'Арман Марутян, Ваагн Хачатрян',\n",
       " 'Армандо Ианнуччи',\n",
       " 'Арни Линдер Нэсс',\n",
       " 'Арно Бурон, Антун Крингс ',\n",
       " 'Арно Деплешен',\n",
       " 'Арно Ларьё, Жан-Мари Ларьё',\n",
       " 'Арно Лемор',\n",
       " 'Арнольд Гискин',\n",
       " 'Артем Лукичев',\n",
       " 'Артур Бензакен',\n",
       " 'Артур Делер, Квентин Рейно',\n",
       " 'Артюс де Пенгерн',\n",
       " 'Асаф Бернштейн',\n",
       " 'Асгар Фархади',\n",
       " 'Асгер Лет',\n",
       " 'Аскар Бисембин',\n",
       " 'Аскар Узабаев',\n",
       " 'Атом Эгоян',\n",
       " 'Аудни Аусгейрссон',\n",
       " 'Аун Хое Го',\n",
       " 'Афонсо Пойарт',\n",
       " 'Ахеро Манас',\n",
       " 'Ахмед Сонмез',\n",
       " 'Аюму Ватанабэ',\n",
       " 'Б. Бум',\n",
       " 'Б.Акопов',\n",
       " 'Б.Бабочкин',\n",
       " 'Б.Бадриев',\n",
       " 'Б.Бакурадзе',\n",
       " 'Б.Барнет',\n",
       " 'Б.Бушмелев',\n",
       " 'Б.Волчек',\n",
       " 'Б.Грачевский',\n",
       " 'Б.Гуц',\n",
       " 'Б.Доржиев',\n",
       " 'Б.Дробязко',\n",
       " 'Б.Дышенов',\n",
       " 'Б.Жамьянгийн, А.Бобровский',\n",
       " 'Б.Казаков, Е.Серов',\n",
       " 'Б.Куломзин',\n",
       " 'Б.Мамлин',\n",
       " 'Б.Метальников',\n",
       " 'Б.Терекбаев',\n",
       " 'Б.Токарев',\n",
       " 'Б.Токарев, Л.Гладунко',\n",
       " 'Б.Уладаев',\n",
       " 'Б.Хлебников',\n",
       " 'Б.Худойназаров',\n",
       " 'Б.Юсупов',\n",
       " 'Б.Юсупов, Р.Еникеев',\n",
       " 'Б.Яшин',\n",
       " 'Б.Яшин, А.Смирнов',\n",
       " 'Бабак Наджафи',\n",
       " 'Баз Лурман',\n",
       " 'Бальтазар Кормакур',\n",
       " 'Бальтасар Кормакур',\n",
       " 'Баран Бо Одар',\n",
       " 'Барбара Топсе-Ротенборг',\n",
       " 'Барбет Шрёдер',\n",
       " 'Барри Дженкинс',\n",
       " 'Барри Зонненфельд',\n",
       " 'Барри Кук, Нил Найтингейл',\n",
       " 'Барри Левинсон',\n",
       " 'Барт Фрейндлих',\n",
       " 'Бартлетт Шер',\n",
       " 'Бастер Китон',\n",
       " 'Бен Аффлек',\n",
       " 'Бен Блейн, Крис Блейн',\n",
       " 'Бен Бранд, Дара Братт, Маттье Донк, Морган Кранц, Телия Петраки, Миклош Фелвидеки',\n",
       " 'Бен Гез, Александра Кулак',\n",
       " 'Бен Грегор',\n",
       " 'Бен Зайтлин',\n",
       " 'Бен Луин',\n",
       " 'Бен Нотт, Морган О.Нил',\n",
       " 'Бен Стассен',\n",
       " 'Бен Стиллер',\n",
       " 'Бен Стэйссен',\n",
       " 'Бен Сэфди, Джошуа Сэфди',\n",
       " 'Бен Уитли',\n",
       " 'Бен Уитли   ',\n",
       " 'Бен Янгер',\n",
       " 'Бенедикт Эндрюс',\n",
       " 'Бенедикт Эрлингссон',\n",
       " 'Бенжамин Гуэди',\n",
       " 'Бенжамин Роше',\n",
       " 'Бени Бернардт, Энтони Браун',\n",
       " 'Бени Бернхардт, Луиз А.Гиков',\n",
       " 'Бенисио Дель Торо, Пабло Траперо, Элиа Сулейман, Гаспар Ноэ, Лоран Канте, Хулио Медем, Хуан Карлос Табио',\n",
       " 'Беннетт Миллер',\n",
       " 'Бенсон Ли',\n",
       " 'Бенуа Делепин, Гюстав Керверн',\n",
       " 'Бенуа Делепин, Гюстав де Керверн',\n",
       " 'Бенуа Жако',\n",
       " 'Бенуа Филиппон, Алесандр Эбоян',\n",
       " 'Беньямин Хайзенберг',\n",
       " 'Беппе де Томази',\n",
       " 'Бернард Роуз',\n",
       " 'Бернардо Бертолуччи',\n",
       " 'Берни Маттинсон',\n",
       " 'Бернхард Каммель',\n",
       " 'Берр Стирс',\n",
       " 'Бертран Банелло',\n",
       " 'Бертран Блие',\n",
       " 'Бертран Бонелло',\n",
       " 'Бертран Тавернье',\n",
       " 'Бетти Томас',\n",
       " 'Бибо Бержерон',\n",
       " 'Бигас Луна',\n",
       " 'Билл Беннетт',\n",
       " 'Билл Джирхарт, Роэль Рейн, Дэвид Стрейтон, Кевин Танчароэн, Крис Фишер, Неаса Хардиман',\n",
       " 'Билл Джонс, Джефф Симпсон, Бен Тимлетт',\n",
       " 'Билл Кондон',\n",
       " 'Билл Кондон ',\n",
       " 'Билл Оливер',\n",
       " 'Билл Плимптон',\n",
       " 'Билл Плимтон',\n",
       " 'Билл Холдермэн',\n",
       " 'Билле Аугуст',\n",
       " 'Билли Боб Торнтон',\n",
       " 'Билли Рэй',\n",
       " 'Бинг Лю',\n",
       " 'Биргер Ларсен',\n",
       " 'Биргитте Стэмозе',\n",
       " 'Бландин Ленуар',\n",
       " 'Блэр Эриксон',\n",
       " 'Бо Дзенга',\n",
       " 'Боаз Якин',\n",
       " 'Боб Персичетти, Питер Рамси, Родни Ротман',\n",
       " 'Боб Фишер, Роб Гринберг',\n",
       " 'Бобби Фаррелли, Питер Фаррелли',\n",
       " 'Бобкэт Голдтуэйт',\n",
       " 'Бобо Бёрманс',\n",
       " 'Бора Дагтекин',\n",
       " 'Боривой Земан',\n",
       " 'Борис Альинович, Харальд Зиперманн',\n",
       " 'Брайан А.Миллер',\n",
       " 'Брайан Гудман',\n",
       " 'Брайан Де Пальма',\n",
       " 'Брайан ДеКьюбелис',\n",
       " 'Брайан Кирк',\n",
       " 'Брайан Клагман, Ли Стернтал',\n",
       " 'Брайан Лардж',\n",
       " 'Брайан Ли',\n",
       " 'Брайан О.Мэлли',\n",
       " 'Брайан Персиваль',\n",
       " 'Брайан Пойсер',\n",
       " 'Брайан Сингер',\n",
       " 'Брайан Смрз',\n",
       " 'Брайан Томсон, Гейл Эдвардс',\n",
       " 'Брайан Фи',\n",
       " 'Брайан Фогель',\n",
       " 'Брайан Хелгеленд',\n",
       " 'Брайан Хенсон',\n",
       " 'Брайан Хориути',\n",
       " 'Браян Левант',\n",
       " 'Брек Айзнер',\n",
       " 'Брек Эйзнер',\n",
       " 'Брек Эйснер',\n",
       " 'Бренда Чапмен, Марк Эндрюс',\n",
       " 'Бретт Ратнер',\n",
       " 'Бретт Рэтнер',\n",
       " 'Бретт Симмонс',\n",
       " 'Бронвин Деннисон, Мигель Мартинез-Хоффре, Пол Браун',\n",
       " 'Бруно Халлин',\n",
       " 'Бруно Шиш',\n",
       " 'Брэд Андерсон',\n",
       " 'Брэд Берд',\n",
       " 'Брэд Бёрд',\n",
       " 'Брэд Пейтон',\n",
       " 'Брэд Силберлинг',\n",
       " 'Брэд Фурман',\n",
       " 'Брэдли Кинг',\n",
       " 'Брэдли Купер',\n",
       " 'Брэдли Паркер',\n",
       " 'Брэйден Кинг',\n",
       " 'Брэйди Корбет',\n",
       " 'Брэндон Кристенсен',\n",
       " 'Брюно Дюмон',\n",
       " 'Брюно Подалидес',\n",
       " 'Брюс Бересфорд',\n",
       " 'Брюс Робинсон',\n",
       " 'Брюс Э.Эванс',\n",
       " 'Бьёрн Рунге',\n",
       " 'Бэз Лурман',\n",
       " 'Бэн Палмер',\n",
       " 'Бэнкси',\n",
       " 'Бёрр Стирс',\n",
       " 'В.Абдрашитов',\n",
       " 'В.Азаров',\n",
       " 'В.Азаров, Н.Досталь',\n",
       " 'В.Азеев',\n",
       " 'В.Акобян',\n",
       " 'В.Алеников',\n",
       " 'В.Алфёров',\n",
       " 'В.Аравин',\n",
       " 'В.Арясов',\n",
       " 'В.Барбэ',\n",
       " 'В.Барбэ, М.Свешников',\n",
       " 'В.Бархатов',\n",
       " 'В.Басов',\n",
       " 'В.Бедошвили, О.Ужинов, И.Пшонкин, Д.Цыбулькин',\n",
       " 'В.Бек',\n",
       " 'В.Бек, И.Оганесов, А.Симакова, П.Сеплярский',\n",
       " 'В.Белов',\n",
       " 'В.Битоков',\n",
       " 'В.Бортко',\n",
       " 'В.Бродский',\n",
       " 'В.Виноградов',\n",
       " 'В.Витовцев',\n",
       " 'В.Волгин при участии А.Ягубец',\n",
       " 'В.Воробьев',\n",
       " 'В.Воронцов',\n",
       " 'В.Вохминцев, И.Оганесов, А.Безрукова (псевдоним - Анна Матисон), Р.Мухомеджан, Е.Сычёв',\n",
       " 'В.Гай Германика',\n",
       " 'В.Галкина',\n",
       " 'В.Георгиев',\n",
       " 'В.Герасимов',\n",
       " 'В.Гинзбург',\n",
       " 'В.Глаголева',\n",
       " 'В.Глухушин',\n",
       " 'В.Гришин (псевдоним - Влад Гришин), А.Тельнов',\n",
       " 'В.Демент',\n",
       " 'В.Дербенев',\n",
       " 'В.Донсков',\n",
       " 'В.Дубровицкий',\n",
       " 'В.Дьяченко',\n",
       " 'В.Елина, Ю.Кошкина, К.Макаренков, С.Юдаков, Т.Игуменцева',\n",
       " 'В.Есинов',\n",
       " 'В.Ефремов, И.Ефремова, В.Лопач',\n",
       " 'В.Журавлев',\n",
       " 'В.Захаров',\n",
       " 'В.Златопольский',\n",
       " 'В.Ивакин, Д.Сорокин, О.Алиев, А.Горовацкий, Д.Маковцев и др. ',\n",
       " 'В.Иванов, С.Комаров',\n",
       " 'В.Ивановская',\n",
       " 'В.Каминский',\n",
       " 'В.Каплуновский',\n",
       " 'В.Карабанов',\n",
       " 'В.Кильчевская',\n",
       " 'В.Козлов',\n",
       " 'В.Копцев, Е.Копцева',\n",
       " 'В.Короленков',\n",
       " 'В.Котт',\n",
       " 'В.Краснопольский, В.Усков',\n",
       " 'В.Кремнев',\n",
       " 'В.Кремнев, Э.Гаврилов',\n",
       " 'В.Криштофович',\n",
       " 'В.Крючков',\n",
       " 'В.Кузенков',\n",
       " 'В.Кузнецов',\n",
       " 'В.Кузовлев',\n",
       " 'В.Кушнирович (псевдоним В.Бенигсен)',\n",
       " 'В.Кущинский',\n",
       " 'В.Лавров',\n",
       " 'В.Лакисов',\n",
       " 'В.Лаптев',\n",
       " 'В.Лисневский, С.Пикалов',\n",
       " 'В.Локтионов',\n",
       " 'В.Лонской',\n",
       " 'В.Макарихин',\n",
       " 'В.Максаков',\n",
       " 'В.Марин',\n",
       " 'В.Мариничев',\n",
       " 'В.Марков',\n",
       " 'В.Медведев',\n",
       " 'В.Мельников',\n",
       " 'В.Меньков, С.Линцов, Р.Саульский',\n",
       " 'В.Меньшов',\n",
       " 'В.Мережко',\n",
       " 'В.Минорский',\n",
       " 'В.Мирзоев',\n",
       " 'В.Моргенштерн',\n",
       " 'В.Москаленко',\n",
       " 'В.Мухаметзянов',\n",
       " 'В.Мухаметзянов, В.Пономарёв, А.Миронов, Е.Салабай',\n",
       " 'В.Мякишева',\n",
       " 'В.Назаров',\n",
       " 'В.Немоляев',\n",
       " 'В.Непевный',\n",
       " 'В.Николаев, М.Бабенко',\n",
       " 'В.Новиков',\n",
       " 'В.Огородников',\n",
       " 'В.Олькович, С.Матросова, Д.Иванов, А.Сэмбон',\n",
       " 'В.Ордынский',\n",
       " 'В.Орехов',\n",
       " 'В.Орёл',\n",
       " 'В.Павлов',\n",
       " 'В.Павлович',\n",
       " 'В.Панжев, Г.Курлаев, И.Белостоцкий, М.Сулейманова, Н.Репина, С.Морозов и др.',\n",
       " 'В.Панжев, Г.Курлаев, Ф.Кривошеев, М.Сулейманова, Н.Репина, С.Морозов и др.',\n",
       " 'В.Панжев, Е.Соколов, А.Щеглов, Г.Курлаев, Н.Репина и др.',\n",
       " 'В.Панков',\n",
       " 'В.Пендраковский',\n",
       " 'В.Пендраковский, Ю.Рогозин',\n",
       " 'В.Перельман',\n",
       " 'В.Перов, А.Кольцатый',\n",
       " 'В.Петров',\n",
       " 'В.Плотников, Г.Гитис',\n",
       " 'В.Плучек, Е.Народицкая-Сташевская',\n",
       " 'В.Пономарев, А.Миронов, Е.Салабай',\n",
       " 'В.Пономарёв, А.Миронов, А.Колпин, А.Толкалин и др.',\n",
       " 'В.Пономарёв, А.Миронов, Е.Салабай',\n",
       " 'В.Пономарёв, А.Миронов, Е.Салабай и др.',\n",
       " 'В.Пономарёв, А.Миронов, Е.Салабай, А.Хачатурян, Е.Чернова, А.Бахурин',\n",
       " 'В.Пономарёв, А.Миронов, Е.Салабай, В.Бедошвили и др.',\n",
       " 'В.Пономарёв, А.Миронов, Е.Салабай, И.Пшонкин',\n",
       " 'В.Пономарёв, А.Миронов, Е.Салабай, Н.Мальгина',\n",
       " 'В.Потапов, А.Карелин',\n",
       " 'В.Потапов, Ю.Бердников',\n",
       " 'В.Потемкин',\n",
       " 'В.Потёмкин',\n",
       " 'В.Приходько',\n",
       " 'В.Пронин',\n",
       " 'В.Пудовкин',\n",
       " 'В.Пудовкин, Д.Васильев',\n",
       " 'В.Пудовкин, М.Доллер',\n",
       " 'В.Ракша',\n",
       " 'В.Ровенский',\n",
       " 'В.Ровенский, Н.Лопато, В.Азеев',\n",
       " 'В.Рощин',\n",
       " 'В.Рудак',\n",
       " 'В.Саков',\n",
       " 'В.Салтыков',\n",
       " 'В.Семёновых',\n",
       " 'В.Сериков',\n",
       " 'В.Сигарев',\n",
       " 'В.Сидоренко',\n",
       " 'В.Скуйбин',\n",
       " 'В.Смолина',\n",
       " 'В.Соколовский',\n",
       " 'В.Сторожева',\n",
       " 'В.Суслин',\n",
       " 'В.Татарский',\n",
       " 'В.Тертышный',\n",
       " 'В.Тимощенко',\n",
       " 'В.Титов',\n",
       " 'В.Тодоровский',\n",
       " 'В.Толкачиков',\n",
       " 'В.Торопчин',\n",
       " 'В.Тумаев',\n",
       " 'В.Угличин',\n",
       " 'В.Фанасютина',\n",
       " 'В.Фатьянов',\n",
       " 'В.Федоров',\n",
       " 'В.Фекленко',\n",
       " 'В.Фурманов',\n",
       " 'В.Харченко',\n",
       " 'В.Харченко, А.Волков',\n",
       " 'В.Харьков',\n",
       " 'В.Хотиненко',\n",
       " 'В.Хохлов, К.Ляшенко',\n",
       " 'В.Чеботарев',\n",
       " 'В.Чигинский',\n",
       " 'В.Чичайкин',\n",
       " 'В.Чубриков',\n",
       " 'В.Шамиров',\n",
       " 'В.Шамиров, Д.Балинова, Р.Хачмамук',\n",
       " 'В.Шамшурин',\n",
       " 'В.Шевельков',\n",
       " 'В.Шепелев',\n",
       " 'В.Штерянов при участии Е.Немых',\n",
       " 'В.Шукшин',\n",
       " 'В.Щегольков',\n",
       " 'В.Эйснер',\n",
       " 'В.Юркус',\n",
       " 'В.Яковлев',\n",
       " 'В.Янковский',\n",
       " 'Ваге Саян',\n",
       " 'Вадим Перельман',\n",
       " 'Вадих Эль Хайек',\n",
       " 'Валентино Пиконе, Сальваторе Фикарра',\n",
       " 'Валери Донзелли',\n",
       " 'Валерио Аттаназио',\n",
       " 'Валерио Мьели',\n",
       " 'Валерия Бруни-Тедески',\n",
       " 'Валерия Гай Германика',\n",
       " 'Валерия Паризи',\n",
       " 'Ван Сылинь, Чжен Линьна',\n",
       " 'Ванесса Фильо',\n",
       " 'Вано Бурдули',\n",
       " 'Вари Ом, Джорджия Уайсс',\n",
       " 'Вейн Тонли',\n",
       " 'Вернер Херцог',\n",
       " 'Виджай Кришна Ачария',\n",
       " 'Вик Армстронг',\n",
       " 'Викрам Батт',\n",
       " 'Виктор Гарсия',\n",
       " 'Виктор Косаковский',\n",
       " 'Виктор Левин',\n",
       " 'Виктор Сальва',\n",
       " 'Виктор Сейнт Макари',\n",
       " 'Виктор Флеминг',\n",
       " 'Вильгельм Домке-Шульц',\n",
       " 'Вильям Де Витал',\n",
       " 'Вим Вендерс',\n",
       " 'Вим Вендерс, Джулиано Рибейру Сальгаду',\n",
       " 'Винко Брешан',\n",
       " \"Винсент Д'Онофрио\",\n",
       " 'Винсент Кестелут, Бен Стассен',\n",
       " 'Винсент Паронно, Маржан Сатрапи',\n",
       " 'Винсент Патерсон',\n",
       " 'Винсент Чжоу',\n",
       " 'Винченцо Натали',\n",
       " 'Виола Байер, Стефан Берман, Мэрайке Блау, Йорис Опринс, Пол Плобергер, Жан-Батист Пуйю, Йюст Раймерс, Йоб Роггевен, Эрик Шмит, Бен Эстон',\n",
       " 'Виталий Манский',\n",
       " 'Витторио Тавиани, Паоло Тавиани',\n",
       " 'Вич Каосаянанда',\n",
       " 'Виченте Аморим, Гильермо Арриага, Стефан Зллиотт',\n",
       " 'Вишес Бразерс',\n",
       " 'Вл.Китт',\n",
       " 'Владимир Дрга',\n",
       " 'Владимир Чеботарев',\n",
       " 'Владислав Байрамгулов',\n",
       " 'Владислав Пасиковский',\n",
       " 'Вольфганг Гроос',\n",
       " 'Вольфганг Лауэнштайн, Кристоф Лауэнштайн',\n",
       " 'Вольфганг Лауэнштайн, Кристоф Лауэнштайн, Шон МакКормак',\n",
       " 'Вольфганг Петерсен',\n",
       " 'Вольфганг Петерсон',\n",
       " 'Вон Стайн',\n",
       " 'Вонг Кар Вай',\n",
       " 'Вонг Чинг По',\n",
       " 'Вонг Юнфей',\n",
       " 'Вуди Аллен',\n",
       " 'Вэй Кеунг Лау, Эндрю Лу',\n",
       " 'Вэйшали Синха',\n",
       " 'Г.Александров',\n",
       " 'Г.Бардин',\n",
       " 'Г.Бежанов',\n",
       " 'Г.Болдугеров',\n",
       " 'Г.Гитис',\n",
       " 'Г.Голубева',\n",
       " 'Г.Данелия',\n",
       " 'Г.Данелия, И.Таланкин',\n",
       " 'Г.Добрыгин',\n",
       " 'Г.Долматовская',\n",
       " ...]"
      ]
     },
     "execution_count": 699,
     "metadata": {},
     "output_type": "execute_result"
    }
   ],
   "source": [
    "df['director'].sort_values().unique().tolist()"
   ]
  },
  {
   "cell_type": "code",
   "execution_count": 700,
   "metadata": {},
   "outputs": [
    {
     "data": {
      "text/plain": [
       "[' А.Шальопа',\n",
       " ' Г.Шпригов',\n",
       " ' Дитмар Ганше, Филипп Фогес,  Бенджамин Херрман, Миша Хоффманн, Эберхард Юнексдорф, Энн Мередит',\n",
       " ' И.Гелашвили',\n",
       " ' К.Шахназаров, А.Златопольский',\n",
       " ' Мишель Чиджик, Джефф Абберли, Натали Марисано',\n",
       " ' ООО \"Арт Пикчерс Студия\"',\n",
       " ' ООО \"Арт Пикчерс Студия\", ФГУП \"ВГТРК\"',\n",
       " ' ООО \"КиноФирма\"',\n",
       " ' ФГУП \"Киноконцерн \"Мосфильм\"',\n",
       " '\"Фонд Михаила Калатозова\"',\n",
       " 'Ёсиаки Нисимура, Джеффри Уэкслер',\n",
       " 'А. Калюжный',\n",
       " 'А. Натахин',\n",
       " 'А.А.Эшпай',\n",
       " 'А.Аболс',\n",
       " 'А.Адамская',\n",
       " 'А.Адраникян, В.Горяинов',\n",
       " 'А.Ананикян',\n",
       " 'А.Ананикян, Г.Андреасян, С.Андреасян',\n",
       " 'А.Ананикян, С.Андреасян, Г.Андреасян',\n",
       " 'А.Аствацатрян, С.Сельянов',\n",
       " 'А.Атанесян, А.Кириллин, Л.Тарасов',\n",
       " 'А.Атанесян, М.Бабаханов, Р.Бутко',\n",
       " 'А.Атанесян, Р.Атоян',\n",
       " 'А.Балашов',\n",
       " 'А.Барыкин',\n",
       " 'А.Барыкин, В.Братухин, О.Суров',\n",
       " 'А.Басов',\n",
       " 'А.Белов',\n",
       " 'А.Берденников',\n",
       " 'А.Бессчетнова, М.Евдокимова, А.Куренков',\n",
       " 'А.Бзаров',\n",
       " 'А.Бик, П.Бранкати, Ф.Будвег, М.де Конинг, П.А.Марион, Г.Мендеш, М.Ситер, ',\n",
       " 'А.Бирюкова, Д.Давиденко',\n",
       " 'А.Бобин',\n",
       " 'А.Болонин, В.Тартаковский',\n",
       " 'А.Боярский, В.Конг Жао, Д.Лассетер, К.О.Рурк, П.Пиерарт, Д.Херцфельд, Д.Хэнкок ',\n",
       " 'А.Боярский, С.Сельянов',\n",
       " 'А.Боярский, С.Сельянов, А.Златопольский',\n",
       " 'А.Боярский,Ю С.Сельянов, Д.Ловейко, О.Кузовков, А.Добрунов',\n",
       " 'А.Броварец',\n",
       " 'А.Бурлов, Б.Цыденешеев, А.Мяханова, Э.Тимурова, А.Цыренов, Д.Ользонов',\n",
       " 'А.Вайсман (псевдоним - Белый), Ю.Цвитко, Л.Пятницкая, А.Третьякова, Д.Рубежин',\n",
       " 'А.Васильев',\n",
       " 'А.Виноградова',\n",
       " 'А.Виткин, Г.Грановский, М.Дворкович, Г.Подземельный, П.Буря',\n",
       " 'А.Гадалов, Ю.Разыков, М.Молотов, В.Кислицын, Д.Лузанов',\n",
       " 'А.Герасимов',\n",
       " 'А.Герцен',\n",
       " 'А.Голутва',\n",
       " 'А.Голутва, А.Зуев',\n",
       " 'А.Гончаренко, С.Кальварский',\n",
       " 'А.Гончуков',\n",
       " 'А.Горовацкий',\n",
       " 'А.Готлиб',\n",
       " 'А.Григорян, М.Галустян, А.Ананикян',\n",
       " 'А.Гришаков',\n",
       " 'А.Грязнова, Н.Романов, И.Черницкий',\n",
       " 'А.Гундоров, А.Малечкин, С.Линников',\n",
       " 'А.Гундоров, В.Тимощенко',\n",
       " 'А.Гундоров, С.Кузнецова',\n",
       " 'А.Гуськов, С.Сельянов',\n",
       " 'А.Гуськов, Ш.Арндт',\n",
       " 'А.Гуськов, Я.Драбкин',\n",
       " 'А.Гутман',\n",
       " 'А.Дамскер',\n",
       " 'А.Двинская',\n",
       " 'А.Дж. Дикс, Ребекка Йелдхэм, Бет Коно, Энтони Тамбакис, Шарлиз Терон, Нэш Эдгертон',\n",
       " 'А.Дж.Дикс, Диабло Коуди, Хелен Эстабрук',\n",
       " 'А.Дж.Дикс, Эван Голдберг, Барбара А.Холл',\n",
       " 'А.Джазоян',\n",
       " 'А.Добрунов',\n",
       " 'А.Дугарон',\n",
       " 'А.Евменов, А.Смирнов',\n",
       " 'А.Егорычев',\n",
       " 'А.Ермолин, Д.Куповых, Р.Хайрулин, Г.Дульян, М.Тумова, М.Добромыслов',\n",
       " 'А.Ефремова',\n",
       " 'А.Залдастанов',\n",
       " 'А.Златопольский, Д.Месхиев, С.Гармаш',\n",
       " 'А.Златопольский, М.Мигунова',\n",
       " 'А.Златопольский, Р.Дишдишян, Л.Блаватник, Н.Яралова при участии Л.Верещагина, Н.Михалкова',\n",
       " 'А.Златопольский, С.Сельянов, А.Боярский, В.Сотсков, Т.Цыварёва, В.Воля, Е.Головин, А.Сметанкин, А.Полетаева',\n",
       " 'А.Златопольский, С.Сельянов, А.Боярский, В.Сотсков, Т.Цыварёва, В.Воля, Е.Головин, А.Сметанкин, Г.Васильев, М.Мэннис, И.Попов',\n",
       " 'А.Златопольский, С.Сельянов, А.Боярский, В.Сотсков, Т.Цыварёва, В.Воля, И.Урюпин, Г.Васильев, М.Мэннис, И.Попов, О.Кузовков, Д.Ловейко',\n",
       " 'А.Златопольский, С.Сельянов, А.Боярский, М.Мэннис, Т.Цыварева, В.Воля, Е.Головин, А.Сметанкин',\n",
       " 'А.Златопольский, С.Сельянов, А.Боярский, М.Мэннис, Т.Цыварева, В.Воля, Е.Головин, А.Сметанкин, Г.Васильев, И.Попов',\n",
       " 'А.Златопольский, С.Сельянов, А.Боярский, М.Мэннис, Т.Цыварева, В.Воля, Е.Головин, А.Сметанкин, О.Кузовков, Д.Ловейко, Г.Васильев, И.Попов',\n",
       " 'А.Златопольский, Т.Цыварева, В.Воля, Е.Головин, А.Сметанкин, О.Меджитов, В.Сотсков, С.Зернов',\n",
       " 'А.Ильин',\n",
       " 'А.Ильченко, Н.Конюшенко',\n",
       " 'А.Иншаков',\n",
       " 'А.Истратов',\n",
       " 'А.Казанкова, М.Королев',\n",
       " 'А.Калинин, С.Бордачев',\n",
       " 'А.Калинкин, В.Пономаренко',\n",
       " 'А.Кибкало',\n",
       " 'А.Килин',\n",
       " 'А.Ким',\n",
       " 'А.Киселёва',\n",
       " 'А.Ковтунец',\n",
       " 'А.Козлов',\n",
       " 'А.Козлов, А.Фатеев',\n",
       " 'А.Козлов, Д.Спиваковский, А.Федунов, Д.Коскин, М.Винчель',\n",
       " 'А.Колесник, И.Попов',\n",
       " 'А.Колков',\n",
       " 'А.Коновальцева (псевдоним Ангелина Подорожная)',\n",
       " 'А.Кончаловский',\n",
       " 'А.Кончаловский, Ф.Дайле',\n",
       " 'А.Костина',\n",
       " 'А.Котелевский, А.Новиков',\n",
       " 'А.Котелевский, А.Новиков, А.Стреляная',\n",
       " 'А.Котелевский, А.Новиков, И.Есин',\n",
       " 'А.Котелевский, А.Новиков, Р.Корби',\n",
       " 'А.Котелевский, Э.Пичугин',\n",
       " 'А.Котт',\n",
       " 'А.Кретова, Г.Голицын',\n",
       " 'А.Круглов',\n",
       " 'А.Крутов',\n",
       " 'А.Крутов, Л.Кашин',\n",
       " 'А.Крутова',\n",
       " 'А.Кублицкий, М.Карнеева',\n",
       " 'А.Кузовенкова',\n",
       " 'А.Куренков, М.Семёнова',\n",
       " 'А.Кушаев, И.Смирнова',\n",
       " 'А.Левин',\n",
       " 'А.Лекер',\n",
       " 'А.Литвинов',\n",
       " 'А.Литвинов, К.Шахназаров',\n",
       " 'А.Лихницкий, А.Бельская',\n",
       " 'А.Лихницкий, А.Живой, Т.Лаврова',\n",
       " 'А.Лихницкий, Е.Панфилова, А.Тимофеев',\n",
       " 'А.Лобачев-Дворецкий',\n",
       " 'А.Львович, А.Герман',\n",
       " 'А.Львович, А.Тельнов',\n",
       " 'А.Любельский, С.Стругачев',\n",
       " 'А.Ляхов, А.Калушкин, А.Белов, Д.Суворов',\n",
       " 'А.Максимов, Д.Файзиев',\n",
       " 'А.Максимов, К.Эрнст',\n",
       " 'А.Максимов, К.Эрнст, Л.Верещагин',\n",
       " 'А.Максимов, К.Эрнст, Т.Бекмамбетов',\n",
       " 'А.Максимов, Н.Попов',\n",
       " 'А.Максимов, Н.Попов, Д.Файзиев',\n",
       " 'А.Маладаев, Е.Замалиев',\n",
       " 'А.Манасарян, Г.Нерсисян',\n",
       " 'А.Мансуров, Ю.Троянкин, Д.Лузанов, А.Гадалов',\n",
       " 'А.Меликян',\n",
       " 'А.Меликян, Р.Дишдишян, С.Даниелян, А.Мовсесян, Д.Фролов',\n",
       " 'А.Мельник',\n",
       " 'А.Миндадзе, Л.Антонова',\n",
       " 'А.Миндадзе, Л.Антонова, А.Анненский, Л.Блаватник, Х.Декерт, В.Харьков',\n",
       " 'А.Митрошенков, Н.Гюзалян, А.Ованнисян',\n",
       " 'А.Михайлов, Б.Бартник',\n",
       " 'А.Михалкова, М.Королев',\n",
       " 'А.Моисеев',\n",
       " 'А.Моисеев, О.Пиганов, Н.Высоцкая',\n",
       " 'А.Морозов',\n",
       " 'А.Морозов, В.Орел',\n",
       " 'А.Морозов, Д.Шалашная',\n",
       " 'А.Мурадов, Р.Филатов, А.Голодницкий',\n",
       " 'А.Мурадосилов',\n",
       " 'А.Мычко',\n",
       " 'А.Нахимсон',\n",
       " 'А.Невский',\n",
       " 'А.Новиков',\n",
       " 'А.Новиков при участии Ар.Новикова',\n",
       " 'А.Новиков, А.Котелевский',\n",
       " 'А.Новиков, А.Котелевский, С.Члиянц, И.Есин, Р.Татаринцев',\n",
       " 'А.Новиков, А.Котелевский, Э.Илоян, Д.Жалинский, А.Троцюк, В.Шляппо',\n",
       " 'А.Новиков, Г.Константинопольский',\n",
       " 'А.Новиков, Г.Куценко, В.Шамиров,  К.Юшкевич',\n",
       " 'А.Новокреповская',\n",
       " 'А.Новоселов, Н.Соколова',\n",
       " 'А.Орлов, И.Волошин',\n",
       " 'А.Орлов, И.Волошин, С.Светлаков',\n",
       " 'А.Осмоловский, А.Сильвестров, Г.Алейников',\n",
       " 'А.Остапенко',\n",
       " 'А.Павлович, Д.Миронов',\n",
       " 'А.Петрухин',\n",
       " 'А.Петрухин, ООО \"РФГ\", ООО \"ПС АНГАР-21\"',\n",
       " 'А.Пиманов',\n",
       " 'А.Пиманов, О.Погодина',\n",
       " 'А.Писаркин, Э.Мецгер',\n",
       " 'А.Пискунова, Е.Нагаева',\n",
       " 'А.Плотников, А.Рябышев, А.Ушацкий, А.Кублицкий, О.Рябышева, Ю.Щиренко',\n",
       " 'А.Подсохин',\n",
       " 'А.Поженский',\n",
       " 'А.Пономарев, Т.Цыварева, А.Златопольский и др.',\n",
       " 'А.Попова',\n",
       " 'А.Потемкин',\n",
       " 'А.Прокопович, Т.Пронина, М.Лившин, О.Басистая',\n",
       " 'А.Радов',\n",
       " 'А.Радько, Е.Гордецкая',\n",
       " 'А.Разлогова, А.Петрас',\n",
       " 'А.Разумовский',\n",
       " 'А.Рамазанова, М.Евдокимова, А.Куренков',\n",
       " 'А.Ревва',\n",
       " 'А.Ревва, М.Бальчюнас (псевдоним Марюс Вайсберг)',\n",
       " 'А.Ремизова',\n",
       " 'А.Ризванова',\n",
       " 'А.Роднянский, С.Мелькумов',\n",
       " 'А.Роднянский, С.Мелькумов, Г.Фетисов',\n",
       " 'А.Роднянский, С.Мелькумов, С.Беспалов, Киа Джэм',\n",
       " \"А.Рожнова (псевдоним Александра Р'ЮЖ)\",\n",
       " 'А.Румянцева, А.Зубов, М.Посадских',\n",
       " 'А.Рыбников',\n",
       " 'А.Рябышев, А.Плотников, А.Ушацкий',\n",
       " 'А.Савельев, А.Васильев',\n",
       " 'А.Савельев, А.Васильев, М.Ложевский',\n",
       " 'А.Сайфулина',\n",
       " 'А.Сайфуллина',\n",
       " 'А.Самойлова',\n",
       " 'А.Сафронов',\n",
       " 'А.Сафронов, О.Степанцова',\n",
       " 'А.Сафронов, О.Степанцова, В.Щербин',\n",
       " 'А.Сашнева',\n",
       " 'А.Семенов',\n",
       " 'А.Сигле',\n",
       " 'А.Сигле, Д.Светозаров',\n",
       " 'А.Сигле, Д.Светозаров, Л.Бударина',\n",
       " 'А.Сигле, С.Ершов',\n",
       " 'А.Сильвестров',\n",
       " 'А.Сильвестров, Г.Алейников, Е.Попов',\n",
       " 'А.Сметанкин, В.Воля, Е.Головин, Т.Цыварева',\n",
       " 'А.Сметанкин, Е.Головин, Т.Цыварева',\n",
       " 'А.Смирнов',\n",
       " 'А.Смирнов, Е.Смирнова',\n",
       " 'А.Смирнов, Ю.Сапронов',\n",
       " 'А.Смирнов, Ю.Сапронов, Д.Месхиев',\n",
       " 'А.Соколов',\n",
       " 'А.Соколов, М.Карасева',\n",
       " 'А.Ставиская',\n",
       " 'А.Сутормин',\n",
       " 'А.Тагирова',\n",
       " 'А.Татаринцев,  А.Розенберг, Т.Хателишвили, А.Резник',\n",
       " 'А.Тельнов',\n",
       " 'А.Тельнов ',\n",
       " 'А.Тельнов, Д.Цибаускайте',\n",
       " 'А.Тельнов, Е.Григорьев, В.Харьков',\n",
       " 'А.Тельнов, П.Вайялайнен, И.Кок',\n",
       " 'А.Тельнов, С.Федотов',\n",
       " 'А.Темникова, О.Цирсен',\n",
       " 'А.Тмур, Е.Быковский',\n",
       " 'А.Троцюк, Э.Илоян, В.Шляппо, Д.Жалинский',\n",
       " 'А.Турчанинов',\n",
       " 'А.Тютрюмов',\n",
       " 'А.Усаков',\n",
       " 'А.Учеваткин, В.Чичайкин',\n",
       " 'А.Учитель',\n",
       " 'А.Учитель, А.Достман, В.Винокур',\n",
       " 'А.Учитель, К.Саксаганская',\n",
       " 'А.Учитель, К.Саксаганская, Г.Малков, В.Зеленский, С.Шефир, Б.Шефир, А.Яковлев',\n",
       " 'А.Учитель, К.Саксаганская, Летиция',\n",
       " 'А.Феофанов, С.Новиков',\n",
       " 'А.Фетисова',\n",
       " 'А.Хаакана',\n",
       " 'А.Хилинская, А.Иванов (псевдоним - Алекс Йоку), А.Бобин',\n",
       " 'А.Хржановский',\n",
       " 'А.Хуажева, А.Емкужев',\n",
       " 'А.Цацуев',\n",
       " 'А.Цекало',\n",
       " 'А.Цекало, А.Котт',\n",
       " 'А.Цекало, К.Эрнст, Р.Сорокин',\n",
       " 'А.Цекало, Р.Сорокин',\n",
       " 'А.Цыренов, А.Бурлов',\n",
       " 'А.Чернакова, Ю.Сапронов',\n",
       " 'А.Чернов, Д.Петрова',\n",
       " 'А.Чижиков, Н.Чижикова',\n",
       " 'А.Чижиков, С.Куликов, Н.Чижикова',\n",
       " 'А.Чистяков',\n",
       " 'А.Шархун',\n",
       " 'А.Шелехов (псевдоним Александр Шелл)',\n",
       " 'А.Шемес',\n",
       " 'А.Шипулина',\n",
       " 'А.Шусторович, Ю.Орлов',\n",
       " 'А.Щербович-Вечер',\n",
       " 'А.Эмир-Шах',\n",
       " 'А.Юнусов',\n",
       " 'АНО Студия \"Остров\", Государственная телевизионная компания \"Телеканал \"Россия\", Международный Олимпийский комитет',\n",
       " 'АНО Школа-студия анимационного кино \"Шар\"',\n",
       " 'Ааге Ааберге, Кристоф Дэниэл, ДЖереми Томас',\n",
       " 'Ааге Ааберге, Ливе Бонневье',\n",
       " 'Аарон Ауч, Энтони Багароцци, Джоэл Силвер',\n",
       " 'Аарон Барнетт, Эри Лантос, Роберт Лантош',\n",
       " 'Аарон Бергер, Брэд Букер, Гильермо дель Торо',\n",
       " 'Аарон Канделл, Джордан Канделл, Бальтасар Кормакур, Ральф Уинтер',\n",
       " 'Абделатиф Кешиш, Ардаван Сафэ, Жером Сейду',\n",
       " 'Абделатиф Кешиш, Лоуренс Клерк, Брахим Чиоуа',\n",
       " 'Абраам Вурнбрэнд, Хьюго Роуз',\n",
       " 'Августин Альмодовар, Педро Альмодовар, Эстер Гарсия, Уго Сигман',\n",
       " 'Ави Арад',\n",
       " 'Ави Арад, Гейл Энн Хёрд',\n",
       " 'Ави Арад, Лора Зискин, Мэттью Толмак',\n",
       " 'Ави Арад, Мэттью Толмач',\n",
       " 'Ави Арад, Фил Лорд, Кристофер Миллер, Эми Паскаль, Кристина Стейнберг',\n",
       " 'Ави Арад, Эми Паскаль, Мэтт Толмак',\n",
       " 'Ави Арэд, Эри Арэд, Стивен Пол',\n",
       " 'Ави Гревал, Полли Кемп, Жаклин Эденбрау',\n",
       " 'Ави Лернер, Дэнни Лернер, Кевин Кинг Темплтон',\n",
       " 'Ави Лернер, Ярив Лернер',\n",
       " 'Австралийская опера',\n",
       " 'Агустин Альмодовар, Педро Альмодовар',\n",
       " 'Агустин Альмодовар, Педро Альмодовар, Летисия Кристи',\n",
       " 'Агустин Альмодовар, Педро Альмодовар, Эстер Гарсия, Матиас Мостерин, Хуго Сигман',\n",
       " 'Агустин Альмодовар, Эстер Гарсиа',\n",
       " 'Агустин Альмодовар, Эстер Гарсия',\n",
       " 'Агустин Альмодовар, Эстер Гарсия, Диего Пахуэло',\n",
       " 'Агустин Босси, Пабло Босси, Мария Луиза Гутиэррес, Игнасио Кукукович',\n",
       " 'Агустина Кьярино, Жан Де Форетс, Кристоф Фродель, Фернандо Эпштейн',\n",
       " 'Агустина Чиарино, Фернандо Эпштейн',\n",
       " 'Адам Беттеридж, Деррик Борте',\n",
       " 'Адам Болинг, Брэд Питт, Тарквин Пэк',\n",
       " 'Адам Болинг, Дин О.Туле, Дэвид Рэйд',\n",
       " 'Адам Болинг, Дэвид Рейд, Дэвид Ферниш',\n",
       " 'Адам Болинг, Мэттью Вон, Дэвид Рейд',\n",
       " 'Адам Болинг, Руперт Маконик, Дэвид Рейд',\n",
       " 'Адам Боулин, Дарен Голберг, Брэд Питт, Мэтью Вон',\n",
       " 'Адам Голдворм, Джордж Фурла, Рэндолл Эмметт',\n",
       " 'Адам Дж.Брафф, Зак Брафф, Мэттью Эндрюс',\n",
       " 'Адам МакКей, Кевин Дж.Мессик, Джон Моррис, Уилл Феррелл, Крис Хенчи',\n",
       " 'Адам Фридландер, Дэниэл Айрон, Лэнс Сэмюэлс',\n",
       " 'Адам Шенкман',\n",
       " 'Адити Ананд, Люк Босси, Саурабх Гупта',\n",
       " 'Адитья Нат Джха, Анупама Патил, Кишор Патил',\n",
       " 'Адитья Чопра',\n",
       " 'Адриан Аскариа, Чарльз Гордон, Алекс Янг',\n",
       " 'Адриан Герра, Питер Сафран',\n",
       " 'Адриан Гуерра, Питер Сафран',\n",
       " 'Азиз Джиндани',\n",
       " 'Айан Бонхот, Пол Ван Картер, Эндрю Райдер, Ник Тоссинг',\n",
       " 'Айк Марутян',\n",
       " 'Айрис Заки',\n",
       " 'Аки Каурисмяки, Миша Яари',\n",
       " 'Акива Голдсман, Брайан Грейзер, Стивен Кинг, Рон Ховард',\n",
       " 'Акива Голдсман, Гай Ричи',\n",
       " 'Акива Голдсман, Джеймс Лесситер',\n",
       " 'Акива Голдсман, Джоэл Сильвер',\n",
       " 'Акива Голдсман, Тони Людвиг, Алан Ричи',\n",
       " 'Акихиро Ямаути, Ацухиро Иваками, Хироаки Сано',\n",
       " 'Алан Барнетт, Джо Медьяк, Том Поллок',\n",
       " 'Алан Голдман',\n",
       " 'Алан Голдман, Кэтрин Морисси',\n",
       " 'Алан Голдман, Эксел Декис, Ванесса Джиан',\n",
       " 'Алан Грейсман, Марк Дэймон, Роб Райнер',\n",
       " 'Алан Джей, Стюарт Урбан',\n",
       " 'Алан Звайбель,  Джесси Нельсон, Роб Райнер',\n",
       " 'Алан С. Бломквист, Дж. П.Уиллиамс',\n",
       " 'Алан Треквайр',\n",
       " \"Аластер Карратерс, Майкл А.Дж.О'Нилл\",\n",
       " 'Алберт Бергер, Алан Лоб, Брэдли Томас',\n",
       " 'Алберто Бургуэно, Андреа Иерволино, Александра Клим, Сильвио Мураглиа, Хуан Антонио Гарсиа Передо, Марк Фридман',\n",
       " 'Алек Болдуин, Майкл Мейер',\n",
       " 'Алекс Веймер, Лена Вурма, Эстер Фридрих',\n",
       " 'Алекс Гарленд, Эндрю МакДоналд',\n",
       " 'Алекс Гарленд, Эндрю МакДональд, Ричард Хьюит',\n",
       " 'Алекс Гарсиа, Джон Дж.Джашни, Майкл Догерти',\n",
       " 'Алекс Гарсиа, Джон Джашни, Мэри Пэрент, Брайан Роджерс, Томас Талл',\n",
       " 'Алекс Гарсиа, Марко Поло Констандс, Леонардо Симброн, Хосе Мария Торре, Марсель Феррер',\n",
       " 'Алекс Гарсиа, Фернандо Де Фуэнтес, Хосе С. Гарсиа де Летона',\n",
       " 'Алекс Гартнер',\n",
       " 'Алекс Гартнер, Эндрю Лазар, Чарльз Роувен',\n",
       " 'Алекс Гинно, Такер Тули, Гейл Энн Хёрд',\n",
       " 'Алекс Карбонелл, Алисия Лакарсел',\n",
       " 'Алекс Сервантес, Бруно Феликс',\n",
       " 'Алекс Хейнеман, Эндрю Рона, Джоел Сильвер',\n",
       " 'Алекса Селигман, Джей Тейлор',\n",
       " 'Александр Абатуров, Ребекка Узель',\n",
       " 'Александр Ажа, Джастин Бёрш, Крэйг Дж.Флорес',\n",
       " 'Александр Ажа, Марк Кантон, Грегори Лавассер, Марк Тоберофф',\n",
       " 'Александр Ажа, Марк Кантон, Чади Эли Маттар',\n",
       " 'Александр Ажа, Рори Аиткен, Бен Паг',\n",
       " 'Александр Ажа, Тим Брикнелл, Макс Мингелла',\n",
       " 'Александр Ажа, Тома Лангманн, Грегори Левассер, Уильям Лустиг',\n",
       " 'Александр Астье, Луис Клиши',\n",
       " 'Александр Брюннер, Гай Ист, Донна Джилиотти, Карл Молиндер, Джон Нордлинг, Найджел Синклер',\n",
       " 'Александр Буоно, Тамсин Равади, Джим Чарнеки',\n",
       " 'Александр Гаврас, Хенрик Гарнов, Тимо Корхонен, Хосе Луи Матаас-Негрете, Ли Томас',\n",
       " 'Александр Газула',\n",
       " 'Александр Глер, Александр Думрайхер-Ивансеану, Бади Минк, Франц Новотны',\n",
       " 'Александр Клименко, Светлана Пономаренко',\n",
       " 'Александр Микулич',\n",
       " 'Александр Шейн, Георгий Лордкипанидзе, Пандора да Кунха Теллес',\n",
       " 'Александр де Ла Пательер, Дмитрий Рассам',\n",
       " 'Александр де ла Пателье, Дмитрий Рассам',\n",
       " 'Александра Фергюссон, Олли Мэдэн',\n",
       " 'Александрия Фергюсон, Дэвид Хейман, Рози Элисон',\n",
       " 'Алексей Гуськов, Штефан Арндт, Андреа Шютте',\n",
       " 'Алекси Барди, Доминик Райт',\n",
       " 'Алекси Барди, Наталья Дрозд, Сергей Сельянов, Олег Силванович, Рийна Сильдос ',\n",
       " 'Алекси Барды',\n",
       " 'Алекси Бардю, Хелен Виноградов, Айя Берзина',\n",
       " 'Алексис Вонарб, Дмитрий Рассам, Антон Сумаш',\n",
       " 'Ален Аттал',\n",
       " 'Ален Аттал, Жером Сейду',\n",
       " 'Ален Аттал, Патрик Кине, Хьюго Селиньяк',\n",
       " 'Ален Аттал, Хьюго Селиньяк, Софи Теппер',\n",
       " 'Ален Аттал, Эмма Жаво',\n",
       " 'Ален Атталь',\n",
       " 'Ален Атталь, Андрэ Логи',\n",
       " 'Ален Атталь, Анна Рапчик',\n",
       " 'Ален Бенгиги, Томас Верхак',\n",
       " 'Ален Вулф, Дэвид Остин ',\n",
       " 'Ален Голдман, Катрин Морисс',\n",
       " 'Ален Гольдман',\n",
       " 'Ален Крюгер',\n",
       " 'Ален Сард',\n",
       " 'Ален Терзян',\n",
       " 'Алессандро Бонифаци, Давид Манули, Бруно Триббиоли',\n",
       " 'Алессандро Вердеччи, Лоренцо Вон Лоре, Дон Кармоди, Андреа Маротти, Андре Руле',\n",
       " 'Алессандро Вингфилд, Томас Граскур, Ал Диас, Стефани Дронне, Айра Коорт, Алекс Самаранч, Изабель Сеговия, Вероника Сильвестр',\n",
       " 'Алессия Гатти, Валентина Занелла, Никола Федригони',\n",
       " 'Алехандро Аменабар, Фернандо Бовайра, Кристина Пиовесан',\n",
       " 'Алехандро Гонсалес Иньярриту, Джон Лешер, Арнон Милчэн',\n",
       " 'Алехандро Израэль, Марианна Эрижимович',\n",
       " 'Алехандро Хидальго',\n",
       " 'Алехандро Ходоровский, Ксавье Герреро Ямамото',\n",
       " 'Али Агалар, Вито Ди Роза, Карола Эш',\n",
       " 'Али Белл, Бродерик Джонсон, Эндрю А.Косоув, Айван Райтмен ',\n",
       " 'Али Реза Заррин',\n",
       " 'Аликс Медиган, Энн Роселлини',\n",
       " 'Алина Барделла, Франческо Инверницци',\n",
       " 'Алине Барделла, Франческо Инверницци, Козетта Лагани',\n",
       " 'Алис Жерар, Эдуард Вейл',\n",
       " 'Алиса М.Кантроу, Карен М.Мерфи',\n",
       " 'Алисон Оуэн, Пол Трибитс, Трейси Сиворд',\n",
       " 'Алла Гефтер',\n",
       " 'Аллан Джонс, Кэти Уайсс, Джей Тодд Харрис',\n",
       " 'Аллан Нибло, Джеймс Ричардсон',\n",
       " 'Аллен Атталь',\n",
       " 'Аллен Бэйн, Ара Кац, Стюарт Форд',\n",
       " 'Аллен Бэйн, Жан Бреа, Мюриэль Мерлин, Виктор Хадида, Сэмюэл Хадида',\n",
       " 'Аллен Коверт, Мишель Мердокка',\n",
       " 'Алсон Грист',\n",
       " 'Аль Браво, Дино Дос Сантос',\n",
       " 'Альберт Бергер, Крэйг Дж. Флорес, Уильям Хорберг',\n",
       " 'Альберт Бергер, Роберт граф, Рон Йеркса',\n",
       " 'Альберт Бергер, Рон Йеркса',\n",
       " 'Альберт Бергер, Рон Йеркса, Тодд Филд',\n",
       " 'Альберт Бергер, Тим Захарос, Кристофер Лемоул, Лие Сарки',\n",
       " 'Альберт Ли, Джиан Джуо Жао',\n",
       " 'Альберто Аранда, Андреу Буэнафуэнте, Тони Карризоса',\n",
       " 'Альберто Аранда, Бернат Саумелл',\n",
       " 'Альберто Геррикабеития',\n",
       " 'Альваро Агустин, Йесус де ла Вега',\n",
       " 'Альваро Агустин, Фернандо Бовэйра ',\n",
       " 'Альваро Аугустин, Беатрис Делгадо, Томас Симадевилья',\n",
       " 'Альваро Аугустин, Пилар Бенито, Присцилла Бертин',\n",
       " 'Альваро Аугустин, Хорди Гасуль',\n",
       " 'Альваро Лонгария, Николас Тапия',\n",
       " 'Альваро Лонгория, Александр Малле-Гай, Анхелика Уэте',\n",
       " 'Альваро Лонгория, Лорен Боден, Дидар Домери, Гаэль Ноуэлль, Фабьен Писани',\n",
       " 'Альфонсо Куарон, Дейвид Хейман',\n",
       " 'Альфред Гофф, Александра Милчен, Майлз Миллар',\n",
       " 'Амандин Било, Алан Шаба',\n",
       " 'Амандин Било, Ален Шаба, Кристин Руксель',\n",
       " 'Амина Дасмал, Майкл Кейн, Робин Фокс',\n",
       " 'Амината Самбе, Райнер Хольцемер',\n",
       " 'Амир Ахебсион, Маз Джобрани, Рэй Моэт',\n",
       " 'Амир Мадани, Кевин Файги',\n",
       " 'Анат Бикель, Леон Ибери, Моше Ибери, Ури Сабаг, Давид Силбер',\n",
       " 'Анатоль Нитке, Рауль Рейнерт',\n",
       " 'Андерс Т.Андерсен',\n",
       " 'Анджей Бартковяк, Александр Изотов, Александр Невский',\n",
       " 'Анджелина Джоли, Джо Рот, Дункан Хендерсон',\n",
       " 'Анджело Барбагалло, Шарль Жильбер, Марин  Кармитц, Натаниэдь Кармитц, Аббас Киаростами',\n",
       " 'Анджело Риццоли',\n",
       " 'Анджелс анд Эйрвейс, Дэн Фигур',\n",
       " 'Андре Лемал, Гури Лучези, Терри МакКей',\n",
       " 'Андре Рьё Студиос, Мартижн Воллеберг, Питер Скилман, Джанел Мейсон',\n",
       " 'Андре Янсе, Тон Оккерсе',\n",
       " 'Андреа Андерсон, Табита Джексон, Ален Зеноу, Дэвид Маккилоп, Адриан Сиэффо, Молли Томпсон, Джудит Труман, Дэвид Хардинг, Джулиан Хобс',\n",
       " 'Андреа Барата Рибейро, Нив Фичман',\n",
       " 'Андреа Барата Рибейро, Нив Фишман',\n",
       " 'Андреа Блок, Кристиан Хаас',\n",
       " 'Андреа Борелла, Эцио Греджо',\n",
       " 'Андреа Де Либерато, Антонио Капуано, Эммануэле Моретти, Дженнаро Фазолино, Дарио Формизано',\n",
       " 'Андреа Колдервуд, Саймон Корнвэлл',\n",
       " 'Андреа Парис, Маттео Ровере',\n",
       " 'Андрей Клюкович, Андрей Курейчик, Виктор Лобкович, Сергей Якубовский',\n",
       " 'Андрей Кончаловский',\n",
       " 'Андрей Макдональд, Элан Рич, Скотт Рудин, Роберт Фокс',\n",
       " 'Андрей Савельев, Артем Васильев',\n",
       " 'Андрес Калдерон, Кристиан Конти',\n",
       " 'Андрэ Ламаль, Маркус Висиди',\n",
       " 'Андрэ Роло',\n",
       " 'Анил Давда, Видху Винод Чопра, Вир Чопра',\n",
       " 'Анил Курьян, Тревор Мэйси, Марк Д.Эванс',\n",
       " 'Анита Шиэн, Винсент Шиэн',\n",
       " 'Анн Бюргюн, Майкл Де Лука, Роберт Энгелман',\n",
       " 'Анн-Доминик Туссэн',\n",
       " 'Анна Бьерк, Франсуа-Хавьер Франц, Петри Йокиранта',\n",
       " 'Анна Ван дер Ви, Филиппа Коварски, Дрор Мор, Эстелль Фиалон',\n",
       " 'Анна Герб, Нил Додсон, Джастин Наппи',\n",
       " 'Анна Гуддат, Штефан Шуберт, Томас Эрхарт',\n",
       " 'Анна Копелсон, Арнольд Копелсон, Арнон Милчан',\n",
       " 'Анна-Лена Вибом',\n",
       " 'Анна-Мария Кантариус, Ханна Палмквист, Томас Эскильссон',\n",
       " 'Анна-Моника Панделиа, Надежда Соловьева, Ингрит Сутей',\n",
       " 'Анне Кёнке, Синье Бридж Серенсен, Кристина Синн, Хорам Тен Бринк, Майкл Увемедимо',\n",
       " 'Анника Белландер, Никлас Викстрем Никастро',\n",
       " 'Аннико фильм',\n",
       " 'Анри Деберм, Тьерри Демишель, Аллан Нибло',\n",
       " 'Антон Калинкин',\n",
       " 'Антонио Авати, Флавия Парнази',\n",
       " 'Антонио Бандерас, Дэнни Лернер, Сандра Эрмида',\n",
       " 'Антонио Кампос, Патрик Каннингэм, Крис Майбах',\n",
       " 'Антонио Коста Валенте, Луиш Диого',\n",
       " 'Антония Барнард, Гари Хэмильтон',\n",
       " 'Антония Барнард, Эйн Каннинг, Эмиль Шерман',\n",
       " 'Антуан Гандобер, Фабрис Голдштейн, Антуан Рейн',\n",
       " 'Антуан Кайрол',\n",
       " 'Аншутц Интертейнмент Групп',\n",
       " 'Ара Оганесян',\n",
       " 'Араш Амель, Клаудия Блюмхубер, Пьер-Анж Ле Пожам',\n",
       " 'Араш Амель, Фред Бергер, Леон Клэранс',\n",
       " 'Ари Лантос, Джонас Белл Пашт',\n",
       " 'Арио Саганторо, Ранга Майя Барак-Эванс, Натаниель Болотин',\n",
       " 'Аркадий Голубович, Уоррен Зайд, Рэймонд Дж.Маркович',\n",
       " 'Арлин Филлипс, Адам Шпигель',\n",
       " 'Армандо Гутьеррез',\n",
       " 'Армен Агаян, Тара Ансли',\n",
       " 'Армен Амбарцумян, Карен Казарян',\n",
       " 'Армийан Бернстейн',\n",
       " 'Арно Фрилли',\n",
       " 'Арнольд Рифкин, Джон Мистер Таерман, Брюс Уиллис, Михаэль Фоттрел',\n",
       " 'Арри Ворсмит, Франс Ванн Гестель, Ричард Клаус, Майк Орэ',\n",
       " 'Артур Веэбер, Наталья Лазарева, Лутфулла Назиров',\n",
       " 'Артур Езекян, Роберт Оглахчян, Унан Согоян',\n",
       " 'Арчил Геловани, Леван Коринтели, Джиа Баскадзе',\n",
       " 'Асаф Бернштейн, Брэд Каплан',\n",
       " 'Асгар Фархади, Александр Малле-Гай, Оливье Пере',\n",
       " 'Асгар Фархади, Негар  Эскандарфар',\n",
       " 'Асель Садвокасова',\n",
       " 'Аста Филпот, Мариано Ванхооф',\n",
       " 'Аттилио Дэ Рацца',\n",
       " 'Аугусто Греко, Хуан Ловече',\n",
       " 'Аурелио Де Лаурентис, Луиджи Де Лаурентис младший',\n",
       " 'Аурит Замир, Йоав Роех',\n",
       " 'Аучара Киджканджанас',\n",
       " 'Ахмед Абуноум, Вульф Бауэр, Нико Хофманн',\n",
       " 'Ацуюки Шимода',\n",
       " 'Ашильд Ариан Рамборг',\n",
       " 'Аших Сингх, Адитья Чопра, Санджай Шивалкар',\n",
       " 'Ашок Амритрадж, Денис Ди Нови',\n",
       " 'Ашок Амритрадж, Джейсон Блум, Трэвис Клафф',\n",
       " 'Ашок Амритрадж, Элизабет Дестро, Эллен Голдсимт-Вэйн',\n",
       " 'Ашок Антритрадж, Ари Арад, Ави Арад, Стивен Паул, Майк Де Люк',\n",
       " 'Б.Айрапетян',\n",
       " 'Б.Анисимов, И.Магомедов, В.Маслов',\n",
       " 'Б.Аракелян, М.Запорожский, А.Гаспарян',\n",
       " 'Б.Бабуш, Й.ван ден Идсерт,  М.Каччьямани, М.Кьют, К.Кэхилл, Н.Хадсон, Д.Де Чико, Т.Эльрих',\n",
       " 'Б.Бакурадзе, Ю.Мишкинене, З.Болотаев, А.Плотников',\n",
       " 'Б.Бартолески, Э.Бей, П,Джеремей, Л.Ди Нола, С.Кальванико, Н.Катальдо, Ф.П.Контичелло, М.Лои, Л.Лукетти, Р.Папа, Н.Чирко, Г.Эфрати',\n",
       " 'Б.Грачевский',\n",
       " 'Б.Гуц',\n",
       " 'Б.Гуц, А.Гусенцова',\n",
       " 'Б.Доржиев',\n",
       " 'Б.Дышенов',\n",
       " 'Б.Куломзин',\n",
       " 'Б.Машковцев, Л.Бланк, И.Ковалев',\n",
       " 'Б.Машковцев, С.Струсовский',\n",
       " 'Б.Терекбаев, А.Яхъяев, М.Вараев, М.Гамзян',\n",
       " 'Б.Токарев',\n",
       " 'Б.Уладаев',\n",
       " 'Б.Худойназаров, Р.Руштов, Т.Каратанос, К.Баумгартнер, С.Делой, Б. Хашемиян',\n",
       " 'Б.Юдин, А.Царьков',\n",
       " 'Б.Юсупов, Л.Филинов',\n",
       " 'Б.Юсупов, Р.Еникеев, Л.Филинов',\n",
       " 'Баварская государственная опера',\n",
       " 'Баз Лурман, Кэтрин Мартин, Дуглас Уик',\n",
       " 'Базил Иванык, Тад Лакинбилл, Трент Лакинбилл, Эдвард МакДонелл, Молли Смит',\n",
       " 'Байрон Кеннеди',\n",
       " 'Балхджав Лкхагвадорж',\n",
       " 'Бальтасар Кормакур, Магнус Видар Сигюрдссон',\n",
       " 'Барбара Брокколи, Майкл Дж.Уилсон',\n",
       " 'Барбара Брокколи, Майкл Джи Уилсон',\n",
       " 'Барбара Брокколи, Михаэль Дж.Уилсон',\n",
       " 'Барбара Гиббс, Филипп Каркассон, Мишель Феллер',\n",
       " 'Барбара Де Фина, Дэвид Ли, Гастон Павлович, Мартин Скорсезе, Эмма Тиллинджер, Ирвин Уинклер, Витторио Чеки Гори, Рэндолл Эмметт',\n",
       " 'Барбара Ди Понте, Лео Камстеег, Сальваторе Пагано, Никола Спано',\n",
       " 'Барбара Стивен, Джим Бэллэнтайн',\n",
       " 'Барбора Доран, Жан-Мари Комю, Роджер Фраппье',\n",
       " 'Бард Доррос, Аллан Лоэб, Майкл Шугар ',\n",
       " 'Барка Хажиж',\n",
       " 'Барнеби Томпсон',\n",
       " 'Барри Бернарди, Джози Розен, Тим Херлихай',\n",
       " 'Барри Брукер, Энтони Гудас, Фредерик Малмберг, Марк Ордески, Скотт Уокер, Джордж Фурла',\n",
       " 'Барри Зонненфельд, Джон Питерс',\n",
       " 'Барри Левинсон, Аль Пачино, Джейсон Соснофф',\n",
       " 'Барт Ван Лангендонк, Филипп Логи',\n",
       " 'Бастер Китон, Джозеф М.Шенк',\n",
       " 'Бей Логан, Карл Чанг',\n",
       " 'Бейзил Айваниг, Грем Кинг',\n",
       " 'Белен Атьенса, Альваро Аугустин, Жислен Баруа',\n",
       " 'Белен Атьенса, Мерседес Гамеро, Энрике Лопес Лавинье',\n",
       " 'Белен Атьенса, Патрик Краули',\n",
       " 'Белен Атьенса, Хуан Антонио Байона, Жислен Баруа ',\n",
       " 'Белен Атьенца',\n",
       " 'Белен Атьенца, Альваро Аугустин, Гислен Баруа',\n",
       " 'Бен Аффлек, Леонардо Ди Каприо, Дженнифер Дэвиссон',\n",
       " 'Бен Брайн, Джон Клацкевич',\n",
       " 'Бен Браунинг, Ариэль Зейтун, Крис Тикье',\n",
       " 'Бен Браунинг, Джеймс Кэмерон, Лиса Кан',\n",
       " 'Бен Гез, Миша Маклэрд',\n",
       " 'Бен Косгров, Марк Кубан, Пола Мэй Шварц',\n",
       " 'Бен Стассен',\n",
       " 'Бен Стиллер',\n",
       " 'Бенджамин Еу, Трэйси Ленон, Брайн Розен',\n",
       " 'Бенджамин Элалоуф, Дмитрий Рассам, Паула Косенза',\n",
       " 'Бенедикт Карвер, Сара Фрюдман, Стивен Хобан',\n",
       " 'Бенжамин Соли, Терренс Малик, Сара Стеннетт',\n",
       " 'Бенисио Дель Торо, М.А.Фаура',\n",
       " 'Бенуа Делепин, Гюстав Керверн',\n",
       " 'Бенуа Делепин, Марк Дюжарден, Гюстав Керверн',\n",
       " 'Бенуа Кенон',\n",
       " 'Беньямин Херрманн',\n",
       " 'Бернард Беллью, Дэнни Бойл, Кристиан Колсон',\n",
       " 'Бернард Беллью, Тесса Росс, Гаррет Смит',\n",
       " 'Бернард Белью, Дэнни Бойл, кристиан Колсон, Эндрю Макдональд',\n",
       " 'Бернард Флейсхер',\n",
       " 'Бернд Айхингер, Ави Арад, Ральф Винтер',\n",
       " 'Бернд Эйлерт, Отто Ваалкес, Дуглас Велбат',\n",
       " 'Берни Голдман, Райан Кэвэно, Бретт Ратнер',\n",
       " 'Берни Голдманн, Дональд Ди Лайн',\n",
       " 'Берни Голдманн, Марк Кэнтон, Джанни Нуннари, Джеффри Силвер',\n",
       " 'Берни Маттинсон',\n",
       " 'Бернхард Каммель',\n",
       " 'Бертран Банелло, Джудит Лу Леви, Гетти Фелен',\n",
       " 'Бертран Бонелло, Кристина Ларсен',\n",
       " 'Бертран Гор, Натали Мезюре, Сандра дэ Фонсека',\n",
       " 'Бертран Лойер, Жаклин Фармер ',\n",
       " 'Бетси Биирс, Марк Гордон, Лесли Холлеран',\n",
       " 'Бетси Дэнбьюри, Роберт В.Корт, Джонатан Кинг',\n",
       " 'Бигас Луна, Педро Пастор',\n",
       " 'Билл Баннерман, Марти Бауэн, Вик Годфри',\n",
       " 'Билл Баннерман, Мартин Бауэн, Вик Годфри',\n",
       " 'Билл Блок, Джон Лишер, Итан Смит, Дэвид Эйр',\n",
       " 'Билл Блок, Джон Хеджман, Пол Хэнсон',\n",
       " 'Билл Блок, Марк Камине, Сюзанн Тодд',\n",
       " 'Билл Блок, Пауль Хэнсон',\n",
       " 'Билл Блок, Пол Хэнсон, Джеффри Леви-Хинте',\n",
       " 'Билл Бойс, Даниэль Стори, Дэвид Таунсенд',\n",
       " 'Билл Борден, Джек Чжан, Майкл Февелль',\n",
       " 'Билл Борден, Майкл Ицзюнь Ванг, Джек Чжанг',\n",
       " 'Билл Гербер',\n",
       " 'Билл Гербер, Брэдли Купер, Рави Мехта, Линетт Хауэлл Тейлор, Джон Питерс, Тодд Филлипс',\n",
       " 'Билл Гербер, Келли Дэвис, Стив Ричардс',\n",
       " 'Билл Гербер, Марк Стивен Джонсон, Майкл Ивинг',\n",
       " 'Билл Гербер, Роберт Лоренц, Клинт Иствуд',\n",
       " 'Билл Джонс, Бенджамин Тимлетт',\n",
       " 'Билл Миллер, Джордж Миллер, Даг Митчелл',\n",
       " 'Билл О.Дауд, Джулия Пистор',\n",
       " 'Билл Перкинс',\n",
       " 'Билли Кристал, Саманта Спрешер, ПИтер Чернин',\n",
       " 'Бильяна Лабович, Билл Плимптон, Стив Тенхонен',\n",
       " 'Бинг Лю, Диана Мой Куон',\n",
       " 'Бинго Губельман',\n",
       " 'Бинго Губельман, Бенжи Кон, Эрика Хэмпсон',\n",
       " 'Бини Барнс, Джозеф Дрэйк, Джон Линсон',\n",
       " 'Биргит Гоернбок, Ольга Гойстер, Дебби Вандермулен, Валерий Дмитротченко',\n",
       " 'Благим Шиуа, Ришар Гранпьер, Венсан Мараваль, Эдуард Вейл',\n",
       " 'Блейк Норзфилд, Джим Робисан',\n",
       " 'Блондел Айду, Билл Боннерман, Лоуренс Гордон',\n",
       " 'Блондел Айду, Крис Коламбус, Шон Леви',\n",
       " 'Бо Флинн, Джон Рикард, Брэд Пейтон, Хирам Гарсиа',\n",
       " 'Бо Флинн, Трипп Винсон, Джей Стерн',\n",
       " 'Боаз Дэвидсон, Джей Коен',\n",
       " 'Боаз Дэвидсон, Криста Кэмпбелл, Винсент Чэн',\n",
       " 'Боаз Дэвидсон, Ренни Харлин',\n",
       " 'Боаз Дэвидсон, Хайди Джо Маркел',\n",
       " 'Боб Балабан, Дэвид Ливай, Роберт Олтман',\n",
       " 'Боб Барлен, Жонгхан Ким, Лили Ма, Юн Женг, Сунгван Ким',\n",
       " 'Боб Беллион, Джимми Де Брэбэнт',\n",
       " 'Боб Гэйл, Кетлин Кеннеди, Нил Кэнтон',\n",
       " 'Боб Кох',\n",
       " 'Боб Купер, Тайлер Митчелл, Дэниэл Дж. Уолкер',\n",
       " 'Боб Мерсер',\n",
       " 'Боб Мур, Мила Онг-Твин',\n",
       " 'Бобби Коэн, Алекс Куртцман, Роберто Орси',\n",
       " 'Бонни Арнолд',\n",
       " 'Бонни Арнольд, Брэд Льюис',\n",
       " 'Бонни Арнольд, Даг Дэвисон, Майкл А.Конноли',\n",
       " 'Бонни Камли, Стэфарт Лэйн, Алан Ньюман',\n",
       " 'Бонни Кертис, Венди Федерман',\n",
       " 'Бонни Кертис, Джули Линн, Уикс Уолкер',\n",
       " 'Бора Дагтекин, Лена Олбрич, Сьюзанн Функе',\n",
       " 'Борис Ташков, Робертас Урбонас',\n",
       " 'Боря Пена',\n",
       " 'Браден Афтегуд, Элизабет А. Белл, Питер Берг',\n",
       " 'Брайан Балок, Леон Дин, Минг Ли, Дейзи Шан',\n",
       " 'Брайан Белл, Джей Роуч, Тина Фей',\n",
       " 'Брайан Белл, Тодд Блэк, Гаймон Кеседи',\n",
       " 'Брайан Белл, Фил Дорнфелд, Дэвид Цукер',\n",
       " 'Брайан Брукс, Энди Фикмен',\n",
       " 'Брайан Грейзер',\n",
       " 'Брайан Грейзер, Андреа Джианетти, Майкл Де Лука, Рон Ховард',\n",
       " 'Брайан Грейзер, Билл Карраро, Эдди Мерфи',\n",
       " 'Брайан Грейзер, Даг Дэвисон',\n",
       " 'Брайан Грейзер, Иван Орлич, Ким Рот, Колин Уилсон',\n",
       " 'Брайан Грейзер, Пенни Маршалл, Рон Ховард',\n",
       " 'Брайан Грейзер, Рассел Кроу, Ридли Скотт',\n",
       " 'Брайан Грейзер, Ридли Скотт',\n",
       " 'Брайан Грейзер, Роберт Лоренц',\n",
       " 'Брайан Грейзер, Эндрю Итон, Эрик Феллнер',\n",
       " 'Брайан Грейзер,Карен Кэхела',\n",
       " 'Брайан Грэйзер',\n",
       " 'Брайан Грэйзер, Брайс Даллас Ховард, Рон Ховард',\n",
       " 'Брайан Грэйзер, Майкл Лондон, Джесси Нельсон',\n",
       " 'Брайан Де Пальма',\n",
       " 'Брайан Дриллинжер, Мишель Дэннер, Эд Ча',\n",
       " 'Брайан Кавано-Джонс, Кики Мияке, Стивен Сквилланте',\n",
       " 'Брайан Линс, Пол Пармер, Майкл Серензи',\n",
       " 'Брайан Мендоза, Молли Хэсселл',\n",
       " 'Брайан Минчин, Стивен Моффат',\n",
       " 'Брайан Оливер, Джозеф П.Рейди, Джон Эвнет',\n",
       " 'Брайан Питер Фальк, Билл Холдермэн, Роберт Редфорд',\n",
       " 'Брайан Уиттен, Орен Пели, Роб Кауэн',\n",
       " 'Брайен Грацер, Карен Кехела, Бернард Уильямс, Майкл Врайт',\n",
       " 'Брайн Ферст, Шон Ферст',\n",
       " 'Брайс Даль Фарра, Клод Даль Фарра, Брайан Киди',\n",
       " 'Брандт Андерсон, Браден Афтегуд,  Сара Обри',\n",
       " 'Брандт Андерсон, Макл Корренте, Майкл Корсо, Маркус Ниспел, Трент Отик',\n",
       " 'Брандт Андерсон, Ховард Берд, Дэниэл Даймонд',\n",
       " 'Бранко Ластиг, Дэвид Францони',\n",
       " 'Бред Фишер, Майк Медовой',\n",
       " 'Бреде Ховланд',\n",
       " 'Бретт Ратнер, Джэй Стерн',\n",
       " 'Бригэм Тэйлор, Джон Фавро',\n",
       " 'Бриджет Кэллоу',\n",
       " 'Британский музей',\n",
       " 'Бродерик Джонсон, Бад Йоркин, Эндрю А. Косов',\n",
       " 'Бродерик Джонсон, Джоэл Силвер',\n",
       " 'Бродерик Джонсон, Кира Дэвис, Адам Колбеннер',\n",
       " 'Бродерик Джонсон, Ричард Ингбер',\n",
       " 'Бродерик Джонсон, Эндрю А.Косов, Аарон Любин',\n",
       " 'Бродерик Джонсон, Эндрю А.Косов, Молли Смит',\n",
       " 'Бродерик Джонсон, Эндрю А.Косове',\n",
       " 'Брук Бретон, Джеймс Кэмерон, Джон Лондау',\n",
       " 'Бруна Папандреа, Риз Уизерспун',\n",
       " 'Бруна Папандреа, Уильям Полад, Риз Уизерспун',\n",
       " 'Бруно Бертеми, Соледад Гатти-Паскуаль, Бертран Фаврэ ',\n",
       " 'Бруно Леви',\n",
       " 'Бруно Наон, Каролин Натаф',\n",
       " 'Бруно Песери, Рикардо Фернандес-Дей',\n",
       " 'Бруно Пети',\n",
       " 'Брэд Бёрд, Деймон Линделоф, Джеффри Чернов',\n",
       " 'Брэд Грэй, Элли Самаха',\n",
       " 'Брэд Лафф, Нил Х.Моритц',\n",
       " 'Брэд Льюис, Николас Столлер',\n",
       " 'Брэд Майкл Гилберт, Билл Перкинс, Селин Рэттрэй',\n",
       " 'Брэдли Галло, Майкл А. Хелфант, Брент Эмери',\n",
       " 'Брэдли Галло, Рик Джейкобс, Майкл А.Хелфант',\n",
       " 'Брэдли Купер, Эмма Тиллинджер Коскофф, Тодд Филлипс',\n",
       " 'Брэдли Томас, Бобби Фаррелли, Питер Фаррелли',\n",
       " 'Брюс А.Блок, Нэнси Майерс',\n",
       " 'Брюс Андерсон, Джон С.Данкин',\n",
       " 'Брюс Андерсон, Лори Форте',\n",
       " 'Брюс Берман',\n",
       " 'Брюс Берман, Джерри Вайнтрауб, Джон Харди, Сьюзан Экинс',\n",
       " 'Брюс Берман, Джоел Сильвер, Грант Хилл',\n",
       " 'Брюс Берман, Джоэл Силвер, Грант Хилл',\n",
       " 'Брюс Берман, Дин Девлин',\n",
       " 'Брюс Берман, Клинт Иствуд, Джуди Хойт',\n",
       " 'Брюс Вуд, Скотт Пойли',\n",
       " 'Брюс Девей',\n",
       " 'Брюс Коэн',\n",
       " 'Брюс Коэн, Трент Лакинбилл, Тэд Лакинбилл, Молли Смит, Дэнни Стронг, Джейсон Шуман',\n",
       " 'Брюс Кэмпбелл, Сэм Рейми, Роберт Джи Таперт',\n",
       " 'Буркхард Альтофф, Николаус Гейрхальтер',\n",
       " 'Бэз Лурман, Габриэлла Мартинелли',\n",
       " 'Бэзил Айваник, Полли Джонсон',\n",
       " 'Бэзил Иваник',\n",
       " 'Бэзил Иваник, Алекс Пройас',\n",
       " 'Бэзил Иваник, Дэвид Лейтч, Ева Лонгория',\n",
       " 'Бэзил Иваник, Тара Моросс, Грегори Уанон',\n",
       " 'Бэзил Иваник, Томас Тулл, Лайонел Уигрэм',\n",
       " 'Бэзил Иваник, Тэд Лакинбилл, Эрика Ли',\n",
       " 'Бэзил Иваник, Эрика Ли, Джоби Харольд',\n",
       " 'Бэйзил Айваник, Кевин Де Ля Ной',\n",
       " 'Бэйкер Бладуорф, Элтон Джон, Дэвид Ферниш',\n",
       " 'Бэн Брайан, Николас Шранк',\n",
       " 'Бэн Фалкоун, Джеффри Хайес, Брайан Хенсон, Мелисса Маккарти',\n",
       " 'Бэрри Мендел, Сэм Мерсер, М.Найт Шьямалан',\n",
       " 'В.Алисов, Г.Меркулов',\n",
       " 'В.Антонов, А.Литвинов',\n",
       " 'В.Арсеньев, С.Акопян, В.Огородников',\n",
       " 'В.Арцруни',\n",
       " 'В.Бажин',\n",
       " 'В.Бердочкин',\n",
       " 'В.Братухин, О.Суров, А.Барыкин',\n",
       " 'В.Брумберг, В.Сторожева',\n",
       " 'В.Брюс Кэмерон, Гэвин Полон',\n",
       " 'В.Быркин',\n",
       " 'В.Быркин, Г.Куценко, В.Шевц, Т.Куранова, Д.Земсков',\n",
       " 'В.Галкина',\n",
       " 'В.Гаман, Д.Волгин',\n",
       " 'В.Гассиев',\n",
       " 'В.Гассиев, Ф.Пролиг',\n",
       " 'В.Глухов',\n",
       " 'В.Глухов, А.Голутва',\n",
       " 'В.Глухов, В.Драганов',\n",
       " 'В.Горяинов, В.Тодоровский, Л.Лебедев',\n",
       " 'В.Горяинов, Л.Лебедев, В.Тодоровский',\n",
       " 'В.Гулуев',\n",
       " 'В.Денисюк, Е.Мелентьев',\n",
       " 'В.Добросоцкий',\n",
       " 'В.Дубровицкий',\n",
       " 'В.Еланчук',\n",
       " 'В.Елизаров',\n",
       " 'В.Елина',\n",
       " 'В.Есинов',\n",
       " 'В.Есинов, Е.Калинина',\n",
       " 'В.Есинов, Ю.Рязанов',\n",
       " 'В.Железников, С.Ершов, М.Литвак, Л.Литвак',\n",
       " 'В.Захаров',\n",
       " 'В.Зверев, М.Линьков',\n",
       " 'В.Извеков',\n",
       " 'В.Извеков, Р.Насибулин',\n",
       " 'В.Карданов, А.Бальчев',\n",
       " 'В.Карев',\n",
       " 'В.Козлов',\n",
       " 'В.Комаров',\n",
       " 'В.Коханович',\n",
       " 'В.Крейнин',\n",
       " 'В.Кречетова, А.Васильев',\n",
       " 'В.Кречетова, С.Осипьян, С.Штерн, Д.Горелик, П.Лунгин, Е.Панфилов',\n",
       " 'В.Кузнецов',\n",
       " 'В.Кузовлев, М.Кузовлева',\n",
       " 'В.Локтионов',\n",
       " 'В.Мадышев, Ф.Попов',\n",
       " 'В.Макарова',\n",
       " 'В.Максимов, В.Степанов, Г.Киракосян, О.Штром',\n",
       " 'В.Малышев, А.Малышев',\n",
       " 'В.Малышев, Ф.Попов',\n",
       " 'В.Малышев, Ю.Беленький',\n",
       " 'В.Мартенс',\n",
       " 'В.Маслов, В.Верещагин, Б.Анисимов',\n",
       " 'В.Меньшов, А.Литвинов',\n",
       " 'В.Микова',\n",
       " 'В.Михайлов',\n",
       " 'В.Михайлов, В.Павлов, М.Пореченков',\n",
       " 'В.Музыченков',\n",
       " 'В.Муругов, А.Зюнькин',\n",
       " 'В.Насыр, А.Бобин',\n",
       " 'В.Наумов ',\n",
       " 'В.Пельш, К.Козлова',\n",
       " 'В.Пендраковский',\n",
       " 'В.Петросянц',\n",
       " 'В.Поздняков',\n",
       " 'В.Поляков, В.Игнатьев, Р.Дишдишян',\n",
       " 'В.Поляков, Г.Андреасян, С.Андреасян',\n",
       " 'В.Поляков, Г.Малков',\n",
       " 'В.Поляков, Г.Малков, К.Ёлкин',\n",
       " 'В.Поляков, Г.Малков, К.Елкин',\n",
       " 'В.Поляков, Г.Малков, С.Андреасян,  Г.Андреасян',\n",
       " 'В.Поляков, И.Задорин',\n",
       " 'В.Приефер, К.Кристенсен, П.Добнер, К.Тамм, М.Минтро, Э.Домманж, Ж.-Э.Стейн, Ж.С.Берно, О.Эсмэн',\n",
       " 'В.Ровенский',\n",
       " 'В.Рощин, Ю.Коваленко',\n",
       " 'В.Рубан, А.Тельнов, А.Львович',\n",
       " 'В.Рудак, А.Бабенко',\n",
       " 'В.Савельева, В.Долгий-Рапопорт, Е.Устюгова, Д.Куповых, А.Шульев, А.Архипов',\n",
       " 'В.Северцев, Д.Литвинов',\n",
       " 'В.Северцев, Д.Литвинов, З.Болотаев',\n",
       " 'В.Сенина',\n",
       " 'В.Сидоренко',\n",
       " 'В.Соколов',\n",
       " 'В.Соколова',\n",
       " 'В.Сокологорский, Т.Цыварева, Н.Горшков',\n",
       " 'В.Сокологорский, Т.Цыварева, Н.Истимирова',\n",
       " 'В.Соловьев, Ю.Храпов, А.Пескова, Д.Рудовский, Ф.Бондарчук',\n",
       " 'В.Соловьев, Ю.Храпов, А.Пескова, Д.Тульчинский, С.Квашилава',\n",
       " 'В.Сорокин, В.Горошникова',\n",
       " 'В.Сотсков, С.Зернов',\n",
       " 'В.Сотстков, О.Кузовков, Д.Ловейко, А.Златопольский, С.Сельянов, А.Боярский, Т.Цыварева, В.Воля, Е.Головин, А.Сметанкин, Д.Тютьков',\n",
       " 'В.Тельнов',\n",
       " 'В.Тельнов, В.Шайдаков, Э.Пичугин, А.Котелевский',\n",
       " 'В.Тодоровский',\n",
       " 'В.Тодоровский, А.Златопольский',\n",
       " 'В.Тодоровский, С.Ливнев, С.Козлов, И.Толстунов',\n",
       " 'В.Трояновский',\n",
       " 'В.Угличин',\n",
       " 'В.Федоров',\n",
       " 'В.Федорович, Е.Никишов, И.Куликов, ООО \"1-2-3 Продакшн\"',\n",
       " 'В.Федорченко',\n",
       " 'В.Фекленко',\n",
       " 'В.Филиппов',\n",
       " 'В.Фишер, Г.Сарсенова, Б.Галимгиреев, С.Мелькумов, Е.Яцура, С.Сельянов и др.',\n",
       " 'В.Харьков',\n",
       " 'В.Харьков, А.Анненский, Л.Антонова, А.Миндадзе',\n",
       " 'В.Хижнякова',\n",
       " 'В.Хижнякова, И.Володина',\n",
       " 'В.Хинензон',\n",
       " 'В.Хотиненко, Д.Литвинов',\n",
       " 'В.Шевельков, М.Бебенина',\n",
       " 'ВГИК',\n",
       " 'ВГИК, П.Б.Фетисов',\n",
       " 'Валентин Васянович, Ия Мыслицкая, Елена Слабошпицкая',\n",
       " 'Валентин Гротерт, Саймон Хессе, Стефан Барт',\n",
       " 'Валери Буайе, Эрик Жюриан, Матиас Рубин',\n",
       " \"Валери д'Отей, Андре Руле\",\n",
       " \"Валери д'Отей, Николя Дюваль-Адассовски, Андре Руле\",\n",
       " 'Валерий Шерман, Кристоф Янкович',\n",
       " 'Вальдбюне Театр',\n",
       " 'Валькирия Барбоза, Джимена Бланко, Даниэль Бурман',\n",
       " 'Ван Вэй, Барби Тун, Ци Цзяньхун, Джонатан Шэнь',\n",
       " 'Ван Юньфэй',\n",
       " 'Ванесса Койфман, Джон Чэн, Суки Чю',\n",
       " 'Вассим Беджи, Глэдис Брукфилд-Хэмпсон, Фабрис Дельвиль',\n",
       " 'Вассим Беджи, Янник Боллоре, Жюльен Дери',\n",
       " 'Вассим Бежи',\n",
       " 'Вашу Бхагвани',\n",
       " 'Вей Юн Юн, Ван Джинг',\n",
       " 'Венг Жонг Лей',\n",
       " 'Венди Файнерман',\n",
       " 'Венди Файнерман, Джеймс Холлонд',\n",
       " 'Венди Файнерман, Стив Старки, Стив Тиш',\n",
       " 'Венсан Мараваль, Ален Сард, Брагим Шиуа',\n",
       " 'Венсан Мараваль, Тосио Судзуки, Исао Такахата',\n",
       " 'Венская государственная опера',\n",
       " 'Вероника Ботанелли',\n",
       " 'Вероника Ботанелли, Кристина Сарто',\n",
       " 'Вероника Брукс, Мейсон НОвик, Скотт Химэн',\n",
       " 'Вероника Кайла, Бенедикт Куврю, Реми Бура',\n",
       " 'Вероника Радаелли, Кевин Рэгсдэйл',\n",
       " 'Вибеке Винделев',\n",
       " 'Вибеке Винделов, Сиссе Граум Олсен',\n",
       " 'Вивьен Асланян, Ален Бенгиги, Томас Верхак',\n",
       " 'Вивьен Асланян, Ришар Гранпьер, Фредерик Донекуан',\n",
       " 'Вигар Бараный, Габор Райна, Габор Шипош',\n",
       " 'Вик Годфри, Питер Сафран',\n",
       " 'Вик Годфри, Стефани Майер, Карен Розенфельт',\n",
       " 'Вик Годфри, Эллен Голдсмит-Вейн, Ли Столлман',\n",
       " 'Викки Бетихавас, Стивен Карси, Стивен Маркс, Майкл Флэтли, Кит Хокинс',\n",
       " 'Викрам Батт, Арун Рангачари',\n",
       " 'Виктор Илюхин',\n",
       " 'Виктор Солодников, Арам Оганесян, Ара Оганесян',\n",
       " 'Вилли Гейке, Пол Мориц, Томас Циквер, Тиль Швайгер',\n",
       " 'Вилли Гейке, Поль Мауриц, Томас Циквер, Тиль Швайгер',\n",
       " 'Вильгельм Домке-Шульц, Александр Малькевич',\n",
       " 'Вим Вендерс',\n",
       " 'Вин Дизель, Джозеф Нитолло, Винсент Ньюман, Такер Тули',\n",
       " 'Вин Дизель, Майкл Фоттрел ',\n",
       " 'Вин Дизель, Нил Х.Мориц, Клэйтон Таунсенд',\n",
       " 'Вин Дизель, Нил Х.Мориц, Майкл Фоттрел',\n",
       " 'Вин Дизель, Нил Х.Мориц, Майкл Фоттрелл',\n",
       " 'Вин Дизель, Тед Филд, Саманта Винсент',\n",
       " 'Винс Вон, Скотт Стьюбер',\n",
       " 'Винс Вон, Шон Леви, Дэниэл С.Ливайн',\n",
       " 'Винс Джоливентт, Марни Зельник, Джефф Каллигери',\n",
       " 'Винсент Витторио, Ливия Джуджолли, Майкл Росс, Люси Сигл, Крис Харви',\n",
       " 'Винсент Ньман, Такер Тули',\n",
       " 'Винсент Чжоу',\n",
       " 'Винченцо Натали, Марк Смит, Стивен Хобан',\n",
       " 'Вирджиния Силла',\n",
       " 'Виржини Силла, Люк Бессон, Пьер Спенглер',\n",
       " 'Виржини Силла, Марк Шмугер',\n",
       " 'Витторио Чекки Гори, Марио Чекки Гори',\n",
       " 'Вичиен Нак-Интанон, Сирават Нак-Интанон, Киаткамон Ямфунгпорн, Киаттикул Ямфунгпорн ',\n",
       " 'Владимир Анастасов, Срджан Драгоевич',\n",
       " 'Владислав Плахута, Роман Разум, Дмитрий Шевченко',\n",
       " 'Вольфганг Бер, Дитмар Гюнче, Пиппа Кросс',\n",
       " 'Вольфганг Браун, Андре Хеннике, Тиль Швайгер',\n",
       " 'Вольфганг Петерсен, Данкан Хендерсон',\n",
       " 'Вольфганг Петерсон, Дайана Рэтбен, Колин Уилсон',\n",
       " 'Вонг Кар Вай, Джеки Пэнг, Йе-Ченг Чан',\n",
       " 'Ву Бинг, Ксяо Венджь, Джон МакМуррик',\n",
       " 'Ву Янронг',\n",
       " 'Вэл Абель, Майкл Манассери, Уолтер С.Холл',\n",
       " 'Вэрриорз Дэнс Фестиваль',\n",
       " 'Г.Андреасян, С.Андреасян, В.Поляков',\n",
       " 'Г.Ашрапова, Д.Рубежин, С.Безруков, Л.Пятницкая',\n",
       " 'Г.Бардин',\n",
       " 'Г.Белинская',\n",
       " 'Г.Вагина',\n",
       " 'Г.Васильев',\n",
       " 'Г.Васильев,  М.Мэннис, И.Попов, А.Златопольский, С.Сельянов, А.Боярский, В.Сотсков, Т.Цыварёва, В.Воля, Е.Головин, А.Сметанкин, А.Полетаева',\n",
       " 'Г.Васильев, И.Попов, М.Мэннис, Т.Цыварева, В.Воля, Е.Головин, А.Сметанкин и др.',\n",
       " 'Г.Васильев, И.Попов, М.Мэннис, Т.Цыварева, В.Воля, и др.',\n",
       " 'Г.Васильев, М.Мэннис, И.Попов',\n",
       " 'Г.Васильев, С.Саркисов, И.Попов',\n",
       " 'Г.Геворкян, В.Лупик, А.Манасарян',\n",
       " 'Г.Григорьева',\n",
       " 'Г.Добрыгин',\n",
       " 'Г.Евтушенко',\n",
       " 'Г.Игнатов',\n",
       " 'Г.Калинина',\n",
       " 'Г.Малков',\n",
       " 'Г.Малков, В.Поляков',\n",
       " 'Г.Малков, В.Поляков, Г.Андреасян, С.Андреасян',\n",
       " 'Г.Малков, В.Поляков, Д.Махорт',\n",
       " 'Г.Малков, В.Поляков, Е.замалиев, А.Кузьминов, Ж.Бадмацыренов, Г.Шабанов, Э.Илоян',\n",
       " 'Г.Малков, В.Поляков, И.Капитонов, В.Муругов',\n",
       " 'Г.Малков, В.Поляков, Л.Карасев, А.Войтинский',\n",
       " 'Г.Малков, В.Поляков, М.Кучмент',\n",
       " 'Г.Малков, В.Поляков, С.Агеев, О.Агеева',\n",
       " 'Г.Малков, С.Андреасян, Г.Андреасян, В.Поляков',\n",
       " 'Г.Мартиросян, А.Бурносов',\n",
       " 'Г.Махмутова',\n",
       " 'Г.Нерсисян',\n",
       " ...]"
      ]
     },
     "execution_count": 700,
     "metadata": {},
     "output_type": "execute_result"
    }
   ],
   "source": [
    "df['producer'].sort_values().unique().tolist()"
   ]
  },
  {
   "cell_type": "code",
   "execution_count": 701,
   "metadata": {},
   "outputs": [
    {
     "data": {
      "text/plain": [
       "['«0+» - для любой зрительской аудитории',\n",
       " '«12+» - для детей старше 12 лет',\n",
       " '«16+» - для детей старше 16 лет',\n",
       " '«18+» - запрещено для детей',\n",
       " '«6+» - для детей старше 6 лет']"
      ]
     },
     "execution_count": 701,
     "metadata": {},
     "output_type": "execute_result"
    }
   ],
   "source": [
    "df['age_restriction'].sort_values().unique().tolist()"
   ]
  },
  {
   "cell_type": "code",
   "execution_count": 702,
   "metadata": {},
   "outputs": [
    {
     "data": {
      "text/plain": [
       "['аниме,мультфильм',\n",
       " 'аниме,мультфильм,боевик',\n",
       " 'аниме,мультфильм,детектив',\n",
       " 'аниме,мультфильм,драма',\n",
       " 'аниме,мультфильм,комедия',\n",
       " 'аниме,мультфильм,короткометражка',\n",
       " 'аниме,мультфильм,мелодрама',\n",
       " 'аниме,мультфильм,приключения',\n",
       " 'аниме,мультфильм,ужасы',\n",
       " 'аниме,мультфильм,фантастика',\n",
       " 'аниме,мультфильм,фэнтези',\n",
       " 'биография',\n",
       " 'биография,военный,драма',\n",
       " 'биография,документальный',\n",
       " 'биография,драма',\n",
       " 'биография,драма,военный',\n",
       " 'биография,драма,история',\n",
       " 'биография,драма,криминал',\n",
       " 'биография,история',\n",
       " 'биография,история,драма',\n",
       " 'биография,криминал,драма',\n",
       " 'биография,криминал,триллер',\n",
       " 'биография,мелодрама,драма',\n",
       " 'биография,музыка,драма',\n",
       " 'биография,музыка,мюзикл',\n",
       " 'биография,спорт,драма',\n",
       " 'биография,спорт,история',\n",
       " 'биография,спорт,комедия',\n",
       " 'боевик',\n",
       " 'боевик,вестерн,приключения',\n",
       " 'боевик,военный',\n",
       " 'боевик,военный,драма',\n",
       " 'боевик,военный,история',\n",
       " 'боевик,детектив',\n",
       " 'боевик,драма',\n",
       " 'боевик,драма,биография',\n",
       " 'боевик,драма,вестерн',\n",
       " 'боевик,драма,военный',\n",
       " 'боевик,драма,история',\n",
       " 'боевик,драма,комедия',\n",
       " 'боевик,драма,криминал',\n",
       " 'боевик,драма,мелодрама',\n",
       " 'боевик,драма,приключения',\n",
       " 'боевик,драма,триллер',\n",
       " 'боевик,история',\n",
       " 'боевик,история,драма',\n",
       " 'боевик,комедия',\n",
       " 'боевик,комедия,криминал',\n",
       " 'боевик,комедия,приключения',\n",
       " 'боевик,комедия,семейный',\n",
       " 'боевик,криминал',\n",
       " 'боевик,криминал,детектив',\n",
       " 'боевик,криминал,драма',\n",
       " 'боевик,криминал,триллер',\n",
       " 'боевик,мелодрама',\n",
       " 'боевик,мелодрама,комедия',\n",
       " 'боевик,приключения',\n",
       " 'боевик,приключения,детектив',\n",
       " 'боевик,приключения,история',\n",
       " 'боевик,приключения,семейный',\n",
       " 'боевик,приключения,триллер',\n",
       " 'боевик,спорт,драма',\n",
       " 'боевик,триллер',\n",
       " 'боевик,триллер,детектив',\n",
       " 'боевик,триллер,драма',\n",
       " 'боевик,триллер,комедия',\n",
       " 'боевик,триллер,криминал',\n",
       " 'боевик,триллер,мелодрама',\n",
       " 'боевик,триллер,приключения',\n",
       " 'боевик,триллер,фэнтези',\n",
       " 'боевик,фантастика',\n",
       " 'боевик,фантастика,приключения',\n",
       " 'боевик,фантастика,триллер',\n",
       " 'боевик,фэнтези',\n",
       " 'боевик,фэнтези,драма',\n",
       " 'вестерн,биография,драма',\n",
       " 'вестерн,боевик,драма',\n",
       " 'вестерн,драма,триллер',\n",
       " 'вестерн,криминал,триллер',\n",
       " 'вестерн,приключения,боевик',\n",
       " 'военный',\n",
       " 'военный,биография,драма',\n",
       " 'военный,боевик,драма',\n",
       " 'военный,боевик,история',\n",
       " 'военный,детектив',\n",
       " 'военный,драма',\n",
       " 'военный,драма,боевик',\n",
       " 'военный,драма,история',\n",
       " 'военный,драма,комедия',\n",
       " 'военный,история',\n",
       " 'военный,история,драма',\n",
       " 'военный,приключения,драма',\n",
       " 'детектив',\n",
       " 'детектив,боевик,история',\n",
       " 'детектив,драма,криминал',\n",
       " 'детектив,драма,триллер',\n",
       " 'детектив,история,драма',\n",
       " 'детектив,комедия',\n",
       " 'детектив,комедия,драма',\n",
       " 'детектив,криминал',\n",
       " 'детектив,криминал,боевик',\n",
       " 'детектив,криминал,драма',\n",
       " 'детектив,криминал,триллер',\n",
       " 'детектив,мелодрама',\n",
       " 'детектив,мелодрама,фэнтези',\n",
       " 'детектив,приключения,драма',\n",
       " 'детектив,приключения,триллер',\n",
       " 'детектив,триллер',\n",
       " 'детектив,триллер,боевик',\n",
       " 'детектив,триллер,драма',\n",
       " 'детектив,триллер,криминал',\n",
       " 'детектив,триллер,ужасы',\n",
       " 'детектив,ужасы,криминал',\n",
       " 'детектив,фантастика,криминал',\n",
       " 'детектив,фантастика,триллер',\n",
       " 'детектив,фильм-нуар,комедия',\n",
       " 'детектив,фэнтези,триллер',\n",
       " 'детский',\n",
       " 'детский,комедия',\n",
       " 'детский,мелодрама,семейный',\n",
       " 'детский,мультфильм,приключения',\n",
       " 'детский,приключения,комедия',\n",
       " 'детский,приключения,семейный',\n",
       " 'детский,приключения,фантастика',\n",
       " 'детский,семейный',\n",
       " 'детский,фэнтези',\n",
       " 'детский,фэнтези,приключения',\n",
       " 'для взрослых,драма,комедия',\n",
       " 'для взрослых,драма,мелодрама',\n",
       " 'документальный',\n",
       " 'документальный,биография',\n",
       " 'документальный,биография,история',\n",
       " 'документальный,биография,музыка',\n",
       " 'документальный,биография,спорт',\n",
       " 'документальный,боевик,приключения',\n",
       " 'документальный,военный,драма',\n",
       " 'документальный,военный,история',\n",
       " 'документальный,драма',\n",
       " 'документальный,драма,биография',\n",
       " 'документальный,драма,история',\n",
       " 'документальный,драма,комедия',\n",
       " 'документальный,драма,музыка',\n",
       " 'документальный,драма,семейный',\n",
       " 'документальный,история',\n",
       " 'документальный,комедия',\n",
       " 'документальный,комедия,история',\n",
       " 'документальный,комедия,криминал',\n",
       " 'документальный,короткометражка',\n",
       " 'документальный,короткометражка,семейный',\n",
       " 'документальный,криминал,военный',\n",
       " 'документальный,музыка',\n",
       " 'документальный,музыка,биография',\n",
       " 'документальный,музыка,концерт',\n",
       " 'документальный,мюзикл',\n",
       " 'документальный,новости,драма',\n",
       " 'документальный,приключения',\n",
       " 'документальный,приключения,семейный',\n",
       " 'документальный,семейный',\n",
       " 'документальный,семейный,музыка',\n",
       " 'документальный,спорт',\n",
       " 'документальный,спорт,биография',\n",
       " 'документальный,триллер,биография',\n",
       " 'документальный,ужасы',\n",
       " 'документальный,ужасы,боевик',\n",
       " 'документальный,фантастика',\n",
       " 'документальный,фэнтези',\n",
       " 'документальный,фэнтези,драма',\n",
       " 'документальный,фэнтези,семейный',\n",
       " 'драма',\n",
       " 'драма,биография',\n",
       " 'драма,биография,история',\n",
       " 'драма,биография,комедия',\n",
       " 'драма,биография,музыка',\n",
       " 'драма,биография,мюзикл',\n",
       " 'драма,биография,спорт',\n",
       " 'драма,боевик',\n",
       " 'драма,боевик,история',\n",
       " 'драма,боевик,криминал',\n",
       " 'драма,боевик,приключения',\n",
       " 'драма,вестерн',\n",
       " 'драма,вестерн,боевик',\n",
       " 'драма,вестерн,приключения',\n",
       " 'драма,военный',\n",
       " 'драма,военный,биография',\n",
       " 'драма,военный,боевик',\n",
       " 'драма,военный,история',\n",
       " 'драма,военный,приключения',\n",
       " 'драма,военный,триллер',\n",
       " 'драма,детектив',\n",
       " 'драма,детектив,история',\n",
       " 'драма,детектив,криминал',\n",
       " 'драма,детектив,приключения',\n",
       " 'драма,история',\n",
       " 'драма,история,биография',\n",
       " 'драма,история,военный',\n",
       " 'драма,история,детектив',\n",
       " 'драма,история,музыка',\n",
       " 'драма,история,триллер',\n",
       " 'драма,комедия',\n",
       " 'драма,комедия,биография',\n",
       " 'драма,комедия,вестерн',\n",
       " 'драма,комедия,военный',\n",
       " 'драма,комедия,детектив',\n",
       " 'драма,комедия,история',\n",
       " 'драма,комедия,криминал',\n",
       " 'драма,комедия,мелодрама',\n",
       " 'драма,комедия,музыка',\n",
       " 'драма,комедия,мультфильм',\n",
       " 'драма,комедия,приключения',\n",
       " 'драма,комедия,семейный',\n",
       " 'драма,комедия,спорт',\n",
       " 'драма,комедия,триллер',\n",
       " 'драма,комедия,ужасы',\n",
       " 'драма,комедия,фантастика',\n",
       " 'драма,криминал',\n",
       " 'драма,криминал,биография',\n",
       " 'драма,криминал,боевик',\n",
       " 'драма,криминал,вестерн',\n",
       " 'драма,криминал,детектив',\n",
       " 'драма,криминал,история',\n",
       " 'драма,криминал,приключения',\n",
       " 'драма,криминал,семейный',\n",
       " 'драма,криминал,спорт',\n",
       " 'драма,криминал,фантастика',\n",
       " 'драма,криминал,фильм-нуар',\n",
       " 'драма,мелодрама',\n",
       " 'драма,мелодрама,биография',\n",
       " 'драма,мелодрама,военный',\n",
       " 'драма,мелодрама,детектив',\n",
       " 'драма,мелодрама,история',\n",
       " 'драма,мелодрама,комедия',\n",
       " 'драма,мелодрама,криминал',\n",
       " 'драма,мелодрама,музыка',\n",
       " 'драма,мелодрама,приключения',\n",
       " 'драма,мелодрама,семейный',\n",
       " 'драма,мелодрама,триллер',\n",
       " 'драма,мелодрама,фэнтези',\n",
       " 'драма,музыка',\n",
       " 'драма,мультфильм',\n",
       " 'драма,приключения',\n",
       " 'драма,приключения,биография',\n",
       " 'драма,приключения,военный',\n",
       " 'драма,приключения,история',\n",
       " 'драма,приключения,мелодрама',\n",
       " 'драма,приключения,семейный',\n",
       " 'драма,приключения,триллер',\n",
       " 'драма,приключения,фэнтези',\n",
       " 'драма,семейный',\n",
       " 'драма,семейный,биография',\n",
       " 'драма,семейный,комедия',\n",
       " 'драма,спорт',\n",
       " 'драма,спорт,биография',\n",
       " 'драма,спорт,боевик',\n",
       " 'драма,спорт,история',\n",
       " 'драма,спорт,комедия',\n",
       " 'драма,спорт,семейный',\n",
       " 'драма,триллер',\n",
       " 'драма,триллер,биография',\n",
       " 'драма,триллер,детектив',\n",
       " 'драма,триллер,криминал',\n",
       " 'драма,триллер,приключения',\n",
       " 'драма,ужасы',\n",
       " 'драма,фантастика',\n",
       " 'драма,фантастика,триллер',\n",
       " 'драма,фантастика,ужасы',\n",
       " 'драма,фэнтези',\n",
       " 'драма,фэнтези,история',\n",
       " 'история',\n",
       " 'история,биография,военный',\n",
       " 'история,биография,драма',\n",
       " 'история,боевик,фэнтези',\n",
       " 'история,детектив',\n",
       " 'история,драма',\n",
       " 'история,драма,боевик',\n",
       " 'история,драма,мелодрама',\n",
       " 'история,криминал',\n",
       " 'история,мелодрама',\n",
       " 'история,приключения',\n",
       " 'история,спорт,драма',\n",
       " 'комедия',\n",
       " 'комедия,биография',\n",
       " 'комедия,биография,история',\n",
       " 'комедия,боевик,криминал',\n",
       " 'комедия,боевик,приключения',\n",
       " 'комедия,боевик,фантастика',\n",
       " 'комедия,вестерн',\n",
       " 'комедия,военный',\n",
       " 'комедия,военный,музыка',\n",
       " 'комедия,детектив',\n",
       " 'комедия,детектив,приключения',\n",
       " 'комедия,драма',\n",
       " 'комедия,драма,биография',\n",
       " 'комедия,драма,военный',\n",
       " 'комедия,драма,короткометражка',\n",
       " 'комедия,драма,криминал',\n",
       " 'комедия,драма,мелодрама',\n",
       " 'комедия,драма,семейный',\n",
       " 'комедия,история',\n",
       " 'комедия,история,драма',\n",
       " 'комедия,криминал',\n",
       " 'комедия,криминал,биография',\n",
       " 'комедия,криминал,боевик',\n",
       " 'комедия,криминал,детектив',\n",
       " 'комедия,криминал,драма',\n",
       " 'комедия,криминал,история',\n",
       " 'комедия,криминал,приключения',\n",
       " 'комедия,криминал,семейный',\n",
       " 'комедия,криминал,спорт',\n",
       " 'комедия,криминал,триллер',\n",
       " 'комедия,мелодрама',\n",
       " 'комедия,мелодрама,драма',\n",
       " 'комедия,мелодрама,криминал',\n",
       " 'комедия,мелодрама,фантастика',\n",
       " 'комедия,мелодрама,фэнтези',\n",
       " 'комедия,музыка',\n",
       " 'комедия,музыка,драма',\n",
       " 'комедия,мультфильм,фантастика',\n",
       " 'комедия,приключения',\n",
       " 'комедия,приключения,вестерн',\n",
       " 'комедия,приключения,детектив',\n",
       " 'комедия,приключения,история',\n",
       " 'комедия,приключения,криминал',\n",
       " 'комедия,приключения,мелодрама',\n",
       " 'комедия,приключения,музыка',\n",
       " 'комедия,приключения,семейный',\n",
       " 'комедия,приключения,спорт',\n",
       " 'комедия,приключения,фэнтези',\n",
       " 'комедия,семейный',\n",
       " 'комедия,семейный,музыка',\n",
       " 'комедия,семейный,приключения',\n",
       " 'комедия,семейный,фантастика',\n",
       " 'комедия,семейный,фэнтези',\n",
       " 'комедия,спорт',\n",
       " 'комедия,триллер',\n",
       " 'комедия,триллер,драма',\n",
       " 'комедия,ужасы',\n",
       " 'комедия,фантастика',\n",
       " 'комедия,фантастика,боевик',\n",
       " 'комедия,фантастика,мелодрама',\n",
       " 'комедия,фэнтези',\n",
       " 'комедия,фэнтези,криминал',\n",
       " 'комедия,фэнтези,мелодрама',\n",
       " 'комедия,фэнтези,приключения',\n",
       " 'комедия,фэнтези,ужасы',\n",
       " 'концерт,музыка',\n",
       " 'концерт,музыка,документальный',\n",
       " 'короткометражка',\n",
       " 'короткометражка,биография',\n",
       " 'короткометражка,боевик,драма',\n",
       " 'короткометражка,драма',\n",
       " 'короткометражка,драма,военный',\n",
       " 'короткометражка,драма,триллер',\n",
       " 'короткометражка,комедия,криминал',\n",
       " 'короткометражка,мелодрама',\n",
       " 'короткометражка,музыка',\n",
       " 'короткометражка,мультфильм',\n",
       " 'короткометражка,фантастика',\n",
       " 'криминал',\n",
       " 'криминал,биография,комедия',\n",
       " 'криминал,боевик',\n",
       " 'криминал,боевик,комедия',\n",
       " 'криминал,боевик,триллер',\n",
       " 'криминал,детектив',\n",
       " 'криминал,детектив,приключения',\n",
       " 'криминал,драма',\n",
       " 'криминал,драма,комедия',\n",
       " 'криминал,драма,триллер',\n",
       " 'криминал,комедия',\n",
       " 'криминал,комедия,боевик',\n",
       " 'криминал,комедия,драма',\n",
       " 'криминал,комедия,триллер',\n",
       " 'криминал,мелодрама',\n",
       " 'криминал,триллер,драма',\n",
       " 'мелодрама',\n",
       " 'мелодрама,биография',\n",
       " 'мелодрама,военный,драма',\n",
       " 'мелодрама,детектив',\n",
       " 'мелодрама,детектив,комедия',\n",
       " 'мелодрама,драма',\n",
       " 'мелодрама,драма,боевик',\n",
       " 'мелодрама,драма,комедия',\n",
       " 'мелодрама,драма,музыка',\n",
       " 'мелодрама,драма,фэнтези',\n",
       " 'мелодрама,история',\n",
       " 'мелодрама,история,драма',\n",
       " 'мелодрама,история,триллер',\n",
       " 'мелодрама,комедия',\n",
       " 'мелодрама,комедия,драма',\n",
       " 'мелодрама,комедия,криминал',\n",
       " 'мелодрама,комедия,музыка',\n",
       " 'мелодрама,комедия,приключения',\n",
       " 'мелодрама,комедия,семейный',\n",
       " 'мелодрама,комедия,спорт',\n",
       " 'мелодрама,комедия,триллер',\n",
       " 'мелодрама,комедия,ужасы',\n",
       " 'мелодрама,криминал',\n",
       " 'мелодрама,музыка',\n",
       " 'мелодрама,музыка,драма',\n",
       " 'мелодрама,приключения',\n",
       " 'мелодрама,приключения,боевик',\n",
       " 'мелодрама,семейный',\n",
       " 'мелодрама,семейный,приключения',\n",
       " 'мелодрама,триллер,история',\n",
       " 'мелодрама,фантастика,драма',\n",
       " 'мелодрама,фэнтези,триллер',\n",
       " 'музыка,концерт',\n",
       " 'музыка,концерт,документальный',\n",
       " 'музыка,мелодрама,фэнтези',\n",
       " 'музыка,приключения,концерт',\n",
       " 'мультфильм',\n",
       " 'мультфильм,биография,драма',\n",
       " 'мультфильм,боевик,детектив',\n",
       " 'мультфильм,боевик,комедия',\n",
       " 'мультфильм,боевик,приключения',\n",
       " 'мультфильм,боевик,триллер',\n",
       " 'мультфильм,детский',\n",
       " 'мультфильм,детский,комедия',\n",
       " 'мультфильм,детский,приключения',\n",
       " 'мультфильм,детский,семейный',\n",
       " 'мультфильм,драма',\n",
       " 'мультфильм,драма,комедия',\n",
       " 'мультфильм,драма,приключения',\n",
       " 'мультфильм,история',\n",
       " 'мультфильм,комедия',\n",
       " 'мультфильм,комедия,детский',\n",
       " 'мультфильм,комедия,криминал',\n",
       " 'мультфильм,комедия,приключения',\n",
       " 'мультфильм,комедия,семейный',\n",
       " 'мультфильм,комедия,фантастика',\n",
       " 'мультфильм,короткометражка',\n",
       " 'мультфильм,короткометражка,детский',\n",
       " 'мультфильм,короткометражка,комедия',\n",
       " 'мультфильм,короткометражка,мелодрама',\n",
       " 'мультфильм,короткометражка,мюзикл',\n",
       " 'мультфильм,короткометражка,ужасы',\n",
       " 'мультфильм,короткометражка,фэнтези',\n",
       " 'мультфильм,мелодрама,драма',\n",
       " 'мультфильм,мелодрама,комедия',\n",
       " 'мультфильм,мелодрама,приключения',\n",
       " 'мультфильм,мюзикл,детский',\n",
       " 'мультфильм,мюзикл,драма',\n",
       " 'мультфильм,мюзикл,комедия',\n",
       " 'мультфильм,мюзикл,мелодрама',\n",
       " 'мультфильм,мюзикл,фэнтези',\n",
       " 'мультфильм,приключения',\n",
       " 'мультфильм,приключения,военный',\n",
       " 'мультфильм,приключения,детектив',\n",
       " 'мультфильм,приключения,детский',\n",
       " 'мультфильм,приключения,драма',\n",
       " 'мультфильм,приключения,комедия',\n",
       " 'мультфильм,приключения,семейный',\n",
       " 'мультфильм,приключения,фантастика',\n",
       " 'мультфильм,приключения,фэнтези',\n",
       " 'мультфильм,семейный',\n",
       " 'мультфильм,семейный,детский',\n",
       " 'мультфильм,семейный,драма',\n",
       " 'мультфильм,семейный,комедия',\n",
       " 'мультфильм,семейный,спорт',\n",
       " 'мультфильм,семейный,фэнтези',\n",
       " 'мультфильм,ужасы,комедия',\n",
       " 'мультфильм,ужасы,фантастика',\n",
       " 'мультфильм,ужасы,фэнтези',\n",
       " 'мультфильм,фантастика,боевик',\n",
       " 'мультфильм,фантастика,комедия',\n",
       " 'мультфильм,фантастика,приключения',\n",
       " 'мультфильм,фантастика,фэнтези',\n",
       " 'мультфильм,фэнтези',\n",
       " 'мультфильм,фэнтези,боевик',\n",
       " 'мультфильм,фэнтези,детский',\n",
       " 'мультфильм,фэнтези,драма',\n",
       " 'мультфильм,фэнтези,история',\n",
       " 'мультфильм,фэнтези,комедия',\n",
       " 'мультфильм,фэнтези,мелодрама',\n",
       " 'мультфильм,фэнтези,приключения',\n",
       " 'мультфильм,фэнтези,семейный',\n",
       " 'мультфильм,фэнтези,триллер',\n",
       " 'мюзикл',\n",
       " 'мюзикл,боевик,драма',\n",
       " 'мюзикл,драма',\n",
       " 'мюзикл,драма,мелодрама',\n",
       " 'мюзикл,комедия',\n",
       " 'мюзикл,комедия,детский',\n",
       " 'мюзикл,комедия,мелодрама',\n",
       " 'мюзикл,комедия,музыка',\n",
       " 'мюзикл,комедия,приключения',\n",
       " 'мюзикл,мелодрама',\n",
       " 'мюзикл,мелодрама,комедия',\n",
       " 'мюзикл,мелодрама,фэнтези',\n",
       " 'мюзикл,семейный',\n",
       " 'мюзикл,семейный,драма',\n",
       " 'мюзикл,ужасы,триллер',\n",
       " 'мюзикл,фэнтези,драма',\n",
       " 'мюзикл,фэнтези,комедия',\n",
       " 'мюзикл,фэнтези,мелодрама',\n",
       " 'мюзикл,фэнтези,семейный',\n",
       " 'приключения',\n",
       " 'приключения,биография,драма',\n",
       " 'приключения,биография,история',\n",
       " 'приключения,боевик',\n",
       " 'приключения,боевик,триллер',\n",
       " 'приключения,вестерн,боевик',\n",
       " 'приключения,военный',\n",
       " 'приключения,детектив,мелодрама',\n",
       " 'приключения,детектив,семейный',\n",
       " 'приключения,детский',\n",
       " 'приключения,детский,комедия',\n",
       " 'приключения,драма',\n",
       " 'приключения,драма,фантастика',\n",
       " 'приключения,история',\n",
       " 'приключения,история,военный',\n",
       " 'приключения,история,драма',\n",
       " 'приключения,комедия,фэнтези',\n",
       " 'приключения,мелодрама,детектив',\n",
       " 'приключения,семейный',\n",
       " 'приключения,семейный,драма',\n",
       " 'приключения,триллер',\n",
       " 'приключения,триллер,биография',\n",
       " 'приключения,фантастика',\n",
       " 'приключения,фантастика,драма',\n",
       " 'приключения,фантастика,семейный',\n",
       " 'приключения,фэнтези',\n",
       " 'приключения,фэнтези,семейный',\n",
       " 'реальное ТВ',\n",
       " 'семейный',\n",
       " 'семейный,детектив,детский',\n",
       " 'семейный,документальный',\n",
       " 'семейный,комедия',\n",
       " 'семейный,комедия,драма',\n",
       " 'семейный,комедия,музыка',\n",
       " 'семейный,мелодрама',\n",
       " 'семейный,мультфильм,комедия',\n",
       " 'семейный,приключения',\n",
       " 'семейный,приключения,военный',\n",
       " 'семейный,приключения,документальный',\n",
       " 'семейный,приключения,комедия',\n",
       " 'семейный,спорт,боевик',\n",
       " 'семейный,фэнтези',\n",
       " 'семейный,фэнтези,комедия',\n",
       " 'спорт,драма',\n",
       " 'спорт,драма,биография',\n",
       " 'спорт,драма,комедия',\n",
       " 'спорт,мелодрама,криминал',\n",
       " 'триллер',\n",
       " 'триллер,биография,драма',\n",
       " 'триллер,боевик',\n",
       " 'триллер,боевик,криминал',\n",
       " 'триллер,боевик,приключения',\n",
       " 'триллер,военный',\n",
       " 'триллер,детектив',\n",
       " 'триллер,детектив,драма',\n",
       " 'триллер,детектив,криминал',\n",
       " 'триллер,детектив,ужасы',\n",
       " 'триллер,драма',\n",
       " 'триллер,драма,биография',\n",
       " 'триллер,драма,боевик',\n",
       " 'триллер,драма,военный',\n",
       " 'триллер,драма,детектив',\n",
       " 'триллер,драма,история',\n",
       " 'триллер,драма,комедия',\n",
       " 'триллер,драма,криминал',\n",
       " 'триллер,драма,мелодрама',\n",
       " 'триллер,драма,приключения',\n",
       " 'триллер,драма,ужасы',\n",
       " 'триллер,драма,фантастика',\n",
       " 'триллер,комедия',\n",
       " 'триллер,комедия,криминал',\n",
       " 'триллер,комедия,ужасы',\n",
       " 'триллер,криминал',\n",
       " 'триллер,криминал,боевик',\n",
       " 'триллер,криминал,детектив',\n",
       " 'триллер,криминал,драма',\n",
       " 'триллер,криминал,комедия',\n",
       " 'триллер,криминал,приключения',\n",
       " 'триллер,мелодрама',\n",
       " 'триллер,мелодрама,детектив',\n",
       " 'триллер,мелодрама,драма',\n",
       " 'триллер,мелодрама,комедия',\n",
       " 'триллер,мелодрама,криминал',\n",
       " 'триллер,приключения',\n",
       " 'триллер,приключения,драма',\n",
       " 'триллер,ужасы',\n",
       " 'триллер,ужасы,детектив',\n",
       " 'триллер,ужасы,драма',\n",
       " 'триллер,ужасы,криминал',\n",
       " 'триллер,ужасы,мелодрама',\n",
       " 'триллер,фантастика,боевик',\n",
       " 'триллер,фантастика,драма',\n",
       " 'триллер,фэнтези',\n",
       " 'триллер,фэнтези,драма',\n",
       " 'ужасы',\n",
       " 'ужасы,боевик',\n",
       " 'ужасы,боевик,комедия',\n",
       " 'ужасы,боевик,криминал',\n",
       " 'ужасы,боевик,триллер',\n",
       " 'ужасы,боевик,фантастика',\n",
       " 'ужасы,боевик,фэнтези',\n",
       " 'ужасы,детектив',\n",
       " 'ужасы,драма',\n",
       " 'ужасы,драма,вестерн',\n",
       " 'ужасы,драма,военный',\n",
       " 'ужасы,драма,детектив',\n",
       " 'ужасы,драма,комедия',\n",
       " 'ужасы,драма,мелодрама',\n",
       " 'ужасы,драма,триллер',\n",
       " 'ужасы,комедия',\n",
       " 'ужасы,комедия,боевик',\n",
       " 'ужасы,комедия,детектив',\n",
       " 'ужасы,комедия,драма',\n",
       " 'ужасы,комедия,криминал',\n",
       " 'ужасы,комедия,музыка',\n",
       " 'ужасы,комедия,приключения',\n",
       " 'ужасы,комедия,семейный',\n",
       " 'ужасы,комедия,фантастика',\n",
       " 'ужасы,комедия,фэнтези',\n",
       " 'ужасы,мелодрама,детектив',\n",
       " 'ужасы,мелодрама,комедия',\n",
       " 'ужасы,приключения',\n",
       " 'ужасы,триллер',\n",
       " 'ужасы,триллер,детектив',\n",
       " 'ужасы,триллер,драма',\n",
       " 'ужасы,триллер,комедия',\n",
       " 'ужасы,триллер,криминал',\n",
       " 'ужасы,триллер,мелодрама',\n",
       " 'ужасы,триллер,приключения',\n",
       " 'ужасы,триллер,фантастика',\n",
       " 'ужасы,фантастика',\n",
       " 'ужасы,фантастика,боевик',\n",
       " 'ужасы,фантастика,детектив',\n",
       " 'ужасы,фантастика,драма',\n",
       " 'ужасы,фантастика,комедия',\n",
       " 'ужасы,фантастика,мелодрама',\n",
       " 'ужасы,фантастика,триллер',\n",
       " 'ужасы,фантастика,фэнтези',\n",
       " 'ужасы,фэнтези',\n",
       " 'ужасы,фэнтези,боевик',\n",
       " 'ужасы,фэнтези,детектив',\n",
       " 'ужасы,фэнтези,драма',\n",
       " 'ужасы,фэнтези,комедия',\n",
       " 'ужасы,фэнтези,мелодрама',\n",
       " 'ужасы,фэнтези,приключения',\n",
       " 'ужасы,фэнтези,триллер',\n",
       " 'фантастика',\n",
       " 'фантастика,боевик',\n",
       " 'фантастика,боевик,военный',\n",
       " 'фантастика,боевик,детектив',\n",
       " 'фантастика,боевик,драма',\n",
       " 'фантастика,боевик,комедия',\n",
       " 'фантастика,боевик,криминал',\n",
       " 'фантастика,боевик,мелодрама',\n",
       " 'фантастика,боевик,приключения',\n",
       " 'фантастика,боевик,семейный',\n",
       " 'фантастика,боевик,триллер',\n",
       " 'фантастика,боевик,ужасы',\n",
       " 'фантастика,боевик,фэнтези',\n",
       " 'фантастика,детектив,боевик',\n",
       " 'фантастика,детектив,фэнтези',\n",
       " 'фантастика,драма',\n",
       " 'фантастика,драма,боевик',\n",
       " 'фантастика,драма,детектив',\n",
       " 'фантастика,драма,комедия',\n",
       " 'фантастика,драма,криминал',\n",
       " 'фантастика,драма,мелодрама',\n",
       " 'фантастика,драма,приключения',\n",
       " 'фантастика,драма,триллер',\n",
       " 'фантастика,драма,ужасы',\n",
       " 'фантастика,комедия',\n",
       " 'фантастика,комедия,боевик',\n",
       " 'фантастика,комедия,детектив',\n",
       " 'фантастика,комедия,приключения',\n",
       " 'фантастика,комедия,семейный',\n",
       " 'фантастика,мелодрама',\n",
       " 'фантастика,мелодрама,боевик',\n",
       " 'фантастика,мелодрама,комедия',\n",
       " 'фантастика,мелодрама,фэнтези',\n",
       " 'фантастика,мультфильм,драма',\n",
       " 'фантастика,приключения',\n",
       " 'фантастика,приключения,боевик',\n",
       " 'фантастика,приключения,военный',\n",
       " 'фантастика,приключения,детектив',\n",
       " 'фантастика,приключения,драма',\n",
       " 'фантастика,приключения,семейный',\n",
       " 'фантастика,триллер',\n",
       " 'фантастика,триллер,боевик',\n",
       " 'фантастика,триллер,детектив',\n",
       " 'фантастика,триллер,драма',\n",
       " 'фантастика,триллер,комедия',\n",
       " 'фантастика,триллер,криминал',\n",
       " 'фантастика,триллер,мелодрама',\n",
       " 'фантастика,триллер,приключения',\n",
       " 'фантастика,фэнтези,боевик',\n",
       " 'фантастика,фэнтези,детектив',\n",
       " 'фантастика,фэнтези,драма',\n",
       " 'фантастика,фэнтези,комедия',\n",
       " 'фантастика,фэнтези,приключения',\n",
       " 'фантастика,фэнтези,триллер',\n",
       " 'фильм-нуар,триллер,детектив',\n",
       " 'фэнтези',\n",
       " 'фэнтези,боевик',\n",
       " 'фэнтези,боевик,вестерн',\n",
       " 'фэнтези,боевик,военный',\n",
       " 'фэнтези,боевик,детектив',\n",
       " 'фэнтези,боевик,драма',\n",
       " 'фэнтези,боевик,комедия',\n",
       " 'фэнтези,боевик,криминал',\n",
       " 'фэнтези,боевик,мелодрама',\n",
       " 'фэнтези,боевик,приключения',\n",
       " 'фэнтези,боевик,семейный',\n",
       " 'фэнтези,боевик,триллер',\n",
       " 'фэнтези,боевик,ужасы',\n",
       " 'фэнтези,драма',\n",
       " 'фэнтези,драма,биография',\n",
       " 'фэнтези,драма,детектив',\n",
       " 'фэнтези,драма,комедия',\n",
       " 'фэнтези,драма,мелодрама',\n",
       " 'фэнтези,драма,приключения',\n",
       " 'фэнтези,драма,семейный',\n",
       " 'фэнтези,драма,ужасы',\n",
       " 'фэнтези,драма,фильм-нуар',\n",
       " 'фэнтези,комедия',\n",
       " 'фэнтези,комедия,детектив',\n",
       " 'фэнтези,комедия,драма',\n",
       " 'фэнтези,комедия,криминал',\n",
       " 'фэнтези,комедия,приключения',\n",
       " 'фэнтези,комедия,семейный',\n",
       " 'фэнтези,мелодрама',\n",
       " 'фэнтези,мелодрама,драма',\n",
       " 'фэнтези,мелодрама,комедия',\n",
       " 'фэнтези,мелодрама,приключения',\n",
       " 'фэнтези,приключения',\n",
       " 'фэнтези,приключения,боевик',\n",
       " 'фэнтези,приключения,драма',\n",
       " 'фэнтези,приключения,комедия',\n",
       " 'фэнтези,приключения,семейный',\n",
       " 'фэнтези,семейный',\n",
       " 'фэнтези,семейный,мелодрама',\n",
       " 'фэнтези,семейный,приключения',\n",
       " 'фэнтези,триллер,детектив',\n",
       " 'фэнтези,триллер,драма',\n",
       " 'фэнтези,триллер,мелодрама',\n",
       " 'фэнтези,триллер,приключения',\n",
       " 'фэнтези,ужасы',\n",
       " 'фэнтези,ужасы,триллер',\n",
       " nan]"
      ]
     },
     "execution_count": 702,
     "metadata": {},
     "output_type": "execute_result"
    }
   ],
   "source": [
    "df['genres'].sort_values().unique().tolist()"
   ]
  },
  {
   "cell_type": "code",
   "execution_count": 703,
   "metadata": {},
   "outputs": [
    {
     "data": {
      "text/plain": [
       "['Министерство культуры', 'Министерство культуры, Фонд кино', 'Фонд кино', nan]"
      ]
     },
     "execution_count": 703,
     "metadata": {},
     "output_type": "execute_result"
    }
   ],
   "source": [
    "df['financing_source'].sort_values().unique().tolist()"
   ]
  },
  {
   "cell_type": "markdown",
   "metadata": {},
   "source": [
    "<div class=\"alert alert-block alert-info\">\n",
    "    <ul type='circle'>\n",
    "\n",
    "Почти во всех категориальных столбцах есть лишние пробелы или символы из-за которых образуются дубли.\n",
    "        \n",
    "Так же добавим в возрастной рейтинг порядковый номер, чтобы далее его можно было упорядочить для анализа."
   ]
  },
  {
   "cell_type": "code",
   "execution_count": 704,
   "metadata": {},
   "outputs": [],
   "source": [
    "# Создадим список из категориальных столбцов\n",
    "# и с помощью функции str.strip() удалим лишние пробелы и символы\n",
    "\n",
    "categories_list = [\n",
    "    'title', 'type', 'film_studio', 'production_country', \n",
    "    'director', 'producer', 'genres'\n",
    "]\n",
    "\n",
    "for i in categories_list:\n",
    "    df[i] = df[i].str.strip(' .')"
   ]
  },
  {
   "cell_type": "code",
   "execution_count": 705,
   "metadata": {},
   "outputs": [],
   "source": [
    "# В столбце стран производства меняем '-' на ',' \n",
    "# чтобы привести все строки к одному виду и избавиться от дуюлей\n",
    "\n",
    "df['production_country'] = df['production_country'].str.replace(' -', ',')\n",
    "df['production_country'] = df['production_country'].str.replace('-', ', ')"
   ]
  },
  {
   "cell_type": "code",
   "execution_count": 706,
   "metadata": {},
   "outputs": [
    {
     "data": {
      "text/plain": [
       "0"
      ]
     },
     "execution_count": 706,
     "metadata": {},
     "output_type": "execute_result"
    }
   ],
   "source": [
    "# Проверяем появились ли дубликаты\n",
    "\n",
    "df.duplicated().sum()"
   ]
  },
  {
   "cell_type": "code",
   "execution_count": 707,
   "metadata": {},
   "outputs": [
    {
     "name": "stderr",
     "output_type": "stream",
     "text": [
      "/var/folders/r8/f9pnzbcd4rq_1f11k5rtm6w40000gn/T/ipykernel_9532/2612665920.py:3: SettingWithCopyWarning: \n",
      "A value is trying to be set on a copy of a slice from a DataFrame\n",
      "\n",
      "See the caveats in the documentation: https://pandas.pydata.org/pandas-docs/stable/user_guide/indexing.html#returning-a-view-versus-a-copy\n",
      "  df['age_restriction'][idx] = '1'+i\n"
     ]
    }
   ],
   "source": [
    "for idx, i in enumerate(df['age_restriction']):\n",
    "    if '«6' in i:\n",
    "        df['age_restriction'][idx] = '1'+i"
   ]
  },
  {
   "cell_type": "markdown",
   "metadata": {
    "id": "XFSN5lrEgFyR"
   },
   "source": [
    "#### Шаг 2.5. Проверьте количественные значения\n",
    "\n",
    "- Проверьте, обнаружились ли в таких столбцах подозрительные данные. Как с такими данными лучше поступить?\n",
    "\n",
    "<div id=\"accordion\">\n",
    "    <div class=\"card\">\n",
    "        <div class=\"card-header\" id=\"headingThree\">\n",
    "            <button class=\"btn btn-link collapsed\" data-toggle=\"collapse\" data-target=\"#collapseHint_budget\" aria-expanded=\"false\" aria-controls=\"collapseHint_budget\">Подсказка</button>\n",
    "        </div>\n",
    "        <div id=\"collapseHint_budget\" class=\"collapse\" aria-labelledby=\"headingThree\" data-parent=\"#accordion\">\n",
    "            <div class=\"card-body\">\n",
    "Обратите внимание на описание столбца <code>budget</code>. Как этот столбец соотносится с двумя другими: <code>refundable_support</code> и <code>nonrefundable_support</code>?\n",
    "            </div>\n",
    "        </div>\n",
    "    </div>\n",
    "</div>"
   ]
  },
  {
   "cell_type": "code",
   "execution_count": 708,
   "metadata": {
    "id": "PnXKIVdFgFyR"
   },
   "outputs": [
    {
     "data": {
      "text/html": [
       "<div>\n",
       "<style scoped>\n",
       "    .dataframe tbody tr th:only-of-type {\n",
       "        vertical-align: middle;\n",
       "    }\n",
       "\n",
       "    .dataframe tbody tr th {\n",
       "        vertical-align: top;\n",
       "    }\n",
       "\n",
       "    .dataframe thead th {\n",
       "        text-align: right;\n",
       "    }\n",
       "</style>\n",
       "<table border=\"1\" class=\"dataframe\">\n",
       "  <thead>\n",
       "    <tr style=\"text-align: right;\">\n",
       "      <th></th>\n",
       "      <th>title</th>\n",
       "      <th>puNumber</th>\n",
       "      <th>show_start_date</th>\n",
       "      <th>type</th>\n",
       "      <th>film_studio</th>\n",
       "      <th>production_country</th>\n",
       "      <th>director</th>\n",
       "      <th>producer</th>\n",
       "      <th>age_restriction</th>\n",
       "      <th>refundable_support</th>\n",
       "      <th>nonrefundable_support</th>\n",
       "      <th>budget</th>\n",
       "      <th>financing_source</th>\n",
       "      <th>ratings</th>\n",
       "      <th>genres</th>\n",
       "      <th>box_office</th>\n",
       "    </tr>\n",
       "  </thead>\n",
       "  <tbody>\n",
       "    <tr>\n",
       "      <th>0</th>\n",
       "      <td>Открытый простор</td>\n",
       "      <td>221048915</td>\n",
       "      <td>2015-11-27 12:00:00+00:00</td>\n",
       "      <td>Художественный</td>\n",
       "      <td>Тачстоун Пикчерз, Кобальт Пикчерз, Бикон Пикче...</td>\n",
       "      <td>США</td>\n",
       "      <td>Кевин Костнер</td>\n",
       "      <td>Дэвид Валдес, Кевин Костнер, Джейк Эбертс</td>\n",
       "      <td>«18+» - запрещено для детей</td>\n",
       "      <td>NaN</td>\n",
       "      <td>NaN</td>\n",
       "      <td>NaN</td>\n",
       "      <td>NaN</td>\n",
       "      <td>7.2</td>\n",
       "      <td>боевик,драма,мелодрама</td>\n",
       "      <td>NaN</td>\n",
       "    </tr>\n",
       "    <tr>\n",
       "      <th>1</th>\n",
       "      <td>Особо важное задание</td>\n",
       "      <td>111013716</td>\n",
       "      <td>2016-09-13 12:00:00+00:00</td>\n",
       "      <td>Художественный</td>\n",
       "      <td>Киностудия \"Мосфильм\"</td>\n",
       "      <td>СССР</td>\n",
       "      <td>Е.Матвеев</td>\n",
       "      <td>NaN</td>\n",
       "      <td>1«6+» - для детей старше 6 лет</td>\n",
       "      <td>NaN</td>\n",
       "      <td>NaN</td>\n",
       "      <td>NaN</td>\n",
       "      <td>NaN</td>\n",
       "      <td>6.6</td>\n",
       "      <td>драма,военный</td>\n",
       "      <td>NaN</td>\n",
       "    </tr>\n",
       "    <tr>\n",
       "      <th>2</th>\n",
       "      <td>Особо опасен</td>\n",
       "      <td>221038416</td>\n",
       "      <td>2016-10-10 12:00:00+00:00</td>\n",
       "      <td>Художественный</td>\n",
       "      <td>Юниверсал Пикчерз, Кикстарт Продакшнз, Марк Пл...</td>\n",
       "      <td>США</td>\n",
       "      <td>Тимур Бекмамбетов</td>\n",
       "      <td>Джим Лемли, Джейсон Нетер, Марк Е.Платт, Яйн Смит</td>\n",
       "      <td>«18+» - запрещено для детей</td>\n",
       "      <td>NaN</td>\n",
       "      <td>NaN</td>\n",
       "      <td>NaN</td>\n",
       "      <td>NaN</td>\n",
       "      <td>6.8</td>\n",
       "      <td>фантастика,боевик,триллер</td>\n",
       "      <td>NaN</td>\n",
       "    </tr>\n",
       "    <tr>\n",
       "      <th>3</th>\n",
       "      <td>Остановился поезд</td>\n",
       "      <td>111013816</td>\n",
       "      <td>2016-09-13 12:00:00+00:00</td>\n",
       "      <td>Художественный</td>\n",
       "      <td>Киностудия \"Мосфильм\"</td>\n",
       "      <td>СССР</td>\n",
       "      <td>В.Абдрашитов</td>\n",
       "      <td>NaN</td>\n",
       "      <td>1«6+» - для детей старше 6 лет</td>\n",
       "      <td>NaN</td>\n",
       "      <td>NaN</td>\n",
       "      <td>NaN</td>\n",
       "      <td>NaN</td>\n",
       "      <td>7.7</td>\n",
       "      <td>драма</td>\n",
       "      <td>NaN</td>\n",
       "    </tr>\n",
       "    <tr>\n",
       "      <th>4</th>\n",
       "      <td>Любовь и голуби</td>\n",
       "      <td>111007013</td>\n",
       "      <td>2013-10-18 12:00:00+00:00</td>\n",
       "      <td>Художественный</td>\n",
       "      <td>Киностудия \"Мосфильм\"</td>\n",
       "      <td>СССР</td>\n",
       "      <td>В.Меньшов</td>\n",
       "      <td>NaN</td>\n",
       "      <td>«12+» - для детей старше 12 лет</td>\n",
       "      <td>NaN</td>\n",
       "      <td>NaN</td>\n",
       "      <td>NaN</td>\n",
       "      <td>NaN</td>\n",
       "      <td>8.3</td>\n",
       "      <td>мелодрама,комедия</td>\n",
       "      <td>2700.0</td>\n",
       "    </tr>\n",
       "  </tbody>\n",
       "</table>\n",
       "</div>"
      ],
      "text/plain": [
       "                  title   puNumber           show_start_date            type  \\\n",
       "0      Открытый простор  221048915 2015-11-27 12:00:00+00:00  Художественный   \n",
       "1  Особо важное задание  111013716 2016-09-13 12:00:00+00:00  Художественный   \n",
       "2          Особо опасен  221038416 2016-10-10 12:00:00+00:00  Художественный   \n",
       "3     Остановился поезд  111013816 2016-09-13 12:00:00+00:00  Художественный   \n",
       "4       Любовь и голуби  111007013 2013-10-18 12:00:00+00:00  Художественный   \n",
       "\n",
       "                                         film_studio production_country  \\\n",
       "0  Тачстоун Пикчерз, Кобальт Пикчерз, Бикон Пикче...                США   \n",
       "1                              Киностудия \"Мосфильм\"               СССР   \n",
       "2  Юниверсал Пикчерз, Кикстарт Продакшнз, Марк Пл...                США   \n",
       "3                              Киностудия \"Мосфильм\"               СССР   \n",
       "4                              Киностудия \"Мосфильм\"               СССР   \n",
       "\n",
       "            director                                           producer  \\\n",
       "0      Кевин Костнер          Дэвид Валдес, Кевин Костнер, Джейк Эбертс   \n",
       "1          Е.Матвеев                                                NaN   \n",
       "2  Тимур Бекмамбетов  Джим Лемли, Джейсон Нетер, Марк Е.Платт, Яйн Смит   \n",
       "3       В.Абдрашитов                                                NaN   \n",
       "4          В.Меньшов                                                NaN   \n",
       "\n",
       "                   age_restriction  refundable_support  nonrefundable_support  \\\n",
       "0      «18+» - запрещено для детей                 NaN                    NaN   \n",
       "1   1«6+» - для детей старше 6 лет                 NaN                    NaN   \n",
       "2      «18+» - запрещено для детей                 NaN                    NaN   \n",
       "3   1«6+» - для детей старше 6 лет                 NaN                    NaN   \n",
       "4  «12+» - для детей старше 12 лет                 NaN                    NaN   \n",
       "\n",
       "   budget financing_source  ratings                     genres  box_office  \n",
       "0     NaN              NaN      7.2     боевик,драма,мелодрама         NaN  \n",
       "1     NaN              NaN      6.6              драма,военный         NaN  \n",
       "2     NaN              NaN      6.8  фантастика,боевик,триллер         NaN  \n",
       "3     NaN              NaN      7.7                      драма         NaN  \n",
       "4     NaN              NaN      8.3          мелодрама,комедия      2700.0  "
      ]
     },
     "execution_count": 708,
     "metadata": {},
     "output_type": "execute_result"
    }
   ],
   "source": [
    "df.head()"
   ]
  },
  {
   "cell_type": "code",
   "execution_count": 709,
   "metadata": {
    "id": "YbzClBxagFyS"
   },
   "outputs": [
    {
     "data": {
      "text/plain": [
       "[0,\n",
       " 1811096,\n",
       " 111000110,\n",
       " 111000111,\n",
       " 111000112,\n",
       " 111000113,\n",
       " 111000114,\n",
       " 111000115,\n",
       " 111000116,\n",
       " 111000117,\n",
       " 111000118,\n",
       " 111000119,\n",
       " 111000210,\n",
       " 111000211,\n",
       " 111000212,\n",
       " 111000213,\n",
       " 111000214,\n",
       " 111000215,\n",
       " 111000216,\n",
       " 111000217,\n",
       " 111000218,\n",
       " 111000219,\n",
       " 111000310,\n",
       " 111000311,\n",
       " 111000312,\n",
       " 111000313,\n",
       " 111000314,\n",
       " 111000315,\n",
       " 111000317,\n",
       " 111000318,\n",
       " 111000319,\n",
       " 111000410,\n",
       " 111000411,\n",
       " 111000412,\n",
       " 111000413,\n",
       " 111000414,\n",
       " 111000415,\n",
       " 111000416,\n",
       " 111000417,\n",
       " 111000418,\n",
       " 111000419,\n",
       " 111000510,\n",
       " 111000511,\n",
       " 111000512,\n",
       " 111000513,\n",
       " 111000514,\n",
       " 111000515,\n",
       " 111000516,\n",
       " 111000517,\n",
       " 111000518,\n",
       " 111000519,\n",
       " 111000610,\n",
       " 111000611,\n",
       " 111000612,\n",
       " 111000613,\n",
       " 111000614,\n",
       " 111000615,\n",
       " 111000616,\n",
       " 111000617,\n",
       " 111000618,\n",
       " 111000619,\n",
       " 111000710,\n",
       " 111000711,\n",
       " 111000712,\n",
       " 111000714,\n",
       " 111000715,\n",
       " 111000716,\n",
       " 111000717,\n",
       " 111000718,\n",
       " 111000719,\n",
       " 111000810,\n",
       " 111000811,\n",
       " 111000812,\n",
       " 111000814,\n",
       " 111000815,\n",
       " 111000816,\n",
       " 111000818,\n",
       " 111000819,\n",
       " 111000910,\n",
       " 111000911,\n",
       " 111000912,\n",
       " 111000913,\n",
       " 111000914,\n",
       " 111000915,\n",
       " 111000916,\n",
       " 111000917,\n",
       " 111000918,\n",
       " 111000919,\n",
       " 111001010,\n",
       " 111001011,\n",
       " 111001012,\n",
       " 111001013,\n",
       " 111001014,\n",
       " 111001015,\n",
       " 111001017,\n",
       " 111001018,\n",
       " 111001019,\n",
       " 111001110,\n",
       " 111001111,\n",
       " 111001112,\n",
       " 111001113,\n",
       " 111001114,\n",
       " 111001115,\n",
       " 111001116,\n",
       " 111001117,\n",
       " 111001118,\n",
       " 111001119,\n",
       " 111001210,\n",
       " 111001211,\n",
       " 111001212,\n",
       " 111001213,\n",
       " 111001214,\n",
       " 111001215,\n",
       " 111001216,\n",
       " 111001217,\n",
       " 111001218,\n",
       " 111001219,\n",
       " 111001310,\n",
       " 111001311,\n",
       " 111001312,\n",
       " 111001313,\n",
       " 111001315,\n",
       " 111001316,\n",
       " 111001317,\n",
       " 111001318,\n",
       " 111001319,\n",
       " 111001410,\n",
       " 111001411,\n",
       " 111001412,\n",
       " 111001414,\n",
       " 111001415,\n",
       " 111001416,\n",
       " 111001417,\n",
       " 111001418,\n",
       " 111001419,\n",
       " 111001510,\n",
       " 111001511,\n",
       " 111001512,\n",
       " 111001513,\n",
       " 111001514,\n",
       " 111001515,\n",
       " 111001516,\n",
       " 111001517,\n",
       " 111001518,\n",
       " 111001519,\n",
       " 111001610,\n",
       " 111001611,\n",
       " 111001612,\n",
       " 111001613,\n",
       " 111001614,\n",
       " 111001615,\n",
       " 111001616,\n",
       " 111001617,\n",
       " 111001618,\n",
       " 111001619,\n",
       " 111001710,\n",
       " 111001712,\n",
       " 111001714,\n",
       " 111001715,\n",
       " 111001716,\n",
       " 111001717,\n",
       " 111001718,\n",
       " 111001719,\n",
       " 111001810,\n",
       " 111001811,\n",
       " 111001812,\n",
       " 111001814,\n",
       " 111001815,\n",
       " 111001816,\n",
       " 111001817,\n",
       " 111001818,\n",
       " 111001910,\n",
       " 111001911,\n",
       " 111001912,\n",
       " 111001913,\n",
       " 111001914,\n",
       " 111001915,\n",
       " 111001916,\n",
       " 111001917,\n",
       " 111001918,\n",
       " 111001919,\n",
       " 111002010,\n",
       " 111002011,\n",
       " 111002012,\n",
       " 111002013,\n",
       " 111002014,\n",
       " 111002015,\n",
       " 111002016,\n",
       " 111002017,\n",
       " 111002018,\n",
       " 111002019,\n",
       " 111002110,\n",
       " 111002111,\n",
       " 111002112,\n",
       " 111002113,\n",
       " 111002114,\n",
       " 111002115,\n",
       " 111002116,\n",
       " 111002117,\n",
       " 111002118,\n",
       " 111002119,\n",
       " 111002210,\n",
       " 111002211,\n",
       " 111002212,\n",
       " 111002213,\n",
       " 111002214,\n",
       " 111002215,\n",
       " 111002216,\n",
       " 111002217,\n",
       " 111002218,\n",
       " 111002219,\n",
       " 111002310,\n",
       " 111002311,\n",
       " 111002312,\n",
       " 111002313,\n",
       " 111002314,\n",
       " 111002315,\n",
       " 111002316,\n",
       " 111002317,\n",
       " 111002318,\n",
       " 111002319,\n",
       " 111002410,\n",
       " 111002411,\n",
       " 111002412,\n",
       " 111002413,\n",
       " 111002414,\n",
       " 111002415,\n",
       " 111002416,\n",
       " 111002417,\n",
       " 111002418,\n",
       " 111002419,\n",
       " 111002510,\n",
       " 111002511,\n",
       " 111002512,\n",
       " 111002513,\n",
       " 111002514,\n",
       " 111002515,\n",
       " 111002516,\n",
       " 111002517,\n",
       " 111002519,\n",
       " 111002610,\n",
       " 111002611,\n",
       " 111002613,\n",
       " 111002614,\n",
       " 111002615,\n",
       " 111002616,\n",
       " 111002617,\n",
       " 111002618,\n",
       " 111002619,\n",
       " 111002710,\n",
       " 111002711,\n",
       " 111002712,\n",
       " 111002713,\n",
       " 111002714,\n",
       " 111002715,\n",
       " 111002716,\n",
       " 111002717,\n",
       " 111002718,\n",
       " 111002719,\n",
       " 111002810,\n",
       " 111002811,\n",
       " 111002812,\n",
       " 111002813,\n",
       " 111002814,\n",
       " 111002816,\n",
       " 111002817,\n",
       " 111002818,\n",
       " 111002819,\n",
       " 111002910,\n",
       " 111002911,\n",
       " 111002912,\n",
       " 111002913,\n",
       " 111002914,\n",
       " 111002915,\n",
       " 111002916,\n",
       " 111002917,\n",
       " 111002918,\n",
       " 111002919,\n",
       " 111003010,\n",
       " 111003011,\n",
       " 111003012,\n",
       " 111003013,\n",
       " 111003014,\n",
       " 111003015,\n",
       " 111003016,\n",
       " 111003017,\n",
       " 111003018,\n",
       " 111003019,\n",
       " 111003110,\n",
       " 111003111,\n",
       " 111003112,\n",
       " 111003113,\n",
       " 111003114,\n",
       " 111003115,\n",
       " 111003116,\n",
       " 111003117,\n",
       " 111003118,\n",
       " 111003210,\n",
       " 111003211,\n",
       " 111003212,\n",
       " 111003214,\n",
       " 111003215,\n",
       " 111003216,\n",
       " 111003217,\n",
       " 111003218,\n",
       " 111003219,\n",
       " 111003310,\n",
       " 111003312,\n",
       " 111003313,\n",
       " 111003314,\n",
       " 111003315,\n",
       " 111003316,\n",
       " 111003317,\n",
       " 111003318,\n",
       " 111003319,\n",
       " 111003411,\n",
       " 111003412,\n",
       " 111003413,\n",
       " 111003414,\n",
       " 111003415,\n",
       " 111003416,\n",
       " 111003417,\n",
       " 111003418,\n",
       " 111003419,\n",
       " 111003511,\n",
       " 111003512,\n",
       " 111003513,\n",
       " 111003514,\n",
       " 111003515,\n",
       " 111003516,\n",
       " 111003517,\n",
       " 111003518,\n",
       " 111003610,\n",
       " 111003611,\n",
       " 111003612,\n",
       " 111003613,\n",
       " 111003614,\n",
       " 111003615,\n",
       " 111003616,\n",
       " 111003617,\n",
       " 111003618,\n",
       " 111003619,\n",
       " 111003711,\n",
       " 111003712,\n",
       " 111003713,\n",
       " 111003714,\n",
       " 111003715,\n",
       " 111003716,\n",
       " 111003717,\n",
       " 111003718,\n",
       " 111003719,\n",
       " 111003810,\n",
       " 111003811,\n",
       " 111003812,\n",
       " 111003813,\n",
       " 111003814,\n",
       " 111003815,\n",
       " 111003816,\n",
       " 111003817,\n",
       " 111003818,\n",
       " 111003819,\n",
       " 111003910,\n",
       " 111003911,\n",
       " 111003912,\n",
       " 111003913,\n",
       " 111003914,\n",
       " 111003915,\n",
       " 111003916,\n",
       " 111003917,\n",
       " 111003918,\n",
       " 111004010,\n",
       " 111004012,\n",
       " 111004013,\n",
       " 111004014,\n",
       " 111004015,\n",
       " 111004016,\n",
       " 111004017,\n",
       " 111004018,\n",
       " 111004019,\n",
       " 111004110,\n",
       " 111004111,\n",
       " 111004112,\n",
       " 111004113,\n",
       " 111004114,\n",
       " 111004115,\n",
       " 111004116,\n",
       " 111004117,\n",
       " 111004119,\n",
       " 111004210,\n",
       " 111004211,\n",
       " 111004212,\n",
       " 111004213,\n",
       " 111004214,\n",
       " 111004215,\n",
       " 111004216,\n",
       " 111004218,\n",
       " 111004219,\n",
       " 111004310,\n",
       " 111004311,\n",
       " 111004312,\n",
       " 111004313,\n",
       " 111004314,\n",
       " 111004315,\n",
       " 111004316,\n",
       " 111004317,\n",
       " 111004318,\n",
       " 111004319,\n",
       " 111004410,\n",
       " 111004411,\n",
       " 111004412,\n",
       " 111004413,\n",
       " 111004414,\n",
       " 111004415,\n",
       " 111004416,\n",
       " 111004417,\n",
       " 111004418,\n",
       " 111004419,\n",
       " 111004510,\n",
       " 111004511,\n",
       " 111004512,\n",
       " 111004513,\n",
       " 111004514,\n",
       " 111004515,\n",
       " 111004516,\n",
       " 111004517,\n",
       " 111004519,\n",
       " 111004610,\n",
       " 111004611,\n",
       " 111004612,\n",
       " 111004613,\n",
       " 111004614,\n",
       " 111004615,\n",
       " 111004616,\n",
       " 111004617,\n",
       " 111004618,\n",
       " 111004619,\n",
       " 111004710,\n",
       " 111004711,\n",
       " 111004712,\n",
       " 111004713,\n",
       " 111004714,\n",
       " 111004715,\n",
       " 111004716,\n",
       " 111004717,\n",
       " 111004718,\n",
       " 111004810,\n",
       " 111004811,\n",
       " 111004812,\n",
       " 111004813,\n",
       " 111004814,\n",
       " 111004815,\n",
       " 111004816,\n",
       " 111004817,\n",
       " 111004818,\n",
       " 111004819,\n",
       " 111004910,\n",
       " 111004911,\n",
       " 111004912,\n",
       " 111004913,\n",
       " 111004914,\n",
       " 111004915,\n",
       " 111004916,\n",
       " 111004917,\n",
       " 111004918,\n",
       " 111004919,\n",
       " 111005010,\n",
       " 111005011,\n",
       " 111005012,\n",
       " 111005013,\n",
       " 111005015,\n",
       " 111005016,\n",
       " 111005017,\n",
       " 111005019,\n",
       " 111005111,\n",
       " 111005112,\n",
       " 111005113,\n",
       " 111005114,\n",
       " 111005115,\n",
       " 111005116,\n",
       " 111005117,\n",
       " 111005118,\n",
       " 111005119,\n",
       " 111005210,\n",
       " 111005211,\n",
       " 111005212,\n",
       " 111005213,\n",
       " 111005214,\n",
       " 111005215,\n",
       " 111005216,\n",
       " 111005217,\n",
       " 111005219,\n",
       " 111005310,\n",
       " 111005311,\n",
       " 111005312,\n",
       " 111005313,\n",
       " 111005314,\n",
       " 111005315,\n",
       " 111005316,\n",
       " 111005317,\n",
       " 111005318,\n",
       " 111005319,\n",
       " 111005410,\n",
       " 111005411,\n",
       " 111005412,\n",
       " 111005413,\n",
       " 111005414,\n",
       " 111005415,\n",
       " 111005416,\n",
       " 111005417,\n",
       " 111005418,\n",
       " 111005419,\n",
       " 111005510,\n",
       " 111005511,\n",
       " 111005512,\n",
       " 111005513,\n",
       " 111005514,\n",
       " 111005515,\n",
       " 111005516,\n",
       " 111005518,\n",
       " 111005519,\n",
       " 111005610,\n",
       " 111005611,\n",
       " 111005612,\n",
       " 111005613,\n",
       " 111005614,\n",
       " 111005615,\n",
       " 111005616,\n",
       " 111005617,\n",
       " 111005619,\n",
       " 111005710,\n",
       " 111005711,\n",
       " 111005712,\n",
       " 111005713,\n",
       " 111005714,\n",
       " 111005715,\n",
       " 111005716,\n",
       " 111005717,\n",
       " 111005718,\n",
       " 111005719,\n",
       " 111005810,\n",
       " 111005811,\n",
       " 111005812,\n",
       " 111005813,\n",
       " 111005814,\n",
       " 111005815,\n",
       " 111005816,\n",
       " 111005817,\n",
       " 111005819,\n",
       " 111005910,\n",
       " 111005911,\n",
       " 111005912,\n",
       " 111005913,\n",
       " 111005914,\n",
       " 111005915,\n",
       " 111005916,\n",
       " 111005917,\n",
       " 111005918,\n",
       " 111005919,\n",
       " 111006010,\n",
       " 111006011,\n",
       " 111006012,\n",
       " 111006013,\n",
       " 111006014,\n",
       " 111006015,\n",
       " 111006016,\n",
       " 111006017,\n",
       " 111006018,\n",
       " 111006110,\n",
       " 111006111,\n",
       " 111006112,\n",
       " 111006113,\n",
       " 111006114,\n",
       " 111006115,\n",
       " 111006116,\n",
       " 111006117,\n",
       " 111006118,\n",
       " 111006119,\n",
       " 111006210,\n",
       " 111006211,\n",
       " 111006213,\n",
       " 111006214,\n",
       " 111006215,\n",
       " 111006216,\n",
       " 111006217,\n",
       " 111006218,\n",
       " 111006310,\n",
       " 111006311,\n",
       " 111006313,\n",
       " 111006314,\n",
       " 111006315,\n",
       " 111006316,\n",
       " 111006317,\n",
       " 111006318,\n",
       " 111006319,\n",
       " 111006410,\n",
       " 111006411,\n",
       " 111006413,\n",
       " 111006414,\n",
       " 111006415,\n",
       " 111006416,\n",
       " 111006417,\n",
       " 111006418,\n",
       " 111006419,\n",
       " 111006510,\n",
       " 111006511,\n",
       " 111006512,\n",
       " 111006513,\n",
       " 111006514,\n",
       " 111006515,\n",
       " 111006516,\n",
       " 111006517,\n",
       " 111006518,\n",
       " 111006519,\n",
       " 111006610,\n",
       " 111006611,\n",
       " 111006612,\n",
       " 111006613,\n",
       " 111006614,\n",
       " 111006615,\n",
       " 111006616,\n",
       " 111006618,\n",
       " 111006619,\n",
       " 111006710,\n",
       " 111006711,\n",
       " 111006712,\n",
       " 111006713,\n",
       " 111006714,\n",
       " 111006715,\n",
       " 111006716,\n",
       " 111006717,\n",
       " 111006718,\n",
       " 111006719,\n",
       " 111006810,\n",
       " 111006811,\n",
       " 111006813,\n",
       " 111006815,\n",
       " 111006816,\n",
       " 111006817,\n",
       " 111006818,\n",
       " 111006819,\n",
       " 111006910,\n",
       " 111006911,\n",
       " 111006912,\n",
       " 111006913,\n",
       " 111006914,\n",
       " 111006915,\n",
       " 111006916,\n",
       " 111006917,\n",
       " 111006919,\n",
       " 111007010,\n",
       " 111007011,\n",
       " 111007012,\n",
       " 111007013,\n",
       " 111007014,\n",
       " 111007015,\n",
       " 111007016,\n",
       " 111007017,\n",
       " 111007018,\n",
       " 111007019,\n",
       " 111007110,\n",
       " 111007111,\n",
       " 111007112,\n",
       " 111007113,\n",
       " 111007114,\n",
       " 111007115,\n",
       " 111007116,\n",
       " 111007117,\n",
       " 111007118,\n",
       " 111007119,\n",
       " 111007211,\n",
       " 111007213,\n",
       " 111007215,\n",
       " 111007216,\n",
       " 111007217,\n",
       " 111007218,\n",
       " 111007219,\n",
       " 111007310,\n",
       " 111007311,\n",
       " 111007313,\n",
       " 111007314,\n",
       " 111007315,\n",
       " 111007316,\n",
       " 111007317,\n",
       " 111007318,\n",
       " 111007319,\n",
       " 111007410,\n",
       " 111007411,\n",
       " 111007413,\n",
       " 111007414,\n",
       " 111007415,\n",
       " 111007416,\n",
       " 111007417,\n",
       " 111007418,\n",
       " 111007510,\n",
       " 111007511,\n",
       " 111007513,\n",
       " 111007514,\n",
       " 111007515,\n",
       " 111007516,\n",
       " 111007517,\n",
       " 111007518,\n",
       " 111007610,\n",
       " 111007611,\n",
       " 111007613,\n",
       " 111007614,\n",
       " 111007615,\n",
       " 111007616,\n",
       " 111007617,\n",
       " 111007618,\n",
       " 111007619,\n",
       " 111007710,\n",
       " 111007711,\n",
       " 111007713,\n",
       " 111007714,\n",
       " 111007715,\n",
       " 111007716,\n",
       " 111007717,\n",
       " 111007718,\n",
       " 111007719,\n",
       " 111007810,\n",
       " 111007811,\n",
       " 111007813,\n",
       " 111007814,\n",
       " 111007815,\n",
       " 111007816,\n",
       " 111007817,\n",
       " 111007818,\n",
       " 111007819,\n",
       " 111007910,\n",
       " 111007911,\n",
       " 111007913,\n",
       " 111007914,\n",
       " 111007915,\n",
       " 111007916,\n",
       " 111007917,\n",
       " 111007918,\n",
       " 111007919,\n",
       " 111008010,\n",
       " 111008011,\n",
       " 111008014,\n",
       " 111008015,\n",
       " 111008016,\n",
       " 111008017,\n",
       " 111008018,\n",
       " 111008019,\n",
       " 111008110,\n",
       " 111008111,\n",
       " 111008113,\n",
       " 111008114,\n",
       " 111008115,\n",
       " 111008116,\n",
       " 111008117,\n",
       " 111008118,\n",
       " 111008119,\n",
       " 111008210,\n",
       " 111008213,\n",
       " 111008214,\n",
       " 111008215,\n",
       " 111008216,\n",
       " 111008217,\n",
       " 111008218,\n",
       " 111008219,\n",
       " 111008311,\n",
       " 111008313,\n",
       " 111008314,\n",
       " 111008315,\n",
       " 111008316,\n",
       " 111008317,\n",
       " 111008318,\n",
       " 111008319,\n",
       " 111008410,\n",
       " 111008411,\n",
       " 111008413,\n",
       " 111008414,\n",
       " 111008415,\n",
       " 111008416,\n",
       " 111008417,\n",
       " 111008419,\n",
       " 111008510,\n",
       " 111008511,\n",
       " 111008513,\n",
       " 111008514,\n",
       " 111008515,\n",
       " 111008516,\n",
       " 111008517,\n",
       " 111008518,\n",
       " 111008519,\n",
       " 111008610,\n",
       " 111008611,\n",
       " 111008613,\n",
       " 111008614,\n",
       " 111008615,\n",
       " 111008617,\n",
       " 111008618,\n",
       " 111008619,\n",
       " 111008710,\n",
       " 111008711,\n",
       " 111008714,\n",
       " 111008715,\n",
       " 111008716,\n",
       " 111008717,\n",
       " 111008718,\n",
       " 111008719,\n",
       " 111008810,\n",
       " 111008811,\n",
       " 111008814,\n",
       " 111008815,\n",
       " 111008816,\n",
       " 111008817,\n",
       " 111008819,\n",
       " 111008910,\n",
       " 111008913,\n",
       " 111008914,\n",
       " 111008915,\n",
       " 111008916,\n",
       " 111008917,\n",
       " 111008918,\n",
       " 111008919,\n",
       " 111009010,\n",
       " 111009011,\n",
       " 111009013,\n",
       " 111009014,\n",
       " 111009015,\n",
       " 111009016,\n",
       " 111009017,\n",
       " 111009018,\n",
       " 111009019,\n",
       " 111009110,\n",
       " 111009111,\n",
       " 111009113,\n",
       " 111009115,\n",
       " 111009117,\n",
       " 111009118,\n",
       " 111009119,\n",
       " 111009210,\n",
       " 111009211,\n",
       " 111009213,\n",
       " 111009214,\n",
       " 111009215,\n",
       " 111009216,\n",
       " 111009217,\n",
       " 111009218,\n",
       " 111009219,\n",
       " 111009310,\n",
       " 111009311,\n",
       " 111009314,\n",
       " 111009315,\n",
       " 111009316,\n",
       " 111009317,\n",
       " 111009318,\n",
       " 111009319,\n",
       " 111009410,\n",
       " 111009411,\n",
       " 111009413,\n",
       " 111009414,\n",
       " 111009415,\n",
       " 111009416,\n",
       " 111009417,\n",
       " 111009418,\n",
       " 111009419,\n",
       " 111009510,\n",
       " 111009511,\n",
       " 111009513,\n",
       " 111009514,\n",
       " 111009515,\n",
       " 111009516,\n",
       " 111009517,\n",
       " 111009519,\n",
       " 111009610,\n",
       " 111009611,\n",
       " 111009613,\n",
       " 111009614,\n",
       " 111009615,\n",
       " 111009616,\n",
       " 111009617,\n",
       " 111009618,\n",
       " 111009619,\n",
       " 111009710,\n",
       " 111009711,\n",
       " 111009713,\n",
       " 111009714,\n",
       " 111009715,\n",
       " 111009716,\n",
       " 111009717,\n",
       " 111009718,\n",
       " 111009810,\n",
       " 111009811,\n",
       " 111009813,\n",
       " 111009814,\n",
       " 111009815,\n",
       " 111009816,\n",
       " 111009817,\n",
       " 111009818,\n",
       " 111009819,\n",
       " 111009910,\n",
       " 111009911,\n",
       " 111009913,\n",
       " 111009914,\n",
       " 111009915,\n",
       " 111009916,\n",
       " 111009917,\n",
       " 111009919,\n",
       " 111010010,\n",
       " 111010011,\n",
       " 111010013,\n",
       " 111010014,\n",
       " 111010015,\n",
       " 111010017,\n",
       " 111010018,\n",
       " 111010019,\n",
       " 111010110,\n",
       " 111010111,\n",
       " 111010113,\n",
       " 111010114,\n",
       " 111010115,\n",
       " 111010116,\n",
       " 111010117,\n",
       " 111010118,\n",
       " 111010119,\n",
       " 111010210,\n",
       " 111010211,\n",
       " 111010213,\n",
       " 111010214,\n",
       " 111010215,\n",
       " 111010216,\n",
       " 111010217,\n",
       " 111010218,\n",
       " 111010219,\n",
       " 111010310,\n",
       " 111010311,\n",
       " 111010313,\n",
       " 111010314,\n",
       " 111010315,\n",
       " 111010316,\n",
       " 111010317,\n",
       " 111010318,\n",
       " 111010319,\n",
       " 111010410,\n",
       " 111010411,\n",
       " 111010413,\n",
       " 111010414,\n",
       " 111010415,\n",
       " 111010417,\n",
       " 111010419,\n",
       " 111010511,\n",
       " 111010513,\n",
       " 111010514,\n",
       " 111010515,\n",
       " 111010516,\n",
       " 111010517,\n",
       " 111010519,\n",
       " 111010610,\n",
       " 111010611,\n",
       " 111010614,\n",
       " 111010615,\n",
       " 111010616,\n",
       " 111010617,\n",
       " 111010619,\n",
       " 111010710,\n",
       " 111010713,\n",
       " 111010714,\n",
       " 111010715,\n",
       " 111010716,\n",
       " 111010717,\n",
       " 111010718,\n",
       " 111010719,\n",
       " 111010810,\n",
       " 111010813,\n",
       " 111010814,\n",
       " 111010815,\n",
       " 111010816,\n",
       " 111010817,\n",
       " 111010819,\n",
       " 111010910,\n",
       " 111010913,\n",
       " 111010914,\n",
       " 111010916,\n",
       " 111010917,\n",
       " 111010918,\n",
       " 111010919,\n",
       " 111011010,\n",
       " 111011013,\n",
       " 111011014,\n",
       " 111011015,\n",
       " 111011016,\n",
       " 111011017,\n",
       " 111011018,\n",
       " 111011019,\n",
       " 111011110,\n",
       " 111011113,\n",
       " 111011114,\n",
       " 111011115,\n",
       " 111011117,\n",
       " 111011118,\n",
       " 111011119,\n",
       " 111011210,\n",
       " 111011214,\n",
       " 111011215,\n",
       " 111011216,\n",
       " 111011217,\n",
       " ...]"
      ]
     },
     "execution_count": 709,
     "metadata": {},
     "output_type": "execute_result"
    }
   ],
   "source": [
    "df['puNumber'].sort_values().unique().tolist()"
   ]
  },
  {
   "cell_type": "code",
   "execution_count": 710,
   "metadata": {},
   "outputs": [
    {
     "data": {
      "text/plain": [
       "[0.0,\n",
       " 3500000.0,\n",
       " 5000000.0,\n",
       " 7000000.0,\n",
       " 7153119.0,\n",
       " 7346881.0,\n",
       " 8000000.0,\n",
       " 9000000.0,\n",
       " 10000000.0,\n",
       " 15000000.0,\n",
       " 17000000.0,\n",
       " 19000000.0,\n",
       " 20000000.0,\n",
       " 25000000.0,\n",
       " 26000000.0,\n",
       " 28000000.0,\n",
       " 29000000.0,\n",
       " 30000000.0,\n",
       " 35000000.0,\n",
       " 36000000.0,\n",
       " 38000000.0,\n",
       " 40000000.0,\n",
       " 41000000.0,\n",
       " 44000000.0,\n",
       " 50000000.0,\n",
       " 55000000.0,\n",
       " 60000000.0,\n",
       " 75000000.0,\n",
       " 80000000.0,\n",
       " 100000000.0,\n",
       " 110000000.0,\n",
       " 115000000.0,\n",
       " 150000000.0,\n",
       " 180000000.0,\n",
       " nan]"
      ]
     },
     "execution_count": 710,
     "metadata": {},
     "output_type": "execute_result"
    }
   ],
   "source": [
    "df['refundable_support'].sort_values().unique().tolist()"
   ]
  },
  {
   "cell_type": "code",
   "execution_count": 711,
   "metadata": {},
   "outputs": [
    {
     "data": {
      "text/plain": [
       "[0.0,\n",
       " 3000000.0,\n",
       " 4700000.0,\n",
       " 5000000.0,\n",
       " 5300000.0,\n",
       " 6000000.0,\n",
       " 8000000.0,\n",
       " 10000000.0,\n",
       " 11520000.0,\n",
       " 15000000.0,\n",
       " 20000000.0,\n",
       " 20145285.0,\n",
       " 21700000.0,\n",
       " 22904000.0,\n",
       " 23000000.0,\n",
       " 24000000.0,\n",
       " 24450000.0,\n",
       " 24500000.0,\n",
       " 24986000.0,\n",
       " 25000000.0,\n",
       " 25200000.0,\n",
       " 25345000.0,\n",
       " 25500000.0,\n",
       " 25900000.0,\n",
       " 26000000.0,\n",
       " 26500000.0,\n",
       " 26950000.0,\n",
       " 27000000.0,\n",
       " 27500000.0,\n",
       " 27510000.0,\n",
       " 28000000.0,\n",
       " 28500000.0,\n",
       " 29000000.0,\n",
       " 30000000.0,\n",
       " 30123915.0,\n",
       " 31000000.0,\n",
       " 34000000.0,\n",
       " 35000000.0,\n",
       " 37000000.0,\n",
       " 40000000.0,\n",
       " 41500000.0,\n",
       " 45000000.0,\n",
       " 46502299.0,\n",
       " 50000000.0,\n",
       " 50000866.0,\n",
       " 51000000.0,\n",
       " 55000000.0,\n",
       " 56579055.0,\n",
       " 59000000.0,\n",
       " 60000000.0,\n",
       " 64000000.0,\n",
       " 70000000.0,\n",
       " 75000000.0,\n",
       " 80000000.0,\n",
       " 85000000.0,\n",
       " 90000000.0,\n",
       " 97000000.0,\n",
       " 100000000.0,\n",
       " 107847945.0,\n",
       " 110000000.0,\n",
       " 120000000.0,\n",
       " 130000000.0,\n",
       " 133000000.0,\n",
       " 138969465.0,\n",
       " 140000000.0,\n",
       " 150000000.0,\n",
       " 175000000.0,\n",
       " 190000000.0,\n",
       " 200000000.0,\n",
       " 225000000.0,\n",
       " 250000000.0,\n",
       " 260000000.0,\n",
       " 300000000.0,\n",
       " 392104482.0,\n",
       " 400000000.0,\n",
       " nan]"
      ]
     },
     "execution_count": 711,
     "metadata": {},
     "output_type": "execute_result"
    }
   ],
   "source": [
    "df['nonrefundable_support'].sort_values().unique().tolist()"
   ]
  },
  {
   "cell_type": "code",
   "execution_count": 712,
   "metadata": {},
   "outputs": [
    {
     "data": {
      "text/plain": [
       "[0.0,\n",
       " 14462464.0,\n",
       " 15010000.0,\n",
       " 18166418.0,\n",
       " 18706080.0,\n",
       " 27000000.0,\n",
       " 28115580.0,\n",
       " 28571429.0,\n",
       " 30000000.0,\n",
       " 30448911.0,\n",
       " 30800000.0,\n",
       " 31305313.0,\n",
       " 33000000.0,\n",
       " 35000000.0,\n",
       " 35296950.0,\n",
       " 35714286.0,\n",
       " 35760060.0,\n",
       " 36016269.0,\n",
       " 36259500.0,\n",
       " 37000990.0,\n",
       " 37142857.0,\n",
       " 37371262.0,\n",
       " 37424796.0,\n",
       " 37500000.0,\n",
       " 37600000.0,\n",
       " 37744280.0,\n",
       " 37765654.0,\n",
       " 37849103.0,\n",
       " 37878787.0,\n",
       " 37889165.0,\n",
       " 37943652.0,\n",
       " 38000000.0,\n",
       " 38440000.0,\n",
       " 38461538.0,\n",
       " 38466700.0,\n",
       " 38476869.0,\n",
       " 38500000.0,\n",
       " 38858260.0,\n",
       " 39000000.0,\n",
       " 39057971.0,\n",
       " 39129289.0,\n",
       " 39700000.0,\n",
       " 39990000.0,\n",
       " 40000000.0,\n",
       " 40015122.0,\n",
       " 40265000.0,\n",
       " 40287770.0,\n",
       " 40500000.0,\n",
       " 40574140.0,\n",
       " 40600800.0,\n",
       " 41000000.0,\n",
       " 41497860.0,\n",
       " 41998984.0,\n",
       " 42000000.0,\n",
       " 42252509.0,\n",
       " 42860000.0,\n",
       " 43000000.0,\n",
       " 44286584.0,\n",
       " 44600000.0,\n",
       " 45006609.0,\n",
       " 45045050.0,\n",
       " 45050000.0,\n",
       " 45074547.0,\n",
       " 45483233.0,\n",
       " 45538655.0,\n",
       " 46153846.0,\n",
       " 46153887.0,\n",
       " 46154000.0,\n",
       " 46160000.0,\n",
       " 46195427.0,\n",
       " 46200000.0,\n",
       " 46300000.0,\n",
       " 46657311.0,\n",
       " 46923776.0,\n",
       " 46941140.0,\n",
       " 46968883.0,\n",
       " 47200000.0,\n",
       " 47328000.0,\n",
       " 47734050.0,\n",
       " 48238075.0,\n",
       " 48571430.0,\n",
       " 48661150.0,\n",
       " 48680858.0,\n",
       " 49071428.0,\n",
       " 49280496.0,\n",
       " 50000000.0,\n",
       " 50218741.0,\n",
       " 51196711.0,\n",
       " 51850000.0,\n",
       " 52124638.0,\n",
       " 52860000.0,\n",
       " 53846200.0,\n",
       " 54000000.0,\n",
       " 54209657.0,\n",
       " 54303222.0,\n",
       " 54687500.0,\n",
       " 55000000.0,\n",
       " 55195000.0,\n",
       " 55404963.0,\n",
       " 55729424.0,\n",
       " 56693559.0,\n",
       " 56909520.0,\n",
       " 57166797.0,\n",
       " 57767081.0,\n",
       " 57874375.0,\n",
       " 57876000.0,\n",
       " 58078451.0,\n",
       " 58447301.0,\n",
       " 59560746.0,\n",
       " 59937470.0,\n",
       " 60000000.0,\n",
       " 60150376.0,\n",
       " 60373576.0,\n",
       " 60668576.0,\n",
       " 61000000.0,\n",
       " 61011407.0,\n",
       " 61070000.0,\n",
       " 61571449.0,\n",
       " 62000000.0,\n",
       " 62044646.0,\n",
       " 62415749.0,\n",
       " 63000000.0,\n",
       " 63170000.0,\n",
       " 64030080.0,\n",
       " 64792913.0,\n",
       " 65000000.0,\n",
       " 67942718.0,\n",
       " 68294200.0,\n",
       " 68490606.0,\n",
       " 68809226.0,\n",
       " 69428728.0,\n",
       " 69883049.0,\n",
       " 70000000.0,\n",
       " 70086439.0,\n",
       " 70305000.0,\n",
       " 70876172.0,\n",
       " 71517631.0,\n",
       " 73379554.0,\n",
       " 74071918.0,\n",
       " 74275100.0,\n",
       " 74910000.0,\n",
       " 75000135.0,\n",
       " 75940941.0,\n",
       " 76913058.0,\n",
       " 77000000.0,\n",
       " 77401751.0,\n",
       " 78096315.0,\n",
       " 78355154.0,\n",
       " 78422212.0,\n",
       " 78686500.0,\n",
       " 79411900.0,\n",
       " 80000000.0,\n",
       " 80273277.0,\n",
       " 80324137.0,\n",
       " 81612411.0,\n",
       " 82496889.0,\n",
       " 82800488.0,\n",
       " 83553412.0,\n",
       " 84667038.0,\n",
       " 85384000.0,\n",
       " 86210067.0,\n",
       " 86236394.0,\n",
       " 87649127.0,\n",
       " 89782312.0,\n",
       " 90000000.0,\n",
       " 90120000.0,\n",
       " 90276774.0,\n",
       " 90278063.0,\n",
       " 90822766.0,\n",
       " 91000000.0,\n",
       " 92500000.0,\n",
       " 93000000.0,\n",
       " 95000000.0,\n",
       " 95065546.0,\n",
       " 100274436.0,\n",
       " 101463696.0,\n",
       " 101659240.0,\n",
       " 102760000.0,\n",
       " 105445546.0,\n",
       " 105721524.0,\n",
       " 108518988.0,\n",
       " 109020947.0,\n",
       " 109609029.0,\n",
       " 109814241.0,\n",
       " 110000000.0,\n",
       " 110464061.0,\n",
       " 111736163.0,\n",
       " 111812387.0,\n",
       " 112000000.0,\n",
       " 113837339.0,\n",
       " 114510306.0,\n",
       " 115000000.0,\n",
       " 118000000.0,\n",
       " 120000000.0,\n",
       " 123714264.0,\n",
       " 126932894.0,\n",
       " 128570000.0,\n",
       " 130000000.0,\n",
       " 130619336.0,\n",
       " 131000000.0,\n",
       " 134000000.0,\n",
       " 136230333.0,\n",
       " 138325738.0,\n",
       " 139357211.0,\n",
       " 139551503.0,\n",
       " 140005238.0,\n",
       " 140025000.0,\n",
       " 147866278.0,\n",
       " 148585222.0,\n",
       " 150000000.0,\n",
       " 150008573.0,\n",
       " 150147502.0,\n",
       " 154245687.0,\n",
       " 154989700.0,\n",
       " 156360666.0,\n",
       " 157236080.0,\n",
       " 160000000.0,\n",
       " 162630398.0,\n",
       " 164780000.0,\n",
       " 165222908.0,\n",
       " 168271268.0,\n",
       " 169000000.0,\n",
       " 170122675.0,\n",
       " 172763618.0,\n",
       " 174381922.0,\n",
       " 174464395.0,\n",
       " 176023490.0,\n",
       " 179257987.0,\n",
       " 179708770.0,\n",
       " 180000000.0,\n",
       " 181302726.0,\n",
       " 182659393.0,\n",
       " 185500705.0,\n",
       " 190000000.0,\n",
       " 200067392.0,\n",
       " 202484224.0,\n",
       " 204400968.0,\n",
       " 204674000.0,\n",
       " 206982031.0,\n",
       " 210405981.0,\n",
       " 211810247.0,\n",
       " 215162287.0,\n",
       " 215860000.0,\n",
       " 219398491.0,\n",
       " 220588394.0,\n",
       " 222177790.0,\n",
       " 222513841.0,\n",
       " 226271533.0,\n",
       " 240041307.0,\n",
       " 240153900.0,\n",
       " 243122945.0,\n",
       " 250000000.0,\n",
       " 252489571.0,\n",
       " 264578774.0,\n",
       " 267288892.0,\n",
       " 270000000.0,\n",
       " 287802711.0,\n",
       " 292412422.0,\n",
       " 298500000.0,\n",
       " 300000000.0,\n",
       " 320000000.0,\n",
       " 323232109.0,\n",
       " 335567667.0,\n",
       " 344905389.0,\n",
       " 352477575.0,\n",
       " 356550000.0,\n",
       " 360000000.0,\n",
       " 360054850.0,\n",
       " 385000000.0,\n",
       " 390191139.0,\n",
       " 399075326.0,\n",
       " 430000000.0,\n",
       " 436437176.0,\n",
       " 453704666.0,\n",
       " 493733957.0,\n",
       " 499826569.0,\n",
       " 500000000.0,\n",
       " 500012729.0,\n",
       " 528441977.0,\n",
       " 563784717.0,\n",
       " 590192191.0,\n",
       " 635283867.0,\n",
       " 684200536.0,\n",
       " 779941965.0,\n",
       " 980000000.0,\n",
       " 1032905957.0,\n",
       " 2305074303.0,\n",
       " nan]"
      ]
     },
     "execution_count": 712,
     "metadata": {},
     "output_type": "execute_result"
    }
   ],
   "source": [
    "df['budget'].sort_values().unique().tolist()"
   ]
  },
  {
   "cell_type": "code",
   "execution_count": 713,
   "metadata": {},
   "outputs": [
    {
     "data": {
      "text/plain": [
       "[1.0,\n",
       " 1.1,\n",
       " 1.2,\n",
       " 1.3,\n",
       " 1.4,\n",
       " 1.5,\n",
       " 1.6,\n",
       " 1.7,\n",
       " 1.8,\n",
       " 1.9,\n",
       " 2.1,\n",
       " 2.4,\n",
       " 2.5,\n",
       " 2.6,\n",
       " 2.7,\n",
       " 2.8,\n",
       " 2.9,\n",
       " 3.0,\n",
       " 3.1,\n",
       " 3.2,\n",
       " 3.3,\n",
       " 3.4,\n",
       " 3.5,\n",
       " 3.6,\n",
       " 3.7,\n",
       " 3.8,\n",
       " 3.9,\n",
       " 4.0,\n",
       " 4.1,\n",
       " 4.2,\n",
       " 4.3,\n",
       " 4.4,\n",
       " 4.5,\n",
       " 4.6,\n",
       " 4.7,\n",
       " 4.8,\n",
       " 4.9,\n",
       " 5.0,\n",
       " 5.1,\n",
       " 5.2,\n",
       " 5.3,\n",
       " 5.4,\n",
       " 5.5,\n",
       " 5.6,\n",
       " 5.7,\n",
       " 5.8,\n",
       " 5.9,\n",
       " 6.0,\n",
       " 6.1,\n",
       " 6.2,\n",
       " 6.3,\n",
       " 6.4,\n",
       " 6.5,\n",
       " 6.6,\n",
       " 6.7,\n",
       " 6.8,\n",
       " 6.9,\n",
       " 7.0,\n",
       " 7.1,\n",
       " 7.2,\n",
       " 7.3,\n",
       " 7.4,\n",
       " 7.5,\n",
       " 7.6,\n",
       " 7.7,\n",
       " 7.8,\n",
       " 7.9,\n",
       " 8.0,\n",
       " 8.1,\n",
       " 8.2,\n",
       " 8.3,\n",
       " 8.4,\n",
       " 8.5,\n",
       " 8.6,\n",
       " 8.7,\n",
       " 8.8,\n",
       " 8.9,\n",
       " 9.0,\n",
       " 9.1,\n",
       " 9.2,\n",
       " 9.4,\n",
       " 9.7,\n",
       " 9.8,\n",
       " 9.9,\n",
       " nan]"
      ]
     },
     "execution_count": 713,
     "metadata": {},
     "output_type": "execute_result"
    }
   ],
   "source": [
    "df['ratings'].sort_values().unique().tolist()"
   ]
  },
  {
   "cell_type": "code",
   "execution_count": 714,
   "metadata": {},
   "outputs": [
    {
     "data": {
      "text/plain": [
       "[0.0,\n",
       " 40.0,\n",
       " 50.0,\n",
       " 75.0,\n",
       " 80.0,\n",
       " 100.0,\n",
       " 115.0,\n",
       " 120.0,\n",
       " 125.0,\n",
       " 130.0,\n",
       " 150.0,\n",
       " 165.0,\n",
       " 170.0,\n",
       " 180.0,\n",
       " 200.0,\n",
       " 225.0,\n",
       " 235.0,\n",
       " 240.0,\n",
       " 250.0,\n",
       " 260.0,\n",
       " 295.0,\n",
       " 300.0,\n",
       " 330.0,\n",
       " 340.0,\n",
       " 350.0,\n",
       " 360.0,\n",
       " 370.0,\n",
       " 380.0,\n",
       " 400.0,\n",
       " 405.0,\n",
       " 420.0,\n",
       " 425.0,\n",
       " 450.0,\n",
       " 460.0,\n",
       " 465.0,\n",
       " 480.0,\n",
       " 490.0,\n",
       " 500.0,\n",
       " 520.0,\n",
       " 540.0,\n",
       " 550.0,\n",
       " 560.0,\n",
       " 580.0,\n",
       " 585.0,\n",
       " 600.0,\n",
       " 620.0,\n",
       " 650.0,\n",
       " 660.0,\n",
       " 680.0,\n",
       " 690.0,\n",
       " 710.0,\n",
       " 720.0,\n",
       " 735.0,\n",
       " 740.0,\n",
       " 750.0,\n",
       " 760.0,\n",
       " 765.0,\n",
       " 775.0,\n",
       " 780.0,\n",
       " 785.0,\n",
       " 830.0,\n",
       " 850.0,\n",
       " 860.0,\n",
       " 865.0,\n",
       " 880.0,\n",
       " 895.0,\n",
       " 900.0,\n",
       " 930.0,\n",
       " 940.0,\n",
       " 950.0,\n",
       " 960.0,\n",
       " 980.0,\n",
       " 1000.0,\n",
       " 1010.0,\n",
       " 1020.0,\n",
       " 1030.0,\n",
       " 1040.0,\n",
       " 1050.0,\n",
       " 1070.0,\n",
       " 1075.0,\n",
       " 1090.0,\n",
       " 1100.0,\n",
       " 1110.0,\n",
       " 1140.0,\n",
       " 1149.0,\n",
       " 1150.0,\n",
       " 1165.0,\n",
       " 1188.0,\n",
       " 1190.0,\n",
       " 1200.0,\n",
       " 1230.0,\n",
       " 1240.0,\n",
       " 1260.0,\n",
       " 1270.0,\n",
       " 1290.0,\n",
       " 1300.0,\n",
       " 1360.0,\n",
       " 1365.0,\n",
       " 1400.0,\n",
       " 1420.0,\n",
       " 1440.0,\n",
       " 1460.0,\n",
       " 1500.0,\n",
       " 1525.0,\n",
       " 1540.0,\n",
       " 1550.0,\n",
       " 1570.0,\n",
       " 1580.0,\n",
       " 1585.0,\n",
       " 1590.0,\n",
       " 1600.0,\n",
       " 1630.0,\n",
       " 1657.0,\n",
       " 1660.0,\n",
       " 1680.0,\n",
       " 1700.0,\n",
       " 1710.0,\n",
       " 1740.0,\n",
       " 1790.0,\n",
       " 1795.0,\n",
       " 1800.0,\n",
       " 1820.0,\n",
       " 1825.0,\n",
       " 1850.0,\n",
       " 1900.0,\n",
       " 1916.0,\n",
       " 1920.0,\n",
       " 1950.0,\n",
       " 1996.0,\n",
       " 2000.0,\n",
       " 2015.0,\n",
       " 2020.0,\n",
       " 2050.0,\n",
       " 2055.0,\n",
       " 2060.0,\n",
       " 2080.0,\n",
       " 2100.0,\n",
       " 2120.0,\n",
       " 2190.0,\n",
       " 2200.0,\n",
       " 2260.0,\n",
       " 2300.0,\n",
       " 2310.0,\n",
       " 2325.0,\n",
       " 2375.0,\n",
       " 2396.0,\n",
       " 2400.0,\n",
       " 2410.0,\n",
       " 2450.0,\n",
       " 2455.0,\n",
       " 2480.0,\n",
       " 2490.0,\n",
       " 2575.0,\n",
       " 2590.0,\n",
       " 2620.0,\n",
       " 2640.0,\n",
       " 2650.0,\n",
       " 2680.0,\n",
       " 2700.0,\n",
       " 2820.0,\n",
       " 2830.0,\n",
       " 2850.0,\n",
       " 2855.0,\n",
       " 2870.0,\n",
       " 2890.0,\n",
       " 2905.0,\n",
       " 3000.0,\n",
       " 3010.0,\n",
       " 3040.0,\n",
       " 3075.0,\n",
       " 3085.0,\n",
       " 3155.0,\n",
       " 3192.0,\n",
       " 3200.0,\n",
       " 3240.0,\n",
       " 3270.0,\n",
       " 3300.0,\n",
       " 3310.0,\n",
       " 3320.0,\n",
       " 3370.0,\n",
       " 3450.0,\n",
       " 3475.0,\n",
       " 3490.0,\n",
       " 3500.0,\n",
       " 3545.0,\n",
       " 3550.0,\n",
       " 3580.0,\n",
       " 3595.0,\n",
       " 3615.0,\n",
       " 3643.0,\n",
       " 3660.0,\n",
       " 3690.0,\n",
       " 3750.0,\n",
       " 3780.0,\n",
       " 3782.0,\n",
       " 3878.0,\n",
       " 3880.0,\n",
       " 3890.0,\n",
       " 3900.0,\n",
       " 3970.0,\n",
       " 3980.0,\n",
       " 4000.0,\n",
       " 4020.0,\n",
       " 4050.0,\n",
       " 4110.0,\n",
       " 4295.0,\n",
       " 4398.4,\n",
       " 4400.0,\n",
       " 4450.0,\n",
       " 4530.0,\n",
       " 4570.0,\n",
       " 4578.0,\n",
       " 4610.0,\n",
       " 4635.0,\n",
       " 4690.0,\n",
       " 4700.0,\n",
       " 4720.0,\n",
       " 4729.0,\n",
       " 4775.0,\n",
       " 4800.0,\n",
       " 4808.0,\n",
       " 4827.0,\n",
       " 4855.0,\n",
       " 4900.0,\n",
       " 4960.0,\n",
       " 4970.0,\n",
       " 5000.0,\n",
       " 5141.0,\n",
       " 5250.0,\n",
       " 5280.0,\n",
       " 5320.0,\n",
       " 5355.0,\n",
       " 5380.0,\n",
       " 5400.0,\n",
       " 5405.0,\n",
       " 5490.0,\n",
       " 5560.0,\n",
       " 5605.0,\n",
       " 5610.0,\n",
       " 5620.0,\n",
       " 5695.0,\n",
       " 5760.0,\n",
       " 5830.0,\n",
       " 5874.0,\n",
       " 5900.0,\n",
       " 5945.0,\n",
       " 5955.0,\n",
       " 6000.0,\n",
       " 6065.0,\n",
       " 6100.0,\n",
       " 6160.0,\n",
       " 6220.0,\n",
       " 6265.0,\n",
       " 6275.0,\n",
       " 6340.0,\n",
       " 6380.0,\n",
       " 6400.0,\n",
       " 6432.0,\n",
       " 6465.0,\n",
       " 6580.0,\n",
       " 6615.0,\n",
       " 6630.0,\n",
       " 6655.0,\n",
       " 6711.0,\n",
       " 6720.0,\n",
       " 6730.0,\n",
       " 6775.0,\n",
       " 6870.0,\n",
       " 6900.0,\n",
       " 6970.0,\n",
       " 7055.0,\n",
       " 7104.0,\n",
       " 7130.0,\n",
       " 7150.0,\n",
       " 7175.0,\n",
       " 7185.0,\n",
       " 7209.0,\n",
       " 7225.0,\n",
       " 7300.0,\n",
       " 7440.0,\n",
       " 7500.0,\n",
       " 7503.0,\n",
       " 7520.0,\n",
       " 7525.0,\n",
       " 7680.0,\n",
       " 7745.0,\n",
       " 7755.0,\n",
       " 7800.0,\n",
       " 7840.0,\n",
       " 7900.0,\n",
       " 8000.0,\n",
       " 8485.0,\n",
       " 8640.0,\n",
       " 8795.0,\n",
       " 9000.0,\n",
       " 9100.0,\n",
       " 9155.0,\n",
       " 9290.0,\n",
       " 9300.0,\n",
       " 9450.0,\n",
       " 9530.0,\n",
       " 9680.0,\n",
       " 9880.0,\n",
       " 10135.0,\n",
       " 10310.0,\n",
       " 10320.0,\n",
       " 10345.0,\n",
       " 10400.0,\n",
       " 10470.0,\n",
       " 10534.0,\n",
       " 10575.0,\n",
       " 10685.0,\n",
       " 10745.0,\n",
       " 10898.0,\n",
       " 11050.0,\n",
       " 11100.0,\n",
       " 11300.0,\n",
       " 11400.0,\n",
       " 11435.0,\n",
       " 11560.0,\n",
       " 11650.0,\n",
       " 11680.0,\n",
       " 11740.0,\n",
       " 11955.0,\n",
       " 11960.0,\n",
       " 12190.0,\n",
       " 12240.0,\n",
       " 12350.0,\n",
       " 12354.0,\n",
       " 12708.0,\n",
       " 12779.0,\n",
       " 12795.0,\n",
       " 12890.0,\n",
       " 12910.0,\n",
       " 12915.0,\n",
       " 12930.0,\n",
       " 13075.0,\n",
       " 13160.0,\n",
       " 13190.0,\n",
       " 13200.0,\n",
       " 13225.0,\n",
       " 13350.0,\n",
       " 13610.0,\n",
       " 13720.0,\n",
       " 13860.0,\n",
       " 14430.0,\n",
       " 14438.0,\n",
       " 14500.0,\n",
       " 14650.0,\n",
       " 14800.0,\n",
       " 14864.0,\n",
       " 14900.0,\n",
       " 14990.0,\n",
       " 15050.0,\n",
       " 15500.0,\n",
       " 15676.0,\n",
       " 15960.0,\n",
       " 16139.0,\n",
       " 16210.0,\n",
       " 16255.0,\n",
       " 16330.0,\n",
       " 16610.0,\n",
       " 16700.0,\n",
       " 16730.0,\n",
       " 17020.0,\n",
       " 17050.0,\n",
       " 17376.0,\n",
       " 17680.0,\n",
       " 17715.0,\n",
       " 17790.0,\n",
       " 17990.0,\n",
       " 18115.0,\n",
       " 18135.0,\n",
       " 18160.0,\n",
       " 18420.0,\n",
       " 18470.0,\n",
       " 18600.0,\n",
       " 18700.0,\n",
       " 19100.0,\n",
       " 19450.0,\n",
       " 19820.0,\n",
       " 20145.0,\n",
       " 20220.0,\n",
       " 20225.0,\n",
       " 20250.0,\n",
       " 20400.0,\n",
       " 22175.0,\n",
       " 22247.0,\n",
       " 22480.0,\n",
       " 22490.0,\n",
       " 22660.0,\n",
       " 22720.0,\n",
       " 23160.0,\n",
       " 23230.0,\n",
       " 23930.0,\n",
       " 23967.5,\n",
       " 24000.0,\n",
       " 24240.0,\n",
       " 24310.0,\n",
       " 24455.0,\n",
       " 24500.0,\n",
       " 24510.0,\n",
       " 24978.0,\n",
       " 25170.0,\n",
       " 25685.0,\n",
       " 25740.0,\n",
       " 25770.0,\n",
       " 25926.0,\n",
       " 27780.0,\n",
       " 27995.0,\n",
       " 28140.0,\n",
       " 28150.0,\n",
       " 28285.0,\n",
       " 28690.0,\n",
       " 30160.0,\n",
       " 30200.0,\n",
       " 30500.0,\n",
       " 30715.0,\n",
       " 31800.0,\n",
       " 31805.0,\n",
       " 32175.0,\n",
       " 32493.0,\n",
       " 32900.0,\n",
       " 33240.0,\n",
       " 33290.0,\n",
       " 33360.0,\n",
       " 33500.0,\n",
       " 34250.0,\n",
       " 34979.5,\n",
       " 34992.0,\n",
       " 35413.0,\n",
       " 35560.0,\n",
       " 35814.0,\n",
       " 35845.0,\n",
       " 35897.0,\n",
       " 35945.0,\n",
       " 36550.0,\n",
       " 36910.0,\n",
       " 37960.0,\n",
       " 37985.0,\n",
       " 38044.0,\n",
       " 38330.0,\n",
       " 39130.0,\n",
       " 39251.0,\n",
       " 39680.0,\n",
       " 39870.0,\n",
       " 40050.0,\n",
       " 40995.0,\n",
       " 41225.0,\n",
       " 41510.0,\n",
       " 42176.0,\n",
       " 42210.0,\n",
       " 42330.0,\n",
       " 42469.0,\n",
       " 42691.0,\n",
       " 42860.0,\n",
       " 42975.0,\n",
       " 44350.0,\n",
       " 44705.0,\n",
       " 45225.0,\n",
       " 45485.0,\n",
       " 45623.0,\n",
       " 45905.0,\n",
       " 46260.0,\n",
       " 46556.0,\n",
       " 47005.0,\n",
       " 47780.0,\n",
       " 47800.0,\n",
       " 48300.0,\n",
       " 50200.0,\n",
       " 50672.4,\n",
       " 51164.0,\n",
       " 51220.0,\n",
       " 51280.0,\n",
       " 51907.5,\n",
       " 52446.0,\n",
       " 54060.0,\n",
       " 54265.0,\n",
       " 54330.0,\n",
       " 55685.0,\n",
       " 55800.0,\n",
       " 55917.5,\n",
       " 56120.0,\n",
       " 56800.0,\n",
       " 56850.0,\n",
       " 57050.0,\n",
       " 58500.0,\n",
       " 58720.0,\n",
       " 58733.5,\n",
       " 58890.0,\n",
       " 59635.0,\n",
       " 59650.0,\n",
       " 59829.0,\n",
       " 60132.0,\n",
       " 60161.0,\n",
       " 60810.0,\n",
       " 60840.0,\n",
       " 61040.0,\n",
       " 61193.0,\n",
       " 61987.5,\n",
       " 62200.0,\n",
       " 62300.0,\n",
       " 64943.0,\n",
       " 65150.0,\n",
       " 66360.0,\n",
       " 66612.0,\n",
       " 67500.0,\n",
       " 67791.0,\n",
       " 68738.5,\n",
       " 69505.0,\n",
       " 70785.0,\n",
       " 71880.0,\n",
       " 73180.0,\n",
       " 73416.0,\n",
       " 73610.0,\n",
       " 73700.0,\n",
       " 74100.0,\n",
       " 75300.0,\n",
       " 75850.0,\n",
       " 76360.0,\n",
       " 77837.0,\n",
       " 78270.0,\n",
       " 78718.5,\n",
       " 78970.0,\n",
       " 79910.0,\n",
       " 80175.0,\n",
       " 81000.0,\n",
       " 82130.0,\n",
       " 82400.0,\n",
       " 82506.0,\n",
       " 82840.0,\n",
       " 83100.0,\n",
       " 83285.0,\n",
       " 83448.0,\n",
       " 83950.0,\n",
       " 84370.0,\n",
       " 84720.0,\n",
       " 85153.0,\n",
       " 86190.0,\n",
       " 86386.0,\n",
       " 87795.0,\n",
       " 87810.0,\n",
       " 87911.0,\n",
       " 87991.0,\n",
       " 89380.5,\n",
       " 90290.0,\n",
       " 90818.0,\n",
       " 91533.0,\n",
       " 94515.0,\n",
       " 94899.0,\n",
       " 94900.0,\n",
       " 95650.0,\n",
       " 96846.0,\n",
       " 98083.0,\n",
       " 98265.0,\n",
       " 100476.0,\n",
       " 100805.0,\n",
       " 101700.0,\n",
       " 102940.0,\n",
       " 103210.0,\n",
       " 104645.0,\n",
       " 105700.0,\n",
       " 107750.0,\n",
       " 107979.0,\n",
       " 108910.0,\n",
       " 109320.0,\n",
       " 109375.0,\n",
       " 110779.0,\n",
       " 113935.0,\n",
       " 115494.0,\n",
       " 115850.0,\n",
       " 116360.0,\n",
       " 116550.0,\n",
       " 118650.0,\n",
       " 120069.0,\n",
       " 122554.0,\n",
       " 122586.5,\n",
       " 123190.0,\n",
       " 125178.0,\n",
       " 128650.0,\n",
       " 129333.5,\n",
       " 129500.0,\n",
       " 130053.0,\n",
       " 130176.0,\n",
       " 130730.0,\n",
       " 131460.0,\n",
       " 131572.0,\n",
       " 132820.0,\n",
       " 135020.0,\n",
       " 135211.0,\n",
       " 135945.0,\n",
       " 136030.0,\n",
       " 136340.0,\n",
       " 136355.0,\n",
       " 136900.0,\n",
       " 136958.0,\n",
       " 137200.0,\n",
       " 137595.5,\n",
       " 140250.0,\n",
       " 143390.5,\n",
       " 144040.0,\n",
       " 145448.0,\n",
       " 145974.0,\n",
       " 148220.0,\n",
       " 149063.0,\n",
       " 151176.0,\n",
       " 152470.0,\n",
       " 152873.0,\n",
       " 153390.0,\n",
       " 154672.0,\n",
       " 155938.0,\n",
       " 156861.0,\n",
       " 159025.0,\n",
       " 160091.0,\n",
       " 160317.0,\n",
       " 161086.0,\n",
       " 162249.0,\n",
       " 165890.0,\n",
       " 168050.5,\n",
       " 168411.0,\n",
       " 168512.0,\n",
       " 168723.0,\n",
       " 168725.0,\n",
       " 169040.5,\n",
       " 170820.0,\n",
       " 172205.0,\n",
       " 172221.0,\n",
       " 175595.0,\n",
       " 177120.0,\n",
       " 178490.0,\n",
       " 178848.0,\n",
       " 179239.0,\n",
       " 179510.0,\n",
       " 180108.0,\n",
       " 180700.0,\n",
       " 181747.0,\n",
       " 182178.0,\n",
       " 182510.0,\n",
       " 182882.5,\n",
       " 183350.0,\n",
       " 184590.0,\n",
       " 185394.5,\n",
       " 185900.0,\n",
       " 187760.0,\n",
       " 187973.5,\n",
       " 193758.0,\n",
       " 194527.0,\n",
       " 194780.0,\n",
       " 195060.0,\n",
       " 195614.0,\n",
       " 195810.0,\n",
       " 196352.5,\n",
       " 197464.5,\n",
       " 197515.0,\n",
       " 198270.0,\n",
       " 201949.5,\n",
       " 206188.0,\n",
       " 213473.0,\n",
       " 214014.5,\n",
       " 214749.0,\n",
       " 219569.0,\n",
       " 220536.51,\n",
       " 220728.0,\n",
       " 223251.0,\n",
       " 226848.0,\n",
       " 232100.0,\n",
       " 234730.0,\n",
       " 235625.0,\n",
       " 236487.0,\n",
       " 236845.0,\n",
       " 237323.0,\n",
       " 238858.0,\n",
       " 239405.0,\n",
       " 239976.0,\n",
       " 240405.0,\n",
       " 240602.5,\n",
       " 241620.0,\n",
       " 243211.0,\n",
       " 245630.0,\n",
       " 250508.0,\n",
       " 251140.0,\n",
       " 252820.5,\n",
       " 253240.0,\n",
       " 253516.0,\n",
       " 253949.0,\n",
       " 255735.0,\n",
       " 256710.0,\n",
       " 259400.0,\n",
       " 261210.0,\n",
       " 262693.0,\n",
       " 263010.0,\n",
       " 264015.0,\n",
       " 264325.0,\n",
       " 264971.0,\n",
       " 267122.0,\n",
       " 268312.0,\n",
       " 268600.0,\n",
       " 270497.0,\n",
       " 272316.0,\n",
       " 274246.0,\n",
       " 274600.0,\n",
       " 275852.0,\n",
       " 277367.0,\n",
       " 277475.0,\n",
       " 278000.0,\n",
       " 279013.5,\n",
       " 284470.0,\n",
       " 284855.0,\n",
       " 288019.5,\n",
       " 288306.0,\n",
       " 289040.0,\n",
       " 292140.0,\n",
       " 293011.0,\n",
       " 293066.0,\n",
       " 295133.0,\n",
       " 295906.5,\n",
       " 298060.0,\n",
       " 303620.0,\n",
       " 304910.0,\n",
       " 310738.0,\n",
       " 312396.0,\n",
       " 313596.0,\n",
       " 313755.0,\n",
       " 317426.5,\n",
       " 319937.5,\n",
       " 322155.0,\n",
       " 322284.0,\n",
       " 323348.5,\n",
       " 327351.5,\n",
       " 327836.0,\n",
       " 329526.0,\n",
       " 330529.6,\n",
       " 334750.0,\n",
       " 335041.0,\n",
       " 335075.0,\n",
       " 338985.5,\n",
       " 339794.0,\n",
       " 342234.5,\n",
       " 346964.0,\n",
       " 347596.5,\n",
       " 350517.0,\n",
       " 351643.0,\n",
       " 351995.0,\n",
       " 353361.0,\n",
       " 353788.5,\n",
       " 354757.0,\n",
       " 355422.0,\n",
       " 355567.0,\n",
       " 355677.0,\n",
       " 356127.0,\n",
       " 356884.0,\n",
       " 357229.0,\n",
       " 359980.0,\n",
       " 364844.5,\n",
       " 365353.6,\n",
       " 366998.0,\n",
       " 367224.0,\n",
       " 367404.0,\n",
       " 368738.0,\n",
       " 369016.5,\n",
       " 371118.0,\n",
       " 371909.0,\n",
       " 372702.5,\n",
       " 375529.0,\n",
       " 375580.0,\n",
       " 378059.0,\n",
       " 379195.0,\n",
       " 380009.0,\n",
       " 385450.0,\n",
       " 387231.0,\n",
       " 387247.0,\n",
       " 388919.0,\n",
       " 391618.0,\n",
       " 392225.0,\n",
       " 399304.0,\n",
       " 402235.0,\n",
       " 406271.0,\n",
       " 406436.0,\n",
       " 407968.0,\n",
       " 410058.0,\n",
       " 419324.0,\n",
       " 421571.5,\n",
       " 421940.0,\n",
       " 422271.0,\n",
       " 426247.5,\n",
       " 429369.0,\n",
       " 433831.0,\n",
       " 434117.0,\n",
       " 434714.0,\n",
       " 434992.5,\n",
       " 435132.0,\n",
       " 438755.5,\n",
       " 443885.5,\n",
       " 450488.0,\n",
       " 450738.0,\n",
       " 450962.0,\n",
       " 451387.0,\n",
       " 456626.5,\n",
       " 457334.0,\n",
       " 457576.0,\n",
       " 463485.0,\n",
       " 468052.5,\n",
       " 474071.5,\n",
       " 474785.0,\n",
       " 474952.0,\n",
       " 476180.0,\n",
       " 476537.0,\n",
       " 477775.0,\n",
       " 478654.0,\n",
       " 480077.0,\n",
       " 481011.0,\n",
       " 483403.0,\n",
       " 485603.0,\n",
       " 489652.0,\n",
       " 489919.0,\n",
       " 492710.5,\n",
       " 493391.5,\n",
       " 494964.0,\n",
       " 495068.0,\n",
       " 497190.0,\n",
       " 504286.5,\n",
       " 504582.0,\n",
       " 508898.5,\n",
       " 509707.0,\n",
       " 513783.98,\n",
       " 515980.0,\n",
       " 526930.0,\n",
       " 530473.0,\n",
       " 530489.0,\n",
       " 533483.0,\n",
       " 534899.0,\n",
       " 537157.0,\n",
       " 539250.0,\n",
       " 539875.0,\n",
       " 540328.0,\n",
       " 543036.5,\n",
       " 547720.0,\n",
       " 549050.0,\n",
       " 550690.0,\n",
       " 550965.5,\n",
       " 554251.0,\n",
       " 557128.5,\n",
       " 558928.0,\n",
       " 559464.5,\n",
       " 567812.0,\n",
       " 574543.0,\n",
       " 575530.0,\n",
       " 581840.0,\n",
       " 585614.0,\n",
       " 587178.0,\n",
       " 588883.5,\n",
       " 596072.0,\n",
       " 596373.0,\n",
       " 598774.0,\n",
       " 599348.0,\n",
       " 599420.0,\n",
       " 600900.0,\n",
       " 602682.0,\n",
       " 603123.5,\n",
       " 607588.0,\n",
       " 609274.0,\n",
       " 618196.0,\n",
       " 618263.0,\n",
       " 621050.0,\n",
       " 623349.0,\n",
       " 627891.0,\n",
       " 633970.0,\n",
       " 636264.0,\n",
       " 636446.5,\n",
       " 636862.5,\n",
       " 642571.0,\n",
       " 644495.0,\n",
       " 647648.0,\n",
       " 649742.0,\n",
       " 654165.0,\n",
       " 654450.0,\n",
       " 655891.5,\n",
       " 658870.0,\n",
       " 663160.0,\n",
       " 665442.0,\n",
       " 671713.0,\n",
       " 678340.0,\n",
       " 682090.0,\n",
       " 683318.0,\n",
       " 685838.0,\n",
       " 687596.5,\n",
       " 695556.0,\n",
       " 699254.0,\n",
       " 701958.5,\n",
       " 702194.0,\n",
       " 708331.0,\n",
       " 710627.01,\n",
       " 711362.5,\n",
       " 716681.5,\n",
       " 722415.0,\n",
       " 730237.0,\n",
       " 739938.0,\n",
       " 740803.0,\n",
       " 742164.0,\n",
       " 744870.5,\n",
       " 745019.5,\n",
       " 745510.0,\n",
       " 749703.0,\n",
       " 750871.0,\n",
       " 750963.0,\n",
       " 752334.5,\n",
       " 754257.0,\n",
       " 757479.5,\n",
       " 761290.0,\n",
       " 761930.0,\n",
       " 763958.0,\n",
       " 768329.5,\n",
       " 772490.0,\n",
       " 774210.0,\n",
       " 779027.6,\n",
       " 779637.0,\n",
       " 782806.5,\n",
       " 783851.0,\n",
       " 785030.0,\n",
       " 788647.0,\n",
       " 789792.5,\n",
       " 790072.0,\n",
       " 800069.5,\n",
       " 801370.0,\n",
       " 802765.0,\n",
       " 804056.0,\n",
       " 804578.0,\n",
       " 805605.0,\n",
       " 807011.5,\n",
       " 807233.0,\n",
       " 812149.0,\n",
       " 812581.0,\n",
       " 814425.0,\n",
       " 814460.0,\n",
       " 818004.5,\n",
       " 820051.0,\n",
       " 820589.0,\n",
       " 823401.8,\n",
       " 824167.0,\n",
       " 836561.0,\n",
       " 842234.0,\n",
       " 844808.0,\n",
       " 851489.02,\n",
       " 854334.5,\n",
       " 855778.0,\n",
       " 860810.0,\n",
       " 866283.0,\n",
       " 869148.0,\n",
       " 869181.0,\n",
       " 872839.5,\n",
       " 874071.0,\n",
       " 874498.0,\n",
       " 878324.5,\n",
       " 880463.0,\n",
       " 883640.0,\n",
       " 885429.5,\n",
       " 886190.5,\n",
       " 888182.0,\n",
       " 891517.5,\n",
       " 891760.5,\n",
       " 899420.0,\n",
       " 903455.0,\n",
       " 906638.0,\n",
       " 907478.0,\n",
       " 908580.5,\n",
       " 909174.0,\n",
       " 911340.0,\n",
       " 912125.4,\n",
       " 915023.06,\n",
       " 922848.0,\n",
       " 930183.0,\n",
       " 931941.0,\n",
       " 940421.0,\n",
       " 941788.0,\n",
       " 943479.0,\n",
       " 944890.0,\n",
       " 947288.0,\n",
       " 953887.5,\n",
       " 955970.5,\n",
       " 956165.5,\n",
       " 956554.5,\n",
       " 959307.0,\n",
       " 960353.0,\n",
       " 966539.0,\n",
       " 974703.0,\n",
       " 976600.0,\n",
       " 976775.5,\n",
       " 977447.5,\n",
       " 977480.0,\n",
       " 980911.0,\n",
       " 988205.5,\n",
       " 988413.0,\n",
       " 991582.0,\n",
       " 991888.0,\n",
       " 996669.0,\n",
       " 1003722.5,\n",
       " 1007437.0,\n",
       " 1012749.0,\n",
       " 1012970.51,\n",
       " 1015408.5,\n",
       " ...]"
      ]
     },
     "execution_count": 714,
     "metadata": {},
     "output_type": "execute_result"
    }
   ],
   "source": [
    "df['box_office'].sort_values().unique().tolist()"
   ]
  },
  {
   "cell_type": "markdown",
   "metadata": {},
   "source": [
    "<div class=\"alert alert-block alert-info\">\n",
    "    <ul type='circle'>\n",
    "\n",
    "Никаких проблем не видно. \n",
    "        \n",
    "Поделим все денежные категории на 1 млн, чтобы работать с небольшими числами"
   ]
  },
  {
   "cell_type": "code",
   "execution_count": 715,
   "metadata": {},
   "outputs": [],
   "source": [
    "# Создадим список денежных категорий и поделим его на 1 млн\n",
    "\n",
    "cash_list = [\n",
    "    'refundable_support', 'nonrefundable_support', \n",
    "    'budget', 'box_office'\n",
    "]\n",
    "\n",
    "for i in cash_list:\n",
    "    df[i] = df[i] / 1000000"
   ]
  },
  {
   "cell_type": "markdown",
   "metadata": {
    "id": "Eu6oWp2CgFyS"
   },
   "source": [
    "#### Шаг 2.6. Добавьте новые столбцы\n",
    "\n",
    "\n",
    "\n"
   ]
  },
  {
   "cell_type": "markdown",
   "metadata": {
    "id": "7GgW-UpAgFyS"
   },
   "source": [
    "- Создайте столбец с информацией о годе проката. Выделите год из даты премьеры фильма."
   ]
  },
  {
   "cell_type": "code",
   "execution_count": 716,
   "metadata": {
    "id": "I-yd1DkWgFyT"
   },
   "outputs": [],
   "source": [
    "# Создаем столбец с информацией о годе проката\n",
    "\n",
    "df['year_of_show'] = df['show_start_date'].dt.year"
   ]
  },
  {
   "cell_type": "markdown",
   "metadata": {
    "id": "nFTDLDYOgFyT"
   },
   "source": [
    "- Создайте два столбца: с именем и фамилией главного режиссёра и основным жанром фильма. В столбцы войдут первые значения из списка режиссёров и жанров соответственно.\n",
    "\n",
    "<div id=\"accordion\">\n",
    "    <div class=\"card\">\n",
    "        <div class=\"card-header\" id=\"headingThree\">\n",
    "            <button class=\"btn btn-link collapsed\" data-toggle=\"collapse\" data-target=\"#collapseHint_2\" aria-expanded=\"false\" aria-controls=\"collapseHint_2\">Подсказка</button>\n",
    "        </div>\n",
    "        <div id=\"collapseHint_2\" class=\"collapse\" aria-labelledby=\"headingThree\" data-parent=\"#accordion\">\n",
    "            <div class=\"card-body\">\n",
    "Чтобы создать такие столбцы, лучше всего использовать собственную функцию. Эту функцию можно применить к двум столбцам сразу. \n",
    "            </div>\n",
    "        </div>\n",
    "    </div>\n",
    "</div>"
   ]
  },
  {
   "cell_type": "code",
   "execution_count": 717,
   "metadata": {},
   "outputs": [
    {
     "name": "stderr",
     "output_type": "stream",
     "text": [
      "/var/folders/r8/f9pnzbcd4rq_1f11k5rtm6w40000gn/T/ipykernel_9532/3626436813.py:12: SettingWithCopyWarning: \n",
      "A value is trying to be set on a copy of a slice from a DataFrame\n",
      "\n",
      "See the caveats in the documentation: https://pandas.pydata.org/pandas-docs/stable/user_guide/indexing.html#returning-a-view-versus-a-copy\n",
      "  df['main_' + i][idx] = str(j).partition(',')[0]\n",
      "/var/folders/r8/f9pnzbcd4rq_1f11k5rtm6w40000gn/T/ipykernel_9532/3626436813.py:12: SettingWithCopyWarning: \n",
      "A value is trying to be set on a copy of a slice from a DataFrame\n",
      "\n",
      "See the caveats in the documentation: https://pandas.pydata.org/pandas-docs/stable/user_guide/indexing.html#returning-a-view-versus-a-copy\n",
      "  df['main_' + i][idx] = str(j).partition(',')[0]\n"
     ]
    }
   ],
   "source": [
    "# Создаем список с режисерами и жанрами.\n",
    "# Делаем цикл в цикле, и создаем 2 новых столбца \n",
    "# с главными режисерами и жанрами\n",
    "\n",
    "columns_list = [\n",
    "    'director', 'genres',\n",
    "]\n",
    "\n",
    "for i in columns_list:\n",
    "    df['main_' + i] = df[i]\n",
    "    for idx, j in enumerate(df['main_' + i]):\n",
    "        df['main_' + i][idx] = str(j).partition(',')[0]"
   ]
  },
  {
   "cell_type": "markdown",
   "metadata": {
    "id": "1FsCXHwdgFyU"
   },
   "source": [
    "- Посчитайте, какую долю от общего бюджета фильма составляет государственная поддержка."
   ]
  },
  {
   "cell_type": "code",
   "execution_count": 718,
   "metadata": {
    "id": "LV6qFuZLgFyV"
   },
   "outputs": [],
   "source": [
    "# Считаем долю государственной поддержки от общего бюджета фильма\n",
    "\n",
    "df['share_of_government_support'] = (df['refundable_support'] + df['nonrefundable_support']) / df['budget']"
   ]
  },
  {
   "cell_type": "markdown",
   "metadata": {
    "id": "6t4EukPLgFyV"
   },
   "source": [
    "### Шаг 3. Проведите исследовательский анализ данных\n"
   ]
  },
  {
   "cell_type": "markdown",
   "metadata": {
    "id": "vAH8WCzugFyV"
   },
   "source": [
    "- Посмотрите, сколько фильмов выходило в прокат каждый год. Обратите внимание, что данные о прокате в кинотеатрах известны не для всех фильмов. Посчитайте, какую долю составляют фильмы с указанной информацией о прокате в кинотеатрах."
   ]
  },
  {
   "cell_type": "code",
   "execution_count": 719,
   "metadata": {
    "id": "ABeV47y7gFyW"
   },
   "outputs": [
    {
     "data": {
      "image/png": "[encoded data removed]",
      "text/plain": [
       "<Figure size 640x480 with 1 Axes>"
      ]
     },
     "metadata": {},
     "output_type": "display_data"
    }
   ],
   "source": [
    "# Смотрим, сколько фильмов выходило в прокат каждый год.\n",
    "\n",
    "shows_per_year = df.pivot_table(index='year_of_show', values='title', aggfunc='count')\n",
    "\n",
    "shows_per_year.plot(y='title', style='o-', grid=True)\n",
    "plt.title('Зависимотсть колличества фильмов вышедших в прокат от года', fontsize=15)\n",
    "plt.show()\n",
    "\n",
    "# corr_shows_per_year = df['year_of_show'].corr(df['title'].count())\n",
    "# print(f'Корреляции Пирсона: {corr_shows_per_year}')"
   ]
  },
  {
   "cell_type": "markdown",
   "metadata": {
    "id": "BEOdcIrIgFyW"
   },
   "source": [
    "- Изучите, как менялась динамика проката по годам. В каком году сумма сборов была минимальной? А максимальной?"
   ]
  },
  {
   "cell_type": "code",
   "execution_count": 720,
   "metadata": {
    "id": "tfEhofYvgFyX"
   },
   "outputs": [
    {
     "data": {
      "image/png": "[encoded data removed]",
      "text/plain": [
       "<Figure size 640x480 with 1 Axes>"
      ]
     },
     "metadata": {},
     "output_type": "display_data"
    },
    {
     "name": "stdout",
     "output_type": "stream",
     "text": [
      "Корреляции Пирсона: 0.1446211945070748\n"
     ]
    }
   ],
   "source": [
    "# Смотрим, как менялась сумма сборов проката по годам.\n",
    "\n",
    "box_office_per_year = df.pivot_table(index='year_of_show', values='box_office', aggfunc='sum')\n",
    "\n",
    "box_office_per_year.plot(y='box_office', style='o-', grid=True)\n",
    "plt.title('Зависимотсть колличества фильмов вышедших в прокат от года', fontsize=15)\n",
    "plt.show()\n",
    "\n",
    "corr_box_office_per_year = df['year_of_show'].corr(df['box_office'])\n",
    "print(f'Корреляции Пирсона: {corr_box_office_per_year}')"
   ]
  },
  {
   "cell_type": "markdown",
   "metadata": {
    "id": "G-7qS-N-gFyY"
   },
   "source": [
    "- С помощью сводной таблицы посчитайте среднюю и медианную сумму сборов для каждого года."
   ]
  },
  {
   "cell_type": "code",
   "execution_count": 721,
   "metadata": {
    "id": "jmp-rgg9gFyY"
   },
   "outputs": [
    {
     "data": {
      "text/html": [
       "<div>\n",
       "<style scoped>\n",
       "    .dataframe tbody tr th:only-of-type {\n",
       "        vertical-align: middle;\n",
       "    }\n",
       "\n",
       "    .dataframe tbody tr th {\n",
       "        vertical-align: top;\n",
       "    }\n",
       "\n",
       "    .dataframe thead tr th {\n",
       "        text-align: left;\n",
       "    }\n",
       "\n",
       "    .dataframe thead tr:last-of-type th {\n",
       "        text-align: right;\n",
       "    }\n",
       "</style>\n",
       "<table border=\"1\" class=\"dataframe\">\n",
       "  <thead>\n",
       "    <tr>\n",
       "      <th></th>\n",
       "      <th>mean</th>\n",
       "      <th>median</th>\n",
       "    </tr>\n",
       "    <tr>\n",
       "      <th></th>\n",
       "      <th>box_office</th>\n",
       "      <th>box_office</th>\n",
       "    </tr>\n",
       "    <tr>\n",
       "      <th>year_of_show</th>\n",
       "      <th></th>\n",
       "      <th></th>\n",
       "    </tr>\n",
       "  </thead>\n",
       "  <tbody>\n",
       "    <tr>\n",
       "      <th>2010</th>\n",
       "      <td>0.026981</td>\n",
       "      <td>0.001868</td>\n",
       "    </tr>\n",
       "    <tr>\n",
       "      <th>2011</th>\n",
       "      <td>0.142290</td>\n",
       "      <td>0.003043</td>\n",
       "    </tr>\n",
       "    <tr>\n",
       "      <th>2012</th>\n",
       "      <td>0.055734</td>\n",
       "      <td>0.006693</td>\n",
       "    </tr>\n",
       "    <tr>\n",
       "      <th>2013</th>\n",
       "      <td>0.169139</td>\n",
       "      <td>0.003565</td>\n",
       "    </tr>\n",
       "    <tr>\n",
       "      <th>2014</th>\n",
       "      <td>28.687154</td>\n",
       "      <td>0.022490</td>\n",
       "    </tr>\n",
       "    <tr>\n",
       "      <th>2015</th>\n",
       "      <td>74.442343</td>\n",
       "      <td>4.327266</td>\n",
       "    </tr>\n",
       "    <tr>\n",
       "      <th>2016</th>\n",
       "      <td>87.288313</td>\n",
       "      <td>3.640802</td>\n",
       "    </tr>\n",
       "    <tr>\n",
       "      <th>2017</th>\n",
       "      <td>136.408860</td>\n",
       "      <td>10.177834</td>\n",
       "    </tr>\n",
       "    <tr>\n",
       "      <th>2018</th>\n",
       "      <td>101.633461</td>\n",
       "      <td>8.821499</td>\n",
       "    </tr>\n",
       "    <tr>\n",
       "      <th>2019</th>\n",
       "      <td>92.738315</td>\n",
       "      <td>4.774520</td>\n",
       "    </tr>\n",
       "  </tbody>\n",
       "</table>\n",
       "</div>"
      ],
      "text/plain": [
       "                    mean     median\n",
       "              box_office box_office\n",
       "year_of_show                       \n",
       "2010            0.026981   0.001868\n",
       "2011            0.142290   0.003043\n",
       "2012            0.055734   0.006693\n",
       "2013            0.169139   0.003565\n",
       "2014           28.687154   0.022490\n",
       "2015           74.442343   4.327266\n",
       "2016           87.288313   3.640802\n",
       "2017          136.408860  10.177834\n",
       "2018          101.633461   8.821499\n",
       "2019           92.738315   4.774520"
      ]
     },
     "execution_count": 721,
     "metadata": {},
     "output_type": "execute_result"
    }
   ],
   "source": [
    "# Смотрим среднюю и медианную сумму сборов для каждого года.\n",
    "\n",
    "box_office_median_per_year = df.pivot_table(index='year_of_show', values='box_office', aggfunc=['mean', 'median'])\n",
    "box_office_median_per_year"
   ]
  },
  {
   "cell_type": "markdown",
   "metadata": {
    "id": "Ok89WFwJgFyZ"
   },
   "source": [
    "- Определите, влияет ли возрастное ограничение аудитории («6+», «12+», «16+», «18+» и т. д.) на сборы фильма в прокате в период с 2015 по 2019 год? Фильмы с каким возрастным ограничением собрали больше всего денег в прокате? Меняется ли картина в зависимости от года? Если да, предположите, с чем это может быть связано."
   ]
  },
  {
   "cell_type": "code",
   "execution_count": 722,
   "metadata": {},
   "outputs": [
    {
     "data": {
      "image/png": "[encoded data removed]",
      "text/plain": [
       "<Figure size 640x480 with 1 Axes>"
      ]
     },
     "metadata": {},
     "output_type": "display_data"
    }
   ],
   "source": [
    "# Создадим список с возрастными ограничиниями\n",
    "# Создадим сводную таблицу и круговую диограмму\n",
    "\n",
    "age_list = [\n",
    "    '1«6+» - для детей старше 6 лет',\n",
    "    '«12+» - для детей старше 12 лет',\n",
    "    '«16+» - для детей старше 16 лет',\n",
    "    '«18+» - запрещено для детей'\n",
    "]\n",
    "\n",
    "box_office_per_age = (\n",
    "    df.query('age_restriction in @age_list and 2015 <= year_of_show <= 2019')\n",
    "    .pivot_table(index='age_restriction', values='box_office', aggfunc='sum')\n",
    ")\n",
    "\n",
    "box_office_per_age.plot(y='box_office', kind='pie', grid=True)\n",
    "plt.title('Возрастное ограничение аудитории на сборы фильма в прокате' \n",
    "          'в период с 2015 по 2019 год', fontsize=15)\n",
    "plt.show()"
   ]
  },
  {
   "cell_type": "markdown",
   "metadata": {},
   "source": [
    "<div class=\"alert alert-block alert-info\">\n",
    "    <ul type='circle'>\n",
    "\n",
    "Больше всего фильмов вышло в прокат в 2019-м году. Меньше всего в 2011-м году. Корреляции не прослеживается.\n",
    "        \n",
    "Максимальная сумма сборов была в 2017-м. Минимальная в 2010-м году. Корреляции почти нет.\n",
    "        \n",
    "Средняя и медианная сумма сборов по каждому году отличается в разы в пользу среднего. Это говорит о том, что были кассовые фильмы которые взяли на себя большую часть выручки от всего проката.\n",
    "        \n",
    "Самыми кассовыми стали фильмы с рейтингом 16+. Самую меньшую долю занимают фильмы с рейтингом 18+. Логично, что чем ниже возрастной рейтинг, тем больше потенциальная аудитория. Однако блокбастеров разрешенных к показу до 16 лет не так много, поэтому категории 6+ и 12+ лет немного проседают относительно 16+. \n",
    "        \n",
    "Зависимости сборов фильмов от года в сочетании с возрастным ограничением – нет. В каждом рейтинге есть свои просадки, но все они в разные года. "
   ]
  },
  {
   "cell_type": "markdown",
   "metadata": {
    "id": "l_Kg6Ku4gFya"
   },
   "source": [
    "### Шаг 4. Исследуйте фильмы, которые получили государственную поддержку\n",
    "\n",
    "На этом этапе нет конкретных инструкций и заданий — поищите интересные закономерности в данных. Посмотрите, сколько выделяют средств на поддержку кино. Проверьте, хорошо ли окупаются такие фильмы, какой у них рейтинг."
   ]
  },
  {
   "cell_type": "code",
   "execution_count": 725,
   "metadata": {},
   "outputs": [
    {
     "data": {
      "text/plain": [
       "count    329.000000\n",
       "mean      59.713338\n",
       "std       68.888970\n",
       "min        3.000000\n",
       "25%       25.345000\n",
       "50%       35.000000\n",
       "75%       60.000000\n",
       "max      500.000000\n",
       "Name: support, dtype: float64"
      ]
     },
     "execution_count": 725,
     "metadata": {},
     "output_type": "execute_result"
    }
   ],
   "source": [
    "# Создадим столбец с общим бюджетом государственной поддержки\n",
    "\n",
    "df['support'] = df['refundable_support'] + df['nonrefundable_support']\n",
    "df['support'].describe()"
   ]
  },
  {
   "cell_type": "code",
   "execution_count": 767,
   "metadata": {},
   "outputs": [],
   "source": [
    "# Создаем отдельную таблицу с фильмами получившими гос поддержку\n",
    "\n",
    "df_support = df.query('support == support')"
   ]
  },
  {
   "cell_type": "code",
   "execution_count": 789,
   "metadata": {},
   "outputs": [
    {
     "data": {
      "image/png": "[encoded data removed]",
      "text/plain": [
       "<Figure size 800x500 with 1 Axes>"
      ]
     },
     "metadata": {},
     "output_type": "display_data"
    },
    {
     "name": "stdout",
     "output_type": "stream",
     "text": [
      "count    329.000000\n",
      "mean      59.713338\n",
      "std       68.888970\n",
      "min        3.000000\n",
      "25%       25.345000\n",
      "50%       35.000000\n",
      "75%       60.000000\n",
      "max      500.000000\n",
      "Name: support, dtype: float64\n"
     ]
    },
    {
     "data": {
      "image/png": "[encoded data removed]",
      "text/plain": [
       "<Figure size 800x500 with 1 Axes>"
      ]
     },
     "metadata": {},
     "output_type": "display_data"
    }
   ],
   "source": [
    "# Построим гистограмму государственной поддержки\n",
    "\n",
    "\n",
    "df_support['support'].hist(bins=50, range = (0, df_support['support'].max()), figsize=(8, 5)) \n",
    "plt.title('support', fontsize=15)\n",
    "plt.show()\n",
    "print(df_support['support'].describe())\n",
    "\n",
    "plt.figure(figsize=(8, 5))\n",
    "df_support.boxplot(column='support')\n",
    "plt.title(f'Поиск аномалий в support', fontsize=15)\n",
    "plt.ylim(0, 150)\n",
    "plt.show()  "
   ]
  },
  {
   "cell_type": "code",
   "execution_count": 776,
   "metadata": {},
   "outputs": [
    {
     "name": "stderr",
     "output_type": "stream",
     "text": [
      "/var/folders/r8/f9pnzbcd4rq_1f11k5rtm6w40000gn/T/ipykernel_9532/3985375106.py:3: SettingWithCopyWarning: \n",
      "A value is trying to be set on a copy of a slice from a DataFrame.\n",
      "Try using .loc[row_indexer,col_indexer] = value instead\n",
      "\n",
      "See the caveats in the documentation: https://pandas.pydata.org/pandas-docs/stable/user_guide/indexing.html#returning-a-view-versus-a-copy\n",
      "  df_support['payback'] = df_support['box_office'] - df_support['budget']\n"
     ]
    }
   ],
   "source": [
    "# Создадим столбец окупаемости\n",
    "\n",
    "df_support['payback'] = df_support['box_office'] - df_support['budget']"
   ]
  },
  {
   "cell_type": "code",
   "execution_count": 792,
   "metadata": {},
   "outputs": [
    {
     "data": {
      "image/png": "[encoded data removed]",
      "text/plain": [
       "<Figure size 800x500 with 1 Axes>"
      ]
     },
     "metadata": {},
     "output_type": "display_data"
    },
    {
     "name": "stdout",
     "output_type": "stream",
     "text": [
      "count     316.000000\n",
      "mean        5.205385\n",
      "std       319.982926\n",
      "min     -1971.477243\n",
      "25%       -70.050756\n",
      "50%       -40.060257\n",
      "75%         2.709907\n",
      "max      2913.568691\n",
      "Name: payback, dtype: float64\n"
     ]
    }
   ],
   "source": [
    "# Построим гистограмму государственной поддержки\n",
    "\n",
    "\n",
    "df_support['payback'].hist(bins=50, range = (df_support['payback'].min(), df_support['payback'].max()), figsize=(8, 5)) \n",
    "plt.title('payback', fontsize=15)\n",
    "plt.show()\n",
    "print(df_support['payback'].describe())"
   ]
  },
  {
   "cell_type": "code",
   "execution_count": 808,
   "metadata": {},
   "outputs": [],
   "source": [
    "# Сделаем сводную таблицу лучшей и худшей окупаемости\n",
    "\n",
    "payback_best_pivot = df_support.pivot_table(index='title', values='payback', aggfunc='sum').sort_values(by='payback', ascending=False).head(10)\n",
    "payback_worst_pivot = df_support.pivot_table(index='title', values='payback', aggfunc='sum').sort_values(by='payback', ascending=False).head(10)"
   ]
  },
  {
   "cell_type": "code",
   "execution_count": 809,
   "metadata": {},
   "outputs": [],
   "source": [
    "# По сводным таблицам делаем срезы со всеми столбцами\n",
    "\n",
    "payback_best = df_support.query('title in @payback_best_pivot.index')\n",
    "payback_worst = df_support.query('title in @payback_worst_pivot.index')"
   ]
  },
  {
   "cell_type": "code",
   "execution_count": 812,
   "metadata": {},
   "outputs": [],
   "source": [
    "# Сделаем 2 среза с окупившимися и не окупившимися фильмами\n",
    "\n",
    "paid_off = df_support.query('payback >= 0')\n",
    "didnt_paid_off = df_support.query('payback < 0')"
   ]
  },
  {
   "cell_type": "code",
   "execution_count": 826,
   "metadata": {},
   "outputs": [
    {
     "name": "stdout",
     "output_type": "stream",
     "text": [
      "Процент окупившихся фильмов: 25%\n"
     ]
    }
   ],
   "source": [
    "# Посчитаем долю окупившихся фильмов\n",
    "\n",
    "paid_off_percent = round(paid_off['title'].count() / df_support['title'].count(), 2)\n",
    "print('Процент окупившихся фильмов: {:.0%}'.format(paid_off_percent))"
   ]
  },
  {
   "cell_type": "code",
   "execution_count": 867,
   "metadata": {},
   "outputs": [
    {
     "data": {
      "image/png": "[encoded data removed]",
      "text/plain": [
       "<Figure size 640x480 with 1 Axes>"
      ]
     },
     "metadata": {},
     "output_type": "display_data"
    },
    {
     "name": "stdout",
     "output_type": "stream",
     "text": [
      "                                             payback\n",
      "age_restriction                                     \n",
      "1«6+» - для детей старше 6 лет           7327.479678\n",
      "«0+» - для любой зрительской аудитории     61.000275\n",
      "«12+» - для детей старше 12 лет         11245.592759\n",
      "«16+» - для детей старше 16 лет          4069.292773\n",
      "«18+» - запрещено для детей                83.667032\n"
     ]
    }
   ],
   "source": [
    "# Построим круговую диограмму возрастных ограничений аудитории\n",
    "\n",
    "box_office_paid_off_per_age = (\n",
    "    paid_off\n",
    "    .pivot_table(index='age_restriction', values='payback', aggfunc='sum')\n",
    ")\n",
    "\n",
    "box_office_paid_off_per_age.plot(y='payback', kind='pie', grid=True)\n",
    "plt.title('Возрастное ограничение аудитории в окупившихся фильмах', fontsize=15)\n",
    "plt.show() \n",
    "\n",
    "print(box_office_paid_off_per_age)"
   ]
  },
  {
   "cell_type": "code",
   "execution_count": 870,
   "metadata": {},
   "outputs": [
    {
     "data": {
      "image/png": "[encoded data removed]",
      "text/plain": [
       "<Figure size 640x480 with 1 Axes>"
      ]
     },
     "metadata": {},
     "output_type": "display_data"
    },
    {
     "name": "stdout",
     "output_type": "stream",
     "text": [
      "                                     payback\n",
      "age_restriction                             \n",
      "1«6+» - для детей старше 6 лет   4222.296984\n",
      "«12+» - для детей старше 12 лет  8259.566156\n",
      "«16+» - для детей старше 16 лет   552.409725\n"
     ]
    }
   ],
   "source": [
    "# Построим круговую диограмму возрастных ограничений аудитории\n",
    "# среди топ 10 фильмов\n",
    "\n",
    "ten_best_paid_off = (\n",
    "    paid_off\n",
    "    .pivot_table(index='title', values='payback', aggfunc='sum')\n",
    "    .sort_values(by='payback', ascending=False).head(10)\n",
    ")\n",
    "\n",
    "ten_best_paid_off_per_age = (\n",
    "    paid_off.query('title in @ten_best_paid_off.index')\n",
    "    .pivot_table(index='age_restriction', values='payback', aggfunc='sum')\n",
    ")\n",
    "\n",
    "ten_best_paid_off_per_age.plot(y='payback', kind='pie', grid=True)\n",
    "plt.title('Возрастное ограничение аудитории в топ 10 окупившихся фильмах', fontsize=15)\n",
    "plt.show() \n",
    "\n",
    "print(ten_best_paid_off_per_age)"
   ]
  },
  {
   "cell_type": "code",
   "execution_count": 856,
   "metadata": {},
   "outputs": [
    {
     "name": "stderr",
     "output_type": "stream",
     "text": [
      "/var/folders/r8/f9pnzbcd4rq_1f11k5rtm6w40000gn/T/ipykernel_9532/1770995632.py:4: SettingWithCopyWarning: \n",
      "A value is trying to be set on a copy of a slice from a DataFrame.\n",
      "Try using .loc[row_indexer,col_indexer] = value instead\n",
      "\n",
      "See the caveats in the documentation: https://pandas.pydata.org/pandas-docs/stable/user_guide/indexing.html#returning-a-view-versus-a-copy\n",
      "  didnt_paid_off['payback'] = didnt_paid_off['payback'] * -1\n"
     ]
    },
    {
     "data": {
      "image/png": "[encoded data removed]",
      "text/plain": [
       "<Figure size 640x480 with 1 Axes>"
      ]
     },
     "metadata": {},
     "output_type": "display_data"
    },
    {
     "name": "stdout",
     "output_type": "stream",
     "text": [
      "                                            payback\n",
      "age_restriction                                    \n",
      "1«6+» - для детей старше 6 лет          6264.394232\n",
      "«0+» - для любой зрительской аудитории   314.746028\n",
      "«12+» - для детей старше 12 лет         5177.514604\n",
      "«16+» - для детей старше 16 лет         7611.130381\n",
      "«18+» - запрещено для детей             1774.345457\n"
     ]
    }
   ],
   "source": [
    "# Построим круговую диограмму возрастных ограничений аудитории\n",
    "# Среди не окупившихся фильмов\n",
    "\n",
    "didnt_paid_off['payback'] = didnt_paid_off['payback'] * -1\n",
    "\n",
    "worst_office_paid_off_per_age = (\n",
    "    didnt_paid_off\n",
    "    .pivot_table(index='age_restriction', values='payback', aggfunc='sum')\n",
    ")\n",
    "\n",
    "worst_office_paid_off_per_age.plot(y='payback', kind='pie', grid=True)\n",
    "plt.title('Возрастное ограничение аудитории в не окупившихся фильмах', fontsize=15)\n",
    "plt.show() \n",
    "\n",
    "print(worst_office_paid_off_per_age)"
   ]
  },
  {
   "cell_type": "code",
   "execution_count": 871,
   "metadata": {},
   "outputs": [
    {
     "data": {
      "image/png": "[encoded data removed]",
      "text/plain": [
       "<Figure size 640x480 with 1 Axes>"
      ]
     },
     "metadata": {},
     "output_type": "display_data"
    },
    {
     "name": "stdout",
     "output_type": "stream",
     "text": [
      "                                     payback\n",
      "age_restriction                             \n",
      "1«6+» - для детей старше 6 лет   2655.532942\n",
      "«12+» - для детей старше 12 лет   689.718497\n",
      "«16+» - для детей старше 16 лет  2326.236039\n"
     ]
    }
   ],
   "source": [
    "# Построим круговую диограмму возрастных ограничений аудитории\n",
    "# среди худших по окупаимости 10 фильмов\n",
    "\n",
    "ten_worst_paid_off = (\n",
    "    didnt_paid_off\n",
    "    .pivot_table(index='title', values='payback', aggfunc='sum')\n",
    "    .sort_values(by='payback', ascending=False).head(10)\n",
    ")\n",
    "\n",
    "ten_worst_office_paid_off_per_age = (\n",
    "    didnt_paid_off.query('title in @ten_worst_paid_off.index')\n",
    "    .pivot_table(index='age_restriction', values='payback', aggfunc='sum')\n",
    ")\n",
    "\n",
    "ten_worst_office_paid_off_per_age.plot(y='payback', kind='pie', grid=True)\n",
    "plt.title('Возрастное ограничение аудитории в топ 10 не окупившихся фильмах', fontsize=15)\n",
    "plt.show() \n",
    "\n",
    "print(ten_worst_office_paid_off_per_age)"
   ]
  },
  {
   "cell_type": "markdown",
   "metadata": {},
   "source": [
    "<div class=\"alert alert-block alert-info\">\n",
    "    <ul type='circle'>\n",
    "\n",
    "Разброс государственной поддержки очень большой, от почти 3 до 500 млн. В основном фильмы получали 35 млн.\n",
    "        \n",
    "Не смотря на это, большинство фильмов ушли в минус на 40 млн по кассовым сборам. Из всех фильмов окупилось лишь 25%.\n",
    "        \n",
    "Почти половина аудитории окупившихся фильмов – категория 12+. Среди топ 10 по окупаемости фильмов – так же доминирует 12+, но занимает уже 64%.\n",
    "        \n",
    "Среди не окупившихся фильмов доли почти равномерно распределены между 3-я категориями: 6+, 12+ и 16+. Среди топ 10 по не окупаемости фильмов – 12+ и 16+ лидируют почти наравне, а за ними 6+."
   ]
  },
  {
   "cell_type": "markdown",
   "metadata": {
    "id": "V2gYwMcPgFyd"
   },
   "source": [
    "### Шаг 5. Общий вывод"
   ]
  },
  {
   "cell_type": "markdown",
   "metadata": {},
   "source": [
    "<div class=\"alert alert-block alert-info\">\n",
    "    <ul type='circle'>\n",
    "\n",
    "Среди все фильмов есть кассовые гиганты, которые взяли на себя большую часть выручки от всего проката.\n",
    "        \n",
    "Среди всех, самыми кассовыми стали фильмы с рейтингом 16+. Самую меньшую долю занимают фильмы с рейтингом 18+.\n",
    "        \n",
    "Целых 75% фильмов из тех, что имели гос поддержку – провалились. Большинство их них ушли в минус на 40 млн.\n",
    "        \n",
    "Основная возрастная категория и в окупившихся и в провалившихся фильмах – 12+ лет. Однако в окупившихся, эта категория сильно доминирует, в то время как в провалившихся она идет наравне с 6+ и 12+.\n",
    "        \n",
    "Очевидно, что большинство фильмов спонсируемых государством – не интересны зрителю "
   ]
  },
  {
   "cell_type": "markdown",
   "metadata": {
    "id": "AYRg3dzXgFye"
   },
   "source": []
  }
 ],
 "metadata": {
  "ExecuteTimeLog": [
   {
    "duration": 537,
    "start_time": "2021-07-07T10:12:08.634Z"
   },
   {
    "duration": 206,
    "start_time": "2021-07-07T10:12:30.191Z"
   },
   {
    "duration": 227,
    "start_time": "2021-07-07T10:12:33.078Z"
   },
   {
    "duration": 153,
    "start_time": "2021-07-07T10:13:42.146Z"
   },
   {
    "duration": 233,
    "start_time": "2021-07-07T10:30:09.252Z"
   },
   {
    "duration": 19,
    "start_time": "2021-07-07T10:30:15.577Z"
   },
   {
    "duration": 18,
    "start_time": "2021-07-07T10:30:57.348Z"
   },
   {
    "duration": 19,
    "start_time": "2021-07-07T10:31:17.452Z"
   },
   {
    "duration": 21,
    "start_time": "2021-07-07T10:31:32.227Z"
   },
   {
    "duration": 27,
    "start_time": "2021-07-07T10:32:06.588Z"
   },
   {
    "duration": 23,
    "start_time": "2021-07-07T10:32:43.645Z"
   },
   {
    "duration": 24,
    "start_time": "2021-07-07T10:33:06.948Z"
   },
   {
    "duration": 7,
    "start_time": "2021-07-07T10:33:28.558Z"
   },
   {
    "duration": 23,
    "start_time": "2021-07-07T10:33:43.761Z"
   },
   {
    "duration": 28,
    "start_time": "2021-07-07T10:34:13.466Z"
   },
   {
    "duration": 23,
    "start_time": "2021-07-07T10:35:56.187Z"
   },
   {
    "duration": 6,
    "start_time": "2021-07-07T10:36:48.182Z"
   },
   {
    "duration": 14,
    "start_time": "2021-07-07T10:37:49.641Z"
   },
   {
    "duration": 6,
    "start_time": "2021-07-07T10:38:06.694Z"
   },
   {
    "duration": 6,
    "start_time": "2021-07-07T10:38:13.493Z"
   },
   {
    "duration": 19,
    "start_time": "2021-07-07T10:38:44.056Z"
   },
   {
    "duration": 186,
    "start_time": "2021-07-07T10:48:35.618Z"
   },
   {
    "duration": 24,
    "start_time": "2021-07-07T10:48:51.498Z"
   },
   {
    "duration": 20,
    "start_time": "2021-07-07T10:48:59.415Z"
   },
   {
    "duration": 20,
    "start_time": "2021-07-07T10:53:02.195Z"
   },
   {
    "duration": 188,
    "start_time": "2021-07-07T10:54:40.486Z"
   },
   {
    "duration": 115,
    "start_time": "2021-07-07T10:54:52.552Z"
   },
   {
    "duration": 214,
    "start_time": "2021-07-07T10:54:56.354Z"
   },
   {
    "duration": 47,
    "start_time": "2021-07-07T10:54:58.282Z"
   },
   {
    "duration": 217,
    "start_time": "2021-07-07T10:59:16.075Z"
   },
   {
    "duration": 51,
    "start_time": "2021-07-07T10:59:16.243Z"
   },
   {
    "duration": 578,
    "start_time": "2021-07-07T10:59:18.774Z"
   },
   {
    "duration": 161,
    "start_time": "2021-07-07T10:59:21.238Z"
   },
   {
    "duration": 59,
    "start_time": "2021-07-07T10:59:21.453Z"
   },
   {
    "duration": 3,
    "start_time": "2021-07-07T11:02:10.786Z"
   },
   {
    "duration": 13,
    "start_time": "2021-07-07T11:07:07.722Z"
   },
   {
    "duration": 26,
    "start_time": "2021-07-07T11:07:17.958Z"
   },
   {
    "duration": 22,
    "start_time": "2021-07-07T11:08:17.939Z"
   },
   {
    "duration": 212,
    "start_time": "2021-07-07T11:08:19.665Z"
   },
   {
    "duration": 21,
    "start_time": "2021-07-07T11:08:29.945Z"
   },
   {
    "duration": 31,
    "start_time": "2021-07-07T11:08:38.899Z"
   },
   {
    "duration": 23,
    "start_time": "2021-07-07T11:08:54.527Z"
   },
   {
    "duration": 8,
    "start_time": "2021-07-07T11:18:55.974Z"
   },
   {
    "duration": 7,
    "start_time": "2021-07-07T11:19:03.639Z"
   },
   {
    "duration": 7,
    "start_time": "2021-07-07T11:19:06.444Z"
   },
   {
    "duration": 578,
    "start_time": "2021-07-07T12:09:59.576Z"
   },
   {
    "duration": 195,
    "start_time": "2021-07-07T12:10:00.156Z"
   },
   {
    "duration": 115,
    "start_time": "2021-07-07T12:10:00.353Z"
   },
   {
    "duration": 3,
    "start_time": "2021-07-07T12:10:00.470Z"
   },
   {
    "duration": 32,
    "start_time": "2021-07-07T12:10:00.474Z"
   },
   {
    "duration": 23,
    "start_time": "2021-07-07T12:10:00.508Z"
   },
   {
    "duration": 19,
    "start_time": "2021-07-07T12:10:00.533Z"
   },
   {
    "duration": 44,
    "start_time": "2021-07-07T12:10:00.553Z"
   },
   {
    "duration": 7,
    "start_time": "2021-07-07T12:10:00.600Z"
   },
   {
    "duration": 7,
    "start_time": "2021-07-07T12:19:45.761Z"
   },
   {
    "duration": 21,
    "start_time": "2021-07-07T12:21:35.482Z"
   },
   {
    "duration": 21,
    "start_time": "2021-07-07T12:29:23.569Z"
   },
   {
    "duration": 525,
    "start_time": "2021-07-07T12:29:44.542Z"
   },
   {
    "duration": 214,
    "start_time": "2021-07-07T12:29:45.069Z"
   },
   {
    "duration": 92,
    "start_time": "2021-07-07T12:29:45.285Z"
   },
   {
    "duration": 3,
    "start_time": "2021-07-07T12:29:45.379Z"
   },
   {
    "duration": 28,
    "start_time": "2021-07-07T12:29:45.384Z"
   },
   {
    "duration": 23,
    "start_time": "2021-07-07T12:29:45.413Z"
   },
   {
    "duration": 21,
    "start_time": "2021-07-07T12:29:45.437Z"
   },
   {
    "duration": 41,
    "start_time": "2021-07-07T12:29:45.460Z"
   },
   {
    "duration": 7,
    "start_time": "2021-07-07T12:29:45.502Z"
   },
   {
    "duration": 20,
    "start_time": "2021-07-07T12:29:45.511Z"
   },
   {
    "duration": 12,
    "start_time": "2021-07-07T12:34:02.800Z"
   },
   {
    "duration": 7,
    "start_time": "2021-07-07T12:35:10.479Z"
   },
   {
    "duration": 8,
    "start_time": "2021-07-07T12:35:22.440Z"
   },
   {
    "duration": 6,
    "start_time": "2021-07-07T12:35:35.649Z"
   },
   {
    "duration": 6,
    "start_time": "2021-07-07T12:35:43.107Z"
   },
   {
    "duration": 22,
    "start_time": "2021-07-07T12:38:03.029Z"
   },
   {
    "duration": 10,
    "start_time": "2021-07-07T12:38:06.592Z"
   },
   {
    "duration": 563,
    "start_time": "2021-07-07T12:38:46.493Z"
   },
   {
    "duration": 265,
    "start_time": "2021-07-07T12:38:47.058Z"
   },
   {
    "duration": 94,
    "start_time": "2021-07-07T12:38:47.325Z"
   },
   {
    "duration": 3,
    "start_time": "2021-07-07T12:38:47.422Z"
   },
   {
    "duration": 30,
    "start_time": "2021-07-07T12:38:47.427Z"
   },
   {
    "duration": 16,
    "start_time": "2021-07-07T12:38:53.305Z"
   },
   {
    "duration": 10,
    "start_time": "2021-07-07T12:38:53.499Z"
   },
   {
    "duration": 8,
    "start_time": "2021-07-07T12:39:48.161Z"
   },
   {
    "duration": 27,
    "start_time": "2021-07-07T12:41:17.629Z"
   },
   {
    "duration": 17,
    "start_time": "2021-07-07T12:41:17.867Z"
   },
   {
    "duration": 21,
    "start_time": "2021-07-07T12:41:19.310Z"
   },
   {
    "duration": 7,
    "start_time": "2021-07-07T12:41:19.544Z"
   },
   {
    "duration": 20,
    "start_time": "2021-07-07T12:41:20.504Z"
   },
   {
    "duration": 554,
    "start_time": "2021-07-07T12:56:23.696Z"
   },
   {
    "duration": 200,
    "start_time": "2021-07-07T12:56:25.234Z"
   },
   {
    "duration": 119,
    "start_time": "2021-07-07T12:56:25.480Z"
   },
   {
    "duration": 4,
    "start_time": "2021-07-07T12:56:25.762Z"
   },
   {
    "duration": 26,
    "start_time": "2021-07-07T12:56:27.172Z"
   },
   {
    "duration": 12,
    "start_time": "2021-07-07T12:56:29.051Z"
   },
   {
    "duration": 10,
    "start_time": "2021-07-07T12:56:29.291Z"
   },
   {
    "duration": 8,
    "start_time": "2021-07-07T12:56:29.623Z"
   },
   {
    "duration": 28,
    "start_time": "2021-07-07T12:56:32.137Z"
   },
   {
    "duration": 19,
    "start_time": "2021-07-07T12:56:39.785Z"
   },
   {
    "duration": 20,
    "start_time": "2021-07-07T12:56:44.297Z"
   },
   {
    "duration": 7,
    "start_time": "2021-07-07T12:56:45.392Z"
   },
   {
    "duration": 23,
    "start_time": "2021-07-07T12:56:46.615Z"
   },
   {
    "duration": 4,
    "start_time": "2021-07-07T12:57:06.625Z"
   },
   {
    "duration": 32,
    "start_time": "2021-07-07T12:57:36.690Z"
   },
   {
    "duration": 18,
    "start_time": "2021-07-07T12:58:00.149Z"
   },
   {
    "duration": 15,
    "start_time": "2021-07-07T12:59:16.793Z"
   },
   {
    "duration": 7,
    "start_time": "2021-07-07T13:19:22.624Z"
   },
   {
    "duration": 6,
    "start_time": "2021-07-07T14:17:33.527Z"
   },
   {
    "duration": 9,
    "start_time": "2021-07-07T14:17:48.409Z"
   },
   {
    "duration": 8,
    "start_time": "2021-07-07T14:20:13.060Z"
   },
   {
    "duration": 8,
    "start_time": "2021-07-07T14:20:37.957Z"
   },
   {
    "duration": 8,
    "start_time": "2021-07-07T14:20:47.470Z"
   },
   {
    "duration": 9,
    "start_time": "2021-07-07T14:20:54.503Z"
   },
   {
    "duration": 10,
    "start_time": "2021-07-07T14:28:57.763Z"
   },
   {
    "duration": 3,
    "start_time": "2021-07-07T14:30:23.377Z"
   },
   {
    "duration": 3,
    "start_time": "2021-07-07T14:30:36.489Z"
   },
   {
    "duration": 103,
    "start_time": "2021-07-07T14:30:52.351Z"
   },
   {
    "duration": 8,
    "start_time": "2021-07-07T14:30:54.763Z"
   },
   {
    "duration": 8,
    "start_time": "2021-07-07T14:31:29.301Z"
   },
   {
    "duration": 13,
    "start_time": "2021-07-07T14:31:44.516Z"
   },
   {
    "duration": 7,
    "start_time": "2021-07-07T14:33:10.972Z"
   },
   {
    "duration": 11,
    "start_time": "2021-07-07T14:33:27.780Z"
   },
   {
    "duration": 8,
    "start_time": "2021-07-07T14:34:44.588Z"
   },
   {
    "duration": 57,
    "start_time": "2021-07-07T14:35:59.042Z"
   },
   {
    "duration": 3,
    "start_time": "2021-07-07T14:36:28.168Z"
   },
   {
    "duration": 5,
    "start_time": "2021-07-07T14:36:46.254Z"
   },
   {
    "duration": 4,
    "start_time": "2021-07-07T14:36:52.714Z"
   },
   {
    "duration": 3,
    "start_time": "2021-07-07T14:36:56.612Z"
   },
   {
    "duration": 4,
    "start_time": "2021-07-07T14:36:57.049Z"
   },
   {
    "duration": 3,
    "start_time": "2021-07-07T14:39:21.214Z"
   },
   {
    "duration": 7,
    "start_time": "2021-07-07T14:39:52.406Z"
   },
   {
    "duration": 11,
    "start_time": "2021-07-07T14:39:58.576Z"
   },
   {
    "duration": 9,
    "start_time": "2021-07-07T14:40:26.301Z"
   },
   {
    "duration": 10,
    "start_time": "2021-07-07T14:40:31.704Z"
   },
   {
    "duration": 11,
    "start_time": "2021-07-07T14:40:36.249Z"
   },
   {
    "duration": 10,
    "start_time": "2021-07-07T14:40:39.783Z"
   },
   {
    "duration": 9,
    "start_time": "2021-07-07T14:40:48.558Z"
   },
   {
    "duration": 10,
    "start_time": "2021-07-07T14:40:57.143Z"
   },
   {
    "duration": 9,
    "start_time": "2021-07-07T14:41:06.074Z"
   },
   {
    "duration": 4324,
    "start_time": "2021-07-07T14:41:22.004Z"
   },
   {
    "duration": 11,
    "start_time": "2021-07-07T14:41:33.392Z"
   },
   {
    "duration": 9,
    "start_time": "2021-07-07T14:41:39.288Z"
   },
   {
    "duration": 569,
    "start_time": "2021-07-07T14:42:14.387Z"
   },
   {
    "duration": 197,
    "start_time": "2021-07-07T14:42:14.959Z"
   },
   {
    "duration": 84,
    "start_time": "2021-07-07T14:42:16.052Z"
   },
   {
    "duration": 4,
    "start_time": "2021-07-07T14:42:16.900Z"
   },
   {
    "duration": 27,
    "start_time": "2021-07-07T14:42:19.898Z"
   },
   {
    "duration": 12,
    "start_time": "2021-07-07T14:42:21.577Z"
   },
   {
    "duration": 9,
    "start_time": "2021-07-07T14:42:21.813Z"
   },
   {
    "duration": 9,
    "start_time": "2021-07-07T14:42:22.569Z"
   },
   {
    "duration": 29,
    "start_time": "2021-07-07T14:42:25.837Z"
   },
   {
    "duration": 20,
    "start_time": "2021-07-07T14:42:27.003Z"
   },
   {
    "duration": 21,
    "start_time": "2021-07-07T14:42:28.767Z"
   },
   {
    "duration": 7,
    "start_time": "2021-07-07T14:42:29.838Z"
   },
   {
    "duration": 4,
    "start_time": "2021-07-07T14:43:25.493Z"
   },
   {
    "duration": 7,
    "start_time": "2021-07-07T14:43:26.573Z"
   },
   {
    "duration": 10,
    "start_time": "2021-07-07T14:43:31.639Z"
   },
   {
    "duration": 9,
    "start_time": "2021-07-07T14:43:32.046Z"
   },
   {
    "duration": 10,
    "start_time": "2021-07-07T14:43:33.301Z"
   },
   {
    "duration": 12,
    "start_time": "2021-07-07T14:43:33.658Z"
   },
   {
    "duration": 8,
    "start_time": "2021-07-07T14:43:34.552Z"
   },
   {
    "duration": 9,
    "start_time": "2021-07-07T14:43:35.058Z"
   },
   {
    "duration": 12,
    "start_time": "2021-07-07T14:43:35.914Z"
   },
   {
    "duration": 17,
    "start_time": "2021-07-07T14:45:34.368Z"
   },
   {
    "duration": 512,
    "start_time": "2021-07-07T14:51:58.236Z"
   },
   {
    "duration": 223,
    "start_time": "2021-07-07T14:51:58.750Z"
   },
   {
    "duration": 93,
    "start_time": "2021-07-07T14:51:58.977Z"
   },
   {
    "duration": 4,
    "start_time": "2021-07-07T14:51:59.071Z"
   },
   {
    "duration": 37,
    "start_time": "2021-07-07T14:51:59.077Z"
   },
   {
    "duration": 18,
    "start_time": "2021-07-07T14:51:59.116Z"
   },
   {
    "duration": 10,
    "start_time": "2021-07-07T14:51:59.137Z"
   },
   {
    "duration": 8,
    "start_time": "2021-07-07T14:51:59.149Z"
   },
   {
    "duration": 54,
    "start_time": "2021-07-07T14:51:59.158Z"
   },
   {
    "duration": 18,
    "start_time": "2021-07-07T14:51:59.213Z"
   },
   {
    "duration": 22,
    "start_time": "2021-07-07T14:51:59.232Z"
   },
   {
    "duration": 36,
    "start_time": "2021-07-07T14:51:59.255Z"
   },
   {
    "duration": 7,
    "start_time": "2021-07-07T14:51:59.293Z"
   },
   {
    "duration": 10,
    "start_time": "2021-07-07T14:51:59.302Z"
   },
   {
    "duration": 9,
    "start_time": "2021-07-07T14:51:59.313Z"
   },
   {
    "duration": 11,
    "start_time": "2021-07-07T14:51:59.324Z"
   },
   {
    "duration": 8,
    "start_time": "2021-07-07T14:51:59.337Z"
   },
   {
    "duration": 46,
    "start_time": "2021-07-07T14:51:59.347Z"
   },
   {
    "duration": 22,
    "start_time": "2021-07-07T14:51:59.395Z"
   },
   {
    "duration": 24,
    "start_time": "2021-07-07T14:57:32.911Z"
   },
   {
    "duration": 7,
    "start_time": "2021-07-07T14:58:22.070Z"
   },
   {
    "duration": 4,
    "start_time": "2021-07-07T14:59:11.239Z"
   },
   {
    "duration": 25,
    "start_time": "2021-07-07T15:07:22.208Z"
   },
   {
    "duration": 16,
    "start_time": "2021-07-07T15:08:25.560Z"
   },
   {
    "duration": 15,
    "start_time": "2021-07-07T15:08:40.647Z"
   },
   {
    "duration": 14,
    "start_time": "2021-07-07T15:08:46.669Z"
   },
   {
    "duration": 533,
    "start_time": "2021-07-07T15:18:07.440Z"
   },
   {
    "duration": 173,
    "start_time": "2021-07-07T15:18:07.974Z"
   },
   {
    "duration": 84,
    "start_time": "2021-07-07T15:18:08.149Z"
   },
   {
    "duration": 3,
    "start_time": "2021-07-07T15:18:08.235Z"
   },
   {
    "duration": 30,
    "start_time": "2021-07-07T15:18:08.240Z"
   },
   {
    "duration": 22,
    "start_time": "2021-07-07T15:18:08.272Z"
   },
   {
    "duration": 11,
    "start_time": "2021-07-07T15:18:08.295Z"
   },
   {
    "duration": 11,
    "start_time": "2021-07-07T15:18:08.309Z"
   },
   {
    "duration": 40,
    "start_time": "2021-07-07T15:18:08.322Z"
   },
   {
    "duration": 42,
    "start_time": "2021-07-07T15:18:08.364Z"
   },
   {
    "duration": 22,
    "start_time": "2021-07-07T15:18:08.408Z"
   },
   {
    "duration": 5,
    "start_time": "2021-07-07T15:18:08.432Z"
   },
   {
    "duration": 13,
    "start_time": "2021-07-07T15:18:08.439Z"
   },
   {
    "duration": 9,
    "start_time": "2021-07-07T15:18:08.454Z"
   },
   {
    "duration": 32,
    "start_time": "2021-07-07T15:18:08.465Z"
   },
   {
    "duration": 10,
    "start_time": "2021-07-07T15:18:08.501Z"
   },
   {
    "duration": 7,
    "start_time": "2021-07-07T15:18:08.513Z"
   },
   {
    "duration": 11,
    "start_time": "2021-07-07T15:18:08.521Z"
   },
   {
    "duration": 17,
    "start_time": "2021-07-07T15:18:08.534Z"
   },
   {
    "duration": 44,
    "start_time": "2021-07-07T15:18:08.553Z"
   },
   {
    "duration": 22,
    "start_time": "2021-07-07T15:18:08.599Z"
   },
   {
    "duration": 61,
    "start_time": "2021-07-07T15:18:08.622Z"
   },
   {
    "duration": 7,
    "start_time": "2021-07-07T15:18:39.457Z"
   },
   {
    "duration": 5,
    "start_time": "2021-07-07T16:05:17.020Z"
   },
   {
    "duration": 5,
    "start_time": "2021-07-07T16:51:28.794Z"
   },
   {
    "duration": 546,
    "start_time": "2021-07-07T16:52:26.306Z"
   },
   {
    "duration": 203,
    "start_time": "2021-07-07T16:52:27.523Z"
   },
   {
    "duration": 85,
    "start_time": "2021-07-07T16:52:27.736Z"
   },
   {
    "duration": 4,
    "start_time": "2021-07-07T16:52:27.899Z"
   },
   {
    "duration": 25,
    "start_time": "2021-07-07T16:52:28.674Z"
   },
   {
    "duration": 8,
    "start_time": "2021-07-07T16:52:32.956Z"
   },
   {
    "duration": 18,
    "start_time": "2021-07-07T16:52:35.616Z"
   },
   {
    "duration": 6,
    "start_time": "2021-07-07T16:52:36.913Z"
   },
   {
    "duration": 11,
    "start_time": "2021-07-07T16:52:40.258Z"
   },
   {
    "duration": 10,
    "start_time": "2021-07-07T16:52:46.251Z"
   },
   {
    "duration": 8,
    "start_time": "2021-07-07T16:52:47.182Z"
   },
   {
    "duration": 27,
    "start_time": "2021-07-07T16:53:20.391Z"
   },
   {
    "duration": 20,
    "start_time": "2021-07-07T16:53:22.022Z"
   },
   {
    "duration": 23,
    "start_time": "2021-07-07T16:53:23.690Z"
   },
   {
    "duration": 8,
    "start_time": "2021-07-07T16:53:24.261Z"
   },
   {
    "duration": 4,
    "start_time": "2021-07-07T16:53:38.733Z"
   },
   {
    "duration": 7,
    "start_time": "2021-07-07T16:53:40.445Z"
   },
   {
    "duration": 11,
    "start_time": "2021-07-07T16:53:41.348Z"
   },
   {
    "duration": 13,
    "start_time": "2021-07-07T16:53:45.250Z"
   },
   {
    "duration": 12,
    "start_time": "2021-07-07T16:53:45.467Z"
   },
   {
    "duration": 4,
    "start_time": "2021-07-07T16:55:32.704Z"
   },
   {
    "duration": 12,
    "start_time": "2021-07-07T16:55:49.012Z"
   },
   {
    "duration": 18,
    "start_time": "2021-07-07T16:55:49.547Z"
   },
   {
    "duration": 611,
    "start_time": "2021-07-07T16:58:35.156Z"
   },
   {
    "duration": 200,
    "start_time": "2021-07-07T16:58:35.770Z"
   },
   {
    "duration": 86,
    "start_time": "2021-07-07T16:58:35.972Z"
   },
   {
    "duration": 3,
    "start_time": "2021-07-07T16:58:36.060Z"
   },
   {
    "duration": 27,
    "start_time": "2021-07-07T16:58:36.065Z"
   },
   {
    "duration": 8,
    "start_time": "2021-07-07T16:58:36.094Z"
   },
   {
    "duration": 17,
    "start_time": "2021-07-07T16:58:36.103Z"
   },
   {
    "duration": 5,
    "start_time": "2021-07-07T16:58:36.123Z"
   },
   {
    "duration": 11,
    "start_time": "2021-07-07T16:58:36.130Z"
   },
   {
    "duration": 7,
    "start_time": "2021-07-07T16:58:36.143Z"
   },
   {
    "duration": 37,
    "start_time": "2021-07-07T16:58:36.152Z"
   },
   {
    "duration": 27,
    "start_time": "2021-07-07T16:58:36.191Z"
   },
   {
    "duration": 19,
    "start_time": "2021-07-07T16:58:36.219Z"
   },
   {
    "duration": 49,
    "start_time": "2021-07-07T16:58:36.240Z"
   },
   {
    "duration": 6,
    "start_time": "2021-07-07T16:58:36.291Z"
   },
   {
    "duration": 3,
    "start_time": "2021-07-07T16:58:36.299Z"
   },
   {
    "duration": 13,
    "start_time": "2021-07-07T16:58:36.304Z"
   },
   {
    "duration": 10,
    "start_time": "2021-07-07T16:58:36.319Z"
   },
   {
    "duration": 10,
    "start_time": "2021-07-07T16:58:36.331Z"
   },
   {
    "duration": 44,
    "start_time": "2021-07-07T16:58:36.343Z"
   },
   {
    "duration": 4,
    "start_time": "2021-07-07T16:58:36.388Z"
   },
   {
    "duration": 13,
    "start_time": "2021-07-07T16:58:36.394Z"
   },
   {
    "duration": 16,
    "start_time": "2021-07-07T16:58:36.410Z"
   },
   {
    "duration": 8,
    "start_time": "2021-07-07T17:02:31.629Z"
   },
   {
    "duration": 8,
    "start_time": "2021-07-07T17:02:34.308Z"
   },
   {
    "duration": 6,
    "start_time": "2021-07-07T17:05:13.483Z"
   },
   {
    "duration": 17,
    "start_time": "2021-07-07T17:05:20.606Z"
   },
   {
    "duration": 7,
    "start_time": "2021-07-07T17:05:34.638Z"
   },
   {
    "duration": 3,
    "start_time": "2021-07-07T17:06:31.883Z"
   },
   {
    "duration": 570,
    "start_time": "2021-07-07T17:06:37.165Z"
   },
   {
    "duration": 174,
    "start_time": "2021-07-07T17:06:37.737Z"
   },
   {
    "duration": 47,
    "start_time": "2021-07-07T17:06:37.913Z"
   },
   {
    "duration": 3,
    "start_time": "2021-07-07T17:06:37.962Z"
   },
   {
    "duration": 27,
    "start_time": "2021-07-07T17:06:37.967Z"
   },
   {
    "duration": 7,
    "start_time": "2021-07-07T17:06:37.996Z"
   },
   {
    "duration": 16,
    "start_time": "2021-07-07T17:06:38.005Z"
   },
   {
    "duration": 6,
    "start_time": "2021-07-07T17:06:38.024Z"
   },
   {
    "duration": 12,
    "start_time": "2021-07-07T17:06:38.031Z"
   },
   {
    "duration": 41,
    "start_time": "2021-07-07T17:06:38.045Z"
   },
   {
    "duration": 8,
    "start_time": "2021-07-07T17:06:38.088Z"
   },
   {
    "duration": 26,
    "start_time": "2021-07-07T17:06:38.098Z"
   },
   {
    "duration": 17,
    "start_time": "2021-07-07T17:06:38.126Z"
   },
   {
    "duration": 43,
    "start_time": "2021-07-07T17:06:38.144Z"
   },
   {
    "duration": 6,
    "start_time": "2021-07-07T17:06:38.188Z"
   },
   {
    "duration": 5,
    "start_time": "2021-07-07T17:06:38.195Z"
   },
   {
    "duration": 9,
    "start_time": "2021-07-07T17:06:38.201Z"
   },
   {
    "duration": 12,
    "start_time": "2021-07-07T17:06:38.212Z"
   },
   {
    "duration": 11,
    "start_time": "2021-07-07T17:06:38.226Z"
   },
   {
    "duration": 47,
    "start_time": "2021-07-07T17:06:38.239Z"
   },
   {
    "duration": 4,
    "start_time": "2021-07-07T17:06:38.288Z"
   },
   {
    "duration": 13,
    "start_time": "2021-07-07T17:06:38.293Z"
   },
   {
    "duration": 5,
    "start_time": "2021-07-07T17:06:38.309Z"
   },
   {
    "duration": 18,
    "start_time": "2021-07-07T17:06:38.325Z"
   },
   {
    "duration": 20,
    "start_time": "2021-07-07T17:07:02.805Z"
   },
   {
    "duration": 19,
    "start_time": "2021-07-07T17:07:08.527Z"
   },
   {
    "duration": 19,
    "start_time": "2021-07-07T17:07:12.758Z"
   },
   {
    "duration": 22,
    "start_time": "2021-07-07T17:07:17.497Z"
   },
   {
    "duration": 19,
    "start_time": "2021-07-07T17:07:19.645Z"
   },
   {
    "duration": 10,
    "start_time": "2021-07-07T17:07:34.239Z"
   },
   {
    "duration": 17,
    "start_time": "2021-07-07T17:07:54.144Z"
   },
   {
    "duration": 14,
    "start_time": "2021-07-07T17:08:14.357Z"
   },
   {
    "duration": 616,
    "start_time": "2021-07-07T17:08:45.254Z"
   },
   {
    "duration": 178,
    "start_time": "2021-07-07T17:08:45.872Z"
   },
   {
    "duration": 60,
    "start_time": "2021-07-07T17:08:46.054Z"
   },
   {
    "duration": 3,
    "start_time": "2021-07-07T17:08:46.116Z"
   },
   {
    "duration": 26,
    "start_time": "2021-07-07T17:08:46.121Z"
   },
   {
    "duration": 7,
    "start_time": "2021-07-07T17:08:46.149Z"
   },
   {
    "duration": 17,
    "start_time": "2021-07-07T17:08:46.158Z"
   },
   {
    "duration": 14,
    "start_time": "2021-07-07T17:08:46.176Z"
   },
   {
    "duration": 17,
    "start_time": "2021-07-07T17:08:46.193Z"
   },
   {
    "duration": 9,
    "start_time": "2021-07-07T17:08:46.211Z"
   },
   {
    "duration": 21,
    "start_time": "2021-07-07T17:08:46.221Z"
   },
   {
    "duration": 49,
    "start_time": "2021-07-07T17:08:46.244Z"
   },
   {
    "duration": 24,
    "start_time": "2021-07-07T17:08:46.295Z"
   },
   {
    "duration": 22,
    "start_time": "2021-07-07T17:08:46.321Z"
   },
   {
    "duration": 6,
    "start_time": "2021-07-07T17:08:46.345Z"
   },
   {
    "duration": 5,
    "start_time": "2021-07-07T17:08:46.353Z"
   },
   {
    "duration": 13,
    "start_time": "2021-07-07T17:08:46.386Z"
   },
   {
    "duration": 12,
    "start_time": "2021-07-07T17:08:46.402Z"
   },
   {
    "duration": 10,
    "start_time": "2021-07-07T17:08:46.415Z"
   },
   {
    "duration": 7,
    "start_time": "2021-07-07T17:08:46.427Z"
   },
   {
    "duration": 8,
    "start_time": "2021-07-07T17:08:46.435Z"
   },
   {
    "duration": 68,
    "start_time": "2021-07-07T17:08:46.446Z"
   },
   {
    "duration": 13,
    "start_time": "2021-07-07T17:08:46.516Z"
   },
   {
    "duration": 78,
    "start_time": "2021-07-07T17:08:46.530Z"
   },
   {
    "duration": 40,
    "start_time": "2021-07-07T17:09:08.185Z"
   },
   {
    "duration": 16,
    "start_time": "2021-07-07T17:09:19.324Z"
   },
   {
    "duration": 21,
    "start_time": "2021-07-07T17:09:23.290Z"
   },
   {
    "duration": 13,
    "start_time": "2021-07-07T17:09:54.812Z"
   },
   {
    "duration": 13,
    "start_time": "2021-07-07T17:10:02.039Z"
   },
   {
    "duration": 10,
    "start_time": "2021-07-07T17:10:29.632Z"
   },
   {
    "duration": 13,
    "start_time": "2021-07-07T17:10:52.372Z"
   },
   {
    "duration": 13,
    "start_time": "2021-07-07T17:11:17.270Z"
   },
   {
    "duration": 13,
    "start_time": "2021-07-07T17:14:59.284Z"
   },
   {
    "duration": 547,
    "start_time": "2021-07-07T17:18:52.403Z"
   },
   {
    "duration": 163,
    "start_time": "2021-07-07T17:18:52.952Z"
   },
   {
    "duration": 44,
    "start_time": "2021-07-07T17:18:53.117Z"
   },
   {
    "duration": 3,
    "start_time": "2021-07-07T17:18:53.162Z"
   },
   {
    "duration": 26,
    "start_time": "2021-07-07T17:18:53.167Z"
   },
   {
    "duration": 6,
    "start_time": "2021-07-07T17:18:53.195Z"
   },
   {
    "duration": 15,
    "start_time": "2021-07-07T17:18:53.203Z"
   },
   {
    "duration": 5,
    "start_time": "2021-07-07T17:18:53.220Z"
   },
   {
    "duration": 11,
    "start_time": "2021-07-07T17:18:53.228Z"
   },
   {
    "duration": 9,
    "start_time": "2021-07-07T17:18:53.241Z"
   },
   {
    "duration": 41,
    "start_time": "2021-07-07T17:18:53.252Z"
   },
   {
    "duration": 33,
    "start_time": "2021-07-07T17:18:53.295Z"
   },
   {
    "duration": 19,
    "start_time": "2021-07-07T17:18:53.330Z"
   },
   {
    "duration": 49,
    "start_time": "2021-07-07T17:18:53.350Z"
   },
   {
    "duration": 5,
    "start_time": "2021-07-07T17:18:53.401Z"
   },
   {
    "duration": 5,
    "start_time": "2021-07-07T17:18:53.408Z"
   },
   {
    "duration": 11,
    "start_time": "2021-07-07T17:18:53.414Z"
   },
   {
    "duration": 9,
    "start_time": "2021-07-07T17:18:53.427Z"
   },
   {
    "duration": 10,
    "start_time": "2021-07-07T17:18:53.437Z"
   },
   {
    "duration": 39,
    "start_time": "2021-07-07T17:18:53.448Z"
   },
   {
    "duration": 26,
    "start_time": "2021-07-07T17:18:55.799Z"
   },
   {
    "duration": 598,
    "start_time": "2021-07-07T17:20:17.862Z"
   },
   {
    "duration": 161,
    "start_time": "2021-07-07T17:20:18.462Z"
   },
   {
    "duration": 45,
    "start_time": "2021-07-07T17:20:18.626Z"
   },
   {
    "duration": 4,
    "start_time": "2021-07-07T17:20:18.673Z"
   },
   {
    "duration": 38,
    "start_time": "2021-07-07T17:20:26.877Z"
   },
   {
    "duration": 7,
    "start_time": "2021-07-07T17:20:37.405Z"
   },
   {
    "duration": 19,
    "start_time": "2021-07-07T17:20:51.534Z"
   },
   {
    "duration": 5,
    "start_time": "2021-07-07T17:20:57.228Z"
   },
   {
    "duration": 7,
    "start_time": "2021-07-07T17:21:08.235Z"
   },
   {
    "duration": 19,
    "start_time": "2021-07-07T17:21:42.158Z"
   },
   {
    "duration": 14,
    "start_time": "2021-07-07T17:21:50.225Z"
   },
   {
    "duration": 22,
    "start_time": "2021-07-07T17:22:54.104Z"
   },
   {
    "duration": 5,
    "start_time": "2021-07-07T17:22:56.371Z"
   },
   {
    "duration": 14,
    "start_time": "2021-07-07T17:22:58.316Z"
   },
   {
    "duration": 5,
    "start_time": "2021-07-07T17:22:58.493Z"
   },
   {
    "duration": 35,
    "start_time": "2021-07-07T17:22:59.666Z"
   },
   {
    "duration": 6,
    "start_time": "2021-07-07T17:23:02.410Z"
   },
   {
    "duration": 611,
    "start_time": "2021-07-07T17:24:59.664Z"
   },
   {
    "duration": 178,
    "start_time": "2021-07-07T17:25:01.945Z"
   },
   {
    "duration": 47,
    "start_time": "2021-07-07T17:25:02.125Z"
   },
   {
    "duration": 2,
    "start_time": "2021-07-07T17:25:07.903Z"
   },
   {
    "duration": 254,
    "start_time": "2021-07-07T17:25:08.232Z"
   },
   {
    "duration": 182,
    "start_time": "2021-07-07T17:25:08.671Z"
   },
   {
    "duration": 6,
    "start_time": "2021-07-07T17:25:13.104Z"
   },
   {
    "duration": 36,
    "start_time": "2021-07-07T17:25:13.662Z"
   },
   {
    "duration": 7,
    "start_time": "2021-07-07T17:25:14.528Z"
   },
   {
    "duration": 24,
    "start_time": "2021-07-07T17:25:27.982Z"
   },
   {
    "duration": 3,
    "start_time": "2021-07-07T17:25:48.982Z"
   },
   {
    "duration": 165,
    "start_time": "2021-07-07T17:25:48.987Z"
   },
   {
    "duration": 50,
    "start_time": "2021-07-07T17:25:49.154Z"
   },
   {
    "duration": 4,
    "start_time": "2021-07-07T17:25:49.206Z"
   },
   {
    "duration": 26,
    "start_time": "2021-07-07T17:25:49.212Z"
   },
   {
    "duration": 7,
    "start_time": "2021-07-07T17:25:49.240Z"
   },
   {
    "duration": 16,
    "start_time": "2021-07-07T17:25:49.249Z"
   },
   {
    "duration": 22,
    "start_time": "2021-07-07T17:25:49.266Z"
   },
   {
    "duration": 16,
    "start_time": "2021-07-07T17:25:49.291Z"
   },
   {
    "duration": 9,
    "start_time": "2021-07-07T17:25:49.309Z"
   },
   {
    "duration": 7,
    "start_time": "2021-07-07T17:25:49.319Z"
   },
   {
    "duration": 28,
    "start_time": "2021-07-07T17:25:49.328Z"
   },
   {
    "duration": 44,
    "start_time": "2021-07-07T17:25:49.357Z"
   },
   {
    "duration": 22,
    "start_time": "2021-07-07T17:25:49.403Z"
   },
   {
    "duration": 7,
    "start_time": "2021-07-07T17:25:49.427Z"
   },
   {
    "duration": 3,
    "start_time": "2021-07-07T17:25:49.436Z"
   },
   {
    "duration": 44,
    "start_time": "2021-07-07T17:25:49.441Z"
   },
   {
    "duration": 12,
    "start_time": "2021-07-07T17:25:49.488Z"
   },
   {
    "duration": 13,
    "start_time": "2021-07-07T17:25:49.502Z"
   },
   {
    "duration": 10,
    "start_time": "2021-07-07T17:25:49.516Z"
   },
   {
    "duration": 62,
    "start_time": "2021-07-07T17:25:49.527Z"
   },
   {
    "duration": 26,
    "start_time": "2021-07-07T17:26:51.809Z"
   },
   {
    "duration": 26,
    "start_time": "2021-07-07T17:26:55.759Z"
   },
   {
    "duration": 26,
    "start_time": "2021-07-07T17:27:04.501Z"
   },
   {
    "duration": 25,
    "start_time": "2021-07-07T17:28:24.859Z"
   },
   {
    "duration": 21,
    "start_time": "2021-07-07T17:28:55.250Z"
   },
   {
    "duration": 21,
    "start_time": "2021-07-07T17:28:58.885Z"
   },
   {
    "duration": 7,
    "start_time": "2021-07-07T17:45:40.972Z"
   },
   {
    "duration": 13,
    "start_time": "2021-07-07T17:45:42.529Z"
   },
   {
    "duration": 27,
    "start_time": "2021-07-07T17:45:51.026Z"
   },
   {
    "duration": 518,
    "start_time": "2021-07-07T17:46:15.532Z"
   },
   {
    "duration": 235,
    "start_time": "2021-07-07T17:46:16.053Z"
   },
   {
    "duration": 80,
    "start_time": "2021-07-07T17:46:16.292Z"
   },
   {
    "duration": 5,
    "start_time": "2021-07-07T17:46:16.373Z"
   },
   {
    "duration": 26,
    "start_time": "2021-07-07T17:46:16.380Z"
   },
   {
    "duration": 7,
    "start_time": "2021-07-07T17:46:16.408Z"
   },
   {
    "duration": 16,
    "start_time": "2021-07-07T17:46:16.418Z"
   },
   {
    "duration": 5,
    "start_time": "2021-07-07T17:46:16.436Z"
   },
   {
    "duration": 13,
    "start_time": "2021-07-07T17:46:16.442Z"
   },
   {
    "duration": 35,
    "start_time": "2021-07-07T17:46:16.456Z"
   },
   {
    "duration": 8,
    "start_time": "2021-07-07T17:46:16.493Z"
   },
   {
    "duration": 28,
    "start_time": "2021-07-07T17:46:16.502Z"
   },
   {
    "duration": 17,
    "start_time": "2021-07-07T17:46:16.532Z"
   },
   {
    "duration": 44,
    "start_time": "2021-07-07T17:46:16.551Z"
   },
   {
    "duration": 6,
    "start_time": "2021-07-07T17:46:16.597Z"
   },
   {
    "duration": 4,
    "start_time": "2021-07-07T17:46:16.605Z"
   },
   {
    "duration": 9,
    "start_time": "2021-07-07T17:46:16.610Z"
   },
   {
    "duration": 9,
    "start_time": "2021-07-07T17:46:16.621Z"
   },
   {
    "duration": 10,
    "start_time": "2021-07-07T17:46:16.632Z"
   },
   {
    "duration": 43,
    "start_time": "2021-07-07T17:46:16.644Z"
   },
   {
    "duration": 26,
    "start_time": "2021-07-07T17:46:16.689Z"
   },
   {
    "duration": 19,
    "start_time": "2021-07-07T17:46:16.718Z"
   },
   {
    "duration": 8,
    "start_time": "2021-07-07T17:46:16.738Z"
   },
   {
    "duration": 43,
    "start_time": "2021-07-07T17:46:16.747Z"
   },
   {
    "duration": 19,
    "start_time": "2021-07-07T17:46:16.791Z"
   },
   {
    "duration": 9,
    "start_time": "2021-07-07T17:46:16.812Z"
   },
   {
    "duration": 60,
    "start_time": "2021-07-07T17:46:16.822Z"
   },
   {
    "duration": -8,
    "start_time": "2021-07-07T17:46:16.892Z"
   },
   {
    "duration": 12,
    "start_time": "2021-07-07T17:48:47.707Z"
   },
   {
    "duration": 553,
    "start_time": "2021-07-07T18:10:09.350Z"
   },
   {
    "duration": 230,
    "start_time": "2021-07-07T18:10:09.905Z"
   },
   {
    "duration": 97,
    "start_time": "2021-07-07T18:10:10.137Z"
   },
   {
    "duration": 5,
    "start_time": "2021-07-07T18:10:10.236Z"
   },
   {
    "duration": 29,
    "start_time": "2021-07-07T18:10:10.242Z"
   },
   {
    "duration": 7,
    "start_time": "2021-07-07T18:10:10.272Z"
   },
   {
    "duration": 15,
    "start_time": "2021-07-07T18:10:10.281Z"
   },
   {
    "duration": 4,
    "start_time": "2021-07-07T18:10:10.299Z"
   },
   {
    "duration": 14,
    "start_time": "2021-07-07T18:10:10.305Z"
   },
   {
    "duration": 8,
    "start_time": "2021-07-07T18:10:10.321Z"
   },
   {
    "duration": 8,
    "start_time": "2021-07-07T18:10:10.331Z"
   },
   {
    "duration": 56,
    "start_time": "2021-07-07T18:10:10.341Z"
   },
   {
    "duration": 19,
    "start_time": "2021-07-07T18:10:10.399Z"
   },
   {
    "duration": 23,
    "start_time": "2021-07-07T18:10:10.419Z"
   },
   {
    "duration": 6,
    "start_time": "2021-07-07T18:10:10.444Z"
   },
   {
    "duration": 9,
    "start_time": "2021-07-07T18:10:10.451Z"
   },
   {
    "duration": 30,
    "start_time": "2021-07-07T18:10:10.462Z"
   },
   {
    "duration": 9,
    "start_time": "2021-07-07T18:10:10.494Z"
   },
   {
    "duration": 14,
    "start_time": "2021-07-07T18:10:10.505Z"
   },
   {
    "duration": 7,
    "start_time": "2021-07-07T18:10:10.521Z"
   },
   {
    "duration": 26,
    "start_time": "2021-07-07T18:10:10.530Z"
   },
   {
    "duration": 44,
    "start_time": "2021-07-07T18:10:10.558Z"
   },
   {
    "duration": 7,
    "start_time": "2021-07-07T18:10:10.605Z"
   },
   {
    "duration": 11,
    "start_time": "2021-07-07T18:10:10.614Z"
   },
   {
    "duration": 19,
    "start_time": "2021-07-07T18:10:10.626Z"
   },
   {
    "duration": 44,
    "start_time": "2021-07-07T18:10:10.646Z"
   },
   {
    "duration": 516,
    "start_time": "2021-07-07T18:14:00.826Z"
   },
   {
    "duration": 230,
    "start_time": "2021-07-07T18:14:01.344Z"
   },
   {
    "duration": 105,
    "start_time": "2021-07-07T18:14:01.576Z"
   },
   {
    "duration": 5,
    "start_time": "2021-07-07T18:14:01.683Z"
   },
   {
    "duration": 46,
    "start_time": "2021-07-07T18:14:01.690Z"
   },
   {
    "duration": 7,
    "start_time": "2021-07-07T18:14:01.738Z"
   },
   {
    "duration": 20,
    "start_time": "2021-07-07T18:14:01.747Z"
   },
   {
    "duration": 16,
    "start_time": "2021-07-07T18:14:01.769Z"
   },
   {
    "duration": 14,
    "start_time": "2021-07-07T18:14:01.787Z"
   },
   {
    "duration": 15,
    "start_time": "2021-07-07T18:14:01.803Z"
   },
   {
    "duration": 12,
    "start_time": "2021-07-07T18:14:01.820Z"
   },
   {
    "duration": 35,
    "start_time": "2021-07-07T18:14:01.833Z"
   },
   {
    "duration": 31,
    "start_time": "2021-07-07T18:14:01.869Z"
   },
   {
    "duration": 37,
    "start_time": "2021-07-07T18:14:01.902Z"
   },
   {
    "duration": 8,
    "start_time": "2021-07-07T18:14:01.942Z"
   },
   {
    "duration": 16,
    "start_time": "2021-07-07T18:14:01.952Z"
   },
   {
    "duration": 13,
    "start_time": "2021-07-07T18:14:01.970Z"
   },
   {
    "duration": 32,
    "start_time": "2021-07-07T18:14:01.985Z"
   },
   {
    "duration": 11,
    "start_time": "2021-07-07T18:14:02.019Z"
   },
   {
    "duration": 22,
    "start_time": "2021-07-07T18:14:02.031Z"
   },
   {
    "duration": 27,
    "start_time": "2021-07-07T18:14:02.055Z"
   },
   {
    "duration": 18,
    "start_time": "2021-07-07T18:14:02.084Z"
   },
   {
    "duration": 18,
    "start_time": "2021-07-07T18:14:02.106Z"
   },
   {
    "duration": 11,
    "start_time": "2021-07-07T18:14:02.126Z"
   },
   {
    "duration": 21,
    "start_time": "2021-07-07T18:14:02.138Z"
   },
   {
    "duration": 32,
    "start_time": "2021-07-07T18:14:02.161Z"
   },
   {
    "duration": 28,
    "start_time": "2021-07-07T18:14:44.295Z"
   },
   {
    "duration": 6,
    "start_time": "2021-07-07T18:15:05.834Z"
   },
   {
    "duration": 511,
    "start_time": "2021-07-07T18:15:41.541Z"
   },
   {
    "duration": 183,
    "start_time": "2021-07-07T18:15:42.054Z"
   },
   {
    "duration": 50,
    "start_time": "2021-07-07T18:15:42.239Z"
   },
   {
    "duration": 5,
    "start_time": "2021-07-07T18:15:42.291Z"
   },
   {
    "duration": 48,
    "start_time": "2021-07-07T18:15:42.297Z"
   },
   {
    "duration": 8,
    "start_time": "2021-07-07T18:15:42.346Z"
   },
   {
    "duration": 17,
    "start_time": "2021-07-07T18:15:42.356Z"
   },
   {
    "duration": 15,
    "start_time": "2021-07-07T18:15:42.375Z"
   },
   {
    "duration": 12,
    "start_time": "2021-07-07T18:15:42.392Z"
   },
   {
    "duration": 7,
    "start_time": "2021-07-07T18:15:42.406Z"
   },
   {
    "duration": 7,
    "start_time": "2021-07-07T18:15:42.415Z"
   },
   {
    "duration": 29,
    "start_time": "2021-07-07T18:15:42.423Z"
   },
   {
    "duration": 43,
    "start_time": "2021-07-07T18:15:42.453Z"
   },
   {
    "duration": 18,
    "start_time": "2021-07-07T18:15:42.497Z"
   },
   {
    "duration": 6,
    "start_time": "2021-07-07T18:15:42.516Z"
   },
   {
    "duration": 3,
    "start_time": "2021-07-07T18:15:42.523Z"
   },
   {
    "duration": 18,
    "start_time": "2021-07-07T18:15:42.528Z"
   },
   {
    "duration": 10,
    "start_time": "2021-07-07T18:15:42.547Z"
   },
   {
    "duration": 36,
    "start_time": "2021-07-07T18:15:42.559Z"
   },
   {
    "duration": 8,
    "start_time": "2021-07-07T18:15:42.597Z"
   },
   {
    "duration": 28,
    "start_time": "2021-07-07T18:15:42.606Z"
   },
   {
    "duration": 52,
    "start_time": "2021-07-07T18:15:42.635Z"
   },
   {
    "duration": 7,
    "start_time": "2021-07-07T18:15:42.690Z"
   },
   {
    "duration": 10,
    "start_time": "2021-07-07T18:15:42.699Z"
   },
   {
    "duration": 19,
    "start_time": "2021-07-07T18:15:42.711Z"
   },
   {
    "duration": 9,
    "start_time": "2021-07-07T18:15:42.732Z"
   },
   {
    "duration": 5,
    "start_time": "2021-07-07T18:15:42.743Z"
   },
   {
    "duration": 1450,
    "start_time": "2021-07-07T18:15:51.984Z"
   },
   {
    "duration": 161,
    "start_time": "2021-07-07T18:15:53.435Z"
   },
   {
    "duration": 124,
    "start_time": "2021-07-07T18:15:53.598Z"
   },
   {
    "duration": 5,
    "start_time": "2021-07-07T18:15:53.724Z"
   },
   {
    "duration": 34,
    "start_time": "2021-07-07T18:15:53.730Z"
   },
   {
    "duration": 7,
    "start_time": "2021-07-07T18:15:53.765Z"
   },
   {
    "duration": 15,
    "start_time": "2021-07-07T18:15:53.773Z"
   },
   {
    "duration": 5,
    "start_time": "2021-07-07T18:15:53.791Z"
   },
   {
    "duration": 19,
    "start_time": "2021-07-07T18:15:53.798Z"
   },
   {
    "duration": 9,
    "start_time": "2021-07-07T18:15:53.818Z"
   },
   {
    "duration": 19,
    "start_time": "2021-07-07T18:15:53.828Z"
   },
   {
    "duration": 27,
    "start_time": "2021-07-07T18:15:53.848Z"
   },
   {
    "duration": 16,
    "start_time": "2021-07-07T18:15:53.884Z"
   },
   {
    "duration": 29,
    "start_time": "2021-07-07T18:15:53.901Z"
   },
   {
    "duration": 5,
    "start_time": "2021-07-07T18:15:53.932Z"
   },
   {
    "duration": 15,
    "start_time": "2021-07-07T18:15:53.939Z"
   },
   {
    "duration": 13,
    "start_time": "2021-07-07T18:15:53.956Z"
   },
   {
    "duration": 20,
    "start_time": "2021-07-07T18:15:53.971Z"
   },
   {
    "duration": 14,
    "start_time": "2021-07-07T18:15:53.992Z"
   },
   {
    "duration": 9,
    "start_time": "2021-07-07T18:15:54.009Z"
   },
   {
    "duration": 28,
    "start_time": "2021-07-07T18:15:54.020Z"
   },
   {
    "duration": 50,
    "start_time": "2021-07-07T18:15:54.051Z"
   },
   {
    "duration": 8,
    "start_time": "2021-07-07T18:15:54.105Z"
   },
   {
    "duration": 11,
    "start_time": "2021-07-07T18:15:54.115Z"
   },
   {
    "duration": 20,
    "start_time": "2021-07-07T18:15:54.128Z"
   },
   {
    "duration": 13,
    "start_time": "2021-07-07T18:15:54.184Z"
   },
   {
    "duration": 7,
    "start_time": "2021-07-07T18:15:54.199Z"
   },
   {
    "duration": 7,
    "start_time": "2021-07-07T18:17:08.042Z"
   },
   {
    "duration": 8,
    "start_time": "2021-07-07T18:17:21.008Z"
   },
   {
    "duration": 7,
    "start_time": "2021-07-07T18:17:29.003Z"
   },
   {
    "duration": 8,
    "start_time": "2021-07-07T18:17:32.492Z"
   },
   {
    "duration": 9,
    "start_time": "2021-07-07T18:17:41.758Z"
   },
   {
    "duration": 255,
    "start_time": "2021-07-07T18:20:20.897Z"
   },
   {
    "duration": 173,
    "start_time": "2021-07-07T18:20:26.636Z"
   },
   {
    "duration": 7,
    "start_time": "2021-07-07T18:21:47.164Z"
   },
   {
    "duration": 254,
    "start_time": "2021-07-07T18:23:08.703Z"
   },
   {
    "duration": 21,
    "start_time": "2021-07-07T18:23:22.506Z"
   },
   {
    "duration": 315,
    "start_time": "2021-07-07T18:25:54.801Z"
   },
   {
    "duration": 34,
    "start_time": "2021-07-07T18:26:51.817Z"
   },
   {
    "duration": 327,
    "start_time": "2021-07-07T18:26:56.147Z"
   },
   {
    "duration": 342,
    "start_time": "2021-07-07T18:27:15.887Z"
   },
   {
    "duration": 302,
    "start_time": "2021-07-07T18:28:18.569Z"
   },
   {
    "duration": 226,
    "start_time": "2021-07-07T18:29:20.879Z"
   },
   {
    "duration": 207,
    "start_time": "2021-07-07T18:29:58.114Z"
   },
   {
    "duration": 140,
    "start_time": "2021-07-07T18:32:04.372Z"
   },
   {
    "duration": 158,
    "start_time": "2021-07-07T18:32:32.508Z"
   },
   {
    "duration": 145,
    "start_time": "2021-07-07T18:32:41.365Z"
   },
   {
    "duration": 132,
    "start_time": "2021-07-07T18:32:45.199Z"
   },
   {
    "duration": 11,
    "start_time": "2021-07-07T18:35:24.679Z"
   },
   {
    "duration": 268,
    "start_time": "2021-07-07T18:36:16.145Z"
   },
   {
    "duration": 227,
    "start_time": "2021-07-07T18:37:04.918Z"
   },
   {
    "duration": 3,
    "start_time": "2021-07-07T18:37:33.012Z"
   },
   {
    "duration": 671,
    "start_time": "2021-07-07T18:37:38.295Z"
   },
   {
    "duration": 54,
    "start_time": "2021-07-07T18:37:53.406Z"
   },
   {
    "duration": 631,
    "start_time": "2021-07-07T18:37:56.463Z"
   },
   {
    "duration": 19,
    "start_time": "2021-07-07T18:39:40.535Z"
   },
   {
    "duration": 20,
    "start_time": "2021-07-07T18:40:12.236Z"
   },
   {
    "duration": 633,
    "start_time": "2021-07-07T18:42:00.398Z"
   },
   {
    "duration": 218,
    "start_time": "2021-07-07T18:42:01.033Z"
   },
   {
    "duration": 49,
    "start_time": "2021-07-07T18:42:01.253Z"
   },
   {
    "duration": 5,
    "start_time": "2021-07-07T18:42:01.303Z"
   },
   {
    "duration": 27,
    "start_time": "2021-07-07T18:42:01.310Z"
   },
   {
    "duration": 8,
    "start_time": "2021-07-07T18:42:01.339Z"
   },
   {
    "duration": 20,
    "start_time": "2021-07-07T18:42:01.348Z"
   },
   {
    "duration": 6,
    "start_time": "2021-07-07T18:42:01.386Z"
   },
   {
    "duration": 16,
    "start_time": "2021-07-07T18:42:01.394Z"
   },
   {
    "duration": 9,
    "start_time": "2021-07-07T18:42:01.411Z"
   },
   {
    "duration": 11,
    "start_time": "2021-07-07T18:42:01.421Z"
   },
   {
    "duration": 31,
    "start_time": "2021-07-07T18:42:01.434Z"
   },
   {
    "duration": 18,
    "start_time": "2021-07-07T18:42:01.485Z"
   },
   {
    "duration": 23,
    "start_time": "2021-07-07T18:42:01.505Z"
   },
   {
    "duration": 6,
    "start_time": "2021-07-07T18:42:01.530Z"
   },
   {
    "duration": 10,
    "start_time": "2021-07-07T18:42:01.538Z"
   },
   {
    "duration": 13,
    "start_time": "2021-07-07T18:42:01.550Z"
   },
   {
    "duration": 24,
    "start_time": "2021-07-07T18:42:01.564Z"
   },
   {
    "duration": 20,
    "start_time": "2021-07-07T18:42:01.590Z"
   },
   {
    "duration": 8,
    "start_time": "2021-07-07T18:42:01.611Z"
   },
   {
    "duration": 31,
    "start_time": "2021-07-07T18:42:01.620Z"
   },
   {
    "duration": 39,
    "start_time": "2021-07-07T18:42:01.653Z"
   },
   {
    "duration": 8,
    "start_time": "2021-07-07T18:42:01.696Z"
   },
   {
    "duration": 13,
    "start_time": "2021-07-07T18:42:01.705Z"
   },
   {
    "duration": 20,
    "start_time": "2021-07-07T18:42:01.720Z"
   },
   {
    "duration": 12,
    "start_time": "2021-07-07T18:42:01.741Z"
   },
   {
    "duration": 35,
    "start_time": "2021-07-07T18:42:01.755Z"
   },
   {
    "duration": 14,
    "start_time": "2021-07-07T18:42:01.792Z"
   },
   {
    "duration": 188,
    "start_time": "2021-07-07T18:42:01.808Z"
   },
   {
    "duration": 19,
    "start_time": "2021-07-07T18:42:01.998Z"
   },
   {
    "duration": 175,
    "start_time": "2021-07-07T18:42:02.019Z"
   },
   {
    "duration": 134,
    "start_time": "2021-07-07T18:42:02.196Z"
   },
   {
    "duration": 10,
    "start_time": "2021-07-07T18:42:02.331Z"
   },
   {
    "duration": 19,
    "start_time": "2021-07-07T18:42:02.343Z"
   },
   {
    "duration": 628,
    "start_time": "2021-07-07T18:46:30.701Z"
   },
   {
    "duration": 183,
    "start_time": "2021-07-07T18:46:31.331Z"
   },
   {
    "duration": 48,
    "start_time": "2021-07-07T18:46:31.516Z"
   },
   {
    "duration": 5,
    "start_time": "2021-07-07T18:46:31.566Z"
   },
   {
    "duration": 28,
    "start_time": "2021-07-07T18:46:31.572Z"
   },
   {
    "duration": 8,
    "start_time": "2021-07-07T18:46:31.602Z"
   },
   {
    "duration": 19,
    "start_time": "2021-07-07T18:46:31.611Z"
   },
   {
    "duration": 6,
    "start_time": "2021-07-07T18:46:31.633Z"
   },
   {
    "duration": 17,
    "start_time": "2021-07-07T18:46:31.642Z"
   },
   {
    "duration": 10,
    "start_time": "2021-07-07T18:46:31.684Z"
   },
   {
    "duration": 9,
    "start_time": "2021-07-07T18:46:31.695Z"
   },
   {
    "duration": 28,
    "start_time": "2021-07-07T18:46:31.705Z"
   },
   {
    "duration": 18,
    "start_time": "2021-07-07T18:46:31.735Z"
   },
   {
    "duration": 48,
    "start_time": "2021-07-07T18:46:31.755Z"
   },
   {
    "duration": 6,
    "start_time": "2021-07-07T18:46:31.804Z"
   },
   {
    "duration": 4,
    "start_time": "2021-07-07T18:46:31.812Z"
   },
   {
    "duration": 9,
    "start_time": "2021-07-07T18:46:31.817Z"
   },
   {
    "duration": 10,
    "start_time": "2021-07-07T18:46:31.827Z"
   },
   {
    "duration": 12,
    "start_time": "2021-07-07T18:46:31.838Z"
   },
   {
    "duration": 39,
    "start_time": "2021-07-07T18:46:31.851Z"
   },
   {
    "duration": 24,
    "start_time": "2021-07-07T18:46:31.892Z"
   },
   {
    "duration": 15,
    "start_time": "2021-07-07T18:46:31.918Z"
   },
   {
    "duration": 7,
    "start_time": "2021-07-07T18:46:31.936Z"
   },
   {
    "duration": 8,
    "start_time": "2021-07-07T18:46:31.944Z"
   },
   {
    "duration": 19,
    "start_time": "2021-07-07T18:46:31.984Z"
   },
   {
    "duration": 10,
    "start_time": "2021-07-07T18:46:32.004Z"
   },
   {
    "duration": 5,
    "start_time": "2021-07-07T18:46:32.016Z"
   },
   {
    "duration": 9,
    "start_time": "2021-07-07T18:46:32.023Z"
   },
   {
    "duration": 199,
    "start_time": "2021-07-07T18:46:32.033Z"
   },
   {
    "duration": 19,
    "start_time": "2021-07-07T18:46:32.234Z"
   },
   {
    "duration": 159,
    "start_time": "2021-07-07T18:46:32.255Z"
   },
   {
    "duration": 134,
    "start_time": "2021-07-07T18:46:32.416Z"
   },
   {
    "duration": 10,
    "start_time": "2021-07-07T18:46:32.552Z"
   },
   {
    "duration": 34,
    "start_time": "2021-07-07T18:46:32.563Z"
   },
   {
    "duration": 1039,
    "start_time": "2021-07-08T08:41:09.419Z"
   },
   {
    "duration": 333,
    "start_time": "2021-07-08T08:41:10.459Z"
   },
   {
    "duration": 173,
    "start_time": "2021-07-08T08:41:10.794Z"
   },
   {
    "duration": 5,
    "start_time": "2021-07-08T08:41:10.968Z"
   },
   {
    "duration": 25,
    "start_time": "2021-07-08T08:41:10.975Z"
   },
   {
    "duration": 9,
    "start_time": "2021-07-08T08:41:11.002Z"
   },
   {
    "duration": 18,
    "start_time": "2021-07-08T08:41:11.013Z"
   },
   {
    "duration": 6,
    "start_time": "2021-07-08T08:41:11.033Z"
   },
   {
    "duration": 44,
    "start_time": "2021-07-08T08:41:11.042Z"
   },
   {
    "duration": 10,
    "start_time": "2021-07-08T08:41:11.088Z"
   },
   {
    "duration": 9,
    "start_time": "2021-07-08T08:41:11.100Z"
   },
   {
    "duration": 27,
    "start_time": "2021-07-08T08:41:11.111Z"
   },
   {
    "duration": 46,
    "start_time": "2021-07-08T08:41:11.140Z"
   },
   {
    "duration": 17,
    "start_time": "2021-07-08T08:41:11.187Z"
   },
   {
    "duration": 6,
    "start_time": "2021-07-08T08:41:11.206Z"
   },
   {
    "duration": 5,
    "start_time": "2021-07-08T08:41:11.213Z"
   },
   {
    "duration": 10,
    "start_time": "2021-07-08T08:41:11.219Z"
   },
   {
    "duration": 9,
    "start_time": "2021-07-08T08:41:11.230Z"
   },
   {
    "duration": 45,
    "start_time": "2021-07-08T08:41:11.241Z"
   },
   {
    "duration": 7,
    "start_time": "2021-07-08T08:41:11.287Z"
   },
   {
    "duration": 24,
    "start_time": "2021-07-08T08:41:11.296Z"
   },
   {
    "duration": 16,
    "start_time": "2021-07-08T08:41:11.322Z"
   },
   {
    "duration": 7,
    "start_time": "2021-07-08T08:41:11.341Z"
   },
   {
    "duration": 41,
    "start_time": "2021-07-08T08:41:11.349Z"
   },
   {
    "duration": 17,
    "start_time": "2021-07-08T08:41:11.391Z"
   },
   {
    "duration": 9,
    "start_time": "2021-07-08T08:41:11.410Z"
   },
   {
    "duration": 5,
    "start_time": "2021-07-08T08:41:11.421Z"
   },
   {
    "duration": 6,
    "start_time": "2021-07-08T08:41:11.428Z"
   },
   {
    "duration": 198,
    "start_time": "2021-07-08T08:41:11.435Z"
   },
   {
    "duration": 18,
    "start_time": "2021-07-08T08:41:11.635Z"
   },
   {
    "duration": 155,
    "start_time": "2021-07-08T08:41:11.655Z"
   },
   {
    "duration": 138,
    "start_time": "2021-07-08T08:41:11.811Z"
   },
   {
    "duration": 10,
    "start_time": "2021-07-08T08:41:11.950Z"
   },
   {
    "duration": 29,
    "start_time": "2021-07-08T08:41:11.961Z"
   },
   {
    "duration": 171,
    "start_time": "2021-07-08T08:47:44.522Z"
   },
   {
    "duration": 124,
    "start_time": "2021-07-08T08:47:46.872Z"
   },
   {
    "duration": 191,
    "start_time": "2021-07-08T08:47:58.148Z"
   },
   {
    "duration": 191,
    "start_time": "2021-07-08T08:48:07.412Z"
   },
   {
    "duration": 261,
    "start_time": "2021-07-08T08:48:10.385Z"
   },
   {
    "duration": 255,
    "start_time": "2021-07-08T08:48:14.494Z"
   },
   {
    "duration": 219,
    "start_time": "2021-07-08T08:48:22.752Z"
   },
   {
    "duration": 173,
    "start_time": "2021-07-08T08:49:06.395Z"
   },
   {
    "duration": 180,
    "start_time": "2021-07-08T08:49:21.011Z"
   },
   {
    "duration": 6,
    "start_time": "2021-07-08T08:50:31.697Z"
   },
   {
    "duration": 10,
    "start_time": "2021-07-08T08:50:47.394Z"
   },
   {
    "duration": 11,
    "start_time": "2021-07-08T08:53:49.332Z"
   },
   {
    "duration": 171,
    "start_time": "2021-07-08T08:54:28.408Z"
   },
   {
    "duration": 636,
    "start_time": "2021-07-08T09:02:48.385Z"
   },
   {
    "duration": 227,
    "start_time": "2021-07-08T09:02:49.023Z"
   },
   {
    "duration": 104,
    "start_time": "2021-07-08T09:02:49.252Z"
   },
   {
    "duration": 5,
    "start_time": "2021-07-08T09:02:49.358Z"
   },
   {
    "duration": 27,
    "start_time": "2021-07-08T09:02:49.365Z"
   },
   {
    "duration": 8,
    "start_time": "2021-07-08T09:02:49.394Z"
   },
   {
    "duration": 18,
    "start_time": "2021-07-08T09:02:49.404Z"
   },
   {
    "duration": 6,
    "start_time": "2021-07-08T09:02:49.424Z"
   },
   {
    "duration": 11,
    "start_time": "2021-07-08T09:02:49.433Z"
   },
   {
    "duration": 13,
    "start_time": "2021-07-08T09:02:49.485Z"
   },
   {
    "duration": 9,
    "start_time": "2021-07-08T09:02:49.500Z"
   },
   {
    "duration": 38,
    "start_time": "2021-07-08T09:02:49.511Z"
   },
   {
    "duration": 42,
    "start_time": "2021-07-08T09:02:49.551Z"
   },
   {
    "duration": 21,
    "start_time": "2021-07-08T09:02:49.594Z"
   },
   {
    "duration": 6,
    "start_time": "2021-07-08T09:02:49.616Z"
   },
   {
    "duration": 3,
    "start_time": "2021-07-08T09:02:49.623Z"
   },
   {
    "duration": 9,
    "start_time": "2021-07-08T09:02:49.628Z"
   },
   {
    "duration": 52,
    "start_time": "2021-07-08T09:02:49.638Z"
   },
   {
    "duration": 11,
    "start_time": "2021-07-08T09:02:49.692Z"
   },
   {
    "duration": 8,
    "start_time": "2021-07-08T09:02:49.704Z"
   },
   {
    "duration": 27,
    "start_time": "2021-07-08T09:02:49.713Z"
   },
   {
    "duration": 59,
    "start_time": "2021-07-08T09:02:49.741Z"
   },
   {
    "duration": 8,
    "start_time": "2021-07-08T09:02:49.803Z"
   },
   {
    "duration": 14,
    "start_time": "2021-07-08T09:02:49.813Z"
   },
   {
    "duration": 20,
    "start_time": "2021-07-08T09:02:49.829Z"
   },
   {
    "duration": 44,
    "start_time": "2021-07-08T09:02:49.851Z"
   },
   {
    "duration": 14,
    "start_time": "2021-07-08T09:02:49.896Z"
   },
   {
    "duration": 221,
    "start_time": "2021-07-08T09:02:49.912Z"
   },
   {
    "duration": 6,
    "start_time": "2021-07-08T09:02:50.134Z"
   },
   {
    "duration": 206,
    "start_time": "2021-07-08T09:02:50.142Z"
   },
   {
    "duration": 19,
    "start_time": "2021-07-08T09:02:50.350Z"
   },
   {
    "duration": 21,
    "start_time": "2021-07-08T09:02:50.370Z"
   },
   {
    "duration": 20,
    "start_time": "2021-07-08T09:02:50.393Z"
   },
   {
    "duration": 5,
    "start_time": "2021-07-08T09:02:50.414Z"
   },
   {
    "duration": 5,
    "start_time": "2021-07-08T09:03:34.173Z"
   },
   {
    "duration": 6,
    "start_time": "2021-07-08T09:04:49.062Z"
   },
   {
    "duration": 9,
    "start_time": "2021-07-08T09:04:50.118Z"
   },
   {
    "duration": 14,
    "start_time": "2021-07-08T09:04:58.512Z"
   },
   {
    "duration": 9,
    "start_time": "2021-07-08T09:05:10.988Z"
   },
   {
    "duration": 11,
    "start_time": "2021-07-08T09:05:11.743Z"
   },
   {
    "duration": 7,
    "start_time": "2021-07-08T09:05:25.677Z"
   },
   {
    "duration": 13,
    "start_time": "2021-07-08T09:05:47.189Z"
   },
   {
    "duration": 13,
    "start_time": "2021-07-08T09:05:54.755Z"
   },
   {
    "duration": 4,
    "start_time": "2021-07-08T09:06:29.189Z"
   },
   {
    "duration": 244,
    "start_time": "2021-07-08T09:06:29.195Z"
   },
   {
    "duration": 91,
    "start_time": "2021-07-08T09:06:29.441Z"
   },
   {
    "duration": 4,
    "start_time": "2021-07-08T09:06:29.534Z"
   },
   {
    "duration": 28,
    "start_time": "2021-07-08T09:06:29.540Z"
   },
   {
    "duration": 6,
    "start_time": "2021-07-08T09:06:29.570Z"
   },
   {
    "duration": 18,
    "start_time": "2021-07-08T09:06:29.578Z"
   },
   {
    "duration": 5,
    "start_time": "2021-07-08T09:06:29.597Z"
   },
   {
    "duration": 13,
    "start_time": "2021-07-08T09:06:29.605Z"
   },
   {
    "duration": 8,
    "start_time": "2021-07-08T09:06:29.620Z"
   },
   {
    "duration": 7,
    "start_time": "2021-07-08T09:06:29.630Z"
   },
   {
    "duration": 63,
    "start_time": "2021-07-08T09:06:29.639Z"
   },
   {
    "duration": 17,
    "start_time": "2021-07-08T09:06:29.704Z"
   },
   {
    "duration": 20,
    "start_time": "2021-07-08T09:06:29.723Z"
   },
   {
    "duration": 6,
    "start_time": "2021-07-08T09:06:29.745Z"
   },
   {
    "duration": 3,
    "start_time": "2021-07-08T09:06:29.752Z"
   },
   {
    "duration": 7,
    "start_time": "2021-07-08T09:06:29.785Z"
   },
   {
    "duration": 11,
    "start_time": "2021-07-08T09:06:29.794Z"
   },
   {
    "duration": 15,
    "start_time": "2021-07-08T09:06:29.807Z"
   },
   {
    "duration": 8,
    "start_time": "2021-07-08T09:06:29.823Z"
   },
   {
    "duration": 70,
    "start_time": "2021-07-08T09:06:29.832Z"
   },
   {
    "duration": 17,
    "start_time": "2021-07-08T09:06:29.903Z"
   },
   {
    "duration": 9,
    "start_time": "2021-07-08T09:06:29.921Z"
   },
   {
    "duration": 9,
    "start_time": "2021-07-08T09:06:29.932Z"
   },
   {
    "duration": 57,
    "start_time": "2021-07-08T09:06:29.942Z"
   },
   {
    "duration": 11,
    "start_time": "2021-07-08T09:06:30.001Z"
   },
   {
    "duration": 19,
    "start_time": "2021-07-08T09:06:30.016Z"
   },
   {
    "duration": 217,
    "start_time": "2021-07-08T09:06:30.037Z"
   },
   {
    "duration": 6,
    "start_time": "2021-07-08T09:06:30.255Z"
   },
   {
    "duration": 205,
    "start_time": "2021-07-08T09:06:30.263Z"
   },
   {
    "duration": 27,
    "start_time": "2021-07-08T09:06:30.470Z"
   },
   {
    "duration": 11,
    "start_time": "2021-07-08T09:06:30.500Z"
   },
   {
    "duration": 31,
    "start_time": "2021-07-08T09:06:30.513Z"
   },
   {
    "duration": 18,
    "start_time": "2021-07-08T09:06:30.546Z"
   },
   {
    "duration": 11,
    "start_time": "2021-07-08T09:06:30.566Z"
   },
   {
    "duration": 19,
    "start_time": "2021-07-08T09:06:30.579Z"
   },
   {
    "duration": 20,
    "start_time": "2021-07-08T09:06:49.466Z"
   },
   {
    "duration": 9,
    "start_time": "2021-07-08T09:06:51.994Z"
   },
   {
    "duration": 20,
    "start_time": "2021-07-08T09:06:52.273Z"
   },
   {
    "duration": 246,
    "start_time": "2021-07-08T09:10:21.272Z"
   },
   {
    "duration": 84,
    "start_time": "2021-07-08T09:10:21.436Z"
   },
   {
    "duration": 7,
    "start_time": "2021-07-08T09:10:37.608Z"
   },
   {
    "duration": 189,
    "start_time": "2021-07-08T09:10:38.573Z"
   },
   {
    "duration": 185,
    "start_time": "2021-07-08T09:10:53.181Z"
   },
   {
    "duration": 11,
    "start_time": "2021-07-08T09:10:59.549Z"
   },
   {
    "duration": 42,
    "start_time": "2021-07-08T09:10:59.709Z"
   },
   {
    "duration": 12,
    "start_time": "2021-07-08T09:11:02.857Z"
   },
   {
    "duration": 28,
    "start_time": "2021-07-08T09:11:10.062Z"
   },
   {
    "duration": 249,
    "start_time": "2021-07-08T09:11:37.388Z"
   },
   {
    "duration": 232,
    "start_time": "2021-07-08T09:11:49.485Z"
   },
   {
    "duration": 453,
    "start_time": "2021-07-08T09:12:01.546Z"
   },
   {
    "duration": 440,
    "start_time": "2021-07-08T09:12:12.347Z"
   },
   {
    "duration": 213,
    "start_time": "2021-07-08T09:13:32.196Z"
   },
   {
    "duration": 172,
    "start_time": "2021-07-08T09:14:07.400Z"
   },
   {
    "duration": 185,
    "start_time": "2021-07-08T09:14:14.905Z"
   },
   {
    "duration": 209,
    "start_time": "2021-07-08T09:14:40.109Z"
   },
   {
    "duration": 201,
    "start_time": "2021-07-08T09:14:54.506Z"
   },
   {
    "duration": 622,
    "start_time": "2021-07-08T09:18:14.497Z"
   },
   {
    "duration": 220,
    "start_time": "2021-07-08T09:18:15.121Z"
   },
   {
    "duration": 79,
    "start_time": "2021-07-08T09:18:15.343Z"
   },
   {
    "duration": 4,
    "start_time": "2021-07-08T09:18:15.425Z"
   },
   {
    "duration": 24,
    "start_time": "2021-07-08T09:18:15.431Z"
   },
   {
    "duration": 8,
    "start_time": "2021-07-08T09:18:15.457Z"
   },
   {
    "duration": 16,
    "start_time": "2021-07-08T09:18:15.466Z"
   },
   {
    "duration": 5,
    "start_time": "2021-07-08T09:18:15.484Z"
   },
   {
    "duration": 10,
    "start_time": "2021-07-08T09:18:15.493Z"
   },
   {
    "duration": 8,
    "start_time": "2021-07-08T09:18:15.504Z"
   },
   {
    "duration": 7,
    "start_time": "2021-07-08T09:18:15.513Z"
   },
   {
    "duration": 26,
    "start_time": "2021-07-08T09:18:15.522Z"
   },
   {
    "duration": 49,
    "start_time": "2021-07-08T09:18:15.550Z"
   },
   {
    "duration": 21,
    "start_time": "2021-07-08T09:18:15.601Z"
   },
   {
    "duration": 8,
    "start_time": "2021-07-08T09:18:15.624Z"
   },
   {
    "duration": 3,
    "start_time": "2021-07-08T09:18:15.634Z"
   },
   {
    "duration": 8,
    "start_time": "2021-07-08T09:18:15.639Z"
   },
   {
    "duration": 45,
    "start_time": "2021-07-08T09:18:15.649Z"
   },
   {
    "duration": 13,
    "start_time": "2021-07-08T09:18:15.696Z"
   },
   {
    "duration": 10,
    "start_time": "2021-07-08T09:18:15.711Z"
   },
   {
    "duration": 64,
    "start_time": "2021-07-08T09:18:15.722Z"
   },
   {
    "duration": 19,
    "start_time": "2021-07-08T09:18:15.788Z"
   },
   {
    "duration": 9,
    "start_time": "2021-07-08T09:18:15.809Z"
   },
   {
    "duration": 9,
    "start_time": "2021-07-08T09:18:15.820Z"
   },
   {
    "duration": 18,
    "start_time": "2021-07-08T09:18:15.831Z"
   },
   {
    "duration": 43,
    "start_time": "2021-07-08T09:18:15.851Z"
   },
   {
    "duration": 12,
    "start_time": "2021-07-08T09:18:15.897Z"
   },
   {
    "duration": 219,
    "start_time": "2021-07-08T09:18:15.911Z"
   },
   {
    "duration": 8,
    "start_time": "2021-07-08T09:18:16.132Z"
   },
   {
    "duration": 199,
    "start_time": "2021-07-08T09:18:16.141Z"
   },
   {
    "duration": 18,
    "start_time": "2021-07-08T09:18:16.341Z"
   },
   {
    "duration": 24,
    "start_time": "2021-07-08T09:18:16.361Z"
   },
   {
    "duration": 24,
    "start_time": "2021-07-08T09:18:16.387Z"
   },
   {
    "duration": 211,
    "start_time": "2021-07-08T09:18:16.413Z"
   },
   {
    "duration": 18,
    "start_time": "2021-07-08T09:18:16.626Z"
   },
   {
    "duration": 596,
    "start_time": "2021-07-08T10:06:33.623Z"
   },
   {
    "duration": 181,
    "start_time": "2021-07-08T10:06:34.221Z"
   },
   {
    "duration": 176,
    "start_time": "2021-07-08T10:06:34.635Z"
   },
   {
    "duration": 239,
    "start_time": "2021-07-08T10:06:55.572Z"
   },
   {
    "duration": 6,
    "start_time": "2021-07-08T10:06:57.687Z"
   },
   {
    "duration": 4,
    "start_time": "2021-07-08T10:07:03.956Z"
   },
   {
    "duration": 4,
    "start_time": "2021-07-08T10:07:10.376Z"
   },
   {
    "duration": 4,
    "start_time": "2021-07-08T10:17:19.889Z"
   },
   {
    "duration": 3,
    "start_time": "2021-07-08T10:19:19.407Z"
   },
   {
    "duration": 197,
    "start_time": "2021-07-08T10:19:19.412Z"
   },
   {
    "duration": 127,
    "start_time": "2021-07-08T10:19:19.611Z"
   },
   {
    "duration": 4,
    "start_time": "2021-07-08T10:19:19.740Z"
   },
   {
    "duration": 27,
    "start_time": "2021-07-08T10:19:19.746Z"
   },
   {
    "duration": 7,
    "start_time": "2021-07-08T10:19:19.775Z"
   },
   {
    "duration": 30,
    "start_time": "2021-07-08T10:19:19.784Z"
   },
   {
    "duration": 7,
    "start_time": "2021-07-08T10:19:19.817Z"
   },
   {
    "duration": 26,
    "start_time": "2021-07-08T10:19:19.826Z"
   },
   {
    "duration": 18,
    "start_time": "2021-07-08T10:19:19.854Z"
   },
   {
    "duration": 14,
    "start_time": "2021-07-08T10:19:19.874Z"
   },
   {
    "duration": 48,
    "start_time": "2021-07-08T10:19:19.890Z"
   },
   {
    "duration": 17,
    "start_time": "2021-07-08T10:19:19.940Z"
   },
   {
    "duration": 38,
    "start_time": "2021-07-08T10:19:19.959Z"
   },
   {
    "duration": 8,
    "start_time": "2021-07-08T10:19:19.999Z"
   },
   {
    "duration": 15,
    "start_time": "2021-07-08T10:19:20.009Z"
   },
   {
    "duration": 22,
    "start_time": "2021-07-08T10:19:20.026Z"
   },
   {
    "duration": 10,
    "start_time": "2021-07-08T10:19:20.050Z"
   },
   {
    "duration": 10,
    "start_time": "2021-07-08T10:19:20.062Z"
   },
   {
    "duration": 20,
    "start_time": "2021-07-08T10:19:20.073Z"
   },
   {
    "duration": 29,
    "start_time": "2021-07-08T10:19:20.095Z"
   },
   {
    "duration": 17,
    "start_time": "2021-07-08T10:19:20.126Z"
   },
   {
    "duration": 40,
    "start_time": "2021-07-08T10:19:20.146Z"
   },
   {
    "duration": 15,
    "start_time": "2021-07-08T10:19:20.189Z"
   },
   {
    "duration": 19,
    "start_time": "2021-07-08T10:19:20.206Z"
   },
   {
    "duration": 10,
    "start_time": "2021-07-08T10:19:20.226Z"
   },
   {
    "duration": 11,
    "start_time": "2021-07-08T10:19:20.238Z"
   },
   {
    "duration": 297,
    "start_time": "2021-07-08T10:19:20.250Z"
   },
   {
    "duration": 6,
    "start_time": "2021-07-08T10:19:20.549Z"
   },
   {
    "duration": 191,
    "start_time": "2021-07-08T10:19:20.557Z"
   },
   {
    "duration": 19,
    "start_time": "2021-07-08T10:19:20.750Z"
   },
   {
    "duration": 20,
    "start_time": "2021-07-08T10:19:20.771Z"
   },
   {
    "duration": 15,
    "start_time": "2021-07-08T10:19:20.793Z"
   },
   {
    "duration": 222,
    "start_time": "2021-07-08T10:19:20.809Z"
   },
   {
    "duration": 20,
    "start_time": "2021-07-08T10:19:21.033Z"
   },
   {
    "duration": 27,
    "start_time": "2021-07-08T10:45:04.055Z"
   },
   {
    "duration": 8,
    "start_time": "2021-07-08T10:45:08.478Z"
   },
   {
    "duration": 8,
    "start_time": "2021-07-08T10:45:31.982Z"
   },
   {
    "duration": 10,
    "start_time": "2021-07-08T10:46:01.221Z"
   },
   {
    "duration": 17,
    "start_time": "2021-07-08T10:46:40.011Z"
   },
   {
    "duration": 193,
    "start_time": "2021-07-08T10:48:19.471Z"
   },
   {
    "duration": 225,
    "start_time": "2021-07-08T10:49:26.480Z"
   },
   {
    "duration": 204,
    "start_time": "2021-07-08T10:49:59.992Z"
   },
   {
    "duration": 435,
    "start_time": "2021-07-08T10:50:06.779Z"
   },
   {
    "duration": 199,
    "start_time": "2021-07-08T10:50:14.891Z"
   },
   {
    "duration": 204,
    "start_time": "2021-07-08T10:50:18.501Z"
   },
   {
    "duration": 244,
    "start_time": "2021-07-08T10:50:23.359Z"
   },
   {
    "duration": 192,
    "start_time": "2021-07-08T10:50:29.135Z"
   },
   {
    "duration": 218,
    "start_time": "2021-07-08T10:50:33.092Z"
   },
   {
    "duration": 207,
    "start_time": "2021-07-08T10:52:45.381Z"
   },
   {
    "duration": 5,
    "start_time": "2021-07-08T10:53:34.641Z"
   },
   {
    "duration": 196,
    "start_time": "2021-07-08T10:53:41.478Z"
   },
   {
    "duration": 43,
    "start_time": "2021-07-08T10:53:50.335Z"
   },
   {
    "duration": 32,
    "start_time": "2021-07-08T10:53:55.294Z"
   },
   {
    "duration": 55,
    "start_time": "2021-07-08T10:54:09.675Z"
   },
   {
    "duration": 16,
    "start_time": "2021-07-08T10:54:12.260Z"
   },
   {
    "duration": 15,
    "start_time": "2021-07-08T10:54:49.150Z"
   },
   {
    "duration": 20,
    "start_time": "2021-07-08T10:56:07.596Z"
   },
   {
    "duration": 16,
    "start_time": "2021-07-08T10:58:26.276Z"
   },
   {
    "duration": 22,
    "start_time": "2021-07-08T10:59:00.486Z"
   },
   {
    "duration": 18,
    "start_time": "2021-07-08T11:02:09.653Z"
   },
   {
    "duration": 10,
    "start_time": "2021-07-08T11:03:44.331Z"
   },
   {
    "duration": 10,
    "start_time": "2021-07-08T11:03:54.055Z"
   },
   {
    "duration": 12,
    "start_time": "2021-07-08T11:04:41.967Z"
   },
   {
    "duration": 24,
    "start_time": "2021-07-08T11:07:30.732Z"
   },
   {
    "duration": 6,
    "start_time": "2021-07-08T11:07:37.364Z"
   },
   {
    "duration": 16,
    "start_time": "2021-07-08T11:08:01.819Z"
   },
   {
    "duration": 17,
    "start_time": "2021-07-08T11:09:47.488Z"
   },
   {
    "duration": 246,
    "start_time": "2021-07-08T11:10:00.830Z"
   },
   {
    "duration": 18,
    "start_time": "2021-07-08T11:13:55.195Z"
   },
   {
    "duration": 204,
    "start_time": "2021-07-08T11:14:04.951Z"
   },
   {
    "duration": 19,
    "start_time": "2021-07-08T11:15:10.613Z"
   },
   {
    "duration": 680,
    "start_time": "2021-07-08T11:16:25.793Z"
   },
   {
    "duration": 451,
    "start_time": "2021-07-08T11:16:40.313Z"
   },
   {
    "duration": 469,
    "start_time": "2021-07-08T11:17:21.286Z"
   },
   {
    "duration": 20,
    "start_time": "2021-07-08T11:19:12.554Z"
   },
   {
    "duration": 35,
    "start_time": "2021-07-08T11:20:05.484Z"
   },
   {
    "duration": 53,
    "start_time": "2021-07-08T11:21:40.050Z"
   },
   {
    "duration": 13,
    "start_time": "2021-07-08T11:22:26.059Z"
   },
   {
    "duration": 19,
    "start_time": "2021-07-08T11:22:47.419Z"
   },
   {
    "duration": 25,
    "start_time": "2021-07-08T11:23:19.958Z"
   },
   {
    "duration": 29,
    "start_time": "2021-07-08T11:23:25.415Z"
   },
   {
    "duration": 10,
    "start_time": "2021-07-08T11:24:45.138Z"
   },
   {
    "duration": 19,
    "start_time": "2021-07-08T11:24:54.498Z"
   },
   {
    "duration": 12,
    "start_time": "2021-07-08T11:25:32.225Z"
   },
   {
    "duration": 19,
    "start_time": "2021-07-08T11:25:37.092Z"
   },
   {
    "duration": 17,
    "start_time": "2021-07-08T11:25:58.116Z"
   },
   {
    "duration": 15,
    "start_time": "2021-07-08T11:26:02.258Z"
   },
   {
    "duration": 8,
    "start_time": "2021-07-08T11:26:59.682Z"
   },
   {
    "duration": 184,
    "start_time": "2021-07-08T11:27:21.894Z"
   },
   {
    "duration": 8,
    "start_time": "2021-07-08T11:27:23.824Z"
   },
   {
    "duration": 202,
    "start_time": "2021-07-08T11:27:23.962Z"
   },
   {
    "duration": 360,
    "start_time": "2021-07-08T11:28:33.215Z"
   },
   {
    "duration": 231,
    "start_time": "2021-07-08T11:32:05.542Z"
   },
   {
    "duration": 607,
    "start_time": "2021-07-08T11:36:27.854Z"
   },
   {
    "duration": 241,
    "start_time": "2021-07-08T11:36:28.463Z"
   },
   {
    "duration": 67,
    "start_time": "2021-07-08T11:36:28.709Z"
   },
   {
    "duration": 5,
    "start_time": "2021-07-08T11:36:28.778Z"
   },
   {
    "duration": 32,
    "start_time": "2021-07-08T11:36:28.784Z"
   },
   {
    "duration": 11,
    "start_time": "2021-07-08T11:36:28.819Z"
   },
   {
    "duration": 20,
    "start_time": "2021-07-08T11:36:28.834Z"
   },
   {
    "duration": 36,
    "start_time": "2021-07-08T11:36:28.857Z"
   },
   {
    "duration": 16,
    "start_time": "2021-07-08T11:36:28.895Z"
   },
   {
    "duration": 14,
    "start_time": "2021-07-08T11:36:28.913Z"
   },
   {
    "duration": 9,
    "start_time": "2021-07-08T11:36:28.930Z"
   },
   {
    "duration": 55,
    "start_time": "2021-07-08T11:36:28.941Z"
   },
   {
    "duration": 27,
    "start_time": "2021-07-08T11:36:28.999Z"
   },
   {
    "duration": 30,
    "start_time": "2021-07-08T11:36:29.028Z"
   },
   {
    "duration": 31,
    "start_time": "2021-07-08T11:36:29.060Z"
   },
   {
    "duration": 3,
    "start_time": "2021-07-08T11:36:29.093Z"
   },
   {
    "duration": 12,
    "start_time": "2021-07-08T11:36:29.099Z"
   },
   {
    "duration": 11,
    "start_time": "2021-07-08T11:36:29.112Z"
   },
   {
    "duration": 12,
    "start_time": "2021-07-08T11:36:29.125Z"
   },
   {
    "duration": 9,
    "start_time": "2021-07-08T11:36:29.139Z"
   },
   {
    "duration": 31,
    "start_time": "2021-07-08T11:36:29.191Z"
   },
   {
    "duration": 17,
    "start_time": "2021-07-08T11:36:29.226Z"
   },
   {
    "duration": 7,
    "start_time": "2021-07-08T11:36:29.245Z"
   },
   {
    "duration": 10,
    "start_time": "2021-07-08T11:36:29.254Z"
   },
   {
    "duration": 30,
    "start_time": "2021-07-08T11:36:29.292Z"
   },
   {
    "duration": 11,
    "start_time": "2021-07-08T11:36:29.324Z"
   },
   {
    "duration": 11,
    "start_time": "2021-07-08T11:36:29.337Z"
   },
   {
    "duration": 230,
    "start_time": "2021-07-08T11:36:29.349Z"
   },
   {
    "duration": 13,
    "start_time": "2021-07-08T11:36:29.588Z"
   },
   {
    "duration": 205,
    "start_time": "2021-07-08T11:36:29.603Z"
   },
   {
    "duration": 20,
    "start_time": "2021-07-08T11:36:29.810Z"
   },
   {
    "duration": 9,
    "start_time": "2021-07-08T11:36:29.832Z"
   },
   {
    "duration": 16,
    "start_time": "2021-07-08T11:36:29.843Z"
   },
   {
    "duration": 283,
    "start_time": "2021-07-08T11:36:29.861Z"
   },
   {
    "duration": 50,
    "start_time": "2021-07-08T11:36:30.146Z"
   },
   {
    "duration": 14,
    "start_time": "2021-07-08T11:36:30.198Z"
   },
   {
    "duration": 11,
    "start_time": "2021-07-08T11:36:30.214Z"
   },
   {
    "duration": 245,
    "start_time": "2021-07-08T11:36:30.227Z"
   },
   {
    "duration": 439,
    "start_time": "2021-07-08T11:36:30.474Z"
   },
   {
    "duration": 210,
    "start_time": "2021-07-08T11:36:30.915Z"
   },
   {
    "duration": 15,
    "start_time": "2021-07-08T11:36:31.127Z"
   },
   {
    "duration": 17,
    "start_time": "2021-07-08T11:38:20.451Z"
   },
   {
    "duration": 642,
    "start_time": "2021-07-08T11:46:17.881Z"
   },
   {
    "duration": 210,
    "start_time": "2021-07-08T11:46:18.525Z"
   },
   {
    "duration": 104,
    "start_time": "2021-07-08T11:46:18.741Z"
   },
   {
    "duration": 8,
    "start_time": "2021-07-08T11:46:18.847Z"
   },
   {
    "duration": 25,
    "start_time": "2021-07-08T11:46:18.857Z"
   },
   {
    "duration": 14,
    "start_time": "2021-07-08T11:46:18.884Z"
   },
   {
    "duration": 22,
    "start_time": "2021-07-08T11:46:18.900Z"
   },
   {
    "duration": 5,
    "start_time": "2021-07-08T11:46:18.924Z"
   },
   {
    "duration": 13,
    "start_time": "2021-07-08T11:46:18.931Z"
   },
   {
    "duration": 45,
    "start_time": "2021-07-08T11:46:18.946Z"
   },
   {
    "duration": 12,
    "start_time": "2021-07-08T11:46:18.993Z"
   },
   {
    "duration": 38,
    "start_time": "2021-07-08T11:46:19.006Z"
   },
   {
    "duration": 50,
    "start_time": "2021-07-08T11:46:19.046Z"
   },
   {
    "duration": 29,
    "start_time": "2021-07-08T11:46:19.099Z"
   },
   {
    "duration": 7,
    "start_time": "2021-07-08T11:46:19.130Z"
   },
   {
    "duration": 3,
    "start_time": "2021-07-08T11:46:19.139Z"
   },
   {
    "duration": 11,
    "start_time": "2021-07-08T11:46:19.144Z"
   },
   {
    "duration": 40,
    "start_time": "2021-07-08T11:46:19.157Z"
   },
   {
    "duration": 15,
    "start_time": "2021-07-08T11:46:19.199Z"
   },
   {
    "duration": 10,
    "start_time": "2021-07-08T11:46:19.217Z"
   },
   {
    "duration": 68,
    "start_time": "2021-07-08T11:46:19.230Z"
   },
   {
    "duration": 17,
    "start_time": "2021-07-08T11:46:19.301Z"
   },
   {
    "duration": 7,
    "start_time": "2021-07-08T11:46:19.321Z"
   },
   {
    "duration": 11,
    "start_time": "2021-07-08T11:46:19.330Z"
   },
   {
    "duration": 59,
    "start_time": "2021-07-08T11:46:19.343Z"
   },
   {
    "duration": 17,
    "start_time": "2021-07-08T11:46:19.405Z"
   },
   {
    "duration": 16,
    "start_time": "2021-07-08T11:46:19.424Z"
   },
   {
    "duration": 252,
    "start_time": "2021-07-08T11:46:19.443Z"
   },
   {
    "duration": 9,
    "start_time": "2021-07-08T11:46:19.697Z"
   },
   {
    "duration": 224,
    "start_time": "2021-07-08T11:46:19.708Z"
   },
   {
    "duration": 21,
    "start_time": "2021-07-08T11:46:19.934Z"
   },
   {
    "duration": 9,
    "start_time": "2021-07-08T11:46:19.956Z"
   },
   {
    "duration": 32,
    "start_time": "2021-07-08T11:46:19.967Z"
   },
   {
    "duration": 288,
    "start_time": "2021-07-08T11:46:20.004Z"
   },
   {
    "duration": 23,
    "start_time": "2021-07-08T11:46:20.300Z"
   },
   {
    "duration": 11,
    "start_time": "2021-07-08T11:46:20.325Z"
   },
   {
    "duration": 11,
    "start_time": "2021-07-08T11:46:20.339Z"
   },
   {
    "duration": 259,
    "start_time": "2021-07-08T11:46:20.352Z"
   },
   {
    "duration": 438,
    "start_time": "2021-07-08T11:46:20.613Z"
   },
   {
    "duration": 207,
    "start_time": "2021-07-08T11:46:21.054Z"
   },
   {
    "duration": 27,
    "start_time": "2021-07-08T11:46:21.262Z"
   },
   {
    "duration": 19,
    "start_time": "2021-07-08T11:46:21.291Z"
   },
   {
    "duration": 820,
    "start_time": "2021-07-08T11:49:01.655Z"
   },
   {
    "duration": 372,
    "start_time": "2021-07-08T11:49:02.478Z"
   },
   {
    "duration": 98,
    "start_time": "2021-07-08T11:49:02.853Z"
   },
   {
    "duration": 6,
    "start_time": "2021-07-08T11:49:02.953Z"
   },
   {
    "duration": 39,
    "start_time": "2021-07-08T11:49:02.960Z"
   },
   {
    "duration": 9,
    "start_time": "2021-07-08T11:49:03.003Z"
   },
   {
    "duration": 23,
    "start_time": "2021-07-08T11:49:03.014Z"
   },
   {
    "duration": 6,
    "start_time": "2021-07-08T11:49:03.041Z"
   },
   {
    "duration": 20,
    "start_time": "2021-07-08T11:49:03.049Z"
   },
   {
    "duration": 18,
    "start_time": "2021-07-08T11:49:03.084Z"
   },
   {
    "duration": 14,
    "start_time": "2021-07-08T11:49:03.104Z"
   },
   {
    "duration": 39,
    "start_time": "2021-07-08T11:49:03.119Z"
   },
   {
    "duration": 38,
    "start_time": "2021-07-08T11:49:03.160Z"
   },
   {
    "duration": 26,
    "start_time": "2021-07-08T11:49:03.200Z"
   },
   {
    "duration": 7,
    "start_time": "2021-07-08T11:49:03.227Z"
   },
   {
    "duration": 4,
    "start_time": "2021-07-08T11:49:03.236Z"
   },
   {
    "duration": 15,
    "start_time": "2021-07-08T11:49:03.243Z"
   },
   {
    "duration": 21,
    "start_time": "2021-07-08T11:49:03.285Z"
   },
   {
    "duration": 17,
    "start_time": "2021-07-08T11:49:03.309Z"
   },
   {
    "duration": 10,
    "start_time": "2021-07-08T11:49:03.328Z"
   },
   {
    "duration": 65,
    "start_time": "2021-07-08T11:49:03.340Z"
   },
   {
    "duration": 18,
    "start_time": "2021-07-08T11:49:03.407Z"
   },
   {
    "duration": 8,
    "start_time": "2021-07-08T11:49:03.428Z"
   },
   {
    "duration": 15,
    "start_time": "2021-07-08T11:49:03.438Z"
   },
   {
    "duration": 40,
    "start_time": "2021-07-08T11:49:03.455Z"
   },
   {
    "duration": 12,
    "start_time": "2021-07-08T11:49:03.497Z"
   },
   {
    "duration": 29,
    "start_time": "2021-07-08T11:49:03.511Z"
   },
   {
    "duration": 285,
    "start_time": "2021-07-08T11:49:03.542Z"
   },
   {
    "duration": 8,
    "start_time": "2021-07-08T11:49:03.829Z"
   },
   {
    "duration": 227,
    "start_time": "2021-07-08T11:49:03.838Z"
   },
   {
    "duration": 40,
    "start_time": "2021-07-08T11:49:04.066Z"
   },
   {
    "duration": 10,
    "start_time": "2021-07-08T11:49:04.108Z"
   },
   {
    "duration": 26,
    "start_time": "2021-07-08T11:49:04.121Z"
   },
   {
    "duration": 290,
    "start_time": "2021-07-08T11:49:04.149Z"
   },
   {
    "duration": 26,
    "start_time": "2021-07-08T11:49:04.441Z"
   },
   {
    "duration": 31,
    "start_time": "2021-07-08T11:49:04.470Z"
   },
   {
    "duration": 14,
    "start_time": "2021-07-08T11:49:04.503Z"
   },
   {
    "duration": 259,
    "start_time": "2021-07-08T11:49:04.521Z"
   },
   {
    "duration": 480,
    "start_time": "2021-07-08T11:49:04.782Z"
   },
   {
    "duration": 225,
    "start_time": "2021-07-08T11:49:05.264Z"
   },
   {
    "duration": 22,
    "start_time": "2021-07-08T11:49:05.491Z"
   },
   {
    "duration": 24,
    "start_time": "2021-07-08T11:49:05.515Z"
   },
   {
    "duration": 634,
    "start_time": "2021-07-08T11:52:24.960Z"
   },
   {
    "duration": 199,
    "start_time": "2021-07-08T11:52:25.599Z"
   },
   {
    "duration": 106,
    "start_time": "2021-07-08T11:52:25.803Z"
   },
   {
    "duration": 7,
    "start_time": "2021-07-08T11:52:25.911Z"
   },
   {
    "duration": 29,
    "start_time": "2021-07-08T11:52:25.920Z"
   },
   {
    "duration": 7,
    "start_time": "2021-07-08T11:52:25.951Z"
   },
   {
    "duration": 26,
    "start_time": "2021-07-08T11:52:25.961Z"
   },
   {
    "duration": 11,
    "start_time": "2021-07-08T11:52:25.990Z"
   },
   {
    "duration": 29,
    "start_time": "2021-07-08T11:52:26.005Z"
   },
   {
    "duration": 9,
    "start_time": "2021-07-08T11:52:26.036Z"
   },
   {
    "duration": 8,
    "start_time": "2021-07-08T11:52:26.047Z"
   },
   {
    "duration": 63,
    "start_time": "2021-07-08T11:52:26.057Z"
   },
   {
    "duration": 17,
    "start_time": "2021-07-08T11:52:26.122Z"
   },
   {
    "duration": 43,
    "start_time": "2021-07-08T11:52:26.142Z"
   },
   {
    "duration": 17,
    "start_time": "2021-07-08T11:52:26.187Z"
   },
   {
    "duration": 5,
    "start_time": "2021-07-08T11:52:26.206Z"
   },
   {
    "duration": 12,
    "start_time": "2021-07-08T11:52:26.212Z"
   },
   {
    "duration": 11,
    "start_time": "2021-07-08T11:52:26.226Z"
   },
   {
    "duration": 12,
    "start_time": "2021-07-08T11:52:26.238Z"
   },
   {
    "duration": 38,
    "start_time": "2021-07-08T11:52:26.252Z"
   },
   {
    "duration": 40,
    "start_time": "2021-07-08T11:52:26.292Z"
   },
   {
    "duration": 17,
    "start_time": "2021-07-08T11:52:26.336Z"
   },
   {
    "duration": 39,
    "start_time": "2021-07-08T11:52:26.355Z"
   },
   {
    "duration": 11,
    "start_time": "2021-07-08T11:52:26.395Z"
   },
   {
    "duration": 23,
    "start_time": "2021-07-08T11:52:26.408Z"
   },
   {
    "duration": 12,
    "start_time": "2021-07-08T11:52:26.432Z"
   },
   {
    "duration": 41,
    "start_time": "2021-07-08T11:52:26.446Z"
   },
   {
    "duration": 215,
    "start_time": "2021-07-08T11:52:26.493Z"
   },
   {
    "duration": 8,
    "start_time": "2021-07-08T11:52:26.710Z"
   },
   {
    "duration": 228,
    "start_time": "2021-07-08T11:52:26.720Z"
   },
   {
    "duration": 18,
    "start_time": "2021-07-08T11:52:26.950Z"
   },
   {
    "duration": 35,
    "start_time": "2021-07-08T11:52:26.969Z"
   },
   {
    "duration": 23,
    "start_time": "2021-07-08T11:52:27.006Z"
   },
   {
    "duration": 258,
    "start_time": "2021-07-08T11:52:27.030Z"
   },
   {
    "duration": 24,
    "start_time": "2021-07-08T11:52:27.290Z"
   },
   {
    "duration": 12,
    "start_time": "2021-07-08T11:52:27.316Z"
   },
   {
    "duration": 10,
    "start_time": "2021-07-08T11:52:27.329Z"
   },
   {
    "duration": 298,
    "start_time": "2021-07-08T11:52:27.341Z"
   },
   {
    "duration": 436,
    "start_time": "2021-07-08T11:52:27.641Z"
   },
   {
    "duration": 216,
    "start_time": "2021-07-08T11:52:28.079Z"
   },
   {
    "duration": 20,
    "start_time": "2021-07-08T11:52:28.297Z"
   },
   {
    "duration": 17,
    "start_time": "2021-07-08T11:52:28.319Z"
   }
  ],
  "colab": {
   "name": "DA+. Сборный проект 1. Шаблон (1).ipynb",
   "provenance": []
  },
  "kernelspec": {
   "display_name": "Python 3 (ipykernel)",
   "language": "python",
   "name": "python3"
  },
  "language_info": {
   "codemirror_mode": {
    "name": "ipython",
    "version": 3
   },
   "file_extension": ".py",
   "mimetype": "text/x-python",
   "name": "python",
   "nbconvert_exporter": "python",
   "pygments_lexer": "ipython3",
   "version": "3.8.8"
  },
  "toc": {
   "base_numbering": 1,
   "nav_menu": {},
   "number_sections": true,
   "sideBar": true,
   "skip_h1_title": true,
   "title_cell": "Table of Contents",
   "title_sidebar": "Contents",
   "toc_cell": false,
   "toc_position": {
    "height": "calc(100% - 180px)",
    "left": "10px",
    "top": "150px",
    "width": "375.391px"
   },
   "toc_section_display": true,
   "toc_window_display": false
  }
 },
 "nbformat": 4,
 "nbformat_minor": 1
}
