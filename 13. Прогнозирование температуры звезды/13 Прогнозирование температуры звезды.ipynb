{
 "cells": [
  {
   "cell_type": "markdown",
   "id": "corresponding-armstrong",
   "metadata": {
    "ExecuteTime": {
     "end_time": "2022-05-05T04:58:05.692448Z",
     "start_time": "2022-05-05T04:58:05.688565Z"
    }
   },
   "source": [
    "## Шаг 1. Загрузка исходных данных из файла"
   ]
  },
  {
   "cell_type": "code",
   "execution_count": 211,
   "id": "spectacular-folder",
   "metadata": {},
   "outputs": [],
   "source": [
    "# Импортируем библиотеки\n",
    "\n",
    "import pandas as pd\n",
    "import numpy as np\n",
    "import matplotlib.pyplot as plt\n",
    "# from statsmodels.tsa.seasonal import seasonal_decomposea\n",
    "from sklearn.model_selection import train_test_split\n",
    "from sklearn.linear_model import LinearRegression\n",
    "from sklearn.metrics import mean_absolute_error\n",
    "from sklearn.metrics import mean_squared_error\n",
    "import matplotlib.pyplot as plt\n",
    "import seaborn as sns\n",
    "import torch.nn as nn\n",
    "import pandas as pd\n",
    "import numpy as np\n",
    "# import optuna\n",
    "import torch\n",
    "\n",
    "# from sklearn.model_selection import train_test_split\n",
    "# from sklearn.preprocessing import StandardScaler, OrdinalEncoder\n",
    "from sklearn.metrics import mean_squared_error\n",
    "from torchmetrics import MeanSquaredError\n",
    "# from catboost import CatBoostRegressor\n",
    "# from math import ceil\n",
    "\n",
    "import torch\n",
    "import torch.nn as nn\n",
    "import torchvision\n",
    "import torchvision.transforms as transforms\n",
    "from math import ceil\n",
    "import random\n",
    "import numpy as np\n",
    "import pandas as pd\n",
    "import torch\n",
    "import torch.nn as nn\n",
    "\n",
    "from sklearn.model_selection import train_test_split"
   ]
  },
  {
   "cell_type": "code",
   "execution_count": 178,
   "id": "d18d6f4e-dc68-4e61-9c33-29d1f7f260f6",
   "metadata": {},
   "outputs": [],
   "source": [
    "# Читаем файл csv\n",
    "\n",
    "data = pd.read_csv(\n",
    "    '/Users/danil/Desktop/Courses/Яндекс Практикум Data Science/13/[SW.BAND] [Яндекс.Практикум] Специалист по Data Science Плюс. Часть 13 - 16 (2022)/[SW.BAND] Модели и алгоритмы в машинном обучении/[SW.BAND] 07 Самостоятельный проект/6_class.csv',\n",
    ")"
   ]
  },
  {
   "cell_type": "markdown",
   "id": "03bd682d-5564-4892-aae3-5b70569cd4ad",
   "metadata": {},
   "source": [
    "## Шаг 2. Исследовательский анализ"
   ]
  },
  {
   "cell_type": "code",
   "execution_count": 179,
   "id": "9f431d33-88b9-412d-abd0-5e4915bb96fc",
   "metadata": {},
   "outputs": [
    {
     "name": "stdout",
     "output_type": "stream",
     "text": [
      "\n",
      "\u001b[1mДанные в таблице\u001b[0m\n"
     ]
    },
    {
     "data": {
      "text/html": [
       "<div>\n",
       "<style scoped>\n",
       "    .dataframe tbody tr th:only-of-type {\n",
       "        vertical-align: middle;\n",
       "    }\n",
       "\n",
       "    .dataframe tbody tr th {\n",
       "        vertical-align: top;\n",
       "    }\n",
       "\n",
       "    .dataframe thead th {\n",
       "        text-align: right;\n",
       "    }\n",
       "</style>\n",
       "<table border=\"1\" class=\"dataframe\">\n",
       "  <thead>\n",
       "    <tr style=\"text-align: right;\">\n",
       "      <th></th>\n",
       "      <th>Unnamed: 0.1</th>\n",
       "      <th>Unnamed: 0</th>\n",
       "      <th>Temperature (K)</th>\n",
       "      <th>Luminosity(L/Lo)</th>\n",
       "      <th>Radius(R/Ro)</th>\n",
       "      <th>Absolute magnitude(Mv)</th>\n",
       "      <th>Star type</th>\n",
       "      <th>Star color</th>\n",
       "    </tr>\n",
       "  </thead>\n",
       "  <tbody>\n",
       "    <tr>\n",
       "      <th>0</th>\n",
       "      <td>0</td>\n",
       "      <td>0</td>\n",
       "      <td>3068</td>\n",
       "      <td>0.002400</td>\n",
       "      <td>0.1700</td>\n",
       "      <td>16.12</td>\n",
       "      <td>0</td>\n",
       "      <td>Red</td>\n",
       "    </tr>\n",
       "    <tr>\n",
       "      <th>1</th>\n",
       "      <td>1</td>\n",
       "      <td>1</td>\n",
       "      <td>3042</td>\n",
       "      <td>0.000500</td>\n",
       "      <td>0.1542</td>\n",
       "      <td>16.60</td>\n",
       "      <td>0</td>\n",
       "      <td>Red</td>\n",
       "    </tr>\n",
       "    <tr>\n",
       "      <th>2</th>\n",
       "      <td>2</td>\n",
       "      <td>2</td>\n",
       "      <td>2600</td>\n",
       "      <td>0.000300</td>\n",
       "      <td>0.1020</td>\n",
       "      <td>18.70</td>\n",
       "      <td>0</td>\n",
       "      <td>Red</td>\n",
       "    </tr>\n",
       "    <tr>\n",
       "      <th>3</th>\n",
       "      <td>3</td>\n",
       "      <td>3</td>\n",
       "      <td>2800</td>\n",
       "      <td>0.000200</td>\n",
       "      <td>0.1600</td>\n",
       "      <td>16.65</td>\n",
       "      <td>0</td>\n",
       "      <td>Red</td>\n",
       "    </tr>\n",
       "    <tr>\n",
       "      <th>4</th>\n",
       "      <td>4</td>\n",
       "      <td>4</td>\n",
       "      <td>1939</td>\n",
       "      <td>0.000138</td>\n",
       "      <td>0.1030</td>\n",
       "      <td>20.06</td>\n",
       "      <td>0</td>\n",
       "      <td>Red</td>\n",
       "    </tr>\n",
       "  </tbody>\n",
       "</table>\n",
       "</div>"
      ],
      "text/plain": [
       "   Unnamed: 0.1  Unnamed: 0  Temperature (K)  Luminosity(L/Lo)  Radius(R/Ro)  \\\n",
       "0             0           0             3068          0.002400        0.1700   \n",
       "1             1           1             3042          0.000500        0.1542   \n",
       "2             2           2             2600          0.000300        0.1020   \n",
       "3             3           3             2800          0.000200        0.1600   \n",
       "4             4           4             1939          0.000138        0.1030   \n",
       "\n",
       "   Absolute magnitude(Mv)  Star type Star color  \n",
       "0                   16.12          0        Red  \n",
       "1                   16.60          0        Red  \n",
       "2                   18.70          0        Red  \n",
       "3                   16.65          0        Red  \n",
       "4                   20.06          0        Red  "
      ]
     },
     "metadata": {},
     "output_type": "display_data"
    },
    {
     "name": "stdout",
     "output_type": "stream",
     "text": [
      "\n",
      "\n",
      "\u001b[1mРазброс данных\u001b[0m\n",
      "\n"
     ]
    },
    {
     "data": {
      "text/html": [
       "<div>\n",
       "<style scoped>\n",
       "    .dataframe tbody tr th:only-of-type {\n",
       "        vertical-align: middle;\n",
       "    }\n",
       "\n",
       "    .dataframe tbody tr th {\n",
       "        vertical-align: top;\n",
       "    }\n",
       "\n",
       "    .dataframe thead th {\n",
       "        text-align: right;\n",
       "    }\n",
       "</style>\n",
       "<table border=\"1\" class=\"dataframe\">\n",
       "  <thead>\n",
       "    <tr style=\"text-align: right;\">\n",
       "      <th></th>\n",
       "      <th>Unnamed: 0.1</th>\n",
       "      <th>Unnamed: 0</th>\n",
       "      <th>Temperature (K)</th>\n",
       "      <th>Luminosity(L/Lo)</th>\n",
       "      <th>Radius(R/Ro)</th>\n",
       "      <th>Absolute magnitude(Mv)</th>\n",
       "      <th>Star type</th>\n",
       "    </tr>\n",
       "  </thead>\n",
       "  <tbody>\n",
       "    <tr>\n",
       "      <th>count</th>\n",
       "      <td>240.00000</td>\n",
       "      <td>240.00000</td>\n",
       "      <td>240.000000</td>\n",
       "      <td>240.000000</td>\n",
       "      <td>240.000000</td>\n",
       "      <td>240.000000</td>\n",
       "      <td>240.000000</td>\n",
       "    </tr>\n",
       "    <tr>\n",
       "      <th>mean</th>\n",
       "      <td>119.50000</td>\n",
       "      <td>119.50000</td>\n",
       "      <td>10497.462500</td>\n",
       "      <td>107188.361635</td>\n",
       "      <td>237.157781</td>\n",
       "      <td>4.382396</td>\n",
       "      <td>2.500000</td>\n",
       "    </tr>\n",
       "    <tr>\n",
       "      <th>std</th>\n",
       "      <td>69.42622</td>\n",
       "      <td>69.42622</td>\n",
       "      <td>9552.425037</td>\n",
       "      <td>179432.244940</td>\n",
       "      <td>517.155763</td>\n",
       "      <td>10.532512</td>\n",
       "      <td>1.711394</td>\n",
       "    </tr>\n",
       "    <tr>\n",
       "      <th>min</th>\n",
       "      <td>0.00000</td>\n",
       "      <td>0.00000</td>\n",
       "      <td>1939.000000</td>\n",
       "      <td>0.000080</td>\n",
       "      <td>0.008400</td>\n",
       "      <td>-11.920000</td>\n",
       "      <td>0.000000</td>\n",
       "    </tr>\n",
       "    <tr>\n",
       "      <th>25%</th>\n",
       "      <td>59.75000</td>\n",
       "      <td>59.75000</td>\n",
       "      <td>3344.250000</td>\n",
       "      <td>0.000865</td>\n",
       "      <td>0.102750</td>\n",
       "      <td>-6.232500</td>\n",
       "      <td>1.000000</td>\n",
       "    </tr>\n",
       "    <tr>\n",
       "      <th>50%</th>\n",
       "      <td>119.50000</td>\n",
       "      <td>119.50000</td>\n",
       "      <td>5776.000000</td>\n",
       "      <td>0.070500</td>\n",
       "      <td>0.762500</td>\n",
       "      <td>8.313000</td>\n",
       "      <td>2.500000</td>\n",
       "    </tr>\n",
       "    <tr>\n",
       "      <th>75%</th>\n",
       "      <td>179.25000</td>\n",
       "      <td>179.25000</td>\n",
       "      <td>15055.500000</td>\n",
       "      <td>198050.000000</td>\n",
       "      <td>42.750000</td>\n",
       "      <td>13.697500</td>\n",
       "      <td>4.000000</td>\n",
       "    </tr>\n",
       "    <tr>\n",
       "      <th>max</th>\n",
       "      <td>239.00000</td>\n",
       "      <td>239.00000</td>\n",
       "      <td>40000.000000</td>\n",
       "      <td>849420.000000</td>\n",
       "      <td>1948.500000</td>\n",
       "      <td>20.060000</td>\n",
       "      <td>5.000000</td>\n",
       "    </tr>\n",
       "  </tbody>\n",
       "</table>\n",
       "</div>"
      ],
      "text/plain": [
       "       Unnamed: 0.1  Unnamed: 0  Temperature (K)  Luminosity(L/Lo)  \\\n",
       "count     240.00000   240.00000       240.000000        240.000000   \n",
       "mean      119.50000   119.50000     10497.462500     107188.361635   \n",
       "std        69.42622    69.42622      9552.425037     179432.244940   \n",
       "min         0.00000     0.00000      1939.000000          0.000080   \n",
       "25%        59.75000    59.75000      3344.250000          0.000865   \n",
       "50%       119.50000   119.50000      5776.000000          0.070500   \n",
       "75%       179.25000   179.25000     15055.500000     198050.000000   \n",
       "max       239.00000   239.00000     40000.000000     849420.000000   \n",
       "\n",
       "       Radius(R/Ro)  Absolute magnitude(Mv)   Star type  \n",
       "count    240.000000              240.000000  240.000000  \n",
       "mean     237.157781                4.382396    2.500000  \n",
       "std      517.155763               10.532512    1.711394  \n",
       "min        0.008400              -11.920000    0.000000  \n",
       "25%        0.102750               -6.232500    1.000000  \n",
       "50%        0.762500                8.313000    2.500000  \n",
       "75%       42.750000               13.697500    4.000000  \n",
       "max     1948.500000               20.060000    5.000000  "
      ]
     },
     "metadata": {},
     "output_type": "display_data"
    },
    {
     "name": "stdout",
     "output_type": "stream",
     "text": [
      "\n",
      "\n",
      "\u001b[1mИнформация о таблице\u001b[0m\n",
      "\n",
      "<class 'pandas.core.frame.DataFrame'>\n",
      "RangeIndex: 240 entries, 0 to 239\n",
      "Data columns (total 8 columns):\n",
      " #   Column                  Non-Null Count  Dtype  \n",
      "---  ------                  --------------  -----  \n",
      " 0   Unnamed: 0.1            240 non-null    int64  \n",
      " 1   Unnamed: 0              240 non-null    int64  \n",
      " 2   Temperature (K)         240 non-null    int64  \n",
      " 3   Luminosity(L/Lo)        240 non-null    float64\n",
      " 4   Radius(R/Ro)            240 non-null    float64\n",
      " 5   Absolute magnitude(Mv)  240 non-null    float64\n",
      " 6   Star type               240 non-null    int64  \n",
      " 7   Star color              240 non-null    object \n",
      "dtypes: float64(3), int64(4), object(1)\n",
      "memory usage: 15.1+ KB\n"
     ]
    },
    {
     "data": {
      "text/plain": [
       "None"
      ]
     },
     "metadata": {},
     "output_type": "display_data"
    },
    {
     "name": "stdout",
     "output_type": "stream",
     "text": [
      "\n",
      "\n",
      "\u001b[1mКолличество пропусков\u001b[0m\n",
      "\n"
     ]
    },
    {
     "data": {
      "text/plain": [
       "Unnamed: 0.1              0\n",
       "Unnamed: 0                0\n",
       "Temperature (K)           0\n",
       "Luminosity(L/Lo)          0\n",
       "Radius(R/Ro)              0\n",
       "Absolute magnitude(Mv)    0\n",
       "Star type                 0\n",
       "Star color                0\n",
       "dtype: int64"
      ]
     },
     "metadata": {},
     "output_type": "display_data"
    },
    {
     "name": "stdout",
     "output_type": "stream",
     "text": [
      "\n",
      "\n",
      "\u001b[1mКолличество дубликатов:\u001b[0m 0 \n",
      "\n",
      "\n",
      "\n",
      "\u001b[1mКолличество уникальных значений\u001b[0m\n",
      "\n"
     ]
    },
    {
     "data": {
      "text/plain": [
       "Unnamed: 0.1              240\n",
       "Unnamed: 0                240\n",
       "Temperature (K)           228\n",
       "Luminosity(L/Lo)          208\n",
       "Radius(R/Ro)              216\n",
       "Absolute magnitude(Mv)    228\n",
       "Star type                   6\n",
       "Star color                 19\n",
       "dtype: int64"
      ]
     },
     "metadata": {},
     "output_type": "display_data"
    }
   ],
   "source": [
    "# Изучим данные\n",
    "\n",
    "print('\\n' + '\\033[1m' + 'Данные в таблице' + '\\033[0m')\n",
    "display(data.head())\n",
    "\n",
    "print('\\n' + '\\n' + '\\033[1m' + 'Разброс данных' + '\\033[0m' + '\\n')\n",
    "display(data.describe())\n",
    "\n",
    "print('\\n' + '\\n' + '\\033[1m' + 'Информация о таблице' + '\\033[0m' + '\\n')\n",
    "display(data.info())\n",
    "\n",
    "print('\\n' + '\\n' + '\\033[1m' + 'Колличество пропусков' + '\\033[0m' + '\\n')\n",
    "display(data.isna().sum())\n",
    "\n",
    "print(\n",
    "    '\\n' + \n",
    "    '\\n' +\n",
    "    '\\033[1m' + 'Колличество дубликатов:' + '\\033[0m', data.duplicated().sum(), \n",
    "    '\\n'\n",
    ")\n",
    "\n",
    "print('\\n' + '\\n' + '\\033[1m' + 'Колличество уникальных значений' + '\\033[0m' + '\\n')\n",
    "display(data.nunique())"
   ]
  },
  {
   "cell_type": "code",
   "execution_count": 185,
   "id": "e5edc99c-30c8-4984-9d6a-8687c2105f8f",
   "metadata": {},
   "outputs": [],
   "source": [
    "# Удалим первые 2 колонки, так как они дублируют индекс\n",
    "\n",
    "data.drop(['Unnamed: 0.1', 'Unnamed: 0'], axis=1, inplace=True) "
   ]
  },
  {
   "cell_type": "code",
   "execution_count": 249,
   "id": "543c953a-d328-440b-b89e-230a48ac9bde",
   "metadata": {},
   "outputs": [],
   "source": [
    "# Поменяем название колонок, чтобы было проще их вызывать\n",
    "\n",
    "data.columns = ['temperature', 'luminosity', 'radius', 'absolute_magnitude', 'star_type', 'star_color']"
   ]
  },
  {
   "cell_type": "code",
   "execution_count": 250,
   "id": "dfb1a2a8-424d-4217-9dc6-5bcaff35b278",
   "metadata": {},
   "outputs": [
    {
     "data": {
      "text/plain": [
       "star_type\n",
       "0    40\n",
       "1    40\n",
       "2    40\n",
       "3    40\n",
       "4    40\n",
       "5    40\n",
       "Name: count, dtype: int64"
      ]
     },
     "execution_count": 250,
     "metadata": {},
     "output_type": "execute_result"
    }
   ],
   "source": [
    "# Посмотрим как распределены типы звезд\n",
    "\n",
    "data['star_type'].value_counts()"
   ]
  },
  {
   "cell_type": "code",
   "execution_count": 251,
   "id": "0ebf7e4c-e979-4747-a9e7-cca047539cb3",
   "metadata": {},
   "outputs": [
    {
     "data": {
      "text/plain": [
       "star_color\n",
       "red                   112\n",
       "blue                   56\n",
       "blue white             41\n",
       "white                  12\n",
       "yellow-white           12\n",
       "yellow                  3\n",
       "orange                  2\n",
       "pale yellow orange      1\n",
       "orange-red              1\n",
       "Name: count, dtype: int64"
      ]
     },
     "execution_count": 251,
     "metadata": {},
     "output_type": "execute_result"
    }
   ],
   "source": [
    "# Посмотрим как распределены цвета звезд\n",
    "\n",
    "data['star_color'].value_counts()"
   ]
  },
  {
   "cell_type": "code",
   "execution_count": 252,
   "id": "7355a2be-e4f2-4b44-935a-b30d6f637fe5",
   "metadata": {},
   "outputs": [],
   "source": [
    "# Приведем все название цветов к нижнему регистру\n",
    "# и удалим пробелы спереди\n",
    "\n",
    "data['star_color'] = data['star_color'].str.lower()\n",
    "data['star_color'] = data['star_color'].str.strip()"
   ]
  },
  {
   "cell_type": "code",
   "execution_count": 254,
   "id": "3fc26d68-92cb-42a4-80d1-eea2d973078b",
   "metadata": {},
   "outputs": [],
   "source": [
    "# Уберем синонимы\n",
    "\n",
    "data['star_color'] = data['star_color'].replace('blue-white', 'blue white')\n",
    "data['star_color'] = data['star_color'].replace('white-yellow', 'yellow-white')\n",
    "data['star_color'] = data['star_color'].replace('yellowish white', 'yellow-white')\n",
    "data['star_color'] = data['star_color'].replace('yellowish', 'yellow')\n",
    "data['star_color'] = data['star_color'].replace('whitish', 'white')"
   ]
  },
  {
   "cell_type": "markdown",
   "id": "41c3e43b-6fc8-4a0a-a7e8-e153381c86aa",
   "metadata": {},
   "source": [
    "Изучим признаки"
   ]
  },
  {
   "cell_type": "code",
   "execution_count": 255,
   "id": "5add0929-474c-4e3e-abd2-08946ae1125d",
   "metadata": {},
   "outputs": [
    {
     "name": "stdout",
     "output_type": "stream",
     "text": [
      "\u001b[1mtemperature\u001b[1m\n"
     ]
    },
    {
     "data": {
      "image/png": "[encoded data removed]",
      "text/plain": [
       "<Figure size 640x480 with 1 Axes>"
      ]
     },
     "metadata": {},
     "output_type": "display_data"
    },
    {
     "data": {
      "image/png": "[encoded data removed]",
      "text/plain": [
       "<Figure size 640x480 with 1 Axes>"
      ]
     },
     "metadata": {},
     "output_type": "display_data"
    },
    {
     "name": "stdout",
     "output_type": "stream",
     "text": [
      "\n",
      "\u001b[1mluminosity\u001b[1m\n"
     ]
    },
    {
     "data": {
      "image/png": "[encoded data removed]",
      "text/plain": [
       "<Figure size 640x480 with 1 Axes>"
      ]
     },
     "metadata": {},
     "output_type": "display_data"
    },
    {
     "data": {
      "image/png": "[encoded data removed]",
      "text/plain": [
       "<Figure size 640x480 with 1 Axes>"
      ]
     },
     "metadata": {},
     "output_type": "display_data"
    },
    {
     "name": "stdout",
     "output_type": "stream",
     "text": [
      "\n",
      "\u001b[1mradius\u001b[1m\n"
     ]
    },
    {
     "data": {
      "image/png": "[encoded data removed]",
      "text/plain": [
       "<Figure size 640x480 with 1 Axes>"
      ]
     },
     "metadata": {},
     "output_type": "display_data"
    },
    {
     "data": {
      "image/png": "[encoded data removed]",
      "text/plain": [
       "<Figure size 640x480 with 1 Axes>"
      ]
     },
     "metadata": {},
     "output_type": "display_data"
    },
    {
     "name": "stdout",
     "output_type": "stream",
     "text": [
      "\n",
      "\u001b[1mabsolute_magnitude\u001b[1m\n"
     ]
    },
    {
     "data": {
      "image/png": "[encoded data removed]",
      "text/plain": [
       "<Figure size 640x480 with 1 Axes>"
      ]
     },
     "metadata": {},
     "output_type": "display_data"
    },
    {
     "data": {
      "image/png": "[encoded data removed]",
      "text/plain": [
       "<Figure size 640x480 with 1 Axes>"
      ]
     },
     "metadata": {},
     "output_type": "display_data"
    },
    {
     "name": "stdout",
     "output_type": "stream",
     "text": [
      "\n"
     ]
    }
   ],
   "source": [
    "# Построим граффики количественных данных\n",
    "\n",
    "column_names = ['temperature', 'luminosity', 'radius', 'absolute_magnitude']\n",
    "\n",
    "for i in column_names:\n",
    "\n",
    "    print('\\033[1m' + i + '\\033[1m')\n",
    "    sns.histplot(data=data, y=i)\n",
    "    plt.show()\n",
    "    sns.boxplot(x=data[i])\n",
    "    plt.show()\n",
    "    print()"
   ]
  },
  {
   "cell_type": "code",
   "execution_count": 256,
   "id": "5f9465dc-249c-4365-a2ef-8535f5a02a75",
   "metadata": {},
   "outputs": [
    {
     "data": {
      "text/plain": [
       "<Axes: title={'center': 'Star type'}, xlabel='Сlasses', ylabel='Count'>"
      ]
     },
     "execution_count": 256,
     "metadata": {},
     "output_type": "execute_result"
    },
    {
     "data": {
      "image/png": "[encoded data removed]",
      "text/plain": [
       "<Figure size 1000x500 with 1 Axes>"
      ]
     },
     "metadata": {},
     "output_type": "display_data"
    }
   ],
   "source": [
    "# Построим граффик категориальных данных – тип звезды\n",
    "\n",
    "data['star_type'].value_counts().plot(kind='bar', title='Star type', xlabel='Сlasses', \n",
    "                                     ylabel='Count', rot=1, color='orange', alpha =0.9, figsize=(10,5))"
   ]
  },
  {
   "cell_type": "code",
   "execution_count": 247,
   "id": "116717b5-6aa2-4177-9056-d87f2ebf1e0c",
   "metadata": {},
   "outputs": [
    {
     "data": {
      "text/plain": [
       "<Axes: title={'center': 'Star color'}, xlabel='colors', ylabel='Count'>"
      ]
     },
     "execution_count": 247,
     "metadata": {},
     "output_type": "execute_result"
    },
    {
     "data": {
      "image/png": "[encoded data removed]",
      "text/plain": [
       "<Figure size 1500x800 with 1 Axes>"
      ]
     },
     "metadata": {},
     "output_type": "display_data"
    }
   ],
   "source": [
    "# Построим граффик категориальных данных – цвет звезды (топ 10)\n",
    "\n",
    "data['star_color'].value_counts().plot(kind='bar', title='star_color', xlabel='colors', \n",
    "                                     ylabel='Count', rot=1, color='orange', alpha =0.9, figsize=(15,8))    "
   ]
  },
  {
   "cell_type": "markdown",
   "id": "b53f0fe0-054b-4f70-a4a5-87e006a4f09c",
   "metadata": {},
   "source": [
    "### Вывод исследовательского анализа\n",
    "\n",
    "1. Большинство планет имеет температуру ниже 5000 градусов.\n",
    "2. Светимость звезд относительно Солнца у подавляющего колличества планет ниже 50000 люменов, и 75% планет имеют светимость ниже 200000 люменов.\n",
    "3. Больше половины звезд имею радиус меньше чем у Солнца.\n",
    "4. Абсолютная звёздная величина характеризующая блеск звезды имеет более равномерное распределение показателей среди планет. Лидером стал показатель -5.\n",
    "5. Все звезды разбиты на 5 категорий ровно по 40 штук.\n",
    "6. Подавляющее колличество планет – красного цвета."
   ]
  },
  {
   "cell_type": "markdown",
   "id": "simple-subdivision",
   "metadata": {},
   "source": [
    "## Шаг 3. Подготовка данных к построению модели"
   ]
  },
  {
   "cell_type": "code",
   "execution_count": 467,
   "id": "c83c9499-2256-468e-bbfb-4a2d5130e741",
   "metadata": {},
   "outputs": [],
   "source": [
    "random.seed(0)\n",
    "np.random.seed(0)\n",
    "torch.manual_seed(0)\n",
    "torch.use_deterministic_algorithms(True)"
   ]
  },
  {
   "cell_type": "markdown",
   "id": "892ade4b-f3ab-4b45-926f-4d4d8ec681b9",
   "metadata": {},
   "source": [
    "Если не собрать малочисленные цвета в одну группу, получится слишком много категориальных признаков"
   ]
  },
  {
   "cell_type": "code",
   "execution_count": 292,
   "id": "1084d395-0c55-40f2-a740-9e1a0981b36e",
   "metadata": {},
   "outputs": [],
   "source": [
    "# Собирам малочисленные цвета в одну группу\n",
    "\n",
    "star_colors = ['pale yellow orange', 'orange', 'yellow', 'orange-red', 'white', 'yellow-white']\n",
    "\n",
    "for i in star_colors:\n",
    "    data['star_color'] = data['star_color'].replace(i, 'other')"
   ]
  },
  {
   "cell_type": "code",
   "execution_count": 444,
   "id": "39dd1236-aa32-46b7-87c6-f4c5e029f89b",
   "metadata": {},
   "outputs": [
    {
     "data": {
      "text/html": [
       "<div>\n",
       "<style scoped>\n",
       "    .dataframe tbody tr th:only-of-type {\n",
       "        vertical-align: middle;\n",
       "    }\n",
       "\n",
       "    .dataframe tbody tr th {\n",
       "        vertical-align: top;\n",
       "    }\n",
       "\n",
       "    .dataframe thead th {\n",
       "        text-align: right;\n",
       "    }\n",
       "</style>\n",
       "<table border=\"1\" class=\"dataframe\">\n",
       "  <thead>\n",
       "    <tr style=\"text-align: right;\">\n",
       "      <th></th>\n",
       "      <th>temperature</th>\n",
       "      <th>luminosity</th>\n",
       "      <th>radius</th>\n",
       "      <th>absolute_magnitude</th>\n",
       "      <th>star_type_1</th>\n",
       "      <th>star_type_2</th>\n",
       "      <th>star_type_3</th>\n",
       "      <th>star_type_4</th>\n",
       "      <th>star_type_5</th>\n",
       "      <th>star_color_blue white</th>\n",
       "      <th>star_color_other</th>\n",
       "      <th>star_color_red</th>\n",
       "    </tr>\n",
       "  </thead>\n",
       "  <tbody>\n",
       "    <tr>\n",
       "      <th>0</th>\n",
       "      <td>3068.0</td>\n",
       "      <td>0.002400</td>\n",
       "      <td>0.1700</td>\n",
       "      <td>16.12</td>\n",
       "      <td>0.0</td>\n",
       "      <td>0.0</td>\n",
       "      <td>0.0</td>\n",
       "      <td>0.0</td>\n",
       "      <td>0.0</td>\n",
       "      <td>0.0</td>\n",
       "      <td>0.0</td>\n",
       "      <td>1.0</td>\n",
       "    </tr>\n",
       "    <tr>\n",
       "      <th>1</th>\n",
       "      <td>3042.0</td>\n",
       "      <td>0.000500</td>\n",
       "      <td>0.1542</td>\n",
       "      <td>16.60</td>\n",
       "      <td>0.0</td>\n",
       "      <td>0.0</td>\n",
       "      <td>0.0</td>\n",
       "      <td>0.0</td>\n",
       "      <td>0.0</td>\n",
       "      <td>0.0</td>\n",
       "      <td>0.0</td>\n",
       "      <td>1.0</td>\n",
       "    </tr>\n",
       "    <tr>\n",
       "      <th>2</th>\n",
       "      <td>2600.0</td>\n",
       "      <td>0.000300</td>\n",
       "      <td>0.1020</td>\n",
       "      <td>18.70</td>\n",
       "      <td>0.0</td>\n",
       "      <td>0.0</td>\n",
       "      <td>0.0</td>\n",
       "      <td>0.0</td>\n",
       "      <td>0.0</td>\n",
       "      <td>0.0</td>\n",
       "      <td>0.0</td>\n",
       "      <td>1.0</td>\n",
       "    </tr>\n",
       "    <tr>\n",
       "      <th>3</th>\n",
       "      <td>2800.0</td>\n",
       "      <td>0.000200</td>\n",
       "      <td>0.1600</td>\n",
       "      <td>16.65</td>\n",
       "      <td>0.0</td>\n",
       "      <td>0.0</td>\n",
       "      <td>0.0</td>\n",
       "      <td>0.0</td>\n",
       "      <td>0.0</td>\n",
       "      <td>0.0</td>\n",
       "      <td>0.0</td>\n",
       "      <td>1.0</td>\n",
       "    </tr>\n",
       "    <tr>\n",
       "      <th>4</th>\n",
       "      <td>1939.0</td>\n",
       "      <td>0.000138</td>\n",
       "      <td>0.1030</td>\n",
       "      <td>20.06</td>\n",
       "      <td>0.0</td>\n",
       "      <td>0.0</td>\n",
       "      <td>0.0</td>\n",
       "      <td>0.0</td>\n",
       "      <td>0.0</td>\n",
       "      <td>0.0</td>\n",
       "      <td>0.0</td>\n",
       "      <td>1.0</td>\n",
       "    </tr>\n",
       "    <tr>\n",
       "      <th>...</th>\n",
       "      <td>...</td>\n",
       "      <td>...</td>\n",
       "      <td>...</td>\n",
       "      <td>...</td>\n",
       "      <td>...</td>\n",
       "      <td>...</td>\n",
       "      <td>...</td>\n",
       "      <td>...</td>\n",
       "      <td>...</td>\n",
       "      <td>...</td>\n",
       "      <td>...</td>\n",
       "      <td>...</td>\n",
       "    </tr>\n",
       "    <tr>\n",
       "      <th>235</th>\n",
       "      <td>38940.0</td>\n",
       "      <td>374830.000000</td>\n",
       "      <td>1356.0000</td>\n",
       "      <td>-9.93</td>\n",
       "      <td>0.0</td>\n",
       "      <td>0.0</td>\n",
       "      <td>0.0</td>\n",
       "      <td>0.0</td>\n",
       "      <td>1.0</td>\n",
       "      <td>0.0</td>\n",
       "      <td>0.0</td>\n",
       "      <td>0.0</td>\n",
       "    </tr>\n",
       "    <tr>\n",
       "      <th>236</th>\n",
       "      <td>30839.0</td>\n",
       "      <td>834042.000000</td>\n",
       "      <td>1194.0000</td>\n",
       "      <td>-10.63</td>\n",
       "      <td>0.0</td>\n",
       "      <td>0.0</td>\n",
       "      <td>0.0</td>\n",
       "      <td>0.0</td>\n",
       "      <td>1.0</td>\n",
       "      <td>0.0</td>\n",
       "      <td>0.0</td>\n",
       "      <td>0.0</td>\n",
       "    </tr>\n",
       "    <tr>\n",
       "      <th>237</th>\n",
       "      <td>8829.0</td>\n",
       "      <td>537493.000000</td>\n",
       "      <td>1423.0000</td>\n",
       "      <td>-10.73</td>\n",
       "      <td>0.0</td>\n",
       "      <td>0.0</td>\n",
       "      <td>0.0</td>\n",
       "      <td>0.0</td>\n",
       "      <td>1.0</td>\n",
       "      <td>0.0</td>\n",
       "      <td>1.0</td>\n",
       "      <td>0.0</td>\n",
       "    </tr>\n",
       "    <tr>\n",
       "      <th>238</th>\n",
       "      <td>9235.0</td>\n",
       "      <td>404940.000000</td>\n",
       "      <td>1112.0000</td>\n",
       "      <td>-11.23</td>\n",
       "      <td>0.0</td>\n",
       "      <td>0.0</td>\n",
       "      <td>0.0</td>\n",
       "      <td>0.0</td>\n",
       "      <td>1.0</td>\n",
       "      <td>0.0</td>\n",
       "      <td>1.0</td>\n",
       "      <td>0.0</td>\n",
       "    </tr>\n",
       "    <tr>\n",
       "      <th>239</th>\n",
       "      <td>37882.0</td>\n",
       "      <td>294903.000000</td>\n",
       "      <td>1783.0000</td>\n",
       "      <td>-7.80</td>\n",
       "      <td>0.0</td>\n",
       "      <td>0.0</td>\n",
       "      <td>0.0</td>\n",
       "      <td>0.0</td>\n",
       "      <td>1.0</td>\n",
       "      <td>0.0</td>\n",
       "      <td>0.0</td>\n",
       "      <td>0.0</td>\n",
       "    </tr>\n",
       "  </tbody>\n",
       "</table>\n",
       "<p>240 rows × 12 columns</p>\n",
       "</div>"
      ],
      "text/plain": [
       "     temperature     luminosity     radius  absolute_magnitude  star_type_1  \\\n",
       "0         3068.0       0.002400     0.1700               16.12          0.0   \n",
       "1         3042.0       0.000500     0.1542               16.60          0.0   \n",
       "2         2600.0       0.000300     0.1020               18.70          0.0   \n",
       "3         2800.0       0.000200     0.1600               16.65          0.0   \n",
       "4         1939.0       0.000138     0.1030               20.06          0.0   \n",
       "..           ...            ...        ...                 ...          ...   \n",
       "235      38940.0  374830.000000  1356.0000               -9.93          0.0   \n",
       "236      30839.0  834042.000000  1194.0000              -10.63          0.0   \n",
       "237       8829.0  537493.000000  1423.0000              -10.73          0.0   \n",
       "238       9235.0  404940.000000  1112.0000              -11.23          0.0   \n",
       "239      37882.0  294903.000000  1783.0000               -7.80          0.0   \n",
       "\n",
       "     star_type_2  star_type_3  star_type_4  star_type_5  \\\n",
       "0            0.0          0.0          0.0          0.0   \n",
       "1            0.0          0.0          0.0          0.0   \n",
       "2            0.0          0.0          0.0          0.0   \n",
       "3            0.0          0.0          0.0          0.0   \n",
       "4            0.0          0.0          0.0          0.0   \n",
       "..           ...          ...          ...          ...   \n",
       "235          0.0          0.0          0.0          1.0   \n",
       "236          0.0          0.0          0.0          1.0   \n",
       "237          0.0          0.0          0.0          1.0   \n",
       "238          0.0          0.0          0.0          1.0   \n",
       "239          0.0          0.0          0.0          1.0   \n",
       "\n",
       "     star_color_blue white  star_color_other  star_color_red  \n",
       "0                      0.0               0.0             1.0  \n",
       "1                      0.0               0.0             1.0  \n",
       "2                      0.0               0.0             1.0  \n",
       "3                      0.0               0.0             1.0  \n",
       "4                      0.0               0.0             1.0  \n",
       "..                     ...               ...             ...  \n",
       "235                    0.0               0.0             0.0  \n",
       "236                    0.0               0.0             0.0  \n",
       "237                    0.0               1.0             0.0  \n",
       "238                    0.0               1.0             0.0  \n",
       "239                    0.0               0.0             0.0  \n",
       "\n",
       "[240 rows x 12 columns]"
      ]
     },
     "execution_count": 444,
     "metadata": {},
     "output_type": "execute_result"
    }
   ],
   "source": [
    "# Применяем One-hot-encoding к категориальным признакам: цвет звезды и тип звезды\n",
    "\n",
    "data_ohe = pd.get_dummies(data, columns=['star_type', 'star_color'], drop_first=True)\n",
    "data_ohe = data_ohe.astype('float64')\n",
    "data_ohe"
   ]
  },
  {
   "cell_type": "code",
   "execution_count": 445,
   "id": "01e445ab-64cc-4c04-94a4-e596110f0483",
   "metadata": {},
   "outputs": [],
   "source": [
    "# Масштабируем численные признаки\n",
    "\n",
    "columns = ['luminosity', 'radius', 'absolute_magnitude']\n",
    "scaler = StandardScaler()\n",
    "scaler.fit(data_ohe[columns])\n",
    "data_ohe[columns] = scaler.transform(data_ohe[columns])"
   ]
  },
  {
   "cell_type": "code",
   "execution_count": 471,
   "id": "3f415327-3160-42bc-a5d4-efbb10327bac",
   "metadata": {},
   "outputs": [],
   "source": [
    "# Делим данные на обучающую и тестовую выборки\n",
    "\n",
    "X_train, X_test, y_train, y_test = train_test_split(\n",
    "    data_ohe.drop(columns=['temperature']),\n",
    "    data_ohe['temperature'],\n",
    "    test_size=0.2,\n",
    "    random_state=67\n",
    "    # , shuffle=True\n",
    ")"
   ]
  },
  {
   "cell_type": "code",
   "execution_count": 472,
   "id": "e4a064e2-10b1-4f19-8308-35e4cede6be4",
   "metadata": {},
   "outputs": [],
   "source": [
    "# Переводим данные в тензор\n",
    "\n",
    "X_train = torch.FloatTensor(X_train.values)\n",
    "X_test = torch.FloatTensor(X_test.values)\n",
    "y_train = torch.FloatTensor(y_train.values)\n",
    "y_test = torch.FloatTensor(y_test.values)"
   ]
  },
  {
   "cell_type": "markdown",
   "id": "1c905adb-beed-4498-b186-f8a8cb04aaac",
   "metadata": {},
   "source": [
    "## Шаг 4. Построение простой модели нейронной сети — baseline"
   ]
  },
  {
   "cell_type": "code",
   "execution_count": 562,
   "id": "c08ff55b-8cd9-46e9-8ccd-60d7836524d9",
   "metadata": {},
   "outputs": [
    {
     "name": "stdout",
     "output_type": "stream",
     "text": [
      "RMSE: 2939.18\n"
     ]
    }
   ],
   "source": [
    "num_epochs = 1000\n",
    "loss = nn.MSELoss()\n",
    "rmse = MeanSquaredError(squared = False)\n",
    "\n",
    "net = nn.Sequential(\n",
    "            nn.Linear(11, 800),\n",
    "            nn.Tanh(),\n",
    "            nn.Linear(800, 500),\n",
    "            nn.ReLU(),   \n",
    "            nn.Linear(500, 1)\n",
    "            )\n",
    "        \n",
    "optimizer = torch.optim.Adam(net.parameters(), lr=1e-3)\n",
    "        \n",
    "        \n",
    "for epoch in range(num_epochs):\n",
    "    optimizer.zero_grad()\n",
    "\n",
    "    preds = net.forward(X_train).flatten()\n",
    "\n",
    "    loss_value = loss(preds, y_train)\n",
    "\n",
    "    loss_value.backward()\n",
    "\n",
    "    optimizer.step()\n",
    "\n",
    "net.eval()\n",
    "predictions = net.forward(X_test).flatten()\n",
    "rmse_result = round(rmse(net.forward(X_test).flatten(), y_test).item(), 2)\n",
    "print('RMSE:', rmse_result)"
   ]
  },
  {
   "cell_type": "code",
   "execution_count": 563,
   "id": "6923917a-683e-4164-b908-fe6ec6ec4817",
   "metadata": {},
   "outputs": [],
   "source": [
    "test_preds = pd.DataFrame(predictions.detach().numpy(), columns=['temperature'])\n",
    "test_target = pd.DataFrame(y_test.detach().numpy(), columns=['temperature'])"
   ]
  },
  {
   "cell_type": "code",
   "execution_count": 565,
   "id": "147856b3-20e8-41f1-b74c-38583e7c469d",
   "metadata": {},
   "outputs": [
    {
     "data": {
      "image/png": "[encoded data removed]",
      "text/plain": [
       "<Figure size 2000x600 with 1 Axes>"
      ]
     },
     "metadata": {},
     "output_type": "display_data"
    }
   ],
   "source": [
    "fig, ax = plt.subplots(figsize=[20,6])\n",
    "plt.bar(x=test_preds.index, height=test_preds['temperature'], color='moccasin' , label='Прогноз')\n",
    "plt.bar(x=test_target.index, height=test_target['temperature'], color='limegreen', label='Факт', width= 0.4)\n",
    "plt.xlabel('Номер звезды в таблице данных')\n",
    "plt.ylabel('Температура звезды')\n",
    "ax.legend()\n",
    "plt.show()"
   ]
  },
  {
   "cell_type": "markdown",
   "id": "72e679d9-236e-4553-860a-d6bafd952918",
   "metadata": {},
   "source": [
    "### Вывод исследовательского анализа\n",
    "\n",
    "Нам сразу удалось показать хорошие результаты особенно среди тех планет, которых больше всего в таблице данных"
   ]
  },
  {
   "cell_type": "markdown",
   "id": "d14b57a7-cdd6-4fb3-9a74-462941d7e7d1",
   "metadata": {},
   "source": [
    "## Шаг 5. Улучшение сети"
   ]
  },
  {
   "cell_type": "code",
   "execution_count": 501,
   "id": "fcf9b9b6-190d-4c07-bffe-8ce86451c581",
   "metadata": {},
   "outputs": [],
   "source": [
    "# Делаем списки колличества нейронов \n",
    "# для 2 скрытых слоев, чтобы затем их перебрать\n",
    "\n",
    "number_of_neurons_1 = [100, 200, 300, 400, 500, 600, 700, 800, 900, 1000]\n",
    "number_of_neurons_2 = [100, 200, 300, 400, 500, 600, 700, 800, 900, 1000]\n",
    "n_in_neurons = X_train.shape[1]\n",
    "n_out_neurons = 1"
   ]
  },
  {
   "cell_type": "code",
   "execution_count": 502,
   "id": "c48d0423-2693-47bf-b983-ff75031c2847",
   "metadata": {},
   "outputs": [],
   "source": [
    "# Создаем переменные лучших показателей,\n",
    "# чтобы затем добавить в них результаты перебора\n",
    "\n",
    "best_n_hidden_neurons_1 = 0\n",
    "best_n_hidden_neurons_2 = 0\n",
    "best_rmse = 0"
   ]
  },
  {
   "cell_type": "code",
   "execution_count": 503,
   "id": "c321494b-b606-430d-bf22-bd492d26b989",
   "metadata": {},
   "outputs": [
    {
     "name": "stdout",
     "output_type": "stream",
     "text": [
      "Best RMSE: 7713.63\n",
      "Number of hidden neurons 1: 100\n",
      "Number of hidden neurons 2: 100\n",
      "\n",
      "Best RMSE: 5991.07\n",
      "Number of hidden neurons 1: 100\n",
      "Number of hidden neurons 2: 200\n",
      "\n",
      "Best RMSE: 5483.47\n",
      "Number of hidden neurons 1: 100\n",
      "Number of hidden neurons 2: 300\n",
      "\n",
      "Best RMSE: 5097.2\n",
      "Number of hidden neurons 1: 100\n",
      "Number of hidden neurons 2: 400\n",
      "\n",
      "Best RMSE: 4800.39\n",
      "Number of hidden neurons 1: 100\n",
      "Number of hidden neurons 2: 500\n",
      "\n",
      "Best RMSE: 4559.93\n",
      "Number of hidden neurons 1: 100\n",
      "Number of hidden neurons 2: 600\n",
      "\n",
      "Best RMSE: 4353.69\n",
      "Number of hidden neurons 1: 100\n",
      "Number of hidden neurons 2: 700\n",
      "\n",
      "Best RMSE: 4263.32\n",
      "Number of hidden neurons 1: 100\n",
      "Number of hidden neurons 2: 800\n",
      "\n",
      "Best RMSE: 4090.97\n",
      "Number of hidden neurons 1: 100\n",
      "Number of hidden neurons 2: 900\n",
      "\n",
      "Best RMSE: 3954.52\n",
      "Number of hidden neurons 1: 100\n",
      "Number of hidden neurons 2: 1000\n",
      "\n",
      "Best RMSE: 3902.88\n",
      "Number of hidden neurons 1: 200\n",
      "Number of hidden neurons 2: 600\n",
      "\n",
      "Best RMSE: 3806.39\n",
      "Number of hidden neurons 1: 200\n",
      "Number of hidden neurons 2: 700\n",
      "\n",
      "Best RMSE: 3545.8\n",
      "Number of hidden neurons 1: 200\n",
      "Number of hidden neurons 2: 800\n",
      "\n",
      "Best RMSE: 3480.05\n",
      "Number of hidden neurons 1: 200\n",
      "Number of hidden neurons 2: 900\n",
      "\n",
      "Best RMSE: 3376.46\n",
      "Number of hidden neurons 1: 200\n",
      "Number of hidden neurons 2: 1000\n",
      "\n",
      "Best RMSE: 3369.39\n",
      "Number of hidden neurons 1: 300\n",
      "Number of hidden neurons 2: 700\n",
      "\n",
      "Best RMSE: 3196.34\n",
      "Number of hidden neurons 1: 300\n",
      "Number of hidden neurons 2: 800\n",
      "\n",
      "Best RMSE: 3040.26\n",
      "Number of hidden neurons 1: 300\n",
      "Number of hidden neurons 2: 900\n",
      "\n",
      "Best RMSE: 3026.44\n",
      "Number of hidden neurons 1: 300\n",
      "Number of hidden neurons 2: 1000\n",
      "\n",
      "Best RMSE: 3006.28\n",
      "Number of hidden neurons 1: 400\n",
      "Number of hidden neurons 2: 700\n",
      "\n",
      "Best RMSE: 2980.1\n",
      "Number of hidden neurons 1: 400\n",
      "Number of hidden neurons 2: 800\n",
      "\n",
      "Best RMSE: 2963.24\n",
      "Number of hidden neurons 1: 400\n",
      "Number of hidden neurons 2: 900\n",
      "\n",
      "Best RMSE: 2950.24\n",
      "Number of hidden neurons 1: 400\n",
      "Number of hidden neurons 2: 1000\n",
      "\n",
      "Best RMSE: 2931.07\n",
      "Number of hidden neurons 1: 600\n",
      "Number of hidden neurons 2: 700\n",
      "\n",
      "Best RMSE: 2930.83\n",
      "Number of hidden neurons 1: 900\n",
      "Number of hidden neurons 2: 400\n",
      "\n",
      "Best RMSE: 2916.24\n",
      "Number of hidden neurons 1: 1000\n",
      "Number of hidden neurons 2: 400\n",
      "\n"
     ]
    }
   ],
   "source": [
    "# Создаем первую нейронную сеть, чтобы перебрать в ней разное сочетание количество нейронов \n",
    "\n",
    "num_epochs = 1000\n",
    "loss = nn.MSELoss()\n",
    "rmse = MeanSquaredError(squared = False)\n",
    "\n",
    "for hidden_neurons_1 in number_of_neurons_1:\n",
    "    for hidden_neurons_2 in number_of_neurons_2:  \n",
    "        net = nn.Sequential(\n",
    "            nn.Linear(n_in_neurons, hidden_neurons_1),\n",
    "            nn.Tanh(),\n",
    "            nn.Linear(hidden_neurons_1, hidden_neurons_2),\n",
    "            nn.ReLU(),   \n",
    "            nn.Linear(hidden_neurons_2, n_out_neurons)\n",
    "            )\n",
    "        \n",
    "        optimizer = torch.optim.Adam(net.parameters(), lr=1e-3)\n",
    "        \n",
    "        \n",
    "        for epoch in range(num_epochs):\n",
    "            optimizer.zero_grad()\n",
    "        \n",
    "            preds = net.forward(X_train).flatten()\n",
    "        \n",
    "            loss_value = loss(preds, y_train)\n",
    "        \n",
    "            loss_value.backward()\n",
    "        \n",
    "            optimizer.step()\n",
    "        \n",
    "        net.eval()\n",
    "        rmse_result = round(rmse(net.forward(X_test).flatten(), y_test).item(), 2)\n",
    "        \n",
    "        if best_rmse == 0 or rmse_result < best_rmse:\n",
    "            best_rmse = rmse_result\n",
    "            best_n_hidden_neurons_1 = hidden_neurons_1\n",
    "            best_n_hidden_neurons_2 = hidden_neurons_2\n",
    "            print('Best RMSE:', best_rmse)\n",
    "            print('Number of hidden neurons 1:', best_n_hidden_neurons_1)\n",
    "            print('Number of hidden neurons 2:', best_n_hidden_neurons_2)\n",
    "            print()"
   ]
  },
  {
   "cell_type": "markdown",
   "id": "4e7535e3-94a1-46bb-ae58-0a7362d999cb",
   "metadata": {},
   "source": [
    "Самый лучший результат дал первый скрытый слой с 1000-ю нейронами в сочетании с вторым с 400-а."
   ]
  },
  {
   "cell_type": "markdown",
   "id": "9e65f199-ccfa-47c6-92f1-edbc46f3ea55",
   "metadata": {},
   "source": [
    "Теперь добавим в сеть инициализацию весом"
   ]
  },
  {
   "cell_type": "code",
   "execution_count": 513,
   "id": "f6b9240e-0182-4104-a656-2a2dc6073582",
   "metadata": {},
   "outputs": [
    {
     "name": "stdout",
     "output_type": "stream",
     "text": [
      "RMSE: 3057.04\n"
     ]
    }
   ],
   "source": [
    "# Создаем класс нейронной сети\n",
    "# Добавляем нормализацию весов\n",
    "\n",
    "class Net(nn.Module):\n",
    "    def __init__(self):\n",
    "        super(Net, self).__init__()\n",
    "        self.fc1 = nn.Linear(n_in_neurons, best_n_hidden_neurons_1)\n",
    "        self.act1 = nn.Tanh()\n",
    "        self.fc2 = nn.Linear(best_n_hidden_neurons_1, best_n_hidden_neurons_2)\n",
    "        self.act2 = nn.ReLU()\n",
    "        self.fc3 = nn.Linear(best_n_hidden_neurons_2, n_out_neurons)\n",
    "        nn.init.uniform_(self.fc1.weight, a=-2, b=2)\n",
    "        nn.init.uniform_(self.fc1.bias, a=-2, b=2)\n",
    "        nn.init.kaiming_uniform_(self.fc2.weight, mode='fan_in', nonlinearity='relu')\n",
    "        nn.init.normal_(self.fc2.bias, mean=0.5, std=0.7)\n",
    "        nn.init.xavier_uniform_(self.fc3.weight)\n",
    "        nn.init.normal_(self.fc3.bias, mean=0.5, std=0.7)\n",
    "        \n",
    "    def forward(self, x):\n",
    "        x = self.fc1(x)\n",
    "        x = self.act1(x)\n",
    "        x = self.fc2(x)\n",
    "        x = self.act2(x)\n",
    "        x = self.fc3(x)\n",
    "        return x\n",
    "\n",
    "net = Net()\n",
    "\n",
    "optimizer = torch.optim.Adam(net.parameters(), lr=1e-3)\n",
    "        \n",
    "        \n",
    "for epoch in range(num_epochs):\n",
    "    optimizer.zero_grad()\n",
    "\n",
    "    preds = net.forward(X_train).flatten()\n",
    "\n",
    "    loss_value = loss(preds, y_train)\n",
    "\n",
    "    loss_value.backward()\n",
    "\n",
    "    optimizer.step()\n",
    "\n",
    "net.eval()\n",
    "rmse_result = round(rmse(net.forward(X_test).flatten(), y_test).item(), 2)\n",
    "print('RMSE:', rmse_result)"
   ]
  },
  {
   "cell_type": "markdown",
   "id": "c8a14d7f-9cfa-4222-9a3e-5760a97c73aa",
   "metadata": {},
   "source": [
    "Инициализация весов ухудшла результат, так что откажемся от нее"
   ]
  },
  {
   "cell_type": "markdown",
   "id": "149ad481-bd68-4efc-9352-b70ba8f3e3f6",
   "metadata": {},
   "source": [
    "Попробуем теперь добавить BatchNorm"
   ]
  },
  {
   "cell_type": "code",
   "execution_count": 517,
   "id": "29cb0b9f-bffd-46e7-a43e-2e266914d44f",
   "metadata": {},
   "outputs": [
    {
     "name": "stdout",
     "output_type": "stream",
     "text": [
      "RMSE: 12013.38\n"
     ]
    }
   ],
   "source": [
    "# Меняем класс нейронной сети\n",
    "# Добавляем батчнормализацию\n",
    "\n",
    "class Net(nn.Module):\n",
    "    def __init__(self):\n",
    "        super(Net, self).__init__()\n",
    "        self.layer1 = nn.Linear(n_in_neurons, best_n_hidden_neurons_1)\n",
    "        self.bn1 = nn.BatchNorm1d(best_n_hidden_neurons_1)\n",
    "        self.layer2 = nn.Linear(best_n_hidden_neurons_1, best_n_hidden_neurons_2)\n",
    "        self.bn2 = nn.BatchNorm1d(best_n_hidden_neurons_2)\n",
    "        self.layer3 = nn.Linear(best_n_hidden_neurons_2, n_out_neurons)\n",
    "        \n",
    "    def forward(self, x):\n",
    "        x = self.layer1(x)\n",
    "        x = self.bn1(x)\n",
    "        x = torch.tanh(x)\n",
    "        x = self.layer2(x)\n",
    "        x = self.bn2(x)\n",
    "        x = torch.relu(x)\n",
    "        x = self.layer3(x)\n",
    "        return x \n",
    "\n",
    "net = Net()\n",
    "\n",
    "optimizer = torch.optim.Adam(net.parameters(), lr=1e-3)\n",
    "        \n",
    "        \n",
    "for epoch in range(num_epochs):\n",
    "    optimizer.zero_grad()\n",
    "\n",
    "    preds = net.forward(X_train).flatten()\n",
    "\n",
    "    loss_value = loss(preds, y_train)\n",
    "\n",
    "    loss_value.backward()\n",
    "\n",
    "    optimizer.step()\n",
    "\n",
    "net.eval()\n",
    "rmse_result = round(rmse(net.forward(X_test).flatten(), y_test).item(), 2)\n",
    "print('RMSE:', rmse_result)"
   ]
  },
  {
   "cell_type": "markdown",
   "id": "36dff955-6fb3-4ba2-bfff-81003002a92c",
   "metadata": {},
   "source": [
    "BatchNorm в 4 раза ухудшил результат. Отказываемся от него."
   ]
  },
  {
   "cell_type": "markdown",
   "id": "ab98bced-7eb7-4fad-932a-2def4995660a",
   "metadata": {},
   "source": [
    "Пробуем применить Dropout"
   ]
  },
  {
   "cell_type": "code",
   "execution_count": 521,
   "id": "f1cc1938-2bc6-4e85-9722-f2d438062021",
   "metadata": {},
   "outputs": [
    {
     "name": "stdout",
     "output_type": "stream",
     "text": [
      "RMSE: 3156.35\n"
     ]
    }
   ],
   "source": [
    "# Меняем класс нейронной сети\n",
    "# Добавляем дропаут\n",
    "\n",
    "class Net(nn.Module):\n",
    "    def __init__(self):\n",
    "        super(Net, self).__init__()\n",
    "        self.layer1 = nn.Linear(n_in_neurons, best_n_hidden_neurons_1)\n",
    "        self.dp1 = nn.Dropout(p=0.2)\n",
    "        self.layer2 = nn.Linear(best_n_hidden_neurons_1, best_n_hidden_neurons_2)\n",
    "        self.dp2 = nn.Dropout(p=0.5)\n",
    "        self.layer3 = nn.Linear(best_n_hidden_neurons_2, n_out_neurons)\n",
    "        \n",
    "    def forward(self, x):\n",
    "        x = self.layer1(x)\n",
    "        x = torch.tanh(x)\n",
    "        x = self.dp1(x)\n",
    "        x = self.layer2(x)\n",
    "        x = torch.relu(x)\n",
    "        x = self.dp2(x)\n",
    "        x = self.layer3(x)\n",
    "        return x \n",
    "\n",
    "net = Net()\n",
    "\n",
    "optimizer = torch.optim.Adam(net.parameters(), lr=1e-3)\n",
    "        \n",
    "        \n",
    "for epoch in range(num_epochs):\n",
    "    optimizer.zero_grad()\n",
    "\n",
    "    preds = net.forward(X_train).flatten()\n",
    "\n",
    "    loss_value = loss(preds, y_train)\n",
    "\n",
    "    loss_value.backward()\n",
    "\n",
    "    optimizer.step()\n",
    "\n",
    "net.eval()\n",
    "rmse_result = round(rmse(net.forward(X_test).flatten(), y_test).item(), 2)\n",
    "print('RMSE:', rmse_result)"
   ]
  },
  {
   "cell_type": "markdown",
   "id": "488d5c35-66c7-4daa-b21f-75b239cee255",
   "metadata": {},
   "source": [
    "Dropout тоже ухудшил результат. Не будем использовать."
   ]
  },
  {
   "cell_type": "markdown",
   "id": "41fc4a05-be6b-40ec-b4e4-aa6283d0c638",
   "metadata": {},
   "source": [
    "Остается выбрать оптимальное количество эпох."
   ]
  },
  {
   "cell_type": "code",
   "execution_count": 546,
   "id": "c78ff3c7-3641-4362-b47f-1b236a99fa1a",
   "metadata": {},
   "outputs": [],
   "source": [
    "# Выбираем лучшее количество эпох \n",
    "\n",
    "results = np.array([])\n",
    "\n",
    "net = nn.Sequential(\n",
    "    nn.Linear(n_in_neurons, best_n_hidden_neurons_1),\n",
    "    nn.Tanh(),\n",
    "    nn.Linear(best_n_hidden_neurons_1, best_n_hidden_neurons_2),\n",
    "    nn.ReLU(),   \n",
    "    nn.Linear(best_n_hidden_neurons_2, n_out_neurons)\n",
    "    )\n",
    "\n",
    "optimizer = torch.optim.Adam(net.parameters(), lr=1e-3)\n",
    "    \n",
    "for epoch in range(1, 5001):\n",
    "    optimizer.zero_grad()\n",
    "\n",
    "    preds = net.forward(X_train).flatten()\n",
    "\n",
    "    loss_value = loss(preds, y_train)\n",
    "\n",
    "    loss_value.backward()\n",
    "\n",
    "    optimizer.step()\n",
    "\n",
    "    if epoch % 10 == 0:\n",
    "        net.eval()\n",
    "        rmse_result = round(rmse(net.forward(X_test).flatten(), y_test).item(), 2)\n",
    "        results = np.append(results, rmse_result)"
   ]
  },
  {
   "cell_type": "code",
   "execution_count": 551,
   "id": "bcef7f89-b8a5-4c1b-a8fc-2368b1fa35ef",
   "metadata": {},
   "outputs": [
    {
     "data": {
      "image/png": "[encoded data removed]",
      "text/plain": [
       "<Figure size 1500x600 with 1 Axes>"
      ]
     },
     "metadata": {},
     "output_type": "display_data"
    }
   ],
   "source": [
    "epochs = np.arange(1, 5001, 10)\n",
    "\n",
    "plt.figure(figsize=[15,6])\n",
    "sns.lineplot(x=epochs, y=results, label='Validation')\n",
    "plt.legend()\n",
    "plt.xlabel('Epochs')\n",
    "plt.ylabel('RMSE')\n",
    "plt.show()"
   ]
  },
  {
   "cell_type": "markdown",
   "id": "be04fbbd-23d3-476a-be40-b8a459e0ada0",
   "metadata": {},
   "source": [
    "Из графика видно, что сеть лучше всего себя показывает на 1000-е эпох, которые мы изначально выбрали как стандарт для экспериментов. "
   ]
  },
  {
   "cell_type": "markdown",
   "id": "2dd95d6b-8869-44b0-a298-9078798a2275",
   "metadata": {},
   "source": [
    "### Вывод улучшения сети\n",
    "\n",
    "1. Самых лучших результатов получилось добиться с 2-я скрытыми слоями, с 1000-ю нейронов в первом, и 400-а нейронами в втором\n",
    "2. Лучшее количество эпох – 1000\n",
    "3. Инициализация весов, батчнормализация и дропаут – только ухудшили результат\n",
    "\n",
    "|  | NN | NN + Weights Initialization | NN + BatchNorm | NN + Dropout |\n",
    "| --- | --- | --- | --- | --- |\n",
    "| RMSE | 2916.24 | 3057.04 | 12013.38 | 3156.35 |"
   ]
  },
  {
   "cell_type": "markdown",
   "id": "accurate-infrastructure",
   "metadata": {},
   "source": [
    "## Шаг 6. Выводы по проекту"
   ]
  },
  {
   "cell_type": "markdown",
   "id": "74a97d51-d759-4e1e-82b9-584f65c37c58",
   "metadata": {},
   "source": [
    "* #### Лучший результат (RMSE: 2916.24) показала модель из 2-х скрытых слоев: 1000 нейронов в первом и 400 во втором.\n",
    "* #### Лучшие функции активации: тангенс после первого скрытого слоя; релу после второго. \n",
    "* #### Лучшее количество эпох: 1000.\n",
    "* #### Инициализация весов, батчнормализация и дропаут – только ухудшили результат, поэтому их не стоит использовать."
   ]
  }
 ],
 "metadata": {
  "kernelspec": {
   "display_name": "Python 3 (ipykernel)",
   "language": "python",
   "name": "python3"
  },
  "language_info": {
   "codemirror_mode": {
    "name": "ipython",
    "version": 3
   },
   "file_extension": ".py",
   "mimetype": "text/x-python",
   "name": "python",
   "nbconvert_exporter": "python",
   "pygments_lexer": "ipython3",
   "version": "3.12.2"
  },
  "toc": {
   "base_numbering": 1,
   "nav_menu": {},
   "number_sections": false,
   "sideBar": true,
   "skip_h1_title": false,
   "title_cell": "Table of Contents",
   "title_sidebar": "Contents",
   "toc_cell": false,
   "toc_position": {},
   "toc_section_display": true,
   "toc_window_display": false
  },
  "varInspector": {
   "cols": {
    "lenName": 16,
    "lenType": 16,
    "lenVar": 40
   },
   "kernels_config": {
    "python": {
     "delete_cmd_postfix": "",
     "delete_cmd_prefix": "del ",
     "library": "var_list.py",
     "varRefreshCmd": "print(var_dic_list())"
    },
    "r": {
     "delete_cmd_postfix": ") ",
     "delete_cmd_prefix": "rm(",
     "library": "var_list.r",
     "varRefreshCmd": "cat(var_dic_list()) "
    }
   },
   "types_to_exclude": [
    "module",
    "function",
    "builtin_function_or_method",
    "instance",
    "_Feature"
   ],
   "window_display": false
  }
 },
 "nbformat": 4,
 "nbformat_minor": 5
}
