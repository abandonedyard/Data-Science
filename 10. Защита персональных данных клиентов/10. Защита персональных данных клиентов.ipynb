{
 "cells": [
  {
   "cell_type": "markdown",
   "id": "GEqQaHzsZ_bA",
   "metadata": {
    "id": "GEqQaHzsZ_bA"
   },
   "source": [
    "## Предсказание стоимости жилья\n",
    "\n",
    "**Нужно защитить данные клиентов страховой компании «Хоть потоп». Разработаем такой метод преобразования данных, чтобы по ним было сложно восстановить персональную информацию. Обоснуем корректность его работы.\n",
    "Нужно защитить данные, чтобы при преобразовании качество моделей машинного обучения не ухудшилось. Подбирать наилучшую модель не требуется.**"
   ]
  },
  {
   "cell_type": "markdown",
   "id": "de390aeb",
   "metadata": {},
   "source": [
    "### 1. Загрузим и изучим данные"
   ]
  },
  {
   "cell_type": "code",
   "execution_count": 66,
   "id": "3e88dedc",
   "metadata": {},
   "outputs": [],
   "source": [
    "# Импортируем библиотеки\n",
    "\n",
    "import pandas as pd\n",
    "import numpy as np\n",
    "from sklearn.preprocessing import StandardScaler\n",
    "from sklearn.metrics import r2_score, mean_squared_error\n",
    "from sklearn.linear_model import LinearRegression"
   ]
  },
  {
   "cell_type": "code",
   "execution_count": 31,
   "id": "b9426c80",
   "metadata": {},
   "outputs": [],
   "source": [
    "# Читаем файл csv\n",
    "\n",
    "df = pd.read_csv('/Users/danil/Desktop/Data Science/Яндекс Практикум Data Science/10/[SW.BAND] [Яндекс.Практикум] Специалист по Data Science Плюс. Часть 10 из 16 (2022)/[SW.BAND] 06 Самостоятельный проект/insurance.csv')"
   ]
  },
  {
   "cell_type": "code",
   "execution_count": 32,
   "id": "6f15e663",
   "metadata": {},
   "outputs": [
    {
     "name": "stdout",
     "output_type": "stream",
     "text": [
      "Данные в таблице\n"
     ]
    },
    {
     "data": {
      "text/html": [
       "<div>\n",
       "<style scoped>\n",
       "    .dataframe tbody tr th:only-of-type {\n",
       "        vertical-align: middle;\n",
       "    }\n",
       "\n",
       "    .dataframe tbody tr th {\n",
       "        vertical-align: top;\n",
       "    }\n",
       "\n",
       "    .dataframe thead th {\n",
       "        text-align: right;\n",
       "    }\n",
       "</style>\n",
       "<table border=\"1\" class=\"dataframe\">\n",
       "  <thead>\n",
       "    <tr style=\"text-align: right;\">\n",
       "      <th></th>\n",
       "      <th>Пол</th>\n",
       "      <th>Возраст</th>\n",
       "      <th>Зарплата</th>\n",
       "      <th>Члены семьи</th>\n",
       "      <th>Страховые выплаты</th>\n",
       "    </tr>\n",
       "  </thead>\n",
       "  <tbody>\n",
       "    <tr>\n",
       "      <th>0</th>\n",
       "      <td>1</td>\n",
       "      <td>41.0</td>\n",
       "      <td>49600.0</td>\n",
       "      <td>1</td>\n",
       "      <td>0</td>\n",
       "    </tr>\n",
       "    <tr>\n",
       "      <th>1</th>\n",
       "      <td>0</td>\n",
       "      <td>46.0</td>\n",
       "      <td>38000.0</td>\n",
       "      <td>1</td>\n",
       "      <td>1</td>\n",
       "    </tr>\n",
       "    <tr>\n",
       "      <th>2</th>\n",
       "      <td>0</td>\n",
       "      <td>29.0</td>\n",
       "      <td>21000.0</td>\n",
       "      <td>0</td>\n",
       "      <td>0</td>\n",
       "    </tr>\n",
       "    <tr>\n",
       "      <th>3</th>\n",
       "      <td>0</td>\n",
       "      <td>21.0</td>\n",
       "      <td>41700.0</td>\n",
       "      <td>2</td>\n",
       "      <td>0</td>\n",
       "    </tr>\n",
       "    <tr>\n",
       "      <th>4</th>\n",
       "      <td>1</td>\n",
       "      <td>28.0</td>\n",
       "      <td>26100.0</td>\n",
       "      <td>0</td>\n",
       "      <td>0</td>\n",
       "    </tr>\n",
       "  </tbody>\n",
       "</table>\n",
       "</div>"
      ],
      "text/plain": [
       "   Пол  Возраст  Зарплата  Члены семьи  Страховые выплаты\n",
       "0    1     41.0   49600.0            1                  0\n",
       "1    0     46.0   38000.0            1                  1\n",
       "2    0     29.0   21000.0            0                  0\n",
       "3    0     21.0   41700.0            2                  0\n",
       "4    1     28.0   26100.0            0                  0"
      ]
     },
     "metadata": {},
     "output_type": "display_data"
    },
    {
     "name": "stdout",
     "output_type": "stream",
     "text": [
      "\n",
      " Информация о таблице \n",
      "\n",
      "<class 'pandas.core.frame.DataFrame'>\n",
      "RangeIndex: 5000 entries, 0 to 4999\n",
      "Data columns (total 5 columns):\n",
      " #   Column             Non-Null Count  Dtype  \n",
      "---  ------             --------------  -----  \n",
      " 0   Пол                5000 non-null   int64  \n",
      " 1   Возраст            5000 non-null   float64\n",
      " 2   Зарплата           5000 non-null   float64\n",
      " 3   Члены семьи        5000 non-null   int64  \n",
      " 4   Страховые выплаты  5000 non-null   int64  \n",
      "dtypes: float64(2), int64(3)\n",
      "memory usage: 195.4 KB\n"
     ]
    },
    {
     "data": {
      "text/plain": [
       "None"
      ]
     },
     "metadata": {},
     "output_type": "display_data"
    },
    {
     "name": "stdout",
     "output_type": "stream",
     "text": [
      "\n",
      " Колличество пропусков \n",
      "\n"
     ]
    },
    {
     "data": {
      "text/plain": [
       "Пол                  0\n",
       "Возраст              0\n",
       "Зарплата             0\n",
       "Члены семьи          0\n",
       "Страховые выплаты    0\n",
       "dtype: int64"
      ]
     },
     "metadata": {},
     "output_type": "display_data"
    },
    {
     "name": "stdout",
     "output_type": "stream",
     "text": [
      "\n",
      " Колличество дубликатов: 153 \n",
      "\n",
      "\n",
      " Колличество уникальных значений \n",
      "\n"
     ]
    },
    {
     "data": {
      "text/plain": [
       "Пол                    2\n",
       "Возраст               46\n",
       "Зарплата             524\n",
       "Члены семьи            7\n",
       "Страховые выплаты      6\n",
       "dtype: int64"
      ]
     },
     "metadata": {},
     "output_type": "display_data"
    }
   ],
   "source": [
    "# Изучим данные\n",
    "\n",
    "print('Данные в таблице')\n",
    "display(df.head())\n",
    "print('\\n', 'Информация о таблице', '\\n')\n",
    "display(df.info())\n",
    "print('\\n', 'Колличество пропусков', '\\n')\n",
    "display(df.isna().sum())\n",
    "print('\\n', 'Колличество дубликатов:', df.duplicated().sum(), '\\n')\n",
    "print('\\n', 'Колличество уникальных значений', '\\n')\n",
    "display(df.nunique())"
   ]
  },
  {
   "cell_type": "code",
   "execution_count": 33,
   "id": "3e6ed83b",
   "metadata": {},
   "outputs": [],
   "source": [
    "# Удалим дубликаты\n",
    "\n",
    "df.drop_duplicates(inplace=True)"
   ]
  },
  {
   "cell_type": "markdown",
   "id": "e4efc1e0",
   "metadata": {},
   "source": [
    "### 2. Ответим на вопрос и обоснуем решение\n",
    "\n",
    "Признаки умножают на обратимую матрицу. Изменится ли качество линейной регрессии? (Её можно обучить заново.)\n",
    "1. Изменится. Приведите примеры матриц.\n",
    "2. Не изменится. Укажите, как связаны параметры линейной регрессии в исходной задаче и в преобразованной."
   ]
  },
  {
   "cell_type": "markdown",
   "id": "b9927915",
   "metadata": {},
   "source": [
    "Обозначения:\n",
    "\n",
    "- $X$ — матрица признаков (нулевой столбец состоит из единиц)\n",
    "\n",
    "- $y$ — вектор целевого признака\n",
    "\n",
    "- $P$ — матрица, на которую умножаются признаки\n",
    "\n",
    "- $w$ — вектор весов линейной регрессии (нулевой элемент равен сдвигу)"
   ]
  },
  {
   "cell_type": "markdown",
   "id": "14f2270f",
   "metadata": {},
   "source": [
    "Предсказания:\n",
    "\n",
    "$$\n",
    "a = Xw\n",
    "$$\n",
    "\n",
    "Задача обучения:\n",
    "\n",
    "$$\n",
    "w = \\arg\\min_w MSE(Xw, y)\n",
    "$$\n",
    "\n",
    "Формула обучения:\n",
    "\n",
    "$$\n",
    "w = (X^T X)^{-1} X^T y\n",
    "$$"
   ]
  },
  {
   "cell_type": "markdown",
   "id": "94e99690",
   "metadata": {},
   "source": [
    "Формула расчета весов для линейной регрессии:\n",
    "\n",
    "$$\n",
    "w = (X^T X)^{-1} X^T y\n",
    "$$\n",
    "\n",
    "Представим новую матрицу признаков $X1$ как произведение старой $X$ на матрицу $P$ (обратимую):\n",
    "\n",
    "$$\n",
    "X1 = X * P\n",
    "$$\n",
    "\n",
    "Подставим новое значение X1 в формулу $w1$:\n",
    "\n",
    "$$\n",
    "w1 = ((X P)^T X P)^{-1} (X P)^T y\n",
    "$$\n",
    "\n",
    "Раскроем первое произведение $ (XP)^T $:\n",
    "\n",
    "$$\n",
    "w1 = (P^T X^T X P)^{-1} P^T X^T y\n",
    "$$\n",
    "\n",
    "Перегруппируем множители в скобках, чтобы это выглядело как произведение трех множителей:\n",
    "\n",
    "$$\n",
    "w1 = (P^T (X^T X) P)^{-1} P^T X^T y\n",
    "$$\n",
    "\n",
    "Раскроем скобки $ (P^T (X^T X) P)^{-1} $:\n",
    "\n",
    "$$\n",
    "w1 = P^{-1} (X^T X)^{-1} (P^T)^{-1} P^T X^T y\n",
    "$$\n",
    "\n",
    "Так как $P$ по условию обратимая, то произведение $(P^T)^{-1} P^T$ равно $E$ (единичная матрица):\n",
    "\n",
    "$$\n",
    "w1 = P^{-1} (X^T X)^{-1} E X^T y = P^{-1} (X^T X)^{-1} X^T y\n",
    "$$\n",
    "\n",
    "Можно заметить, что справа получилась формула для $w$:\n",
    "\n",
    "$$\n",
    "w1 = P^{-1} (X^T X)^{-1} X^T y = P^{-1} w\n",
    "$$\n",
    "\n",
    "Подставим новое значение весов  𝑤1  в формулу для предсказаний линейной регрессии.\n",
    "Предсказания модели расчитываются по формуле:\n",
    "\n",
    "$$\n",
    "a = Xw\n",
    "$$\n",
    "\n",
    "Подставим в эту формулу значения $X1$ и $w1$ для того, чтобы на их основе вычислить предсказания модели $a1$:\n",
    "\n",
    "$$\n",
    "a1 = X1w1 = XPP^{-1} w\n",
    "$$\n",
    "\n",
    "Так как $P$ по условию обратимая, то произведение $PP^{-1}$ снова равно $E$:\n",
    "\n",
    "$$\n",
    "a1 = XPP^{-1} w = X E w = X w = a\n",
    "$$\n",
    "\n",
    "Мы доказали, что предсказания $a1$ для матрицы признаков, умноженных на обратимую матрицу $P$ равны предсказаниям $a$.<br>\n",
    "Следовательно, отвечая на вопрос изменится ли качество линейной регрессии при умножении признаков на обратимую матрицу - нет, не изменится. В данном случае, параметры линейной регрессии в исходной задаче $w$ и в преобразованной $w1$ связаны следующим образом:\n",
    "\n",
    "$$\n",
    "w1 = P^{-1} w\n",
    "$$\n",
    "\n",
    "### Вывод:\n",
    "При умножении признаков на обратимую матрицу, предсказания модели не поменяется, но поменяются веса для новых признаков. Придется переобучать модель на новых признаках."
   ]
  },
  {
   "cell_type": "markdown",
   "id": "d1ce4b6b",
   "metadata": {},
   "source": [
    "### 3. Предложим алгоритм преобразования данных для решения задачи. Обоснуем, почему качество линейной регрессии не поменяется."
   ]
  },
  {
   "cell_type": "code",
   "execution_count": 36,
   "id": "2a0b1acb",
   "metadata": {},
   "outputs": [],
   "source": [
    "# Создадим список столбцов для масштабирования\n",
    "# Выделим признаки и целевой признак\n",
    "\n",
    "numeric_list = [\n",
    "    'Возраст', 'Зарплата', \n",
    "    'Члены семьи'\n",
    "]\n",
    "\n",
    "scaler = StandardScaler()\n",
    "scaler.fit(df[numeric_list])\n",
    "df[numeric_list] = scaler.transform(df[numeric_list])\n",
    "\n",
    "features = df.drop('Страховые выплаты', axis=1)\n",
    "target = df['Страховые выплаты']"
   ]
  },
  {
   "cell_type": "code",
   "execution_count": 59,
   "id": "7822c4e0",
   "metadata": {},
   "outputs": [
    {
     "data": {
      "text/plain": [
       "array([[-0.58405044,  0.51697223,  0.52253328, -0.4106839 ],\n",
       "       [ 0.56403724, -1.47517808, -0.55669972,  0.76944328],\n",
       "       [ 0.31942415, -0.68210714, -0.28177901,  0.89674179],\n",
       "       [ 1.42273442, -1.15990133,  0.20433398,  1.98814826]])"
      ]
     },
     "execution_count": 59,
     "metadata": {},
     "output_type": "execute_result"
    }
   ],
   "source": [
    "# Создадим рандомную матрицу размером в колличество признаков\n",
    "# Проверим ее на обратность\n",
    "\n",
    "P = np.random.normal(loc=0.0, scale=1.0, size=(4, 4))\n",
    "P_reverse = np.linalg.inv(P)\n",
    "P_reverse"
   ]
  },
  {
   "cell_type": "code",
   "execution_count": 37,
   "id": "e30b2469",
   "metadata": {},
   "outputs": [
    {
     "name": "stdout",
     "output_type": "stream",
     "text": [
      "0.4302010044852068\n"
     ]
    }
   ],
   "source": [
    "# Создадим класс линейной ргерессии \n",
    "# и проверим на нем показатель R2\n",
    "\n",
    "class LinearRegression:\n",
    "    def fit(self, train_features, train_target):\n",
    "        X = np.concatenate((np.ones((train_features.shape[0], 1)), train_features), axis=1)\n",
    "        y = train_target\n",
    "        w = np.linalg.inv(X.T.dot(X)).dot(X.T).dot(y)\n",
    "        self.w = w[1:]\n",
    "        self.w0 = w[0]\n",
    "\n",
    "    def predict(self, test_features):\n",
    "        return test_features.dot(self.w) + self.w0\n",
    "            \n",
    "model = LinearRegression()\n",
    "model.fit(features, target)\n",
    "predictions = model.predict(features)\n",
    "print(r2_score(target, predictions))"
   ]
  },
  {
   "cell_type": "code",
   "execution_count": 80,
   "id": "6c4b04fa",
   "metadata": {},
   "outputs": [
    {
     "name": "stdout",
     "output_type": "stream",
     "text": [
      "0.4302010044852067\n"
     ]
    }
   ],
   "source": [
    "# Проверим на том же классе признаки умноженные на рандомную матрицу\n",
    "\n",
    "model.fit(features.dot(P), target)\n",
    "predictions = model.predict(features.dot(P))\n",
    "print(r2_score(target, predictions))"
   ]
  },
  {
   "cell_type": "markdown",
   "id": "c2c982a4",
   "metadata": {},
   "source": [
    "### Вывод\n",
    "\n",
    "Алгоритмом действия стало создание рандомной матрицы размером 4х4 и умножение ее на признаки перед обучением. Сравнение показателя R2 показало, что качество модели почти не ухудшилось в сравнении с обучением на не измененных признаках."
   ]
  },
  {
   "cell_type": "markdown",
   "id": "91a766d5",
   "metadata": {},
   "source": [
    "### 4. Запрограммируем этот алгоритм, применив матричные операции. Проверим, что качество линейной регрессии из sklearn не отличается до и после преобразования. Применим метрику R2."
   ]
  },
  {
   "cell_type": "code",
   "execution_count": 81,
   "id": "c86ef375",
   "metadata": {},
   "outputs": [
    {
     "name": "stdout",
     "output_type": "stream",
     "text": [
      "MSE Score: 0.12527263826681606\n",
      "R2_Score для преобразованных  признаков:  0.4302010044852066\n"
     ]
    }
   ],
   "source": [
    "model = LinearRegression()\n",
    "model.fit(features, target)\n",
    "predictions = model.predict(features)\n",
    "mse = mean_squared_error(target, predictions)\n",
    "print('MSE Score:', mse)\n",
    "print('R2_Score для преобразованных  признаков: ',r2_score(target, predictions))"
   ]
  },
  {
   "cell_type": "code",
   "execution_count": 82,
   "id": "5d6358bd",
   "metadata": {},
   "outputs": [
    {
     "name": "stdout",
     "output_type": "stream",
     "text": [
      "MSE Score: 0.12527263826681603\n",
      "R2_Score для преобразованных  признаков:  0.4302010044852067\n"
     ]
    }
   ],
   "source": [
    "model.fit(features.dot(P), target)\n",
    "predictions = model.predict(features.dot(P))\n",
    "mse = mean_squared_error(target, predictions)\n",
    "print('MSE Score:', mse)\n",
    "print('R2_Score для преобразованных  признаков: ',r2_score(target, predictions))"
   ]
  },
  {
   "cell_type": "markdown",
   "id": "af42d70a",
   "metadata": {},
   "source": [
    "<div class=\"alert alert-block alert-info\">\n",
    "    <ul type='circle'>\n",
    "        \n",
    "### Общий вывод\n",
    "        \n",
    "**Мы доказали как математически, так и на модели, что данные пользователей можно защитить перемножив их на обратимую матрицу. При этом качество модели не изменится.**"
   ]
  }
 ],
 "metadata": {
  "colab": {
   "name": "PySparkSprint.ipynb",
   "provenance": []
  },
  "kernelspec": {
   "display_name": "Python 3 (ipykernel)",
   "language": "python",
   "name": "python3"
  },
  "language_info": {
   "codemirror_mode": {
    "name": "ipython",
    "version": 3
   },
   "file_extension": ".py",
   "mimetype": "text/x-python",
   "name": "python",
   "nbconvert_exporter": "python",
   "pygments_lexer": "ipython3",
   "version": "3.8.8"
  },
  "toc": {
   "base_numbering": 1,
   "nav_menu": {},
   "number_sections": true,
   "sideBar": true,
   "skip_h1_title": true,
   "title_cell": "Table of Contents",
   "title_sidebar": "Contents",
   "toc_cell": false,
   "toc_position": {},
   "toc_section_display": true,
   "toc_window_display": false
  }
 },
 "nbformat": 4,
 "nbformat_minor": 5
}
