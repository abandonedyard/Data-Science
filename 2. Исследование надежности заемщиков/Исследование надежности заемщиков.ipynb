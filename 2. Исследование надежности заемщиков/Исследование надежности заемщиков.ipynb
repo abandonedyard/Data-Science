{
 "cells": [
  {
   "cell_type": "markdown",
   "id": "7c28646a",
   "metadata": {},
   "source": [
    "# Исследование надежности заемщиков."
   ]
  },
  {
   "cell_type": "markdown",
   "id": "62b78ca6",
   "metadata": {},
   "source": [
    "### Шаг 1. Обзор данных"
   ]
  },
  {
   "cell_type": "markdown",
   "id": "41d58749",
   "metadata": {},
   "source": [
    "Прочитаем датафрейм и посмотрим информацию о нем"
   ]
  },
  {
   "cell_type": "code",
   "execution_count": 183,
   "id": "9c60221f",
   "metadata": {},
   "outputs": [
    {
     "name": "stdout",
     "output_type": "stream",
     "text": [
      "<class 'pandas.core.frame.DataFrame'>\n",
      "RangeIndex: 21525 entries, 0 to 21524\n",
      "Data columns (total 12 columns):\n",
      " #   Column            Non-Null Count  Dtype  \n",
      "---  ------            --------------  -----  \n",
      " 0   children          21525 non-null  int64  \n",
      " 1   days_employed     19351 non-null  float64\n",
      " 2   dob_years         21525 non-null  int64  \n",
      " 3   education         21525 non-null  object \n",
      " 4   education_id      21525 non-null  int64  \n",
      " 5   family_status     21525 non-null  object \n",
      " 6   family_status_id  21525 non-null  int64  \n",
      " 7   gender            21525 non-null  object \n",
      " 8   income_type       21525 non-null  object \n",
      " 9   debt              21525 non-null  int64  \n",
      " 10  total_income      19351 non-null  float64\n",
      " 11  purpose           21525 non-null  object \n",
      "dtypes: float64(2), int64(5), object(5)\n",
      "memory usage: 2.0+ MB\n"
     ]
    }
   ],
   "source": [
    "import pandas as pd\n",
    "df = pd.read_csv('/Users/danil/Downloads/data (1).csv')\n",
    "df.info()"
   ]
  },
  {
   "cell_type": "code",
   "execution_count": 184,
   "id": "47fa919d",
   "metadata": {},
   "outputs": [
    {
     "data": {
      "text/html": [
       "<div>\n",
       "<style scoped>\n",
       "    .dataframe tbody tr th:only-of-type {\n",
       "        vertical-align: middle;\n",
       "    }\n",
       "\n",
       "    .dataframe tbody tr th {\n",
       "        vertical-align: top;\n",
       "    }\n",
       "\n",
       "    .dataframe thead th {\n",
       "        text-align: right;\n",
       "    }\n",
       "</style>\n",
       "<table border=\"1\" class=\"dataframe\">\n",
       "  <thead>\n",
       "    <tr style=\"text-align: right;\">\n",
       "      <th></th>\n",
       "      <th>children</th>\n",
       "      <th>days_employed</th>\n",
       "      <th>dob_years</th>\n",
       "      <th>education</th>\n",
       "      <th>education_id</th>\n",
       "      <th>family_status</th>\n",
       "      <th>family_status_id</th>\n",
       "      <th>gender</th>\n",
       "      <th>income_type</th>\n",
       "      <th>debt</th>\n",
       "      <th>total_income</th>\n",
       "      <th>purpose</th>\n",
       "    </tr>\n",
       "  </thead>\n",
       "  <tbody>\n",
       "    <tr>\n",
       "      <th>0</th>\n",
       "      <td>1</td>\n",
       "      <td>-8437.673028</td>\n",
       "      <td>42</td>\n",
       "      <td>высшее</td>\n",
       "      <td>0</td>\n",
       "      <td>женат / замужем</td>\n",
       "      <td>0</td>\n",
       "      <td>F</td>\n",
       "      <td>сотрудник</td>\n",
       "      <td>0</td>\n",
       "      <td>253875.639453</td>\n",
       "      <td>покупка жилья</td>\n",
       "    </tr>\n",
       "    <tr>\n",
       "      <th>1</th>\n",
       "      <td>1</td>\n",
       "      <td>-4024.803754</td>\n",
       "      <td>36</td>\n",
       "      <td>среднее</td>\n",
       "      <td>1</td>\n",
       "      <td>женат / замужем</td>\n",
       "      <td>0</td>\n",
       "      <td>F</td>\n",
       "      <td>сотрудник</td>\n",
       "      <td>0</td>\n",
       "      <td>112080.014102</td>\n",
       "      <td>приобретение автомобиля</td>\n",
       "    </tr>\n",
       "    <tr>\n",
       "      <th>2</th>\n",
       "      <td>0</td>\n",
       "      <td>-5623.422610</td>\n",
       "      <td>33</td>\n",
       "      <td>Среднее</td>\n",
       "      <td>1</td>\n",
       "      <td>женат / замужем</td>\n",
       "      <td>0</td>\n",
       "      <td>M</td>\n",
       "      <td>сотрудник</td>\n",
       "      <td>0</td>\n",
       "      <td>145885.952297</td>\n",
       "      <td>покупка жилья</td>\n",
       "    </tr>\n",
       "    <tr>\n",
       "      <th>3</th>\n",
       "      <td>3</td>\n",
       "      <td>-4124.747207</td>\n",
       "      <td>32</td>\n",
       "      <td>среднее</td>\n",
       "      <td>1</td>\n",
       "      <td>женат / замужем</td>\n",
       "      <td>0</td>\n",
       "      <td>M</td>\n",
       "      <td>сотрудник</td>\n",
       "      <td>0</td>\n",
       "      <td>267628.550329</td>\n",
       "      <td>дополнительное образование</td>\n",
       "    </tr>\n",
       "    <tr>\n",
       "      <th>4</th>\n",
       "      <td>0</td>\n",
       "      <td>340266.072047</td>\n",
       "      <td>53</td>\n",
       "      <td>среднее</td>\n",
       "      <td>1</td>\n",
       "      <td>гражданский брак</td>\n",
       "      <td>1</td>\n",
       "      <td>F</td>\n",
       "      <td>пенсионер</td>\n",
       "      <td>0</td>\n",
       "      <td>158616.077870</td>\n",
       "      <td>сыграть свадьбу</td>\n",
       "    </tr>\n",
       "  </tbody>\n",
       "</table>\n",
       "</div>"
      ],
      "text/plain": [
       "   children  days_employed  dob_years education  education_id  \\\n",
       "0         1   -8437.673028         42    высшее             0   \n",
       "1         1   -4024.803754         36   среднее             1   \n",
       "2         0   -5623.422610         33   Среднее             1   \n",
       "3         3   -4124.747207         32   среднее             1   \n",
       "4         0  340266.072047         53   среднее             1   \n",
       "\n",
       "      family_status  family_status_id gender income_type  debt   total_income  \\\n",
       "0   женат / замужем                 0      F   сотрудник     0  253875.639453   \n",
       "1   женат / замужем                 0      F   сотрудник     0  112080.014102   \n",
       "2   женат / замужем                 0      M   сотрудник     0  145885.952297   \n",
       "3   женат / замужем                 0      M   сотрудник     0  267628.550329   \n",
       "4  гражданский брак                 1      F   пенсионер     0  158616.077870   \n",
       "\n",
       "                      purpose  \n",
       "0               покупка жилья  \n",
       "1     приобретение автомобиля  \n",
       "2               покупка жилья  \n",
       "3  дополнительное образование  \n",
       "4             сыграть свадьбу  "
      ]
     },
     "execution_count": 184,
     "metadata": {},
     "output_type": "execute_result"
    }
   ],
   "source": [
    "df.head()"
   ]
  },
  {
   "cell_type": "markdown",
   "id": "462b87c5",
   "metadata": {},
   "source": [
    "Сразу видим ошибки в столбце 'days_employed' – минусовые значения"
   ]
  },
  {
   "cell_type": "markdown",
   "id": "6ebf251a",
   "metadata": {},
   "source": [
    "Посмотрим все категориальные значениея. Начнем со столбца 'children'"
   ]
  },
  {
   "cell_type": "code",
   "execution_count": 185,
   "id": "2c97dc07",
   "metadata": {},
   "outputs": [
    {
     "data": {
      "text/plain": [
       " 0     14149\n",
       " 1      4818\n",
       " 2      2055\n",
       " 3       330\n",
       " 20       76\n",
       "-1        47\n",
       " 4        41\n",
       " 5         9\n",
       "Name: children, dtype: int64"
      ]
     },
     "execution_count": 185,
     "metadata": {},
     "output_type": "execute_result"
    }
   ],
   "source": [
    "df['children'].value_counts()"
   ]
  },
  {
   "cell_type": "markdown",
   "id": "f6703055",
   "metadata": {},
   "source": [
    "Видим, что есть ошибки:\n",
    "\n",
    "1. Минусовое колличество детей.\n",
    "2. 20 детей."
   ]
  },
  {
   "cell_type": "markdown",
   "id": "d52d9cd1",
   "metadata": {},
   "source": [
    "Далее идет 'dob_years'"
   ]
  },
  {
   "cell_type": "code",
   "execution_count": 186,
   "id": "3a0feb23",
   "metadata": {},
   "outputs": [
    {
     "data": {
      "text/plain": [
       "0     101\n",
       "19     14\n",
       "20     51\n",
       "21    111\n",
       "22    183\n",
       "23    254\n",
       "24    264\n",
       "25    357\n",
       "26    408\n",
       "27    493\n",
       "28    503\n",
       "29    545\n",
       "30    540\n",
       "31    560\n",
       "32    510\n",
       "33    581\n",
       "34    603\n",
       "35    617\n",
       "36    555\n",
       "37    537\n",
       "38    598\n",
       "39    573\n",
       "40    609\n",
       "41    607\n",
       "42    597\n",
       "43    513\n",
       "44    547\n",
       "45    497\n",
       "46    475\n",
       "47    480\n",
       "48    538\n",
       "49    508\n",
       "50    514\n",
       "51    448\n",
       "52    484\n",
       "53    459\n",
       "54    479\n",
       "55    443\n",
       "56    487\n",
       "57    460\n",
       "58    461\n",
       "59    444\n",
       "60    377\n",
       "61    355\n",
       "62    352\n",
       "63    269\n",
       "64    265\n",
       "65    194\n",
       "66    183\n",
       "67    167\n",
       "68     99\n",
       "69     85\n",
       "70     65\n",
       "71     58\n",
       "72     33\n",
       "73      8\n",
       "74      6\n",
       "75      1\n",
       "Name: dob_years, dtype: int64"
      ]
     },
     "execution_count": 186,
     "metadata": {},
     "output_type": "execute_result"
    }
   ],
   "source": [
    "df['dob_years'].value_counts().sort_index()"
   ]
  },
  {
   "cell_type": "markdown",
   "id": "82e5d682",
   "metadata": {},
   "source": [
    "Ошибка: есть возраст '0' лет. Жизнь в России тьяжелая, но не настолько, чтобы с рождения брать кредиты."
   ]
  },
  {
   "cell_type": "markdown",
   "id": "65cce817",
   "metadata": {},
   "source": [
    "Смотрим столбец 'education'"
   ]
  },
  {
   "cell_type": "code",
   "execution_count": 187,
   "id": "c0426db5",
   "metadata": {},
   "outputs": [
    {
     "data": {
      "text/plain": [
       "среднее                13750\n",
       "высшее                  4718\n",
       "СРЕДНЕЕ                  772\n",
       "Среднее                  711\n",
       "неоконченное высшее      668\n",
       "ВЫСШЕЕ                   274\n",
       "Высшее                   268\n",
       "начальное                250\n",
       "Неоконченное высшее       47\n",
       "НЕОКОНЧЕННОЕ ВЫСШЕЕ       29\n",
       "НАЧАЛЬНОЕ                 17\n",
       "Начальное                 15\n",
       "ученая степень             4\n",
       "УЧЕНАЯ СТЕПЕНЬ             1\n",
       "Ученая степень             1\n",
       "Name: education, dtype: int64"
      ]
     },
     "execution_count": 187,
     "metadata": {},
     "output_type": "execute_result"
    }
   ],
   "source": [
    "df['education'].sort_values().value_counts()"
   ]
  },
  {
   "cell_type": "markdown",
   "id": "28f80d0a",
   "metadata": {},
   "source": [
    "Видим, что есть дубли которые нужно удалить"
   ]
  },
  {
   "cell_type": "markdown",
   "id": "5823b391",
   "metadata": {},
   "source": [
    "Смотрим столбец 'education_id'"
   ]
  },
  {
   "cell_type": "code",
   "execution_count": 188,
   "id": "56b3885e",
   "metadata": {},
   "outputs": [
    {
     "data": {
      "text/plain": [
       "1    15233\n",
       "0     5260\n",
       "2      744\n",
       "3      282\n",
       "4        6\n",
       "Name: education_id, dtype: int64"
      ]
     },
     "execution_count": 188,
     "metadata": {},
     "output_type": "execute_result"
    }
   ],
   "source": [
    "df['education_id'].value_counts()"
   ]
  },
  {
   "cell_type": "markdown",
   "id": "4a9c79d0",
   "metadata": {},
   "source": [
    "Тут все содится. В нашей таблице есть 5 уровней образования. Так же реалестично выглядит картина того, что большинство заевщиков имеет среднее образование. И чем выше уровень образования, тем меньше людей берущих кредит."
   ]
  },
  {
   "cell_type": "markdown",
   "id": "a5ba168b",
   "metadata": {},
   "source": [
    "Смотрим столбец 'family_status'"
   ]
  },
  {
   "cell_type": "code",
   "execution_count": 189,
   "id": "20c6769e",
   "metadata": {},
   "outputs": [
    {
     "data": {
      "text/plain": [
       "женат / замужем          12380\n",
       "гражданский брак          4177\n",
       "Не женат / не замужем     2813\n",
       "в разводе                 1195\n",
       "вдовец / вдова             960\n",
       "Name: family_status, dtype: int64"
      ]
     },
     "execution_count": 189,
     "metadata": {},
     "output_type": "execute_result"
    }
   ],
   "source": [
    "df['family_status'].value_counts()"
   ]
  },
  {
   "cell_type": "markdown",
   "id": "0494c124",
   "metadata": {},
   "source": [
    "Большинство людей берущих кредит находятся в браке"
   ]
  },
  {
   "cell_type": "code",
   "execution_count": 190,
   "id": "b48c45c2",
   "metadata": {},
   "outputs": [
    {
     "data": {
      "text/plain": [
       "0    12380\n",
       "1     4177\n",
       "4     2813\n",
       "3     1195\n",
       "2      960\n",
       "Name: family_status_id, dtype: int64"
      ]
     },
     "execution_count": 190,
     "metadata": {},
     "output_type": "execute_result"
    }
   ],
   "source": [
    "df['family_status_id'].value_counts()"
   ]
  },
  {
   "cell_type": "markdown",
   "id": "eedd5c02",
   "metadata": {},
   "source": [
    "Семейный статус id соответствует категориям"
   ]
  },
  {
   "cell_type": "markdown",
   "id": "22021843",
   "metadata": {},
   "source": [
    "Смотрим 'gender'"
   ]
  },
  {
   "cell_type": "code",
   "execution_count": 191,
   "id": "791f78c2",
   "metadata": {},
   "outputs": [
    {
     "data": {
      "text/plain": [
       "F      14236\n",
       "M       7288\n",
       "XNA        1\n",
       "Name: gender, dtype: int64"
      ]
     },
     "execution_count": 191,
     "metadata": {},
     "output_type": "execute_result"
    }
   ],
   "source": [
    "df['gender'].value_counts()"
   ]
  },
  {
   "cell_type": "markdown",
   "id": "8016c7a6",
   "metadata": {},
   "source": [
    "Есть всего один неопределенный пол"
   ]
  },
  {
   "cell_type": "markdown",
   "id": "d8aed9d9",
   "metadata": {},
   "source": [
    "Смотрим 'income_type'"
   ]
  },
  {
   "cell_type": "code",
   "execution_count": 192,
   "id": "1d8a7648",
   "metadata": {},
   "outputs": [
    {
     "data": {
      "text/plain": [
       "сотрудник          11119\n",
       "компаньон           5085\n",
       "пенсионер           3856\n",
       "госслужащий         1459\n",
       "безработный            2\n",
       "предприниматель        2\n",
       "студент                1\n",
       "в декрете              1\n",
       "Name: income_type, dtype: int64"
      ]
     },
     "execution_count": 192,
     "metadata": {},
     "output_type": "execute_result"
    }
   ],
   "source": [
    "df['income_type'].value_counts()"
   ]
  },
  {
   "cell_type": "markdown",
   "id": "1c5eb0bc",
   "metadata": {},
   "source": [
    "Смотрим сколько заемщиков имели задолжность"
   ]
  },
  {
   "cell_type": "code",
   "execution_count": 194,
   "id": "9dc79da6",
   "metadata": {},
   "outputs": [
    {
     "data": {
      "text/plain": [
       "0    19784\n",
       "1     1741\n",
       "Name: debt, dtype: int64"
      ]
     },
     "execution_count": 194,
     "metadata": {},
     "output_type": "execute_result"
    }
   ],
   "source": [
    "df['debt'].value_counts()"
   ]
  },
  {
   "cell_type": "markdown",
   "id": "f8ab59dd",
   "metadata": {},
   "source": [
    "Смотрим цели займов"
   ]
  },
  {
   "cell_type": "code",
   "execution_count": 195,
   "id": "ccd83517",
   "metadata": {},
   "outputs": [
    {
     "data": {
      "text/plain": [
       "автомобили                                478\n",
       "автомобиль                                495\n",
       "высшее образование                        453\n",
       "дополнительное образование                462\n",
       "жилье                                     647\n",
       "заняться высшим образованием              496\n",
       "заняться образованием                     412\n",
       "на покупку автомобиля                     472\n",
       "на покупку подержанного автомобиля        479\n",
       "на покупку своего автомобиля              505\n",
       "на проведение свадьбы                     777\n",
       "недвижимость                              634\n",
       "образование                               447\n",
       "операции с жильем                         653\n",
       "операции с коммерческой недвижимостью     651\n",
       "операции с недвижимостью                  676\n",
       "операции со своей недвижимостью           630\n",
       "покупка жилой недвижимости                607\n",
       "покупка жилья                             647\n",
       "покупка жилья для сдачи                   653\n",
       "покупка жилья для семьи                   641\n",
       "покупка коммерческой недвижимости         664\n",
       "покупка недвижимости                      624\n",
       "покупка своего жилья                      620\n",
       "получение высшего образования             426\n",
       "получение дополнительного образования     447\n",
       "получение образования                     443\n",
       "приобретение автомобиля                   462\n",
       "профильное образование                    436\n",
       "ремонт жилью                              612\n",
       "свадьба                                   797\n",
       "свой автомобиль                           480\n",
       "сделка с автомобилем                      455\n",
       "сделка с подержанным автомобилем          489\n",
       "строительство жилой недвижимости          626\n",
       "строительство недвижимости                620\n",
       "строительство собственной недвижимости    635\n",
       "сыграть свадьбу                           774\n",
       "Name: purpose, dtype: int64"
      ]
     },
     "execution_count": 195,
     "metadata": {},
     "output_type": "execute_result"
    }
   ],
   "source": [
    "df['purpose'].value_counts().sort_index()"
   ]
  },
  {
   "cell_type": "markdown",
   "id": "2fea3403",
   "metadata": {},
   "source": [
    "Есть много дублей которые нужно удалить"
   ]
  },
  {
   "cell_type": "markdown",
   "id": "c57294bf",
   "metadata": {},
   "source": [
    "### Шаг 2.1 Заполнение пропусков"
   ]
  },
  {
   "cell_type": "markdown",
   "id": "8732efde",
   "metadata": {},
   "source": [
    "Находим столбцы с пропусками"
   ]
  },
  {
   "cell_type": "code",
   "execution_count": 196,
   "id": "6a78a628",
   "metadata": {},
   "outputs": [
    {
     "data": {
      "text/plain": [
       "children               0\n",
       "days_employed       2174\n",
       "dob_years              0\n",
       "education              0\n",
       "education_id           0\n",
       "family_status          0\n",
       "family_status_id       0\n",
       "gender                 0\n",
       "income_type            0\n",
       "debt                   0\n",
       "total_income        2174\n",
       "purpose                0\n",
       "dtype: int64"
      ]
     },
     "execution_count": 196,
     "metadata": {},
     "output_type": "execute_result"
    }
   ],
   "source": [
    "df.isna().sum()"
   ]
  },
  {
   "cell_type": "markdown",
   "id": "84b104d9",
   "metadata": {},
   "source": [
    "Пропущены значения в столбцах: 'days_employed' и 'total_income'\n",
    "\n",
    "Возможные причины появления пропусков в данных: \n",
    "\n",
    "1. Пропуски в total_income скорее всего связаны с технической ошибкой при обработке данных, так как зарабатная плата один из обязательных пунктов при подаче заявки на кредитование. \n",
    "\n",
    "2. Пропуски в days_employed можно объяснить невозможностью отслеживать банком колличества отработанных дней заемщиком."
   ]
  },
  {
   "cell_type": "code",
   "execution_count": 197,
   "id": "020171ad",
   "metadata": {},
   "outputs": [
    {
     "name": "stdout",
     "output_type": "stream",
     "text": [
      "Доля пропущенных значения в столбцах days_employed и total_income составляет 11.23%\n"
     ]
    }
   ],
   "source": [
    "days_employed_ = 2174 / df['days_employed'].count() * 100\n",
    "print(f'Доля пропущенных значения в столбцах days_employed и total_income составляет {round(days_employed_, 2)}%')"
   ]
  },
  {
   "cell_type": "markdown",
   "id": "9fb61fc8",
   "metadata": {},
   "source": [
    "Возможные причины появления пропусков в данных:\n",
    "\n",
    "1. Пропуски в total_income скорее всего связаны с технической ошибкой при обработке данных, так как зарабатная плата один из обязательных пунктов при подаче заявки на кредитование.\n",
    "2. Пропуски в days_employed можно объяснить невозможностью отслеживать банком колличества отработанных дней заемщиком.\n",
    "\n",
    "Заполнить проуски в столбце total_income медианным значением – лучшее решение, поскольку оно показывает заработную плату большинства заемщиков и поэтому ближе всего к реальной з/п людей с проущенным значением"
   ]
  },
  {
   "cell_type": "code",
   "execution_count": 198,
   "id": "b34e5d7a",
   "metadata": {},
   "outputs": [],
   "source": [
    "total_income_median = df['total_income'].median()\n",
    "df['total_income'] = df['total_income'].fillna(total_income_median)"
   ]
  },
  {
   "cell_type": "markdown",
   "id": "841b572b",
   "metadata": {},
   "source": [
    "### Шаг 2.2 Проверка данных на аномалии и исправления."
   ]
  },
  {
   "cell_type": "markdown",
   "id": "03d5b096",
   "metadata": {},
   "source": [
    "Удаляем минусы из столбцов 'days_employed' и 'children'\n",
    "\n",
    "Считаем медиану для 'days_employed' и заполняем ей пустые значения"
   ]
  },
  {
   "cell_type": "code",
   "execution_count": 199,
   "id": "ff2aa49d",
   "metadata": {},
   "outputs": [],
   "source": [
    "df['days_employed'] = df['days_employed'].abs()\n",
    "days_employed_median = df['days_employed'].median()\n",
    "df['days_employed'] = df['days_employed'].fillna(days_employed_median)"
   ]
  },
  {
   "cell_type": "code",
   "execution_count": 200,
   "id": "b23471af",
   "metadata": {},
   "outputs": [],
   "source": [
    "df['children'] = df['children'].abs()"
   ]
  },
  {
   "cell_type": "markdown",
   "id": "3fc78259",
   "metadata": {},
   "source": [
    "### Шаг 2.3. Изменение типов данных."
   ]
  },
  {
   "cell_type": "markdown",
   "id": "2454ae7b",
   "metadata": {},
   "source": [
    "Меняем тип данных в столбце 'total_income' на целочисленный"
   ]
  },
  {
   "cell_type": "code",
   "execution_count": 201,
   "id": "46ca101f",
   "metadata": {},
   "outputs": [],
   "source": [
    "df['total_income'] = df['total_income'].astype('int64')"
   ]
  },
  {
   "cell_type": "markdown",
   "id": "8e824159",
   "metadata": {},
   "source": [
    "### Шаг 2.4. Удаление дубликатов."
   ]
  },
  {
   "cell_type": "code",
   "execution_count": 202,
   "id": "2099cba3",
   "metadata": {},
   "outputs": [],
   "source": [
    "# Приводим данные в столбцах к нижнему регистру\n",
    "\n",
    "df['education'] = df['education'].str.lower()\n",
    "df['family_status'] = df['family_status'].str.lower()\n",
    "df['income_type'] = df['income_type'].str.lower()\n",
    "df['purpose'] = df['purpose'].str.lower()"
   ]
  },
  {
   "cell_type": "code",
   "execution_count": 203,
   "id": "5e50328e",
   "metadata": {},
   "outputs": [],
   "source": [
    "# Удаляем дубликаты\n",
    "\n",
    "df = df.drop_duplicates().reset_index(drop=True)"
   ]
  },
  {
   "cell_type": "markdown",
   "id": "df43a3f0",
   "metadata": {},
   "source": [
    "Для удаления дубликатов, сначала все категориальные стоблцы (за исключением 'gender') были приведены к нижнему регистру, затем удалены дубликаты.\n",
    "\n",
    "Возможные причины появления дубликатов – заполнение данных разными людьми, в связи с чем были слова писались и с большой и смаленькой заглавной буквы."
   ]
  },
  {
   "cell_type": "markdown",
   "id": "4da9060d",
   "metadata": {},
   "source": [
    "### Шаг 2.5. Формирование дополнительных датафреймов словарей, декомпозиция исходного датафрейма."
   ]
  },
  {
   "cell_type": "code",
   "execution_count": 204,
   "id": "d22b70cd",
   "metadata": {},
   "outputs": [],
   "source": [
    "# Создайте два новых датафрейма, в которых:\n",
    "# каждому уникальному значению из education соответствует уникальное значение education_id — в первом;\n",
    "# каждому уникальному значению из family_status соответствует уникальное значение family_status_id — во втором.\n",
    "# Удаляем из исходного датафрейма столбцы education и family_status, оставив только их идентификаторы: education_id и family_status_id.\n",
    "\n",
    "df_education = df[['education', 'education_id']]\n",
    "df_family_status = df[['family_status', 'family_status_id']]\n",
    "# df.drop(columns=['education', 'family_status'], inplace=True)"
   ]
  },
  {
   "cell_type": "code",
   "execution_count": 205,
   "id": "14525a1a",
   "metadata": {},
   "outputs": [
    {
     "data": {
      "text/html": [
       "<div>\n",
       "<style scoped>\n",
       "    .dataframe tbody tr th:only-of-type {\n",
       "        vertical-align: middle;\n",
       "    }\n",
       "\n",
       "    .dataframe tbody tr th {\n",
       "        vertical-align: top;\n",
       "    }\n",
       "\n",
       "    .dataframe thead th {\n",
       "        text-align: right;\n",
       "    }\n",
       "</style>\n",
       "<table border=\"1\" class=\"dataframe\">\n",
       "  <thead>\n",
       "    <tr style=\"text-align: right;\">\n",
       "      <th></th>\n",
       "      <th>education</th>\n",
       "      <th>education_id</th>\n",
       "    </tr>\n",
       "  </thead>\n",
       "  <tbody>\n",
       "    <tr>\n",
       "      <th>0</th>\n",
       "      <td>высшее</td>\n",
       "      <td>0</td>\n",
       "    </tr>\n",
       "    <tr>\n",
       "      <th>1</th>\n",
       "      <td>среднее</td>\n",
       "      <td>1</td>\n",
       "    </tr>\n",
       "    <tr>\n",
       "      <th>2</th>\n",
       "      <td>среднее</td>\n",
       "      <td>1</td>\n",
       "    </tr>\n",
       "    <tr>\n",
       "      <th>3</th>\n",
       "      <td>среднее</td>\n",
       "      <td>1</td>\n",
       "    </tr>\n",
       "    <tr>\n",
       "      <th>4</th>\n",
       "      <td>среднее</td>\n",
       "      <td>1</td>\n",
       "    </tr>\n",
       "    <tr>\n",
       "      <th>...</th>\n",
       "      <td>...</td>\n",
       "      <td>...</td>\n",
       "    </tr>\n",
       "    <tr>\n",
       "      <th>21449</th>\n",
       "      <td>среднее</td>\n",
       "      <td>1</td>\n",
       "    </tr>\n",
       "    <tr>\n",
       "      <th>21450</th>\n",
       "      <td>среднее</td>\n",
       "      <td>1</td>\n",
       "    </tr>\n",
       "    <tr>\n",
       "      <th>21451</th>\n",
       "      <td>среднее</td>\n",
       "      <td>1</td>\n",
       "    </tr>\n",
       "    <tr>\n",
       "      <th>21452</th>\n",
       "      <td>среднее</td>\n",
       "      <td>1</td>\n",
       "    </tr>\n",
       "    <tr>\n",
       "      <th>21453</th>\n",
       "      <td>среднее</td>\n",
       "      <td>1</td>\n",
       "    </tr>\n",
       "  </tbody>\n",
       "</table>\n",
       "<p>21454 rows × 2 columns</p>\n",
       "</div>"
      ],
      "text/plain": [
       "      education  education_id\n",
       "0        высшее             0\n",
       "1       среднее             1\n",
       "2       среднее             1\n",
       "3       среднее             1\n",
       "4       среднее             1\n",
       "...         ...           ...\n",
       "21449   среднее             1\n",
       "21450   среднее             1\n",
       "21451   среднее             1\n",
       "21452   среднее             1\n",
       "21453   среднее             1\n",
       "\n",
       "[21454 rows x 2 columns]"
      ]
     },
     "execution_count": 205,
     "metadata": {},
     "output_type": "execute_result"
    }
   ],
   "source": [
    "df_education"
   ]
  },
  {
   "cell_type": "code",
   "execution_count": 206,
   "id": "0976778a",
   "metadata": {},
   "outputs": [
    {
     "data": {
      "text/html": [
       "<div>\n",
       "<style scoped>\n",
       "    .dataframe tbody tr th:only-of-type {\n",
       "        vertical-align: middle;\n",
       "    }\n",
       "\n",
       "    .dataframe tbody tr th {\n",
       "        vertical-align: top;\n",
       "    }\n",
       "\n",
       "    .dataframe thead th {\n",
       "        text-align: right;\n",
       "    }\n",
       "</style>\n",
       "<table border=\"1\" class=\"dataframe\">\n",
       "  <thead>\n",
       "    <tr style=\"text-align: right;\">\n",
       "      <th></th>\n",
       "      <th>family_status</th>\n",
       "      <th>family_status_id</th>\n",
       "    </tr>\n",
       "  </thead>\n",
       "  <tbody>\n",
       "    <tr>\n",
       "      <th>0</th>\n",
       "      <td>женат / замужем</td>\n",
       "      <td>0</td>\n",
       "    </tr>\n",
       "    <tr>\n",
       "      <th>1</th>\n",
       "      <td>женат / замужем</td>\n",
       "      <td>0</td>\n",
       "    </tr>\n",
       "    <tr>\n",
       "      <th>2</th>\n",
       "      <td>женат / замужем</td>\n",
       "      <td>0</td>\n",
       "    </tr>\n",
       "    <tr>\n",
       "      <th>3</th>\n",
       "      <td>женат / замужем</td>\n",
       "      <td>0</td>\n",
       "    </tr>\n",
       "    <tr>\n",
       "      <th>4</th>\n",
       "      <td>гражданский брак</td>\n",
       "      <td>1</td>\n",
       "    </tr>\n",
       "    <tr>\n",
       "      <th>...</th>\n",
       "      <td>...</td>\n",
       "      <td>...</td>\n",
       "    </tr>\n",
       "    <tr>\n",
       "      <th>21449</th>\n",
       "      <td>гражданский брак</td>\n",
       "      <td>1</td>\n",
       "    </tr>\n",
       "    <tr>\n",
       "      <th>21450</th>\n",
       "      <td>женат / замужем</td>\n",
       "      <td>0</td>\n",
       "    </tr>\n",
       "    <tr>\n",
       "      <th>21451</th>\n",
       "      <td>гражданский брак</td>\n",
       "      <td>1</td>\n",
       "    </tr>\n",
       "    <tr>\n",
       "      <th>21452</th>\n",
       "      <td>женат / замужем</td>\n",
       "      <td>0</td>\n",
       "    </tr>\n",
       "    <tr>\n",
       "      <th>21453</th>\n",
       "      <td>женат / замужем</td>\n",
       "      <td>0</td>\n",
       "    </tr>\n",
       "  </tbody>\n",
       "</table>\n",
       "<p>21454 rows × 2 columns</p>\n",
       "</div>"
      ],
      "text/plain": [
       "          family_status  family_status_id\n",
       "0       женат / замужем                 0\n",
       "1       женат / замужем                 0\n",
       "2       женат / замужем                 0\n",
       "3       женат / замужем                 0\n",
       "4      гражданский брак                 1\n",
       "...                 ...               ...\n",
       "21449  гражданский брак                 1\n",
       "21450   женат / замужем                 0\n",
       "21451  гражданский брак                 1\n",
       "21452   женат / замужем                 0\n",
       "21453   женат / замужем                 0\n",
       "\n",
       "[21454 rows x 2 columns]"
      ]
     },
     "execution_count": 206,
     "metadata": {},
     "output_type": "execute_result"
    }
   ],
   "source": [
    "df_family_status"
   ]
  },
  {
   "cell_type": "markdown",
   "id": "2fd70664",
   "metadata": {},
   "source": [
    "### Шаг 2.6. Категоризация дохода."
   ]
  },
  {
   "cell_type": "code",
   "execution_count": 207,
   "id": "4988844d",
   "metadata": {},
   "outputs": [],
   "source": [
    "# На основании диапазонов, указанных ниже, создайте столбец total_income_category с категориями:\n",
    "# 0–30000 — 'E';\n",
    "# 30001–50000 — 'D';\n",
    "# 50001–200000 — 'C';\n",
    "# 200001–1000000 — 'B';\n",
    "# 1000001 и выше — 'A'\n",
    "\n",
    "def income(row):\n",
    "    if row <= 30000:\n",
    "        return 'E'\n",
    "    elif row <= 50000:\n",
    "        return 'D'\n",
    "    elif row <= 200000:\n",
    "        return 'C'\n",
    "    elif row <= 1000000:\n",
    "        return 'B'\n",
    "    else:\n",
    "        return 'A'"
   ]
  },
  {
   "cell_type": "code",
   "execution_count": 208,
   "id": "54d3cd91",
   "metadata": {},
   "outputs": [],
   "source": [
    "# Применяем функцию\n",
    "\n",
    "df['total_income_category'] = df['total_income'].apply(income)"
   ]
  },
  {
   "cell_type": "markdown",
   "id": "5dacda3c",
   "metadata": {},
   "source": [
    "### Шаг 2.7. Категоризация целей кредита."
   ]
  },
  {
   "cell_type": "code",
   "execution_count": 209,
   "id": "1700d4c0",
   "metadata": {},
   "outputs": [],
   "source": [
    "auto = ['автомобили', 'автомобиль', 'на покупку автомобиля', 'на покупку подержанного автомобиля','на покупку своего автомобиля', 'приобретение автомобиля', 'свой автомобиль', 'сделка с автомобилем', 'сделка с подержанным автомобилем']\n",
    "real_estate = ['жилье', 'недвижимость', 'операции с жильем', 'операции с коммерческой недвижимостью','операции с недвижимостью', 'операции со своей недвижимостью', 'покупка жилой недвижимости', 'покупка жилья','покупка жилья для сдачи', 'покупка жилья для семьи','покупка коммерческой недвижимости', 'покупка недвижимости','покупка своего жилья', 'строительство жилой недвижимости', 'строительство недвижимости','строительство собственной недвижимости', 'ремонт жилью']\n",
    "wedding = ['на проведение свадьбы', 'свадьба', 'сыграть свадьбу']\n",
    "education = ['высшее образование', 'дополнительное образование', 'заняться высшим образованием', 'заняться образованием', 'образование', 'получение высшего образования', 'получение дополнительного образования', 'получение образования', 'профильное образование']\n",
    "\n",
    "def income(row):\n",
    "    try:\n",
    "        if row in auto:\n",
    "            return 'операции с автомобилем'\n",
    "        elif row in real_estate:\n",
    "            return 'операции с недвижимостью'\n",
    "        elif row in wedding:\n",
    "            return 'проведение свадьбы'\n",
    "        elif row in education:\n",
    "            return 'получение образования'\n",
    "    except:\n",
    "        print('Ошибка. Не подходит ни под одну категорию')"
   ]
  },
  {
   "cell_type": "code",
   "execution_count": 210,
   "id": "646d4b11",
   "metadata": {},
   "outputs": [],
   "source": [
    "df['purpose_category'] = df['purpose'].apply(income)"
   ]
  },
  {
   "cell_type": "code",
   "execution_count": 212,
   "id": "efc7cfd3",
   "metadata": {},
   "outputs": [
    {
     "data": {
      "text/html": [
       "<div>\n",
       "<style scoped>\n",
       "    .dataframe tbody tr th:only-of-type {\n",
       "        vertical-align: middle;\n",
       "    }\n",
       "\n",
       "    .dataframe tbody tr th {\n",
       "        vertical-align: top;\n",
       "    }\n",
       "\n",
       "    .dataframe thead th {\n",
       "        text-align: right;\n",
       "    }\n",
       "</style>\n",
       "<table border=\"1\" class=\"dataframe\">\n",
       "  <thead>\n",
       "    <tr style=\"text-align: right;\">\n",
       "      <th></th>\n",
       "      <th>children</th>\n",
       "      <th>days_employed</th>\n",
       "      <th>dob_years</th>\n",
       "      <th>education</th>\n",
       "      <th>education_id</th>\n",
       "      <th>family_status</th>\n",
       "      <th>family_status_id</th>\n",
       "      <th>gender</th>\n",
       "      <th>income_type</th>\n",
       "      <th>debt</th>\n",
       "      <th>total_income</th>\n",
       "      <th>purpose</th>\n",
       "      <th>total_income_category</th>\n",
       "      <th>purpose_category</th>\n",
       "    </tr>\n",
       "  </thead>\n",
       "  <tbody>\n",
       "    <tr>\n",
       "      <th>0</th>\n",
       "      <td>1</td>\n",
       "      <td>8437.673028</td>\n",
       "      <td>42</td>\n",
       "      <td>высшее</td>\n",
       "      <td>0</td>\n",
       "      <td>женат / замужем</td>\n",
       "      <td>0</td>\n",
       "      <td>F</td>\n",
       "      <td>сотрудник</td>\n",
       "      <td>0</td>\n",
       "      <td>253875</td>\n",
       "      <td>покупка жилья</td>\n",
       "      <td>B</td>\n",
       "      <td>операции с недвижимостью</td>\n",
       "    </tr>\n",
       "    <tr>\n",
       "      <th>1</th>\n",
       "      <td>1</td>\n",
       "      <td>4024.803754</td>\n",
       "      <td>36</td>\n",
       "      <td>среднее</td>\n",
       "      <td>1</td>\n",
       "      <td>женат / замужем</td>\n",
       "      <td>0</td>\n",
       "      <td>F</td>\n",
       "      <td>сотрудник</td>\n",
       "      <td>0</td>\n",
       "      <td>112080</td>\n",
       "      <td>приобретение автомобиля</td>\n",
       "      <td>C</td>\n",
       "      <td>операции с автомобилем</td>\n",
       "    </tr>\n",
       "    <tr>\n",
       "      <th>2</th>\n",
       "      <td>0</td>\n",
       "      <td>5623.422610</td>\n",
       "      <td>33</td>\n",
       "      <td>среднее</td>\n",
       "      <td>1</td>\n",
       "      <td>женат / замужем</td>\n",
       "      <td>0</td>\n",
       "      <td>M</td>\n",
       "      <td>сотрудник</td>\n",
       "      <td>0</td>\n",
       "      <td>145885</td>\n",
       "      <td>покупка жилья</td>\n",
       "      <td>C</td>\n",
       "      <td>операции с недвижимостью</td>\n",
       "    </tr>\n",
       "    <tr>\n",
       "      <th>3</th>\n",
       "      <td>3</td>\n",
       "      <td>4124.747207</td>\n",
       "      <td>32</td>\n",
       "      <td>среднее</td>\n",
       "      <td>1</td>\n",
       "      <td>женат / замужем</td>\n",
       "      <td>0</td>\n",
       "      <td>M</td>\n",
       "      <td>сотрудник</td>\n",
       "      <td>0</td>\n",
       "      <td>267628</td>\n",
       "      <td>дополнительное образование</td>\n",
       "      <td>B</td>\n",
       "      <td>получение образования</td>\n",
       "    </tr>\n",
       "    <tr>\n",
       "      <th>4</th>\n",
       "      <td>0</td>\n",
       "      <td>340266.072047</td>\n",
       "      <td>53</td>\n",
       "      <td>среднее</td>\n",
       "      <td>1</td>\n",
       "      <td>гражданский брак</td>\n",
       "      <td>1</td>\n",
       "      <td>F</td>\n",
       "      <td>пенсионер</td>\n",
       "      <td>0</td>\n",
       "      <td>158616</td>\n",
       "      <td>сыграть свадьбу</td>\n",
       "      <td>C</td>\n",
       "      <td>проведение свадьбы</td>\n",
       "    </tr>\n",
       "  </tbody>\n",
       "</table>\n",
       "</div>"
      ],
      "text/plain": [
       "   children  days_employed  dob_years education  education_id  \\\n",
       "0         1    8437.673028         42    высшее             0   \n",
       "1         1    4024.803754         36   среднее             1   \n",
       "2         0    5623.422610         33   среднее             1   \n",
       "3         3    4124.747207         32   среднее             1   \n",
       "4         0  340266.072047         53   среднее             1   \n",
       "\n",
       "      family_status  family_status_id gender income_type  debt  total_income  \\\n",
       "0   женат / замужем                 0      F   сотрудник     0        253875   \n",
       "1   женат / замужем                 0      F   сотрудник     0        112080   \n",
       "2   женат / замужем                 0      M   сотрудник     0        145885   \n",
       "3   женат / замужем                 0      M   сотрудник     0        267628   \n",
       "4  гражданский брак                 1      F   пенсионер     0        158616   \n",
       "\n",
       "                      purpose total_income_category          purpose_category  \n",
       "0               покупка жилья                     B  операции с недвижимостью  \n",
       "1     приобретение автомобиля                     C    операции с автомобилем  \n",
       "2               покупка жилья                     C  операции с недвижимостью  \n",
       "3  дополнительное образование                     B     получение образования  \n",
       "4             сыграть свадьбу                     C        проведение свадьбы  "
      ]
     },
     "execution_count": 212,
     "metadata": {},
     "output_type": "execute_result"
    }
   ],
   "source": [
    "df.head()"
   ]
  },
  {
   "cell_type": "markdown",
   "id": "bb841749",
   "metadata": {},
   "source": [
    "### Ответы на вопросы."
   ]
  },
  {
   "cell_type": "markdown",
   "id": "91e853a3",
   "metadata": {},
   "source": [
    "##### Вопрос 1: Есть ли зависимость между количеством детей и возвратом кредита в срок?"
   ]
  },
  {
   "cell_type": "code",
   "execution_count": 220,
   "id": "e90f4121",
   "metadata": {},
   "outputs": [
    {
     "data": {
      "text/html": [
       "<div>\n",
       "<style scoped>\n",
       "    .dataframe tbody tr th:only-of-type {\n",
       "        vertical-align: middle;\n",
       "    }\n",
       "\n",
       "    .dataframe tbody tr th {\n",
       "        vertical-align: top;\n",
       "    }\n",
       "\n",
       "    .dataframe thead th {\n",
       "        text-align: right;\n",
       "    }\n",
       "</style>\n",
       "<table border=\"1\" class=\"dataframe\">\n",
       "  <thead>\n",
       "    <tr style=\"text-align: right;\">\n",
       "      <th></th>\n",
       "      <th>debt</th>\n",
       "      <th>count</th>\n",
       "    </tr>\n",
       "    <tr>\n",
       "      <th>children</th>\n",
       "      <th></th>\n",
       "      <th></th>\n",
       "    </tr>\n",
       "  </thead>\n",
       "  <tbody>\n",
       "    <tr>\n",
       "      <th>5</th>\n",
       "      <td>0.000000</td>\n",
       "      <td>9</td>\n",
       "    </tr>\n",
       "    <tr>\n",
       "      <th>0</th>\n",
       "      <td>0.075438</td>\n",
       "      <td>14091</td>\n",
       "    </tr>\n",
       "    <tr>\n",
       "      <th>3</th>\n",
       "      <td>0.081818</td>\n",
       "      <td>330</td>\n",
       "    </tr>\n",
       "    <tr>\n",
       "      <th>1</th>\n",
       "      <td>0.091658</td>\n",
       "      <td>4855</td>\n",
       "    </tr>\n",
       "    <tr>\n",
       "      <th>2</th>\n",
       "      <td>0.094542</td>\n",
       "      <td>2052</td>\n",
       "    </tr>\n",
       "    <tr>\n",
       "      <th>4</th>\n",
       "      <td>0.097561</td>\n",
       "      <td>41</td>\n",
       "    </tr>\n",
       "    <tr>\n",
       "      <th>20</th>\n",
       "      <td>0.105263</td>\n",
       "      <td>76</td>\n",
       "    </tr>\n",
       "  </tbody>\n",
       "</table>\n",
       "</div>"
      ],
      "text/plain": [
       "              debt  count\n",
       "children                 \n",
       "5         0.000000      9\n",
       "0         0.075438  14091\n",
       "3         0.081818    330\n",
       "1         0.091658   4855\n",
       "2         0.094542   2052\n",
       "4         0.097561     41\n",
       "20        0.105263     76"
      ]
     },
     "execution_count": 220,
     "metadata": {},
     "output_type": "execute_result"
    }
   ],
   "source": [
    "children_pivot = pd.pivot_table(df, index='children', values='debt').sort_values(by='debt',ascending=True) \n",
    "children_siries = df[['children']].value_counts()\n",
    "children_merge = children_pivot.merge(children_siries.rename('count'), on='children', how='left')\n",
    "children_merge"
   ]
  },
  {
   "cell_type": "markdown",
   "id": "8209751b",
   "metadata": {},
   "source": [
    "##### Вывод 1:"
   ]
  },
  {
   "cell_type": "markdown",
   "id": "150145fa",
   "metadata": {},
   "source": [
    "Из таблицы мы видим, что задолжность отсутствует у заемщиков с 5-ю детьми. Однако это не показательно, поскольку в этой категории всего 9 заемщиков.\n",
    "\n",
    "Куда более показательно, что отсутсвие детей положительно вляет на выплату займа. \n",
    "\n",
    "А вот количество детей не так очевидно влияет на результат. Содной стороны заемщики с 3 детьми лучше остальных выплачивают кредиты, но с другой – выборка по ним в разы меньше чем по заемщикам с 1 и 2 детьми."
   ]
  },
  {
   "cell_type": "markdown",
   "id": "07aacf92",
   "metadata": {},
   "source": [
    "##### Вопрос 2: Есть ли зависимость между семейным положением и возвратом кредита в срок?"
   ]
  },
  {
   "cell_type": "code",
   "execution_count": 216,
   "id": "c69e8399",
   "metadata": {},
   "outputs": [
    {
     "data": {
      "text/html": [
       "<div>\n",
       "<style scoped>\n",
       "    .dataframe tbody tr th:only-of-type {\n",
       "        vertical-align: middle;\n",
       "    }\n",
       "\n",
       "    .dataframe tbody tr th {\n",
       "        vertical-align: top;\n",
       "    }\n",
       "\n",
       "    .dataframe thead th {\n",
       "        text-align: right;\n",
       "    }\n",
       "</style>\n",
       "<table border=\"1\" class=\"dataframe\">\n",
       "  <thead>\n",
       "    <tr style=\"text-align: right;\">\n",
       "      <th></th>\n",
       "      <th>debt</th>\n",
       "      <th>count</th>\n",
       "    </tr>\n",
       "    <tr>\n",
       "      <th>family_status</th>\n",
       "      <th></th>\n",
       "      <th></th>\n",
       "    </tr>\n",
       "  </thead>\n",
       "  <tbody>\n",
       "    <tr>\n",
       "      <th>вдовец / вдова</th>\n",
       "      <td>0.065693</td>\n",
       "      <td>959</td>\n",
       "    </tr>\n",
       "    <tr>\n",
       "      <th>в разводе</th>\n",
       "      <td>0.071130</td>\n",
       "      <td>1195</td>\n",
       "    </tr>\n",
       "    <tr>\n",
       "      <th>женат / замужем</th>\n",
       "      <td>0.075452</td>\n",
       "      <td>12339</td>\n",
       "    </tr>\n",
       "    <tr>\n",
       "      <th>гражданский брак</th>\n",
       "      <td>0.093471</td>\n",
       "      <td>4151</td>\n",
       "    </tr>\n",
       "    <tr>\n",
       "      <th>не женат / не замужем</th>\n",
       "      <td>0.097509</td>\n",
       "      <td>2810</td>\n",
       "    </tr>\n",
       "  </tbody>\n",
       "</table>\n",
       "</div>"
      ],
      "text/plain": [
       "                           debt  count\n",
       "family_status                         \n",
       "вдовец / вдова         0.065693    959\n",
       "в разводе              0.071130   1195\n",
       "женат / замужем        0.075452  12339\n",
       "гражданский брак       0.093471   4151\n",
       "не женат / не замужем  0.097509   2810"
      ]
     },
     "execution_count": 216,
     "metadata": {},
     "output_type": "execute_result"
    }
   ],
   "source": [
    "family_status_pivot = pd.pivot_table(df, index='family_status', values='debt').sort_values(by='debt',ascending=True) \n",
    "family_status_siries = df[['family_status']].value_counts()\n",
    "family_status_merge = family_status_pivot.merge(family_status_siries.rename('count'), on='family_status', how='left')\n",
    "family_status_merge"
   ]
  },
  {
   "cell_type": "markdown",
   "id": "7c8f0624",
   "metadata": {},
   "source": [
    "##### Вывод 2:"
   ]
  },
  {
   "cell_type": "markdown",
   "id": "b842f47a",
   "metadata": {},
   "source": [
    "Из таблицы видно, что люди которые никогда небыли в браке – хуже всего отдают кредиты.\n",
    "\n",
    "Однако разведенные люди или вдовы/вдовцы выплачивают займы лучше чем те, которые находятся в браке.\n",
    "\n",
    "Предпологаю, что брак помогает быть более ответственным."
   ]
  },
  {
   "cell_type": "markdown",
   "id": "787ddfd4",
   "metadata": {},
   "source": [
    "##### Вопрос 3: Есть ли зависимость между уровнем дохода и возвратом кредита в срок?"
   ]
  },
  {
   "cell_type": "code",
   "execution_count": 218,
   "id": "c1badebe",
   "metadata": {},
   "outputs": [
    {
     "data": {
      "text/html": [
       "<div>\n",
       "<style scoped>\n",
       "    .dataframe tbody tr th:only-of-type {\n",
       "        vertical-align: middle;\n",
       "    }\n",
       "\n",
       "    .dataframe tbody tr th {\n",
       "        vertical-align: top;\n",
       "    }\n",
       "\n",
       "    .dataframe thead th {\n",
       "        text-align: right;\n",
       "    }\n",
       "</style>\n",
       "<table border=\"1\" class=\"dataframe\">\n",
       "  <thead>\n",
       "    <tr style=\"text-align: right;\">\n",
       "      <th></th>\n",
       "      <th>debt</th>\n",
       "      <th>count</th>\n",
       "    </tr>\n",
       "    <tr>\n",
       "      <th>total_income_category</th>\n",
       "      <th></th>\n",
       "      <th></th>\n",
       "    </tr>\n",
       "  </thead>\n",
       "  <tbody>\n",
       "    <tr>\n",
       "      <th>D</th>\n",
       "      <td>0.060000</td>\n",
       "      <td>350</td>\n",
       "    </tr>\n",
       "    <tr>\n",
       "      <th>B</th>\n",
       "      <td>0.070621</td>\n",
       "      <td>5041</td>\n",
       "    </tr>\n",
       "    <tr>\n",
       "      <th>A</th>\n",
       "      <td>0.080000</td>\n",
       "      <td>25</td>\n",
       "    </tr>\n",
       "    <tr>\n",
       "      <th>C</th>\n",
       "      <td>0.084915</td>\n",
       "      <td>16016</td>\n",
       "    </tr>\n",
       "    <tr>\n",
       "      <th>E</th>\n",
       "      <td>0.090909</td>\n",
       "      <td>22</td>\n",
       "    </tr>\n",
       "  </tbody>\n",
       "</table>\n",
       "</div>"
      ],
      "text/plain": [
       "                           debt  count\n",
       "total_income_category                 \n",
       "D                      0.060000    350\n",
       "B                      0.070621   5041\n",
       "A                      0.080000     25\n",
       "C                      0.084915  16016\n",
       "E                      0.090909     22"
      ]
     },
     "execution_count": 218,
     "metadata": {},
     "output_type": "execute_result"
    }
   ],
   "source": [
    "total_income_category_pivot = pd.pivot_table(df, index='total_income_category', values='debt').sort_values(by='debt',ascending=True) \n",
    "total_income_category_siries = df[['total_income_category']].value_counts()\n",
    "total_income_category_merge = total_income_category_pivot.merge(total_income_category_siries.rename('count'), on='total_income_category', how='left')\n",
    "total_income_category_merge"
   ]
  },
  {
   "cell_type": "markdown",
   "id": "ebfcce83",
   "metadata": {},
   "source": [
    "##### Вывод 3:"
   ]
  },
  {
   "cell_type": "markdown",
   "id": "ba59de97",
   "metadata": {},
   "source": [
    "Минимальная задолжность у людей со средним доходом. Максимальная задолжность – у людей с минимальным доходом.\n",
    "\n",
    "Интересно, что реже всех берут кредиты люди с максимальным и с минимальным доходом. Первым он скорее всего не нужен, а вторым его не дают. \n",
    "\n",
    "Чаще всего кредиты берут люди со средним достатком."
   ]
  },
  {
   "cell_type": "markdown",
   "id": "601d5d11",
   "metadata": {},
   "source": [
    "##### Вопрос 4: Как разные цели кредита влияют на его возврат в срок?"
   ]
  },
  {
   "cell_type": "code",
   "execution_count": 219,
   "id": "d881e84e",
   "metadata": {},
   "outputs": [
    {
     "data": {
      "text/html": [
       "<div>\n",
       "<style scoped>\n",
       "    .dataframe tbody tr th:only-of-type {\n",
       "        vertical-align: middle;\n",
       "    }\n",
       "\n",
       "    .dataframe tbody tr th {\n",
       "        vertical-align: top;\n",
       "    }\n",
       "\n",
       "    .dataframe thead th {\n",
       "        text-align: right;\n",
       "    }\n",
       "</style>\n",
       "<table border=\"1\" class=\"dataframe\">\n",
       "  <thead>\n",
       "    <tr style=\"text-align: right;\">\n",
       "      <th></th>\n",
       "      <th>debt</th>\n",
       "      <th>count</th>\n",
       "    </tr>\n",
       "    <tr>\n",
       "      <th>purpose_category</th>\n",
       "      <th></th>\n",
       "      <th></th>\n",
       "    </tr>\n",
       "  </thead>\n",
       "  <tbody>\n",
       "    <tr>\n",
       "      <th>операции с недвижимостью</th>\n",
       "      <td>0.072334</td>\n",
       "      <td>10811</td>\n",
       "    </tr>\n",
       "    <tr>\n",
       "      <th>проведение свадьбы</th>\n",
       "      <td>0.080034</td>\n",
       "      <td>2324</td>\n",
       "    </tr>\n",
       "    <tr>\n",
       "      <th>получение образования</th>\n",
       "      <td>0.092200</td>\n",
       "      <td>4013</td>\n",
       "    </tr>\n",
       "    <tr>\n",
       "      <th>операции с автомобилем</th>\n",
       "      <td>0.093590</td>\n",
       "      <td>4306</td>\n",
       "    </tr>\n",
       "  </tbody>\n",
       "</table>\n",
       "</div>"
      ],
      "text/plain": [
       "                              debt  count\n",
       "purpose_category                         \n",
       "операции с недвижимостью  0.072334  10811\n",
       "проведение свадьбы        0.080034   2324\n",
       "получение образования     0.092200   4013\n",
       "операции с автомобилем    0.093590   4306"
      ]
     },
     "execution_count": 219,
     "metadata": {},
     "output_type": "execute_result"
    }
   ],
   "source": [
    "purpose_category_pivot = pd.pivot_table(df, index='purpose_category', values='debt').sort_values(by='debt',ascending=True) \n",
    "purpose_category_siries = df[['purpose_category']].value_counts()\n",
    "purpose_category_merge = purpose_category_pivot.merge(purpose_category_siries.rename('count'), on='purpose_category', how='left')\n",
    "purpose_category_merge"
   ]
  },
  {
   "cell_type": "markdown",
   "id": "8c7de31d",
   "metadata": {},
   "source": [
    "##### Вывод 4:"
   ]
  },
  {
   "cell_type": "markdown",
   "id": "bd4cf5c4",
   "metadata": {},
   "source": [
    "Лучше всего возвращают кредиты взятые на операции с недвижимостью.\n",
    "\n",
    "Хуже всего возвращают кредиты взятые на операции с автомобилем."
   ]
  },
  {
   "cell_type": "markdown",
   "id": "8f07c736",
   "metadata": {},
   "source": [
    "## Общий вывод:"
   ]
  },
  {
   "cell_type": "markdown",
   "id": "d5630d27",
   "metadata": {},
   "source": [
    "Лучше всего выплачивают кердиты люди без детей, бывшие до этого в браке, с доходом от 30000 до 50000 и всзявшие его на операции с недвижимостью.\n",
    "\n",
    "Хуже всех выплачвают кердиты люди с 4 и более детьми, с доходом до 30000 и всзявшие его на операции с автомобилем."
   ]
  }
 ],
 "metadata": {
  "kernelspec": {
   "display_name": "Python 3 (ipykernel)",
   "language": "python",
   "name": "python3"
  },
  "language_info": {
   "codemirror_mode": {
    "name": "ipython",
    "version": 3
   },
   "file_extension": ".py",
   "mimetype": "text/x-python",
   "name": "python",
   "nbconvert_exporter": "python",
   "pygments_lexer": "ipython3",
   "version": "3.8.8"
  },
  "toc": {
   "base_numbering": 1,
   "nav_menu": {},
   "number_sections": true,
   "sideBar": true,
   "skip_h1_title": true,
   "title_cell": "Table of Contents",
   "title_sidebar": "Contents",
   "toc_cell": false,
   "toc_position": {},
   "toc_section_display": true,
   "toc_window_display": false
  }
 },
 "nbformat": 4,
 "nbformat_minor": 5
}
