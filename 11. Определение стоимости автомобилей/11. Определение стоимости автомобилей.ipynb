{
 "cells": [
  {
   "cell_type": "markdown",
   "metadata": {},
   "source": [
    "# Определение стоимости автомобилей"
   ]
  },
  {
   "cell_type": "markdown",
   "metadata": {},
   "source": [
    "Сервис по продаже автомобилей с пробегом «Не бит, не крашен» разрабатывает приложение для привлечения новых клиентов. В нём можно быстро узнать рыночную стоимость своего автомобиля. В вашем распоряжении исторические данные: технические характеристики, комплектации и цены автомобилей. Вам нужно построить модель для определения стоимости. \n",
    "\n",
    "Заказчику важны:\n",
    "\n",
    "- качество предсказания;\n",
    "- скорость предсказания;\n",
    "- время обучения."
   ]
  },
  {
   "cell_type": "markdown",
   "metadata": {},
   "source": [
    "## Загрузка данных"
   ]
  },
  {
   "cell_type": "code",
   "execution_count": 50,
   "metadata": {},
   "outputs": [],
   "source": [
    "# Импортируем библиотеки\n",
    "\n",
    "import pandas as pd\n",
    "import numpy as np\n",
    "import matplotlib.pyplot as plt\n",
    "import seaborn as sns\n",
    "import lightgbm as lgb\n",
    "from sklearn.metrics import mean_squared_error as mse\n",
    "from sklearn.model_selection import train_test_split\n",
    "from sklearn.preprocessing import StandardScaler\n",
    "from lightgbm import LGBMRegressor\n",
    "import time\n",
    "from sklearn.linear_model import LinearRegression"
   ]
  },
  {
   "cell_type": "markdown",
   "metadata": {},
   "source": [
    "## Изучение данных"
   ]
  },
  {
   "cell_type": "code",
   "execution_count": 3,
   "metadata": {},
   "outputs": [],
   "source": [
    "# Читаем файл csv\n",
    "\n",
    "df = pd.read_csv('/Users/danil/Desktop/Data Science/Яндекс Практикум Data Science/11/[SW.BAND] [Яндекс.Практикум] Специалист по Data Science Плюс. Часть 11 из 16 (2022)/[SW.BAND] 07 Самостоятельный проект/autos.csv')"
   ]
  },
  {
   "cell_type": "code",
   "execution_count": 4,
   "metadata": {},
   "outputs": [
    {
     "name": "stdout",
     "output_type": "stream",
     "text": [
      "\u001b[1mДанные в таблице\u001b[0m\n"
     ]
    },
    {
     "data": {
      "text/html": [
       "<div>\n",
       "<style scoped>\n",
       "    .dataframe tbody tr th:only-of-type {\n",
       "        vertical-align: middle;\n",
       "    }\n",
       "\n",
       "    .dataframe tbody tr th {\n",
       "        vertical-align: top;\n",
       "    }\n",
       "\n",
       "    .dataframe thead th {\n",
       "        text-align: right;\n",
       "    }\n",
       "</style>\n",
       "<table border=\"1\" class=\"dataframe\">\n",
       "  <thead>\n",
       "    <tr style=\"text-align: right;\">\n",
       "      <th></th>\n",
       "      <th>DateCrawled</th>\n",
       "      <th>Price</th>\n",
       "      <th>VehicleType</th>\n",
       "      <th>RegistrationYear</th>\n",
       "      <th>Gearbox</th>\n",
       "      <th>Power</th>\n",
       "      <th>Model</th>\n",
       "      <th>Kilometer</th>\n",
       "      <th>RegistrationMonth</th>\n",
       "      <th>FuelType</th>\n",
       "      <th>Brand</th>\n",
       "      <th>Repaired</th>\n",
       "      <th>DateCreated</th>\n",
       "      <th>NumberOfPictures</th>\n",
       "      <th>PostalCode</th>\n",
       "      <th>LastSeen</th>\n",
       "    </tr>\n",
       "  </thead>\n",
       "  <tbody>\n",
       "    <tr>\n",
       "      <th>0</th>\n",
       "      <td>2016-03-24 11:52:17</td>\n",
       "      <td>480</td>\n",
       "      <td>NaN</td>\n",
       "      <td>1993</td>\n",
       "      <td>manual</td>\n",
       "      <td>0</td>\n",
       "      <td>golf</td>\n",
       "      <td>150000</td>\n",
       "      <td>0</td>\n",
       "      <td>petrol</td>\n",
       "      <td>volkswagen</td>\n",
       "      <td>NaN</td>\n",
       "      <td>2016-03-24 00:00:00</td>\n",
       "      <td>0</td>\n",
       "      <td>70435</td>\n",
       "      <td>2016-04-07 03:16:57</td>\n",
       "    </tr>\n",
       "    <tr>\n",
       "      <th>1</th>\n",
       "      <td>2016-03-24 10:58:45</td>\n",
       "      <td>18300</td>\n",
       "      <td>coupe</td>\n",
       "      <td>2011</td>\n",
       "      <td>manual</td>\n",
       "      <td>190</td>\n",
       "      <td>NaN</td>\n",
       "      <td>125000</td>\n",
       "      <td>5</td>\n",
       "      <td>gasoline</td>\n",
       "      <td>audi</td>\n",
       "      <td>yes</td>\n",
       "      <td>2016-03-24 00:00:00</td>\n",
       "      <td>0</td>\n",
       "      <td>66954</td>\n",
       "      <td>2016-04-07 01:46:50</td>\n",
       "    </tr>\n",
       "    <tr>\n",
       "      <th>2</th>\n",
       "      <td>2016-03-14 12:52:21</td>\n",
       "      <td>9800</td>\n",
       "      <td>suv</td>\n",
       "      <td>2004</td>\n",
       "      <td>auto</td>\n",
       "      <td>163</td>\n",
       "      <td>grand</td>\n",
       "      <td>125000</td>\n",
       "      <td>8</td>\n",
       "      <td>gasoline</td>\n",
       "      <td>jeep</td>\n",
       "      <td>NaN</td>\n",
       "      <td>2016-03-14 00:00:00</td>\n",
       "      <td>0</td>\n",
       "      <td>90480</td>\n",
       "      <td>2016-04-05 12:47:46</td>\n",
       "    </tr>\n",
       "    <tr>\n",
       "      <th>3</th>\n",
       "      <td>2016-03-17 16:54:04</td>\n",
       "      <td>1500</td>\n",
       "      <td>small</td>\n",
       "      <td>2001</td>\n",
       "      <td>manual</td>\n",
       "      <td>75</td>\n",
       "      <td>golf</td>\n",
       "      <td>150000</td>\n",
       "      <td>6</td>\n",
       "      <td>petrol</td>\n",
       "      <td>volkswagen</td>\n",
       "      <td>no</td>\n",
       "      <td>2016-03-17 00:00:00</td>\n",
       "      <td>0</td>\n",
       "      <td>91074</td>\n",
       "      <td>2016-03-17 17:40:17</td>\n",
       "    </tr>\n",
       "    <tr>\n",
       "      <th>4</th>\n",
       "      <td>2016-03-31 17:25:20</td>\n",
       "      <td>3600</td>\n",
       "      <td>small</td>\n",
       "      <td>2008</td>\n",
       "      <td>manual</td>\n",
       "      <td>69</td>\n",
       "      <td>fabia</td>\n",
       "      <td>90000</td>\n",
       "      <td>7</td>\n",
       "      <td>gasoline</td>\n",
       "      <td>skoda</td>\n",
       "      <td>no</td>\n",
       "      <td>2016-03-31 00:00:00</td>\n",
       "      <td>0</td>\n",
       "      <td>60437</td>\n",
       "      <td>2016-04-06 10:17:21</td>\n",
       "    </tr>\n",
       "  </tbody>\n",
       "</table>\n",
       "</div>"
      ],
      "text/plain": [
       "           DateCrawled  Price VehicleType  RegistrationYear Gearbox  Power  \\\n",
       "0  2016-03-24 11:52:17    480         NaN              1993  manual      0   \n",
       "1  2016-03-24 10:58:45  18300       coupe              2011  manual    190   \n",
       "2  2016-03-14 12:52:21   9800         suv              2004    auto    163   \n",
       "3  2016-03-17 16:54:04   1500       small              2001  manual     75   \n",
       "4  2016-03-31 17:25:20   3600       small              2008  manual     69   \n",
       "\n",
       "   Model  Kilometer  RegistrationMonth  FuelType       Brand Repaired  \\\n",
       "0   golf     150000                  0    petrol  volkswagen      NaN   \n",
       "1    NaN     125000                  5  gasoline        audi      yes   \n",
       "2  grand     125000                  8  gasoline        jeep      NaN   \n",
       "3   golf     150000                  6    petrol  volkswagen       no   \n",
       "4  fabia      90000                  7  gasoline       skoda       no   \n",
       "\n",
       "           DateCreated  NumberOfPictures  PostalCode             LastSeen  \n",
       "0  2016-03-24 00:00:00                 0       70435  2016-04-07 03:16:57  \n",
       "1  2016-03-24 00:00:00                 0       66954  2016-04-07 01:46:50  \n",
       "2  2016-03-14 00:00:00                 0       90480  2016-04-05 12:47:46  \n",
       "3  2016-03-17 00:00:00                 0       91074  2016-03-17 17:40:17  \n",
       "4  2016-03-31 00:00:00                 0       60437  2016-04-06 10:17:21  "
      ]
     },
     "metadata": {},
     "output_type": "display_data"
    },
    {
     "name": "stdout",
     "output_type": "stream",
     "text": [
      "\n",
      "\u001b[1mИнформация о таблице\u001b[0m\n",
      "\n",
      "<class 'pandas.core.frame.DataFrame'>\n",
      "RangeIndex: 354369 entries, 0 to 354368\n",
      "Data columns (total 16 columns):\n",
      " #   Column             Non-Null Count   Dtype \n",
      "---  ------             --------------   ----- \n",
      " 0   DateCrawled        354369 non-null  object\n",
      " 1   Price              354369 non-null  int64 \n",
      " 2   VehicleType        316879 non-null  object\n",
      " 3   RegistrationYear   354369 non-null  int64 \n",
      " 4   Gearbox            334536 non-null  object\n",
      " 5   Power              354369 non-null  int64 \n",
      " 6   Model              334664 non-null  object\n",
      " 7   Kilometer          354369 non-null  int64 \n",
      " 8   RegistrationMonth  354369 non-null  int64 \n",
      " 9   FuelType           321474 non-null  object\n",
      " 10  Brand              354369 non-null  object\n",
      " 11  Repaired           283215 non-null  object\n",
      " 12  DateCreated        354369 non-null  object\n",
      " 13  NumberOfPictures   354369 non-null  int64 \n",
      " 14  PostalCode         354369 non-null  int64 \n",
      " 15  LastSeen           354369 non-null  object\n",
      "dtypes: int64(7), object(9)\n",
      "memory usage: 43.3+ MB\n"
     ]
    },
    {
     "data": {
      "text/plain": [
       "None"
      ]
     },
     "metadata": {},
     "output_type": "display_data"
    },
    {
     "name": "stdout",
     "output_type": "stream",
     "text": [
      "\n",
      "\u001b[1mКолличество пропусков\u001b[0m\n",
      "\n"
     ]
    },
    {
     "data": {
      "text/plain": [
       "DateCrawled              0\n",
       "Price                    0\n",
       "VehicleType          37490\n",
       "RegistrationYear         0\n",
       "Gearbox              19833\n",
       "Power                    0\n",
       "Model                19705\n",
       "Kilometer                0\n",
       "RegistrationMonth        0\n",
       "FuelType             32895\n",
       "Brand                    0\n",
       "Repaired             71154\n",
       "DateCreated              0\n",
       "NumberOfPictures         0\n",
       "PostalCode               0\n",
       "LastSeen                 0\n",
       "dtype: int64"
      ]
     },
     "metadata": {},
     "output_type": "display_data"
    },
    {
     "name": "stdout",
     "output_type": "stream",
     "text": [
      "\n",
      "\u001b[1mКолличество дубликатов:\u001b[0m 4 \n",
      "\n",
      "\n",
      "\u001b[1mКолличество уникальных значений\u001b[0m\n",
      "\n"
     ]
    },
    {
     "data": {
      "text/plain": [
       "DateCrawled          271174\n",
       "Price                  3731\n",
       "VehicleType               8\n",
       "RegistrationYear        151\n",
       "Gearbox                   2\n",
       "Power                   712\n",
       "Model                   250\n",
       "Kilometer                13\n",
       "RegistrationMonth        13\n",
       "FuelType                  7\n",
       "Brand                    40\n",
       "Repaired                  2\n",
       "DateCreated             109\n",
       "NumberOfPictures          1\n",
       "PostalCode             8143\n",
       "LastSeen             179150\n",
       "dtype: int64"
      ]
     },
     "metadata": {},
     "output_type": "display_data"
    }
   ],
   "source": [
    "# Изучим данные\n",
    "\n",
    "print('\\033[1m' + 'Данные в таблице' + '\\033[0m')\n",
    "display(df.head())\n",
    "print('\\n' + '\\033[1m' + 'Информация о таблице' + '\\033[0m' + '\\n')\n",
    "display(df.info())\n",
    "print('\\n' + '\\033[1m' + 'Колличество пропусков' + '\\033[0m' + '\\n')\n",
    "display(df.isna().sum())\n",
    "print(\n",
    "    '\\n' +\n",
    "    '\\033[1m' + 'Колличество дубликатов:' + '\\033[0m', df.duplicated().sum(), \n",
    "    '\\n'\n",
    ")\n",
    "print('\\n' + '\\033[1m' + 'Колличество уникальных значений' + '\\033[0m' + '\\n')\n",
    "display(df.nunique())"
   ]
  },
  {
   "cell_type": "markdown",
   "metadata": {},
   "source": [
    "## Подготовка данных"
   ]
  },
  {
   "cell_type": "code",
   "execution_count": 5,
   "metadata": {},
   "outputs": [],
   "source": [
    "# Удалим дубликаты inplace=True\n",
    "\n",
    "df = df.drop_duplicates().reset_index(drop=True)"
   ]
  },
  {
   "cell_type": "code",
   "execution_count": 6,
   "metadata": {},
   "outputs": [],
   "source": [
    "# Удалим не нужные для обучения столбцы\n",
    "\n",
    "df.drop(['DateCrawled', 'RegistrationMonth', 'DateCreated', 'NumberOfPictures', 'PostalCode', 'LastSeen'], axis=1, inplace=True) "
   ]
  },
  {
   "cell_type": "code",
   "execution_count": 7,
   "metadata": {},
   "outputs": [
    {
     "name": "stdout",
     "output_type": "stream",
     "text": [
      "\n",
      "\n",
      "\u001b[1mVehicleType\u001b[0m\n",
      "\n",
      "['bus', 'convertible', 'coupe', 'other', 'sedan', 'small', 'suv', 'wagon', nan]\n",
      "\n",
      "\n",
      "\u001b[1mModel\u001b[0m\n",
      "\n",
      "['100', '145', '147', '156', '159', '1_reihe', '1er', '200', '2_reihe', '300c', '3_reihe', '3er', '4_reihe', '500', '5_reihe', '5er', '601', '6_reihe', '6er', '7er', '80', '850', '90', '900', '9000', '911', 'a1', 'a2', 'a3', 'a4', 'a5', 'a6', 'a8', 'a_klasse', 'accord', 'agila', 'alhambra', 'almera', 'altea', 'amarok', 'antara', 'arosa', 'astra', 'auris', 'avensis', 'aveo', 'aygo', 'b_klasse', 'b_max', 'beetle', 'berlingo', 'bora', 'boxster', 'bravo', 'c1', 'c2', 'c3', 'c4', 'c5', 'c_klasse', 'c_max', 'c_reihe', 'caddy', 'calibra', 'captiva', 'carisma', 'carnival', 'cayenne', 'cc', 'ceed', 'charade', 'cherokee', 'citigo', 'civic', 'cl', 'clio', 'clk', 'clubman', 'colt', 'combo', 'cooper', 'cordoba', 'corolla', 'corsa', 'cr_reihe', 'croma', 'crossfire', 'cuore', 'cx_reihe', 'defender', 'delta', 'discovery', 'doblo', 'ducato', 'duster', 'e_klasse', 'elefantino', 'eos', 'escort', 'espace', 'exeo', 'fabia', 'fiesta', 'focus', 'forester', 'forfour', 'fortwo', 'fox', 'freelander', 'fusion', 'g_klasse', 'galant', 'galaxy', 'getz', 'gl', 'glk', 'golf', 'grand', 'i3', 'i_reihe', 'ibiza', 'impreza', 'insignia', 'jazz', 'jetta', 'jimny', 'juke', 'justy', 'ka', 'kadett', 'kaefer', 'kalina', 'kalos', 'kangoo', 'kappa', 'kuga', 'laguna', 'lancer', 'lanos', 'legacy', 'leon', 'lodgy', 'logan', 'lupo', 'lybra', 'm_klasse', 'm_reihe', 'materia', 'matiz', 'megane', 'meriva', 'micra', 'mii', 'modus', 'mondeo', 'move', 'musa', 'mustang', 'mx_reihe', 'navara', 'niva', 'note', 'nubira', 'octavia', 'omega', 'one', 'other', 'outlander', 'pajero', 'panda', 'passat', 'phaeton', 'picanto', 'polo', 'primera', 'ptcruiser', 'punto', 'q3', 'q5', 'q7', 'qashqai', 'r19', 'range_rover', 'range_rover_evoque', 'range_rover_sport', 'rangerover', 'rav', 'rio', 'roadster', 'roomster', 'rx_reihe', 's60', 's_klasse', 's_max', 's_type', 'samara', 'sandero', 'santa', 'scenic', 'scirocco', 'seicento', 'serie_1', 'serie_2', 'serie_3', 'sharan', 'signum', 'sirion', 'sl', 'slk', 'sorento', 'spark', 'spider', 'sportage', 'sprinter', 'stilo', 'superb', 'swift', 'terios', 'tigra', 'tiguan', 'toledo', 'touareg', 'touran', 'transit', 'transporter', 'tt', 'tucson', 'twingo', 'up', 'v40', 'v50', 'v60', 'v70', 'v_klasse', 'vectra', 'verso', 'viano', 'vito', 'vivaro', 'voyager', 'wrangler', 'x_reihe', 'x_trail', 'x_type', 'xc_reihe', 'yaris', 'yeti', 'ypsilon', 'z_reihe', 'zafira', nan]\n",
      "\n",
      "\n",
      "\u001b[1mFuelType\u001b[0m\n",
      "\n",
      "['cng', 'electric', 'gasoline', 'hybrid', 'lpg', 'other', 'petrol', nan]\n",
      "\n",
      "\n",
      "\u001b[1mBrand\u001b[0m\n",
      "\n",
      "['alfa_romeo', 'audi', 'bmw', 'chevrolet', 'chrysler', 'citroen', 'dacia', 'daewoo', 'daihatsu', 'fiat', 'ford', 'honda', 'hyundai', 'jaguar', 'jeep', 'kia', 'lada', 'lancia', 'land_rover', 'mazda', 'mercedes_benz', 'mini', 'mitsubishi', 'nissan', 'opel', 'peugeot', 'porsche', 'renault', 'rover', 'saab', 'seat', 'skoda', 'smart', 'sonstige_autos', 'subaru', 'suzuki', 'toyota', 'trabant', 'volkswagen', 'volvo']\n"
     ]
    }
   ],
   "source": [
    "# Напечатаем список уникальных значений в столбце country\n",
    "\n",
    "column_list = [\n",
    "    'VehicleType',\n",
    "    'Model', \n",
    "    'FuelType', 'Brand'\n",
    "]\n",
    "\n",
    "for i in column_list:\n",
    "    print('\\n' + '\\n' + '\\033[1m' + i + '\\033[0m' + '\\n')\n",
    "    print(df[i].sort_values().unique().tolist())"
   ]
  },
  {
   "cell_type": "code",
   "execution_count": 8,
   "metadata": {},
   "outputs": [],
   "source": [
    "# Зменим все пропуски в столбцах VehicleType и FuelType на значение other\n",
    "\n",
    "df[['VehicleType', 'FuelType']] = df[['VehicleType', 'FuelType']].fillna('other')"
   ]
  },
  {
   "cell_type": "code",
   "execution_count": 9,
   "metadata": {},
   "outputs": [],
   "source": [
    "# Заменим значение petrol на gasoline в столбце FuelType\n",
    "# так как это одно и тоже\n",
    "\n",
    "df['FuelType'] = df['FuelType'].replace('petrol', 'gasoline')"
   ]
  },
  {
   "cell_type": "code",
   "execution_count": 10,
   "metadata": {},
   "outputs": [],
   "source": [
    "# Заменим значение sonstige_autos на other в столбце Brand\n",
    "# это одно и тоже, но так понятнее\n",
    "\n",
    "df['Brand'] = df['Brand'].replace('sonstige_autos', 'other')"
   ]
  },
  {
   "cell_type": "code",
   "execution_count": 11,
   "metadata": {},
   "outputs": [],
   "source": [
    "# Заменим значение rover на land_rover в столбце Brand\n",
    "# так как это тот же самый бренд\n",
    "\n",
    "df['Brand'] = df['Brand'].replace('rover', 'land_rover')"
   ]
  },
  {
   "cell_type": "code",
   "execution_count": 12,
   "metadata": {},
   "outputs": [
    {
     "name": "stdout",
     "output_type": "stream",
     "text": [
      "\n",
      "\n",
      "\u001b[1mRegistrationYear\u001b[0m\n",
      "\n"
     ]
    },
    {
     "data": {
      "image/png": "[encoded data removed]",
      "text/plain": [
       "<Figure size 640x480 with 1 Axes>"
      ]
     },
     "metadata": {},
     "output_type": "display_data"
    },
    {
     "name": "stdout",
     "output_type": "stream",
     "text": [
      "count    354365.000000\n",
      "mean       2004.234481\n",
      "std          90.228466\n",
      "min        1000.000000\n",
      "25%        1999.000000\n",
      "50%        2003.000000\n",
      "75%        2008.000000\n",
      "max        9999.000000\n",
      "Name: RegistrationYear, dtype: float64\n",
      "\n",
      "\n",
      "\u001b[1mPower\u001b[0m\n",
      "\n"
     ]
    },
    {
     "data": {
      "image/png": "[encoded data removed]",
      "text/plain": [
       "<Figure size 640x480 with 1 Axes>"
      ]
     },
     "metadata": {},
     "output_type": "display_data"
    },
    {
     "name": "stdout",
     "output_type": "stream",
     "text": [
      "count    354365.000000\n",
      "mean        110.093816\n",
      "std         189.851330\n",
      "min           0.000000\n",
      "25%          69.000000\n",
      "50%         105.000000\n",
      "75%         143.000000\n",
      "max       20000.000000\n",
      "Name: Power, dtype: float64\n",
      "\n",
      "\n",
      "\u001b[1mKilometer\u001b[0m\n",
      "\n"
     ]
    },
    {
     "data": {
      "image/png": "[encoded data removed]",
      "text/plain": [
       "<Figure size 640x480 with 1 Axes>"
      ]
     },
     "metadata": {},
     "output_type": "display_data"
    },
    {
     "name": "stdout",
     "output_type": "stream",
     "text": [
      "count    354365.000000\n",
      "mean     128211.363989\n",
      "std       37905.083858\n",
      "min        5000.000000\n",
      "25%      125000.000000\n",
      "50%      150000.000000\n",
      "75%      150000.000000\n",
      "max      150000.000000\n",
      "Name: Kilometer, dtype: float64\n"
     ]
    }
   ],
   "source": [
    "# Построим boxplot для трех признаков\n",
    "\n",
    "column_list_2 = [\n",
    "    'RegistrationYear',\n",
    "    'Power', \n",
    "    'Kilometer'\n",
    "]\n",
    "\n",
    "for i in column_list_2:\n",
    "    print('\\n' + '\\n' + '\\033[1m' + i + '\\033[0m' + '\\n')\n",
    "    df.boxplot(column=i) \n",
    "    plt.show()\n",
    "    print(df[i].describe())"
   ]
  },
  {
   "cell_type": "code",
   "execution_count": 13,
   "metadata": {},
   "outputs": [],
   "source": [
    "# Уберем неадекватные года регистрации и мощбность\n",
    "\n",
    "df = df.query('1980 < RegistrationYear < 2022 and 50 < Power < 500')"
   ]
  },
  {
   "cell_type": "code",
   "execution_count": 14,
   "metadata": {},
   "outputs": [
    {
     "data": {
      "image/png": "[encoded data removed]",
      "text/plain": [
       "<Figure size 500x500 with 1 Axes>"
      ]
     },
     "metadata": {},
     "output_type": "display_data"
    }
   ],
   "source": [
    "# Построим гистограмму цен\n",
    "\n",
    "sns.displot(data=df['Price'], kde=True)\n",
    "plt.show()"
   ]
  },
  {
   "cell_type": "code",
   "execution_count": 15,
   "metadata": {},
   "outputs": [
    {
     "data": {
      "image/png": "[encoded data removed]",
      "text/plain": [
       "<Figure size 640x480 with 2 Axes>"
      ]
     },
     "metadata": {},
     "output_type": "display_data"
    }
   ],
   "source": [
    "# Посмотрим тепловую карту кореляции числовых признаков от цены\n",
    "\n",
    "sns.heatmap(df.corr(numeric_only=True), annot=True)\n",
    "plt.show()"
   ]
  },
  {
   "cell_type": "code",
   "execution_count": 16,
   "metadata": {},
   "outputs": [],
   "source": [
    "# Сменим тип категориальных признаков на category\n",
    "\n",
    "categoric_list = ['VehicleType', 'Gearbox', 'Model', 'FuelType', 'Brand', 'Repaired']\n",
    "\n",
    "df[categoric_list] = df[categoric_list].astype('category')"
   ]
  },
  {
   "cell_type": "markdown",
   "metadata": {},
   "source": [
    "###  Вывод подготовки данных\n",
    "\n",
    "1. Удалил 4 дубликата\n",
    "2. Удалил не нужные для обучения столбцы, относящиеся к заполнению анкеты, но не к самому автомабилю\n",
    "3. Заменил пропуски на other\n",
    "4. Ограничил год регистрации авто с 1980-го до 2022-го\n",
    "5. Ограничил мощность авто с 50 л.с. до 500 л.с."
   ]
  },
  {
   "cell_type": "markdown",
   "metadata": {},
   "source": [
    "## Обучение моделей"
   ]
  },
  {
   "cell_type": "code",
   "execution_count": 106,
   "metadata": {},
   "outputs": [],
   "source": [
    "# Создадим списки для анализа моделей\n",
    "\n",
    "fit_time = []\n",
    "pred_time = []\n",
    "rmse_list = []"
   ]
  },
  {
   "cell_type": "markdown",
   "metadata": {},
   "source": [
    "### LightGBM"
   ]
  },
  {
   "cell_type": "code",
   "execution_count": 18,
   "metadata": {},
   "outputs": [],
   "source": [
    "# Разделим данные на тренировочную и валидационную выборку\n",
    "\n",
    "features_train, features_valid, target_train, target_valid = train_test_split(\n",
    "    df.drop('Price', axis=1), df.Price, test_size=0.25, random_state=12345\n",
    ")"
   ]
  },
  {
   "cell_type": "code",
   "execution_count": 19,
   "metadata": {},
   "outputs": [],
   "source": [
    "# Масштабируем численные признаки\n",
    "\n",
    "numeric_list = ['RegistrationYear', 'Power', 'Kilometer']\n",
    "\n",
    "scaler = StandardScaler()\n",
    "scaler.fit(df[numeric_list])\n",
    "features_train[numeric_list] = scaler.transform(features_train[numeric_list])\n",
    "features_valid[numeric_list] = scaler.transform(features_valid[numeric_list])"
   ]
  },
  {
   "cell_type": "code",
   "execution_count": 20,
   "metadata": {},
   "outputs": [],
   "source": [
    "# Создадим датасеты для модели LightGBM\n",
    "\n",
    "train_data = lgb.Dataset(features_train, label=target_train)\n",
    "test_data = lgb.Dataset(features_valid, label=target_valid, reference=train_data)"
   ]
  },
  {
   "cell_type": "code",
   "execution_count": 21,
   "metadata": {},
   "outputs": [],
   "source": [
    "# Подготовим параметры для модели LightGBM\n",
    "\n",
    "params = {\n",
    "\t'objective': 'regression',\n",
    "\t'metric': 'rmse',\n",
    "\t'boosting_type': 'gbdt',\n",
    "\t'num_leaves': 31,\n",
    "\t'learning_rate': 0.05,\n",
    "\t'feature_fraction': 0.9,\n",
    "}"
   ]
  },
  {
   "cell_type": "code",
   "execution_count": 22,
   "metadata": {},
   "outputs": [
    {
     "name": "stdout",
     "output_type": "stream",
     "text": [
      "[LightGBM] [Info] Auto-choosing row-wise multi-threading, the overhead of testing was 0.006130 seconds.\n",
      "You can set `force_row_wise=true` to remove the overhead.\n",
      "And if memory is not enough, you can set `force_col_wise=true`.\n",
      "[LightGBM] [Info] Total Bins 588\n",
      "[LightGBM] [Info] Number of data points in the train set: 225901, number of used features: 9\n",
      "[LightGBM] [Info] Start training from score 4795.854914\n",
      "Training until validation scores don't improve for 3 rounds\n",
      "Did not meet early stopping. Best iteration is:\n",
      "[100]\tvalid_0's rmse: 1756.61\n"
     ]
    }
   ],
   "source": [
    "# Установим количество раундов и обучите модель с ранней остановкой\n",
    "\n",
    "num_round = 100\n",
    "bst = lgb.train(params, train_data, num_round, valid_sets=[\n",
    "\t\t\t\ttest_data], callbacks=[lgb.early_stopping(stopping_rounds=3),])"
   ]
  },
  {
   "cell_type": "code",
   "execution_count": 108,
   "metadata": {},
   "outputs": [
    {
     "name": "stdout",
     "output_type": "stream",
     "text": [
      "[LightGBM] [Info] Auto-choosing row-wise multi-threading, the overhead of testing was 0.005364 seconds.\n",
      "You can set `force_row_wise=true` to remove the overhead.\n",
      "And if memory is not enough, you can set `force_col_wise=true`.\n",
      "[LightGBM] [Info] Total Bins 588\n",
      "[LightGBM] [Info] Number of data points in the train set: 225901, number of used features: 9\n",
      "[LightGBM] [Info] Start training from score 4795.854914\n"
     ]
    }
   ],
   "source": [
    "# Создадим экземпляр LightGBM Regressor с метрикой RMSE\n",
    "# Обучим модель, используя обучающие данные\n",
    "# Сделаем прогнозы на основе данных обучения и проверки\n",
    "\n",
    "model = LGBMRegressor(metric='rmse')\n",
    "\n",
    "start = time.time()\n",
    "model.fit(features_train, target_train)\n",
    "end = time.time()\n",
    "fit_time.append(end - start)\n",
    "\n",
    "predict_train = model.predict(features_train)\n",
    "predict_valid = model.predict(features_valid)"
   ]
  },
  {
   "cell_type": "code",
   "execution_count": 109,
   "metadata": {},
   "outputs": [
    {
     "name": "stdout",
     "output_type": "stream",
     "text": [
      "RMSE тренировочной выборки: 1669.3726627567712\n",
      "RMSE валидационной выборки: 1715.4307644264297\n"
     ]
    }
   ],
   "source": [
    "# Посчитаем RMSE\n",
    "\n",
    "print(\"RMSE тренировочной выборки:\", np.sqrt(mse(target_train, predict_train)))\n",
    "start = time.time()\n",
    "lgbm_pred = np.sqrt(mse(target_valid, predict_valid))\n",
    "end = time.time()\n",
    "print(\"RMSE валидационной выборки:\", lgbm_pred)\n",
    "pred_time.append(end - start)\n",
    "rmse_list.append(lgbm_pred)"
   ]
  },
  {
   "cell_type": "markdown",
   "metadata": {},
   "source": [
    "### LinearRegression"
   ]
  },
  {
   "cell_type": "code",
   "execution_count": 59,
   "metadata": {},
   "outputs": [],
   "source": [
    "# Создадим 2 списка категориальных признаков\n",
    "\n",
    "ohe_list = [\n",
    "    'VehicleType',\n",
    "    'Model',\n",
    "    'FuelType',\n",
    "    'Brand',\n",
    "]\n",
    "\n",
    "ohe_list_drop = [\n",
    "    'Gearbox',\n",
    "    'Repaired',\n",
    "]"
   ]
  },
  {
   "cell_type": "code",
   "execution_count": 60,
   "metadata": {},
   "outputs": [],
   "source": [
    "# Произведем one hot encoding категориальных признаков\n",
    "\n",
    "data_ohe_train = pd.get_dummies(features_train, columns=ohe_list)\n",
    "data_ohe_train = pd.get_dummies(data_ohe_train, columns=ohe_list_drop, drop_first=True)\n",
    "\n",
    "data_ohe_valid = pd.get_dummies(features_valid, columns=ohe_list)\n",
    "data_ohe_valid = pd.get_dummies(data_ohe_valid, columns=ohe_list_drop, drop_first=True)"
   ]
  },
  {
   "cell_type": "code",
   "execution_count": 110,
   "metadata": {},
   "outputs": [],
   "source": [
    "# Создадим модель LinearRegression\n",
    "# Обучим, используя обучающие данные\n",
    "# Сделаем прогнозы на основе обучающе и валидационной выборки\n",
    "\n",
    "model = LinearRegression()\n",
    "\n",
    "start = time.time()\n",
    "model.fit(data_ohe_train, target_train)\n",
    "end = time.time()\n",
    "fit_time.append(end - start)\n",
    "\n",
    "predict_train = model.predict(data_ohe_train)\n",
    "predict_valid = model.predict(data_ohe_valid)"
   ]
  },
  {
   "cell_type": "code",
   "execution_count": 111,
   "metadata": {},
   "outputs": [
    {
     "name": "stdout",
     "output_type": "stream",
     "text": [
      "RMSE тренировочной выборки: 2550.27788923312\n",
      "RMSE валидационной выборки: 2535.7880998790174\n"
     ]
    }
   ],
   "source": [
    "# Посчитаем RMSE линейной регрессии\n",
    "\n",
    "print(\"RMSE тренировочной выборки:\", np.sqrt(mse(target_train, predict_train)))\n",
    "start = time.time()\n",
    "linear_pred = np.sqrt(mse(target_valid, predict_valid))\n",
    "end = time.time()\n",
    "print(\"RMSE валидационной выборки:\", linear_pred)\n",
    "pred_time.append(end - start)\n",
    "rmse_list.append(linear_pred)"
   ]
  },
  {
   "cell_type": "markdown",
   "metadata": {},
   "source": [
    "## Анализ моделей"
   ]
  },
  {
   "cell_type": "code",
   "execution_count": 113,
   "metadata": {},
   "outputs": [
    {
     "data": {
      "text/html": [
       "<div>\n",
       "<style scoped>\n",
       "    .dataframe tbody tr th:only-of-type {\n",
       "        vertical-align: middle;\n",
       "    }\n",
       "\n",
       "    .dataframe tbody tr th {\n",
       "        vertical-align: top;\n",
       "    }\n",
       "\n",
       "    .dataframe thead th {\n",
       "        text-align: right;\n",
       "    }\n",
       "</style>\n",
       "<table border=\"1\" class=\"dataframe\">\n",
       "  <thead>\n",
       "    <tr style=\"text-align: right;\">\n",
       "      <th></th>\n",
       "      <th>LightGBM</th>\n",
       "      <th>LinearRegression</th>\n",
       "    </tr>\n",
       "  </thead>\n",
       "  <tbody>\n",
       "    <tr>\n",
       "      <th>Время обучения</th>\n",
       "      <td>0.504631</td>\n",
       "      <td>5.472307</td>\n",
       "    </tr>\n",
       "    <tr>\n",
       "      <th>Время предсказания</th>\n",
       "      <td>0.001083</td>\n",
       "      <td>0.001961</td>\n",
       "    </tr>\n",
       "    <tr>\n",
       "      <th>RMSE</th>\n",
       "      <td>1715.430764</td>\n",
       "      <td>2535.788100</td>\n",
       "    </tr>\n",
       "  </tbody>\n",
       "</table>\n",
       "</div>"
      ],
      "text/plain": [
       "                       LightGBM  LinearRegression\n",
       "Время обучения         0.504631          5.472307\n",
       "Время предсказания     0.001083          0.001961\n",
       "RMSE                1715.430764       2535.788100"
      ]
     },
     "execution_count": 113,
     "metadata": {},
     "output_type": "execute_result"
    }
   ],
   "source": [
    "# Строим таблицу результатов\n",
    "\n",
    "pd.DataFrame(data=[fit_time, pred_time, rmse_list], columns=['LightGBM','LinearRegression'], \n",
    "                          index=['Время обучения', 'Время предсказания', 'RMSE'])"
   ]
  },
  {
   "cell_type": "markdown",
   "metadata": {},
   "source": [
    "## Вывод\n",
    "\n",
    "**Модель градиентного бустинга LightGBM показала результаты лучше чем линейная регрессия по всем заданным критериям. **\n",
    "* Время обучения в 11 раз быстрее\n",
    "* Время предсказания почти в 2 раза быстрее\n",
    "* Ошибка в 1.5 раз меньше"
   ]
  },
  {
   "cell_type": "code",
   "execution_count": null,
   "metadata": {},
   "outputs": [],
   "source": []
  },
  {
   "cell_type": "markdown",
   "metadata": {},
   "source": [
    "## Чек-лист проверки"
   ]
  },
  {
   "cell_type": "markdown",
   "metadata": {},
   "source": [
    "Поставьте 'x' в выполненных пунктах. Далее нажмите Shift+Enter."
   ]
  },
  {
   "cell_type": "markdown",
   "metadata": {},
   "source": [
    "- [x]  Jupyter Notebook открыт\n",
    "- [x]  Весь код выполняется без ошибок\n",
    "- [x]  Ячейки с кодом расположены в порядке исполнения\n",
    "- [x]  Выполнена загрузка и подготовка данных\n",
    "- [x]  Выполнено обучение моделей\n",
    "- [x]  Есть анализ скорости работы и качества моделей"
   ]
  }
 ],
 "metadata": {
  "kernelspec": {
   "display_name": "Python 3 (ipykernel)",
   "language": "python",
   "name": "python3"
  },
  "language_info": {
   "codemirror_mode": {
    "name": "ipython",
    "version": 3
   },
   "file_extension": ".py",
   "mimetype": "text/x-python",
   "name": "python",
   "nbconvert_exporter": "python",
   "pygments_lexer": "ipython3",
   "version": "3.12.2"
  },
  "toc": {
   "base_numbering": 1,
   "nav_menu": {},
   "number_sections": true,
   "sideBar": true,
   "skip_h1_title": true,
   "title_cell": "Table of Contents",
   "title_sidebar": "Contents",
   "toc_cell": false,
   "toc_position": {},
   "toc_section_display": true,
   "toc_window_display": false
  }
 },
 "nbformat": 4,
 "nbformat_minor": 4
}
